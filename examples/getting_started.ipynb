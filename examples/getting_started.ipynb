{
 "cells": [
  {
   "metadata": {},
   "cell_type": "markdown",
   "source": "# Getting Started",
   "id": "db4f3af00658d6d9"
  },
  {
   "cell_type": "code",
   "id": "initial_id",
   "metadata": {
    "collapsed": true,
    "ExecuteTime": {
     "end_time": "2025-07-15T20:30:11.233224Z",
     "start_time": "2025-07-15T20:30:00.931325Z"
    }
   },
   "source": "from data_gatherer.data_gatherer import DataGatherer",
   "outputs": [],
   "execution_count": 1
  },
  {
   "metadata": {
    "ExecuteTime": {
     "end_time": "2025-07-15T20:30:11.245677Z",
     "start_time": "2025-07-15T20:30:11.235537Z"
    }
   },
   "cell_type": "code",
   "source": "data_gatherer = DataGatherer(llm_name=\"gemini-2.0-flash\")",
   "id": "34f3046b7ea80e86",
   "outputs": [],
   "execution_count": 2
  },
  {
   "metadata": {
    "ExecuteTime": {
     "end_time": "2025-07-15T20:30:11.251873Z",
     "start_time": "2025-07-15T20:30:11.247348Z"
    }
   },
   "cell_type": "code",
   "source": "input_articles = [\"https://www.ncbi.nlm.nih.gov/pmc/articles/PMC8628860\",\"https://www.ncbi.nlm.nih.gov/pmc/articles/PMC11129317\",\"https://www.ncbi.nlm.nih.gov/pmc/articles/PMC11425778\",\"https://www.ncbi.nlm.nih.gov/pmc/articles/PMC5313262\"]",
   "id": "b50f0289f8a85d1d",
   "outputs": [],
   "execution_count": 3
  },
  {
   "metadata": {
    "ExecuteTime": {
     "end_time": "2025-07-15T20:31:44.578362Z",
     "start_time": "2025-07-15T20:30:34.806250Z"
    }
   },
   "cell_type": "code",
   "source": "parsed_data = data_gatherer.process_articles(input_articles, semantic_retrieval=True, section_filter='data_availability_statement')",
   "id": "7c532d5582f6d1a7",
   "outputs": [
    {
     "data": {
      "text/plain": [
       "Batches:   0%|          | 0/5 [00:00<?, ?it/s]"
      ],
      "application/vnd.jupyter.widget-view+json": {
       "version_major": 2,
       "version_minor": 0,
       "model_id": "bee3c75cc520470eb3044d25cf75529f"
      }
     },
     "metadata": {},
     "output_type": "display_data"
    },
    {
     "data": {
      "text/plain": [
       "Batches:   0%|          | 0/2 [00:00<?, ?it/s]"
      ],
      "application/vnd.jupyter.widget-view+json": {
       "version_major": 2,
       "version_minor": 0,
       "model_id": "561a9f2551214339b3dae5fa4370baad"
      }
     },
     "metadata": {},
     "output_type": "display_data"
    },
    {
     "data": {
      "text/plain": [
       "Batches:   0%|          | 0/2 [00:00<?, ?it/s]"
      ],
      "application/vnd.jupyter.widget-view+json": {
       "version_major": 2,
       "version_minor": 0,
       "model_id": "db1e4f7df88b4f42bf722defce28d463"
      }
     },
     "metadata": {},
     "output_type": "display_data"
    },
    {
     "data": {
      "text/plain": [
       "Batches:   0%|          | 0/1 [00:00<?, ?it/s]"
      ],
      "application/vnd.jupyter.widget-view+json": {
       "version_major": 2,
       "version_minor": 0,
       "model_id": "68a5385dc5c449699365bbe691ab4723"
      }
     },
     "metadata": {},
     "output_type": "display_data"
    }
   ],
   "execution_count": 4
  },
  {
   "metadata": {
    "ExecuteTime": {
     "end_time": "2025-07-15T20:33:56.612820Z",
     "start_time": "2025-07-15T20:33:56.558597Z"
    }
   },
   "cell_type": "code",
   "source": [
    "for k, v in parsed_data.items():\n",
    "    print(f\"Datasets extracted from article: {k}\")\n",
    "    display(v)"
   ],
   "id": "4e3896522649a12a",
   "outputs": [
    {
     "name": "stdout",
     "output_type": "stream",
     "text": [
      "Datasets extracted from article: https://www.ncbi.nlm.nih.gov/pmc/articles/PMC8628860\n"
     ]
    },
    {
     "data": {
      "text/plain": [
       "  dataset_identifier           data_repository dataset_webpage  \\\n",
       "0                n/a  data.humantumoratlas.org             n/a   \n",
       "1                n/a         mskcc.ionpath.com             n/a   \n",
       "\n",
       "                                          source_url  \\\n",
       "0  https://www.ncbi.nlm.nih.gov/pmc/articles/PMC8...   \n",
       "1  https://www.ncbi.nlm.nih.gov/pmc/articles/PMC8...   \n",
       "\n",
       "                                           pub_title  \n",
       "0  Signatures of plasticity, metastasis, and immu...  \n",
       "1  Signatures of plasticity, metastasis, and immu...  "
      ],
      "text/html": [
       "<div>\n",
       "<style scoped>\n",
       "    .dataframe tbody tr th:only-of-type {\n",
       "        vertical-align: middle;\n",
       "    }\n",
       "\n",
       "    .dataframe tbody tr th {\n",
       "        vertical-align: top;\n",
       "    }\n",
       "\n",
       "    .dataframe thead th {\n",
       "        text-align: right;\n",
       "    }\n",
       "</style>\n",
       "<table border=\"1\" class=\"dataframe\">\n",
       "  <thead>\n",
       "    <tr style=\"text-align: right;\">\n",
       "      <th></th>\n",
       "      <th>dataset_identifier</th>\n",
       "      <th>data_repository</th>\n",
       "      <th>dataset_webpage</th>\n",
       "      <th>source_url</th>\n",
       "      <th>pub_title</th>\n",
       "    </tr>\n",
       "  </thead>\n",
       "  <tbody>\n",
       "    <tr>\n",
       "      <th>0</th>\n",
       "      <td>n/a</td>\n",
       "      <td>data.humantumoratlas.org</td>\n",
       "      <td>n/a</td>\n",
       "      <td>https://www.ncbi.nlm.nih.gov/pmc/articles/PMC8...</td>\n",
       "      <td>Signatures of plasticity, metastasis, and immu...</td>\n",
       "    </tr>\n",
       "    <tr>\n",
       "      <th>1</th>\n",
       "      <td>n/a</td>\n",
       "      <td>mskcc.ionpath.com</td>\n",
       "      <td>n/a</td>\n",
       "      <td>https://www.ncbi.nlm.nih.gov/pmc/articles/PMC8...</td>\n",
       "      <td>Signatures of plasticity, metastasis, and immu...</td>\n",
       "    </tr>\n",
       "  </tbody>\n",
       "</table>\n",
       "</div>"
      ]
     },
     "metadata": {},
     "output_type": "display_data"
    },
    {
     "name": "stdout",
     "output_type": "stream",
     "text": [
      "Datasets extracted from article: https://www.ncbi.nlm.nih.gov/pmc/articles/PMC11129317\n"
     ]
    },
    {
     "data": {
      "text/plain": [
       "       dataset_identifier data_repository  \\\n",
       "0                     PDC  pdc.cancer.gov   \n",
       "1               PXD043612   www.ebi.ac.uk   \n",
       "2   10.17632/3wfxrz66w2.1         doi.org   \n",
       "3   10.17632/bvdn865y9c.1         doi.org   \n",
       "4               PDC000234  pdc.cancer.gov   \n",
       "5               PDC000127  pdc.cancer.gov   \n",
       "6               PDC000204  pdc.cancer.gov   \n",
       "7               PDC000221  pdc.cancer.gov   \n",
       "8               PDC000198  pdc.cancer.gov   \n",
       "9               PDC000110  pdc.cancer.gov   \n",
       "10              PDC000270  pdc.cancer.gov   \n",
       "11              PDC000125  pdc.cancer.gov   \n",
       "12              PDC000153  pdc.cancer.gov   \n",
       "13              PXD043612   www.ebi.ac.uk   \n",
       "\n",
       "                                      dataset_webpage     source_section  \\\n",
       "0   https://proteomic.datacommons.cancer.gov/pdc/s...  data_availability   \n",
       "1   https://www.ebi.ac.uk/pride/archive/projects/P...  data_availability   \n",
       "2               https://doi.org/10.17632/3wfxrz66w2.1  data_availability   \n",
       "3               https://doi.org/10.17632/bvdn865y9c.1  data_availability   \n",
       "4   https://proteomic.datacommons.cancer.gov/pdc/s...  data_availability   \n",
       "5   https://proteomic.datacommons.cancer.gov/pdc/s...  data_availability   \n",
       "6   https://proteomic.datacommons.cancer.gov/pdc/s...  data_availability   \n",
       "7   https://proteomic.datacommons.cancer.gov/pdc/s...  data_availability   \n",
       "8   https://proteomic.datacommons.cancer.gov/pdc/s...  data_availability   \n",
       "9   https://proteomic.datacommons.cancer.gov/pdc/s...  data_availability   \n",
       "10  https://proteomic.datacommons.cancer.gov/pdc/s...  data_availability   \n",
       "11  https://proteomic.datacommons.cancer.gov/pdc/s...  data_availability   \n",
       "12  https://proteomic.datacommons.cancer.gov/pdc/s...  data_availability   \n",
       "13  https://www.ebi.ac.uk/pride/archive/projects/P...  data_availability   \n",
       "\n",
       "    retrieval_pattern                                access_mode  \\\n",
       "0   data availability  Complex download or Application to access   \n",
       "1   data availability                           Complex download   \n",
       "2   data availability                                        NaN   \n",
       "3   data availability                                        NaN   \n",
       "4   data availability  Complex download or Application to access   \n",
       "5   data availability  Complex download or Application to access   \n",
       "6   data availability  Complex download or Application to access   \n",
       "7   data availability  Complex download or Application to access   \n",
       "8   data availability  Complex download or Application to access   \n",
       "9   data availability  Complex download or Application to access   \n",
       "10  data availability  Complex download or Application to access   \n",
       "11  data availability  Complex download or Application to access   \n",
       "12  data availability  Complex download or Application to access   \n",
       "13  data availability                           Complex download   \n",
       "\n",
       "                                            pub_title  \n",
       "0   Arginine deprivation enriches lung cancer prot...  \n",
       "1   Arginine deprivation enriches lung cancer prot...  \n",
       "2   Arginine deprivation enriches lung cancer prot...  \n",
       "3   Arginine deprivation enriches lung cancer prot...  \n",
       "4   Arginine deprivation enriches lung cancer prot...  \n",
       "5   Arginine deprivation enriches lung cancer prot...  \n",
       "6   Arginine deprivation enriches lung cancer prot...  \n",
       "7   Arginine deprivation enriches lung cancer prot...  \n",
       "8   Arginine deprivation enriches lung cancer prot...  \n",
       "9   Arginine deprivation enriches lung cancer prot...  \n",
       "10  Arginine deprivation enriches lung cancer prot...  \n",
       "11  Arginine deprivation enriches lung cancer prot...  \n",
       "12  Arginine deprivation enriches lung cancer prot...  \n",
       "13  Arginine deprivation enriches lung cancer prot...  "
      ],
      "text/html": [
       "<div>\n",
       "<style scoped>\n",
       "    .dataframe tbody tr th:only-of-type {\n",
       "        vertical-align: middle;\n",
       "    }\n",
       "\n",
       "    .dataframe tbody tr th {\n",
       "        vertical-align: top;\n",
       "    }\n",
       "\n",
       "    .dataframe thead th {\n",
       "        text-align: right;\n",
       "    }\n",
       "</style>\n",
       "<table border=\"1\" class=\"dataframe\">\n",
       "  <thead>\n",
       "    <tr style=\"text-align: right;\">\n",
       "      <th></th>\n",
       "      <th>dataset_identifier</th>\n",
       "      <th>data_repository</th>\n",
       "      <th>dataset_webpage</th>\n",
       "      <th>source_section</th>\n",
       "      <th>retrieval_pattern</th>\n",
       "      <th>access_mode</th>\n",
       "      <th>pub_title</th>\n",
       "    </tr>\n",
       "  </thead>\n",
       "  <tbody>\n",
       "    <tr>\n",
       "      <th>0</th>\n",
       "      <td>PDC</td>\n",
       "      <td>pdc.cancer.gov</td>\n",
       "      <td>https://proteomic.datacommons.cancer.gov/pdc/s...</td>\n",
       "      <td>data_availability</td>\n",
       "      <td>data availability</td>\n",
       "      <td>Complex download or Application to access</td>\n",
       "      <td>Arginine deprivation enriches lung cancer prot...</td>\n",
       "    </tr>\n",
       "    <tr>\n",
       "      <th>1</th>\n",
       "      <td>PXD043612</td>\n",
       "      <td>www.ebi.ac.uk</td>\n",
       "      <td>https://www.ebi.ac.uk/pride/archive/projects/P...</td>\n",
       "      <td>data_availability</td>\n",
       "      <td>data availability</td>\n",
       "      <td>Complex download</td>\n",
       "      <td>Arginine deprivation enriches lung cancer prot...</td>\n",
       "    </tr>\n",
       "    <tr>\n",
       "      <th>2</th>\n",
       "      <td>10.17632/3wfxrz66w2.1</td>\n",
       "      <td>doi.org</td>\n",
       "      <td>https://doi.org/10.17632/3wfxrz66w2.1</td>\n",
       "      <td>data_availability</td>\n",
       "      <td>data availability</td>\n",
       "      <td>NaN</td>\n",
       "      <td>Arginine deprivation enriches lung cancer prot...</td>\n",
       "    </tr>\n",
       "    <tr>\n",
       "      <th>3</th>\n",
       "      <td>10.17632/bvdn865y9c.1</td>\n",
       "      <td>doi.org</td>\n",
       "      <td>https://doi.org/10.17632/bvdn865y9c.1</td>\n",
       "      <td>data_availability</td>\n",
       "      <td>data availability</td>\n",
       "      <td>NaN</td>\n",
       "      <td>Arginine deprivation enriches lung cancer prot...</td>\n",
       "    </tr>\n",
       "    <tr>\n",
       "      <th>4</th>\n",
       "      <td>PDC000234</td>\n",
       "      <td>pdc.cancer.gov</td>\n",
       "      <td>https://proteomic.datacommons.cancer.gov/pdc/s...</td>\n",
       "      <td>data_availability</td>\n",
       "      <td>data availability</td>\n",
       "      <td>Complex download or Application to access</td>\n",
       "      <td>Arginine deprivation enriches lung cancer prot...</td>\n",
       "    </tr>\n",
       "    <tr>\n",
       "      <th>5</th>\n",
       "      <td>PDC000127</td>\n",
       "      <td>pdc.cancer.gov</td>\n",
       "      <td>https://proteomic.datacommons.cancer.gov/pdc/s...</td>\n",
       "      <td>data_availability</td>\n",
       "      <td>data availability</td>\n",
       "      <td>Complex download or Application to access</td>\n",
       "      <td>Arginine deprivation enriches lung cancer prot...</td>\n",
       "    </tr>\n",
       "    <tr>\n",
       "      <th>6</th>\n",
       "      <td>PDC000204</td>\n",
       "      <td>pdc.cancer.gov</td>\n",
       "      <td>https://proteomic.datacommons.cancer.gov/pdc/s...</td>\n",
       "      <td>data_availability</td>\n",
       "      <td>data availability</td>\n",
       "      <td>Complex download or Application to access</td>\n",
       "      <td>Arginine deprivation enriches lung cancer prot...</td>\n",
       "    </tr>\n",
       "    <tr>\n",
       "      <th>7</th>\n",
       "      <td>PDC000221</td>\n",
       "      <td>pdc.cancer.gov</td>\n",
       "      <td>https://proteomic.datacommons.cancer.gov/pdc/s...</td>\n",
       "      <td>data_availability</td>\n",
       "      <td>data availability</td>\n",
       "      <td>Complex download or Application to access</td>\n",
       "      <td>Arginine deprivation enriches lung cancer prot...</td>\n",
       "    </tr>\n",
       "    <tr>\n",
       "      <th>8</th>\n",
       "      <td>PDC000198</td>\n",
       "      <td>pdc.cancer.gov</td>\n",
       "      <td>https://proteomic.datacommons.cancer.gov/pdc/s...</td>\n",
       "      <td>data_availability</td>\n",
       "      <td>data availability</td>\n",
       "      <td>Complex download or Application to access</td>\n",
       "      <td>Arginine deprivation enriches lung cancer prot...</td>\n",
       "    </tr>\n",
       "    <tr>\n",
       "      <th>9</th>\n",
       "      <td>PDC000110</td>\n",
       "      <td>pdc.cancer.gov</td>\n",
       "      <td>https://proteomic.datacommons.cancer.gov/pdc/s...</td>\n",
       "      <td>data_availability</td>\n",
       "      <td>data availability</td>\n",
       "      <td>Complex download or Application to access</td>\n",
       "      <td>Arginine deprivation enriches lung cancer prot...</td>\n",
       "    </tr>\n",
       "    <tr>\n",
       "      <th>10</th>\n",
       "      <td>PDC000270</td>\n",
       "      <td>pdc.cancer.gov</td>\n",
       "      <td>https://proteomic.datacommons.cancer.gov/pdc/s...</td>\n",
       "      <td>data_availability</td>\n",
       "      <td>data availability</td>\n",
       "      <td>Complex download or Application to access</td>\n",
       "      <td>Arginine deprivation enriches lung cancer prot...</td>\n",
       "    </tr>\n",
       "    <tr>\n",
       "      <th>11</th>\n",
       "      <td>PDC000125</td>\n",
       "      <td>pdc.cancer.gov</td>\n",
       "      <td>https://proteomic.datacommons.cancer.gov/pdc/s...</td>\n",
       "      <td>data_availability</td>\n",
       "      <td>data availability</td>\n",
       "      <td>Complex download or Application to access</td>\n",
       "      <td>Arginine deprivation enriches lung cancer prot...</td>\n",
       "    </tr>\n",
       "    <tr>\n",
       "      <th>12</th>\n",
       "      <td>PDC000153</td>\n",
       "      <td>pdc.cancer.gov</td>\n",
       "      <td>https://proteomic.datacommons.cancer.gov/pdc/s...</td>\n",
       "      <td>data_availability</td>\n",
       "      <td>data availability</td>\n",
       "      <td>Complex download or Application to access</td>\n",
       "      <td>Arginine deprivation enriches lung cancer prot...</td>\n",
       "    </tr>\n",
       "    <tr>\n",
       "      <th>13</th>\n",
       "      <td>PXD043612</td>\n",
       "      <td>www.ebi.ac.uk</td>\n",
       "      <td>https://www.ebi.ac.uk/pride/archive/projects/P...</td>\n",
       "      <td>data_availability</td>\n",
       "      <td>data availability</td>\n",
       "      <td>Complex download</td>\n",
       "      <td>Arginine deprivation enriches lung cancer prot...</td>\n",
       "    </tr>\n",
       "  </tbody>\n",
       "</table>\n",
       "</div>"
      ]
     },
     "metadata": {},
     "output_type": "display_data"
    },
    {
     "name": "stdout",
     "output_type": "stream",
     "text": [
      "Datasets extracted from article: https://www.ncbi.nlm.nih.gov/pmc/articles/PMC11425778\n"
     ]
    },
    {
     "data": {
      "text/plain": [
       "  dataset_identifier   data_repository  \\\n",
       "0       MSV000092944  massive.ucsd.edu   \n",
       "\n",
       "                                     dataset_webpage       access_mode  \\\n",
       "0  https://massive.ucsd.edu/ProteoSAFe/dataset.js...  Complex download   \n",
       "\n",
       "                                          source_url  \\\n",
       "0  https://www.ncbi.nlm.nih.gov/pmc/articles/PMC1...   \n",
       "\n",
       "                                           pub_title  \n",
       "0  Proteomics Analysis of Interactions between Dr...  "
      ],
      "text/html": [
       "<div>\n",
       "<style scoped>\n",
       "    .dataframe tbody tr th:only-of-type {\n",
       "        vertical-align: middle;\n",
       "    }\n",
       "\n",
       "    .dataframe tbody tr th {\n",
       "        vertical-align: top;\n",
       "    }\n",
       "\n",
       "    .dataframe thead th {\n",
       "        text-align: right;\n",
       "    }\n",
       "</style>\n",
       "<table border=\"1\" class=\"dataframe\">\n",
       "  <thead>\n",
       "    <tr style=\"text-align: right;\">\n",
       "      <th></th>\n",
       "      <th>dataset_identifier</th>\n",
       "      <th>data_repository</th>\n",
       "      <th>dataset_webpage</th>\n",
       "      <th>access_mode</th>\n",
       "      <th>source_url</th>\n",
       "      <th>pub_title</th>\n",
       "    </tr>\n",
       "  </thead>\n",
       "  <tbody>\n",
       "    <tr>\n",
       "      <th>0</th>\n",
       "      <td>MSV000092944</td>\n",
       "      <td>massive.ucsd.edu</td>\n",
       "      <td>https://massive.ucsd.edu/ProteoSAFe/dataset.js...</td>\n",
       "      <td>Complex download</td>\n",
       "      <td>https://www.ncbi.nlm.nih.gov/pmc/articles/PMC1...</td>\n",
       "      <td>Proteomics Analysis of Interactions between Dr...</td>\n",
       "    </tr>\n",
       "  </tbody>\n",
       "</table>\n",
       "</div>"
      ]
     },
     "metadata": {},
     "output_type": "display_data"
    },
    {
     "name": "stdout",
     "output_type": "stream",
     "text": [
      "Datasets extracted from article: https://www.ncbi.nlm.nih.gov/pmc/articles/PMC5313262\n"
     ]
    },
    {
     "data": {
      "text/plain": [
       "  dataset_identifier data_repository  \\\n",
       "0    phs001249.v1.p1           dbgap   \n",
       "\n",
       "                                     dataset_webpage            access_mode  \\\n",
       "0  https://www.ncbi.nlm.nih.gov/projects/gap/cgi-...  Application to access   \n",
       "\n",
       "                                          source_url  \\\n",
       "0  https://www.ncbi.nlm.nih.gov/pmc/articles/PMC5...   \n",
       "\n",
       "                                           pub_title  \n",
       "0  Chemosensitive relapse in small cell lung canc...  "
      ],
      "text/html": [
       "<div>\n",
       "<style scoped>\n",
       "    .dataframe tbody tr th:only-of-type {\n",
       "        vertical-align: middle;\n",
       "    }\n",
       "\n",
       "    .dataframe tbody tr th {\n",
       "        vertical-align: top;\n",
       "    }\n",
       "\n",
       "    .dataframe thead th {\n",
       "        text-align: right;\n",
       "    }\n",
       "</style>\n",
       "<table border=\"1\" class=\"dataframe\">\n",
       "  <thead>\n",
       "    <tr style=\"text-align: right;\">\n",
       "      <th></th>\n",
       "      <th>dataset_identifier</th>\n",
       "      <th>data_repository</th>\n",
       "      <th>dataset_webpage</th>\n",
       "      <th>access_mode</th>\n",
       "      <th>source_url</th>\n",
       "      <th>pub_title</th>\n",
       "    </tr>\n",
       "  </thead>\n",
       "  <tbody>\n",
       "    <tr>\n",
       "      <th>0</th>\n",
       "      <td>phs001249.v1.p1</td>\n",
       "      <td>dbgap</td>\n",
       "      <td>https://www.ncbi.nlm.nih.gov/projects/gap/cgi-...</td>\n",
       "      <td>Application to access</td>\n",
       "      <td>https://www.ncbi.nlm.nih.gov/pmc/articles/PMC5...</td>\n",
       "      <td>Chemosensitive relapse in small cell lung canc...</td>\n",
       "    </tr>\n",
       "  </tbody>\n",
       "</table>\n",
       "</div>"
      ]
     },
     "metadata": {},
     "output_type": "display_data"
    }
   ],
   "execution_count": 7
  },
  {
   "metadata": {},
   "cell_type": "code",
   "outputs": [],
   "execution_count": null,
   "source": "",
   "id": "f3988ee99b5573e9"
  }
 ],
 "metadata": {
  "kernelspec": {
   "display_name": "Python 3",
   "language": "python",
   "name": "python3"
  },
  "language_info": {
   "codemirror_mode": {
    "name": "ipython",
    "version": 2
   },
   "file_extension": ".py",
   "mimetype": "text/x-python",
   "name": "python",
   "nbconvert_exporter": "python",
   "pygments_lexer": "ipython2",
   "version": "2.7.6"
  }
 },
 "nbformat": 4,
 "nbformat_minor": 5
}
