{
 "cells": [
  {
   "cell_type": "markdown",
   "id": "b8f07b9099035d2c",
   "metadata": {},
   "source": [
    "# Workflows Example"
   ]
  },
  {
   "cell_type": "code",
   "execution_count": 1,
   "id": "initial_id",
   "metadata": {
    "ExecuteTime": {
     "end_time": "2025-07-17T17:47:15.234588Z",
     "start_time": "2025-07-17T17:47:05.032576Z"
    },
    "collapsed": true
   },
   "outputs": [],
   "source": [
    "import pandas as pd\n",
    "\n",
    "from data_gatherer.data_gatherer import DataGatherer"
   ]
  },
  {
   "cell_type": "markdown",
   "id": "a300c482cd96117",
   "metadata": {},
   "source": [
    "Instantiate the DataGatherer orchestrator"
   ]
  },
  {
   "cell_type": "code",
   "execution_count": 2,
   "id": "34f3046b7ea80e86",
   "metadata": {
    "ExecuteTime": {
     "end_time": "2025-07-17T17:47:15.244657Z",
     "start_time": "2025-07-17T17:47:15.236628Z"
    }
   },
   "outputs": [],
   "source": [
    "data_gatherer = DataGatherer(llm_name=\"gemini-2.0-flash\", log_level=\"ERROR\")"
   ]
  },
  {
   "cell_type": "markdown",
   "id": "c009e195a3bc6fdb",
   "metadata": {},
   "source": [
    "## Step I: Fetch data"
   ]
  },
  {
   "cell_type": "markdown",
   "id": "247052f9f7ee22fa",
   "metadata": {},
   "source": [
    "The Fetcher is responsible for fetching raw data about scientific publications on the internet. The parent class is DataFetcher, and the child classes are the following:\n",
    "\n",
    "\n",
    "\n",
    "- **WebScraper**, given a URL, it scrapes the page extracting the HTML content.\n",
    "\n",
    "\n",
    "- **DatabaseFetcher**, given a key, it fetches raw data (HTML or XML) from a local DataFrame.\n",
    "\n",
    "\n",
    "- **APIClient**, given a URI, it fetches raw data (XML) from an API."
   ]
  },
  {
   "cell_type": "markdown",
   "id": "c4364fb25bb6ac6b",
   "metadata": {},
   "source": [
    "### Fetch from API\n",
    "\n",
    "When the API is supported (for now only PubMedCentral), the fetcher will use the APIClient to fetch the data in XML format."
   ]
  },
  {
   "cell_type": "code",
   "execution_count": 4,
   "id": "b50f0289f8a85d1d",
   "metadata": {
    "ExecuteTime": {
     "end_time": "2025-07-17T17:47:15.252694Z",
     "start_time": "2025-07-17T17:47:15.249647Z"
    }
   },
   "outputs": [],
   "source": [
    "API_supported_input = \"https://www.ncbi.nlm.nih.gov/pmc/articles/PMC6141466\""
   ]
  },
  {
   "cell_type": "code",
   "execution_count": 5,
   "id": "7c532d5582f6d1a7",
   "metadata": {
    "ExecuteTime": {
     "end_time": "2025-07-17T17:47:16.430492Z",
     "start_time": "2025-07-17T17:47:15.255121Z"
    }
   },
   "outputs": [],
   "source": [
    "raw_data_API = data_gatherer.fetch_data(API_supported_input)"
   ]
  },
  {
   "cell_type": "markdown",
   "id": "5e3c60bbdd017ba3",
   "metadata": {},
   "source": [
    "### Fetch from Local Data\n",
    "\n",
    "Show the structure of the local DataFrame\n"
   ]
  },
  {
   "cell_type": "code",
   "execution_count": 6,
   "id": "58bac8492e2e2739",
   "metadata": {
    "ExecuteTime": {
     "end_time": "2025-07-17T17:47:17.937704Z",
     "start_time": "2025-07-17T17:47:16.432587Z"
    }
   },
   "outputs": [
    {
     "data": {
      "text/html": [
       "<div>\n",
       "<style scoped>\n",
       "    .dataframe tbody tr th:only-of-type {\n",
       "        vertical-align: middle;\n",
       "    }\n",
       "\n",
       "    .dataframe tbody tr th {\n",
       "        vertical-align: top;\n",
       "    }\n",
       "\n",
       "    .dataframe thead th {\n",
       "        text-align: right;\n",
       "    }\n",
       "</style>\n",
       "<table border=\"1\" class=\"dataframe\">\n",
       "  <thead>\n",
       "    <tr style=\"text-align: right;\">\n",
       "      <th></th>\n",
       "      <th>file_name</th>\n",
       "      <th>raw_cont</th>\n",
       "      <th>format</th>\n",
       "      <th>length</th>\n",
       "      <th>path</th>\n",
       "      <th>publication</th>\n",
       "    </tr>\n",
       "  </thead>\n",
       "  <tbody>\n",
       "    <tr>\n",
       "      <th>0</th>\n",
       "      <td>miR-33b-3p Acts as a Tumor Suppressor by Targe...</td>\n",
       "      <td>&lt;html lang=\"en\" class=\"\"&gt;&lt;head&gt;\\n\\n        &lt;me...</td>\n",
       "      <td>html</td>\n",
       "      <td>205313</td>\n",
       "      <td>../html_xml_samples/PMC/miR-33b-3p Acts as a T...</td>\n",
       "      <td>pmc8595470</td>\n",
       "    </tr>\n",
       "    <tr>\n",
       "      <th>1</th>\n",
       "      <td>Murine neuronatin deficiency is associated wit...</td>\n",
       "      <td>&lt;html lang=\"en\" class=\"\"&gt;&lt;head&gt;\\n\\n        &lt;me...</td>\n",
       "      <td>html</td>\n",
       "      <td>238825</td>\n",
       "      <td>../html_xml_samples/PMC/Murine neuronatin defi...</td>\n",
       "      <td>pmc8413370</td>\n",
       "    </tr>\n",
       "  </tbody>\n",
       "</table>\n",
       "</div>"
      ],
      "text/plain": [
       "                                           file_name  \\\n",
       "0  miR-33b-3p Acts as a Tumor Suppressor by Targe...   \n",
       "1  Murine neuronatin deficiency is associated wit...   \n",
       "\n",
       "                                            raw_cont format  length  \\\n",
       "0  <html lang=\"en\" class=\"\"><head>\\n\\n        <me...   html  205313   \n",
       "1  <html lang=\"en\" class=\"\"><head>\\n\\n        <me...   html  238825   \n",
       "\n",
       "                                                path publication  \n",
       "0  ../html_xml_samples/PMC/miR-33b-3p Acts as a T...  pmc8595470  \n",
       "1  ../html_xml_samples/PMC/Murine neuronatin defi...  pmc8413370  "
      ]
     },
     "execution_count": 6,
     "metadata": {},
     "output_type": "execute_result"
    }
   ],
   "source": [
    "pd.read_parquet(\"../scripts/exp_input/Local_fetched_data.parquet\").head(2)"
   ]
  },
  {
   "cell_type": "code",
   "execution_count": 7,
   "id": "6193a95867778f36",
   "metadata": {
    "ExecuteTime": {
     "end_time": "2025-07-17T17:47:17.941834Z",
     "start_time": "2025-07-17T17:47:17.938948Z"
    }
   },
   "outputs": [],
   "source": [
    "local_fetch_supported_input = \"https://www.ncbi.nlm.nih.gov/pmc/articles/pmc11425778\""
   ]
  },
  {
   "cell_type": "code",
   "execution_count": 8,
   "id": "d30d1232bc5c0841",
   "metadata": {
    "ExecuteTime": {
     "end_time": "2025-07-17T17:47:20.743Z",
     "start_time": "2025-07-17T17:47:17.943888Z"
    }
   },
   "outputs": [],
   "source": [
    "raw_data_local = data_gatherer.fetch_data(local_fetch_supported_input, local_fetch_file=\"../scripts/exp_input/Local_fetched_data.parquet\")"
   ]
  },
  {
   "cell_type": "markdown",
   "id": "3d995cafd36f74fe",
   "metadata": {},
   "source": [
    "### Fetch Raw HTML from a web page"
   ]
  },
  {
   "cell_type": "code",
   "execution_count": 9,
   "id": "96928dc7cf83e5b1",
   "metadata": {
    "ExecuteTime": {
     "end_time": "2025-07-17T17:47:20.746960Z",
     "start_time": "2025-07-17T17:47:20.744218Z"
    }
   },
   "outputs": [],
   "source": [
    "API_unsupported_input = \"https://www.nature.com/articles/s41467-024-51831-7\""
   ]
  },
  {
   "cell_type": "code",
   "execution_count": 10,
   "id": "79bb5a9d7a80e20a",
   "metadata": {
    "ExecuteTime": {
     "end_time": "2025-07-17T17:47:36.542696Z",
     "start_time": "2025-07-17T17:47:20.748531Z"
    }
   },
   "outputs": [],
   "source": [
    "raw_html = data_gatherer.fetch_data(API_unsupported_input, browser='Firefox', headless=True)"
   ]
  },
  {
   "cell_type": "markdown",
   "id": "605ec31956889a57",
   "metadata": {},
   "source": [
    "## Step II: Parse data\n",
    "\n",
    "The Parser is responsible for extracting the relevant information from the raw documents fetched by the Fetcher. It has two main discovery methods:\n",
    "\n",
    "\n",
    "- **Retrieve-Then-Read**, the parser passes to the LLMs only the relevant sections of the raw document, and the LLMs extract the relevant information.\n",
    "\n",
    "\n",
    "- **Full-Document-Read**, Large-context LLMs read the entire raw document and extract the relevant information."
   ]
  },
  {
   "cell_type": "markdown",
   "id": "ece85d2274ea0039",
   "metadata": {},
   "source": [
    "### Retrieve-Then-Read \n",
    "version 0.1.0 supports this parse method only for PMC XML and HTML documents"
   ]
  },
  {
   "cell_type": "code",
   "execution_count": 11,
   "id": "b9d52f23ac6a3c73",
   "metadata": {
    "ExecuteTime": {
     "end_time": "2025-07-17T17:47:36.773593Z",
     "start_time": "2025-07-17T17:47:36.545786Z"
    }
   },
   "outputs": [
    {
     "data": {
      "text/html": [
       "<div>\n",
       "<style scoped>\n",
       "    .dataframe tbody tr th:only-of-type {\n",
       "        vertical-align: middle;\n",
       "    }\n",
       "\n",
       "    .dataframe tbody tr th {\n",
       "        vertical-align: top;\n",
       "    }\n",
       "\n",
       "    .dataframe thead th {\n",
       "        text-align: right;\n",
       "    }\n",
       "</style>\n",
       "<table border=\"1\" class=\"dataframe\">\n",
       "  <thead>\n",
       "    <tr style=\"text-align: right;\">\n",
       "      <th></th>\n",
       "      <th>dataset_identifier</th>\n",
       "      <th>data_repository</th>\n",
       "      <th>dataset_webpage</th>\n",
       "      <th>source_section</th>\n",
       "      <th>retrieval_pattern</th>\n",
       "      <th>access_mode</th>\n",
       "      <th>pub_title</th>\n",
       "    </tr>\n",
       "  </thead>\n",
       "  <tbody>\n",
       "    <tr>\n",
       "      <th>0</th>\n",
       "      <td>PHS001049</td>\n",
       "      <td>dbgap</td>\n",
       "      <td>https://www.ncbi.nlm.nih.gov/projects/gap/cgi-...</td>\n",
       "      <td>data_availability</td>\n",
       "      <td>data availability</td>\n",
       "      <td>Application to access</td>\n",
       "      <td>Recurrent WNT pathway alterations are frequent...</td>\n",
       "    </tr>\n",
       "    <tr>\n",
       "      <th>1</th>\n",
       "      <td>PRJNA306801</td>\n",
       "      <td>sra</td>\n",
       "      <td>https://www.ncbi.nlm.nih.gov/bioproject/?term=...</td>\n",
       "      <td>data_availability</td>\n",
       "      <td>data availability</td>\n",
       "      <td>Complex download</td>\n",
       "      <td>Recurrent WNT pathway alterations are frequent...</td>\n",
       "    </tr>\n",
       "  </tbody>\n",
       "</table>\n",
       "</div>"
      ],
      "text/plain": [
       "  dataset_identifier data_repository  \\\n",
       "0          PHS001049           dbgap   \n",
       "1        PRJNA306801             sra   \n",
       "\n",
       "                                     dataset_webpage     source_section  \\\n",
       "0  https://www.ncbi.nlm.nih.gov/projects/gap/cgi-...  data_availability   \n",
       "1  https://www.ncbi.nlm.nih.gov/bioproject/?term=...  data_availability   \n",
       "\n",
       "   retrieval_pattern            access_mode  \\\n",
       "0  data availability  Application to access   \n",
       "1  data availability       Complex download   \n",
       "\n",
       "                                           pub_title  \n",
       "0  Recurrent WNT pathway alterations are frequent...  \n",
       "1  Recurrent WNT pathway alterations are frequent...  "
      ]
     },
     "execution_count": 11,
     "metadata": {},
     "output_type": "execute_result"
    }
   ],
   "source": [
    "results_RTR = data_gatherer.parse_data(raw_data_API, current_url_address=API_supported_input, publisher=\"PMC\", use_portkey_for_gemini=True, prompt_name=\"retrieve_datasets_simple_JSON\", section_filter=\"data_availability_statement\")\n",
    "results_RTR"
   ]
  },
  {
   "cell_type": "code",
   "execution_count": 12,
   "id": "7749b302b27a2c37",
   "metadata": {
    "ExecuteTime": {
     "end_time": "2025-07-17T17:47:37.210934Z",
     "start_time": "2025-07-17T17:47:36.775047Z"
    }
   },
   "outputs": [
    {
     "data": {
      "text/html": [
       "<div>\n",
       "<style scoped>\n",
       "    .dataframe tbody tr th:only-of-type {\n",
       "        vertical-align: middle;\n",
       "    }\n",
       "\n",
       "    .dataframe tbody tr th {\n",
       "        vertical-align: top;\n",
       "    }\n",
       "\n",
       "    .dataframe thead th {\n",
       "        text-align: right;\n",
       "    }\n",
       "</style>\n",
       "<table border=\"1\" class=\"dataframe\">\n",
       "  <thead>\n",
       "    <tr style=\"text-align: right;\">\n",
       "      <th></th>\n",
       "      <th>dataset_identifier</th>\n",
       "      <th>data_repository</th>\n",
       "      <th>dataset_webpage</th>\n",
       "      <th>access_mode</th>\n",
       "      <th>source_url</th>\n",
       "      <th>pub_title</th>\n",
       "    </tr>\n",
       "  </thead>\n",
       "  <tbody>\n",
       "    <tr>\n",
       "      <th>0</th>\n",
       "      <td>MSV000092944</td>\n",
       "      <td>massive.ucsd.edu</td>\n",
       "      <td>https://massive.ucsd.edu/ProteoSAFe/dataset.js...</td>\n",
       "      <td>Complex download</td>\n",
       "      <td>https://www.ncbi.nlm.nih.gov/pmc/articles/pmc1...</td>\n",
       "      <td>No title found</td>\n",
       "    </tr>\n",
       "  </tbody>\n",
       "</table>\n",
       "</div>"
      ],
      "text/plain": [
       "  dataset_identifier   data_repository  \\\n",
       "0       MSV000092944  massive.ucsd.edu   \n",
       "\n",
       "                                     dataset_webpage       access_mode  \\\n",
       "0  https://massive.ucsd.edu/ProteoSAFe/dataset.js...  Complex download   \n",
       "\n",
       "                                          source_url       pub_title  \n",
       "0  https://www.ncbi.nlm.nih.gov/pmc/articles/pmc1...  No title found  "
      ]
     },
     "execution_count": 12,
     "metadata": {},
     "output_type": "execute_result"
    }
   ],
   "source": [
    "results_RTR = data_gatherer.parse_data(raw_data_local, current_url_address=local_fetch_supported_input, publisher=\"PMC\", use_portkey_for_gemini=True, prompt_name=\"retrieve_datasets_simple_JSON\", raw_data_format=\"HTML\", section_filter=\"data_availability_statement\")\n",
    "results_RTR"
   ]
  },
  {
   "cell_type": "code",
   "execution_count": 13,
   "id": "6c1e55136a9f206d",
   "metadata": {
    "ExecuteTime": {
     "end_time": "2025-07-17T17:47:40.190211Z",
     "start_time": "2025-07-17T17:47:37.213458Z"
    }
   },
   "outputs": [
    {
     "data": {
      "application/vnd.jupyter.widget-view+json": {
       "model_id": "0f4eebeea78a41f8a3ff0e8de21a8753",
       "version_major": 2,
       "version_minor": 0
      },
      "text/plain": [
       "Batches:   0%|          | 0/1 [00:00<?, ?it/s]"
      ]
     },
     "metadata": {},
     "output_type": "display_data"
    },
    {
     "data": {
      "text/html": [
       "<div>\n",
       "<style scoped>\n",
       "    .dataframe tbody tr th:only-of-type {\n",
       "        vertical-align: middle;\n",
       "    }\n",
       "\n",
       "    .dataframe tbody tr th {\n",
       "        vertical-align: top;\n",
       "    }\n",
       "\n",
       "    .dataframe thead th {\n",
       "        text-align: right;\n",
       "    }\n",
       "</style>\n",
       "<table border=\"1\" class=\"dataframe\">\n",
       "  <thead>\n",
       "    <tr style=\"text-align: right;\">\n",
       "      <th></th>\n",
       "      <th>dataset_identifier</th>\n",
       "      <th>data_repository</th>\n",
       "      <th>dataset_webpage</th>\n",
       "      <th>access_mode</th>\n",
       "      <th>source_url</th>\n",
       "      <th>pub_title</th>\n",
       "    </tr>\n",
       "  </thead>\n",
       "  <tbody>\n",
       "    <tr>\n",
       "      <th>0</th>\n",
       "      <td>GSE269782</td>\n",
       "      <td>geo</td>\n",
       "      <td>https://www.ncbi.nlm.nih.gov/geo/query/acc.cgi...</td>\n",
       "      <td>Complex download</td>\n",
       "      <td>https://www.nature.com/articles/s41467-024-518...</td>\n",
       "      <td>No title found</td>\n",
       "    </tr>\n",
       "    <tr>\n",
       "      <th>1</th>\n",
       "      <td>GSE31210</td>\n",
       "      <td>geo</td>\n",
       "      <td>https://www.ncbi.nlm.nih.gov/geo/query/acc.cgi...</td>\n",
       "      <td>Complex download</td>\n",
       "      <td>https://www.nature.com/articles/s41467-024-518...</td>\n",
       "      <td>No title found</td>\n",
       "    </tr>\n",
       "    <tr>\n",
       "      <th>2</th>\n",
       "      <td>GSE106765</td>\n",
       "      <td>geo</td>\n",
       "      <td>https://www.ncbi.nlm.nih.gov/geo/query/acc.cgi...</td>\n",
       "      <td>Complex download</td>\n",
       "      <td>https://www.nature.com/articles/s41467-024-518...</td>\n",
       "      <td>No title found</td>\n",
       "    </tr>\n",
       "    <tr>\n",
       "      <th>3</th>\n",
       "      <td>GSE60189</td>\n",
       "      <td>geo</td>\n",
       "      <td>https://www.ncbi.nlm.nih.gov/geo/query/acc.cgi...</td>\n",
       "      <td>Complex download</td>\n",
       "      <td>https://www.nature.com/articles/s41467-024-518...</td>\n",
       "      <td>No title found</td>\n",
       "    </tr>\n",
       "    <tr>\n",
       "      <th>4</th>\n",
       "      <td>GSE59239</td>\n",
       "      <td>geo</td>\n",
       "      <td>https://www.ncbi.nlm.nih.gov/geo/query/acc.cgi...</td>\n",
       "      <td>Complex download</td>\n",
       "      <td>https://www.nature.com/articles/s41467-024-518...</td>\n",
       "      <td>No title found</td>\n",
       "    </tr>\n",
       "    <tr>\n",
       "      <th>5</th>\n",
       "      <td>GSE122005</td>\n",
       "      <td>geo</td>\n",
       "      <td>https://www.ncbi.nlm.nih.gov/geo/query/acc.cgi...</td>\n",
       "      <td>Complex download</td>\n",
       "      <td>https://www.nature.com/articles/s41467-024-518...</td>\n",
       "      <td>No title found</td>\n",
       "    </tr>\n",
       "    <tr>\n",
       "      <th>6</th>\n",
       "      <td>GSE38121</td>\n",
       "      <td>geo</td>\n",
       "      <td>https://www.ncbi.nlm.nih.gov/geo/query/acc.cgi...</td>\n",
       "      <td>Complex download</td>\n",
       "      <td>https://www.nature.com/articles/s41467-024-518...</td>\n",
       "      <td>No title found</td>\n",
       "    </tr>\n",
       "    <tr>\n",
       "      <th>7</th>\n",
       "      <td>GSE71587</td>\n",
       "      <td>geo</td>\n",
       "      <td>https://www.ncbi.nlm.nih.gov/geo/query/acc.cgi...</td>\n",
       "      <td>Complex download</td>\n",
       "      <td>https://www.nature.com/articles/s41467-024-518...</td>\n",
       "      <td>No title found</td>\n",
       "    </tr>\n",
       "    <tr>\n",
       "      <th>8</th>\n",
       "      <td>GSE37699</td>\n",
       "      <td>geo</td>\n",
       "      <td>https://www.ncbi.nlm.nih.gov/geo/query/acc.cgi...</td>\n",
       "      <td>Complex download</td>\n",
       "      <td>https://www.nature.com/articles/s41467-024-518...</td>\n",
       "      <td>No title found</td>\n",
       "    </tr>\n",
       "    <tr>\n",
       "      <th>9</th>\n",
       "      <td>PXD051771</td>\n",
       "      <td>www.proteomexchange.org</td>\n",
       "      <td>https://www.proteomexchange.org/cgi/GetDataset...</td>\n",
       "      <td>Complex download</td>\n",
       "      <td>https://www.nature.com/articles/s41467-024-518...</td>\n",
       "      <td>No title found</td>\n",
       "    </tr>\n",
       "  </tbody>\n",
       "</table>\n",
       "</div>"
      ],
      "text/plain": [
       "  dataset_identifier          data_repository  \\\n",
       "0          GSE269782                      geo   \n",
       "1           GSE31210                      geo   \n",
       "2          GSE106765                      geo   \n",
       "3           GSE60189                      geo   \n",
       "4           GSE59239                      geo   \n",
       "5          GSE122005                      geo   \n",
       "6           GSE38121                      geo   \n",
       "7           GSE71587                      geo   \n",
       "8           GSE37699                      geo   \n",
       "9          PXD051771  www.proteomexchange.org   \n",
       "\n",
       "                                     dataset_webpage       access_mode  \\\n",
       "0  https://www.ncbi.nlm.nih.gov/geo/query/acc.cgi...  Complex download   \n",
       "1  https://www.ncbi.nlm.nih.gov/geo/query/acc.cgi...  Complex download   \n",
       "2  https://www.ncbi.nlm.nih.gov/geo/query/acc.cgi...  Complex download   \n",
       "3  https://www.ncbi.nlm.nih.gov/geo/query/acc.cgi...  Complex download   \n",
       "4  https://www.ncbi.nlm.nih.gov/geo/query/acc.cgi...  Complex download   \n",
       "5  https://www.ncbi.nlm.nih.gov/geo/query/acc.cgi...  Complex download   \n",
       "6  https://www.ncbi.nlm.nih.gov/geo/query/acc.cgi...  Complex download   \n",
       "7  https://www.ncbi.nlm.nih.gov/geo/query/acc.cgi...  Complex download   \n",
       "8  https://www.ncbi.nlm.nih.gov/geo/query/acc.cgi...  Complex download   \n",
       "9  https://www.proteomexchange.org/cgi/GetDataset...  Complex download   \n",
       "\n",
       "                                          source_url       pub_title  \n",
       "0  https://www.nature.com/articles/s41467-024-518...  No title found  \n",
       "1  https://www.nature.com/articles/s41467-024-518...  No title found  \n",
       "2  https://www.nature.com/articles/s41467-024-518...  No title found  \n",
       "3  https://www.nature.com/articles/s41467-024-518...  No title found  \n",
       "4  https://www.nature.com/articles/s41467-024-518...  No title found  \n",
       "5  https://www.nature.com/articles/s41467-024-518...  No title found  \n",
       "6  https://www.nature.com/articles/s41467-024-518...  No title found  \n",
       "7  https://www.nature.com/articles/s41467-024-518...  No title found  \n",
       "8  https://www.nature.com/articles/s41467-024-518...  No title found  \n",
       "9  https://www.nature.com/articles/s41467-024-518...  No title found  "
      ]
     },
     "execution_count": 13,
     "metadata": {},
     "output_type": "execute_result"
    }
   ],
   "source": [
    "results_RTR = data_gatherer.parse_data(raw_html, current_url_address=API_unsupported_input, publisher=\"Nature\", use_portkey_for_gemini=True, prompt_name=\"retrieve_datasets_simple_JSON\", raw_data_format =\"HTML\", semantic_retrieval=True, section_filter=\"data_availability_statement\")\n",
    "results_RTR"
   ]
  },
  {
   "cell_type": "markdown",
   "id": "2e5f5716d545a191",
   "metadata": {},
   "source": [
    "### Full-Document-Read"
   ]
  },
  {
   "cell_type": "code",
   "execution_count": 14,
   "id": "85277bc7cf47d4b1",
   "metadata": {
    "ExecuteTime": {
     "end_time": "2025-07-17T17:47:40.958508Z",
     "start_time": "2025-07-17T17:47:40.195241Z"
    }
   },
   "outputs": [
    {
     "data": {
      "text/html": [
       "<div>\n",
       "<style scoped>\n",
       "    .dataframe tbody tr th:only-of-type {\n",
       "        vertical-align: middle;\n",
       "    }\n",
       "\n",
       "    .dataframe tbody tr th {\n",
       "        vertical-align: top;\n",
       "    }\n",
       "\n",
       "    .dataframe thead th {\n",
       "        text-align: right;\n",
       "    }\n",
       "</style>\n",
       "<table border=\"1\" class=\"dataframe\">\n",
       "  <thead>\n",
       "    <tr style=\"text-align: right;\">\n",
       "      <th></th>\n",
       "      <th>dataset_identifier</th>\n",
       "      <th>data_repository</th>\n",
       "      <th>dataset_webpage</th>\n",
       "      <th>access_mode</th>\n",
       "      <th>source_url</th>\n",
       "      <th>pub_title</th>\n",
       "    </tr>\n",
       "  </thead>\n",
       "  <tbody>\n",
       "    <tr>\n",
       "      <th>0</th>\n",
       "      <td>GSE31210</td>\n",
       "      <td>geo</td>\n",
       "      <td>https://www.ncbi.nlm.nih.gov/geo/query/acc.cgi...</td>\n",
       "      <td>Complex download</td>\n",
       "      <td>https://www.nature.com/articles/s41467-024-518...</td>\n",
       "      <td>No title found</td>\n",
       "    </tr>\n",
       "    <tr>\n",
       "      <th>1</th>\n",
       "      <td>GSE269782</td>\n",
       "      <td>geo</td>\n",
       "      <td>https://www.ncbi.nlm.nih.gov/geo/query/acc.cgi...</td>\n",
       "      <td>Complex download</td>\n",
       "      <td>https://www.nature.com/articles/s41467-024-518...</td>\n",
       "      <td>No title found</td>\n",
       "    </tr>\n",
       "    <tr>\n",
       "      <th>2</th>\n",
       "      <td>GSE60189</td>\n",
       "      <td>geo</td>\n",
       "      <td>https://www.ncbi.nlm.nih.gov/geo/query/acc.cgi...</td>\n",
       "      <td>Complex download</td>\n",
       "      <td>https://www.nature.com/articles/s41467-024-518...</td>\n",
       "      <td>No title found</td>\n",
       "    </tr>\n",
       "    <tr>\n",
       "      <th>3</th>\n",
       "      <td>GSE59239</td>\n",
       "      <td>geo</td>\n",
       "      <td>https://www.ncbi.nlm.nih.gov/geo/query/acc.cgi...</td>\n",
       "      <td>Complex download</td>\n",
       "      <td>https://www.nature.com/articles/s41467-024-518...</td>\n",
       "      <td>No title found</td>\n",
       "    </tr>\n",
       "    <tr>\n",
       "      <th>4</th>\n",
       "      <td>GSE122005</td>\n",
       "      <td>geo</td>\n",
       "      <td>https://www.ncbi.nlm.nih.gov/geo/query/acc.cgi...</td>\n",
       "      <td>Complex download</td>\n",
       "      <td>https://www.nature.com/articles/s41467-024-518...</td>\n",
       "      <td>No title found</td>\n",
       "    </tr>\n",
       "    <tr>\n",
       "      <th>5</th>\n",
       "      <td>GSE38121</td>\n",
       "      <td>geo</td>\n",
       "      <td>https://www.ncbi.nlm.nih.gov/geo/query/acc.cgi...</td>\n",
       "      <td>Complex download</td>\n",
       "      <td>https://www.nature.com/articles/s41467-024-518...</td>\n",
       "      <td>No title found</td>\n",
       "    </tr>\n",
       "    <tr>\n",
       "      <th>6</th>\n",
       "      <td>GSE71587</td>\n",
       "      <td>geo</td>\n",
       "      <td>https://www.ncbi.nlm.nih.gov/geo/query/acc.cgi...</td>\n",
       "      <td>Complex download</td>\n",
       "      <td>https://www.nature.com/articles/s41467-024-518...</td>\n",
       "      <td>No title found</td>\n",
       "    </tr>\n",
       "    <tr>\n",
       "      <th>7</th>\n",
       "      <td>GSE37699</td>\n",
       "      <td>geo</td>\n",
       "      <td>https://www.ncbi.nlm.nih.gov/geo/query/acc.cgi...</td>\n",
       "      <td>Complex download</td>\n",
       "      <td>https://www.nature.com/articles/s41467-024-518...</td>\n",
       "      <td>No title found</td>\n",
       "    </tr>\n",
       "    <tr>\n",
       "      <th>8</th>\n",
       "      <td>GSE106765</td>\n",
       "      <td>geo</td>\n",
       "      <td>https://www.ncbi.nlm.nih.gov/geo/query/acc.cgi...</td>\n",
       "      <td>Complex download</td>\n",
       "      <td>https://www.nature.com/articles/s41467-024-518...</td>\n",
       "      <td>No title found</td>\n",
       "    </tr>\n",
       "    <tr>\n",
       "      <th>9</th>\n",
       "      <td>PXD051771</td>\n",
       "      <td>www.proteomexchange.org</td>\n",
       "      <td>https://www.proteomexchange.org/cgi/GetDataset...</td>\n",
       "      <td>Complex download</td>\n",
       "      <td>https://www.nature.com/articles/s41467-024-518...</td>\n",
       "      <td>No title found</td>\n",
       "    </tr>\n",
       "  </tbody>\n",
       "</table>\n",
       "</div>"
      ],
      "text/plain": [
       "  dataset_identifier          data_repository  \\\n",
       "0           GSE31210                      geo   \n",
       "1          GSE269782                      geo   \n",
       "2           GSE60189                      geo   \n",
       "3           GSE59239                      geo   \n",
       "4          GSE122005                      geo   \n",
       "5           GSE38121                      geo   \n",
       "6           GSE71587                      geo   \n",
       "7           GSE37699                      geo   \n",
       "8          GSE106765                      geo   \n",
       "9          PXD051771  www.proteomexchange.org   \n",
       "\n",
       "                                     dataset_webpage       access_mode  \\\n",
       "0  https://www.ncbi.nlm.nih.gov/geo/query/acc.cgi...  Complex download   \n",
       "1  https://www.ncbi.nlm.nih.gov/geo/query/acc.cgi...  Complex download   \n",
       "2  https://www.ncbi.nlm.nih.gov/geo/query/acc.cgi...  Complex download   \n",
       "3  https://www.ncbi.nlm.nih.gov/geo/query/acc.cgi...  Complex download   \n",
       "4  https://www.ncbi.nlm.nih.gov/geo/query/acc.cgi...  Complex download   \n",
       "5  https://www.ncbi.nlm.nih.gov/geo/query/acc.cgi...  Complex download   \n",
       "6  https://www.ncbi.nlm.nih.gov/geo/query/acc.cgi...  Complex download   \n",
       "7  https://www.ncbi.nlm.nih.gov/geo/query/acc.cgi...  Complex download   \n",
       "8  https://www.ncbi.nlm.nih.gov/geo/query/acc.cgi...  Complex download   \n",
       "9  https://www.proteomexchange.org/cgi/GetDataset...  Complex download   \n",
       "\n",
       "                                          source_url       pub_title  \n",
       "0  https://www.nature.com/articles/s41467-024-518...  No title found  \n",
       "1  https://www.nature.com/articles/s41467-024-518...  No title found  \n",
       "2  https://www.nature.com/articles/s41467-024-518...  No title found  \n",
       "3  https://www.nature.com/articles/s41467-024-518...  No title found  \n",
       "4  https://www.nature.com/articles/s41467-024-518...  No title found  \n",
       "5  https://www.nature.com/articles/s41467-024-518...  No title found  \n",
       "6  https://www.nature.com/articles/s41467-024-518...  No title found  \n",
       "7  https://www.nature.com/articles/s41467-024-518...  No title found  \n",
       "8  https://www.nature.com/articles/s41467-024-518...  No title found  \n",
       "9  https://www.nature.com/articles/s41467-024-518...  No title found  "
      ]
     },
     "execution_count": 14,
     "metadata": {},
     "output_type": "execute_result"
    }
   ],
   "source": [
    "results_FDR = data_gatherer.parse_data(raw_html, current_url_address=API_unsupported_input, publisher=\"Nature\", prompt_name=\"GPT_from_full_input_Examples\", full_document_read=True, raw_data_format=\"HTML\", section_filter=\"data_availability_statement\")\n",
    "results_FDR"
   ]
  },
  {
   "cell_type": "code",
   "execution_count": 15,
   "id": "5e47d903a8f2eb07",
   "metadata": {
    "ExecuteTime": {
     "end_time": "2025-07-17T17:47:40.962607Z",
     "start_time": "2025-07-17T17:47:40.959772Z"
    }
   },
   "outputs": [],
   "source": [
    "parsed_data = {\"results_RTR\" : results_RTR, \"results_FDR\": results_FDR}"
   ]
  },
  {
   "cell_type": "markdown",
   "id": "686d613afae5e90c",
   "metadata": {},
   "source": [
    "## Step III: Classify data\n",
    "\n",
    "For now, we are only considering raw data files, i.e. those objects that can be accessed from a repository with an accession code. However, the classifier can be extended to include other types of objects, such as supplementary materials."
   ]
  },
  {
   "cell_type": "code",
   "execution_count": 16,
   "id": "d8eb143abe00f7db",
   "metadata": {
    "ExecuteTime": {
     "end_time": "2025-07-17T17:47:40.971458Z",
     "start_time": "2025-07-17T17:47:40.963814Z"
    }
   },
   "outputs": [
    {
     "name": "stdout",
     "output_type": "stream",
     "text": [
      "Fetched from 2 publications.\n",
      "Fetched 20 raw data files:\n"
     ]
    }
   ],
   "source": [
    "print(f\"Fetched from {len(parsed_data)} publications.\")\n",
    "raw_data_files = data_gatherer.classifier.get_raw_data_files(parsed_data)\n",
    "print(f\"Fetched {len(raw_data_files)} raw data files:\")"
   ]
  },
  {
   "cell_type": "code",
   "execution_count": 17,
   "id": "e18c2df3980ef877",
   "metadata": {
    "ExecuteTime": {
     "end_time": "2025-07-17T17:47:40.981586Z",
     "start_time": "2025-07-17T17:47:40.972811Z"
    }
   },
   "outputs": [
    {
     "data": {
      "text/html": [
       "<div>\n",
       "<style scoped>\n",
       "    .dataframe tbody tr th:only-of-type {\n",
       "        vertical-align: middle;\n",
       "    }\n",
       "\n",
       "    .dataframe tbody tr th {\n",
       "        vertical-align: top;\n",
       "    }\n",
       "\n",
       "    .dataframe thead th {\n",
       "        text-align: right;\n",
       "    }\n",
       "</style>\n",
       "<table border=\"1\" class=\"dataframe\">\n",
       "  <thead>\n",
       "    <tr style=\"text-align: right;\">\n",
       "      <th></th>\n",
       "      <th>publication_url</th>\n",
       "      <th>dataset_identifier</th>\n",
       "      <th>data_repository</th>\n",
       "      <th>dataset_webpage</th>\n",
       "    </tr>\n",
       "  </thead>\n",
       "  <tbody>\n",
       "    <tr>\n",
       "      <th>0</th>\n",
       "      <td>results_RTR</td>\n",
       "      <td>GSE269782</td>\n",
       "      <td>geo</td>\n",
       "      <td>https://www.ncbi.nlm.nih.gov/geo/query/acc.cgi...</td>\n",
       "    </tr>\n",
       "    <tr>\n",
       "      <th>1</th>\n",
       "      <td>results_RTR</td>\n",
       "      <td>GSE31210</td>\n",
       "      <td>geo</td>\n",
       "      <td>https://www.ncbi.nlm.nih.gov/geo/query/acc.cgi...</td>\n",
       "    </tr>\n",
       "    <tr>\n",
       "      <th>2</th>\n",
       "      <td>results_RTR</td>\n",
       "      <td>GSE106765</td>\n",
       "      <td>geo</td>\n",
       "      <td>https://www.ncbi.nlm.nih.gov/geo/query/acc.cgi...</td>\n",
       "    </tr>\n",
       "    <tr>\n",
       "      <th>3</th>\n",
       "      <td>results_RTR</td>\n",
       "      <td>GSE60189</td>\n",
       "      <td>geo</td>\n",
       "      <td>https://www.ncbi.nlm.nih.gov/geo/query/acc.cgi...</td>\n",
       "    </tr>\n",
       "    <tr>\n",
       "      <th>4</th>\n",
       "      <td>results_RTR</td>\n",
       "      <td>GSE59239</td>\n",
       "      <td>geo</td>\n",
       "      <td>https://www.ncbi.nlm.nih.gov/geo/query/acc.cgi...</td>\n",
       "    </tr>\n",
       "    <tr>\n",
       "      <th>5</th>\n",
       "      <td>results_RTR</td>\n",
       "      <td>GSE122005</td>\n",
       "      <td>geo</td>\n",
       "      <td>https://www.ncbi.nlm.nih.gov/geo/query/acc.cgi...</td>\n",
       "    </tr>\n",
       "    <tr>\n",
       "      <th>6</th>\n",
       "      <td>results_RTR</td>\n",
       "      <td>GSE38121</td>\n",
       "      <td>geo</td>\n",
       "      <td>https://www.ncbi.nlm.nih.gov/geo/query/acc.cgi...</td>\n",
       "    </tr>\n",
       "    <tr>\n",
       "      <th>7</th>\n",
       "      <td>results_RTR</td>\n",
       "      <td>GSE71587</td>\n",
       "      <td>geo</td>\n",
       "      <td>https://www.ncbi.nlm.nih.gov/geo/query/acc.cgi...</td>\n",
       "    </tr>\n",
       "    <tr>\n",
       "      <th>8</th>\n",
       "      <td>results_RTR</td>\n",
       "      <td>GSE37699</td>\n",
       "      <td>geo</td>\n",
       "      <td>https://www.ncbi.nlm.nih.gov/geo/query/acc.cgi...</td>\n",
       "    </tr>\n",
       "    <tr>\n",
       "      <th>9</th>\n",
       "      <td>results_RTR</td>\n",
       "      <td>PXD051771</td>\n",
       "      <td>www.proteomexchange.org</td>\n",
       "      <td>https://www.proteomexchange.org/cgi/GetDataset...</td>\n",
       "    </tr>\n",
       "    <tr>\n",
       "      <th>10</th>\n",
       "      <td>results_FDR</td>\n",
       "      <td>GSE31210</td>\n",
       "      <td>geo</td>\n",
       "      <td>https://www.ncbi.nlm.nih.gov/geo/query/acc.cgi...</td>\n",
       "    </tr>\n",
       "    <tr>\n",
       "      <th>11</th>\n",
       "      <td>results_FDR</td>\n",
       "      <td>GSE269782</td>\n",
       "      <td>geo</td>\n",
       "      <td>https://www.ncbi.nlm.nih.gov/geo/query/acc.cgi...</td>\n",
       "    </tr>\n",
       "    <tr>\n",
       "      <th>12</th>\n",
       "      <td>results_FDR</td>\n",
       "      <td>GSE60189</td>\n",
       "      <td>geo</td>\n",
       "      <td>https://www.ncbi.nlm.nih.gov/geo/query/acc.cgi...</td>\n",
       "    </tr>\n",
       "    <tr>\n",
       "      <th>13</th>\n",
       "      <td>results_FDR</td>\n",
       "      <td>GSE59239</td>\n",
       "      <td>geo</td>\n",
       "      <td>https://www.ncbi.nlm.nih.gov/geo/query/acc.cgi...</td>\n",
       "    </tr>\n",
       "    <tr>\n",
       "      <th>14</th>\n",
       "      <td>results_FDR</td>\n",
       "      <td>GSE122005</td>\n",
       "      <td>geo</td>\n",
       "      <td>https://www.ncbi.nlm.nih.gov/geo/query/acc.cgi...</td>\n",
       "    </tr>\n",
       "    <tr>\n",
       "      <th>15</th>\n",
       "      <td>results_FDR</td>\n",
       "      <td>GSE38121</td>\n",
       "      <td>geo</td>\n",
       "      <td>https://www.ncbi.nlm.nih.gov/geo/query/acc.cgi...</td>\n",
       "    </tr>\n",
       "    <tr>\n",
       "      <th>16</th>\n",
       "      <td>results_FDR</td>\n",
       "      <td>GSE71587</td>\n",
       "      <td>geo</td>\n",
       "      <td>https://www.ncbi.nlm.nih.gov/geo/query/acc.cgi...</td>\n",
       "    </tr>\n",
       "    <tr>\n",
       "      <th>17</th>\n",
       "      <td>results_FDR</td>\n",
       "      <td>GSE37699</td>\n",
       "      <td>geo</td>\n",
       "      <td>https://www.ncbi.nlm.nih.gov/geo/query/acc.cgi...</td>\n",
       "    </tr>\n",
       "    <tr>\n",
       "      <th>18</th>\n",
       "      <td>results_FDR</td>\n",
       "      <td>GSE106765</td>\n",
       "      <td>geo</td>\n",
       "      <td>https://www.ncbi.nlm.nih.gov/geo/query/acc.cgi...</td>\n",
       "    </tr>\n",
       "    <tr>\n",
       "      <th>19</th>\n",
       "      <td>results_FDR</td>\n",
       "      <td>PXD051771</td>\n",
       "      <td>www.proteomexchange.org</td>\n",
       "      <td>https://www.proteomexchange.org/cgi/GetDataset...</td>\n",
       "    </tr>\n",
       "  </tbody>\n",
       "</table>\n",
       "</div>"
      ],
      "text/plain": [
       "   publication_url dataset_identifier          data_repository  \\\n",
       "0      results_RTR          GSE269782                      geo   \n",
       "1      results_RTR           GSE31210                      geo   \n",
       "2      results_RTR          GSE106765                      geo   \n",
       "3      results_RTR           GSE60189                      geo   \n",
       "4      results_RTR           GSE59239                      geo   \n",
       "5      results_RTR          GSE122005                      geo   \n",
       "6      results_RTR           GSE38121                      geo   \n",
       "7      results_RTR           GSE71587                      geo   \n",
       "8      results_RTR           GSE37699                      geo   \n",
       "9      results_RTR          PXD051771  www.proteomexchange.org   \n",
       "10     results_FDR           GSE31210                      geo   \n",
       "11     results_FDR          GSE269782                      geo   \n",
       "12     results_FDR           GSE60189                      geo   \n",
       "13     results_FDR           GSE59239                      geo   \n",
       "14     results_FDR          GSE122005                      geo   \n",
       "15     results_FDR           GSE38121                      geo   \n",
       "16     results_FDR           GSE71587                      geo   \n",
       "17     results_FDR           GSE37699                      geo   \n",
       "18     results_FDR          GSE106765                      geo   \n",
       "19     results_FDR          PXD051771  www.proteomexchange.org   \n",
       "\n",
       "                                      dataset_webpage  \n",
       "0   https://www.ncbi.nlm.nih.gov/geo/query/acc.cgi...  \n",
       "1   https://www.ncbi.nlm.nih.gov/geo/query/acc.cgi...  \n",
       "2   https://www.ncbi.nlm.nih.gov/geo/query/acc.cgi...  \n",
       "3   https://www.ncbi.nlm.nih.gov/geo/query/acc.cgi...  \n",
       "4   https://www.ncbi.nlm.nih.gov/geo/query/acc.cgi...  \n",
       "5   https://www.ncbi.nlm.nih.gov/geo/query/acc.cgi...  \n",
       "6   https://www.ncbi.nlm.nih.gov/geo/query/acc.cgi...  \n",
       "7   https://www.ncbi.nlm.nih.gov/geo/query/acc.cgi...  \n",
       "8   https://www.ncbi.nlm.nih.gov/geo/query/acc.cgi...  \n",
       "9   https://www.proteomexchange.org/cgi/GetDataset...  \n",
       "10  https://www.ncbi.nlm.nih.gov/geo/query/acc.cgi...  \n",
       "11  https://www.ncbi.nlm.nih.gov/geo/query/acc.cgi...  \n",
       "12  https://www.ncbi.nlm.nih.gov/geo/query/acc.cgi...  \n",
       "13  https://www.ncbi.nlm.nih.gov/geo/query/acc.cgi...  \n",
       "14  https://www.ncbi.nlm.nih.gov/geo/query/acc.cgi...  \n",
       "15  https://www.ncbi.nlm.nih.gov/geo/query/acc.cgi...  \n",
       "16  https://www.ncbi.nlm.nih.gov/geo/query/acc.cgi...  \n",
       "17  https://www.ncbi.nlm.nih.gov/geo/query/acc.cgi...  \n",
       "18  https://www.ncbi.nlm.nih.gov/geo/query/acc.cgi...  \n",
       "19  https://www.proteomexchange.org/cgi/GetDataset...  "
      ]
     },
     "execution_count": 17,
     "metadata": {},
     "output_type": "execute_result"
    }
   ],
   "source": [
    "raw_data_files"
   ]
  },
  {
   "cell_type": "code",
   "execution_count": 17,
   "id": "1c1328ff9df0ea1c",
   "metadata": {
    "ExecuteTime": {
     "end_time": "2025-07-17T17:47:40.985376Z",
     "start_time": "2025-07-17T17:47:40.982672Z"
    }
   },
   "outputs": [],
   "source": []
  }
 ],
 "metadata": {
  "kernelspec": {
   "display_name": "Python 3",
   "language": "python",
   "name": "python3"
  },
  "language_info": {
   "codemirror_mode": {
    "name": "ipython",
    "version": 2
   },
   "file_extension": ".py",
   "mimetype": "text/x-python",
   "name": "python",
   "nbconvert_exporter": "python",
   "pygments_lexer": "ipython2",
   "version": "2.7.6"
  }
 },
 "nbformat": 4,
 "nbformat_minor": 5
}
