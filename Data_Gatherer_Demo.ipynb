{
 "cells": [
  {
   "cell_type": "code",
   "id": "initial_id",
   "metadata": {
    "collapsed": true,
    "ExecuteTime": {
     "end_time": "2025-02-07T17:55:15.061964Z",
     "start_time": "2025-02-07T17:55:15.046164Z"
    }
   },
   "source": [
    "# import from the files in this directory\n",
    "from dotenv import load_dotenv\n",
    "from classifier import *\n",
    "from data_fetcher import *\n",
    "from parser import *\n",
    "from orchestrator import *\n",
    "import os\n",
    "import json\n",
    "import pandas as pd"
   ],
   "outputs": [],
   "execution_count": 5
  },
  {
   "metadata": {
    "ExecuteTime": {
     "end_time": "2025-02-07T17:55:16.757770Z",
     "start_time": "2025-02-07T17:55:16.748647Z"
    }
   },
   "cell_type": "code",
   "source": [
    "config_path = 'config.json'  # Config with input file details\n",
    "load_dotenv()"
   ],
   "id": "7bd813b0410d9e20",
   "outputs": [
    {
     "data": {
      "text/plain": [
       "True"
      ]
     },
     "execution_count": 6,
     "metadata": {},
     "output_type": "execute_result"
    }
   ],
   "execution_count": 6
  },
  {
   "metadata": {
    "ExecuteTime": {
     "end_time": "2025-02-07T17:55:21.601570Z",
     "start_time": "2025-02-07T17:55:18.136827Z"
    }
   },
   "cell_type": "code",
   "source": "orchestrator = Orchestrator(config_path)",
   "id": "f8b558648be2c086",
   "outputs": [
    {
     "name": "stderr",
     "output_type": "stream",
     "text": [
      "orchestrator.py - line 20 - INFO - Data_Gatherer Orchestrator initialized.\n"
     ]
    }
   ],
   "execution_count": 7
  },
  {
   "metadata": {
    "ExecuteTime": {
     "end_time": "2025-02-07T17:55:26.928004Z",
     "start_time": "2025-02-07T17:55:23.086472Z"
    }
   },
   "cell_type": "code",
   "source": [
    "# Setup data fetcher (web scraper or API client)\n",
    "orchestrator.setup_data_fetcher()\n",
    "# Load URLs from config\n",
    "urls = orchestrator.load_urls_from_config()"
   ],
   "id": "f9a8995f58f13a1b",
   "outputs": [
    {
     "name": "stderr",
     "output_type": "stream",
     "text": [
      "orchestrator.py - line 202 - INFO - Loaded 27 URLs from file.\n"
     ]
    }
   ],
   "execution_count": 8
  },
  {
   "metadata": {},
   "cell_type": "code",
   "outputs": [],
   "execution_count": null,
   "source": "",
   "id": "ca3125f2cb718cdc"
  },
  {
   "metadata": {},
   "cell_type": "code",
   "outputs": [],
   "execution_count": null,
   "source": [
    "results = {}\n",
    "for url in urls:\n",
    "    #results[url] = orchestrator.process_url(url)\n",
    "if isinstance(orchestrator.data_fetcher, APIClient):\n",
    "    orchestrator.data_fetcher.api_client.close()"
   ],
   "id": "64ca1d007f327dfb"
  },
  {
   "metadata": {},
   "cell_type": "code",
   "outputs": [],
   "execution_count": null,
   "source": "results",
   "id": "821c3d34f8d4b392"
  }
 ],
 "metadata": {
  "kernelspec": {
   "display_name": "Python 3",
   "language": "python",
   "name": "python3"
  },
  "language_info": {
   "codemirror_mode": {
    "name": "ipython",
    "version": 2
   },
   "file_extension": ".py",
   "mimetype": "text/x-python",
   "name": "python",
   "nbconvert_exporter": "python",
   "pygments_lexer": "ipython2",
   "version": "2.7.6"
  }
 },
 "nbformat": 4,
 "nbformat_minor": 5
}
