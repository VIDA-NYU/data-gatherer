{
 "cells": [
  {
   "cell_type": "code",
   "id": "initial_id",
   "metadata": {
    "collapsed": true,
    "ExecuteTime": {
     "end_time": "2024-10-21T21:49:10.701422Z",
     "start_time": "2024-10-21T21:49:09.292610Z"
    }
   },
   "source": [
    "# import from the files in this directory\n",
    "from dotenv import load_dotenv\n",
    "from classifier import *\n",
    "from data_fetcher import *\n",
    "from parser import *\n",
    "from orchestrator import *"
   ],
   "outputs": [],
   "execution_count": 1
  },
  {
   "metadata": {
    "ExecuteTime": {
     "end_time": "2024-10-21T21:49:14.733689Z",
     "start_time": "2024-10-21T21:49:14.721378Z"
    }
   },
   "cell_type": "code",
   "source": [
    "config_path = 'config.json'  # Config with input file details\n",
    "load_dotenv()"
   ],
   "id": "344dbea7d98b9366",
   "outputs": [
    {
     "data": {
      "text/plain": [
       "True"
      ]
     },
     "execution_count": 2,
     "metadata": {},
     "output_type": "execute_result"
    }
   ],
   "execution_count": 2
  },
  {
   "metadata": {
    "ExecuteTime": {
     "end_time": "2024-10-21T21:49:20.776198Z",
     "start_time": "2024-10-21T21:49:17.241132Z"
    }
   },
   "cell_type": "code",
   "source": "orchestrator = Orchestrator(config_path)",
   "id": "4f356a53abd3ed8a",
   "outputs": [],
   "execution_count": 3
  },
  {
   "metadata": {
    "ExecuteTime": {
     "end_time": "2024-10-21T21:49:37.967956Z",
     "start_time": "2024-10-21T21:49:34.553549Z"
    }
   },
   "cell_type": "code",
   "source": [
    "# Setup data fetcher (web scraper or API client)\n",
    "orchestrator.setup_data_fetcher()\n",
    "# Load URLs from config\n",
    "urls = orchestrator.load_urls_from_config()\n",
    "print(urls)"
   ],
   "id": "e9121bd299b9540e",
   "outputs": [
    {
     "name": "stderr",
     "output_type": "stream",
     "text": [
      "orchestrator.py - line 21 - INFO - Setting up data fetcher...\n",
      "data_fetcher.py - line 19 - INFO - DataFetcher initialized.\n",
      "orchestrator.py - line 34 - INFO - Data fetcher setup completed.\n",
      "orchestrator.py - line 144 - INFO - Loading URLs from file: input/PMC_input_proteomics.txt\n",
      "orchestrator.py - line 147 - INFO - Loaded 1 URLs from file.\n"
     ]
    },
    {
     "name": "stdout",
     "output_type": "stream",
     "text": [
      "['https://www.ncbi.nlm.nih.gov/pmc/articles/PMC11015306/']\n"
     ]
    }
   ],
   "execution_count": 4
  },
  {
   "metadata": {
    "ExecuteTime": {
     "end_time": "2024-10-21T21:53:20.424156Z",
     "start_time": "2024-10-21T21:53:14.576118Z"
    }
   },
   "cell_type": "code",
   "source": [
    "results = {}\n",
    "for url in urls:\n",
    "    results[url] = orchestrator.process_url(url)\n",
    "if isinstance(orchestrator.data_fetcher, APIClient):\n",
    "    orchestrator.data_fetcher.api_client.close()"
   ],
   "id": "dfb36d03aa3f4e8a",
   "outputs": [
    {
     "name": "stderr",
     "output_type": "stream",
     "text": [
      "orchestrator.py - line 39 - INFO - Processing URL: https://www.ncbi.nlm.nih.gov/pmc/articles/PMC11015306/\n",
      "data_fetcher.py - line 45 - INFO - update_DataFetcher_settings for current URL\n",
      "data_fetcher.py - line 54 - INFO - URL detected as PMC.\n",
      "data_fetcher.py - line 59 - INFO - Initializing APIClient(('requests', 'PMC_API', 'self.config'))\n",
      "data_fetcher.py - line 19 - INFO - DataFetcher initialized.\n",
      "orchestrator.py - line 46 - INFO - Fetching Raw content...\n",
      "orchestrator.py - line 52 - INFO - data_fetcher.fetch_source = PMC_API\n",
      "orchestrator.py - line 55 - INFO - Using PMC_API to fetch data.\n",
      "data_fetcher.py - line 192 - INFO - Fetching data from request: https://eutils.ncbi.nlm.nih.gov/entrez/eutils/efetch.fcgi?db=pmc&id=PMC11015306&retmode=xml\n",
      "data_fetcher.py - line 200 - INFO - Successfully fetched data for PMC11015306\n",
      "data_fetcher.py - line 248 - INFO - Function call ensure_data_availability((<Element pmc-articleset at 0x12ebc2140>, 'https://www.ncbi.nlm.nih.gov/pmc/articles/PMC11015306/'))\n",
      "data_fetcher.py - line 265 - INFO - Data availability check in raw_data\n",
      "data_fetcher.py - line 277 - INFO - Found 0 ext-links in data availability section from XML.\n",
      "data_fetcher.py - line 281 - INFO - Additional data needed: True\n",
      "data_fetcher.py - line 256 - INFO - Data availability section found in raw_data, but no links found.\n",
      "data_fetcher.py - line 301 - INFO - Fetching data availability from webpage for: https://www.ncbi.nlm.nih.gov/pmc/articles/PMC11015306/\n",
      "data_fetcher.py - line 314 - INFO - Parsing page at xpath: //section[h2[contains(text(), 'Data Availability')]]\n",
      "data_fetcher.py - line 316 - INFO - Found elements: []\n",
      "data_fetcher.py - line 314 - INFO - Parsing page at xpath: //section[h3[contains(text(), 'Data Availability')]]\n",
      "data_fetcher.py - line 316 - INFO - Found elements: [<selenium.webdriver.remote.webelement.WebElement (session=\"ce043410-08b0-46f5-b291-f3da744554de\", element=\"d1d40423-468a-421b-b0ce-651e067097a0\")>]\n",
      "data_fetcher.py - line 318 - INFO - Checking item: Data Availability Statement\n",
      "Data are available in a public, open access repository.\n",
      "data_fetcher.py - line 314 - INFO - Parsing page at xpath: following-sibling::p[1]\n",
      "data_fetcher.py - line 316 - INFO - Found elements: []\n",
      "data_fetcher.py - line 328 - INFO - DAS from webpage xpaths: {<selenium.webdriver.remote.webelement.WebElement (session=\"ce043410-08b0-46f5-b291-f3da744554de\", element=\"d1d40423-468a-421b-b0ce-651e067097a0\")>: 'Data Availability Statement\\nData are available in a public, open access repository.'}\n",
      "data_fetcher.py - line 336 - INFO - Data availability section from webpage: [{'source_section': 'data availability from webpage', 'source_url': 'https://www.ncbi.nlm.nih.gov/pmc/articles/PMC11015306/', 'link': 'n/a', 'surrounding_text': 'Data Availability Statement\\nData are available in a public, open access repository.'}]\n",
      "orchestrator.py - line 74 - INFO - Successfully fetched Raw content.\n",
      "orchestrator.py - line 99 - INFO - Using XMLParser to parse data.\n",
      "parser.py - line 17 - INFO - Parser initialized.\n",
      "parser.py - line 126 - INFO - Extracted title:'Dual molecule targeting HDAC6 leads to intratumoral CD4+ cytotoxic lymphocytes recruitment through MHC-II upregulation on lung cancer cells'\n",
      "parser.py - line 254 - INFO - Function_call: extract_href_from_supplementary_material(api_xml, current_url_address)\n",
      "parser.py - line 330 - INFO - Found 1 inline-supplementary-material elements.\n",
      "parser.py - line 341 - INFO - Extracted supplementary material links:\n",
      "[{'href': 'jitc-2023-007588supp001.pdf', 'content_type': 'local-data', 'media_id': 'SS1', 'title': 'No Title'}]\n",
      "parser.py - line 330 - INFO - Found 1 inline-supplementary-material elements.\n",
      "parser.py - line 341 - INFO - Extracted supplementary material links:\n",
      "[{'href': 'jitc-2023-007588supp001.pdf', 'content_type': 'local-data', 'media_id': 'SS1', 'title': 'No Title'}, {'href': 'jitc-2023-007588supp002.pdf', 'content_type': 'local-data', 'media_id': 'SS2', 'title': 'No Title'}]\n",
      "parser.py - line 330 - INFO - Found 1 inline-supplementary-material elements.\n",
      "parser.py - line 341 - INFO - Extracted supplementary material links:\n",
      "[{'href': 'jitc-2023-007588supp001.pdf', 'content_type': 'local-data', 'media_id': 'SS1', 'title': 'No Title'}, {'href': 'jitc-2023-007588supp002.pdf', 'content_type': 'local-data', 'media_id': 'SS2', 'title': 'No Title'}, {'href': 'jitc-2023-007588supp003.pdf', 'content_type': 'local-data', 'media_id': 'SS3', 'title': 'No Title'}]\n",
      "parser.py - line 171 - INFO - Function_call: extract_href_from_data_availability(api_xml)\n",
      "parser.py - line 188 - INFO - Found 0 ext-links in data availability section.\n",
      "parser.py - line 216 - INFO - Function_call: extract_xrefs_from_data_availability(api_xml, current_url_address)\n",
      "parser.py - line 221 - INFO - Searching for data availability sections using XPath: .//sec[@sec-type='data-availability']\n",
      "parser.py - line 221 - INFO - Searching for data availability sections using XPath: .//notes[@notes-type='data-availability']\n",
      "parser.py - line 229 - INFO - Found 0 xref elements in data availability section.\n",
      "parser.py - line 138 - INFO - dataset_links: []\n",
      "parser.py - line 140 - INFO - No dataset links in data-availability section from XML. Scraping https://www.ncbi.nlm.nih.gov/pmc/articles/PMC11015306/.\n",
      "parser.py - line 566 - INFO - Analyzing data availability statement with 0 links\n",
      "parser.py - line 144 - INFO - Len of augmented_dataset_links: 0\n",
      "parser.py - line 146 - INFO - Additional data: [{'source_section': 'data availability from webpage', 'source_url': 'https://www.ncbi.nlm.nih.gov/pmc/articles/PMC11015306/', 'link': 'n/a', 'surrounding_text': 'Data Availability Statement\\nData are available in a public, open access repository.'}]\n",
      "parser.py - line 148 - INFO - Additional data (<class 'list'>) and Parsed data (<class 'list'>).\n",
      "parser.py - line 414 - INFO - Processing additional data\n",
      "[{'source_section': 'data availability from webpage', 'source_url': 'https://www.ncbi.nlm.nih.gov/pmc/articles/PMC11015306/', 'link': 'n/a', 'surrounding_text': 'Data Availability Statement\\nData are available in a public, open access repository.'}]\n",
      "parser.py - line 417 - INFO - Repos: bigd.big.ac.cn, massive.ucsd.edu, www.ebi.ac.uk\n",
      "parser.py - line 446 - INFO - response: n/a, n/a \n",
      "\n",
      "parser.py - line 453 - INFO - Unpacked values: ['n/a', ' n/a ']\n",
      "parser.py - line 458 - INFO - Final ret additional data: [{'source_section': 'data availability from webpage', 'source_url': 'https://www.ncbi.nlm.nih.gov/pmc/articles/PMC11015306/', 'link': 'n/a', 'surrounding_text': 'Data Availability Statement\\nData are available in a public, open access repository.', 'dataset_identifier': 'n/a', 'data_repository': ' n/a '}]\n",
      "parser.py - line 151 - INFO - Type: <class 'list'>\n",
      "parser.py - line 152 - INFO - Len of augmented_dataset_links: 1\n",
      "parser.py - line 154 - INFO - Cont of augmented_dataset_links: [{'source_section': 'data availability from webpage', 'source_url': 'https://www.ncbi.nlm.nih.gov/pmc/articles/PMC11015306/', 'link': 'n/a', 'surrounding_text': 'Data Availability Statement\\nData are available in a public, open access repository.', 'dataset_identifier': 'n/a', 'data_repository': ' n/a '}]\n",
      "parser.py - line 675 - INFO - Fetching metadata for 1 datasets\n",
      "parser.py - line 681 - INFO - Processing dataset 1: n/a\n",
      "parser.py - line 659 - INFO - Extracting repo domain from URL: n/a\n",
      "parser.py - line 685 - INFO - Checking if bigd.big.ac.cn == Unknown_Publisher\n",
      "parser.py - line 685 - INFO - Checking if massive.ucsd.edu == Unknown_Publisher\n",
      "parser.py - line 685 - INFO - Checking if www.ebi.ac.uk == Unknown_Publisher\n",
      "parser.py - line 165 - INFO - Dataset Links:                    source_section  \\\n",
      "0  data availability from webpage   \n",
      "0                             NaN   \n",
      "1                             NaN   \n",
      "2                             NaN   \n",
      "\n",
      "                                          source_url link  \\\n",
      "0  https://www.ncbi.nlm.nih.gov/pmc/articles/PMC1...  n/a   \n",
      "0                                                NaN  NaN   \n",
      "1                                                NaN  NaN   \n",
      "2                                                NaN  NaN   \n",
      "\n",
      "                                    surrounding_text dataset_identifier  \\\n",
      "0  Data Availability Statement\\nData are availabl...                n/a   \n",
      "0                                                NaN                NaN   \n",
      "1                                                NaN                NaN   \n",
      "2                                                NaN                NaN   \n",
      "\n",
      "  data_repository dataset_page                         href content_type  \\\n",
      "0            n/a            na                          NaN          NaN   \n",
      "0             NaN          NaN  jitc-2023-007588supp001.pdf   local-data   \n",
      "1             NaN          NaN  jitc-2023-007588supp002.pdf   local-data   \n",
      "2             NaN          NaN  jitc-2023-007588supp003.pdf   local-data   \n",
      "\n",
      "  media_id     title  \n",
      "0      NaN       NaN  \n",
      "0      SS1  No Title  \n",
      "1      SS2  No Title  \n",
      "2      SS3  No Title  \n",
      "orchestrator.py - line 109 - INFO - Parsed data extraction completed. Elements collected: 4\n",
      "orchestrator.py - line 114 - INFO - Raw Data parsing completed.\n",
      "orchestrator.py - line 122 - INFO - XML element classification not needed. Using parsed_data.\n"
     ]
    }
   ],
   "execution_count": 5
  },
  {
   "metadata": {
    "ExecuteTime": {
     "end_time": "2024-10-21T21:53:27.630653Z",
     "start_time": "2024-10-21T21:53:27.619269Z"
    }
   },
   "cell_type": "code",
   "source": "results",
   "id": "4fc70163f616449",
   "outputs": [
    {
     "data": {
      "text/plain": [
       "{'https://www.ncbi.nlm.nih.gov/pmc/articles/PMC11015306/':                    source_section  \\\n",
       " 0  data availability from webpage   \n",
       " 0                             NaN   \n",
       " 1                             NaN   \n",
       " 2                             NaN   \n",
       " \n",
       "                                           source_url link  \\\n",
       " 0  https://www.ncbi.nlm.nih.gov/pmc/articles/PMC1...  n/a   \n",
       " 0  https://www.ncbi.nlm.nih.gov/pmc/articles/PMC1...  NaN   \n",
       " 1  https://www.ncbi.nlm.nih.gov/pmc/articles/PMC1...  NaN   \n",
       " 2  https://www.ncbi.nlm.nih.gov/pmc/articles/PMC1...  NaN   \n",
       " \n",
       "                                     surrounding_text dataset_identifier  \\\n",
       " 0  Data Availability Statement\\nData are availabl...                n/a   \n",
       " 0                                                NaN                NaN   \n",
       " 1                                                NaN                NaN   \n",
       " 2                                                NaN                NaN   \n",
       " \n",
       "   data_repository dataset_page                         href content_type  \\\n",
       " 0            n/a            na                          NaN          NaN   \n",
       " 0             NaN          NaN  jitc-2023-007588supp001.pdf   local-data   \n",
       " 1             NaN          NaN  jitc-2023-007588supp002.pdf   local-data   \n",
       " 2             NaN          NaN  jitc-2023-007588supp003.pdf   local-data   \n",
       " \n",
       "   media_id     title  \n",
       " 0      NaN       NaN  \n",
       " 0      SS1  No Title  \n",
       " 1      SS2  No Title  \n",
       " 2      SS3  No Title  }"
      ]
     },
     "execution_count": 6,
     "metadata": {},
     "output_type": "execute_result"
    }
   ],
   "execution_count": 6
  },
  {
   "metadata": {
    "ExecuteTime": {
     "end_time": "2024-10-21T21:57:31.671814Z",
     "start_time": "2024-10-21T21:57:31.650686Z"
    }
   },
   "cell_type": "code",
   "source": "",
   "id": "48d7ac36f61a0234",
   "outputs": [],
   "execution_count": 7
  }
 ],
 "metadata": {
  "kernelspec": {
   "display_name": "Python 3",
   "language": "python",
   "name": "python3"
  },
  "language_info": {
   "codemirror_mode": {
    "name": "ipython",
    "version": 2
   },
   "file_extension": ".py",
   "mimetype": "text/x-python",
   "name": "python",
   "nbconvert_exporter": "python",
   "pygments_lexer": "ipython2",
   "version": "2.7.6"
  }
 },
 "nbformat": 4,
 "nbformat_minor": 5
}
