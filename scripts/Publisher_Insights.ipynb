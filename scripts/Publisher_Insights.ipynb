{
 "cells": [
  {
   "cell_type": "code",
   "id": "initial_id",
   "metadata": {
    "collapsed": true,
    "ExecuteTime": {
     "end_time": "2025-02-25T22:38:29.920933Z",
     "start_time": "2025-02-25T22:38:29.916141Z"
    }
   },
   "source": "import pandas as pd",
   "outputs": [],
   "execution_count": 2
  },
  {
   "metadata": {
    "ExecuteTime": {
     "end_time": "2025-02-25T22:38:32.172595Z",
     "start_time": "2025-02-25T22:38:30.227661Z"
    }
   },
   "cell_type": "code",
   "source": [
    "# Load the data\n",
    "df = pd.read_csv('exp_input/raw_data_v1.csv')"
   ],
   "id": "1dc85f0066f62f67",
   "outputs": [],
   "execution_count": 3
  },
  {
   "metadata": {
    "ExecuteTime": {
     "end_time": "2025-02-25T22:38:45.297156Z",
     "start_time": "2025-02-25T22:38:45.280900Z"
    }
   },
   "cell_type": "code",
   "source": "df['publisher'].value_counts()",
   "id": "f7526ac450c68fc6",
   "outputs": [
    {
     "data": {
      "text/plain": [
       "publisher\n",
       "pubmed                    73\n",
       "proteomexchange           32\n",
       "sciencedirect             29\n",
       "nature                    28\n",
       "acs                       10\n",
       "biorxiv                    9\n",
       "wiley                      8\n",
       "doi                        6\n",
       "Unknown Publisher          6\n",
       "biomedcentral              5\n",
       "mdpi                       3\n",
       "frontiersin                3\n",
       "oup                        3\n",
       "ahajournals                2\n",
       "ashpublications            2\n",
       "asm                        2\n",
       "physiology                 1\n",
       "jci                        1\n",
       "science                    1\n",
       "rupress                    1\n",
       "plos                       1\n",
       "co                         1\n",
       "protocols                  1\n",
       "pnas                       1\n",
       "rsc                        1\n",
       "spandidos-publications     1\n",
       "springer                   1\n",
       "elifesciences              1\n",
       "jamanetwork                1\n",
       "Name: count, dtype: int64"
      ]
     },
     "execution_count": 4,
     "metadata": {},
     "output_type": "execute_result"
    }
   ],
   "execution_count": 4
  },
  {
   "metadata": {
    "ExecuteTime": {
     "end_time": "2025-02-25T22:42:37.421764Z",
     "start_time": "2025-02-25T22:42:37.387212Z"
    }
   },
   "cell_type": "code",
   "source": "df[df['publisher']=='doi']",
   "id": "7ba7cdc818a31aad",
   "outputs": [
    {
     "data": {
      "text/plain": [
       "                                       publication  \\\n",
       "55   https://dx.doi.org/10.1038/S41551-025-01354-3   \n",
       "86       https://dx.doi.org/10.1098/RSTB.2023.0342   \n",
       "115     https://dx.doi.org/10.15252/EMMM.202419764   \n",
       "120  https://dx.doi.org/10.3389/FMICB.2025.1483703   \n",
       "125         https://dx.doi.org/10.3892/OL_XXXXXXXX   \n",
       "160                    https://dx.doi.org/39824970   \n",
       "\n",
       "                                           dataset_uid repo_name  \\\n",
       "55                                           PXD054755     PRIDE   \n",
       "86                                           PXD058309     PRIDE   \n",
       "115                                          PXD058467     PRIDE   \n",
       "120  PXD054936,PXD054938,PXD054988,PXD054995,PXD054997     PRIDE   \n",
       "125                                          PXD057462     PRIDE   \n",
       "160                                          PXD053048     PRIDE   \n",
       "\n",
       "                                              raw_html publisher  \\\n",
       "55   <html lang=\"en-us\"><head>\\n\\n    <meta charset...       doi   \n",
       "86   <html lang=\"en-us\"><head>\\n\\n    <meta charset...       doi   \n",
       "115  <html lang=\"en-us\"><head>\\n\\n    <meta charset...       doi   \n",
       "120  <html lang=\"en-us\"><head>\\n\\n    <meta charset...       doi   \n",
       "125  <html lang=\"en-us\"><head>\\n\\n    <meta charset...       doi   \n",
       "160  <html lang=\"en-us\"><head>\\n\\n    <meta charset...       doi   \n",
       "\n",
       "    smallest_elements  \n",
       "55                 na  \n",
       "86                 na  \n",
       "115                na  \n",
       "120                na  \n",
       "125                na  \n",
       "160                na  "
      ],
      "text/html": [
       "<div>\n",
       "<style scoped>\n",
       "    .dataframe tbody tr th:only-of-type {\n",
       "        vertical-align: middle;\n",
       "    }\n",
       "\n",
       "    .dataframe tbody tr th {\n",
       "        vertical-align: top;\n",
       "    }\n",
       "\n",
       "    .dataframe thead th {\n",
       "        text-align: right;\n",
       "    }\n",
       "</style>\n",
       "<table border=\"1\" class=\"dataframe\">\n",
       "  <thead>\n",
       "    <tr style=\"text-align: right;\">\n",
       "      <th></th>\n",
       "      <th>publication</th>\n",
       "      <th>dataset_uid</th>\n",
       "      <th>repo_name</th>\n",
       "      <th>raw_html</th>\n",
       "      <th>publisher</th>\n",
       "      <th>smallest_elements</th>\n",
       "    </tr>\n",
       "  </thead>\n",
       "  <tbody>\n",
       "    <tr>\n",
       "      <th>55</th>\n",
       "      <td>https://dx.doi.org/10.1038/S41551-025-01354-3</td>\n",
       "      <td>PXD054755</td>\n",
       "      <td>PRIDE</td>\n",
       "      <td>&lt;html lang=\"en-us\"&gt;&lt;head&gt;\\n\\n    &lt;meta charset...</td>\n",
       "      <td>doi</td>\n",
       "      <td>na</td>\n",
       "    </tr>\n",
       "    <tr>\n",
       "      <th>86</th>\n",
       "      <td>https://dx.doi.org/10.1098/RSTB.2023.0342</td>\n",
       "      <td>PXD058309</td>\n",
       "      <td>PRIDE</td>\n",
       "      <td>&lt;html lang=\"en-us\"&gt;&lt;head&gt;\\n\\n    &lt;meta charset...</td>\n",
       "      <td>doi</td>\n",
       "      <td>na</td>\n",
       "    </tr>\n",
       "    <tr>\n",
       "      <th>115</th>\n",
       "      <td>https://dx.doi.org/10.15252/EMMM.202419764</td>\n",
       "      <td>PXD058467</td>\n",
       "      <td>PRIDE</td>\n",
       "      <td>&lt;html lang=\"en-us\"&gt;&lt;head&gt;\\n\\n    &lt;meta charset...</td>\n",
       "      <td>doi</td>\n",
       "      <td>na</td>\n",
       "    </tr>\n",
       "    <tr>\n",
       "      <th>120</th>\n",
       "      <td>https://dx.doi.org/10.3389/FMICB.2025.1483703</td>\n",
       "      <td>PXD054936,PXD054938,PXD054988,PXD054995,PXD054997</td>\n",
       "      <td>PRIDE</td>\n",
       "      <td>&lt;html lang=\"en-us\"&gt;&lt;head&gt;\\n\\n    &lt;meta charset...</td>\n",
       "      <td>doi</td>\n",
       "      <td>na</td>\n",
       "    </tr>\n",
       "    <tr>\n",
       "      <th>125</th>\n",
       "      <td>https://dx.doi.org/10.3892/OL_XXXXXXXX</td>\n",
       "      <td>PXD057462</td>\n",
       "      <td>PRIDE</td>\n",
       "      <td>&lt;html lang=\"en-us\"&gt;&lt;head&gt;\\n\\n    &lt;meta charset...</td>\n",
       "      <td>doi</td>\n",
       "      <td>na</td>\n",
       "    </tr>\n",
       "    <tr>\n",
       "      <th>160</th>\n",
       "      <td>https://dx.doi.org/39824970</td>\n",
       "      <td>PXD053048</td>\n",
       "      <td>PRIDE</td>\n",
       "      <td>&lt;html lang=\"en-us\"&gt;&lt;head&gt;\\n\\n    &lt;meta charset...</td>\n",
       "      <td>doi</td>\n",
       "      <td>na</td>\n",
       "    </tr>\n",
       "  </tbody>\n",
       "</table>\n",
       "</div>"
      ]
     },
     "execution_count": 5,
     "metadata": {},
     "output_type": "execute_result"
    }
   ],
   "execution_count": 5
  },
  {
   "metadata": {
    "ExecuteTime": {
     "end_time": "2025-02-26T21:00:08.807729Z",
     "start_time": "2025-02-26T21:00:08.769008Z"
    }
   },
   "cell_type": "code",
   "source": [
    "# how are the datasets cited? \n",
    "# 1000s sample "
   ],
   "id": "8f31babdfbbcdcf6",
   "outputs": [],
   "execution_count": 6
  },
  {
   "metadata": {},
   "cell_type": "code",
   "outputs": [],
   "execution_count": null,
   "source": "",
   "id": "bc496e77739920cc"
  }
 ],
 "metadata": {
  "kernelspec": {
   "display_name": "Python 3",
   "language": "python",
   "name": "python3"
  },
  "language_info": {
   "codemirror_mode": {
    "name": "ipython",
    "version": 2
   },
   "file_extension": ".py",
   "mimetype": "text/x-python",
   "name": "python",
   "nbconvert_exporter": "python",
   "pygments_lexer": "ipython2",
   "version": "2.7.6"
  }
 },
 "nbformat": 4,
 "nbformat_minor": 5
}
