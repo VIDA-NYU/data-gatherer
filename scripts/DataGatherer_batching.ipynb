{
 "cells": [
  {
   "cell_type": "code",
   "execution_count": null,
   "id": "initial_id",
   "metadata": {
    "ExecuteTime": {
     "end_time": "2025-09-04T16:30:53.289617Z",
     "start_time": "2025-09-04T16:30:29.500758Z"
    },
    "collapsed": true
   },
   "outputs": [],
   "source": [
    "import os\n",
    "from data_gatherer.data_gatherer import DataGatherer\n",
    "import pandas as pd\n",
    "from data_gatherer.llm.response_schema import *\n",
    "from data_gatherer.parser.xml_parser import XMLParser\n",
    "from scripts.experiment_utils import evaluate_performance"
   ]
  },
  {
   "cell_type": "code",
   "execution_count": null,
   "id": "78d2b2bc4106d2ef",
   "metadata": {
    "ExecuteTime": {
     "end_time": "2025-09-04T16:31:15.898169Z",
     "start_time": "2025-09-04T16:31:15.880961Z"
    }
   },
   "outputs": [],
   "source": [
    "input_file = \"scripts/exp_input/sage_input.txt\"\n",
    "fname = \"prompts/prompts_1.jsonl\""
   ]
  },
  {
   "cell_type": "code",
   "execution_count": null,
   "id": "cca05a29b7c100d1",
   "metadata": {
    "ExecuteTime": {
     "end_time": "2025-09-04T16:31:17.295747Z",
     "start_time": "2025-09-04T16:31:17.291744Z"
    }
   },
   "outputs": [],
   "source": [
    "model_name = \"gpt-5-mini\"  # \"gemini-2.0-flash\" or \"gpt-4o-mini\"\n",
    "prompt = \"GPT_FDR_FewShot_Syn\"  # \"GPT_from_full_input_Examples\" or \"GPT_FewShot\"\n",
    "FDR = True\n",
    "semantic_retrieval = False\n",
    "section_filter= None"
   ]
  },
  {
   "cell_type": "code",
   "execution_count": null,
   "id": "a4ae25cbd54d4fe1",
   "metadata": {
    "ExecuteTime": {
     "end_time": "2025-09-04T16:31:19.865917Z",
     "start_time": "2025-09-04T16:31:19.860295Z"
    }
   },
   "outputs": [],
   "source": [
    "# write list to a text file\n",
    "with open(input_file, 'r') as f:\n",
    "    pmcids = f.read().splitlines()\n",
    "\n",
    "print(\"Number of PMCIDs:\", len(pmcids))"
   ]
  },
  {
   "cell_type": "code",
   "execution_count": null,
   "id": "b79cbd7265b497e1",
   "metadata": {
    "ExecuteTime": {
     "end_time": "2025-09-04T16:31:22.492692Z",
     "start_time": "2025-09-04T16:31:22.479800Z"
    }
   },
   "outputs": [],
   "source": [
    "dg = DataGatherer(\n",
    "    llm_name=model_name, \n",
    "    log_level='WARNING', \n",
    "    process_entire_document=FDR, \n",
    "    driver_path=None, \n",
    "    save_to_cache=False, \n",
    "    load_from_cache=False,\n",
    "    full_output_file=\"scripts/output/result.csv\"\n",
    ") #, save_dynamic_prompts=True"
   ]
  },
  {
   "cell_type": "markdown",
   "id": "f3ac4139",
   "metadata": {},
   "source": [
    "https://platform.openai.com/docs/guides/batch#1-preparing-your-batch-file\n",
    "\n",
    "https://portkey.ai/docs/integrations/llms/bedrock/batches"
   ]
  },
  {
   "cell_type": "code",
   "execution_count": null,
   "id": "e7ececd7",
   "metadata": {},
   "outputs": [],
   "source": [
    "'''batch_input_openai = dg.run_integrated_batch_processing(\n",
    "    url_list=pmcids,\n",
    "    batch_file_path='scripts/tmp/batch_requests_openai_all_SAGE.jsonl',\n",
    "    #output_file_path='scripts/tmp/batch_results_openai.jsonl',\n",
    "    api_provider='openai',  # Uses OpenAI batch API for 50% cost discount\n",
    "    prompt_name=\"GPT_FDR_FewShot_Syn\",\n",
    "    response_format=dataset_response_schema_gpt,\n",
    "    submit_immediately=True,\n",
    "    wait_for_completion=False,  # Set to True if you want to wait for results\n",
    "    batch_description=\"Testing OpenAI Batch API with 50 PMC articles for cost savings\"\n",
    ")'''"
   ]
  },
  {
   "cell_type": "code",
   "execution_count": null,
   "id": "ab20f1ec",
   "metadata": {},
   "outputs": [],
   "source": [
    "'''# Simple chunking and submission - NO monitoring or result combination\n",
    "result = dg.split_jsonl_and_submit(\n",
    "    batch_file_path='scripts/tmp/batch_requests_openai_all_SAGE.jsonl',\n",
    "    max_file_size_mb=200.0,\n",
    "    api_provider='openai',\n",
    "    wait_between_submissions=30,\n",
    "    batch_description=\"Chunked SAGE batch processing\"\n",
    ")\n",
    "'''"
   ]
  },
  {
   "cell_type": "code",
   "execution_count": null,
   "id": "747d7763",
   "metadata": {},
   "outputs": [],
   "source": [
    "'''for file_path in ['scripts/tmp/batch_requests_openai_all_SAGE_chunk_002.jsonl','scripts/tmp/batch_requests_openai_all_SAGE_chunk_003.jsonl']:\n",
    "    dg.parser.llm_client.submit_batch_job(\n",
    "                        file_path, \n",
    "                        api_provider='openai',\n",
    "                        batch_description= f'file_path: {file_path}'\n",
    "    )'''"
   ]
  },
  {
   "cell_type": "code",
   "execution_count": null,
   "id": "a78727a5",
   "metadata": {},
   "outputs": [],
   "source": [
    "'''batch_id = 'batch_68efcceeb7448190ae19cc890a87aef8'\n",
    "batch_id_1 = 'batch_68efcf6f0c0081909cce95c57d4aa55d'\n",
    "batch_id_2 = 'batch_68efcf7e0dd881909f000e1634efc368'''"
   ]
  },
  {
   "cell_type": "code",
   "execution_count": null,
   "id": "b33b0ad0",
   "metadata": {},
   "outputs": [],
   "source": [
    "'''if not dg.parser:\n",
    "    dg.parser = XMLParser(open_data_repos_ontology=\"open_bio_data_repos.json\", logger=dg.logger,\n",
    "    llm_name=dg.llm)\n",
    "\n",
    "res = dg.parser.llm_client.download_batch_results(\n",
    "    batch_id=batch_id_2,\n",
    "    output_file_path='scripts/tmp/res_2.jsonl',\n",
    "    api_provider='openai'\n",
    ")'''"
   ]
  },
  {
   "cell_type": "code",
   "execution_count": null,
   "id": "eaaf4409",
   "metadata": {},
   "outputs": [],
   "source": [
    "'''# Combine multiple batch result files into one\n",
    "import json\n",
    "\n",
    "# List of result files to combine\n",
    "result_files = [\n",
    "    'scripts/tmp/res_2.jsonl',\n",
    "    'scripts/tmp/res.jsonl',\n",
    "    'scripts/tmp/res.jsonl'  # Note: this appears twice in your list\n",
    "]\n",
    "\n",
    "# Output combined file\n",
    "combined_output = 'scripts/tmp/combined_batch_results.jsonl'\n",
    "\n",
    "# Combine all JSONL files\n",
    "all_results = []\n",
    "total_lines = 0\n",
    "\n",
    "for file_path in result_files:\n",
    "    if os.path.exists(file_path):\n",
    "        print(f\"Reading {file_path}...\")\n",
    "        with open(file_path, 'r', encoding='utf-8') as f:\n",
    "            file_lines = 0\n",
    "            for line in f:\n",
    "                if line.strip():  # Skip empty lines\n",
    "                    all_results.append(line.strip())\n",
    "                    file_lines += 1\n",
    "                    total_lines += 1\n",
    "        print(f\"  → Added {file_lines} lines from {file_path}\")\n",
    "    else:\n",
    "        print(f\"Warning: File not found - {file_path}\")\n",
    "\n",
    "# Write combined results to new file\n",
    "print(f\"\\nWriting {total_lines} total lines to {combined_output}...\")\n",
    "with open(combined_output, 'w', encoding='utf-8') as f:\n",
    "    for line in all_results:\n",
    "        f.write(line + '\\n')\n",
    "\n",
    "print(f\"✅ Combined batch results saved to: {combined_output}\")\n",
    "print(f\"📊 Total lines combined: {total_lines}\")\n",
    "\n",
    "# Verify the combined file\n",
    "file_size_mb = os.path.getsize(combined_output) / 1024 / 1024\n",
    "print(f\"📁 Combined file size: {file_size_mb:.2f} MB\")'''"
   ]
  },
  {
   "cell_type": "code",
   "execution_count": null,
   "id": "f769b646",
   "metadata": {},
   "outputs": [],
   "source": [
    "if dg.parser is None:\n",
    "    dg.parser = XMLParser(dg.open_data_repos_ontology, dg.logger, llm_name=dg.llm)\n",
    "\n",
    "with open('scripts/tmp/combined_batch_results.jsonl', 'r') as f:\n",
    "    lines = f.readlines()\n",
    "print(f\"Number of lines in combined file: {len(lines)}\")"
   ]
  },
  {
   "cell_type": "code",
   "execution_count": null,
   "id": "eed71d6f",
   "metadata": {},
   "outputs": [],
   "source": [
    "res_df = dg.from_batch_resp_file_to_df('scripts/tmp/combined_batch_results.jsonl')"
   ]
  },
  {
   "cell_type": "code",
   "execution_count": null,
   "id": "7655f336",
   "metadata": {},
   "outputs": [],
   "source": [
    "res_df.to_csv('scripts/output/combined_results.csv', index=False)\n",
    "len(res_df)"
   ]
  },
  {
   "cell_type": "code",
   "execution_count": null,
   "id": "607c0120",
   "metadata": {},
   "outputs": [],
   "source": [
    "new_datasets_append = dg.process_articles(\n",
    "    ['https://pmc.ncbi.nlm.nih.gov/articles/PMC8637040','https://pmc.ncbi.nlm.nih.gov/articles/PMC10092953'],\n",
    "    prompt_name=\"GPT_FDR_FewShot_Syn\",\n",
    "    response_format=dataset_response_schema_gpt\n",
    ")"
   ]
  },
  {
   "cell_type": "code",
   "execution_count": null,
   "id": "ccf81940",
   "metadata": {},
   "outputs": [],
   "source": [
    "# union dataframes\n",
    "for pmc_link in ['https://pmc.ncbi.nlm.nih.gov/articles/PMC8637040','https://pmc.ncbi.nlm.nih.gov/articles/PMC10092953']:\n",
    "    final_df = pd.concat([res_df, new_datasets_append[pmc_link]], ignore_index=True)"
   ]
  },
  {
   "cell_type": "code",
   "execution_count": null,
   "id": "76e439a9",
   "metadata": {},
   "outputs": [],
   "source": [
    "final_df.to_csv('scripts/output/combined_results.csv', index=False)"
   ]
  },
  {
   "cell_type": "code",
   "execution_count": null,
   "id": "c55f6c1a",
   "metadata": {},
   "outputs": [],
   "source": [
    "'''with open('/Users/pietro/Downloads/batch_68ed8a97bf98819090f2cb62841f0219_error.jsonl') as f:\n",
    "    error_lines = f.readlines()'''"
   ]
  },
  {
   "cell_type": "code",
   "execution_count": null,
   "id": "26a269a0",
   "metadata": {},
   "outputs": [],
   "source": [
    "gt = pd.read_csv('scripts/output/gold/SAGE_groundtruth.csv')"
   ]
  },
  {
   "cell_type": "code",
   "execution_count": null,
   "id": "5f612693",
   "metadata": {},
   "outputs": [],
   "source": [
    "#res_df = pd.read_csv('scripts/output/syn_data_results/result_gemini-2.5-flash_full-input.csv')\n",
    "res_df = pd.read_csv('scripts/output/combined_results.csv')"
   ]
  },
  {
   "cell_type": "code",
   "execution_count": null,
   "id": "be99b01e",
   "metadata": {},
   "outputs": [],
   "source": [
    "evaluate_performance(\n",
    "    res_df,\n",
    "    gt,\n",
    "    dg,\n",
    "    'scripts/output/false_positives.txt', \n",
    "    false_negatives_file='scripts/output/false_negatives.txt',\n",
    "    repo_return=True\n",
    "    )"
   ]
  },
  {
   "cell_type": "code",
   "execution_count": null,
   "id": "8c24d644",
   "metadata": {},
   "outputs": [],
   "source": [
    "len(res_df[res_df['data_repository']=='synapse.org'])"
   ]
  },
  {
   "cell_type": "code",
   "execution_count": null,
   "id": "095230d3",
   "metadata": {},
   "outputs": [],
   "source": []
  }
 ],
 "metadata": {
  "kernelspec": {
   "display_name": "torcharm",
   "language": "python",
   "name": "python3"
  },
  "language_info": {
   "codemirror_mode": {
    "name": "ipython",
    "version": 3
   },
   "file_extension": ".py",
   "mimetype": "text/x-python",
   "name": "python",
   "nbconvert_exporter": "python",
   "pygments_lexer": "ipython3",
   "version": "3.12.11"
  }
 },
 "nbformat": 4,
 "nbformat_minor": 5
}
