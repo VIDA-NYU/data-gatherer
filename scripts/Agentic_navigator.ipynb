{
 "cells": [
  {
   "cell_type": "code",
   "execution_count": 1,
   "id": "ad1baf88",
   "metadata": {},
   "outputs": [],
   "source": [
    "import os\n",
    "import pandas as pd\n",
    "from data_gatherer.data_gatherer import DataGatherer\n",
    "from data_gatherer.llm.response_schema import *"
   ]
  },
  {
   "cell_type": "code",
   "execution_count": 2,
   "id": "a0319a9e",
   "metadata": {},
   "outputs": [
    {
     "name": "stderr",
     "output_type": "stream",
     "text": [
      "\u001b[97mdata_gatherer.py - line 329 - INFO - Setting up data fetcher...\u001b[0m\n",
      "\u001b[97mdata_fetcher.py - line 91 - DEBUG - DataFetcher (WebScraper) initialized.\u001b[0m\n",
      "\u001b[97mdata_fetcher.py - line 102 - INFO - Backup data store initialized: 1313 publications, valid: True\u001b[0m\n",
      "\u001b[97mdata_fetcher.py - line 538 - DEBUG - WebScraper initialized.\u001b[0m\n",
      "\u001b[97mdata_gatherer.py - line 359 - INFO - Data fetcher setup completed.\u001b[0m\n",
      "\u001b[97mdata_fetcher.py - line 1036 - DEBUG - DataCompletenessChecker initialized.\u001b[0m\n",
      "\u001b[97mdata_gatherer.py - line 108 - INFO - DataGatherer orchestrator initialized. Extraction Model: gemini-2.5-flash\u001b[0m\n"
     ]
    }
   ],
   "source": [
    "data_gatherer = DataGatherer(llm_name=\"gemini-2.5-flash\", log_level=\"DEBUG\", process_entire_document=True, load_from_cache=False, save_to_cache=False)"
   ]
  },
  {
   "cell_type": "code",
   "execution_count": 3,
   "id": "d47ab036",
   "metadata": {},
   "outputs": [
    {
     "data": {
      "text/plain": [
       "['scripts/exp_input/bdf_paper_pdfs/Proteogenomic Analysis of Human Colon Cancer Reveals New Therapeutic Opportunities .pdf',\n",
       " 'scripts/exp_input/bdf_paper_pdfs/Proteogenomic Characterization of Endometrial Carcinoma .pdf',\n",
       " 'scripts/exp_input/bdf_paper_pdfs/Proteogenomic Characterization of Ovarian HGSC Implicates Mitotic Kinases, Replication Stress in Observed Chromosomal Instability.pdf',\n",
       " 'scripts/exp_input/bdf_paper_pdfs/Proteogenomic Characterization Reveals Therapeutic Vulnerabilities in Lung Adenocarcinoma .pdf',\n",
       " 'scripts/exp_input/bdf_paper_pdfs/Proteogenomic insights into the biology and treatment of HPV-negative head and neck squamous cell carcinoma.pdf',\n",
       " 'scripts/exp_input/bdf_paper_pdfs/Proteogenomic and metabolomic characterization of human glioblastoma .pdf',\n",
       " 'scripts/exp_input/bdf_paper_pdfs/Proteogenomic characterization of pancreatic ductal adenocarcinoma .pdf',\n",
       " 'scripts/exp_input/bdf_paper_pdfs/A proteogenomic portrait of lung squamous cell carcinoma .pdf',\n",
       " 'scripts/exp_input/bdf_paper_pdfs/Proteogenomic Landscape of Breast Cancer Tumorigenesis and Targeted Therapy .pdf',\n",
       " 'scripts/exp_input/bdf_paper_pdfs/Integrated Proteogenomic Characterization of Clear Cell Renal Cell Carcinoma .pdf']"
      ]
     },
     "execution_count": 3,
     "metadata": {},
     "output_type": "execute_result"
    }
   ],
   "source": [
    "articles = []\n",
    "\n",
    "for article in os.listdir('scripts/exp_input/bdf_paper_pdfs/'):\n",
    "    articles.append(os.path.join('scripts/exp_input/bdf_paper_pdfs/', article))\n",
    "\n",
    "articles"
   ]
  },
  {
   "cell_type": "code",
   "execution_count": 4,
   "id": "06d39d47",
   "metadata": {},
   "outputs": [
    {
     "data": {
      "text/plain": [
       "['https://pmc.ncbi.nlm.nih.gov/articles/PMC8475722/',\n",
       " 'https://pmc.ncbi.nlm.nih.gov/articles/PMC7331093/',\n",
       " 'https://pmc.ncbi.nlm.nih.gov/articles/PMC7233456/',\n",
       " 'https://pmc.ncbi.nlm.nih.gov/articles/PMC8077737/',\n",
       " 'https://pmc.ncbi.nlm.nih.gov/articles/PMC6768830/',\n",
       " 'https://pmc.ncbi.nlm.nih.gov/articles/PMC8044053/',\n",
       " 'https://pmc.ncbi.nlm.nih.gov/articles/PMC7946781/',\n",
       " 'https://pmc.ncbi.nlm.nih.gov/articles/PMC8475722/',\n",
       " 'https://pmc.ncbi.nlm.nih.gov/articles/PMC7373300/',\n",
       " 'https://pmc.ncbi.nlm.nih.gov/articles/PMC7289043/',\n",
       " 'https://pmc.ncbi.nlm.nih.gov/articles/PMC8654574/']"
      ]
     },
     "execution_count": 4,
     "metadata": {},
     "output_type": "execute_result"
    }
   ],
   "source": [
    "articles = [\n",
    "    \"https://pmc.ncbi.nlm.nih.gov/articles/PMC8475722/\",\n",
    "    \"https://pmc.ncbi.nlm.nih.gov/articles/PMC7331093/\",\n",
    "    \"https://pmc.ncbi.nlm.nih.gov/articles/PMC7233456/\",\n",
    "    \"https://pmc.ncbi.nlm.nih.gov/articles/PMC8077737/\",\n",
    "    \"https://pmc.ncbi.nlm.nih.gov/articles/PMC6768830/\",\n",
    "    \"https://pmc.ncbi.nlm.nih.gov/articles/PMC8044053/\",\n",
    "    \"https://pmc.ncbi.nlm.nih.gov/articles/PMC7946781/\",\n",
    "    \"https://pmc.ncbi.nlm.nih.gov/articles/PMC8475722/\",\n",
    "    \"https://pmc.ncbi.nlm.nih.gov/articles/PMC7373300/\",\n",
    "    \"https://pmc.ncbi.nlm.nih.gov/articles/PMC7289043/\",\n",
    "    \"https://pmc.ncbi.nlm.nih.gov/articles/PMC8654574/\"\n",
    "]\n",
    "\n",
    "articles"
   ]
  },
  {
   "cell_type": "code",
   "execution_count": 5,
   "id": "665d9186",
   "metadata": {},
   "outputs": [
    {
     "name": "stderr",
     "output_type": "stream",
     "text": [
      "\u001b[97mdata_gatherer.py - line 693 - DEBUG - Starting to process URL list...\u001b[0m\n",
      "\u001b[97mdata_gatherer.py - line 700 - INFO - #0 function call: self.process_url(https://pmc.ncbi.nlm.nih.gov/articles/PMC8475722/)\u001b[0m\n",
      "\u001b[97mdata_gatherer.py - line 425 - INFO - Processing URL: https://pmc.ncbi.nlm.nih.gov/articles/PMC8475722/\u001b[0m\n",
      "\u001b[97mdata_fetcher.py - line 158 - DEBUG - URL: https://pmc.ncbi.nlm.nih.gov/articles/PMC8475722/\u001b[0m\n",
      "\u001b[97mdata_fetcher.py - line 261 - DEBUG - update_DataFetcher_settings for URL: https://pmc.ncbi.nlm.nih.gov/articles/PMC8475722/\u001b[0m\n",
      "\u001b[97mdata_fetcher.py - line 363 - DEBUG - Checking if URL is a PDF: https://pmc.ncbi.nlm.nih.gov/articles/PMC8475722/\u001b[0m\n",
      "\u001b[97mdata_fetcher.py - line 348 - DEBUG - Checking PMC with pattern https://www.ncbi.nlm.nih.gov/pmc/articles/\u001b[0m\n",
      "\u001b[97mdata_fetcher.py - line 348 - DEBUG - Checking PMC with pattern https://pmc.ncbi.nlm.nih.gov/\u001b[0m\n",
      "\u001b[97mdata_fetcher.py - line 351 - DEBUG - URL detected as PMC.\u001b[0m\n",
      "\u001b[97mdata_fetcher.py - line 278 - INFO - API detected: PMC\u001b[0m\n",
      "\u001b[97mdata_fetcher.py - line 286 - INFO - Creating EntrezFetcher with backup support\u001b[0m\n",
      "\u001b[97mdata_fetcher.py - line 91 - DEBUG - DataFetcher (EntrezFetcher) initialized.\u001b[0m\n",
      "\u001b[97mdata_fetcher.py - line 102 - INFO - Backup data store initialized: 1313 publications, valid: True\u001b[0m\n",
      "\u001b[97mdata_fetcher.py - line 832 - INFO - Raw_data_format: XML\u001b[0m\n",
      "\u001b[97mdata_fetcher.py - line 841 - DEBUG - EntrezFetcher initialized.\u001b[0m\n",
      "\u001b[97mdata_gatherer.py - line 433 - INFO - Type of data_fetcher EntrezFetcher\u001b[0m\n",
      "\u001b[97mdata_gatherer.py - line 444 - DEBUG - Fetching Raw content...\u001b[0m\n",
      "\u001b[97mdata_fetcher.py - line 862 - INFO - Local data not found, fetching live from API for PMC8475722\u001b[0m\n",
      "\u001b[97mdata_fetcher.py - line 873 - INFO - API request: https://eutils.ncbi.nlm.nih.gov/entrez/eutils/efetch.fcgi?db=pmc&id=PMC8475722&retmode=xml&api_key=426d4afdbf84343737c3138818880bc88208\u001b[0m\n",
      "\u001b[97mdata_fetcher.py - line 882 - DEBUG - Successfully fetched data for PMC8475722\u001b[0m\n",
      "\u001b[97mxml_retriever.py - line 55 - DEBUG - Checking XML completeness for https://pmc.ncbi.nlm.nih.gov/articles/PMC8475722/\u001b[0m\n",
      "\u001b[97mxml_retriever.py - line 452 - DEBUG - type of raw_data: <class 'lxml.etree._Element'>, raw_data: <Element pmc-articleset at 0x1573f8dc0>\u001b[0m\n",
      "\u001b[97mxml_retriever.py - line 454 - INFO - ----Checking for data_availability_sections section in raw data.\u001b[0m\n",
      "\u001b[97mxml_retriever.py - line 69 - INFO - Loading target sections for section name: data_availability_sections\u001b[0m\n",
      "\u001b[97mxml_retriever.py - line 456 - DEBUG - Section patterns: [\".//sec[@sec-type='data-availability']\", \".//notes[@notes-type='data-availability']\", \".//notes[@notes-type='data-availability']\"]\u001b[0m\n",
      "\u001b[97mxml_retriever.py - line 458 - DEBUG - Namespaces: {'xlink': 'http://www.w3.org/1999/xlink'}\u001b[0m\n",
      "\u001b[97mxml_retriever.py - line 461 - DEBUG - Checking pattern: .//sec[@sec-type='data-availability']\u001b[0m\n",
      "\u001b[97mxml_retriever.py - line 461 - DEBUG - Checking pattern: .//notes[@notes-type='data-availability']\u001b[0m\n",
      "\u001b[97mxml_retriever.py - line 461 - DEBUG - Checking pattern: .//notes[@notes-type='data-availability']\u001b[0m\n",
      "\u001b[97mxml_retriever.py - line 69 - INFO - Loading target sections for section name: data_availability_sections\u001b[0m\n",
      "\u001b[97mxml_retriever.py - line 473 - DEBUG - Checking XPath: //section[h2[contains(text(), 'Data Availability')]]\u001b[0m\n",
      "\u001b[97mxml_retriever.py - line 473 - DEBUG - Checking XPath: //section[h2[contains(text(), 'Data and Code Availability')]]\u001b[0m\n",
      "\u001b[97mxml_retriever.py - line 473 - DEBUG - Checking XPath: //section[h3[contains(text(), 'Data Availability')]]\u001b[0m\n",
      "\u001b[97mxml_retriever.py - line 473 - DEBUG - Checking XPath: //section[h3[contains(text(), 'Data and Code Availability')]]\u001b[0m\n",
      "\u001b[97mxml_retriever.py - line 473 - DEBUG - Checking XPath: //section[h4[contains(text(), 'Data Availability')]]\u001b[0m\n",
      "\u001b[97mxml_retriever.py - line 473 - DEBUG - Checking XPath: //section[h4[contains(text(), 'Data and Code Availability')]]\u001b[0m\n",
      "\u001b[97mxml_retriever.py - line 473 - DEBUG - Checking XPath: following-sibling::p[1]\u001b[0m\n",
      "\u001b[97mxml_retriever.py - line 473 - DEBUG - Checking XPath: //section[h2[contains(text(), 'Footnotes')]]\u001b[0m\n",
      "\u001b[97mxml_retriever.py - line 59 - INFO - Missing section in XML: data_availability_sections\u001b[0m\n",
      "\u001b[97mdata_gatherer.py - line 465 - INFO - Fallback from EntrezFetcher to False data fetcher.\u001b[0m\n",
      "\u001b[97mdata_fetcher.py - line 261 - DEBUG - update_DataFetcher_settings for URL: https://pmc.ncbi.nlm.nih.gov/articles/PMC8475722/\u001b[0m\n",
      "\u001b[97mdata_fetcher.py - line 363 - DEBUG - Checking if URL is a PDF: https://pmc.ncbi.nlm.nih.gov/articles/PMC8475722/\u001b[0m\n",
      "\u001b[97mdata_fetcher.py - line 348 - DEBUG - Checking PMC with pattern https://www.ncbi.nlm.nih.gov/pmc/articles/\u001b[0m\n",
      "\u001b[97mdata_fetcher.py - line 348 - DEBUG - Checking PMC with pattern https://pmc.ncbi.nlm.nih.gov/\u001b[0m\n",
      "\u001b[97mdata_fetcher.py - line 351 - DEBUG - URL detected as PMC.\u001b[0m\n",
      "\u001b[97mdata_fetcher.py - line 278 - INFO - API detected: PMC\u001b[0m\n",
      "\u001b[97mdata_fetcher.py - line 284 - INFO - Reusing existing EntrezFetcher instance with backup support.\u001b[0m\n",
      "\u001b[97mdata_fetcher.py - line 862 - INFO - Local data not found, fetching live from API for PMC8475722\u001b[0m\n",
      "\u001b[97mdata_fetcher.py - line 873 - INFO - API request: https://eutils.ncbi.nlm.nih.gov/entrez/eutils/efetch.fcgi?db=pmc&id=PMC8475722&retmode=xml&api_key=426d4afdbf84343737c3138818880bc88208\u001b[0m\n",
      "\u001b[97mdata_fetcher.py - line 882 - DEBUG - Successfully fetched data for PMC8475722\u001b[0m\n",
      "\u001b[97mdata_gatherer.py - line 602 - ERROR - Error processing URL https://pmc.ncbi.nlm.nih.gov/articles/PMC8475722/: 'EntrezFetcher' object has no attribute 'remove_cookie_patterns'\u001b[0m\n",
      "Traceback (most recent call last):\n",
      "  File \"/Users/pietro/Desktop/VIDA-NYU/data-gatherer/data_gatherer/data_gatherer.py\", line 479, in process_url\n",
      "    raw_data = self.data_fetcher.remove_cookie_patterns(raw_data) if self.raw_data_format == \"HTML\" else raw_data\n",
      "               ^^^^^^^^^^^^^^^^^^^^^^^^^^^^^^^^^^^^^^^^\n",
      "AttributeError: 'EntrezFetcher' object has no attribute 'remove_cookie_patterns'\n",
      "\u001b[97mdata_gatherer.py - line 723 - INFO - \n",
      "Progress: 1/1 (100.00%) | Elapsed: 00:00:00 | ETA: 00:00:00\n",
      "\u001b[0m\n",
      "\u001b[97mdata_gatherer.py - line 728 - DEBUG - Completed processing all URLs.\u001b[0m\n"
     ]
    }
   ],
   "source": [
    "parsed_data = data_gatherer.process_articles(\n",
    "    articles[:1], \n",
    "    response_format=dataset_response_schema_with_use_description,\n",
    "    prompt_name=\"GPT_FDR_FewShot_Descr\",\n",
    "    grobid_for_pdf=False,\n",
    "    write_htmls_xmls=True,\n",
    "    article_file_dir='scripts/tmp/raw_files/'\n",
    "    )"
   ]
  },
  {
   "cell_type": "code",
   "execution_count": 6,
   "id": "961e2338",
   "metadata": {},
   "outputs": [],
   "source": [
    "df = pd.DataFrame()\n",
    "\n",
    "for k, v in parsed_data.items():\n",
    "    df = pd.concat([df, v], ignore_index=True)\n",
    "\n",
    "df.to_csv('scripts/output/bdf_parsed_data_gemini_flash_xml.csv', index=False)"
   ]
  },
  {
   "cell_type": "code",
   "execution_count": 7,
   "id": "da823880",
   "metadata": {},
   "outputs": [
    {
     "data": {
      "text/html": [
       "<div>\n",
       "<style scoped>\n",
       "    .dataframe tbody tr th:only-of-type {\n",
       "        vertical-align: middle;\n",
       "    }\n",
       "\n",
       "    .dataframe tbody tr th {\n",
       "        vertical-align: top;\n",
       "    }\n",
       "\n",
       "    .dataframe thead th {\n",
       "        text-align: right;\n",
       "    }\n",
       "</style>\n",
       "<table border=\"1\" class=\"dataframe\">\n",
       "  <thead>\n",
       "    <tr style=\"text-align: right;\">\n",
       "      <th></th>\n",
       "    </tr>\n",
       "  </thead>\n",
       "  <tbody>\n",
       "  </tbody>\n",
       "</table>\n",
       "</div>"
      ],
      "text/plain": [
       "Empty DataFrame\n",
       "Columns: []\n",
       "Index: []"
      ]
     },
     "execution_count": 7,
     "metadata": {},
     "output_type": "execute_result"
    }
   ],
   "source": [
    "df"
   ]
  },
  {
   "cell_type": "code",
   "execution_count": null,
   "id": "a89d09bc",
   "metadata": {},
   "outputs": [],
   "source": []
  }
 ],
 "metadata": {
  "kernelspec": {
   "display_name": "2025_arm",
   "language": "python",
   "name": "python3"
  },
  "language_info": {
   "codemirror_mode": {
    "name": "ipython",
    "version": 3
   },
   "file_extension": ".py",
   "mimetype": "text/x-python",
   "name": "python",
   "nbconvert_exporter": "python",
   "pygments_lexer": "ipython3",
   "version": "3.12.11"
  }
 },
 "nbformat": 4,
 "nbformat_minor": 5
}
