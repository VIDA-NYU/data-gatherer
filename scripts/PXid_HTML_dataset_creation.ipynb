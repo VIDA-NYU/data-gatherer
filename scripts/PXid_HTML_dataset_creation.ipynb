{
 "cells": [
  {
   "cell_type": "code",
   "id": "initial_id",
   "metadata": {
    "collapsed": true,
    "ExecuteTime": {
     "end_time": "2025-03-18T15:26:11.485223Z",
     "start_time": "2025-03-18T15:26:04.715441Z"
    }
   },
   "source": [
    "# import from the files in this directory\n",
    "from dotenv import load_dotenv\n",
    "from data_gatherer import *\n",
    "import os\n",
    "import pandas as pd\n",
    "import re\n",
    "import time\n",
    "import json\n",
    "import requests"
   ],
   "outputs": [],
   "execution_count": 1
  },
  {
   "metadata": {
    "ExecuteTime": {
     "end_time": "2025-03-15T08:41:29.357500Z",
     "start_time": "2025-03-15T08:41:29.354784Z"
    }
   },
   "cell_type": "code",
   "source": "# os.remove(\"exp_input/fetched_data.parquet\")",
   "id": "61037ca47d2f13d",
   "outputs": [],
   "execution_count": 2
  },
  {
   "metadata": {
    "ExecuteTime": {
     "end_time": "2025-03-15T08:41:32.807113Z",
     "start_time": "2025-03-15T08:41:29.358837Z"
    }
   },
   "cell_type": "code",
   "source": [
    "load_dotenv()\n",
    "config_path = 'config_experiment.json'\n",
    "orchestrator = DataGatherer(config_path)\n",
    "\n",
    "ground_truth_src = \"exp_input/dataset_citation_records_Table.parquet\"\n",
    "fetched_data_path = \"exp_input/fetched_data.parquet\"\n",
    "dataset_table = \"exp_input/Table_datasets.parquet\"\n",
    "\n",
    "orchestrator.logger.info(f\"Ground Truth file exists: {os.path.exists(ground_truth_src)}\")\n",
    "orchestrator.logger.info(f\"ground_truth_X_y file exists: {os.path.exists(fetched_data_path)}\")\n"
   ],
   "id": "d38134199deb3f48",
   "outputs": [
    {
     "name": "stderr",
     "output_type": "stream",
     "text": [
      "orchestrator.py - line 21 - INFO - Data_Gatherer Orchestrator initialized. Extraction step Model: gemini-2.0-flash\n",
      "4205560702.py - line 9 - INFO - Ground Truth file exists: True\n",
      "4205560702.py - line 10 - INFO - ground_truth_X_y file exists: True\n"
     ]
    }
   ],
   "execution_count": 3
  },
  {
   "metadata": {
    "ExecuteTime": {
     "end_time": "2025-03-15T08:41:33.240211Z",
     "start_time": "2025-03-15T08:41:32.816132Z"
    }
   },
   "cell_type": "code",
   "source": [
    "df_ground_truth_src = pd.read_parquet(ground_truth_src)\n",
    "orchestrator.logger.info(f\"len ground_truth: {len(df_ground_truth_src)}\")\n",
    "df_ground_truth_src.sample(10)"
   ],
   "id": "be0bb73dae7df71d",
   "outputs": [
    {
     "name": "stderr",
     "output_type": "stream",
     "text": [
      "1784264032.py - line 2 - INFO - len ground_truth: 397263\n"
     ]
    },
    {
     "data": {
      "text/plain": [
       "       identifier repository  \\\n",
       "34242   PXD003350      PRIDE   \n",
       "392949    GSE7099        GEO   \n",
       "208973  GSE137115        GEO   \n",
       "284683   GSE77617        GEO   \n",
       "92960   GSE173998        GEO   \n",
       "363472   GSE34428        GEO   \n",
       "215392  GSE123609        GEO   \n",
       "13869   PXD047848      jPOST   \n",
       "397198  GSE266552        GEO   \n",
       "202522  GSE153365        GEO   \n",
       "\n",
       "                                  citing_publication_link  \\\n",
       "34242   https://www.ncbi.nlm.nih.gov/pmc/articles/PMC5...   \n",
       "392949             https://dx.doi.org/10.1128/EC.00155-06   \n",
       "208973        https://dx.doi.org/10.1182/blood.2020004801   \n",
       "284683  https://www.ncbi.nlm.nih.gov/pmc/articles/PMC5...   \n",
       "92960       https://dx.doi.org/10.1038/s41598-023-39626-0   \n",
       "363472  https://www.ncbi.nlm.nih.gov/pmc/articles/PMC3...   \n",
       "215392               https://dx.doi.org/10.1002/ijc.32904   \n",
       "13869   https://www.ncbi.nlm.nih.gov/pmc/articles/PMC1...   \n",
       "397198  https://www.ncbi.nlm.nih.gov/pmc/articles/PMC1...   \n",
       "202522  https://www.ncbi.nlm.nih.gov/pmc/articles/PMC7...   \n",
       "\n",
       "            citation_record_source  citation_record_from_doi  \n",
       "34242   proteomexchange_search.tsv                         0  \n",
       "392949                     GEO_API                         1  \n",
       "208973                     GEO_API                         1  \n",
       "284683                     GEO_API                         0  \n",
       "92960                      GEO_API                         1  \n",
       "363472                     GEO_API                         0  \n",
       "215392                     GEO_API                         1  \n",
       "13869   proteomexchange_search.tsv                         0  \n",
       "397198                     GEO_API                         0  \n",
       "202522                     GEO_API                         0  "
      ],
      "text/html": [
       "<div>\n",
       "<style scoped>\n",
       "    .dataframe tbody tr th:only-of-type {\n",
       "        vertical-align: middle;\n",
       "    }\n",
       "\n",
       "    .dataframe tbody tr th {\n",
       "        vertical-align: top;\n",
       "    }\n",
       "\n",
       "    .dataframe thead th {\n",
       "        text-align: right;\n",
       "    }\n",
       "</style>\n",
       "<table border=\"1\" class=\"dataframe\">\n",
       "  <thead>\n",
       "    <tr style=\"text-align: right;\">\n",
       "      <th></th>\n",
       "      <th>identifier</th>\n",
       "      <th>repository</th>\n",
       "      <th>citing_publication_link</th>\n",
       "      <th>citation_record_source</th>\n",
       "      <th>citation_record_from_doi</th>\n",
       "    </tr>\n",
       "  </thead>\n",
       "  <tbody>\n",
       "    <tr>\n",
       "      <th>34242</th>\n",
       "      <td>PXD003350</td>\n",
       "      <td>PRIDE</td>\n",
       "      <td>https://www.ncbi.nlm.nih.gov/pmc/articles/PMC5...</td>\n",
       "      <td>proteomexchange_search.tsv</td>\n",
       "      <td>0</td>\n",
       "    </tr>\n",
       "    <tr>\n",
       "      <th>392949</th>\n",
       "      <td>GSE7099</td>\n",
       "      <td>GEO</td>\n",
       "      <td>https://dx.doi.org/10.1128/EC.00155-06</td>\n",
       "      <td>GEO_API</td>\n",
       "      <td>1</td>\n",
       "    </tr>\n",
       "    <tr>\n",
       "      <th>208973</th>\n",
       "      <td>GSE137115</td>\n",
       "      <td>GEO</td>\n",
       "      <td>https://dx.doi.org/10.1182/blood.2020004801</td>\n",
       "      <td>GEO_API</td>\n",
       "      <td>1</td>\n",
       "    </tr>\n",
       "    <tr>\n",
       "      <th>284683</th>\n",
       "      <td>GSE77617</td>\n",
       "      <td>GEO</td>\n",
       "      <td>https://www.ncbi.nlm.nih.gov/pmc/articles/PMC5...</td>\n",
       "      <td>GEO_API</td>\n",
       "      <td>0</td>\n",
       "    </tr>\n",
       "    <tr>\n",
       "      <th>92960</th>\n",
       "      <td>GSE173998</td>\n",
       "      <td>GEO</td>\n",
       "      <td>https://dx.doi.org/10.1038/s41598-023-39626-0</td>\n",
       "      <td>GEO_API</td>\n",
       "      <td>1</td>\n",
       "    </tr>\n",
       "    <tr>\n",
       "      <th>363472</th>\n",
       "      <td>GSE34428</td>\n",
       "      <td>GEO</td>\n",
       "      <td>https://www.ncbi.nlm.nih.gov/pmc/articles/PMC3...</td>\n",
       "      <td>GEO_API</td>\n",
       "      <td>0</td>\n",
       "    </tr>\n",
       "    <tr>\n",
       "      <th>215392</th>\n",
       "      <td>GSE123609</td>\n",
       "      <td>GEO</td>\n",
       "      <td>https://dx.doi.org/10.1002/ijc.32904</td>\n",
       "      <td>GEO_API</td>\n",
       "      <td>1</td>\n",
       "    </tr>\n",
       "    <tr>\n",
       "      <th>13869</th>\n",
       "      <td>PXD047848</td>\n",
       "      <td>jPOST</td>\n",
       "      <td>https://www.ncbi.nlm.nih.gov/pmc/articles/PMC1...</td>\n",
       "      <td>proteomexchange_search.tsv</td>\n",
       "      <td>0</td>\n",
       "    </tr>\n",
       "    <tr>\n",
       "      <th>397198</th>\n",
       "      <td>GSE266552</td>\n",
       "      <td>GEO</td>\n",
       "      <td>https://www.ncbi.nlm.nih.gov/pmc/articles/PMC1...</td>\n",
       "      <td>GEO_API</td>\n",
       "      <td>0</td>\n",
       "    </tr>\n",
       "    <tr>\n",
       "      <th>202522</th>\n",
       "      <td>GSE153365</td>\n",
       "      <td>GEO</td>\n",
       "      <td>https://www.ncbi.nlm.nih.gov/pmc/articles/PMC7...</td>\n",
       "      <td>GEO_API</td>\n",
       "      <td>0</td>\n",
       "    </tr>\n",
       "  </tbody>\n",
       "</table>\n",
       "</div>"
      ]
     },
     "execution_count": 4,
     "metadata": {},
     "output_type": "execute_result"
    }
   ],
   "execution_count": 4
  },
  {
   "metadata": {
    "ExecuteTime": {
     "end_time": "2025-03-15T08:41:35.265715Z",
     "start_time": "2025-03-15T08:41:33.244180Z"
    }
   },
   "cell_type": "code",
   "source": [
    "# raw_data_v1.csv \\ PRIDEid_HTML_data.csv is the file containing the old data\n",
    "try:\n",
    "    df_old = pd.read_parquet(fetched_data_path)\n",
    "    \n",
    "    if \"publication\" in df_old.columns:\n",
    "        df_old.set_index(\"publication\",inplace=True, drop=False) \n",
    "        \n",
    "    orchestrator.logger.info(f\"File found: {df_old.columns}\")\n",
    "    \n",
    "except FileNotFoundError:\n",
    "    df_old = pd.DataFrame(columns=['citing_publication_link','identifier','repository','raw_html'])\n",
    "\n",
    "    orchestrator.logger.info(\"File not found\")"
   ],
   "id": "8b0796baf29ce93d",
   "outputs": [
    {
     "name": "stderr",
     "output_type": "stream",
     "text": [
      "2828460066.py - line 8 - INFO - File found: Index(['publication', 'src_website', 'dataset_uid', 'repo_name', 'raw_html',\n",
      "       'identifiers_in_HTML'],\n",
      "      dtype='object')\n"
     ]
    }
   ],
   "execution_count": 5
  },
  {
   "metadata": {},
   "cell_type": "code",
   "source": [
    "# count distinct values in dataset_uids\n",
    "flat_list = [item for sublist in df_old['dataset_uid'].dropna().str.split(',') for item in sublist]\n",
    "n_datasets = len(set(flat_list))\n",
    "print(f\"# of Datasets already added: {n_datasets}\")\n",
    "print(f\"# of Publications already added: {len(df_old)}\")"
   ],
   "id": "9ca3153217696ffd",
   "outputs": [
    {
     "name": "stdout",
     "output_type": "stream",
     "text": [
      "# of Datasets already added: 2730\n",
      "# of Publications already added: 1501\n"
     ]
    }
   ],
   "execution_count": 6
  },
  {
   "metadata": {
    "ExecuteTime": {
     "end_time": "2025-03-15T08:41:42.661794Z",
     "start_time": "2025-03-15T08:41:35.280128Z"
    }
   },
   "cell_type": "code",
   "source": [
    "df_ground_truth_src = df_ground_truth_src[df_ground_truth_src['citation_record_from_doi']==0].drop(['citation_record_from_doi'], axis=1)\n",
    "df_ground_truth_src = df_ground_truth_src.groupby('citing_publication_link').agg({\n",
    "        'citing_publication_link': 'first',  # Keep the first publication,\n",
    "        'identifier': lambda x: ','.join(set(x)),  # Concatenate unique dataset_uids\n",
    "        'repository': lambda x: ','.join(set(x)),   # Concatenate unique repo_names\n",
    "        'citation_record_source': lambda x: ','.join(set(x)),  # Keep the first title,\n",
    "        # 'title': lambda x: ','.join(set(x)),  # Keep the first title,\n",
    "    })\n",
    "\n",
    "print(len(df_ground_truth_src))\n",
    "print(df_ground_truth_src.columns)"
   ],
   "id": "b9b8510527feb276",
   "outputs": [
    {
     "name": "stdout",
     "output_type": "stream",
     "text": [
      "118575\n",
      "Index(['citing_publication_link', 'identifier', 'repository',\n",
      "       'citation_record_source'],\n",
      "      dtype='object')\n"
     ]
    }
   ],
   "execution_count": 7
  },
  {
   "metadata": {
    "ExecuteTime": {
     "end_time": "2025-03-15T08:41:42.677637Z",
     "start_time": "2025-03-15T08:41:42.663329Z"
    }
   },
   "cell_type": "code",
   "source": "df_ground_truth_src['citation_record_source'].value_counts().head(10)",
   "id": "c5ced914bcb283fe",
   "outputs": [
    {
     "data": {
      "text/plain": [
       "citation_record_source\n",
       "GEO_API                               103169\n",
       "proteomexchange_search.tsv             13703\n",
       "GEO_API,proteomexchange_search.tsv      1703\n",
       "Name: count, dtype: int64"
      ]
     },
     "execution_count": 8,
     "metadata": {},
     "output_type": "execute_result"
    }
   ],
   "execution_count": 8
  },
  {
   "metadata": {
    "ExecuteTime": {
     "end_time": "2025-03-15T08:41:46.930878Z",
     "start_time": "2025-03-15T08:41:42.678845Z"
    }
   },
   "cell_type": "code",
   "source": "driver = orchestrator.setup_data_fetcher()  # Initialize WebDriver once",
   "id": "e005b2aa2edb5fb0",
   "outputs": [
    {
     "name": "stderr",
     "output_type": "stream",
     "text": [
      "orchestrator.py - line 50 - INFO - Data fetcher setup completed.\n"
     ]
    }
   ],
   "execution_count": 9
  },
  {
   "metadata": {
    "ExecuteTime": {
     "end_time": "2025-03-15T08:41:47.102800Z",
     "start_time": "2025-03-15T08:41:46.954412Z"
    }
   },
   "cell_type": "code",
   "source": [
    "sample_size = 25  # Adjust this value\n",
    "\n",
    "stratified_sample = df_ground_truth_src.groupby('citation_record_source', group_keys=False).apply(\n",
    "    lambda x: x.sample(n=min(len(x), sample_size), random_state=142)  # Ensure it doesn't exceed available rows\n",
    ").reset_index(drop=True)"
   ],
   "id": "636e78db3ea957e",
   "outputs": [],
   "execution_count": 10
  },
  {
   "metadata": {
    "ExecuteTime": {
     "end_time": "2025-03-15T08:41:47.401371Z",
     "start_time": "2025-03-15T08:41:47.110397Z"
    }
   },
   "cell_type": "code",
   "source": [
    "data, i = [], 0\n",
    "t0 = time.time()\n",
    "iter_max = 15000  # Limit iterations\n",
    "\n",
    "headers = {\n",
    "    \"User-Agent\": \"Mozilla/5.0 (Windows NT 10.0; Win64; x64) AppleWebKit/537.36 (KHTML, like Gecko) Chrome/114.0.0.0 Safari/537.36\"\n",
    "}\n",
    "\n",
    "for link, id, repo, record_src in stratified_sample.itertuples(index=False):\n",
    "    i += 1\n",
    "    if i >= iter_max:\n",
    "        break\n",
    "\n",
    "    if link in df_old['publication'].values:\n",
    "        orchestrator.logger.info(f\"Skipping publication {link} (already in data)\")\n",
    "        i-=1  # Decrement i to ensure we still process the same number of links\n",
    "        continue\n",
    "\n",
    "    orchestrator.logger.info(f\"Processing URL: {link}\")\n",
    "\n",
    "    try:\n",
    "        response = requests.get(link, headers=headers, timeout=10)\n",
    "        response.raise_for_status()  # Raise error for HTTP failures (4xx, 5xx)\n",
    "\n",
    "        raw_data = response.text  # Extract HTML content\n",
    "\n",
    "        data.append({\n",
    "            \"publication\": link,\n",
    "            \"src_website\": 'ncbi',\n",
    "            \"dataset_uid\": id,\n",
    "            \"repo_name\": repo,\n",
    "            \"raw_html\": raw_data\n",
    "        })\n",
    "\n",
    "    except requests.exceptions.RequestException as e:\n",
    "        orchestrator.logger.error(f\"Error fetching URL {link}: {e}\", exc_info=True)\n",
    "\n",
    "    # Log progress every 100 iterations\n",
    "    if i % 100 == 0 and i > 0:\n",
    "        elapsed = time.time() - t0\n",
    "        eta = (elapsed / (i + 1)) * (len(stratified_sample) - i - 1)\n",
    "        orchestrator.logger.info(f\"\\nProgress {i+1}/{len(stratified_sample)}. ETA {time.strftime('%H:%M:%S', time.gmtime(eta))}\\n\")\n",
    "    \n",
    "    time.sleep(0.5)  # Optional: Add a delay to avoid overwhelming the server\n",
    "\n",
    "print(f\"Time elapsed for {len(data)} iterations: {time.strftime('%H:%M:%S', time.gmtime(time.time() - t0))}\")"
   ],
   "id": "904a8299a670e7d6",
   "outputs": [
    {
     "name": "stderr",
     "output_type": "stream",
     "text": [
      "2964435884.py - line 15 - INFO - Skipping publication https://www.ncbi.nlm.nih.gov/pmc/articles/PMC10761733 (already in data)\n",
      "2964435884.py - line 15 - INFO - Skipping publication https://www.ncbi.nlm.nih.gov/pmc/articles/PMC6518875 (already in data)\n",
      "2964435884.py - line 15 - INFO - Skipping publication https://www.ncbi.nlm.nih.gov/pmc/articles/PMC5784124 (already in data)\n",
      "2964435884.py - line 15 - INFO - Skipping publication https://www.ncbi.nlm.nih.gov/pmc/articles/PMC3160256 (already in data)\n",
      "2964435884.py - line 15 - INFO - Skipping publication https://www.ncbi.nlm.nih.gov/pmc/articles/PMC7935961 (already in data)\n",
      "2964435884.py - line 15 - INFO - Skipping publication https://www.ncbi.nlm.nih.gov/pmc/articles/PMC3988794 (already in data)\n",
      "2964435884.py - line 15 - INFO - Skipping publication https://www.ncbi.nlm.nih.gov/pmc/articles/PMC11455985 (already in data)\n",
      "2964435884.py - line 15 - INFO - Skipping publication https://www.ncbi.nlm.nih.gov/pmc/articles/PMC9878785 (already in data)\n",
      "2964435884.py - line 15 - INFO - Skipping publication https://www.ncbi.nlm.nih.gov/pmc/articles/PMC5718092 (already in data)\n",
      "2964435884.py - line 15 - INFO - Skipping publication https://www.ncbi.nlm.nih.gov/pmc/articles/PMC11302547 (already in data)\n",
      "2964435884.py - line 15 - INFO - Skipping publication https://www.ncbi.nlm.nih.gov/pmc/articles/PMC10666664 (already in data)\n",
      "2964435884.py - line 15 - INFO - Skipping publication https://www.ncbi.nlm.nih.gov/pmc/articles/PMC11171410 (already in data)\n",
      "2964435884.py - line 15 - INFO - Skipping publication https://www.ncbi.nlm.nih.gov/pmc/articles/PMC5546206 (already in data)\n",
      "2964435884.py - line 15 - INFO - Skipping publication https://www.ncbi.nlm.nih.gov/pmc/articles/PMC11787101 (already in data)\n",
      "2964435884.py - line 15 - INFO - Skipping publication https://www.ncbi.nlm.nih.gov/pmc/articles/PMC6366857 (already in data)\n",
      "2964435884.py - line 15 - INFO - Skipping publication https://www.ncbi.nlm.nih.gov/pmc/articles/PMC2877514 (already in data)\n",
      "2964435884.py - line 15 - INFO - Skipping publication https://www.ncbi.nlm.nih.gov/pmc/articles/PMC5000845 (already in data)\n",
      "2964435884.py - line 15 - INFO - Skipping publication https://www.ncbi.nlm.nih.gov/pmc/articles/PMC9790007 (already in data)\n",
      "2964435884.py - line 15 - INFO - Skipping publication https://www.ncbi.nlm.nih.gov/pmc/articles/PMC4447713 (already in data)\n",
      "2964435884.py - line 15 - INFO - Skipping publication https://www.ncbi.nlm.nih.gov/pmc/articles/PMC3923417 (already in data)\n",
      "2964435884.py - line 15 - INFO - Skipping publication https://www.ncbi.nlm.nih.gov/pmc/articles/PMC10997908 (already in data)\n",
      "2964435884.py - line 15 - INFO - Skipping publication https://www.ncbi.nlm.nih.gov/pmc/articles/PMC7335172 (already in data)\n",
      "2964435884.py - line 15 - INFO - Skipping publication https://www.ncbi.nlm.nih.gov/pmc/articles/PMC3349429 (already in data)\n",
      "2964435884.py - line 15 - INFO - Skipping publication https://www.ncbi.nlm.nih.gov/pmc/articles/PMC4400647 (already in data)\n",
      "2964435884.py - line 15 - INFO - Skipping publication https://www.ncbi.nlm.nih.gov/pmc/articles/PMC9886554 (already in data)\n",
      "2964435884.py - line 15 - INFO - Skipping publication https://www.ncbi.nlm.nih.gov/pmc/articles/PMC8313754 (already in data)\n",
      "2964435884.py - line 15 - INFO - Skipping publication https://www.ncbi.nlm.nih.gov/pmc/articles/PMC5877935 (already in data)\n",
      "2964435884.py - line 15 - INFO - Skipping publication https://www.ncbi.nlm.nih.gov/pmc/articles/PMC7598066 (already in data)\n",
      "2964435884.py - line 15 - INFO - Skipping publication https://www.ncbi.nlm.nih.gov/pmc/articles/PMC7065887 (already in data)\n",
      "2964435884.py - line 15 - INFO - Skipping publication https://www.ncbi.nlm.nih.gov/pmc/articles/PMC11134553 (already in data)\n",
      "2964435884.py - line 15 - INFO - Skipping publication https://www.ncbi.nlm.nih.gov/pmc/articles/PMC8064125 (already in data)\n",
      "2964435884.py - line 15 - INFO - Skipping publication https://www.ncbi.nlm.nih.gov/pmc/articles/PMC8115922 (already in data)\n",
      "2964435884.py - line 15 - INFO - Skipping publication https://www.ncbi.nlm.nih.gov/pmc/articles/PMC11303085 (already in data)\n",
      "2964435884.py - line 15 - INFO - Skipping publication https://www.ncbi.nlm.nih.gov/pmc/articles/PMC10869706 (already in data)\n",
      "2964435884.py - line 15 - INFO - Skipping publication https://www.ncbi.nlm.nih.gov/pmc/articles/PMC11444369 (already in data)\n",
      "2964435884.py - line 15 - INFO - Skipping publication https://www.ncbi.nlm.nih.gov/pmc/articles/PMC10359415 (already in data)\n",
      "2964435884.py - line 15 - INFO - Skipping publication https://www.ncbi.nlm.nih.gov/pmc/articles/PMC10879814 (already in data)\n",
      "2964435884.py - line 15 - INFO - Skipping publication https://www.ncbi.nlm.nih.gov/pmc/articles/PMC11331611 (already in data)\n",
      "2964435884.py - line 15 - INFO - Skipping publication https://www.ncbi.nlm.nih.gov/pmc/articles/PMC6987209 (already in data)\n",
      "2964435884.py - line 15 - INFO - Skipping publication https://www.ncbi.nlm.nih.gov/pmc/articles/PMC8004890 (already in data)\n",
      "2964435884.py - line 15 - INFO - Skipping publication https://www.ncbi.nlm.nih.gov/pmc/articles/PMC9355078 (already in data)\n",
      "2964435884.py - line 15 - INFO - Skipping publication https://www.ncbi.nlm.nih.gov/pmc/articles/PMC7203917 (already in data)\n",
      "2964435884.py - line 15 - INFO - Skipping publication https://www.ncbi.nlm.nih.gov/pmc/articles/PMC7301280 (already in data)\n",
      "2964435884.py - line 15 - INFO - Skipping publication https://www.ncbi.nlm.nih.gov/pmc/articles/PMC9535751 (already in data)\n",
      "2964435884.py - line 15 - INFO - Skipping publication https://www.ncbi.nlm.nih.gov/pmc/articles/PMC9659396 (already in data)\n",
      "2964435884.py - line 15 - INFO - Skipping publication https://www.ncbi.nlm.nih.gov/pmc/articles/PMC8285382 (already in data)\n",
      "2964435884.py - line 15 - INFO - Skipping publication https://www.ncbi.nlm.nih.gov/pmc/articles/PMC10050398 (already in data)\n",
      "2964435884.py - line 15 - INFO - Skipping publication https://www.ncbi.nlm.nih.gov/pmc/articles/PMC9945973 (already in data)\n",
      "2964435884.py - line 15 - INFO - Skipping publication https://www.ncbi.nlm.nih.gov/pmc/articles/PMC8478910 (already in data)\n",
      "2964435884.py - line 15 - INFO - Skipping publication https://www.ncbi.nlm.nih.gov/pmc/articles/PMC8190575 (already in data)\n",
      "2964435884.py - line 15 - INFO - Skipping publication https://www.ncbi.nlm.nih.gov/pmc/articles/PMC6482574 (already in data)\n",
      "2964435884.py - line 15 - INFO - Skipping publication https://www.ncbi.nlm.nih.gov/pmc/articles/PMC7431413 (already in data)\n",
      "2964435884.py - line 15 - INFO - Skipping publication https://www.ncbi.nlm.nih.gov/pmc/articles/PMC10668077 (already in data)\n",
      "2964435884.py - line 15 - INFO - Skipping publication https://www.ncbi.nlm.nih.gov/pmc/articles/PMC10612128 (already in data)\n",
      "2964435884.py - line 15 - INFO - Skipping publication https://www.ncbi.nlm.nih.gov/pmc/articles/PMC10310735 (already in data)\n",
      "2964435884.py - line 15 - INFO - Skipping publication https://www.ncbi.nlm.nih.gov/pmc/articles/PMC6790363 (already in data)\n",
      "2964435884.py - line 15 - INFO - Skipping publication https://www.ncbi.nlm.nih.gov/pmc/articles/PMC7394848 (already in data)\n",
      "2964435884.py - line 15 - INFO - Skipping publication https://www.ncbi.nlm.nih.gov/pmc/articles/PMC6345777 (already in data)\n",
      "2964435884.py - line 15 - INFO - Skipping publication https://www.ncbi.nlm.nih.gov/pmc/articles/PMC5655511 (already in data)\n",
      "2964435884.py - line 15 - INFO - Skipping publication https://www.ncbi.nlm.nih.gov/pmc/articles/PMC10353892 (already in data)\n",
      "2964435884.py - line 15 - INFO - Skipping publication https://www.ncbi.nlm.nih.gov/pmc/articles/PMC4850484 (already in data)\n",
      "2964435884.py - line 15 - INFO - Skipping publication https://www.ncbi.nlm.nih.gov/pmc/articles/PMC4367287 (already in data)\n",
      "2964435884.py - line 15 - INFO - Skipping publication https://www.ncbi.nlm.nih.gov/pmc/articles/PMC7934643 (already in data)\n",
      "2964435884.py - line 15 - INFO - Skipping publication https://www.ncbi.nlm.nih.gov/pmc/articles/PMC8819334 (already in data)\n",
      "2964435884.py - line 15 - INFO - Skipping publication https://www.ncbi.nlm.nih.gov/pmc/articles/PMC8364028 (already in data)\n",
      "2964435884.py - line 15 - INFO - Skipping publication https://www.ncbi.nlm.nih.gov/pmc/articles/PMC7229031 (already in data)\n",
      "2964435884.py - line 15 - INFO - Skipping publication https://www.ncbi.nlm.nih.gov/pmc/articles/PMC8145422 (already in data)\n",
      "2964435884.py - line 15 - INFO - Skipping publication https://www.ncbi.nlm.nih.gov/pmc/articles/PMC10770503 (already in data)\n",
      "2964435884.py - line 15 - INFO - Skipping publication https://www.ncbi.nlm.nih.gov/pmc/articles/PMC11437170 (already in data)\n",
      "2964435884.py - line 15 - INFO - Skipping publication https://www.ncbi.nlm.nih.gov/pmc/articles/PMC10652125 (already in data)\n",
      "2964435884.py - line 15 - INFO - Skipping publication https://www.ncbi.nlm.nih.gov/pmc/articles/PMC5812927 (already in data)\n",
      "2964435884.py - line 15 - INFO - Skipping publication https://www.ncbi.nlm.nih.gov/pmc/articles/PMC10835320 (already in data)\n",
      "2964435884.py - line 15 - INFO - Skipping publication https://www.ncbi.nlm.nih.gov/pmc/articles/PMC9715480 (already in data)\n",
      "2964435884.py - line 15 - INFO - Skipping publication https://www.ncbi.nlm.nih.gov/pmc/articles/PMC6389912 (already in data)\n",
      "2964435884.py - line 15 - INFO - Skipping publication https://www.ncbi.nlm.nih.gov/pmc/articles/PMC3401966 (already in data)\n"
     ]
    },
    {
     "name": "stdout",
     "output_type": "stream",
     "text": [
      "Time elapsed for 0 iterations: 00:00:00\n"
     ]
    }
   ],
   "execution_count": 11
  },
  {
   "metadata": {
    "ExecuteTime": {
     "end_time": "2025-03-15T08:41:47.426522Z",
     "start_time": "2025-03-15T08:41:47.406173Z"
    }
   },
   "cell_type": "code",
   "source": [
    "df = pd.DataFrame(data)\n",
    "if 'publication' in df.columns:  \n",
    "    df.set_index(\"publication\",inplace=True, drop=False)\n",
    " \n",
    "if \"smallest_elements\" in df.columns:    \n",
    "    df[\"smallest_elements\"] = df[\"smallest_elements\"].apply(\n",
    "        lambda x: json.dumps(x) if isinstance(x, list) else (x if isinstance(x, str) else json.dumps([]))\n",
    "    )\n"
   ],
   "id": "109b1674b84aec54",
   "outputs": [],
   "execution_count": 12
  },
  {
   "metadata": {
    "ExecuteTime": {
     "end_time": "2025-03-15T08:41:47.443806Z",
     "start_time": "2025-03-15T08:41:47.431026Z"
    }
   },
   "cell_type": "code",
   "source": [
    "# concat the new data with the old data\n",
    "print(len(df_old))\n",
    "print(len(df))\n",
    "df_merged = pd.concat([df_old, df], ignore_index=True)\n",
    "print(len(df_merged))"
   ],
   "id": "ce672b5b05c27f67",
   "outputs": [
    {
     "name": "stdout",
     "output_type": "stream",
     "text": [
      "1501\n",
      "0\n",
      "1501\n"
     ]
    }
   ],
   "execution_count": 13
  },
  {
   "metadata": {
    "ExecuteTime": {
     "end_time": "2025-03-15T08:41:48.396437Z",
     "start_time": "2025-03-15T08:41:47.449409Z"
    }
   },
   "cell_type": "code",
   "source": [
    "cnt, not_cnt, mask = 0,0, []\n",
    "df['identifiers_in_HTML'] = ''\n",
    "\n",
    "for pub,row in df_merged.iterrows():\n",
    "    keep = True\n",
    "    ids = row['dataset_uid'].split(',')\n",
    "    for id in ids:\n",
    "        if id in row['raw_html']:\n",
    "            cnt +=1\n",
    "            # append the id to  the row identifiers_in_HTML\n",
    "            df_merged.at[pub,'identifiers_in_HTML'] = df_merged.at[pub,'identifiers_in_HTML'] + ',' + id\n",
    "        else:\n",
    "            #print(f\"ID {id} not found in {pub}\")\n",
    "            not_cnt +=1\n",
    "            # drop row from df\n",
    "            keep = False\n",
    "    \n",
    "    mask.append(keep)\n",
    "    \n",
    "print(cnt, not_cnt)\n",
    "print(len(df_merged))\n",
    "print(len(mask))\n",
    "print(sum(mask))"
   ],
   "id": "a3af0bc91f28a859",
   "outputs": [
    {
     "name": "stdout",
     "output_type": "stream",
     "text": [
      "2228 503\n",
      "1501\n",
      "1501\n",
      "1242\n"
     ]
    }
   ],
   "execution_count": 14
  },
  {
   "metadata": {
    "ExecuteTime": {
     "end_time": "2025-03-15T08:41:48.405356Z",
     "start_time": "2025-03-15T08:41:48.398148Z"
    }
   },
   "cell_type": "code",
   "source": [
    "for col in df_merged.columns:\n",
    "    df_merged[col] = df_merged[col].astype(str)"
   ],
   "id": "6b5be2a86596f73e",
   "outputs": [],
   "execution_count": 15
  },
  {
   "metadata": {
    "ExecuteTime": {
     "end_time": "2025-03-15T08:41:48.412572Z",
     "start_time": "2025-03-15T08:41:48.407230Z"
    }
   },
   "cell_type": "code",
   "source": "print(df_merged.dtypes)",
   "id": "de8cad9fc11f01bc",
   "outputs": [
    {
     "name": "stdout",
     "output_type": "stream",
     "text": [
      "publication            object\n",
      "src_website            object\n",
      "dataset_uid            object\n",
      "repo_name              object\n",
      "raw_html               object\n",
      "identifiers_in_HTML    object\n",
      "dtype: object\n"
     ]
    }
   ],
   "execution_count": 16
  },
  {
   "metadata": {
    "ExecuteTime": {
     "end_time": "2025-03-15T08:41:48.418764Z",
     "start_time": "2025-03-15T08:41:48.414691Z"
    }
   },
   "cell_type": "code",
   "source": [
    "print(f\"df_merged length: {len(df_merged)}\")\n",
    "print(f\"mask length: {len(mask)}\")"
   ],
   "id": "c62ee5662a254bb6",
   "outputs": [
    {
     "name": "stdout",
     "output_type": "stream",
     "text": [
      "df_merged length: 1501\n",
      "mask length: 1501\n"
     ]
    }
   ],
   "execution_count": 17
  },
  {
   "metadata": {
    "ExecuteTime": {
     "end_time": "2025-03-15T08:42:09.719104Z",
     "start_time": "2025-03-15T08:42:09.711105Z"
    }
   },
   "cell_type": "code",
   "source": [
    "df_merged = df_merged[mask].copy()\n",
    "print(len(df_merged))"
   ],
   "id": "8225c9df220ff71c",
   "outputs": [
    {
     "name": "stdout",
     "output_type": "stream",
     "text": [
      "1242\n"
     ]
    }
   ],
   "execution_count": 18
  },
  {
   "metadata": {
    "ExecuteTime": {
     "end_time": "2025-03-15T08:42:18.101761Z",
     "start_time": "2025-03-15T08:42:14.529774Z"
    }
   },
   "cell_type": "code",
   "source": "df_merged.to_parquet(fetched_data_path)",
   "id": "49e377d23de3af11",
   "outputs": [],
   "execution_count": 19
  },
  {
   "metadata": {},
   "cell_type": "code",
   "outputs": [],
   "execution_count": null,
   "source": "",
   "id": "282be356ded5f52"
  },
  {
   "metadata": {},
   "cell_type": "code",
   "outputs": [],
   "execution_count": null,
   "source": "",
   "id": "5be8f05a78645d4c"
  },
  {
   "metadata": {},
   "cell_type": "code",
   "outputs": [],
   "execution_count": null,
   "source": "",
   "id": "3854a6ece14ab528"
  },
  {
   "metadata": {},
   "cell_type": "code",
   "outputs": [],
   "execution_count": null,
   "source": "",
   "id": "51534593b20837c4"
  },
  {
   "metadata": {},
   "cell_type": "code",
   "outputs": [],
   "execution_count": null,
   "source": "",
   "id": "fb5b9d283303f667"
  },
  {
   "metadata": {},
   "cell_type": "code",
   "outputs": [],
   "execution_count": null,
   "source": "",
   "id": "dd5af18334d7280b"
  },
  {
   "metadata": {},
   "cell_type": "code",
   "outputs": [],
   "execution_count": null,
   "source": "",
   "id": "3a12fe63d11c896e"
  },
  {
   "metadata": {
    "ExecuteTime": {
     "end_time": "2025-03-15T08:11:02.544783Z",
     "start_time": "2025-03-15T08:11:02.538362Z"
    }
   },
   "cell_type": "code",
   "source": [
    "# # let's run a quick check\n",
    "# ok, not_ok = 0,0 \n",
    "# iteration = 0\n",
    "# dataset_table = pd.read_parquet(dataset_table)\n",
    "# \n",
    "# for i,row in df_merged.iterrows():\n",
    "#     iteration+=1\n",
    "#     pub = row['publication'].lower()\n",
    "#     ids = set(sorted(row['dataset_uid'].split(',')))\n",
    "#     orchestrator.logger.debug(f\"Publication URL: {pub}, uids: {ids}\")\n",
    "#     \n",
    "#     if iteration%(len(df_merged)//20)==0:\n",
    "#         orchestrator.logger.debug(f\"Progress {iteration}/{len(df_merged)}\")\n",
    "#     \n",
    "#     matching_ids = dataset_table[dataset_table['citing_publications_links'] == pub]['identifier'].values\n",
    "#     orchestrator.logger.debug(f\"Matching row: {matching_ids}\")\n",
    "#     \n",
    "#     ground_truth = set(','.join(sorted(matching_ids)).split(','))\n",
    "#                     \n",
    "#     # set comparison\n",
    "#     if ground_truth == ids:\n",
    "#         ok+=1\n",
    "#         \n",
    "#     else:\n",
    "#         not_ok+=1\n",
    "#         orchestrator.logger.info(f\"Publication URL: {pub}\")\n",
    "#         orchestrator.logger.info(f\"Value found in source data: {ground_truth}\")\n",
    "#         orchestrator.logger.info(f\"Value found in merged data: {ids}\")\n",
    "#         #raise ValueError(f\"ERROR: Count mismatch for {pub}\")\n",
    "#         \n",
    "#         update_value=','.join(ground_truth)\n",
    "#         orchestrator.logger.info(f\"matching_ids: {update_value}\")\n",
    "#         df_merged.at[pub,'dataset_uid'] = update_value\n",
    "#     \n",
    "#     \n",
    "# orchestrator.logger.info(f\"Check completed. {ok} publications good. {not_ok} errors found.\")"
   ],
   "id": "25f3431d6e5ace1f",
   "outputs": [],
   "execution_count": 43
  },
  {
   "metadata": {},
   "cell_type": "code",
   "outputs": [],
   "execution_count": 11,
   "source": [
    "# data, i = [], 0\n",
    "# \n",
    "# t0 = time.time()\n",
    "# iter_max = 1500  # Limit iterations\n",
    "# \n",
    "# for link, id, repo, record_src in stratified_sample.itertuples(index=False):\n",
    "#     i+=1\n",
    "#     if i >= iter_max:\n",
    "#         break\n",
    "# \n",
    "#     if link in df_old['citing_publication_link'].values:\n",
    "#         orchestrator.logger.info(f\"Skipping publication {link} (already in data)\")\n",
    "#         continue\n",
    "#     \n",
    "#     orchestrator.logger.info(f\"Processing URL: {link}\")\n",
    "# \n",
    "#     adjusted_url_for_fetch = link\n",
    "#     orchestrator.data_fetcher = orchestrator.data_fetcher.update_DataFetcher_settings(\n",
    "#         link, orchestrator.full_DOM, orchestrator.logger\n",
    "#     )\n",
    "# \n",
    "#     try:\n",
    "#         raw_data = orchestrator.data_fetcher.fetch_data(link)\n",
    "#         doi = orchestrator.data_fetcher.convert_url_to_doi(link)\n",
    "# \n",
    "#         orchestrator.publisher = orchestrator.data_fetcher.url_to_publisher_domain(\n",
    "#             orchestrator.data_fetcher.scraper_tool.current_url\n",
    "#         )\n",
    "# \n",
    "#         if orchestrator.publisher == \"biorxiv\":\n",
    "#             adjusted_url_for_fetch = orchestrator.data_fetcher.scraper_tool.current_url + \".full\"\n",
    "#             raw_data = orchestrator.data_fetcher.fetch_data(adjusted_url_for_fetch)\n",
    "# \n",
    "#         elif orchestrator.publisher == \"pubmed\":\n",
    "#             PMC_ID = orchestrator.data_fetcher.get_PMCID_from_pubmed_html(raw_data)\n",
    "#             if PMC_ID:\n",
    "#                 adjusted_url_for_fetch = orchestrator.data_fetcher.reconstruct_PMC_link(PMC_ID)\n",
    "#                 raw_data = orchestrator.data_fetcher.fetch_data(adjusted_url_for_fetch)\n",
    "# \n",
    "#         # smallest_elements = (\n",
    "#         #     add_example_to_merged_df(row, raw_data) if re.search(id, raw_data, re.IGNORECASE) else \"n/a\"\n",
    "#         # )\n",
    "# \n",
    "#         data.append({\n",
    "#             \"publication\": link, \n",
    "#             \"fetch_from\": adjusted_url_for_fetch.lower(), \n",
    "#             \"doi\": doi, \n",
    "#             \"publisher\": orchestrator.publisher,\n",
    "#             \"dataset_uid\": id, \n",
    "#             \"repo_name\": repo, \n",
    "#             \"raw_html\": raw_data, \n",
    "#             # \"smallest_elements\": smallest_elements, \n",
    "#             # \"title\": title\n",
    "#         })\n",
    "# \n",
    "#     except Exception as e:\n",
    "#         orchestrator.logger.error(f\"Error processing URL {link}: {e}\", exc_info=True)\n",
    "# \n",
    "#     # Log every 100 iterations\n",
    "#     if i % 100 == 0 and i > 0:\n",
    "#         elapsed = time.time() - t0\n",
    "#         eta = (elapsed / (i + 1)) * (len(df_ground_truth_src) - i - 1)\n",
    "#         orchestrator.logger.info(f\"\\nProgress {i+1}/{len(df_ground_truth_src)}. ETA {time.strftime('%H:%M:%S', time.gmtime(eta))}\\n\")\n",
    "# \n",
    "# # Quit WebDriver after all iterations\n",
    "# driver.quit()\n",
    "# print(f\"Time elapsed for {len(data)} iterations: {time.strftime('%H:%M:%S', time.gmtime(time.time() - t0))}\")"
   ],
   "id": "dcc58f9f583c8557"
  }
 ],
 "metadata": {
  "kernelspec": {
   "display_name": "Python 3",
   "language": "python",
   "name": "python3"
  },
  "language_info": {
   "codemirror_mode": {
    "name": "ipython",
    "version": 2
   },
   "file_extension": ".py",
   "mimetype": "text/x-python",
   "name": "python",
   "nbconvert_exporter": "python",
   "pygments_lexer": "ipython2",
   "version": "2.7.6"
  }
 },
 "nbformat": 4,
 "nbformat_minor": 5
}
