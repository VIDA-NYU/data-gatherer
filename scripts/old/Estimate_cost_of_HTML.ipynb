{
  "nbformat": 4,
  "nbformat_minor": 0,
  "metadata": {
    "colab": {
      "provenance": []
    },
    "kernelspec": {
      "name": "python3",
      "display_name": "Python 3"
    },
    "language_info": {
      "name": "python"
    }
  },
  "cells": [
    {
      "cell_type": "code",
      "source": [
        "!pip install tokeniser\n",
        "!pip install transformers"
      ],
      "metadata": {
        "colab": {
          "base_uri": "https://localhost:8080/"
        },
        "id": "WXaAWx4ZRWvn",
        "outputId": "fcf379bc-f8fe-40dc-fac5-1dd3eece0e5f"
      },
      "execution_count": 15,
      "outputs": [
        {
          "output_type": "stream",
          "name": "stdout",
          "text": [
            "Requirement already satisfied: tokeniser in /usr/local/lib/python3.10/dist-packages (0.0.3)\n",
            "Requirement already satisfied: transformers in /usr/local/lib/python3.10/dist-packages (4.46.2)\n",
            "Requirement already satisfied: filelock in /usr/local/lib/python3.10/dist-packages (from transformers) (3.16.1)\n",
            "Requirement already satisfied: huggingface-hub<1.0,>=0.23.2 in /usr/local/lib/python3.10/dist-packages (from transformers) (0.26.2)\n",
            "Requirement already satisfied: numpy>=1.17 in /usr/local/lib/python3.10/dist-packages (from transformers) (1.26.4)\n",
            "Requirement already satisfied: packaging>=20.0 in /usr/local/lib/python3.10/dist-packages (from transformers) (24.2)\n",
            "Requirement already satisfied: pyyaml>=5.1 in /usr/local/lib/python3.10/dist-packages (from transformers) (6.0.2)\n",
            "Requirement already satisfied: regex!=2019.12.17 in /usr/local/lib/python3.10/dist-packages (from transformers) (2024.9.11)\n",
            "Requirement already satisfied: requests in /usr/local/lib/python3.10/dist-packages (from transformers) (2.32.3)\n",
            "Requirement already satisfied: safetensors>=0.4.1 in /usr/local/lib/python3.10/dist-packages (from transformers) (0.4.5)\n",
            "Requirement already satisfied: tokenizers<0.21,>=0.20 in /usr/local/lib/python3.10/dist-packages (from transformers) (0.20.3)\n",
            "Requirement already satisfied: tqdm>=4.27 in /usr/local/lib/python3.10/dist-packages (from transformers) (4.66.6)\n",
            "Requirement already satisfied: fsspec>=2023.5.0 in /usr/local/lib/python3.10/dist-packages (from huggingface-hub<1.0,>=0.23.2->transformers) (2024.10.0)\n",
            "Requirement already satisfied: typing-extensions>=3.7.4.3 in /usr/local/lib/python3.10/dist-packages (from huggingface-hub<1.0,>=0.23.2->transformers) (4.12.2)\n",
            "Requirement already satisfied: charset-normalizer<4,>=2 in /usr/local/lib/python3.10/dist-packages (from requests->transformers) (3.4.0)\n",
            "Requirement already satisfied: idna<4,>=2.5 in /usr/local/lib/python3.10/dist-packages (from requests->transformers) (3.10)\n",
            "Requirement already satisfied: urllib3<3,>=1.21.1 in /usr/local/lib/python3.10/dist-packages (from requests->transformers) (2.2.3)\n",
            "Requirement already satisfied: certifi>=2017.4.17 in /usr/local/lib/python3.10/dist-packages (from requests->transformers) (2024.8.30)\n"
          ]
        }
      ]
    },
    {
      "cell_type": "code",
      "source": [
        "import xml.etree.ElementTree as ET\n",
        "from transformers import AutoTokenizer\n",
        "\n",
        "import tokeniser\n",
        "import os\n",
        "import glob"
      ],
      "metadata": {
        "id": "236cXgMJhb-u"
      },
      "execution_count": 16,
      "outputs": []
    },
    {
      "cell_type": "code",
      "source": [
        "# prompt: calculate the number of tokens in each XML file. I am getting error: Error processing file /content/Proteomics and Bioinformatics Identify Drug-Resistant-Related Genes with Prognostic Potential in Cholangiocarcinoma.xml: module 'tokeniser' has no attribute 'tokenize'\n",
        "# Install necessary libraries (if not already installed)\n",
        "# !pip install transformers\n",
        "\n",
        "# Specify the tokenizer you want to use\n",
        "tokenizer = AutoTokenizer.from_pretrained(\"bert-base-uncased\")  # Or any other suitable tokenizer\n",
        "\n",
        "def count_tokens_in_xml_file(file_path):\n",
        "    try:\n",
        "        tree = ET.parse(file_path)\n",
        "        root = tree.getroot()\n",
        "        text = \"\"\n",
        "\n",
        "        # Extract text content from XML elements (adjust based on your XML structure)\n",
        "        for element in root.iter():  # Or specify specific element tags\n",
        "            text += str(element.text) + \" \"\n",
        "\n",
        "        # Tokenize the extracted text\n",
        "        tokens = tokenizer.tokenize(text)\n",
        "\n",
        "        return len(tokens)\n",
        "    except ET.ParseError as e:\n",
        "        print(f\"Error processing file {file_path}: {e}\")\n",
        "        return 0  # Or handle the error differently\n",
        "    except Exception as e:  # Catch other potential errors\n",
        "      print(f\"An unexpected error occurred while processing {file_path}: {e}\")\n",
        "      return 0\n",
        "\n",
        "# Example usage:\n",
        "xml_files = glob.glob(\"/content/*.xml\")  # Update the path if necessary\n",
        "tot_tokens, iter = 0, 0\n",
        "thres = 2000\n",
        "for xml_file in xml_files:\n",
        "    token_count = count_tokens_in_xml_file(xml_file)\n",
        "\n",
        "\n",
        "    if token_count > thres:\n",
        "      iter += 1\n",
        "      tot_tokens += token_count\n",
        "\n",
        "      print(f\"Number of tokens in {xml_file}: {token_count}\")\n",
        "\n",
        "print(f\"Tot number of tokens XMLs: {tot_tokens}\")\n",
        "print(f\"Tot number of XMLs: {iter}\")\n",
        "print(f\"Avg number of tokens per XML: {tot_tokens/iter}\")"
      ],
      "metadata": {
        "colab": {
          "base_uri": "https://localhost:8080/"
        },
        "id": "A7riCdGfRTQi",
        "outputId": "2872ea3d-f952-4ec4-e9f6-5e8600f4652b"
      },
      "execution_count": 24,
      "outputs": [
        {
          "output_type": "stream",
          "name": "stderr",
          "text": [
            "Token indices sequence length is longer than the specified maximum sequence length for this model (12788 > 512). Running this sequence through the model will result in indexing errors\n"
          ]
        },
        {
          "output_type": "stream",
          "name": "stdout",
          "text": [
            "Number of tokens in /content/In‐depth proteomic analysis reveals unique subtype‐specific signatures in human small‐cell lung cancer.xml: 12788\n",
            "Number of tokens in /content/Proteomics and Bioinformatics Identify Drug-Resistant-Related Genes with Prognostic Potential in Cholangiocarcinoma.xml: 14589\n",
            "Number of tokens in /content/Tumor- and circulating-free DNA methylation identifies clinically relevant small cell lung cancer subtypes.xml: 15550\n",
            "Number of tokens in /content/Genomic Landscape Survey Identifies .xml: 11570\n",
            "Number of tokens in /content/Dual molecule targeting HDAC6 leads to intratumoral CD4+ cytotoxic lymphocytes recruitment through MHC-II upregulation on lung cancer cells.xml: 9620\n",
            "Number of tokens in /content/Integrated proteomics spotlight the proteasome as a therapeutic vulnerability in embryonal tumors with multilayered rosettes.xml: 9873\n",
            "Number of tokens in /content/Molecular and Pathologic Characterization of YAP1-Expressing Small Cell Lung Cancer Cell Lines Leads to Reclassification as SMARCA4-Deficient Malignancies.xml: 11806\n",
            "Number of tokens in /content/mTORC1-Driven Protein Translation Correlates with Clinical Benefit of Capivasertib within a Genetically Preselected Cohort of .xml: 11022\n",
            "Number of tokens in /content/A prospective pilot study of genome-wide exome and transcriptome profiling in patients with small cell lung cancer progressing after first-line therapy.xml: 6734\n",
            "Number of tokens in /content/Recurrent WNT pathway alterations are frequent in relapsed small cell lung cancer.xml: 10528\n",
            "Number of tokens in /content/Proteomic Stratification of Prognosis and Treatment Options for Small Cell Lung Cancer.xml: 10015\n",
            "Number of tokens in /content/Proteomics profile in encapsulated follicular patterned thyroid neoplasms.xml: 7137\n",
            "Number of tokens in /content/Arginine deprivation enriches lung cancer proteomes with cysteine by inducing arginine-to-cysteine substitutants.xml: 19817\n",
            "Number of tokens in /content/PRC2 overexpression and PRC2-target gene repression relating to poorer prognosis in small cell lung cancer.xml: 6712\n",
            "Number of tokens in /content/Evolutionary trajectories of small cell lung cancer under therapy.xml: 16429\n",
            "Number of tokens in /content/The Proteomic Analysis of Cancer-Related Alterations in the Human Unfoldome.xml: 15919\n",
            "Number of tokens in /content/Chemical proteomics reveals the target landscape of 1,000 kinase inhibitors.xml: 14037\n",
            "Number of tokens in /content/Pan-cancer proteomic map of 949 human cell lines.xml: 17254\n",
            "Number of tokens in /content/Imputation of label-free quantitative mass spectrometry-based proteomics data using self-supervised deep learning.xml: 13133\n",
            "Tot number of tokens XMLs: 234533\n",
            "Tot number of XMLs: 19\n",
            "Avg number of tokens per XML: 12343.842105263158\n"
          ]
        }
      ]
    },
    {
      "cell_type": "code",
      "source": [
        "\n",
        "# Specify the tokenizer you want to use\n",
        "tokenizer = AutoTokenizer.from_pretrained(\"bert-base-uncased\")  # Or any other suitable tokenizer\n",
        "\n",
        "def count_tokens_in_html_file(file_path):\n",
        "    try:\n",
        "        with open(file_path, 'r', encoding='utf-8') as file:  # Handle potential encoding issues\n",
        "            html_content = file.read()\n",
        "\n",
        "        # Tokenize the HTML content\n",
        "        tokens = tokenizer.tokenize(html_content)\n",
        "        return len(tokens)\n",
        "    except FileNotFoundError:\n",
        "        print(f\"Error: File not found at {file_path}\")\n",
        "        return 0\n",
        "    except Exception as e:  # Catch other potential errors\n",
        "        print(f\"An unexpected error occurred while processing {file_path}: {e}\")\n",
        "        return 0\n",
        "\n",
        "# Example usage:\n",
        "html_files = glob.glob(\"/content/*.html\")  # Update the path if necessary\n",
        "tot_tokens, iter = 0, 0\n",
        "thres = 2000\n",
        "\n",
        "for html_file in html_files:\n",
        "    token_count = count_tokens_in_html_file(html_file)\n",
        "\n",
        "    if token_count > thres:\n",
        "        iter += 1\n",
        "        tot_tokens += token_count\n",
        "        print(f\"Number of tokens in {html_file}: {token_count}\")\n",
        "\n",
        "print(f\"Tot number of tokens in HTMLs: {tot_tokens}\")\n",
        "print(f\"Tot number of HTMLs: {iter}\")\n",
        "\n",
        "if iter > 0:  # Avoid division by zero\n",
        "    print(f\"Avg number of tokens per HTML: {tot_tokens / iter}\")\n",
        "else:\n",
        "    print(\"No HTML files found or processed above the threshold.\")"
      ],
      "metadata": {
        "colab": {
          "base_uri": "https://localhost:8080/"
        },
        "id": "WQ5jZk4jg-Rq",
        "outputId": "39b174a8-48a1-4a31-f063-a602058f40da"
      },
      "execution_count": 23,
      "outputs": [
        {
          "output_type": "stream",
          "name": "stderr",
          "text": [
            "Token indices sequence length is longer than the specified maximum sequence length for this model (109941 > 512). Running this sequence through the model will result in indexing errors\n"
          ]
        },
        {
          "output_type": "stream",
          "name": "stdout",
          "text": [
            "Number of tokens in /content/ Chemical proteomics reveals the target landscape of 1,000 kinase inhibitors - PMC .html: 109941\n",
            "Number of tokens in /content/ Evolutionary trajectories of small cell lung cancer under therapy - PMC .html: 137650\n",
            "Number of tokens in /content/ Pan-cancer proteomic map of 949 human cell lines - PMC .html: 139325\n",
            "Number of tokens in /content/ Integrated proteomics spotlight the proteasome as a therapeutic vulnerability in embryonal tumors with multilayered rosettes - PMC .html: 89413\n",
            "Number of tokens in /content/ Proteomics profile in encapsulated follicular patterned thyroid neoplasms - PMC .html: 69541\n",
            "Number of tokens in /content/ Dual molecule targeting HDAC6 leads to intratumoral CD4+ cytotoxic lymphocytes recruitment through MHC-II upregulation on lung cancer cells - PMC .html: 80456\n",
            "Number of tokens in /content/ Imputation of label-free quantitative mass spectrometry-based proteomics data using self-supervised deep learning - PMC .html: 105443\n",
            "Number of tokens in /content/ The Proteomic Analysis of Cancer-Related Alterations in the Human Unfoldome - PMC .html: 138574\n",
            "Number of tokens in /content/ Molecular and Pathologic Characterization of YAP1-Expressing Small Cell Lung Cancer Cell Lines Leads to Reclassification as SMARCA4-Deficient Malignancies - PMC .html: 96079\n",
            "Number of tokens in /content/ Comprehensive genomic analysis identifies SOX2 as a frequently amplified gene in small-cell lung cancer - PMC .html: 80713\n",
            "Number of tokens in /content/ mTORC1-Driven Protein Translation Correlates with Clinical Benefit of Capivasertib within a Genetically Preselected Cohort of PIK3CA-Altered Tumors - PMC .html: 96446\n",
            "Number of tokens in /content/ Quantitative Proteomics of the Cancer Cell Line Encyclopedia - PMC .html: 116967\n",
            "Number of tokens in /content/ Recurrent WNT pathway alterations are frequent in relapsed small cell lung cancer - PMC .html: 101728\n",
            "Number of tokens in /content/ Comprehensive genomic profiles of small cell lung cancer - PMC .html: 133518\n",
            "Number of tokens in /content/ Genomic Landscape Survey Identifies SRSF1 as a Key Oncodriver in Small Cell Lung Cancer - PMC .html: 109826\n",
            "Number of tokens in /content/ Proteomic Stratification of Prognosis and Treatment Options for Small Cell Lung Cancer - PMC .html: 91016\n",
            "Number of tokens in /content/ Arginine deprivation enriches lung cancer proteomes with cysteine by inducing arginine-to-cysteine substitutants - PMC .html: 119163\n",
            "Number of tokens in /content/ Single-cell analyses reveal increased intratumoral heterogeneity after the onset of therapy resistance in small-cell lung cancer - PMC .html: 90364\n",
            "Number of tokens in /content/ Tumor- and circulating-free DNA methylation identifies clinically relevant small cell lung cancer subtypes - PMC .html: 131292\n",
            "Number of tokens in /content/ PRC2 overexpression and PRC2-target gene repression relating to poorer prognosis in small cell lung cancer - PMC .html: 77753\n",
            "Number of tokens in /content/ In‐depth proteomic analysis reveals unique subtype‐specific signatures in human small‐cell lung cancer - PMC .html: 126643\n",
            "Number of tokens in /content/ Proteomics and Bioinformatics Identify Drug-Resistant-Related Genes with Prognostic Potential in Cholangiocarcinoma - PMC .html: 114853\n",
            "Number of tokens in /content/ Integrative genome analyses identify key somatic driver mutations of small cell lung cancer - PMC .html: 121176\n",
            "Number of tokens in /content/ Chemosensitive relapse in small cell lung cancer proceeds through an EZH2-SLFN11 axis - PMC .html: 81741\n",
            "Number of tokens in /content/ Proteomics Analysis of Interactions between Drug-Resistant and Drug-Sensitive Cancer Cells: Comparative Studies of Monoculture and Coculture Cell Systems - PMC .html: 76099\n",
            "Number of tokens in /content/ Signatures of plasticity, metastasis, and immunosuppression in an atlas of human small cell lung cancer - PMC .html: 195002\n",
            "Number of tokens in /content/ A prospective pilot study of genome-wide exome and transcriptome profiling in patients with small cell lung cancer progressing after first-line therapy - PMC .html: 71468\n",
            "Tot number of tokens in HTMLs: 2902190\n",
            "Tot number of HTMLs: 27\n",
            "Avg number of tokens per HTML: 107488.51851851853\n"
          ]
        }
      ]
    },
    {
      "cell_type": "code",
      "source": [],
      "metadata": {
        "id": "cn3V4DPgn9ye"
      },
      "execution_count": null,
      "outputs": []
    }
  ]
}