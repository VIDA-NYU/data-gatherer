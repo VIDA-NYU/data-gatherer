{
 "cells": [
  {
   "cell_type": "code",
   "id": "initial_id",
   "metadata": {
    "collapsed": true,
    "ExecuteTime": {
     "end_time": "2025-03-15T06:18:14.905584Z",
     "start_time": "2025-03-15T06:17:58.771332Z"
    }
   },
   "source": [
    "import numpy as np\n",
    "import pandas as pd\n",
    "import re\n",
    "import json\n",
    "import requests\n",
    "from xml.etree import ElementTree\n",
    "import time\n",
    "from dotenv import load_dotenv\n",
    "import ast  # To safely evaluate string representation of a list\n",
    "import bdikit as bdi\n",
    "import os\n",
    "from experiment_utils import *"
   ],
   "outputs": [
    {
     "data": {
      "text/html": [
       "<script type=\"esms-options\">{\"shimMode\": true}</script><style>*[data-root-id],\n",
       "*[data-root-id] > * {\n",
       "  box-sizing: border-box;\n",
       "  font-family: var(--jp-ui-font-family);\n",
       "  font-size: var(--jp-ui-font-size1);\n",
       "  color: var(--vscode-editor-foreground, var(--jp-ui-font-color1));\n",
       "}\n",
       "\n",
       "/* Override VSCode background color */\n",
       ".cell-output-ipywidget-background:has(\n",
       "    > .cell-output-ipywidget-background > .lm-Widget > *[data-root-id]\n",
       "  ),\n",
       ".cell-output-ipywidget-background:has(> .lm-Widget > *[data-root-id]) {\n",
       "  background-color: transparent !important;\n",
       "}\n",
       "</style>"
      ]
     },
     "metadata": {},
     "output_type": "display_data"
    },
    {
     "data": {
      "application/javascript": "(function(root) {\n  function now() {\n    return new Date();\n  }\n\n  const force = true;\n  const py_version = '3.6.3'.replace('rc', '-rc.').replace('.dev', '-dev.');\n  const reloading = false;\n  const Bokeh = root.Bokeh;\n\n  // Set a timeout for this load but only if we are not already initializing\n  if (typeof (root._bokeh_timeout) === \"undefined\" || (force || !root._bokeh_is_initializing)) {\n    root._bokeh_timeout = Date.now() + 5000;\n    root._bokeh_failed_load = false;\n  }\n\n  function run_callbacks() {\n    try {\n      root._bokeh_onload_callbacks.forEach(function(callback) {\n        if (callback != null)\n          callback();\n      });\n    } finally {\n      delete root._bokeh_onload_callbacks;\n    }\n    console.debug(\"Bokeh: all callbacks have finished\");\n  }\n\n  function load_libs(css_urls, js_urls, js_modules, js_exports, callback) {\n    if (css_urls == null) css_urls = [];\n    if (js_urls == null) js_urls = [];\n    if (js_modules == null) js_modules = [];\n    if (js_exports == null) js_exports = {};\n\n    root._bokeh_onload_callbacks.push(callback);\n\n    if (root._bokeh_is_loading > 0) {\n      // Don't load bokeh if it is still initializing\n      console.debug(\"Bokeh: BokehJS is being loaded, scheduling callback at\", now());\n      return null;\n    } else if (js_urls.length === 0 && js_modules.length === 0 && Object.keys(js_exports).length === 0) {\n      // There is nothing to load\n      run_callbacks();\n      return null;\n    }\n\n    function on_load() {\n      root._bokeh_is_loading--;\n      if (root._bokeh_is_loading === 0) {\n        console.debug(\"Bokeh: all BokehJS libraries/stylesheets loaded\");\n        run_callbacks()\n      }\n    }\n    window._bokeh_on_load = on_load\n\n    function on_error(e) {\n      const src_el = e.srcElement\n      console.error(\"failed to load \" + (src_el.href || src_el.src));\n    }\n\n    const skip = [];\n    if (window.requirejs) {\n      window.requirejs.config({'packages': {}, 'paths': {'tabulator': 'https://cdn.jsdelivr.net/npm/tabulator-tables@6.3.1/dist/js/tabulator.min', 'moment': 'https://cdn.jsdelivr.net/npm/luxon/build/global/luxon.min'}, 'shim': {}});\n      require([\"tabulator\"], function(Tabulator) {\n        window.Tabulator = Tabulator\n        on_load()\n      })\n      require([\"moment\"], function(moment) {\n        window.moment = moment\n        on_load()\n      })\n      root._bokeh_is_loading = css_urls.length + 2;\n    } else {\n      root._bokeh_is_loading = css_urls.length + js_urls.length + js_modules.length + Object.keys(js_exports).length;\n    }\n\n    const existing_stylesheets = []\n    const links = document.getElementsByTagName('link')\n    for (let i = 0; i < links.length; i++) {\n      const link = links[i]\n      if (link.href != null) {\n        existing_stylesheets.push(link.href)\n      }\n    }\n    for (let i = 0; i < css_urls.length; i++) {\n      const url = css_urls[i];\n      const escaped = encodeURI(url)\n      if (existing_stylesheets.indexOf(escaped) !== -1) {\n        on_load()\n        continue;\n      }\n      const element = document.createElement(\"link\");\n      element.onload = on_load;\n      element.onerror = on_error;\n      element.rel = \"stylesheet\";\n      element.type = \"text/css\";\n      element.href = url;\n      console.debug(\"Bokeh: injecting link tag for BokehJS stylesheet: \", url);\n      document.body.appendChild(element);\n    }    if (((window.Tabulator !== undefined) && (!(window.Tabulator instanceof HTMLElement))) || window.requirejs) {\n      var urls = ['https://cdn.holoviz.org/panel/1.6.1/dist/bundled/datatabulator/tabulator-tables@6.3.1/dist/js/tabulator.min.js'];\n      for (var i = 0; i < urls.length; i++) {\n        skip.push(encodeURI(urls[i]))\n      }\n    }    if (((window.moment !== undefined) && (!(window.moment instanceof HTMLElement))) || window.requirejs) {\n      var urls = ['https://cdn.holoviz.org/panel/1.6.1/dist/bundled/datatabulator/luxon/build/global/luxon.min.js'];\n      for (var i = 0; i < urls.length; i++) {\n        skip.push(encodeURI(urls[i]))\n      }\n    }    var existing_scripts = []\n    const scripts = document.getElementsByTagName('script')\n    for (let i = 0; i < scripts.length; i++) {\n      var script = scripts[i]\n      if (script.src != null) {\n        existing_scripts.push(script.src)\n      }\n    }\n    for (let i = 0; i < js_urls.length; i++) {\n      const url = js_urls[i];\n      const escaped = encodeURI(url)\n      if (skip.indexOf(escaped) !== -1 || existing_scripts.indexOf(escaped) !== -1) {\n        if (!window.requirejs) {\n          on_load();\n        }\n        continue;\n      }\n      const element = document.createElement('script');\n      element.onload = on_load;\n      element.onerror = on_error;\n      element.async = false;\n      element.src = url;\n      console.debug(\"Bokeh: injecting script tag for BokehJS library: \", url);\n      document.head.appendChild(element);\n    }\n    for (let i = 0; i < js_modules.length; i++) {\n      const url = js_modules[i];\n      const escaped = encodeURI(url)\n      if (skip.indexOf(escaped) !== -1 || existing_scripts.indexOf(escaped) !== -1) {\n        if (!window.requirejs) {\n          on_load();\n        }\n        continue;\n      }\n      var element = document.createElement('script');\n      element.onload = on_load;\n      element.onerror = on_error;\n      element.async = false;\n      element.src = url;\n      element.type = \"module\";\n      console.debug(\"Bokeh: injecting script tag for BokehJS library: \", url);\n      document.head.appendChild(element);\n    }\n    for (const name in js_exports) {\n      const url = js_exports[name];\n      const escaped = encodeURI(url)\n      if (skip.indexOf(escaped) >= 0 || root[name] != null) {\n        if (!window.requirejs) {\n          on_load();\n        }\n        continue;\n      }\n      var element = document.createElement('script');\n      element.onerror = on_error;\n      element.async = false;\n      element.type = \"module\";\n      console.debug(\"Bokeh: injecting script tag for BokehJS library: \", url);\n      element.textContent = `\n      import ${name} from \"${url}\"\n      window.${name} = ${name}\n      window._bokeh_on_load()\n      `\n      document.head.appendChild(element);\n    }\n    if (!js_urls.length && !js_modules.length) {\n      on_load()\n    }\n  };\n\n  function inject_raw_css(css) {\n    const element = document.createElement(\"style\");\n    element.appendChild(document.createTextNode(css));\n    document.body.appendChild(element);\n  }\n\n  const js_urls = [\"https://cdn.holoviz.org/panel/1.6.1/dist/bundled/reactiveesm/es-module-shims@^1.10.0/dist/es-module-shims.min.js\", \"https://cdn.holoviz.org/panel/1.6.1/dist/bundled/datatabulator/tabulator-tables@6.3.1/dist/js/tabulator.min.js\", \"https://cdn.holoviz.org/panel/1.6.1/dist/bundled/datatabulator/luxon/build/global/luxon.min.js\", \"https://cdn.bokeh.org/bokeh/release/bokeh-3.6.3.min.js\", \"https://cdn.bokeh.org/bokeh/release/bokeh-gl-3.6.3.min.js\", \"https://cdn.bokeh.org/bokeh/release/bokeh-widgets-3.6.3.min.js\", \"https://cdn.bokeh.org/bokeh/release/bokeh-tables-3.6.3.min.js\", \"https://cdn.holoviz.org/panel/1.6.1/dist/panel.min.js\"];\n  const js_modules = [];\n  const js_exports = {};\n  const css_urls = [\"https://cdn.holoviz.org/panel/1.6.1/dist/bundled/datatabulator/tabulator-tables@6.3.1/dist/css/tabulator_simple.min.css?v=1.6.1\"];\n  const inline_js = [    function(Bokeh) {\n      Bokeh.set_log_level(\"info\");\n    },\nfunction(Bokeh) {} // ensure no trailing comma for IE\n  ];\n\n  function run_inline_js() {\n    if ((root.Bokeh !== undefined) || (force === true)) {\n      for (let i = 0; i < inline_js.length; i++) {\n        try {\n          inline_js[i].call(root, root.Bokeh);\n        } catch(e) {\n          if (!reloading) {\n            throw e;\n          }\n        }\n      }\n      // Cache old bokeh versions\n      if (Bokeh != undefined && !reloading) {\n        var NewBokeh = root.Bokeh;\n        if (Bokeh.versions === undefined) {\n          Bokeh.versions = new Map();\n        }\n        if (NewBokeh.version !== Bokeh.version) {\n          Bokeh.versions.set(NewBokeh.version, NewBokeh)\n        }\n        root.Bokeh = Bokeh;\n      }\n    } else if (Date.now() < root._bokeh_timeout) {\n      setTimeout(run_inline_js, 100);\n    } else if (!root._bokeh_failed_load) {\n      console.log(\"Bokeh: BokehJS failed to load within specified timeout.\");\n      root._bokeh_failed_load = true;\n    }\n    root._bokeh_is_initializing = false\n  }\n\n  function load_or_wait() {\n    // Implement a backoff loop that tries to ensure we do not load multiple\n    // versions of Bokeh and its dependencies at the same time.\n    // In recent versions we use the root._bokeh_is_initializing flag\n    // to determine whether there is an ongoing attempt to initialize\n    // bokeh, however for backward compatibility we also try to ensure\n    // that we do not start loading a newer (Panel>=1.0 and Bokeh>3) version\n    // before older versions are fully initialized.\n    if (root._bokeh_is_initializing && Date.now() > root._bokeh_timeout) {\n      // If the timeout and bokeh was not successfully loaded we reset\n      // everything and try loading again\n      root._bokeh_timeout = Date.now() + 5000;\n      root._bokeh_is_initializing = false;\n      root._bokeh_onload_callbacks = undefined;\n      root._bokeh_is_loading = 0\n      console.log(\"Bokeh: BokehJS was loaded multiple times but one version failed to initialize.\");\n      load_or_wait();\n    } else if (root._bokeh_is_initializing || (typeof root._bokeh_is_initializing === \"undefined\" && root._bokeh_onload_callbacks !== undefined)) {\n      setTimeout(load_or_wait, 100);\n    } else {\n      root._bokeh_is_initializing = true\n      root._bokeh_onload_callbacks = []\n      const bokeh_loaded = root.Bokeh != null && (root.Bokeh.version === py_version || (root.Bokeh.versions !== undefined && root.Bokeh.versions.has(py_version)));\n      if (!reloading && !bokeh_loaded) {\n        if (root.Bokeh) {\n          root.Bokeh = undefined;\n        }\n        console.debug(\"Bokeh: BokehJS not loaded, scheduling load and callback at\", now());\n      }\n      load_libs(css_urls, js_urls, js_modules, js_exports, function() {\n        console.debug(\"Bokeh: BokehJS plotting callback run at\", now());\n        run_inline_js();\n      });\n    }\n  }\n  // Give older versions of the autoload script a head-start to ensure\n  // they initialize before we start loading newer version.\n  setTimeout(load_or_wait, 100)\n}(window));",
      "application/vnd.holoviews_load.v0+json": "(function(root) {\n  function now() {\n    return new Date();\n  }\n\n  const force = true;\n  const py_version = '3.6.3'.replace('rc', '-rc.').replace('.dev', '-dev.');\n  const reloading = false;\n  const Bokeh = root.Bokeh;\n\n  // Set a timeout for this load but only if we are not already initializing\n  if (typeof (root._bokeh_timeout) === \"undefined\" || (force || !root._bokeh_is_initializing)) {\n    root._bokeh_timeout = Date.now() + 5000;\n    root._bokeh_failed_load = false;\n  }\n\n  function run_callbacks() {\n    try {\n      root._bokeh_onload_callbacks.forEach(function(callback) {\n        if (callback != null)\n          callback();\n      });\n    } finally {\n      delete root._bokeh_onload_callbacks;\n    }\n    console.debug(\"Bokeh: all callbacks have finished\");\n  }\n\n  function load_libs(css_urls, js_urls, js_modules, js_exports, callback) {\n    if (css_urls == null) css_urls = [];\n    if (js_urls == null) js_urls = [];\n    if (js_modules == null) js_modules = [];\n    if (js_exports == null) js_exports = {};\n\n    root._bokeh_onload_callbacks.push(callback);\n\n    if (root._bokeh_is_loading > 0) {\n      // Don't load bokeh if it is still initializing\n      console.debug(\"Bokeh: BokehJS is being loaded, scheduling callback at\", now());\n      return null;\n    } else if (js_urls.length === 0 && js_modules.length === 0 && Object.keys(js_exports).length === 0) {\n      // There is nothing to load\n      run_callbacks();\n      return null;\n    }\n\n    function on_load() {\n      root._bokeh_is_loading--;\n      if (root._bokeh_is_loading === 0) {\n        console.debug(\"Bokeh: all BokehJS libraries/stylesheets loaded\");\n        run_callbacks()\n      }\n    }\n    window._bokeh_on_load = on_load\n\n    function on_error(e) {\n      const src_el = e.srcElement\n      console.error(\"failed to load \" + (src_el.href || src_el.src));\n    }\n\n    const skip = [];\n    if (window.requirejs) {\n      window.requirejs.config({'packages': {}, 'paths': {'tabulator': 'https://cdn.jsdelivr.net/npm/tabulator-tables@6.3.1/dist/js/tabulator.min', 'moment': 'https://cdn.jsdelivr.net/npm/luxon/build/global/luxon.min'}, 'shim': {}});\n      require([\"tabulator\"], function(Tabulator) {\n        window.Tabulator = Tabulator\n        on_load()\n      })\n      require([\"moment\"], function(moment) {\n        window.moment = moment\n        on_load()\n      })\n      root._bokeh_is_loading = css_urls.length + 2;\n    } else {\n      root._bokeh_is_loading = css_urls.length + js_urls.length + js_modules.length + Object.keys(js_exports).length;\n    }\n\n    const existing_stylesheets = []\n    const links = document.getElementsByTagName('link')\n    for (let i = 0; i < links.length; i++) {\n      const link = links[i]\n      if (link.href != null) {\n        existing_stylesheets.push(link.href)\n      }\n    }\n    for (let i = 0; i < css_urls.length; i++) {\n      const url = css_urls[i];\n      const escaped = encodeURI(url)\n      if (existing_stylesheets.indexOf(escaped) !== -1) {\n        on_load()\n        continue;\n      }\n      const element = document.createElement(\"link\");\n      element.onload = on_load;\n      element.onerror = on_error;\n      element.rel = \"stylesheet\";\n      element.type = \"text/css\";\n      element.href = url;\n      console.debug(\"Bokeh: injecting link tag for BokehJS stylesheet: \", url);\n      document.body.appendChild(element);\n    }    if (((window.Tabulator !== undefined) && (!(window.Tabulator instanceof HTMLElement))) || window.requirejs) {\n      var urls = ['https://cdn.holoviz.org/panel/1.6.1/dist/bundled/datatabulator/tabulator-tables@6.3.1/dist/js/tabulator.min.js'];\n      for (var i = 0; i < urls.length; i++) {\n        skip.push(encodeURI(urls[i]))\n      }\n    }    if (((window.moment !== undefined) && (!(window.moment instanceof HTMLElement))) || window.requirejs) {\n      var urls = ['https://cdn.holoviz.org/panel/1.6.1/dist/bundled/datatabulator/luxon/build/global/luxon.min.js'];\n      for (var i = 0; i < urls.length; i++) {\n        skip.push(encodeURI(urls[i]))\n      }\n    }    var existing_scripts = []\n    const scripts = document.getElementsByTagName('script')\n    for (let i = 0; i < scripts.length; i++) {\n      var script = scripts[i]\n      if (script.src != null) {\n        existing_scripts.push(script.src)\n      }\n    }\n    for (let i = 0; i < js_urls.length; i++) {\n      const url = js_urls[i];\n      const escaped = encodeURI(url)\n      if (skip.indexOf(escaped) !== -1 || existing_scripts.indexOf(escaped) !== -1) {\n        if (!window.requirejs) {\n          on_load();\n        }\n        continue;\n      }\n      const element = document.createElement('script');\n      element.onload = on_load;\n      element.onerror = on_error;\n      element.async = false;\n      element.src = url;\n      console.debug(\"Bokeh: injecting script tag for BokehJS library: \", url);\n      document.head.appendChild(element);\n    }\n    for (let i = 0; i < js_modules.length; i++) {\n      const url = js_modules[i];\n      const escaped = encodeURI(url)\n      if (skip.indexOf(escaped) !== -1 || existing_scripts.indexOf(escaped) !== -1) {\n        if (!window.requirejs) {\n          on_load();\n        }\n        continue;\n      }\n      var element = document.createElement('script');\n      element.onload = on_load;\n      element.onerror = on_error;\n      element.async = false;\n      element.src = url;\n      element.type = \"module\";\n      console.debug(\"Bokeh: injecting script tag for BokehJS library: \", url);\n      document.head.appendChild(element);\n    }\n    for (const name in js_exports) {\n      const url = js_exports[name];\n      const escaped = encodeURI(url)\n      if (skip.indexOf(escaped) >= 0 || root[name] != null) {\n        if (!window.requirejs) {\n          on_load();\n        }\n        continue;\n      }\n      var element = document.createElement('script');\n      element.onerror = on_error;\n      element.async = false;\n      element.type = \"module\";\n      console.debug(\"Bokeh: injecting script tag for BokehJS library: \", url);\n      element.textContent = `\n      import ${name} from \"${url}\"\n      window.${name} = ${name}\n      window._bokeh_on_load()\n      `\n      document.head.appendChild(element);\n    }\n    if (!js_urls.length && !js_modules.length) {\n      on_load()\n    }\n  };\n\n  function inject_raw_css(css) {\n    const element = document.createElement(\"style\");\n    element.appendChild(document.createTextNode(css));\n    document.body.appendChild(element);\n  }\n\n  const js_urls = [\"https://cdn.holoviz.org/panel/1.6.1/dist/bundled/reactiveesm/es-module-shims@^1.10.0/dist/es-module-shims.min.js\", \"https://cdn.holoviz.org/panel/1.6.1/dist/bundled/datatabulator/tabulator-tables@6.3.1/dist/js/tabulator.min.js\", \"https://cdn.holoviz.org/panel/1.6.1/dist/bundled/datatabulator/luxon/build/global/luxon.min.js\", \"https://cdn.bokeh.org/bokeh/release/bokeh-3.6.3.min.js\", \"https://cdn.bokeh.org/bokeh/release/bokeh-gl-3.6.3.min.js\", \"https://cdn.bokeh.org/bokeh/release/bokeh-widgets-3.6.3.min.js\", \"https://cdn.bokeh.org/bokeh/release/bokeh-tables-3.6.3.min.js\", \"https://cdn.holoviz.org/panel/1.6.1/dist/panel.min.js\"];\n  const js_modules = [];\n  const js_exports = {};\n  const css_urls = [\"https://cdn.holoviz.org/panel/1.6.1/dist/bundled/datatabulator/tabulator-tables@6.3.1/dist/css/tabulator_simple.min.css?v=1.6.1\"];\n  const inline_js = [    function(Bokeh) {\n      Bokeh.set_log_level(\"info\");\n    },\nfunction(Bokeh) {} // ensure no trailing comma for IE\n  ];\n\n  function run_inline_js() {\n    if ((root.Bokeh !== undefined) || (force === true)) {\n      for (let i = 0; i < inline_js.length; i++) {\n        try {\n          inline_js[i].call(root, root.Bokeh);\n        } catch(e) {\n          if (!reloading) {\n            throw e;\n          }\n        }\n      }\n      // Cache old bokeh versions\n      if (Bokeh != undefined && !reloading) {\n        var NewBokeh = root.Bokeh;\n        if (Bokeh.versions === undefined) {\n          Bokeh.versions = new Map();\n        }\n        if (NewBokeh.version !== Bokeh.version) {\n          Bokeh.versions.set(NewBokeh.version, NewBokeh)\n        }\n        root.Bokeh = Bokeh;\n      }\n    } else if (Date.now() < root._bokeh_timeout) {\n      setTimeout(run_inline_js, 100);\n    } else if (!root._bokeh_failed_load) {\n      console.log(\"Bokeh: BokehJS failed to load within specified timeout.\");\n      root._bokeh_failed_load = true;\n    }\n    root._bokeh_is_initializing = false\n  }\n\n  function load_or_wait() {\n    // Implement a backoff loop that tries to ensure we do not load multiple\n    // versions of Bokeh and its dependencies at the same time.\n    // In recent versions we use the root._bokeh_is_initializing flag\n    // to determine whether there is an ongoing attempt to initialize\n    // bokeh, however for backward compatibility we also try to ensure\n    // that we do not start loading a newer (Panel>=1.0 and Bokeh>3) version\n    // before older versions are fully initialized.\n    if (root._bokeh_is_initializing && Date.now() > root._bokeh_timeout) {\n      // If the timeout and bokeh was not successfully loaded we reset\n      // everything and try loading again\n      root._bokeh_timeout = Date.now() + 5000;\n      root._bokeh_is_initializing = false;\n      root._bokeh_onload_callbacks = undefined;\n      root._bokeh_is_loading = 0\n      console.log(\"Bokeh: BokehJS was loaded multiple times but one version failed to initialize.\");\n      load_or_wait();\n    } else if (root._bokeh_is_initializing || (typeof root._bokeh_is_initializing === \"undefined\" && root._bokeh_onload_callbacks !== undefined)) {\n      setTimeout(load_or_wait, 100);\n    } else {\n      root._bokeh_is_initializing = true\n      root._bokeh_onload_callbacks = []\n      const bokeh_loaded = root.Bokeh != null && (root.Bokeh.version === py_version || (root.Bokeh.versions !== undefined && root.Bokeh.versions.has(py_version)));\n      if (!reloading && !bokeh_loaded) {\n        if (root.Bokeh) {\n          root.Bokeh = undefined;\n        }\n        console.debug(\"Bokeh: BokehJS not loaded, scheduling load and callback at\", now());\n      }\n      load_libs(css_urls, js_urls, js_modules, js_exports, function() {\n        console.debug(\"Bokeh: BokehJS plotting callback run at\", now());\n        run_inline_js();\n      });\n    }\n  }\n  // Give older versions of the autoload script a head-start to ensure\n  // they initialize before we start loading newer version.\n  setTimeout(load_or_wait, 100)\n}(window));"
     },
     "metadata": {},
     "output_type": "display_data"
    },
    {
     "data": {
      "application/vnd.holoviews_load.v0+json": "\nif ((window.PyViz === undefined) || (window.PyViz instanceof HTMLElement)) {\n  window.PyViz = {comms: {}, comm_status:{}, kernels:{}, receivers: {}, plot_index: []}\n}\n\n\n    function JupyterCommManager() {\n    }\n\n    JupyterCommManager.prototype.register_target = function(plot_id, comm_id, msg_handler) {\n      if (window.comm_manager || ((window.Jupyter !== undefined) && (Jupyter.notebook.kernel != null))) {\n        var comm_manager = window.comm_manager || Jupyter.notebook.kernel.comm_manager;\n        comm_manager.register_target(comm_id, function(comm) {\n          comm.on_msg(msg_handler);\n        });\n      } else if ((plot_id in window.PyViz.kernels) && (window.PyViz.kernels[plot_id])) {\n        window.PyViz.kernels[plot_id].registerCommTarget(comm_id, function(comm) {\n          comm.onMsg = msg_handler;\n        });\n      } else if (typeof google != 'undefined' && google.colab.kernel != null) {\n        google.colab.kernel.comms.registerTarget(comm_id, (comm) => {\n          var messages = comm.messages[Symbol.asyncIterator]();\n          function processIteratorResult(result) {\n            var message = result.value;\n            console.log(message)\n            var content = {data: message.data, comm_id};\n            var buffers = []\n            for (var buffer of message.buffers || []) {\n              buffers.push(new DataView(buffer))\n            }\n            var metadata = message.metadata || {};\n            var msg = {content, buffers, metadata}\n            msg_handler(msg);\n            return messages.next().then(processIteratorResult);\n          }\n          return messages.next().then(processIteratorResult);\n        })\n      }\n    }\n\n    JupyterCommManager.prototype.get_client_comm = function(plot_id, comm_id, msg_handler) {\n      if (comm_id in window.PyViz.comms) {\n        return window.PyViz.comms[comm_id];\n      } else if (window.comm_manager || ((window.Jupyter !== undefined) && (Jupyter.notebook.kernel != null))) {\n        var comm_manager = window.comm_manager || Jupyter.notebook.kernel.comm_manager;\n        var comm = comm_manager.new_comm(comm_id, {}, {}, {}, comm_id);\n        if (msg_handler) {\n          comm.on_msg(msg_handler);\n        }\n      } else if ((plot_id in window.PyViz.kernels) && (window.PyViz.kernels[plot_id])) {\n        var comm = window.PyViz.kernels[plot_id].connectToComm(comm_id);\n        comm.open();\n        if (msg_handler) {\n          comm.onMsg = msg_handler;\n        }\n      } else if (typeof google != 'undefined' && google.colab.kernel != null) {\n        var comm_promise = google.colab.kernel.comms.open(comm_id)\n        comm_promise.then((comm) => {\n          window.PyViz.comms[comm_id] = comm;\n          if (msg_handler) {\n            var messages = comm.messages[Symbol.asyncIterator]();\n            function processIteratorResult(result) {\n              var message = result.value;\n              var content = {data: message.data};\n              var metadata = message.metadata || {comm_id};\n              var msg = {content, metadata}\n              msg_handler(msg);\n              return messages.next().then(processIteratorResult);\n            }\n            return messages.next().then(processIteratorResult);\n          }\n        })\n        var sendClosure = (data, metadata, buffers, disposeOnDone) => {\n          return comm_promise.then((comm) => {\n            comm.send(data, metadata, buffers, disposeOnDone);\n          });\n        };\n        var comm = {\n          send: sendClosure\n        };\n      }\n      window.PyViz.comms[comm_id] = comm;\n      return comm;\n    }\n    window.PyViz.comm_manager = new JupyterCommManager();\n    \n\n\nvar JS_MIME_TYPE = 'application/javascript';\nvar HTML_MIME_TYPE = 'text/html';\nvar EXEC_MIME_TYPE = 'application/vnd.holoviews_exec.v0+json';\nvar CLASS_NAME = 'output';\n\n/**\n * Render data to the DOM node\n */\nfunction render(props, node) {\n  var div = document.createElement(\"div\");\n  var script = document.createElement(\"script\");\n  node.appendChild(div);\n  node.appendChild(script);\n}\n\n/**\n * Handle when a new output is added\n */\nfunction handle_add_output(event, handle) {\n  var output_area = handle.output_area;\n  var output = handle.output;\n  if ((output.data == undefined) || (!output.data.hasOwnProperty(EXEC_MIME_TYPE))) {\n    return\n  }\n  var id = output.metadata[EXEC_MIME_TYPE][\"id\"];\n  var toinsert = output_area.element.find(\".\" + CLASS_NAME.split(' ')[0]);\n  if (id !== undefined) {\n    var nchildren = toinsert.length;\n    var html_node = toinsert[nchildren-1].children[0];\n    html_node.innerHTML = output.data[HTML_MIME_TYPE];\n    var scripts = [];\n    var nodelist = html_node.querySelectorAll(\"script\");\n    for (var i in nodelist) {\n      if (nodelist.hasOwnProperty(i)) {\n        scripts.push(nodelist[i])\n      }\n    }\n\n    scripts.forEach( function (oldScript) {\n      var newScript = document.createElement(\"script\");\n      var attrs = [];\n      var nodemap = oldScript.attributes;\n      for (var j in nodemap) {\n        if (nodemap.hasOwnProperty(j)) {\n          attrs.push(nodemap[j])\n        }\n      }\n      attrs.forEach(function(attr) { newScript.setAttribute(attr.name, attr.value) });\n      newScript.appendChild(document.createTextNode(oldScript.innerHTML));\n      oldScript.parentNode.replaceChild(newScript, oldScript);\n    });\n    if (JS_MIME_TYPE in output.data) {\n      toinsert[nchildren-1].children[1].textContent = output.data[JS_MIME_TYPE];\n    }\n    output_area._hv_plot_id = id;\n    if ((window.Bokeh !== undefined) && (id in Bokeh.index)) {\n      window.PyViz.plot_index[id] = Bokeh.index[id];\n    } else {\n      window.PyViz.plot_index[id] = null;\n    }\n  } else if (output.metadata[EXEC_MIME_TYPE][\"server_id\"] !== undefined) {\n    var bk_div = document.createElement(\"div\");\n    bk_div.innerHTML = output.data[HTML_MIME_TYPE];\n    var script_attrs = bk_div.children[0].attributes;\n    for (var i = 0; i < script_attrs.length; i++) {\n      toinsert[toinsert.length - 1].childNodes[1].setAttribute(script_attrs[i].name, script_attrs[i].value);\n    }\n    // store reference to server id on output_area\n    output_area._bokeh_server_id = output.metadata[EXEC_MIME_TYPE][\"server_id\"];\n  }\n}\n\n/**\n * Handle when an output is cleared or removed\n */\nfunction handle_clear_output(event, handle) {\n  var id = handle.cell.output_area._hv_plot_id;\n  var server_id = handle.cell.output_area._bokeh_server_id;\n  if (((id === undefined) || !(id in PyViz.plot_index)) && (server_id !== undefined)) { return; }\n  var comm = window.PyViz.comm_manager.get_client_comm(\"hv-extension-comm\", \"hv-extension-comm\", function () {});\n  if (server_id !== null) {\n    comm.send({event_type: 'server_delete', 'id': server_id});\n    return;\n  } else if (comm !== null) {\n    comm.send({event_type: 'delete', 'id': id});\n  }\n  delete PyViz.plot_index[id];\n  if ((window.Bokeh !== undefined) & (id in window.Bokeh.index)) {\n    var doc = window.Bokeh.index[id].model.document\n    doc.clear();\n    const i = window.Bokeh.documents.indexOf(doc);\n    if (i > -1) {\n      window.Bokeh.documents.splice(i, 1);\n    }\n  }\n}\n\n/**\n * Handle kernel restart event\n */\nfunction handle_kernel_cleanup(event, handle) {\n  delete PyViz.comms[\"hv-extension-comm\"];\n  window.PyViz.plot_index = {}\n}\n\n/**\n * Handle update_display_data messages\n */\nfunction handle_update_output(event, handle) {\n  handle_clear_output(event, {cell: {output_area: handle.output_area}})\n  handle_add_output(event, handle)\n}\n\nfunction register_renderer(events, OutputArea) {\n  function append_mime(data, metadata, element) {\n    // create a DOM node to render to\n    var toinsert = this.create_output_subarea(\n    metadata,\n    CLASS_NAME,\n    EXEC_MIME_TYPE\n    );\n    this.keyboard_manager.register_events(toinsert);\n    // Render to node\n    var props = {data: data, metadata: metadata[EXEC_MIME_TYPE]};\n    render(props, toinsert[0]);\n    element.append(toinsert);\n    return toinsert\n  }\n\n  events.on('output_added.OutputArea', handle_add_output);\n  events.on('output_updated.OutputArea', handle_update_output);\n  events.on('clear_output.CodeCell', handle_clear_output);\n  events.on('delete.Cell', handle_clear_output);\n  events.on('kernel_ready.Kernel', handle_kernel_cleanup);\n\n  OutputArea.prototype.register_mime_type(EXEC_MIME_TYPE, append_mime, {\n    safe: true,\n    index: 0\n  });\n}\n\nif (window.Jupyter !== undefined) {\n  try {\n    var events = require('base/js/events');\n    var OutputArea = require('notebook/js/outputarea').OutputArea;\n    if (OutputArea.prototype.mime_types().indexOf(EXEC_MIME_TYPE) == -1) {\n      register_renderer(events, OutputArea);\n    }\n  } catch(err) {\n  }\n}\n",
      "application/javascript": "\nif ((window.PyViz === undefined) || (window.PyViz instanceof HTMLElement)) {\n  window.PyViz = {comms: {}, comm_status:{}, kernels:{}, receivers: {}, plot_index: []}\n}\n\n\n    function JupyterCommManager() {\n    }\n\n    JupyterCommManager.prototype.register_target = function(plot_id, comm_id, msg_handler) {\n      if (window.comm_manager || ((window.Jupyter !== undefined) && (Jupyter.notebook.kernel != null))) {\n        var comm_manager = window.comm_manager || Jupyter.notebook.kernel.comm_manager;\n        comm_manager.register_target(comm_id, function(comm) {\n          comm.on_msg(msg_handler);\n        });\n      } else if ((plot_id in window.PyViz.kernels) && (window.PyViz.kernels[plot_id])) {\n        window.PyViz.kernels[plot_id].registerCommTarget(comm_id, function(comm) {\n          comm.onMsg = msg_handler;\n        });\n      } else if (typeof google != 'undefined' && google.colab.kernel != null) {\n        google.colab.kernel.comms.registerTarget(comm_id, (comm) => {\n          var messages = comm.messages[Symbol.asyncIterator]();\n          function processIteratorResult(result) {\n            var message = result.value;\n            console.log(message)\n            var content = {data: message.data, comm_id};\n            var buffers = []\n            for (var buffer of message.buffers || []) {\n              buffers.push(new DataView(buffer))\n            }\n            var metadata = message.metadata || {};\n            var msg = {content, buffers, metadata}\n            msg_handler(msg);\n            return messages.next().then(processIteratorResult);\n          }\n          return messages.next().then(processIteratorResult);\n        })\n      }\n    }\n\n    JupyterCommManager.prototype.get_client_comm = function(plot_id, comm_id, msg_handler) {\n      if (comm_id in window.PyViz.comms) {\n        return window.PyViz.comms[comm_id];\n      } else if (window.comm_manager || ((window.Jupyter !== undefined) && (Jupyter.notebook.kernel != null))) {\n        var comm_manager = window.comm_manager || Jupyter.notebook.kernel.comm_manager;\n        var comm = comm_manager.new_comm(comm_id, {}, {}, {}, comm_id);\n        if (msg_handler) {\n          comm.on_msg(msg_handler);\n        }\n      } else if ((plot_id in window.PyViz.kernels) && (window.PyViz.kernels[plot_id])) {\n        var comm = window.PyViz.kernels[plot_id].connectToComm(comm_id);\n        comm.open();\n        if (msg_handler) {\n          comm.onMsg = msg_handler;\n        }\n      } else if (typeof google != 'undefined' && google.colab.kernel != null) {\n        var comm_promise = google.colab.kernel.comms.open(comm_id)\n        comm_promise.then((comm) => {\n          window.PyViz.comms[comm_id] = comm;\n          if (msg_handler) {\n            var messages = comm.messages[Symbol.asyncIterator]();\n            function processIteratorResult(result) {\n              var message = result.value;\n              var content = {data: message.data};\n              var metadata = message.metadata || {comm_id};\n              var msg = {content, metadata}\n              msg_handler(msg);\n              return messages.next().then(processIteratorResult);\n            }\n            return messages.next().then(processIteratorResult);\n          }\n        })\n        var sendClosure = (data, metadata, buffers, disposeOnDone) => {\n          return comm_promise.then((comm) => {\n            comm.send(data, metadata, buffers, disposeOnDone);\n          });\n        };\n        var comm = {\n          send: sendClosure\n        };\n      }\n      window.PyViz.comms[comm_id] = comm;\n      return comm;\n    }\n    window.PyViz.comm_manager = new JupyterCommManager();\n    \n\n\nvar JS_MIME_TYPE = 'application/javascript';\nvar HTML_MIME_TYPE = 'text/html';\nvar EXEC_MIME_TYPE = 'application/vnd.holoviews_exec.v0+json';\nvar CLASS_NAME = 'output';\n\n/**\n * Render data to the DOM node\n */\nfunction render(props, node) {\n  var div = document.createElement(\"div\");\n  var script = document.createElement(\"script\");\n  node.appendChild(div);\n  node.appendChild(script);\n}\n\n/**\n * Handle when a new output is added\n */\nfunction handle_add_output(event, handle) {\n  var output_area = handle.output_area;\n  var output = handle.output;\n  if ((output.data == undefined) || (!output.data.hasOwnProperty(EXEC_MIME_TYPE))) {\n    return\n  }\n  var id = output.metadata[EXEC_MIME_TYPE][\"id\"];\n  var toinsert = output_area.element.find(\".\" + CLASS_NAME.split(' ')[0]);\n  if (id !== undefined) {\n    var nchildren = toinsert.length;\n    var html_node = toinsert[nchildren-1].children[0];\n    html_node.innerHTML = output.data[HTML_MIME_TYPE];\n    var scripts = [];\n    var nodelist = html_node.querySelectorAll(\"script\");\n    for (var i in nodelist) {\n      if (nodelist.hasOwnProperty(i)) {\n        scripts.push(nodelist[i])\n      }\n    }\n\n    scripts.forEach( function (oldScript) {\n      var newScript = document.createElement(\"script\");\n      var attrs = [];\n      var nodemap = oldScript.attributes;\n      for (var j in nodemap) {\n        if (nodemap.hasOwnProperty(j)) {\n          attrs.push(nodemap[j])\n        }\n      }\n      attrs.forEach(function(attr) { newScript.setAttribute(attr.name, attr.value) });\n      newScript.appendChild(document.createTextNode(oldScript.innerHTML));\n      oldScript.parentNode.replaceChild(newScript, oldScript);\n    });\n    if (JS_MIME_TYPE in output.data) {\n      toinsert[nchildren-1].children[1].textContent = output.data[JS_MIME_TYPE];\n    }\n    output_area._hv_plot_id = id;\n    if ((window.Bokeh !== undefined) && (id in Bokeh.index)) {\n      window.PyViz.plot_index[id] = Bokeh.index[id];\n    } else {\n      window.PyViz.plot_index[id] = null;\n    }\n  } else if (output.metadata[EXEC_MIME_TYPE][\"server_id\"] !== undefined) {\n    var bk_div = document.createElement(\"div\");\n    bk_div.innerHTML = output.data[HTML_MIME_TYPE];\n    var script_attrs = bk_div.children[0].attributes;\n    for (var i = 0; i < script_attrs.length; i++) {\n      toinsert[toinsert.length - 1].childNodes[1].setAttribute(script_attrs[i].name, script_attrs[i].value);\n    }\n    // store reference to server id on output_area\n    output_area._bokeh_server_id = output.metadata[EXEC_MIME_TYPE][\"server_id\"];\n  }\n}\n\n/**\n * Handle when an output is cleared or removed\n */\nfunction handle_clear_output(event, handle) {\n  var id = handle.cell.output_area._hv_plot_id;\n  var server_id = handle.cell.output_area._bokeh_server_id;\n  if (((id === undefined) || !(id in PyViz.plot_index)) && (server_id !== undefined)) { return; }\n  var comm = window.PyViz.comm_manager.get_client_comm(\"hv-extension-comm\", \"hv-extension-comm\", function () {});\n  if (server_id !== null) {\n    comm.send({event_type: 'server_delete', 'id': server_id});\n    return;\n  } else if (comm !== null) {\n    comm.send({event_type: 'delete', 'id': id});\n  }\n  delete PyViz.plot_index[id];\n  if ((window.Bokeh !== undefined) & (id in window.Bokeh.index)) {\n    var doc = window.Bokeh.index[id].model.document\n    doc.clear();\n    const i = window.Bokeh.documents.indexOf(doc);\n    if (i > -1) {\n      window.Bokeh.documents.splice(i, 1);\n    }\n  }\n}\n\n/**\n * Handle kernel restart event\n */\nfunction handle_kernel_cleanup(event, handle) {\n  delete PyViz.comms[\"hv-extension-comm\"];\n  window.PyViz.plot_index = {}\n}\n\n/**\n * Handle update_display_data messages\n */\nfunction handle_update_output(event, handle) {\n  handle_clear_output(event, {cell: {output_area: handle.output_area}})\n  handle_add_output(event, handle)\n}\n\nfunction register_renderer(events, OutputArea) {\n  function append_mime(data, metadata, element) {\n    // create a DOM node to render to\n    var toinsert = this.create_output_subarea(\n    metadata,\n    CLASS_NAME,\n    EXEC_MIME_TYPE\n    );\n    this.keyboard_manager.register_events(toinsert);\n    // Render to node\n    var props = {data: data, metadata: metadata[EXEC_MIME_TYPE]};\n    render(props, toinsert[0]);\n    element.append(toinsert);\n    return toinsert\n  }\n\n  events.on('output_added.OutputArea', handle_add_output);\n  events.on('output_updated.OutputArea', handle_update_output);\n  events.on('clear_output.CodeCell', handle_clear_output);\n  events.on('delete.Cell', handle_clear_output);\n  events.on('kernel_ready.Kernel', handle_kernel_cleanup);\n\n  OutputArea.prototype.register_mime_type(EXEC_MIME_TYPE, append_mime, {\n    safe: true,\n    index: 0\n  });\n}\n\nif (window.Jupyter !== undefined) {\n  try {\n    var events = require('base/js/events');\n    var OutputArea = require('notebook/js/outputarea').OutputArea;\n    if (OutputArea.prototype.mime_types().indexOf(EXEC_MIME_TYPE) == -1) {\n      register_renderer(events, OutputArea);\n    }\n  } catch(err) {\n  }\n}\n"
     },
     "metadata": {},
     "output_type": "display_data"
    },
    {
     "data": {
      "text/html": [
       "<div id='cec0aca0-d4b4-4df8-8dac-f759056577fe'>\n",
       "  <div id=\"b355f4b6-8a57-4400-97da-dd9a876e40a3\" data-root-id=\"cec0aca0-d4b4-4df8-8dac-f759056577fe\" style=\"display: contents;\"></div>\n",
       "</div>\n",
       "<script type=\"application/javascript\">(function(root) {\n",
       "  var docs_json = {\"bb6ac11c-5a7c-48ec-9b9d-d2fd71a952e0\":{\"version\":\"3.6.3\",\"title\":\"Bokeh Application\",\"roots\":[{\"type\":\"object\",\"name\":\"panel.models.browser.BrowserInfo\",\"id\":\"cec0aca0-d4b4-4df8-8dac-f759056577fe\"},{\"type\":\"object\",\"name\":\"panel.models.comm_manager.CommManager\",\"id\":\"3b241963-396c-482f-ac28-1d77ffd5eaed\",\"attributes\":{\"plot_id\":\"cec0aca0-d4b4-4df8-8dac-f759056577fe\",\"comm_id\":\"a4c6e9fceb1b468b8a509c8c88e98a42\",\"client_comm_id\":\"985471d08a3f4766be4efcfcdc39d998\"}}],\"defs\":[{\"type\":\"model\",\"name\":\"ReactiveHTML1\"},{\"type\":\"model\",\"name\":\"FlexBox1\",\"properties\":[{\"name\":\"align_content\",\"kind\":\"Any\",\"default\":\"flex-start\"},{\"name\":\"align_items\",\"kind\":\"Any\",\"default\":\"flex-start\"},{\"name\":\"flex_direction\",\"kind\":\"Any\",\"default\":\"row\"},{\"name\":\"flex_wrap\",\"kind\":\"Any\",\"default\":\"wrap\"},{\"name\":\"gap\",\"kind\":\"Any\",\"default\":\"\"},{\"name\":\"justify_content\",\"kind\":\"Any\",\"default\":\"flex-start\"}]},{\"type\":\"model\",\"name\":\"FloatPanel1\",\"properties\":[{\"name\":\"config\",\"kind\":\"Any\",\"default\":{\"type\":\"map\"}},{\"name\":\"contained\",\"kind\":\"Any\",\"default\":true},{\"name\":\"position\",\"kind\":\"Any\",\"default\":\"right-top\"},{\"name\":\"offsetx\",\"kind\":\"Any\",\"default\":null},{\"name\":\"offsety\",\"kind\":\"Any\",\"default\":null},{\"name\":\"theme\",\"kind\":\"Any\",\"default\":\"primary\"},{\"name\":\"status\",\"kind\":\"Any\",\"default\":\"normalized\"}]},{\"type\":\"model\",\"name\":\"GridStack1\",\"properties\":[{\"name\":\"mode\",\"kind\":\"Any\",\"default\":\"warn\"},{\"name\":\"ncols\",\"kind\":\"Any\",\"default\":null},{\"name\":\"nrows\",\"kind\":\"Any\",\"default\":null},{\"name\":\"allow_resize\",\"kind\":\"Any\",\"default\":true},{\"name\":\"allow_drag\",\"kind\":\"Any\",\"default\":true},{\"name\":\"state\",\"kind\":\"Any\",\"default\":[]}]},{\"type\":\"model\",\"name\":\"drag1\",\"properties\":[{\"name\":\"slider_width\",\"kind\":\"Any\",\"default\":5},{\"name\":\"slider_color\",\"kind\":\"Any\",\"default\":\"black\"},{\"name\":\"value\",\"kind\":\"Any\",\"default\":50}]},{\"type\":\"model\",\"name\":\"click1\",\"properties\":[{\"name\":\"terminal_output\",\"kind\":\"Any\",\"default\":\"\"},{\"name\":\"debug_name\",\"kind\":\"Any\",\"default\":\"\"},{\"name\":\"clears\",\"kind\":\"Any\",\"default\":0}]},{\"type\":\"model\",\"name\":\"FastWrapper1\",\"properties\":[{\"name\":\"object\",\"kind\":\"Any\",\"default\":null},{\"name\":\"style\",\"kind\":\"Any\",\"default\":null}]},{\"type\":\"model\",\"name\":\"NotificationAreaBase1\",\"properties\":[{\"name\":\"js_events\",\"kind\":\"Any\",\"default\":{\"type\":\"map\"}},{\"name\":\"position\",\"kind\":\"Any\",\"default\":\"bottom-right\"},{\"name\":\"_clear\",\"kind\":\"Any\",\"default\":0}]},{\"type\":\"model\",\"name\":\"NotificationArea1\",\"properties\":[{\"name\":\"js_events\",\"kind\":\"Any\",\"default\":{\"type\":\"map\"}},{\"name\":\"notifications\",\"kind\":\"Any\",\"default\":[]},{\"name\":\"position\",\"kind\":\"Any\",\"default\":\"bottom-right\"},{\"name\":\"_clear\",\"kind\":\"Any\",\"default\":0},{\"name\":\"types\",\"kind\":\"Any\",\"default\":[{\"type\":\"map\",\"entries\":[[\"type\",\"warning\"],[\"background\",\"#ffc107\"],[\"icon\",{\"type\":\"map\",\"entries\":[[\"className\",\"fas fa-exclamation-triangle\"],[\"tagName\",\"i\"],[\"color\",\"white\"]]}]]},{\"type\":\"map\",\"entries\":[[\"type\",\"info\"],[\"background\",\"#007bff\"],[\"icon\",{\"type\":\"map\",\"entries\":[[\"className\",\"fas fa-info-circle\"],[\"tagName\",\"i\"],[\"color\",\"white\"]]}]]}]}]},{\"type\":\"model\",\"name\":\"Notification\",\"properties\":[{\"name\":\"background\",\"kind\":\"Any\",\"default\":null},{\"name\":\"duration\",\"kind\":\"Any\",\"default\":3000},{\"name\":\"icon\",\"kind\":\"Any\",\"default\":null},{\"name\":\"message\",\"kind\":\"Any\",\"default\":\"\"},{\"name\":\"notification_type\",\"kind\":\"Any\",\"default\":null},{\"name\":\"_rendered\",\"kind\":\"Any\",\"default\":false},{\"name\":\"_destroyed\",\"kind\":\"Any\",\"default\":false}]},{\"type\":\"model\",\"name\":\"TemplateActions1\",\"properties\":[{\"name\":\"open_modal\",\"kind\":\"Any\",\"default\":0},{\"name\":\"close_modal\",\"kind\":\"Any\",\"default\":0}]},{\"type\":\"model\",\"name\":\"BootstrapTemplateActions1\",\"properties\":[{\"name\":\"open_modal\",\"kind\":\"Any\",\"default\":0},{\"name\":\"close_modal\",\"kind\":\"Any\",\"default\":0}]},{\"type\":\"model\",\"name\":\"TemplateEditor1\",\"properties\":[{\"name\":\"layout\",\"kind\":\"Any\",\"default\":[]}]},{\"type\":\"model\",\"name\":\"MaterialTemplateActions1\",\"properties\":[{\"name\":\"open_modal\",\"kind\":\"Any\",\"default\":0},{\"name\":\"close_modal\",\"kind\":\"Any\",\"default\":0}]},{\"type\":\"model\",\"name\":\"ReactiveESM1\",\"properties\":[{\"name\":\"esm_constants\",\"kind\":\"Any\",\"default\":{\"type\":\"map\"}}]},{\"type\":\"model\",\"name\":\"JSComponent1\",\"properties\":[{\"name\":\"esm_constants\",\"kind\":\"Any\",\"default\":{\"type\":\"map\"}}]},{\"type\":\"model\",\"name\":\"ReactComponent1\",\"properties\":[{\"name\":\"esm_constants\",\"kind\":\"Any\",\"default\":{\"type\":\"map\"}}]},{\"type\":\"model\",\"name\":\"AnyWidgetComponent1\",\"properties\":[{\"name\":\"esm_constants\",\"kind\":\"Any\",\"default\":{\"type\":\"map\"}}]},{\"type\":\"model\",\"name\":\"request_value1\",\"properties\":[{\"name\":\"fill\",\"kind\":\"Any\",\"default\":\"none\"},{\"name\":\"_synced\",\"kind\":\"Any\",\"default\":null},{\"name\":\"_request_sync\",\"kind\":\"Any\",\"default\":0}]}]}};\n",
       "  var render_items = [{\"docid\":\"bb6ac11c-5a7c-48ec-9b9d-d2fd71a952e0\",\"roots\":{\"cec0aca0-d4b4-4df8-8dac-f759056577fe\":\"b355f4b6-8a57-4400-97da-dd9a876e40a3\"},\"root_ids\":[\"cec0aca0-d4b4-4df8-8dac-f759056577fe\"]}];\n",
       "  var docs = Object.values(docs_json)\n",
       "  if (!docs) {\n",
       "    return\n",
       "  }\n",
       "  const py_version = docs[0].version.replace('rc', '-rc.').replace('.dev', '-dev.')\n",
       "  async function embed_document(root) {\n",
       "    var Bokeh = get_bokeh(root)\n",
       "    await Bokeh.embed.embed_items_notebook(docs_json, render_items);\n",
       "    for (const render_item of render_items) {\n",
       "      for (const root_id of render_item.root_ids) {\n",
       "\tconst id_el = document.getElementById(root_id)\n",
       "\tif (id_el.children.length && id_el.children[0].hasAttribute('data-root-id')) {\n",
       "\t  const root_el = id_el.children[0]\n",
       "\t  root_el.id = root_el.id + '-rendered'\n",
       "\t  for (const child of root_el.children) {\n",
       "            // Ensure JupyterLab does not capture keyboard shortcuts\n",
       "            // see: https://jupyterlab.readthedocs.io/en/4.1.x/extension/notebook.html#keyboard-interaction-model\n",
       "\t    child.setAttribute('data-lm-suppress-shortcuts', 'true')\n",
       "\t  }\n",
       "\t}\n",
       "      }\n",
       "    }\n",
       "  }\n",
       "  function get_bokeh(root) {\n",
       "    if (root.Bokeh === undefined) {\n",
       "      return null\n",
       "    } else if (root.Bokeh.version !== py_version) {\n",
       "      if (root.Bokeh.versions === undefined || !root.Bokeh.versions.has(py_version)) {\n",
       "\treturn null\n",
       "      }\n",
       "      return root.Bokeh.versions.get(py_version);\n",
       "    } else if (root.Bokeh.version === py_version) {\n",
       "      return root.Bokeh\n",
       "    }\n",
       "    return null\n",
       "  }\n",
       "  function is_loaded(root) {\n",
       "    var Bokeh = get_bokeh(root)\n",
       "    return (Bokeh != null && Bokeh.Panel !== undefined && ( root.Tabulator !== undefined) && ( root.Tabulator !== undefined))\n",
       "  }\n",
       "  if (is_loaded(root)) {\n",
       "    embed_document(root);\n",
       "  } else {\n",
       "    var attempts = 0;\n",
       "    var timer = setInterval(function(root) {\n",
       "      if (is_loaded(root)) {\n",
       "        clearInterval(timer);\n",
       "        embed_document(root);\n",
       "      } else if (document.readyState == \"complete\") {\n",
       "        attempts++;\n",
       "        if (attempts > 200) {\n",
       "          clearInterval(timer);\n",
       "\t  var Bokeh = get_bokeh(root)\n",
       "\t  if (Bokeh == null || Bokeh.Panel == null) {\n",
       "            console.warn(\"Panel: ERROR: Unable to run Panel code because Bokeh or Panel library is missing\");\n",
       "\t  } else {\n",
       "\t    console.warn(\"Panel: WARNING: Attempting to render but not all required libraries could be resolved.\")\n",
       "\t    embed_document(root)\n",
       "\t  }\n",
       "        }\n",
       "      }\n",
       "    }, 25, root)\n",
       "  }\n",
       "})(window);</script>"
      ],
      "application/vnd.holoviews_exec.v0+json": ""
     },
     "metadata": {
      "application/vnd.holoviews_exec.v0+json": {
       "id": "cec0aca0-d4b4-4df8-8dac-f759056577fe"
      }
     },
     "output_type": "display_data"
    }
   ],
   "execution_count": 1
  },
  {
   "metadata": {
    "ExecuteTime": {
     "end_time": "2025-03-15T06:18:15.015919Z",
     "start_time": "2025-03-15T06:18:14.907819Z"
    }
   },
   "cell_type": "code",
   "source": [
    "pmid_doi_mapping_file = \"exp_output/pmid_doi_mapping.json\"\n",
    "if os.path.exists(pmid_doi_mapping_file): \n",
    "    with open(pmid_doi_mapping_file, \"r\") as f:\n",
    "        pmid_doi_mapping = json.load(f)  # read json file\n",
    "else:\n",
    "    pmid_doi_mapping = {}"
   ],
   "id": "50756180b4c24f93",
   "outputs": [],
   "execution_count": 2
  },
  {
   "metadata": {
    "ExecuteTime": {
     "end_time": "2025-03-15T06:18:15.084960Z",
     "start_time": "2025-03-15T06:18:15.017772Z"
    }
   },
   "cell_type": "code",
   "source": [
    "pmid_pmcid_mapping_file = \"exp_output/pmid_pmcid_mapping.json\"\n",
    "if os.path.exists(pmid_pmcid_mapping_file): \n",
    "    with open(pmid_pmcid_mapping_file, \"r\") as f:\n",
    "        pmid_pmcid_mapping = json.load(f)  # read json file\n",
    "else:\n",
    "    pmid_pmcid_mapping = {}"
   ],
   "id": "29fd4f17725c6c15",
   "outputs": [],
   "execution_count": 3
  },
  {
   "metadata": {
    "ExecuteTime": {
     "end_time": "2025-03-15T06:18:15.160514Z",
     "start_time": "2025-03-15T06:18:15.087837Z"
    }
   },
   "cell_type": "code",
   "source": [
    "doi_pmid_mapping_file = \"exp_output/doi_pmid_mapping.json\"\n",
    "if os.path.exists(doi_pmid_mapping_file): \n",
    "    with open(doi_pmid_mapping_file, \"r\") as f:\n",
    "        doi_pmid_mapping = json.load(f)  # read json file\n",
    "else:\n",
    "    doi_pmid_mapping = {}"
   ],
   "id": "18408bf774092f3",
   "outputs": [],
   "execution_count": 4
  },
  {
   "metadata": {
    "ExecuteTime": {
     "end_time": "2025-03-15T06:18:15.227768Z",
     "start_time": "2025-03-15T06:18:15.161721Z"
    }
   },
   "cell_type": "code",
   "source": [
    "doi_to_pmcid_mapping_file = \"exp_output/doi_pmcid_mapping.json\"\n",
    "if os.path.exists(doi_to_pmcid_mapping_file):\n",
    "    with open(doi_to_pmcid_mapping_file, \"r\") as f:\n",
    "        doi_pmcid_mapping = json.load(f)  # read json file\n",
    "else:\n",
    "    doi_pmcid_mapping = {}"
   ],
   "id": "3325f0d07d692efb",
   "outputs": [],
   "execution_count": 5
  },
  {
   "metadata": {
    "ExecuteTime": {
     "end_time": "2025-03-15T06:18:15.239287Z",
     "start_time": "2025-03-15T06:18:15.228986Z"
    }
   },
   "cell_type": "code",
   "source": "len(pmid_doi_mapping), len(pmid_pmcid_mapping), len(doi_pmid_mapping), len(doi_pmcid_mapping)",
   "id": "fb2fdc261ff79ecb",
   "outputs": [
    {
     "data": {
      "text/plain": [
       "(144993, 144993, 125273, 125011)"
      ]
     },
     "execution_count": 6,
     "metadata": {},
     "output_type": "execute_result"
    }
   ],
   "execution_count": 6
  },
  {
   "metadata": {},
   "cell_type": "markdown",
   "source": [
    "## Extract the datasets data from ProteomeCentral and GEO\n",
    "\n",
    "Start from the export file from ProteomeCentral: https://proteomecentral.proteomexchange.org/"
   ],
   "id": "bb128744ad141f19"
  },
  {
   "metadata": {
    "ExecuteTime": {
     "end_time": "2025-03-15T06:18:15.548301Z",
     "start_time": "2025-03-15T06:18:15.243050Z"
    }
   },
   "cell_type": "code",
   "source": [
    "export_df = pd.read_csv('exp_input/proteomexchange_search.tsv', sep='\\t')\n",
    "print(f\"number of dataset ids in export dataframe from ProteomeCentral: {len(export_df)}\")"
   ],
   "id": "dbca6a1609d3f90f",
   "outputs": [
    {
     "name": "stdout",
     "output_type": "stream",
     "text": [
      "number of dataset ids in export dataframe from ProteomeCentral: 40137\n"
     ]
    }
   ],
   "execution_count": 7
  },
  {
   "metadata": {},
   "cell_type": "markdown",
   "source": "to get an idea of the most frequent values in df publication, for all the dataset ids from the source file",
   "id": "216c36ad08a8ccc8"
  },
  {
   "metadata": {
    "ExecuteTime": {
     "end_time": "2025-03-15T06:18:15.567716Z",
     "start_time": "2025-03-15T06:18:15.549794Z"
    }
   },
   "cell_type": "code",
   "source": "export_df['publication'].value_counts().head()",
   "id": "3ea4110aabcad351",
   "outputs": [
    {
     "data": {
      "text/plain": [
       "publication\n",
       "Dataset with its publication pending                                                                 11719\n",
       "no publication                                                                                        2550\n",
       "<a href=\"http://www.ncbi.nlm.nih.gov/pubmed/35084980\" target=\"_blank\">Melani et al. (2022)</a>          56\n",
       "<a href=\"http://www.ncbi.nlm.nih.gov/pubmed/28267743\" target=\"_blank\">Matsumoto et al. (2017)</a>       28\n",
       "<a href=\"http://www.ncbi.nlm.nih.gov/pubmed/28071820\" target=\"_blank\">Kreutz et al. (2017)</a>          18\n",
       "Name: count, dtype: int64"
      ]
     },
     "execution_count": 8,
     "metadata": {},
     "output_type": "execute_result"
    }
   ],
   "execution_count": 8
  },
  {
   "metadata": {},
   "cell_type": "markdown",
   "source": "Clean the `publication` column by filtering out unwanted values like `Dataset with its publication pending`, `no publication`. Remove rows with unwanted values",
   "id": "6c9abdec1b840be7"
  },
  {
   "metadata": {
    "ExecuteTime": {
     "end_time": "2025-03-15T06:18:15.580021Z",
     "start_time": "2025-03-15T06:18:15.568977Z"
    }
   },
   "cell_type": "code",
   "source": [
    "filtered_df = export_df[~export_df['publication'].isin([\"Dataset with its publication pending\", \"no publication\"])]\n",
    "print(len(filtered_df),'\\n',filtered_df.columns)"
   ],
   "id": "d2d0fb59a01d4418",
   "outputs": [
    {
     "name": "stdout",
     "output_type": "stream",
     "text": [
      "25868 \n",
      " Index(['identifier', 'title', 'repository', 'species', 'instrument',\n",
      "       'publication', 'lab_head', 'announce_date', 'keywords'],\n",
      "      dtype='object')\n"
     ]
    }
   ],
   "execution_count": 9
  },
  {
   "metadata": {},
   "cell_type": "markdown",
   "source": "Normalize the `publication` column by extracting the links from the html tags",
   "id": "d0913bd823b2b838"
  },
  {
   "metadata": {
    "ExecuteTime": {
     "end_time": "2025-03-15T06:18:17.000278Z",
     "start_time": "2025-03-15T06:18:15.582871Z"
    }
   },
   "cell_type": "code",
   "source": [
    "filtered_df = filtered_df.copy()\n",
    "\n",
    "filtered_df.loc[:, 'citing_publications_links'] = None\n",
    "\n",
    "for i, row in filtered_df.iterrows():\n",
    "    pub = str(row['publication'])  # Ensure string type\n",
    "    if \"href\" in pub:\n",
    "        match = re.findall(r'href=[\\'\"]([^\\'\"]+)[\\'\"]', pub)  # Extract href links\n",
    "        filtered_df.at[i, 'citing_publications_links'] = match if match else None\n",
    "    else:\n",
    "        filtered_df.at[i, 'citing_publications_links'] = None\n",
    "\n",
    "# Drop rows with missing links safely\n",
    "filtered_df = filtered_df.dropna(subset=['citing_publications_links']).reset_index(drop=True)\n",
    "filtered_df.drop(columns=['publication'], inplace=True)  # Drop original column\n",
    "\n",
    "print(f\"# n datasets with publications: {len(filtered_df)}\") \n",
    "print(filtered_df.columns)"
   ],
   "id": "2329fcd5dd45e72a",
   "outputs": [
    {
     "name": "stdout",
     "output_type": "stream",
     "text": [
      "# n datasets with publications: 25696\n",
      "Index(['identifier', 'title', 'repository', 'species', 'instrument',\n",
      "       'lab_head', 'announce_date', 'keywords', 'citing_publications_links'],\n",
      "      dtype='object')\n"
     ]
    }
   ],
   "execution_count": 10
  },
  {
   "metadata": {},
   "cell_type": "markdown",
   "source": [
    "Normalize links:\n",
    "\n",
    "\n",
    "- if pubmed link, find the pmcid and the doi mapped to the pmid\n",
    "\n",
    "\n",
    "- if doi link, find the doi and the pmcid mapped to the doi"
   ],
   "id": "92c5f052811859e8"
  },
  {
   "metadata": {
    "ExecuteTime": {
     "end_time": "2025-03-15T06:18:23.568769Z",
     "start_time": "2025-03-15T06:18:18.465308Z"
    }
   },
   "cell_type": "code",
   "source": [
    "filtered_df = filtered_df.explode('citing_publications_links', ignore_index=True)  # Split lists into rows\n",
    "print(f\"Length: {len(filtered_df)}\")\n",
    "\n",
    "filtered_df = extract_publication_ids_from_PX_export(filtered_df, pmid_doi_mapping, pmid_pmcid_mapping, doi_pmid_mapping, doi_pmcid_mapping)\n",
    "print(f\"Length should be the same: {len(filtered_df)}\")\n",
    "\n",
    "filtered_df = add_citing_publication_link_columns(filtered_df)\n",
    "print(f\"Length should be greater: {len(filtered_df)}\")\n",
    "\n",
    "filtered_df[\"citing_publications_links\"] = filtered_df[\"citing_publications_links\"].astype(str)\n",
    "filtered_df[\"DOI\"] = filtered_df[\"DOI\"].astype(str)\n",
    "filtered_df[\"PMCID\"] = filtered_df[\"PMCID\"].astype(str)\n",
    "filtered_df[\"Ground_truth_source\"] = \"proteomexchange_search.tsv\"\n",
    "\n",
    "# Now drop duplicates\n",
    "filtered_df.drop_duplicates(subset=['citing_publications_links', 'DOI', 'PMCID','identifier'], inplace=True)\n",
    "print(f\"Length could be a bit smaller: {len(filtered_df)}\")\n",
    "\n",
    "filtered_df[['citing_publications_links','DOI','PMID','PMCID','identifier']].sample(20)"
   ],
   "id": "1659f3f351bbbfcd",
   "outputs": [
    {
     "name": "stdout",
     "output_type": "stream",
     "text": [
      "Length: 39347\n",
      "Length should be the same: 39347\n",
      "Before explode sample:                           DOI        PMCID  \\\n",
      "0  10.1038/S41467-025-56720-1         None   \n",
      "1           10.6019/PXD051312         None   \n",
      "2      10.1002/prca.202400095  PMC11895760   \n",
      "3      10.1002/prca.202400095  PMC11895760   \n",
      "4    10.17159/SAJS.2025/18571         None   \n",
      "5   10.1101/2024.04.03.587901         None   \n",
      "6   10.1101/2025.02.05.636703         None   \n",
      "7  10.1186/S13100-024-00339-4         None   \n",
      "8  10.1186/s12964-025-02046-w  PMC11773904   \n",
      "9  10.1186/s12964-025-02046-w  PMC11773904   \n",
      "\n",
      "                           citing_publications_links  \n",
      "0    [https://dx.doi.org/10.1038/S41467-025-56720-1]  \n",
      "1             [https://dx.doi.org/10.6019/PXD051312]  \n",
      "2  [https://dx.doi.org/10.1002/prca.202400095, ht...  \n",
      "3  [https://dx.doi.org/10.1002/prca.202400095, ht...  \n",
      "4      [https://dx.doi.org/10.17159/SAJS.2025/18571]  \n",
      "5     [https://dx.doi.org/10.1101/2024.04.03.587901]  \n",
      "6     [https://dx.doi.org/10.1101/2025.02.05.636703]  \n",
      "7    [https://dx.doi.org/10.1186/S13100-024-00339-4]  \n",
      "8  [https://dx.doi.org/10.1186/s12964-025-02046-w...  \n",
      "9  [https://dx.doi.org/10.1186/s12964-025-02046-w...  \n",
      "Final dataframe length: 59833\n",
      "Length should be greater: 59833\n",
      "Length could be a bit smaller: 44281\n"
     ]
    },
    {
     "data": {
      "text/plain": [
       "                               citing_publications_links  \\\n",
       "803    https://www.ncbi.nlm.nih.gov/pmc/articles/PMC1...   \n",
       "55935  https://www.ncbi.nlm.nih.gov/pmc/articles/PMC6...   \n",
       "12112  https://www.ncbi.nlm.nih.gov/pmc/articles/PMC4...   \n",
       "63576         https://dx.doi.org/10.1074/mcp.M114.047530   \n",
       "5982   https://www.ncbi.nlm.nih.gov/pmc/articles/PMC7...   \n",
       "22653            https://dx.doi.org/10.1128/jvi.01624-23   \n",
       "17301      https://dx.doi.org/10.1038/S41586-024-07963-3   \n",
       "33907  https://www.ncbi.nlm.nih.gov/pmc/articles/PMC8...   \n",
       "47338  https://www.ncbi.nlm.nih.gov/pmc/articles/PMC7...   \n",
       "7120   https://www.ncbi.nlm.nih.gov/pmc/articles/PMC7...   \n",
       "14572      https://dx.doi.org/10.3389/fmicb.2024.1404525   \n",
       "58631        https://dx.doi.org/10.1074/mcp.RA117.000159   \n",
       "13847      https://dx.doi.org/10.1038/s41598-019-50219-8   \n",
       "64474  https://www.ncbi.nlm.nih.gov/pmc/articles/PMC4...   \n",
       "41239  https://dx.doi.org/10.1016/J.CHEMBIOL.2021.07.002   \n",
       "61345         https://dx.doi.org/10.1074/mcp.M116.060426   \n",
       "37598  https://www.ncbi.nlm.nih.gov/pmc/articles/PMC9...   \n",
       "26563               https://dx.doi.org/10.6019/PXD045112   \n",
       "37161  https://www.ncbi.nlm.nih.gov/pmc/articles/PMC8...   \n",
       "18361              https://dx.doi.org/10.1242/dmm.050557   \n",
       "\n",
       "                                  DOI      PMID        PMCID identifier  \n",
       "803         10.3389/fmed.2024.1406748  39219796  PMC11361967  PXD054620  \n",
       "55935      10.1038/s41467-018-06368-x  30242148   PMC6155008  PXD010870  \n",
       "12112               10.1021/ac4037679  24684310   PMC4033631  PXD000917  \n",
       "63576         10.1074/mcp.M114.047530  26272980   PMC4638043  PXD002163  \n",
       "5982       10.1038/s41467-020-18494-6  33020478   PMC7536423  PXD014790  \n",
       "22653            10.1128/jvi.01624-23  38709105  PMC11237466  PXD050055  \n",
       "17301      10.1038/S41586-024-07963-3      None         None  PXD041214  \n",
       "33907      10.1186/s12864-022-08372-4  35180840   PMC8855566  PXD022499  \n",
       "47338      10.1186/s13287-020-01706-7  32434555   PMC7238576  PXD016842  \n",
       "7120       10.1038/s41467-020-15467-7  32242014   PMC7118099  PXD017464  \n",
       "14572      10.3389/fmicb.2024.1404525  39224219  PMC11366586  PXD052863  \n",
       "58631        10.1074/mcp.RA117.000159  29187519   PMC5795390  PXD007091  \n",
       "13847      10.1038/s41598-019-50219-8  31551444   PMC6760117  PXD006165  \n",
       "64474         10.1074/mcp.M113.035170  24696503   PMC4047476  PXD001258  \n",
       "41239  10.1016/J.CHEMBIOL.2021.07.002      None         None  PXD026397  \n",
       "61345         10.1074/mcp.M116.060426  27601599   PMC5098039  PXD004423  \n",
       "37598        10.3389/fpls.2022.858065  35665191   PMC9158531  PXD031207  \n",
       "26563               10.6019/PXD045112      None         None  PXD045112  \n",
       "37161        10.1021/acsomega.1c05923  35128256   PMC8811941  PXD016006  \n",
       "18361              10.1242/dmm.050557  38966981  PMC11317091  PXD045660  "
      ],
      "text/html": [
       "<div>\n",
       "<style scoped>\n",
       "    .dataframe tbody tr th:only-of-type {\n",
       "        vertical-align: middle;\n",
       "    }\n",
       "\n",
       "    .dataframe tbody tr th {\n",
       "        vertical-align: top;\n",
       "    }\n",
       "\n",
       "    .dataframe thead th {\n",
       "        text-align: right;\n",
       "    }\n",
       "</style>\n",
       "<table border=\"1\" class=\"dataframe\">\n",
       "  <thead>\n",
       "    <tr style=\"text-align: right;\">\n",
       "      <th></th>\n",
       "      <th>citing_publications_links</th>\n",
       "      <th>DOI</th>\n",
       "      <th>PMID</th>\n",
       "      <th>PMCID</th>\n",
       "      <th>identifier</th>\n",
       "    </tr>\n",
       "  </thead>\n",
       "  <tbody>\n",
       "    <tr>\n",
       "      <th>803</th>\n",
       "      <td>https://www.ncbi.nlm.nih.gov/pmc/articles/PMC1...</td>\n",
       "      <td>10.3389/fmed.2024.1406748</td>\n",
       "      <td>39219796</td>\n",
       "      <td>PMC11361967</td>\n",
       "      <td>PXD054620</td>\n",
       "    </tr>\n",
       "    <tr>\n",
       "      <th>55935</th>\n",
       "      <td>https://www.ncbi.nlm.nih.gov/pmc/articles/PMC6...</td>\n",
       "      <td>10.1038/s41467-018-06368-x</td>\n",
       "      <td>30242148</td>\n",
       "      <td>PMC6155008</td>\n",
       "      <td>PXD010870</td>\n",
       "    </tr>\n",
       "    <tr>\n",
       "      <th>12112</th>\n",
       "      <td>https://www.ncbi.nlm.nih.gov/pmc/articles/PMC4...</td>\n",
       "      <td>10.1021/ac4037679</td>\n",
       "      <td>24684310</td>\n",
       "      <td>PMC4033631</td>\n",
       "      <td>PXD000917</td>\n",
       "    </tr>\n",
       "    <tr>\n",
       "      <th>63576</th>\n",
       "      <td>https://dx.doi.org/10.1074/mcp.M114.047530</td>\n",
       "      <td>10.1074/mcp.M114.047530</td>\n",
       "      <td>26272980</td>\n",
       "      <td>PMC4638043</td>\n",
       "      <td>PXD002163</td>\n",
       "    </tr>\n",
       "    <tr>\n",
       "      <th>5982</th>\n",
       "      <td>https://www.ncbi.nlm.nih.gov/pmc/articles/PMC7...</td>\n",
       "      <td>10.1038/s41467-020-18494-6</td>\n",
       "      <td>33020478</td>\n",
       "      <td>PMC7536423</td>\n",
       "      <td>PXD014790</td>\n",
       "    </tr>\n",
       "    <tr>\n",
       "      <th>22653</th>\n",
       "      <td>https://dx.doi.org/10.1128/jvi.01624-23</td>\n",
       "      <td>10.1128/jvi.01624-23</td>\n",
       "      <td>38709105</td>\n",
       "      <td>PMC11237466</td>\n",
       "      <td>PXD050055</td>\n",
       "    </tr>\n",
       "    <tr>\n",
       "      <th>17301</th>\n",
       "      <td>https://dx.doi.org/10.1038/S41586-024-07963-3</td>\n",
       "      <td>10.1038/S41586-024-07963-3</td>\n",
       "      <td>None</td>\n",
       "      <td>None</td>\n",
       "      <td>PXD041214</td>\n",
       "    </tr>\n",
       "    <tr>\n",
       "      <th>33907</th>\n",
       "      <td>https://www.ncbi.nlm.nih.gov/pmc/articles/PMC8...</td>\n",
       "      <td>10.1186/s12864-022-08372-4</td>\n",
       "      <td>35180840</td>\n",
       "      <td>PMC8855566</td>\n",
       "      <td>PXD022499</td>\n",
       "    </tr>\n",
       "    <tr>\n",
       "      <th>47338</th>\n",
       "      <td>https://www.ncbi.nlm.nih.gov/pmc/articles/PMC7...</td>\n",
       "      <td>10.1186/s13287-020-01706-7</td>\n",
       "      <td>32434555</td>\n",
       "      <td>PMC7238576</td>\n",
       "      <td>PXD016842</td>\n",
       "    </tr>\n",
       "    <tr>\n",
       "      <th>7120</th>\n",
       "      <td>https://www.ncbi.nlm.nih.gov/pmc/articles/PMC7...</td>\n",
       "      <td>10.1038/s41467-020-15467-7</td>\n",
       "      <td>32242014</td>\n",
       "      <td>PMC7118099</td>\n",
       "      <td>PXD017464</td>\n",
       "    </tr>\n",
       "    <tr>\n",
       "      <th>14572</th>\n",
       "      <td>https://dx.doi.org/10.3389/fmicb.2024.1404525</td>\n",
       "      <td>10.3389/fmicb.2024.1404525</td>\n",
       "      <td>39224219</td>\n",
       "      <td>PMC11366586</td>\n",
       "      <td>PXD052863</td>\n",
       "    </tr>\n",
       "    <tr>\n",
       "      <th>58631</th>\n",
       "      <td>https://dx.doi.org/10.1074/mcp.RA117.000159</td>\n",
       "      <td>10.1074/mcp.RA117.000159</td>\n",
       "      <td>29187519</td>\n",
       "      <td>PMC5795390</td>\n",
       "      <td>PXD007091</td>\n",
       "    </tr>\n",
       "    <tr>\n",
       "      <th>13847</th>\n",
       "      <td>https://dx.doi.org/10.1038/s41598-019-50219-8</td>\n",
       "      <td>10.1038/s41598-019-50219-8</td>\n",
       "      <td>31551444</td>\n",
       "      <td>PMC6760117</td>\n",
       "      <td>PXD006165</td>\n",
       "    </tr>\n",
       "    <tr>\n",
       "      <th>64474</th>\n",
       "      <td>https://www.ncbi.nlm.nih.gov/pmc/articles/PMC4...</td>\n",
       "      <td>10.1074/mcp.M113.035170</td>\n",
       "      <td>24696503</td>\n",
       "      <td>PMC4047476</td>\n",
       "      <td>PXD001258</td>\n",
       "    </tr>\n",
       "    <tr>\n",
       "      <th>41239</th>\n",
       "      <td>https://dx.doi.org/10.1016/J.CHEMBIOL.2021.07.002</td>\n",
       "      <td>10.1016/J.CHEMBIOL.2021.07.002</td>\n",
       "      <td>None</td>\n",
       "      <td>None</td>\n",
       "      <td>PXD026397</td>\n",
       "    </tr>\n",
       "    <tr>\n",
       "      <th>61345</th>\n",
       "      <td>https://dx.doi.org/10.1074/mcp.M116.060426</td>\n",
       "      <td>10.1074/mcp.M116.060426</td>\n",
       "      <td>27601599</td>\n",
       "      <td>PMC5098039</td>\n",
       "      <td>PXD004423</td>\n",
       "    </tr>\n",
       "    <tr>\n",
       "      <th>37598</th>\n",
       "      <td>https://www.ncbi.nlm.nih.gov/pmc/articles/PMC9...</td>\n",
       "      <td>10.3389/fpls.2022.858065</td>\n",
       "      <td>35665191</td>\n",
       "      <td>PMC9158531</td>\n",
       "      <td>PXD031207</td>\n",
       "    </tr>\n",
       "    <tr>\n",
       "      <th>26563</th>\n",
       "      <td>https://dx.doi.org/10.6019/PXD045112</td>\n",
       "      <td>10.6019/PXD045112</td>\n",
       "      <td>None</td>\n",
       "      <td>None</td>\n",
       "      <td>PXD045112</td>\n",
       "    </tr>\n",
       "    <tr>\n",
       "      <th>37161</th>\n",
       "      <td>https://www.ncbi.nlm.nih.gov/pmc/articles/PMC8...</td>\n",
       "      <td>10.1021/acsomega.1c05923</td>\n",
       "      <td>35128256</td>\n",
       "      <td>PMC8811941</td>\n",
       "      <td>PXD016006</td>\n",
       "    </tr>\n",
       "    <tr>\n",
       "      <th>18361</th>\n",
       "      <td>https://dx.doi.org/10.1242/dmm.050557</td>\n",
       "      <td>10.1242/dmm.050557</td>\n",
       "      <td>38966981</td>\n",
       "      <td>PMC11317091</td>\n",
       "      <td>PXD045660</td>\n",
       "    </tr>\n",
       "  </tbody>\n",
       "</table>\n",
       "</div>"
      ]
     },
     "execution_count": 11,
     "metadata": {},
     "output_type": "execute_result"
    }
   ],
   "execution_count": 11
  },
  {
   "metadata": {},
   "cell_type": "markdown",
   "source": "Extraction of data from GEO",
   "id": "55bbf6947515dd93"
  },
  {
   "metadata": {
    "ExecuteTime": {
     "end_time": "2025-03-15T06:19:23.266814Z",
     "start_time": "2025-03-15T06:18:58.811583Z"
    }
   },
   "cell_type": "code",
   "source": [
    "GEO_extract_file = \"exp_input/GEO_data.csv\"\n",
    "GEO_df = pd.read_csv(GEO_extract_file, low_memory=False)\n",
    "print(f\"number of dataset ids in GEO dataframe: {len(GEO_df)}\")"
   ],
   "id": "295128eefbe94e80",
   "outputs": [
    {
     "name": "stdout",
     "output_type": "stream",
     "text": [
      "number of dataset ids in GEO dataframe: 248748\n"
     ]
    }
   ],
   "execution_count": 12
  },
  {
   "metadata": {},
   "cell_type": "markdown",
   "source": "Extracting all the datasets with eutils api and get all the uids of GEO series datasets",
   "id": "546fbf3d16cf4bee"
  },
  {
   "metadata": {
    "ExecuteTime": {
     "end_time": "2025-03-15T06:19:26.533101Z",
     "start_time": "2025-03-15T06:19:23.270291Z"
    }
   },
   "cell_type": "code",
   "source": [
    "root = ElementTree.fromstring(requests.get(\"https://eutils.ncbi.nlm.nih.gov/entrez/eutils/esearch.fcgi\", \n",
    "                                           params={\"db\": \"gds\", \"term\": '\"gse\"[Entry Type]', \"retmax\": \"1000000\",  \"retmode\": \"xml\"}\n",
    "                                           ).content)\n",
    "\n",
    "gse_ids = [id_elem.text for id_elem in root.findall(\".//Id\")]\n",
    "missing_ids = set(gse_ids)-set([str(x) for x in GEO_df.uid])\n",
    "\n",
    "print(f\"Total datasets found: {len(gse_ids)}\")\n",
    "print(\"Missing GSE IDs:\", len(missing_ids))  # Show difference with data we already got"
   ],
   "id": "4617db8aaafb7e89",
   "outputs": [
    {
     "name": "stdout",
     "output_type": "stream",
     "text": [
      "Total datasets found: 249060\n",
      "Missing GSE IDs: 326\n"
     ]
    }
   ],
   "execution_count": 13
  },
  {
   "metadata": {},
   "cell_type": "markdown",
   "source": "Add new datasets from GEO to the GEO dataframe",
   "id": "31296faf5c71f288"
  },
  {
   "metadata": {
    "ExecuteTime": {
     "end_time": "2025-03-15T06:19:26.539420Z",
     "start_time": "2025-03-15T06:19:26.534272Z"
    }
   },
   "cell_type": "code",
   "source": [
    "add_new_data = False # add new datasets to the GEO_df\n",
    "\n",
    "if add_new_data:\n",
    "    new_GEO_series_data = {}\n",
    "    i, mxm = 0, 1\n",
    "    while True:\n",
    "        print(f\"Progress: {min(i / len(missing_ids), 1) * 100} %\")\n",
    "        if i > len(missing_ids):\n",
    "            break\n",
    "        try:\n",
    "            new_data = fetch_GEO_data(list(missing_ids),\"https://eutils.ncbi.nlm.nih.gov/entrez/eutils/esummary.fcgi\",i,mxm)\n",
    "            for uid, details in new_data[\"result\"].items():\n",
    "                if uid == \"uids\":  # Ignore metadata key\n",
    "                    continue\n",
    "                new_GEO_series_data[uid] = details\n",
    "        except Exception as e:\n",
    "            print(f\"Error at {i}, {mxm} with error: {e}\")\n",
    "                \n",
    "        i += 1\n",
    "        mxm += 1\n",
    "        time.sleep(0.005) \n",
    "\n",
    "    GEO_df = pd.concat([GEO_df, pd.DataFrame(new_GEO_series_data).T], axis=0)"
   ],
   "id": "71bbda7af9fb1a78",
   "outputs": [],
   "execution_count": 14
  },
  {
   "metadata": {},
   "cell_type": "markdown",
   "source": "We will update the filtered_df with the new datasets from GEO, after matching the schema",
   "id": "9e4dbff7754cb951"
  },
  {
   "metadata": {},
   "cell_type": "markdown",
   "source": "Add the url to the GEO datasets by reconstruction from pubmedids",
   "id": "ca6166a0e0741439"
  },
  {
   "metadata": {
    "ExecuteTime": {
     "end_time": "2025-03-15T06:19:29.195127Z",
     "start_time": "2025-03-15T06:19:26.541840Z"
    }
   },
   "cell_type": "code",
   "source": [
    "# eval string to list\n",
    "GEO_df['pubmedids'] = GEO_df['pubmedids'].apply(lambda x: ast.literal_eval(x) if isinstance(x, str) else x)\n",
    "print(len(GEO_df))\n",
    "GEO_df = GEO_df[GEO_df['pubmedids'].astype(bool)]  # Drop rows with empty lists\n",
    "print(len(GEO_df))\n",
    "GEO_df = GEO_df.explode('pubmedids', ignore_index=True)  # Split lists into rows\n",
    "print(len(GEO_df))"
   ],
   "id": "ffc6a180b21f49ba",
   "outputs": [
    {
     "name": "stdout",
     "output_type": "stream",
     "text": [
      "248748\n",
      "194093\n",
      "208151\n"
     ]
    }
   ],
   "execution_count": 15
  },
  {
   "metadata": {},
   "cell_type": "markdown",
   "source": [
    "- if pubmed link, find the pmcid and the doi mapped to the pmid\n",
    "\n",
    "\n",
    "- Create Links for the publications"
   ],
   "id": "e7ce599657d4d14f"
  },
  {
   "metadata": {
    "ExecuteTime": {
     "end_time": "2025-03-15T06:19:29.413773Z",
     "start_time": "2025-03-15T06:19:29.196180Z"
    }
   },
   "cell_type": "code",
   "source": [
    "GEO_df['PMCID'] = GEO_df['pubmedids'].map(\n",
    "    lambda x: pmid_pmcid_mapping.get(x, None) if isinstance(x, str) else None )\n",
    "GEO_df['DOI'] = GEO_df['pubmedids'].map(\n",
    "    lambda x: pmid_doi_mapping.get(x, None) if isinstance(x, str) else None)\n",
    "GEO_df[['pubmedids','PMCID','DOI']].sample(10)"
   ],
   "id": "e693614cf6b9c589",
   "outputs": [
    {
     "data": {
      "text/plain": [
       "       pubmedids        PMCID                           DOI\n",
       "50904   36443881   PMC9702864    10.1186/s12985-022-01930-y\n",
       "40546   36651277   PMC9943675          10.1093/nar/gkac1237\n",
       "72891   34019588   PMC8174705  10.1371/journal.ppat.1009577\n",
       "121809  29329517   PMC5767043     10.1186/s12864-017-4367-1\n",
       "126091  22955616   PMC3439153           10.1038/nature11247\n",
       "155098  28739826   PMC5607407          10.1128/IAI.00389-17\n",
       "77470   39614284  PMC11606223    10.1186/s13062-024-00556-0\n",
       "15949   22955616   PMC3439153           10.1038/nature11247\n",
       "180855  22406535   PMC3314474              10.1172/JCI61392\n",
       "87931   35967340   PMC9366357     10.3389/fimmu.2022.960918"
      ],
      "text/html": [
       "<div>\n",
       "<style scoped>\n",
       "    .dataframe tbody tr th:only-of-type {\n",
       "        vertical-align: middle;\n",
       "    }\n",
       "\n",
       "    .dataframe tbody tr th {\n",
       "        vertical-align: top;\n",
       "    }\n",
       "\n",
       "    .dataframe thead th {\n",
       "        text-align: right;\n",
       "    }\n",
       "</style>\n",
       "<table border=\"1\" class=\"dataframe\">\n",
       "  <thead>\n",
       "    <tr style=\"text-align: right;\">\n",
       "      <th></th>\n",
       "      <th>pubmedids</th>\n",
       "      <th>PMCID</th>\n",
       "      <th>DOI</th>\n",
       "    </tr>\n",
       "  </thead>\n",
       "  <tbody>\n",
       "    <tr>\n",
       "      <th>50904</th>\n",
       "      <td>36443881</td>\n",
       "      <td>PMC9702864</td>\n",
       "      <td>10.1186/s12985-022-01930-y</td>\n",
       "    </tr>\n",
       "    <tr>\n",
       "      <th>40546</th>\n",
       "      <td>36651277</td>\n",
       "      <td>PMC9943675</td>\n",
       "      <td>10.1093/nar/gkac1237</td>\n",
       "    </tr>\n",
       "    <tr>\n",
       "      <th>72891</th>\n",
       "      <td>34019588</td>\n",
       "      <td>PMC8174705</td>\n",
       "      <td>10.1371/journal.ppat.1009577</td>\n",
       "    </tr>\n",
       "    <tr>\n",
       "      <th>121809</th>\n",
       "      <td>29329517</td>\n",
       "      <td>PMC5767043</td>\n",
       "      <td>10.1186/s12864-017-4367-1</td>\n",
       "    </tr>\n",
       "    <tr>\n",
       "      <th>126091</th>\n",
       "      <td>22955616</td>\n",
       "      <td>PMC3439153</td>\n",
       "      <td>10.1038/nature11247</td>\n",
       "    </tr>\n",
       "    <tr>\n",
       "      <th>155098</th>\n",
       "      <td>28739826</td>\n",
       "      <td>PMC5607407</td>\n",
       "      <td>10.1128/IAI.00389-17</td>\n",
       "    </tr>\n",
       "    <tr>\n",
       "      <th>77470</th>\n",
       "      <td>39614284</td>\n",
       "      <td>PMC11606223</td>\n",
       "      <td>10.1186/s13062-024-00556-0</td>\n",
       "    </tr>\n",
       "    <tr>\n",
       "      <th>15949</th>\n",
       "      <td>22955616</td>\n",
       "      <td>PMC3439153</td>\n",
       "      <td>10.1038/nature11247</td>\n",
       "    </tr>\n",
       "    <tr>\n",
       "      <th>180855</th>\n",
       "      <td>22406535</td>\n",
       "      <td>PMC3314474</td>\n",
       "      <td>10.1172/JCI61392</td>\n",
       "    </tr>\n",
       "    <tr>\n",
       "      <th>87931</th>\n",
       "      <td>35967340</td>\n",
       "      <td>PMC9366357</td>\n",
       "      <td>10.3389/fimmu.2022.960918</td>\n",
       "    </tr>\n",
       "  </tbody>\n",
       "</table>\n",
       "</div>"
      ]
     },
     "execution_count": 16,
     "metadata": {},
     "output_type": "execute_result"
    }
   ],
   "execution_count": 16
  },
  {
   "metadata": {
    "ExecuteTime": {
     "end_time": "2025-03-15T06:19:33.840899Z",
     "start_time": "2025-03-15T06:19:29.414955Z"
    }
   },
   "cell_type": "code",
   "source": [
    "# Generate citing_publications_links as a list of links\n",
    "GEO_df = add_citing_publication_link_columns(GEO_df)\n",
    "\n",
    "GEO_df[['pubmedids','PMCID','DOI','citing_publications_links']].sample(10)"
   ],
   "id": "5fbf937a11e6591",
   "outputs": [
    {
     "name": "stdout",
     "output_type": "stream",
     "text": [
      "Before explode sample:                        DOI        PMCID  \\\n",
      "0                     None         None   \n",
      "1   10.1093/immhor/vlae005  PMC11841973   \n",
      "2      10.1093/nar/gkaf109  PMC11840560   \n",
      "3                     None         None   \n",
      "4                     None         None   \n",
      "5                     None         None   \n",
      "6                     None         None   \n",
      "7                     None         None   \n",
      "8                     None         None   \n",
      "9  10.1073/pnas.2416384122  PMC11892594   \n",
      "\n",
      "                           citing_publications_links  \n",
      "0                                                 []  \n",
      "1  [https://dx.doi.org/10.1093/immhor/vlae005, ht...  \n",
      "2  [https://dx.doi.org/10.1093/nar/gkaf109, https...  \n",
      "3                                                 []  \n",
      "4                                                 []  \n",
      "5                                                 []  \n",
      "6                                                 []  \n",
      "7                                                 []  \n",
      "8                                                 []  \n",
      "9  [https://dx.doi.org/10.1073/pnas.2416384122, h...  \n",
      "Final dataframe length: 352982\n"
     ]
    },
    {
     "data": {
      "text/plain": [
       "       pubmedids        PMCID                           DOI  \\\n",
       "302912  25315157   PMC4312125              10.1002/cam4.351   \n",
       "332433  23177624   PMC3625945  10.1016/j.celrep.2012.10.017   \n",
       "36017   38426156  PMC10902752         10.3892/ol.2024.14291   \n",
       "264477  27077850   PMC4848955          10.3390/ijms17040499   \n",
       "240296  28704530   PMC5509291  10.1371/journal.pone.0181155   \n",
       "376347  17724126   PMC2118696          10.1084/jem.20070041   \n",
       "218211  30360761   PMC6203201     10.1186/s13059-018-1551-9   \n",
       "226530  29638215   PMC5896888           10.7554/eLife.32472   \n",
       "123048  34591327   PMC9812230         10.1096/fj.202100862R   \n",
       "21182   38746145  PMC11092767     10.1101/2024.05.05.592422   \n",
       "\n",
       "                                citing_publications_links  \n",
       "302912                https://dx.doi.org/10.1002/cam4.351  \n",
       "332433    https://dx.doi.org/10.1016/j.celrep.2012.10.017  \n",
       "36017            https://dx.doi.org/10.3892/ol.2024.14291  \n",
       "264477  https://www.ncbi.nlm.nih.gov/pmc/articles/PMC4...  \n",
       "240296    https://dx.doi.org/10.1371/journal.pone.0181155  \n",
       "376347            https://dx.doi.org/10.1084/jem.20070041  \n",
       "218211  https://www.ncbi.nlm.nih.gov/pmc/articles/PMC6...  \n",
       "226530  https://www.ncbi.nlm.nih.gov/pmc/articles/PMC5...  \n",
       "123048  https://www.ncbi.nlm.nih.gov/pmc/articles/PMC9...  \n",
       "21182   https://www.ncbi.nlm.nih.gov/pmc/articles/PMC1...  "
      ],
      "text/html": [
       "<div>\n",
       "<style scoped>\n",
       "    .dataframe tbody tr th:only-of-type {\n",
       "        vertical-align: middle;\n",
       "    }\n",
       "\n",
       "    .dataframe tbody tr th {\n",
       "        vertical-align: top;\n",
       "    }\n",
       "\n",
       "    .dataframe thead th {\n",
       "        text-align: right;\n",
       "    }\n",
       "</style>\n",
       "<table border=\"1\" class=\"dataframe\">\n",
       "  <thead>\n",
       "    <tr style=\"text-align: right;\">\n",
       "      <th></th>\n",
       "      <th>pubmedids</th>\n",
       "      <th>PMCID</th>\n",
       "      <th>DOI</th>\n",
       "      <th>citing_publications_links</th>\n",
       "    </tr>\n",
       "  </thead>\n",
       "  <tbody>\n",
       "    <tr>\n",
       "      <th>302912</th>\n",
       "      <td>25315157</td>\n",
       "      <td>PMC4312125</td>\n",
       "      <td>10.1002/cam4.351</td>\n",
       "      <td>https://dx.doi.org/10.1002/cam4.351</td>\n",
       "    </tr>\n",
       "    <tr>\n",
       "      <th>332433</th>\n",
       "      <td>23177624</td>\n",
       "      <td>PMC3625945</td>\n",
       "      <td>10.1016/j.celrep.2012.10.017</td>\n",
       "      <td>https://dx.doi.org/10.1016/j.celrep.2012.10.017</td>\n",
       "    </tr>\n",
       "    <tr>\n",
       "      <th>36017</th>\n",
       "      <td>38426156</td>\n",
       "      <td>PMC10902752</td>\n",
       "      <td>10.3892/ol.2024.14291</td>\n",
       "      <td>https://dx.doi.org/10.3892/ol.2024.14291</td>\n",
       "    </tr>\n",
       "    <tr>\n",
       "      <th>264477</th>\n",
       "      <td>27077850</td>\n",
       "      <td>PMC4848955</td>\n",
       "      <td>10.3390/ijms17040499</td>\n",
       "      <td>https://www.ncbi.nlm.nih.gov/pmc/articles/PMC4...</td>\n",
       "    </tr>\n",
       "    <tr>\n",
       "      <th>240296</th>\n",
       "      <td>28704530</td>\n",
       "      <td>PMC5509291</td>\n",
       "      <td>10.1371/journal.pone.0181155</td>\n",
       "      <td>https://dx.doi.org/10.1371/journal.pone.0181155</td>\n",
       "    </tr>\n",
       "    <tr>\n",
       "      <th>376347</th>\n",
       "      <td>17724126</td>\n",
       "      <td>PMC2118696</td>\n",
       "      <td>10.1084/jem.20070041</td>\n",
       "      <td>https://dx.doi.org/10.1084/jem.20070041</td>\n",
       "    </tr>\n",
       "    <tr>\n",
       "      <th>218211</th>\n",
       "      <td>30360761</td>\n",
       "      <td>PMC6203201</td>\n",
       "      <td>10.1186/s13059-018-1551-9</td>\n",
       "      <td>https://www.ncbi.nlm.nih.gov/pmc/articles/PMC6...</td>\n",
       "    </tr>\n",
       "    <tr>\n",
       "      <th>226530</th>\n",
       "      <td>29638215</td>\n",
       "      <td>PMC5896888</td>\n",
       "      <td>10.7554/eLife.32472</td>\n",
       "      <td>https://www.ncbi.nlm.nih.gov/pmc/articles/PMC5...</td>\n",
       "    </tr>\n",
       "    <tr>\n",
       "      <th>123048</th>\n",
       "      <td>34591327</td>\n",
       "      <td>PMC9812230</td>\n",
       "      <td>10.1096/fj.202100862R</td>\n",
       "      <td>https://www.ncbi.nlm.nih.gov/pmc/articles/PMC9...</td>\n",
       "    </tr>\n",
       "    <tr>\n",
       "      <th>21182</th>\n",
       "      <td>38746145</td>\n",
       "      <td>PMC11092767</td>\n",
       "      <td>10.1101/2024.05.05.592422</td>\n",
       "      <td>https://www.ncbi.nlm.nih.gov/pmc/articles/PMC1...</td>\n",
       "    </tr>\n",
       "  </tbody>\n",
       "</table>\n",
       "</div>"
      ]
     },
     "execution_count": 17,
     "metadata": {},
     "output_type": "execute_result"
    }
   ],
   "execution_count": 17
  },
  {
   "metadata": {
    "ExecuteTime": {
     "end_time": "2025-03-15T06:19:34.195684Z",
     "start_time": "2025-03-15T06:19:33.842145Z"
    }
   },
   "cell_type": "code",
   "source": [
    "# drop NaN citing_publications_links\n",
    "GEO_df = GEO_df.dropna(subset=['citing_publications_links'])  # Remove NaNs\n",
    "print(len(GEO_df))"
   ],
   "id": "f31bbcfc2f3f9a0f",
   "outputs": [
    {
     "name": "stdout",
     "output_type": "stream",
     "text": [
      "352982\n"
     ]
    }
   ],
   "execution_count": 18
  },
  {
   "metadata": {},
   "cell_type": "markdown",
   "source": "Union of the two dataframes",
   "id": "19b8d0be5dab663"
  },
  {
   "metadata": {
    "ExecuteTime": {
     "end_time": "2025-03-15T06:19:34.200485Z",
     "start_time": "2025-03-15T06:19:34.197183Z"
    }
   },
   "cell_type": "code",
   "source": [
    "print(f\"len filtered_df: {len(filtered_df)}\")\n",
    "print(f\"len GEO_df: {len(GEO_df)}\")"
   ],
   "id": "ee5f8c6573cd2ba7",
   "outputs": [
    {
     "name": "stdout",
     "output_type": "stream",
     "text": [
      "len filtered_df: 44281\n",
      "len GEO_df: 352982\n"
     ]
    }
   ],
   "execution_count": 19
  },
  {
   "metadata": {
    "ExecuteTime": {
     "end_time": "2025-03-15T06:19:34.209268Z",
     "start_time": "2025-03-15T06:19:34.202504Z"
    }
   },
   "cell_type": "code",
   "source": "GEO_df['Ground_truth_source'] = 'GEO_API'  # Add source column",
   "id": "6f94dec195ac8b8c",
   "outputs": [],
   "execution_count": 20
  },
  {
   "metadata": {
    "ExecuteTime": {
     "end_time": "2025-03-15T06:19:34.215965Z",
     "start_time": "2025-03-15T06:19:34.213050Z"
    }
   },
   "cell_type": "code",
   "source": [
    "column_mappings = { # Manually map columns\n",
    "    'accession': 'identifier',\n",
    "    'taxon': 'species',\n",
    "    'repository': 'entrytype',\n",
    "    'publication_date': 'pdat',\n",
    "    'pubmedids': 'PMID',\n",
    "}"
   ],
   "id": "391db62b2926b62c",
   "outputs": [],
   "execution_count": 21
  },
  {
   "metadata": {
    "ExecuteTime": {
     "end_time": "2025-03-15T06:19:34.859010Z",
     "start_time": "2025-03-15T06:19:34.218553Z"
    }
   },
   "cell_type": "code",
   "source": [
    "GEO_df = GEO_df.rename(columns=column_mappings)  # Rename columns\n",
    "GEO_df['repository'] = 'GEO'  # Add repository column\n",
    "filtered_df = pd.concat([filtered_df, GEO_df], axis=0, ignore_index=True)  # Concatenate dataframes"
   ],
   "id": "5f8032395e9a2dde",
   "outputs": [],
   "execution_count": 22
  },
  {
   "metadata": {
    "ExecuteTime": {
     "end_time": "2025-03-15T06:19:34.906893Z",
     "start_time": "2025-03-15T06:19:34.865569Z"
    }
   },
   "cell_type": "code",
   "source": "filtered_df.iloc[::10000].head(10)  # Show every 10000th row",
   "id": "625641be5d04ca60",
   "outputs": [
    {
     "data": {
      "text/plain": [
       "      identifier                                              title  \\\n",
       "0      PXD059466  Endothelial SHANK3 Regulates Tight Junctions i...   \n",
       "10000  PXD000235  bHLH Transcription Factors that Facilitate K+ ...   \n",
       "20000  PXD038874  Sulconazole induces PANoptosis to increase rad...   \n",
       "30000  PXD014403      Degradation of Quaternary amine in methanogen   \n",
       "40000  PXD004559  Mapping and quantification of over 2,000 O-lin...   \n",
       "50000  GSE270865  Genomic and Histologic Analysis of Uterine Lei...   \n",
       "60000  GSE253632  Chromatin conformation and histone modificatio...   \n",
       "70000  GSE259050  Control ChIP-seq from whole organism (ENCSR821...   \n",
       "80000  GSE238202      CLIP-seq analysis of hnRNPA1-RNA interactions   \n",
       "90000  GSE206190  Profiling of RNA-binding protein LSM14B target...   \n",
       "\n",
       "      repository                                 species  \\\n",
       "0          PRIDE                            Mus musculus   \n",
       "10000      PRIDE  Arabidopsis thaliana (Mouse-ear cress)   \n",
       "20000      iProX                            Homo sapiens   \n",
       "30000    MassIVE                    Methanolobus vulcani   \n",
       "40000      PRIDE                            Homo sapiens   \n",
       "50000        GEO                            Homo sapiens   \n",
       "60000        GEO                            Homo sapiens   \n",
       "70000        GEO                  Caenorhabditis elegans   \n",
       "80000        GEO                            Homo sapiens   \n",
       "90000        GEO                            Mus musculus   \n",
       "\n",
       "                  instrument                      lab_head announce_date  \\\n",
       "0      Orbitrap Fusion Lumos                   Il Hwan Kim    2025-02-07   \n",
       "10000                    LTQ                   Y Takahashi    2024-10-07   \n",
       "20000    Orbitrap Fusion ETD                      Liyan Xu    2022-12-17   \n",
       "30000        LTQ Orbitrap XL  Donald J. Ferguson, XIN WANG    2021-03-29   \n",
       "40000     LTQ Orbitrap Elite                 Christina Woo    2018-01-25   \n",
       "50000                    NaN                           NaN           NaN   \n",
       "60000                    NaN                           NaN           NaN   \n",
       "70000                    NaN                           NaN           NaN   \n",
       "80000                    NaN                           NaN           NaN   \n",
       "90000                    NaN                           NaN           NaN   \n",
       "\n",
       "                                                keywords  \\\n",
       "0                           BioID2, SHANK3, bEnd3. Cells   \n",
       "10000                          LTQ, stomatal guard cells   \n",
       "20000          PANoptosis, Sulconazole, oxidative stress   \n",
       "30000                       methanogen, quaternary amine   \n",
       "40000  O-GlcNAc, O-linked N-acetylglucosamine, T cell...   \n",
       "50000                                                NaN   \n",
       "60000                                                NaN   \n",
       "70000                                                NaN   \n",
       "80000                                                NaN   \n",
       "90000                                                NaN   \n",
       "\n",
       "                               citing_publications_links      PMID  ...  \\\n",
       "0          https://dx.doi.org/10.1038/S41467-025-56720-1      None  ...   \n",
       "10000               https://dx.doi.org/10.6019/PXD000235      None  ...   \n",
       "20000  https://www.ncbi.nlm.nih.gov/pmc/articles/PMC1...  37076047  ...   \n",
       "30000  https://www.ncbi.nlm.nih.gov/pmc/articles/PMC6...  31787957  ...   \n",
       "40000        https://dx.doi.org/10.1074/mcp.RA117.000261  29351928  ...   \n",
       "50000  https://www.ncbi.nlm.nih.gov/pmc/articles/PMC1...  39691991  ...   \n",
       "60000  https://www.ncbi.nlm.nih.gov/pmc/articles/PMC1...  39025878  ...   \n",
       "70000  https://www.ncbi.nlm.nih.gov/pmc/articles/PMC3...  22955616  ...   \n",
       "80000  https://www.ncbi.nlm.nih.gov/pmc/articles/PMC1...  38985864  ...   \n",
       "90000          https://dx.doi.org/10.1002/advs.202300043  37083226  ...   \n",
       "\n",
       "             pdat  suppfile  \\\n",
       "0             NaN       NaN   \n",
       "10000         NaN       NaN   \n",
       "20000         NaN       NaN   \n",
       "30000         NaN       NaN   \n",
       "40000         NaN       NaN   \n",
       "50000  2024/11/05  MTX, TSV   \n",
       "60000  2024/06/20       HIC   \n",
       "70000  2024/02/27       TXT   \n",
       "80000  2023/12/31       TXT   \n",
       "90000  2023/09/08    BIGWIG   \n",
       "\n",
       "                                                 samples  relations  \\\n",
       "0                                                    NaN        NaN   \n",
       "10000                                                NaN        NaN   \n",
       "20000                                                NaN        NaN   \n",
       "30000                                                NaN        NaN   \n",
       "40000                                                NaN        NaN   \n",
       "50000  [{'accession': 'GSM8353848', 'title': 'STSW3_S...         []   \n",
       "60000  [{'accession': 'GSM8024403', 'title': 'Human k...         []   \n",
       "70000  [{'accession': 'GSM8111018', 'title': 'Control...         []   \n",
       "80000  [{'accession': 'GSM7660285', 'title': 'WT_U_re...         []   \n",
       "90000  [{'accession': 'GSM6245835', 'title': 'LM-2000...         []   \n",
       "\n",
       "       extrelations n_samples  \\\n",
       "0               NaN       NaN   \n",
       "10000           NaN       NaN   \n",
       "20000           NaN       NaN   \n",
       "30000           NaN       NaN   \n",
       "40000           NaN       NaN   \n",
       "50000            []       4.0   \n",
       "60000            []       6.0   \n",
       "70000            []       1.0   \n",
       "80000            []       6.0   \n",
       "90000            []       2.0   \n",
       "\n",
       "                                                projects  \\\n",
       "0                                                    NaN   \n",
       "10000                                                NaN   \n",
       "20000                                                NaN   \n",
       "30000                                                NaN   \n",
       "40000                                                NaN   \n",
       "50000                                                 []   \n",
       "60000                                                 []   \n",
       "70000  [{'name': 'modENCODE', 'url': 'https://www.ncb...   \n",
       "80000                                                 []   \n",
       "90000                                                 []   \n",
       "\n",
       "                                                 ftplink  geo2r    bioproject  \n",
       "0                                                    NaN    NaN           NaN  \n",
       "10000                                                NaN    NaN           NaN  \n",
       "20000                                                NaN    NaN           NaN  \n",
       "30000                                                NaN    NaN           NaN  \n",
       "40000                                                NaN    NaN           NaN  \n",
       "50000  ftp://ftp.ncbi.nlm.nih.gov/geo/series/GSE270nn...     no  PRJNA1128661  \n",
       "60000  ftp://ftp.ncbi.nlm.nih.gov/geo/series/GSE253nn...     no  PRJNA1066382  \n",
       "70000  ftp://ftp.ncbi.nlm.nih.gov/geo/series/GSE259nn...     no    PRJNA63463  \n",
       "80000  ftp://ftp.ncbi.nlm.nih.gov/geo/series/GSE238nn...     no   PRJNA998366  \n",
       "90000  ftp://ftp.ncbi.nlm.nih.gov/geo/series/GSE206nn...     no   PRJNA849588  \n",
       "\n",
       "[10 rows x 31 columns]"
      ],
      "text/html": [
       "<div>\n",
       "<style scoped>\n",
       "    .dataframe tbody tr th:only-of-type {\n",
       "        vertical-align: middle;\n",
       "    }\n",
       "\n",
       "    .dataframe tbody tr th {\n",
       "        vertical-align: top;\n",
       "    }\n",
       "\n",
       "    .dataframe thead th {\n",
       "        text-align: right;\n",
       "    }\n",
       "</style>\n",
       "<table border=\"1\" class=\"dataframe\">\n",
       "  <thead>\n",
       "    <tr style=\"text-align: right;\">\n",
       "      <th></th>\n",
       "      <th>identifier</th>\n",
       "      <th>title</th>\n",
       "      <th>repository</th>\n",
       "      <th>species</th>\n",
       "      <th>instrument</th>\n",
       "      <th>lab_head</th>\n",
       "      <th>announce_date</th>\n",
       "      <th>keywords</th>\n",
       "      <th>citing_publications_links</th>\n",
       "      <th>PMID</th>\n",
       "      <th>...</th>\n",
       "      <th>pdat</th>\n",
       "      <th>suppfile</th>\n",
       "      <th>samples</th>\n",
       "      <th>relations</th>\n",
       "      <th>extrelations</th>\n",
       "      <th>n_samples</th>\n",
       "      <th>projects</th>\n",
       "      <th>ftplink</th>\n",
       "      <th>geo2r</th>\n",
       "      <th>bioproject</th>\n",
       "    </tr>\n",
       "  </thead>\n",
       "  <tbody>\n",
       "    <tr>\n",
       "      <th>0</th>\n",
       "      <td>PXD059466</td>\n",
       "      <td>Endothelial SHANK3 Regulates Tight Junctions i...</td>\n",
       "      <td>PRIDE</td>\n",
       "      <td>Mus musculus</td>\n",
       "      <td>Orbitrap Fusion Lumos</td>\n",
       "      <td>Il Hwan Kim</td>\n",
       "      <td>2025-02-07</td>\n",
       "      <td>BioID2, SHANK3, bEnd3. Cells</td>\n",
       "      <td>https://dx.doi.org/10.1038/S41467-025-56720-1</td>\n",
       "      <td>None</td>\n",
       "      <td>...</td>\n",
       "      <td>NaN</td>\n",
       "      <td>NaN</td>\n",
       "      <td>NaN</td>\n",
       "      <td>NaN</td>\n",
       "      <td>NaN</td>\n",
       "      <td>NaN</td>\n",
       "      <td>NaN</td>\n",
       "      <td>NaN</td>\n",
       "      <td>NaN</td>\n",
       "      <td>NaN</td>\n",
       "    </tr>\n",
       "    <tr>\n",
       "      <th>10000</th>\n",
       "      <td>PXD000235</td>\n",
       "      <td>bHLH Transcription Factors that Facilitate K+ ...</td>\n",
       "      <td>PRIDE</td>\n",
       "      <td>Arabidopsis thaliana (Mouse-ear cress)</td>\n",
       "      <td>LTQ</td>\n",
       "      <td>Y Takahashi</td>\n",
       "      <td>2024-10-07</td>\n",
       "      <td>LTQ, stomatal guard cells</td>\n",
       "      <td>https://dx.doi.org/10.6019/PXD000235</td>\n",
       "      <td>None</td>\n",
       "      <td>...</td>\n",
       "      <td>NaN</td>\n",
       "      <td>NaN</td>\n",
       "      <td>NaN</td>\n",
       "      <td>NaN</td>\n",
       "      <td>NaN</td>\n",
       "      <td>NaN</td>\n",
       "      <td>NaN</td>\n",
       "      <td>NaN</td>\n",
       "      <td>NaN</td>\n",
       "      <td>NaN</td>\n",
       "    </tr>\n",
       "    <tr>\n",
       "      <th>20000</th>\n",
       "      <td>PXD038874</td>\n",
       "      <td>Sulconazole induces PANoptosis to increase rad...</td>\n",
       "      <td>iProX</td>\n",
       "      <td>Homo sapiens</td>\n",
       "      <td>Orbitrap Fusion ETD</td>\n",
       "      <td>Liyan Xu</td>\n",
       "      <td>2022-12-17</td>\n",
       "      <td>PANoptosis, Sulconazole, oxidative stress</td>\n",
       "      <td>https://www.ncbi.nlm.nih.gov/pmc/articles/PMC1...</td>\n",
       "      <td>37076047</td>\n",
       "      <td>...</td>\n",
       "      <td>NaN</td>\n",
       "      <td>NaN</td>\n",
       "      <td>NaN</td>\n",
       "      <td>NaN</td>\n",
       "      <td>NaN</td>\n",
       "      <td>NaN</td>\n",
       "      <td>NaN</td>\n",
       "      <td>NaN</td>\n",
       "      <td>NaN</td>\n",
       "      <td>NaN</td>\n",
       "    </tr>\n",
       "    <tr>\n",
       "      <th>30000</th>\n",
       "      <td>PXD014403</td>\n",
       "      <td>Degradation of Quaternary amine in methanogen</td>\n",
       "      <td>MassIVE</td>\n",
       "      <td>Methanolobus vulcani</td>\n",
       "      <td>LTQ Orbitrap XL</td>\n",
       "      <td>Donald J. Ferguson, XIN WANG</td>\n",
       "      <td>2021-03-29</td>\n",
       "      <td>methanogen, quaternary amine</td>\n",
       "      <td>https://www.ncbi.nlm.nih.gov/pmc/articles/PMC6...</td>\n",
       "      <td>31787957</td>\n",
       "      <td>...</td>\n",
       "      <td>NaN</td>\n",
       "      <td>NaN</td>\n",
       "      <td>NaN</td>\n",
       "      <td>NaN</td>\n",
       "      <td>NaN</td>\n",
       "      <td>NaN</td>\n",
       "      <td>NaN</td>\n",
       "      <td>NaN</td>\n",
       "      <td>NaN</td>\n",
       "      <td>NaN</td>\n",
       "    </tr>\n",
       "    <tr>\n",
       "      <th>40000</th>\n",
       "      <td>PXD004559</td>\n",
       "      <td>Mapping and quantification of over 2,000 O-lin...</td>\n",
       "      <td>PRIDE</td>\n",
       "      <td>Homo sapiens</td>\n",
       "      <td>LTQ Orbitrap Elite</td>\n",
       "      <td>Christina Woo</td>\n",
       "      <td>2018-01-25</td>\n",
       "      <td>O-GlcNAc, O-linked N-acetylglucosamine, T cell...</td>\n",
       "      <td>https://dx.doi.org/10.1074/mcp.RA117.000261</td>\n",
       "      <td>29351928</td>\n",
       "      <td>...</td>\n",
       "      <td>NaN</td>\n",
       "      <td>NaN</td>\n",
       "      <td>NaN</td>\n",
       "      <td>NaN</td>\n",
       "      <td>NaN</td>\n",
       "      <td>NaN</td>\n",
       "      <td>NaN</td>\n",
       "      <td>NaN</td>\n",
       "      <td>NaN</td>\n",
       "      <td>NaN</td>\n",
       "    </tr>\n",
       "    <tr>\n",
       "      <th>50000</th>\n",
       "      <td>GSE270865</td>\n",
       "      <td>Genomic and Histologic Analysis of Uterine Lei...</td>\n",
       "      <td>GEO</td>\n",
       "      <td>Homo sapiens</td>\n",
       "      <td>NaN</td>\n",
       "      <td>NaN</td>\n",
       "      <td>NaN</td>\n",
       "      <td>NaN</td>\n",
       "      <td>https://www.ncbi.nlm.nih.gov/pmc/articles/PMC1...</td>\n",
       "      <td>39691991</td>\n",
       "      <td>...</td>\n",
       "      <td>2024/11/05</td>\n",
       "      <td>MTX, TSV</td>\n",
       "      <td>[{'accession': 'GSM8353848', 'title': 'STSW3_S...</td>\n",
       "      <td>[]</td>\n",
       "      <td>[]</td>\n",
       "      <td>4.0</td>\n",
       "      <td>[]</td>\n",
       "      <td>ftp://ftp.ncbi.nlm.nih.gov/geo/series/GSE270nn...</td>\n",
       "      <td>no</td>\n",
       "      <td>PRJNA1128661</td>\n",
       "    </tr>\n",
       "    <tr>\n",
       "      <th>60000</th>\n",
       "      <td>GSE253632</td>\n",
       "      <td>Chromatin conformation and histone modificatio...</td>\n",
       "      <td>GEO</td>\n",
       "      <td>Homo sapiens</td>\n",
       "      <td>NaN</td>\n",
       "      <td>NaN</td>\n",
       "      <td>NaN</td>\n",
       "      <td>NaN</td>\n",
       "      <td>https://www.ncbi.nlm.nih.gov/pmc/articles/PMC1...</td>\n",
       "      <td>39025878</td>\n",
       "      <td>...</td>\n",
       "      <td>2024/06/20</td>\n",
       "      <td>HIC</td>\n",
       "      <td>[{'accession': 'GSM8024403', 'title': 'Human k...</td>\n",
       "      <td>[]</td>\n",
       "      <td>[]</td>\n",
       "      <td>6.0</td>\n",
       "      <td>[]</td>\n",
       "      <td>ftp://ftp.ncbi.nlm.nih.gov/geo/series/GSE253nn...</td>\n",
       "      <td>no</td>\n",
       "      <td>PRJNA1066382</td>\n",
       "    </tr>\n",
       "    <tr>\n",
       "      <th>70000</th>\n",
       "      <td>GSE259050</td>\n",
       "      <td>Control ChIP-seq from whole organism (ENCSR821...</td>\n",
       "      <td>GEO</td>\n",
       "      <td>Caenorhabditis elegans</td>\n",
       "      <td>NaN</td>\n",
       "      <td>NaN</td>\n",
       "      <td>NaN</td>\n",
       "      <td>NaN</td>\n",
       "      <td>https://www.ncbi.nlm.nih.gov/pmc/articles/PMC3...</td>\n",
       "      <td>22955616</td>\n",
       "      <td>...</td>\n",
       "      <td>2024/02/27</td>\n",
       "      <td>TXT</td>\n",
       "      <td>[{'accession': 'GSM8111018', 'title': 'Control...</td>\n",
       "      <td>[]</td>\n",
       "      <td>[]</td>\n",
       "      <td>1.0</td>\n",
       "      <td>[{'name': 'modENCODE', 'url': 'https://www.ncb...</td>\n",
       "      <td>ftp://ftp.ncbi.nlm.nih.gov/geo/series/GSE259nn...</td>\n",
       "      <td>no</td>\n",
       "      <td>PRJNA63463</td>\n",
       "    </tr>\n",
       "    <tr>\n",
       "      <th>80000</th>\n",
       "      <td>GSE238202</td>\n",
       "      <td>CLIP-seq analysis of hnRNPA1-RNA interactions</td>\n",
       "      <td>GEO</td>\n",
       "      <td>Homo sapiens</td>\n",
       "      <td>NaN</td>\n",
       "      <td>NaN</td>\n",
       "      <td>NaN</td>\n",
       "      <td>NaN</td>\n",
       "      <td>https://www.ncbi.nlm.nih.gov/pmc/articles/PMC1...</td>\n",
       "      <td>38985864</td>\n",
       "      <td>...</td>\n",
       "      <td>2023/12/31</td>\n",
       "      <td>TXT</td>\n",
       "      <td>[{'accession': 'GSM7660285', 'title': 'WT_U_re...</td>\n",
       "      <td>[]</td>\n",
       "      <td>[]</td>\n",
       "      <td>6.0</td>\n",
       "      <td>[]</td>\n",
       "      <td>ftp://ftp.ncbi.nlm.nih.gov/geo/series/GSE238nn...</td>\n",
       "      <td>no</td>\n",
       "      <td>PRJNA998366</td>\n",
       "    </tr>\n",
       "    <tr>\n",
       "      <th>90000</th>\n",
       "      <td>GSE206190</td>\n",
       "      <td>Profiling of RNA-binding protein LSM14B target...</td>\n",
       "      <td>GEO</td>\n",
       "      <td>Mus musculus</td>\n",
       "      <td>NaN</td>\n",
       "      <td>NaN</td>\n",
       "      <td>NaN</td>\n",
       "      <td>NaN</td>\n",
       "      <td>https://dx.doi.org/10.1002/advs.202300043</td>\n",
       "      <td>37083226</td>\n",
       "      <td>...</td>\n",
       "      <td>2023/09/08</td>\n",
       "      <td>BIGWIG</td>\n",
       "      <td>[{'accession': 'GSM6245835', 'title': 'LM-2000...</td>\n",
       "      <td>[]</td>\n",
       "      <td>[]</td>\n",
       "      <td>2.0</td>\n",
       "      <td>[]</td>\n",
       "      <td>ftp://ftp.ncbi.nlm.nih.gov/geo/series/GSE206nn...</td>\n",
       "      <td>no</td>\n",
       "      <td>PRJNA849588</td>\n",
       "    </tr>\n",
       "  </tbody>\n",
       "</table>\n",
       "<p>10 rows × 31 columns</p>\n",
       "</div>"
      ]
     },
     "execution_count": 23,
     "metadata": {},
     "output_type": "execute_result"
    }
   ],
   "execution_count": 23
  },
  {
   "metadata": {
    "ExecuteTime": {
     "end_time": "2025-03-15T06:19:42.482088Z",
     "start_time": "2025-03-15T06:19:34.909740Z"
    }
   },
   "cell_type": "code",
   "source": "filtered_df.to_parquet('exp_input/Table_datasets.parquet', index=False)",
   "id": "b003fb755240d6fd",
   "outputs": [],
   "execution_count": 24
  },
  {
   "metadata": {},
   "cell_type": "markdown",
   "source": "## Creating Publications Data Table",
   "id": "2f67a6fe415b390e"
  },
  {
   "metadata": {},
   "cell_type": "markdown",
   "source": "We start from ProteomeCentral and GEO table we created before",
   "id": "de60a7609166a466"
  },
  {
   "metadata": {
    "ExecuteTime": {
     "end_time": "2025-03-15T06:19:49.072717Z",
     "start_time": "2025-03-15T06:19:42.484677Z"
    }
   },
   "cell_type": "code",
   "source": "filtered_df = pd.read_parquet('exp_input/Table_datasets.parquet')",
   "id": "1ccae6d2f11d9bc6",
   "outputs": [],
   "execution_count": 25
  },
  {
   "metadata": {
    "ExecuteTime": {
     "end_time": "2025-03-15T06:19:49.138377Z",
     "start_time": "2025-03-15T06:19:49.090870Z"
    }
   },
   "cell_type": "code",
   "source": [
    "print(len(filtered_df))\n",
    "filtered_df.head(3)"
   ],
   "id": "8e35612b9cff33aa",
   "outputs": [
    {
     "name": "stdout",
     "output_type": "stream",
     "text": [
      "397263\n"
     ]
    },
    {
     "data": {
      "text/plain": [
       "  identifier                                              title repository  \\\n",
       "0  PXD059466  Endothelial SHANK3 Regulates Tight Junctions i...      PRIDE   \n",
       "1  PXD051312  Systemic changes in early pregnancy in the mar...      PRIDE   \n",
       "2  PXD051312  Systemic changes in early pregnancy in the mar...      PRIDE   \n",
       "\n",
       "          species                            instrument     lab_head  \\\n",
       "0    Mus musculus                 Orbitrap Fusion Lumos  Il Hwan Kim   \n",
       "1  Equus caballus  Exactive Plus, Orbitrap Exploris 480    Dr Aleona   \n",
       "2  Equus caballus  Exactive Plus, Orbitrap Exploris 480    Dr Aleona   \n",
       "\n",
       "  announce_date                                           keywords  \\\n",
       "0    2025-02-07                       BioID2, SHANK3, bEnd3. Cells   \n",
       "1    2025-02-07  MRP, TTR, biomarker, early pregnancy loss, sec...   \n",
       "2    2025-02-07  MRP, TTR, biomarker, early pregnancy loss, sec...   \n",
       "\n",
       "                       citing_publications_links      PMID  ...  pdat  \\\n",
       "0  https://dx.doi.org/10.1038/S41467-025-56720-1      None  ...  None   \n",
       "1           https://dx.doi.org/10.6019/PXD051312      None  ...  None   \n",
       "2      https://dx.doi.org/10.1002/prca.202400095  39912552  ...  None   \n",
       "\n",
       "  suppfile samples  relations  extrelations n_samples projects ftplink  geo2r  \\\n",
       "0     None    None       None          None       NaN     None    None   None   \n",
       "1     None    None       None          None       NaN     None    None   None   \n",
       "2     None    None       None          None       NaN     None    None   None   \n",
       "\n",
       "  bioproject  \n",
       "0       None  \n",
       "1       None  \n",
       "2       None  \n",
       "\n",
       "[3 rows x 31 columns]"
      ],
      "text/html": [
       "<div>\n",
       "<style scoped>\n",
       "    .dataframe tbody tr th:only-of-type {\n",
       "        vertical-align: middle;\n",
       "    }\n",
       "\n",
       "    .dataframe tbody tr th {\n",
       "        vertical-align: top;\n",
       "    }\n",
       "\n",
       "    .dataframe thead th {\n",
       "        text-align: right;\n",
       "    }\n",
       "</style>\n",
       "<table border=\"1\" class=\"dataframe\">\n",
       "  <thead>\n",
       "    <tr style=\"text-align: right;\">\n",
       "      <th></th>\n",
       "      <th>identifier</th>\n",
       "      <th>title</th>\n",
       "      <th>repository</th>\n",
       "      <th>species</th>\n",
       "      <th>instrument</th>\n",
       "      <th>lab_head</th>\n",
       "      <th>announce_date</th>\n",
       "      <th>keywords</th>\n",
       "      <th>citing_publications_links</th>\n",
       "      <th>PMID</th>\n",
       "      <th>...</th>\n",
       "      <th>pdat</th>\n",
       "      <th>suppfile</th>\n",
       "      <th>samples</th>\n",
       "      <th>relations</th>\n",
       "      <th>extrelations</th>\n",
       "      <th>n_samples</th>\n",
       "      <th>projects</th>\n",
       "      <th>ftplink</th>\n",
       "      <th>geo2r</th>\n",
       "      <th>bioproject</th>\n",
       "    </tr>\n",
       "  </thead>\n",
       "  <tbody>\n",
       "    <tr>\n",
       "      <th>0</th>\n",
       "      <td>PXD059466</td>\n",
       "      <td>Endothelial SHANK3 Regulates Tight Junctions i...</td>\n",
       "      <td>PRIDE</td>\n",
       "      <td>Mus musculus</td>\n",
       "      <td>Orbitrap Fusion Lumos</td>\n",
       "      <td>Il Hwan Kim</td>\n",
       "      <td>2025-02-07</td>\n",
       "      <td>BioID2, SHANK3, bEnd3. Cells</td>\n",
       "      <td>https://dx.doi.org/10.1038/S41467-025-56720-1</td>\n",
       "      <td>None</td>\n",
       "      <td>...</td>\n",
       "      <td>None</td>\n",
       "      <td>None</td>\n",
       "      <td>None</td>\n",
       "      <td>None</td>\n",
       "      <td>None</td>\n",
       "      <td>NaN</td>\n",
       "      <td>None</td>\n",
       "      <td>None</td>\n",
       "      <td>None</td>\n",
       "      <td>None</td>\n",
       "    </tr>\n",
       "    <tr>\n",
       "      <th>1</th>\n",
       "      <td>PXD051312</td>\n",
       "      <td>Systemic changes in early pregnancy in the mar...</td>\n",
       "      <td>PRIDE</td>\n",
       "      <td>Equus caballus</td>\n",
       "      <td>Exactive Plus, Orbitrap Exploris 480</td>\n",
       "      <td>Dr Aleona</td>\n",
       "      <td>2025-02-07</td>\n",
       "      <td>MRP, TTR, biomarker, early pregnancy loss, sec...</td>\n",
       "      <td>https://dx.doi.org/10.6019/PXD051312</td>\n",
       "      <td>None</td>\n",
       "      <td>...</td>\n",
       "      <td>None</td>\n",
       "      <td>None</td>\n",
       "      <td>None</td>\n",
       "      <td>None</td>\n",
       "      <td>None</td>\n",
       "      <td>NaN</td>\n",
       "      <td>None</td>\n",
       "      <td>None</td>\n",
       "      <td>None</td>\n",
       "      <td>None</td>\n",
       "    </tr>\n",
       "    <tr>\n",
       "      <th>2</th>\n",
       "      <td>PXD051312</td>\n",
       "      <td>Systemic changes in early pregnancy in the mar...</td>\n",
       "      <td>PRIDE</td>\n",
       "      <td>Equus caballus</td>\n",
       "      <td>Exactive Plus, Orbitrap Exploris 480</td>\n",
       "      <td>Dr Aleona</td>\n",
       "      <td>2025-02-07</td>\n",
       "      <td>MRP, TTR, biomarker, early pregnancy loss, sec...</td>\n",
       "      <td>https://dx.doi.org/10.1002/prca.202400095</td>\n",
       "      <td>39912552</td>\n",
       "      <td>...</td>\n",
       "      <td>None</td>\n",
       "      <td>None</td>\n",
       "      <td>None</td>\n",
       "      <td>None</td>\n",
       "      <td>None</td>\n",
       "      <td>NaN</td>\n",
       "      <td>None</td>\n",
       "      <td>None</td>\n",
       "      <td>None</td>\n",
       "      <td>None</td>\n",
       "    </tr>\n",
       "  </tbody>\n",
       "</table>\n",
       "<p>3 rows × 31 columns</p>\n",
       "</div>"
      ]
     },
     "execution_count": 26,
     "metadata": {},
     "output_type": "execute_result"
    }
   ],
   "execution_count": 26
  },
  {
   "metadata": {},
   "cell_type": "markdown",
   "source": "Some statistics on our publications data",
   "id": "c42c73bed9bf7b9e"
  },
  {
   "metadata": {},
   "cell_type": "markdown",
   "source": "look at the publications one by one",
   "id": "8211ccde7d9ad33d"
  },
  {
   "metadata": {
    "ExecuteTime": {
     "end_time": "2025-03-15T06:19:50.939761Z",
     "start_time": "2025-03-15T06:19:49.143012Z"
    }
   },
   "cell_type": "code",
   "source": "filtered_df = filtered_df.explode('citing_publications_links')  # Split lists into rows",
   "id": "180211f0c5f0153f",
   "outputs": [],
   "execution_count": 27
  },
  {
   "metadata": {
    "ExecuteTime": {
     "end_time": "2025-03-15T06:19:51.402081Z",
     "start_time": "2025-03-15T06:19:50.941131Z"
    }
   },
   "cell_type": "code",
   "source": [
    "df_publications = filtered_df[['citing_publications_links','DOI','PMID','PMCID']]\n",
    "\n",
    "df_publications = df_publications.sort_values(by='citing_publications_links', key=lambda x: x.str.contains('doi', na=False), ascending=False)\n",
    "\n",
    "df_publications = df_publications.drop_duplicates(subset=['PMCID', 'DOI'], keep='first')\n",
    "\n",
    "len(df_publications)"
   ],
   "id": "a087455a0b721b20",
   "outputs": [
    {
     "data": {
      "text/plain": [
       "126461"
      ]
     },
     "execution_count": 28,
     "metadata": {},
     "output_type": "execute_result"
    }
   ],
   "execution_count": 28
  },
  {
   "metadata": {
    "ExecuteTime": {
     "end_time": "2025-03-15T06:19:51.413483Z",
     "start_time": "2025-03-15T06:19:51.403708Z"
    }
   },
   "cell_type": "code",
   "source": [
    "print(len(df_publications))\n",
    "print(df_publications.dtypes)\n",
    "df_publications.head(3)"
   ],
   "id": "bf596436c1a933b9",
   "outputs": [
    {
     "name": "stdout",
     "output_type": "stream",
     "text": [
      "126461\n",
      "citing_publications_links    object\n",
      "DOI                          object\n",
      "PMID                         object\n",
      "PMCID                        object\n",
      "dtype: object\n"
     ]
    },
    {
     "data": {
      "text/plain": [
       "                            citing_publications_links  \\\n",
       "0       https://dx.doi.org/10.1038/S41467-025-56720-1   \n",
       "220686    https://dx.doi.org/10.1074/jbc.RA119.011506   \n",
       "220626        https://dx.doi.org/10.1084/jem.20190580   \n",
       "\n",
       "                               DOI      PMID       PMCID  \n",
       "0       10.1038/S41467-025-56720-1      None        None  \n",
       "220686    10.1074/jbc.RA119.011506  31753917  PMC6937554  \n",
       "220626        10.1084/jem.20190580  31816633  PMC7062527  "
      ],
      "text/html": [
       "<div>\n",
       "<style scoped>\n",
       "    .dataframe tbody tr th:only-of-type {\n",
       "        vertical-align: middle;\n",
       "    }\n",
       "\n",
       "    .dataframe tbody tr th {\n",
       "        vertical-align: top;\n",
       "    }\n",
       "\n",
       "    .dataframe thead th {\n",
       "        text-align: right;\n",
       "    }\n",
       "</style>\n",
       "<table border=\"1\" class=\"dataframe\">\n",
       "  <thead>\n",
       "    <tr style=\"text-align: right;\">\n",
       "      <th></th>\n",
       "      <th>citing_publications_links</th>\n",
       "      <th>DOI</th>\n",
       "      <th>PMID</th>\n",
       "      <th>PMCID</th>\n",
       "    </tr>\n",
       "  </thead>\n",
       "  <tbody>\n",
       "    <tr>\n",
       "      <th>0</th>\n",
       "      <td>https://dx.doi.org/10.1038/S41467-025-56720-1</td>\n",
       "      <td>10.1038/S41467-025-56720-1</td>\n",
       "      <td>None</td>\n",
       "      <td>None</td>\n",
       "    </tr>\n",
       "    <tr>\n",
       "      <th>220686</th>\n",
       "      <td>https://dx.doi.org/10.1074/jbc.RA119.011506</td>\n",
       "      <td>10.1074/jbc.RA119.011506</td>\n",
       "      <td>31753917</td>\n",
       "      <td>PMC6937554</td>\n",
       "    </tr>\n",
       "    <tr>\n",
       "      <th>220626</th>\n",
       "      <td>https://dx.doi.org/10.1084/jem.20190580</td>\n",
       "      <td>10.1084/jem.20190580</td>\n",
       "      <td>31816633</td>\n",
       "      <td>PMC7062527</td>\n",
       "    </tr>\n",
       "  </tbody>\n",
       "</table>\n",
       "</div>"
      ]
     },
     "execution_count": 29,
     "metadata": {},
     "output_type": "execute_result"
    }
   ],
   "execution_count": 29
  },
  {
   "metadata": {
    "ExecuteTime": {
     "end_time": "2025-03-15T06:19:51.642551Z",
     "start_time": "2025-03-15T06:19:51.416062Z"
    }
   },
   "cell_type": "code",
   "source": "df_publications.astype(str).to_parquet('exp_input/Table_publications.parquet', index=False)",
   "id": "1ae9d7b082f4ce4",
   "outputs": [],
   "execution_count": 30
  },
  {
   "metadata": {},
   "cell_type": "markdown",
   "source": [
    "## Create the ground truth table\n",
    "\n",
    "each row is a record of a dataset citation in a doi"
   ],
   "id": "2237e2ae0e37158c"
  },
  {
   "metadata": {
    "ExecuteTime": {
     "end_time": "2025-03-15T06:19:56.174400Z",
     "start_time": "2025-03-15T06:19:56.171451Z"
    }
   },
   "cell_type": "code",
   "source": "import pandas as pd",
   "id": "ba10f68c937a4957",
   "outputs": [],
   "execution_count": 31
  },
  {
   "metadata": {
    "ExecuteTime": {
     "end_time": "2025-03-15T06:20:02.693171Z",
     "start_time": "2025-03-15T06:19:57.008031Z"
    }
   },
   "cell_type": "code",
   "source": [
    "Publications_table = pd.read_parquet('exp_input/Table_publications.parquet')\n",
    "Datasets_table = pd.read_parquet('exp_input/Table_datasets.parquet')"
   ],
   "id": "373aac28c765113e",
   "outputs": [],
   "execution_count": 32
  },
  {
   "metadata": {},
   "cell_type": "markdown",
   "source": "We iterate over all the datasets and use their publication urls to find the corresponding dois. Since not all papers had dois, we will create a Publication Identifier table",
   "id": "be8e1be86188741c"
  },
  {
   "metadata": {
    "ExecuteTime": {
     "end_time": "2025-03-15T06:20:02.704695Z",
     "start_time": "2025-03-15T06:20:02.697Z"
    }
   },
   "cell_type": "code",
   "source": "Datasets_table.columns",
   "id": "d44481e4ccea0c4a",
   "outputs": [
    {
     "data": {
      "text/plain": [
       "Index(['identifier', 'title', 'repository', 'species', 'instrument',\n",
       "       'lab_head', 'announce_date', 'keywords', 'citing_publications_links',\n",
       "       'PMID', 'PMCID', 'DOI', 'Ground_truth_source', 'Unnamed: 0', 'uid',\n",
       "       'gds', 'summary', 'gpl', 'gse', 'entrytype', 'gdstype', 'pdat',\n",
       "       'suppfile', 'samples', 'relations', 'extrelations', 'n_samples',\n",
       "       'projects', 'ftplink', 'geo2r', 'bioproject'],\n",
       "      dtype='object')"
      ]
     },
     "execution_count": 33,
     "metadata": {},
     "output_type": "execute_result"
    }
   ],
   "execution_count": 33
  },
  {
   "metadata": {
    "ExecuteTime": {
     "end_time": "2025-03-15T06:20:05.405365Z",
     "start_time": "2025-03-15T06:20:05.349721Z"
    }
   },
   "cell_type": "code",
   "source": "Publication_Dataset_Citations_Ground_Truth = Datasets_table[['identifier','repository','citing_publications_links','Ground_truth_source']].rename({'citing_publications_links':'citing_publication_link','Ground_truth_source' : 'citation_record_source'}, axis=1)",
   "id": "b156bf9643883482",
   "outputs": [],
   "execution_count": 34
  },
  {
   "metadata": {
    "ExecuteTime": {
     "end_time": "2025-03-15T06:20:05.588647Z",
     "start_time": "2025-03-15T06:20:05.406751Z"
    }
   },
   "cell_type": "code",
   "source": [
    "# create a column with the indicator if the dataset citation record should be found on a PMC vs DOI, extrct that from link\n",
    "Publication_Dataset_Citations_Ground_Truth['citation_record_from_doi'] = Publication_Dataset_Citations_Ground_Truth['citing_publication_link'].apply(lambda x: 1 if 'doi' in x else 0)"
   ],
   "id": "397bc5d96372c11",
   "outputs": [],
   "execution_count": 35
  },
  {
   "metadata": {
    "ExecuteTime": {
     "end_time": "2025-03-15T06:20:08.175415Z",
     "start_time": "2025-03-15T06:20:07.904217Z"
    }
   },
   "cell_type": "code",
   "source": "Publication_Dataset_Citations_Ground_Truth.to_parquet('exp_input/dataset_citation_records_Table.parquet', index=False)",
   "id": "16b6bb5274c87852",
   "outputs": [],
   "execution_count": 36
  },
  {
   "metadata": {},
   "cell_type": "code",
   "outputs": [],
   "execution_count": null,
   "source": "",
   "id": "3ef38606076346b4"
  }
 ],
 "metadata": {
  "kernelspec": {
   "display_name": "Python 3",
   "language": "python",
   "name": "python3"
  },
  "language_info": {
   "codemirror_mode": {
    "name": "ipython",
    "version": 2
   },
   "file_extension": ".py",
   "mimetype": "text/x-python",
   "name": "python",
   "nbconvert_exporter": "python",
   "pygments_lexer": "ipython2",
   "version": "2.7.6"
  }
 },
 "nbformat": 4,
 "nbformat_minor": 5
}
