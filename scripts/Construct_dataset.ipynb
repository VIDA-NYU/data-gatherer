{
 "cells": [
  {
   "cell_type": "code",
   "id": "initial_id",
   "metadata": {
    "collapsed": true,
    "ExecuteTime": {
     "end_time": "2025-05-30T19:41:27.250088Z",
     "start_time": "2025-05-30T19:41:27.244262Z"
    }
   },
   "source": [
    "import pandas as pd\n",
    "from data_gatherer.data_gatherer import DataGatherer\n",
    "from experiment_utils import *\n",
    "import numpy as np"
   ],
   "outputs": [],
   "execution_count": 4
  },
  {
   "metadata": {
    "ExecuteTime": {
     "end_time": "2025-05-30T19:41:28.076011Z",
     "start_time": "2025-05-30T19:41:27.850772Z"
    }
   },
   "cell_type": "code",
   "source": "df_citations = pd.read_parquet(\"exp_input/dataset_citation_records_Table.parquet\")",
   "id": "622d6296e7601308",
   "outputs": [],
   "execution_count": 5
  },
  {
   "metadata": {
    "ExecuteTime": {
     "end_time": "2025-05-30T19:41:28.387018Z",
     "start_time": "2025-05-30T19:41:28.303904Z"
    }
   },
   "cell_type": "code",
   "source": "df_citations.info()",
   "id": "c61e1c75b7d14f73",
   "outputs": [
    {
     "name": "stdout",
     "output_type": "stream",
     "text": [
      "<class 'pandas.core.frame.DataFrame'>\n",
      "RangeIndex: 397263 entries, 0 to 397262\n",
      "Data columns (total 5 columns):\n",
      " #   Column                    Non-Null Count   Dtype \n",
      "---  ------                    --------------   ----- \n",
      " 0   identifier                397263 non-null  object\n",
      " 1   repository                397263 non-null  object\n",
      " 2   citing_publication_link   397263 non-null  object\n",
      " 3   citation_record_source    397263 non-null  object\n",
      " 4   citation_record_from_doi  397263 non-null  int64 \n",
      "dtypes: int64(1), object(4)\n",
      "memory usage: 15.2+ MB\n"
     ]
    }
   ],
   "execution_count": 6
  },
  {
   "metadata": {
    "ExecuteTime": {
     "end_time": "2025-05-30T19:43:10.467031Z",
     "start_time": "2025-05-30T19:43:10.328283Z"
    }
   },
   "cell_type": "code",
   "source": "df_citations['identifier'].describe()",
   "id": "cf92f3340cc62b4a",
   "outputs": [
    {
     "data": {
      "text/plain": [
       "count       397263\n",
       "unique      188426\n",
       "top       GSE55296\n",
       "freq            34\n",
       "Name: identifier, dtype: object"
      ]
     },
     "execution_count": 10,
     "metadata": {},
     "output_type": "execute_result"
    }
   ],
   "execution_count": 10
  },
  {
   "metadata": {
    "ExecuteTime": {
     "end_time": "2025-05-30T19:50:11.838776Z",
     "start_time": "2025-05-30T19:50:11.773482Z"
    }
   },
   "cell_type": "code",
   "source": "df_citations[df_citations['citation_record_source']!='GEO_API']['identifier'].describe()",
   "id": "7166462afeb617f",
   "outputs": [
    {
     "data": {
      "text/plain": [
       "count         44281\n",
       "unique        23348\n",
       "top       PXD046063\n",
       "freq              6\n",
       "Name: identifier, dtype: object"
      ]
     },
     "execution_count": 20,
     "metadata": {},
     "output_type": "execute_result"
    }
   ],
   "execution_count": 20
  },
  {
   "metadata": {
    "ExecuteTime": {
     "end_time": "2025-05-30T19:45:21.957905Z",
     "start_time": "2025-05-30T19:45:21.787350Z"
    }
   },
   "cell_type": "code",
   "source": "df_citations[df_citations['citation_record_source']=='GEO_API']['identifier'].describe()",
   "id": "5844140ed366a338",
   "outputs": [
    {
     "data": {
      "text/plain": [
       "count       352982\n",
       "unique      165078\n",
       "top       GSE55296\n",
       "freq            34\n",
       "Name: identifier, dtype: object"
      ]
     },
     "execution_count": 15,
     "metadata": {},
     "output_type": "execute_result"
    }
   ],
   "execution_count": 15
  },
  {
   "metadata": {
    "ExecuteTime": {
     "end_time": "2025-05-30T20:08:49.533838Z",
     "start_time": "2025-05-30T20:08:49.318223Z"
    }
   },
   "cell_type": "code",
   "source": "df_citations['citing_publication_link'].describe()",
   "id": "48850020488b5ba3",
   "outputs": [
    {
     "data": {
      "text/plain": [
       "count                                                397263\n",
       "unique                                               244847\n",
       "top       https://www.ncbi.nlm.nih.gov/pmc/articles/PMC3...\n",
       "freq                                                  16711\n",
       "Name: citing_publication_link, dtype: object"
      ]
     },
     "execution_count": 21,
     "metadata": {},
     "output_type": "execute_result"
    }
   ],
   "execution_count": 21
  },
  {
   "metadata": {
    "ExecuteTime": {
     "end_time": "2025-05-30T19:48:15.894925Z",
     "start_time": "2025-05-30T19:48:15.411512Z"
    }
   },
   "cell_type": "code",
   "source": [
    "# create a histogram of the number of citations per repository, log scale\n",
    "print(df_citations['repository'].value_counts())\n",
    "df_citations['repository'].value_counts().plot(kind='bar', title='Number of citations per repository', logy=True)"
   ],
   "id": "e864892058ebf28d",
   "outputs": [
    {
     "name": "stdout",
     "output_type": "stream",
     "text": [
      "repository\n",
      "GEO               352982\n",
      "PRIDE              39263\n",
      "iProX               3306\n",
      "jPOST                828\n",
      "MassIVE              436\n",
      "PanoramaPublic       338\n",
      "PeptideAtlas         110\n",
      "Name: count, dtype: int64\n"
     ]
    },
    {
     "data": {
      "text/plain": [
       "<Axes: title={'center': 'Number of citations per repository'}, xlabel='repository'>"
      ]
     },
     "execution_count": 19,
     "metadata": {},
     "output_type": "execute_result"
    },
    {
     "data": {
      "text/plain": [
       "<Figure size 640x480 with 1 Axes>"
      ],
      "image/png": "[encoded data removed]"
     },
     "metadata": {},
     "output_type": "display_data"
    }
   ],
   "execution_count": 19
  },
  {
   "metadata": {
    "ExecuteTime": {
     "end_time": "2025-05-29T13:41:10.203204Z",
     "start_time": "2025-05-29T13:41:10.155233Z"
    }
   },
   "cell_type": "code",
   "source": "df_fetched = pd.read_parquet('../input/fetched_data.parquet')",
   "id": "bdaaf98027b26fd2",
   "outputs": [],
   "execution_count": 3
  },
  {
   "metadata": {
    "ExecuteTime": {
     "end_time": "2025-05-29T13:41:10.212954Z",
     "start_time": "2025-05-29T13:41:10.205621Z"
    }
   },
   "cell_type": "code",
   "source": "df_fetched.columns",
   "id": "def20da0c7549dec",
   "outputs": [
    {
     "data": {
      "text/plain": [
       "Index(['file_name', 'raw_cont', 'format', 'length', 'path', 'publication'], dtype='object')"
      ]
     },
     "execution_count": 4,
     "metadata": {},
     "output_type": "execute_result"
    }
   ],
   "execution_count": 4
  },
  {
   "metadata": {
    "ExecuteTime": {
     "end_time": "2025-05-29T13:42:11.496406Z",
     "start_time": "2025-05-29T13:42:07.543716Z"
    }
   },
   "cell_type": "code",
   "source": "load_pmc_files_from_html_xml_dir_to_dataframe_fetch_file('../html_xml_samples/','input/fetched_data.parquet')",
   "id": "ffef76c802d42baf",
   "outputs": [],
   "execution_count": 6
  },
  {
   "metadata": {
    "ExecuteTime": {
     "end_time": "2025-05-29T13:42:24.432560Z",
     "start_time": "2025-05-29T13:42:23.313492Z"
    }
   },
   "cell_type": "code",
   "source": "df_fetched = pd.read_parquet('../input/fetched_data.parquet')",
   "id": "723ec52e8b4c5df3",
   "outputs": [],
   "execution_count": 7
  },
  {
   "metadata": {
    "ExecuteTime": {
     "end_time": "2025-05-29T13:43:04.085726Z",
     "start_time": "2025-05-29T13:43:04.071625Z"
    }
   },
   "cell_type": "code",
   "source": "df_fetched.info()",
   "id": "3899a98e63e6e7dc",
   "outputs": [
    {
     "name": "stdout",
     "output_type": "stream",
     "text": [
      "<class 'pandas.core.frame.DataFrame'>\n",
      "RangeIndex: 1314 entries, 0 to 1313\n",
      "Data columns (total 6 columns):\n",
      " #   Column       Non-Null Count  Dtype \n",
      "---  ------       --------------  ----- \n",
      " 0   file_name    1314 non-null   object\n",
      " 1   raw_cont     1314 non-null   object\n",
      " 2   format       1314 non-null   object\n",
      " 3   length       1314 non-null   int64 \n",
      " 4   path         1314 non-null   object\n",
      " 5   publication  1313 non-null   object\n",
      "dtypes: int64(1), object(5)\n",
      "memory usage: 61.7+ KB\n"
     ]
    }
   ],
   "execution_count": 9
  },
  {
   "metadata": {},
   "cell_type": "code",
   "outputs": [],
   "execution_count": null,
   "source": "",
   "id": "70e92c207a2908d4"
  }
 ],
 "metadata": {
  "kernelspec": {
   "display_name": "Python 3",
   "language": "python",
   "name": "python3"
  },
  "language_info": {
   "codemirror_mode": {
    "name": "ipython",
    "version": 2
   },
   "file_extension": ".py",
   "mimetype": "text/x-python",
   "name": "python",
   "nbconvert_exporter": "python",
   "pygments_lexer": "ipython2",
   "version": "2.7.6"
  }
 },
 "nbformat": 4,
 "nbformat_minor": 5
}
