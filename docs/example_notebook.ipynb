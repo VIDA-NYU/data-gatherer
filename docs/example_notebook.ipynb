{
 "cells": [
  {
   "metadata": {},
   "cell_type": "markdown",
   "source": "## Import orchestrator and initialize it",
   "id": "b8f07b9099035d2c"
  },
  {
   "cell_type": "code",
   "id": "initial_id",
   "metadata": {
    "collapsed": true,
    "ExecuteTime": {
     "end_time": "2025-05-23T23:19:31.353205Z",
     "start_time": "2025-05-23T23:19:27.286892Z"
    }
   },
   "source": [
    "from data_gatherer.orchestrator import Orchestrator\n",
    "from dotenv import load_dotenv"
   ],
   "outputs": [],
   "execution_count": 1
  },
  {
   "metadata": {
    "ExecuteTime": {
     "end_time": "2025-05-23T23:19:31.360329Z",
     "start_time": "2025-05-23T23:19:31.354543Z"
    }
   },
   "cell_type": "code",
   "source": "load_dotenv()",
   "id": "59121c0cba338ba2",
   "outputs": [
    {
     "data": {
      "text/plain": [
       "True"
      ]
     },
     "execution_count": 2,
     "metadata": {},
     "output_type": "execute_result"
    }
   ],
   "execution_count": 2
  },
  {
   "metadata": {
    "ExecuteTime": {
     "end_time": "2025-05-23T23:19:31.365981Z",
     "start_time": "2025-05-23T23:19:31.361276Z"
    }
   },
   "cell_type": "code",
   "source": "data_gatherer = Orchestrator()",
   "id": "34f3046b7ea80e86",
   "outputs": [],
   "execution_count": 3
  },
  {
   "metadata": {},
   "cell_type": "markdown",
   "source": "## Feed some input data to the orchestrator",
   "id": "c009e195a3bc6fdb"
  },
  {
   "metadata": {
    "ExecuteTime": {
     "end_time": "2025-05-23T23:19:31.368947Z",
     "start_time": "2025-05-23T23:19:31.367026Z"
    }
   },
   "cell_type": "code",
   "source": [
    "input_data = [\n",
    "    \"https://www.ncbi.nlm.nih.gov/pmc/articles/PMC6141466\",\n",
    "    \"https://pmc.ncbi.nlm.nih.gov/articles/PMC7233456\"\n",
    "]"
   ],
   "id": "b50f0289f8a85d1d",
   "outputs": [],
   "execution_count": 4
  },
  {
   "metadata": {},
   "cell_type": "markdown",
   "source": "## Set up the data fetcher and process the input data",
   "id": "7aa4604a03df1e30"
  },
  {
   "metadata": {
    "ExecuteTime": {
     "end_time": "2025-05-23T23:19:31.373256Z",
     "start_time": "2025-05-23T23:19:31.370776Z"
    }
   },
   "cell_type": "code",
   "source": "data_gatherer.setup_data_fetcher()",
   "id": "99a91efa8baec42",
   "outputs": [],
   "execution_count": 5
  },
  {
   "metadata": {
    "ExecuteTime": {
     "end_time": "2025-05-23T23:19:42.971948Z",
     "start_time": "2025-05-23T23:19:31.374280Z"
    }
   },
   "cell_type": "code",
   "source": "data_resources = data_gatherer.process_urls(input_data)",
   "id": "7c532d5582f6d1a7",
   "outputs": [],
   "execution_count": 6
  },
  {
   "metadata": {
    "ExecuteTime": {
     "end_time": "2025-05-23T23:19:43.001348Z",
     "start_time": "2025-05-23T23:19:42.974384Z"
    }
   },
   "cell_type": "code",
   "source": [
    "print(f\"Fetched from {len(data_resources)} publications.\")\n",
    "raw_data_files = data_gatherer.classifier.get_raw_data_files(data_resources)\n",
    "print(f\"Fetched {len(raw_data_files)} raw data files:\")\n",
    "raw_data_files"
   ],
   "id": "4d84556aa5b10a89",
   "outputs": [
    {
     "name": "stdout",
     "output_type": "stream",
     "text": [
      "Fetched from 2 publications.\n",
      "Fetched 3 raw data files:\n"
     ]
    },
    {
     "data": {
      "text/plain": [
       "                                     publication_url   dataset_id  \\\n",
       "0  https://www.ncbi.nlm.nih.gov/pmc/articles/PMC6...    PHS001049   \n",
       "1  https://www.ncbi.nlm.nih.gov/pmc/articles/PMC6...  PRJNA306801   \n",
       "2   https://pmc.ncbi.nlm.nih.gov/articles/PMC7233456    phs001287   \n",
       "\n",
       "  repository_reference                                    dataset_webpage  \n",
       "0                dbGAP  https://www.ncbi.nlm.nih.gov/projects/gap/cgi-...  \n",
       "1                  SRA  https://www.ncbi.nlm.nih.gov/bioproject/?term=...  \n",
       "2                dbGaP  https://www.ncbi.nlm.nih.gov/projects/gap/cgi-...  "
      ],
      "text/html": [
       "<div>\n",
       "<style scoped>\n",
       "    .dataframe tbody tr th:only-of-type {\n",
       "        vertical-align: middle;\n",
       "    }\n",
       "\n",
       "    .dataframe tbody tr th {\n",
       "        vertical-align: top;\n",
       "    }\n",
       "\n",
       "    .dataframe thead th {\n",
       "        text-align: right;\n",
       "    }\n",
       "</style>\n",
       "<table border=\"1\" class=\"dataframe\">\n",
       "  <thead>\n",
       "    <tr style=\"text-align: right;\">\n",
       "      <th></th>\n",
       "      <th>publication_url</th>\n",
       "      <th>dataset_id</th>\n",
       "      <th>repository_reference</th>\n",
       "      <th>dataset_webpage</th>\n",
       "    </tr>\n",
       "  </thead>\n",
       "  <tbody>\n",
       "    <tr>\n",
       "      <th>0</th>\n",
       "      <td>https://www.ncbi.nlm.nih.gov/pmc/articles/PMC6...</td>\n",
       "      <td>PHS001049</td>\n",
       "      <td>dbGAP</td>\n",
       "      <td>https://www.ncbi.nlm.nih.gov/projects/gap/cgi-...</td>\n",
       "    </tr>\n",
       "    <tr>\n",
       "      <th>1</th>\n",
       "      <td>https://www.ncbi.nlm.nih.gov/pmc/articles/PMC6...</td>\n",
       "      <td>PRJNA306801</td>\n",
       "      <td>SRA</td>\n",
       "      <td>https://www.ncbi.nlm.nih.gov/bioproject/?term=...</td>\n",
       "    </tr>\n",
       "    <tr>\n",
       "      <th>2</th>\n",
       "      <td>https://pmc.ncbi.nlm.nih.gov/articles/PMC7233456</td>\n",
       "      <td>phs001287</td>\n",
       "      <td>dbGaP</td>\n",
       "      <td>https://www.ncbi.nlm.nih.gov/projects/gap/cgi-...</td>\n",
       "    </tr>\n",
       "  </tbody>\n",
       "</table>\n",
       "</div>"
      ]
     },
     "execution_count": 7,
     "metadata": {},
     "output_type": "execute_result"
    }
   ],
   "execution_count": 7
  }
 ],
 "metadata": {
  "kernelspec": {
   "display_name": "Python 3",
   "language": "python",
   "name": "python3"
  },
  "language_info": {
   "codemirror_mode": {
    "name": "ipython",
    "version": 2
   },
   "file_extension": ".py",
   "mimetype": "text/x-python",
   "name": "python",
   "nbconvert_exporter": "python",
   "pygments_lexer": "ipython2",
   "version": "2.7.6"
  }
 },
 "nbformat": 4,
 "nbformat_minor": 5
}
