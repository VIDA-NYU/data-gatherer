{
 "cells": [
  {
   "metadata": {},
   "cell_type": "markdown",
   "source": "Import orchestrator, and load environment variables from \".env\" file",
   "id": "b8f07b9099035d2c"
  },
  {
   "cell_type": "code",
   "id": "initial_id",
   "metadata": {
    "collapsed": true,
    "ExecuteTime": {
     "end_time": "2025-05-27T22:51:20.167222Z",
     "start_time": "2025-05-27T22:51:15.128668Z"
    }
   },
   "source": [
    "from data_gatherer.orchestrator import Orchestrator\n",
    "from data_gatherer.data_fetcher import DataFetcher, WebScraper, DatabaseFetcher, APIClient\n",
    "from data_gatherer.selenium_setup import create_driver\n",
    "from data_gatherer.parser import LLMParser\n",
    "import requests\n",
    "import pandas as pd\n",
    "import time\n",
    "from dotenv import load_dotenv\n",
    "\n",
    "load_dotenv()"
   ],
   "outputs": [
    {
     "data": {
      "text/plain": [
       "True"
      ]
     },
     "execution_count": 1,
     "metadata": {},
     "output_type": "execute_result"
    }
   ],
   "execution_count": 1
  },
  {
   "metadata": {},
   "cell_type": "markdown",
   "source": "Instantiate the orchestrator as data gatherer",
   "id": "a300c482cd96117"
  },
  {
   "metadata": {
    "ExecuteTime": {
     "end_time": "2025-05-27T22:51:20.177361Z",
     "start_time": "2025-05-27T22:51:20.169881Z"
    }
   },
   "cell_type": "code",
   "source": "data_gatherer = Orchestrator()",
   "id": "34f3046b7ea80e86",
   "outputs": [
    {
     "name": "stderr",
     "output_type": "stream",
     "text": [
      "orchestrator.py - line 40 - INFO - Data_Gatherer Orchestrator initialized. Extraction step Model: gemini-2.0-flash\n"
     ]
    }
   ],
   "execution_count": 2
  },
  {
   "metadata": {},
   "cell_type": "markdown",
   "source": "## Step I: Fetch data",
   "id": "c009e195a3bc6fdb"
  },
  {
   "metadata": {},
   "cell_type": "markdown",
   "source": [
    "The Fetcher is responsible for fetching raw data about scientific publications on the internet. The parent class is DataFetcher, and the child classes are the following:\n",
    "\n",
    "\n",
    "\n",
    "- **WebScraper**, given a URL, it scrapes the page extracting the HTML content.\n",
    "\n",
    "\n",
    "- **DatabaseFetcher**, given a key, it fetches raw data (HTML or XML) from a local DataFrame.\n",
    "\n",
    "\n",
    "- **APIClient**, given a URI, it fetches raw data (XML) from an API."
   ],
   "id": "247052f9f7ee22fa"
  },
  {
   "metadata": {
    "ExecuteTime": {
     "end_time": "2025-05-27T22:51:20.337992Z",
     "start_time": "2025-05-27T22:51:20.178512Z"
    }
   },
   "cell_type": "code",
   "source": "data_gatherer.setup_data_fetcher()",
   "id": "99a91efa8baec42",
   "outputs": [],
   "execution_count": 3
  },
  {
   "metadata": {},
   "cell_type": "markdown",
   "source": "### Fetch from API",
   "id": "c4364fb25bb6ac6b"
  },
  {
   "metadata": {
    "ExecuteTime": {
     "end_time": "2025-05-27T22:51:20.345062Z",
     "start_time": "2025-05-27T22:51:20.340488Z"
    }
   },
   "cell_type": "code",
   "source": [
    "API_supported_input = \"https://www.ncbi.nlm.nih.gov/pmc/articles/PMC6141466\"\n",
    "api_fetcher = APIClient(requests,'PMC_API',data_gatherer.config, data_gatherer.logger)\n",
    "api_fetcher"
   ],
   "id": "b50f0289f8a85d1d",
   "outputs": [
    {
     "data": {
      "text/plain": [
       "<data_gatherer.data_fetcher.APIClient at 0x1456cf410>"
      ]
     },
     "execution_count": 4,
     "metadata": {},
     "output_type": "execute_result"
    }
   ],
   "execution_count": 4
  },
  {
   "metadata": {
    "ExecuteTime": {
     "end_time": "2025-05-27T22:51:20.527075Z",
     "start_time": "2025-05-27T22:51:20.346341Z"
    }
   },
   "cell_type": "code",
   "source": [
    "raw_data_API = api_fetcher.fetch_data(API_supported_input)\n",
    "raw_data_API"
   ],
   "id": "7c532d5582f6d1a7",
   "outputs": [
    {
     "name": "stderr",
     "output_type": "stream",
     "text": [
      "data_fetcher.py - line 549 - INFO - Fetching data from request: https://eutils.ncbi.nlm.nih.gov/entrez/eutils/efetch.fcgi?db=pmc&id=PMC6141466&retmode=xml\n"
     ]
    },
    {
     "data": {
      "text/plain": [
       "<Element pmc-articleset at 0x14554b740>"
      ]
     },
     "execution_count": 5,
     "metadata": {},
     "output_type": "execute_result"
    }
   ],
   "execution_count": 5
  },
  {
   "metadata": {},
   "cell_type": "markdown",
   "source": "### Fetch from Local Data",
   "id": "5e3c60bbdd017ba3"
  },
  {
   "metadata": {
    "ExecuteTime": {
     "end_time": "2025-05-27T22:51:20.531118Z",
     "start_time": "2025-05-27T22:51:20.528453Z"
    }
   },
   "cell_type": "code",
   "source": "local_fetch_supported_input = \"https://www.ncbi.nlm.nih.gov/pmc/articles/pmc11425778\"",
   "id": "6193a95867778f36",
   "outputs": [],
   "execution_count": 6
  },
  {
   "metadata": {
    "ExecuteTime": {
     "end_time": "2025-05-27T22:51:20.584327Z",
     "start_time": "2025-05-27T22:51:20.532286Z"
    }
   },
   "cell_type": "code",
   "source": [
    "df_fetcher = DatabaseFetcher(data_gatherer.config, data_gatherer.logger)\n",
    "df_fetcher"
   ],
   "id": "4af48d0a2321c99c",
   "outputs": [
    {
     "data": {
      "text/plain": [
       "<data_gatherer.data_fetcher.DatabaseFetcher at 0x145765010>"
      ]
     },
     "execution_count": 7,
     "metadata": {},
     "output_type": "execute_result"
    }
   ],
   "execution_count": 7
  },
  {
   "metadata": {
    "ExecuteTime": {
     "end_time": "2025-05-27T22:51:20.597568Z",
     "start_time": "2025-05-27T22:51:20.585794Z"
    }
   },
   "cell_type": "code",
   "source": [
    "raw_data_local = df_fetcher.fetch_data(local_fetch_supported_input)\n",
    "print(f\"Length of raw content: {len(raw_data_local)}\")"
   ],
   "id": "d30d1232bc5c0841",
   "outputs": [
    {
     "name": "stderr",
     "output_type": "stream",
     "text": [
      "data_fetcher.py - line 466 - INFO - Fetching data for pmc11425778\n",
      "data_fetcher.py - line 470 - INFO - Fetching data from ../input/fetched_data.parquet\n"
     ]
    },
    {
     "name": "stdout",
     "output_type": "stream",
     "text": [
      "Length of raw content: 205661\n"
     ]
    }
   ],
   "execution_count": 8
  },
  {
   "metadata": {},
   "cell_type": "markdown",
   "source": "### Fetch Raw HTML from a web page",
   "id": "3d995cafd36f74fe"
  },
  {
   "metadata": {
    "ExecuteTime": {
     "end_time": "2025-05-27T22:51:20.602495Z",
     "start_time": "2025-05-27T22:51:20.598889Z"
    }
   },
   "cell_type": "code",
   "source": "API_unsupported_input = \"https://pmc.ncbi.nlm.nih.gov/articles/PMC7233456/\"",
   "id": "96928dc7cf83e5b1",
   "outputs": [],
   "execution_count": 9
  },
  {
   "metadata": {
    "ExecuteTime": {
     "end_time": "2025-05-27T22:51:27.310825Z",
     "start_time": "2025-05-27T22:51:20.606939Z"
    }
   },
   "cell_type": "code",
   "source": [
    "driver = create_driver(data_gatherer.config['DRIVER_PATH'], data_gatherer.config['BROWSER'], data_gatherer.config['HEADLESS'], data_gatherer.logger)\n",
    "web_fetcher = WebScraper(driver, data_gatherer.config, data_gatherer.logger)"
   ],
   "id": "8810d2a06b0061b8",
   "outputs": [
    {
     "name": "stderr",
     "output_type": "stream",
     "text": [
      "selenium_setup.py - line 11 - INFO - Creating WebDriver for browser: Firefox\n",
      "selenium_setup.py - line 41 - INFO - No driver path provided, using GeckoDriverManager to auto-install Firefox driver.\n",
      "selenium_setup.py - line 43 - INFO - Using GeckoDriverManager to auto-install Firefox driver <selenium.webdriver.firefox.service.Service object at 0x144f94690>.\n"
     ]
    }
   ],
   "execution_count": 10
  },
  {
   "metadata": {
    "ExecuteTime": {
     "end_time": "2025-05-27T22:51:32.931040Z",
     "start_time": "2025-05-27T22:51:27.322925Z"
    }
   },
   "cell_type": "code",
   "source": [
    "raw_html = web_fetcher.fetch_data(API_unsupported_input)\n",
    "print(f\"Length of raw content: {len(raw_html)}\")"
   ],
   "id": "79bb5a9d7a80e20a",
   "outputs": [
    {
     "name": "stdout",
     "output_type": "stream",
     "text": [
      "Length of raw content: 564424\n"
     ]
    }
   ],
   "execution_count": 11
  },
  {
   "metadata": {},
   "cell_type": "markdown",
   "source": [
    "## Step II: Parse data\n",
    "\n",
    "The Parser is responsible for extracting the relevant information from the raw documents fetched by the Fetcher. It has two main discovery methods:\n",
    "\n",
    "\n",
    "- **Retrieve-Then-Read**, the parser passes to the LLMs only the relevant sections of the raw document, and the LLMs extract the relevant information.\n",
    "\n",
    "\n",
    "- **Full-Document-Read**, Large-context LLMs read the entire raw document and extract the relevant information."
   ],
   "id": "605ec31956889a57"
  },
  {
   "metadata": {},
   "cell_type": "markdown",
   "source": "### Retrieve-Then-Read",
   "id": "ece85d2274ea0039"
  },
  {
   "metadata": {
    "ExecuteTime": {
     "end_time": "2025-05-27T22:51:32.938123Z",
     "start_time": "2025-05-27T22:51:32.932806Z"
    }
   },
   "cell_type": "code",
   "source": "parser = LLMParser(data_gatherer.config['parser_config_path'], data_gatherer.logger, full_document_read=False)",
   "id": "b9d52f23ac6a3c73",
   "outputs": [
    {
     "name": "stderr",
     "output_type": "stream",
     "text": [
      "parser.py - line 132 - INFO - Parser initialized.\n"
     ]
    }
   ],
   "execution_count": 12
  },
  {
   "metadata": {
    "ExecuteTime": {
     "end_time": "2025-05-27T22:51:42.002349Z",
     "start_time": "2025-05-27T22:51:32.939572Z"
    }
   },
   "cell_type": "code",
   "source": [
    "input_url = [API_supported_input, local_fetch_supported_input, API_unsupported_input]\n",
    "input_format = [\"XML\", \"full_HTML\", \"full_HTML\"]\n",
    "input_cont = [raw_data_API, raw_data_local, raw_html]\n",
    "\n",
    "dfs_dict_RTR = {}\n",
    "for i in range(len(input_url)):\n",
    "    append_data = parser.parse_data(input_cont[i], \"PMC\", input_url[i], raw_data_format=input_format[i])\n",
    "    dfs_dict_RTR[input_url[i]] = append_data\n",
    "    print(f\"Parsed data from {input_url[i]}. Found {len(append_data)} datasets.\")\n",
    "    time.sleep(1)  # To print the output in the right order"
   ],
   "id": "7749b302b27a2c37",
   "outputs": [
    {
     "name": "stderr",
     "output_type": "stream",
     "text": [
      "parser.py - line 382 - INFO - Function call: parse_data(api_data(<class 'lxml.etree._Element'>), PMC, https://www.ncbi.nlm.nih.gov/pmc/articles/PMC6141466, additional_data, XML)\n",
      "parser.py - line 396 - INFO - Extracted title:'Recurrent WNT pathway alterations are frequent in relapsed small cell lung cancer'\n",
      "parser.py - line 806 - INFO - Function_call: extract_href_from_supplementary_material(api_xml, current_url_address)\n",
      "parser.py - line 817 - INFO - Found 1 supplementary material sections .//sec[@sec-type='supplementary-material']. cont: [<Element sec at 0x1457a7280>]\n",
      "parser.py - line 817 - INFO - Found 15 supplementary material sections .//supplementary-material. cont: [<Element supplementary-material at 0x1457a7080>, <Element supplementary-material at 0x1457a7500>, <Element supplementary-material at 0x1457a7400>, <Element supplementary-material at 0x1457a7580>, <Element supplementary-material at 0x1457a7300>, <Element supplementary-material at 0x1457a7100>, <Element supplementary-material at 0x1457a7640>, <Element supplementary-material at 0x1457a7740>, <Element supplementary-material at 0x1457a76c0>, <Element supplementary-material at 0x1457a7780>, <Element supplementary-material at 0x13b363c00>, <Element supplementary-material at 0x1457a77c0>, <Element supplementary-material at 0x1457a7800>, <Element supplementary-material at 0x1457a7840>, <Element supplementary-material at 0x1457a78c0>]\n",
      "parser.py - line 825 - INFO - Processing section: {'ptr': \".//sec[@sec-type='supplementary-material']\", 'cont': [<Element sec at 0x1457a7280>]}\n",
      "parser.py - line 863 - INFO - Extracted media item with href: 41467_2018_6162_MOESM1_ESM.pdf\n",
      "parser.py - line 864 - INFO - Source url: https://www.ncbi.nlm.nih.gov/pmc/articles/PMC6141466\n",
      "parser.py - line 865 - INFO - Supplementary material title: No Title\n",
      "parser.py - line 866 - INFO - Content type: local-data, ID: MOESM1\n",
      "parser.py - line 867 - INFO - Surrounding text for media: Supplementary  Information\n",
      "parser.py - line 868 - INFO - Description: Supplementary Information\n",
      "parser.py - line 869 - INFO - Download_link: https://pmc.ncbi.nlm.nih.gov/articles/instance/6141466/bin/41467_2018_6162_MOESM1_ESM.pdf\n",
      "parser.py - line 863 - INFO - Extracted media item with href: 41467_2018_6162_MOESM2_ESM.pdf\n",
      "parser.py - line 864 - INFO - Source url: https://www.ncbi.nlm.nih.gov/pmc/articles/PMC6141466\n",
      "parser.py - line 865 - INFO - Supplementary material title: No Title\n",
      "parser.py - line 866 - INFO - Content type: local-data, ID: MOESM2\n",
      "parser.py - line 867 - INFO - Surrounding text for media: Peer  Review  File\n",
      "parser.py - line 868 - INFO - Description: Peer Review File\n",
      "parser.py - line 869 - INFO - Download_link: https://pmc.ncbi.nlm.nih.gov/articles/instance/6141466/bin/41467_2018_6162_MOESM2_ESM.pdf\n",
      "parser.py - line 863 - INFO - Extracted media item with href: 41467_2018_6162_MOESM3_ESM.pdf\n",
      "parser.py - line 864 - INFO - Source url: https://www.ncbi.nlm.nih.gov/pmc/articles/PMC6141466\n",
      "parser.py - line 865 - INFO - Supplementary material title: No Title\n",
      "parser.py - line 866 - INFO - Content type: local-data, ID: MOESM3\n",
      "parser.py - line 867 - INFO - Surrounding text for media: Description  of  Additional  Supplementary  Files\n",
      "parser.py - line 868 - INFO - Description: Description of Additional Supplementary Files\n",
      "parser.py - line 869 - INFO - Download_link: https://pmc.ncbi.nlm.nih.gov/articles/instance/6141466/bin/41467_2018_6162_MOESM3_ESM.pdf\n",
      "parser.py - line 863 - INFO - Extracted media item with href: 41467_2018_6162_MOESM4_ESM.xlsx\n",
      "parser.py - line 864 - INFO - Source url: https://www.ncbi.nlm.nih.gov/pmc/articles/PMC6141466\n",
      "parser.py - line 865 - INFO - Supplementary material title: No Title\n",
      "parser.py - line 866 - INFO - Content type: local-data, ID: MOESM4\n",
      "parser.py - line 867 - INFO - Surrounding text for media: Supplementary  Data  1\n",
      "parser.py - line 868 - INFO - Description: Supplementary Data 1\n",
      "parser.py - line 869 - INFO - Download_link: https://pmc.ncbi.nlm.nih.gov/articles/instance/6141466/bin/41467_2018_6162_MOESM4_ESM.xlsx\n",
      "parser.py - line 863 - INFO - Extracted media item with href: 41467_2018_6162_MOESM5_ESM.xlsx\n",
      "parser.py - line 864 - INFO - Source url: https://www.ncbi.nlm.nih.gov/pmc/articles/PMC6141466\n",
      "parser.py - line 865 - INFO - Supplementary material title: No Title\n",
      "parser.py - line 866 - INFO - Content type: local-data, ID: MOESM5\n",
      "parser.py - line 867 - INFO - Surrounding text for media: Supplementary  Data  2\n",
      "parser.py - line 868 - INFO - Description: Supplementary Data 2\n",
      "parser.py - line 869 - INFO - Download_link: https://pmc.ncbi.nlm.nih.gov/articles/instance/6141466/bin/41467_2018_6162_MOESM5_ESM.xlsx\n",
      "parser.py - line 863 - INFO - Extracted media item with href: 41467_2018_6162_MOESM6_ESM.xlsx\n",
      "parser.py - line 864 - INFO - Source url: https://www.ncbi.nlm.nih.gov/pmc/articles/PMC6141466\n",
      "parser.py - line 865 - INFO - Supplementary material title: No Title\n",
      "parser.py - line 866 - INFO - Content type: local-data, ID: MOESM6\n",
      "parser.py - line 867 - INFO - Surrounding text for media: Supplementary  Data  3\n",
      "parser.py - line 868 - INFO - Description: Supplementary Data 3\n",
      "parser.py - line 869 - INFO - Download_link: https://pmc.ncbi.nlm.nih.gov/articles/instance/6141466/bin/41467_2018_6162_MOESM6_ESM.xlsx\n",
      "parser.py - line 863 - INFO - Extracted media item with href: 41467_2018_6162_MOESM7_ESM.xlsx\n",
      "parser.py - line 864 - INFO - Source url: https://www.ncbi.nlm.nih.gov/pmc/articles/PMC6141466\n",
      "parser.py - line 865 - INFO - Supplementary material title: No Title\n",
      "parser.py - line 866 - INFO - Content type: local-data, ID: MOESM7\n",
      "parser.py - line 867 - INFO - Surrounding text for media: Supplementary  Data  4\n",
      "parser.py - line 868 - INFO - Description: Supplementary Data 4\n",
      "parser.py - line 869 - INFO - Download_link: https://pmc.ncbi.nlm.nih.gov/articles/instance/6141466/bin/41467_2018_6162_MOESM7_ESM.xlsx\n",
      "parser.py - line 863 - INFO - Extracted media item with href: 41467_2018_6162_MOESM8_ESM.xlsx\n",
      "parser.py - line 864 - INFO - Source url: https://www.ncbi.nlm.nih.gov/pmc/articles/PMC6141466\n",
      "parser.py - line 865 - INFO - Supplementary material title: No Title\n",
      "parser.py - line 866 - INFO - Content type: local-data, ID: MOESM8\n",
      "parser.py - line 867 - INFO - Surrounding text for media: Supplementary  Data  5\n",
      "parser.py - line 868 - INFO - Description: Supplementary Data 5\n",
      "parser.py - line 869 - INFO - Download_link: https://pmc.ncbi.nlm.nih.gov/articles/instance/6141466/bin/41467_2018_6162_MOESM8_ESM.xlsx\n",
      "parser.py - line 863 - INFO - Extracted media item with href: 41467_2018_6162_MOESM9_ESM.xlsx\n",
      "parser.py - line 864 - INFO - Source url: https://www.ncbi.nlm.nih.gov/pmc/articles/PMC6141466\n",
      "parser.py - line 865 - INFO - Supplementary material title: No Title\n",
      "parser.py - line 866 - INFO - Content type: local-data, ID: MOESM9\n",
      "parser.py - line 867 - INFO - Surrounding text for media: Supplementary  Data  6\n",
      "parser.py - line 868 - INFO - Description: Supplementary Data 6\n",
      "parser.py - line 869 - INFO - Download_link: https://pmc.ncbi.nlm.nih.gov/articles/instance/6141466/bin/41467_2018_6162_MOESM9_ESM.xlsx\n",
      "parser.py - line 863 - INFO - Extracted media item with href: 41467_2018_6162_MOESM10_ESM.xlsx\n",
      "parser.py - line 864 - INFO - Source url: https://www.ncbi.nlm.nih.gov/pmc/articles/PMC6141466\n",
      "parser.py - line 865 - INFO - Supplementary material title: No Title\n",
      "parser.py - line 866 - INFO - Content type: local-data, ID: MOESM10\n",
      "parser.py - line 867 - INFO - Surrounding text for media: Supplementary  Data  7\n",
      "parser.py - line 868 - INFO - Description: Supplementary Data 7\n",
      "parser.py - line 869 - INFO - Download_link: https://pmc.ncbi.nlm.nih.gov/articles/instance/6141466/bin/41467_2018_6162_MOESM10_ESM.xlsx\n",
      "parser.py - line 863 - INFO - Extracted media item with href: 41467_2018_6162_MOESM11_ESM.xlsx\n",
      "parser.py - line 864 - INFO - Source url: https://www.ncbi.nlm.nih.gov/pmc/articles/PMC6141466\n",
      "parser.py - line 865 - INFO - Supplementary material title: No Title\n",
      "parser.py - line 866 - INFO - Content type: local-data, ID: MOESM11\n",
      "parser.py - line 867 - INFO - Surrounding text for media: Supplementary  Data  8\n",
      "parser.py - line 868 - INFO - Description: Supplementary Data 8\n",
      "parser.py - line 869 - INFO - Download_link: https://pmc.ncbi.nlm.nih.gov/articles/instance/6141466/bin/41467_2018_6162_MOESM11_ESM.xlsx\n",
      "parser.py - line 863 - INFO - Extracted media item with href: 41467_2018_6162_MOESM12_ESM.xlsx\n",
      "parser.py - line 864 - INFO - Source url: https://www.ncbi.nlm.nih.gov/pmc/articles/PMC6141466\n",
      "parser.py - line 865 - INFO - Supplementary material title: No Title\n",
      "parser.py - line 866 - INFO - Content type: local-data, ID: MOESM12\n",
      "parser.py - line 867 - INFO - Surrounding text for media: Supplementary  Data  9\n",
      "parser.py - line 868 - INFO - Description: Supplementary Data 9\n",
      "parser.py - line 869 - INFO - Download_link: https://pmc.ncbi.nlm.nih.gov/articles/instance/6141466/bin/41467_2018_6162_MOESM12_ESM.xlsx\n",
      "parser.py - line 863 - INFO - Extracted media item with href: 41467_2018_6162_MOESM13_ESM.xlsx\n",
      "parser.py - line 864 - INFO - Source url: https://www.ncbi.nlm.nih.gov/pmc/articles/PMC6141466\n",
      "parser.py - line 865 - INFO - Supplementary material title: No Title\n",
      "parser.py - line 866 - INFO - Content type: local-data, ID: MOESM13\n",
      "parser.py - line 867 - INFO - Surrounding text for media: Supplementary  Data  10\n",
      "parser.py - line 868 - INFO - Description: Supplementary Data 10\n",
      "parser.py - line 869 - INFO - Download_link: https://pmc.ncbi.nlm.nih.gov/articles/instance/6141466/bin/41467_2018_6162_MOESM13_ESM.xlsx\n",
      "parser.py - line 863 - INFO - Extracted media item with href: 41467_2018_6162_MOESM14_ESM.xlsx\n",
      "parser.py - line 864 - INFO - Source url: https://www.ncbi.nlm.nih.gov/pmc/articles/PMC6141466\n",
      "parser.py - line 865 - INFO - Supplementary material title: No Title\n",
      "parser.py - line 866 - INFO - Content type: local-data, ID: MOESM14\n",
      "parser.py - line 867 - INFO - Surrounding text for media: Supplementary  Data  11\n",
      "parser.py - line 868 - INFO - Description: Supplementary Data 11\n",
      "parser.py - line 869 - INFO - Download_link: https://pmc.ncbi.nlm.nih.gov/articles/instance/6141466/bin/41467_2018_6162_MOESM14_ESM.xlsx\n",
      "parser.py - line 863 - INFO - Extracted media item with href: 41467_2018_6162_MOESM15_ESM.xlsx\n",
      "parser.py - line 864 - INFO - Source url: https://www.ncbi.nlm.nih.gov/pmc/articles/PMC6141466\n",
      "parser.py - line 865 - INFO - Supplementary material title: No Title\n",
      "parser.py - line 866 - INFO - Content type: local-data, ID: MOESM15\n",
      "parser.py - line 867 - INFO - Surrounding text for media: Supplementary  Data  12\n",
      "parser.py - line 868 - INFO - Description: Supplementary Data 12\n",
      "parser.py - line 869 - INFO - Download_link: https://pmc.ncbi.nlm.nih.gov/articles/instance/6141466/bin/41467_2018_6162_MOESM15_ESM.xlsx\n",
      "parser.py - line 888 - INFO - Found 0 inline-supplementary-material elements.\n",
      "parser.py - line 825 - INFO - Processing section: {'ptr': './/supplementary-material', 'cont': [<Element supplementary-material at 0x1457a7080>, <Element supplementary-material at 0x1457a7500>, <Element supplementary-material at 0x1457a7400>, <Element supplementary-material at 0x1457a7580>, <Element supplementary-material at 0x1457a7300>, <Element supplementary-material at 0x1457a7100>, <Element supplementary-material at 0x1457a7640>, <Element supplementary-material at 0x1457a7740>, <Element supplementary-material at 0x1457a76c0>, <Element supplementary-material at 0x1457a7780>, <Element supplementary-material at 0x13b363c00>, <Element supplementary-material at 0x1457a77c0>, <Element supplementary-material at 0x1457a7800>, <Element supplementary-material at 0x1457a7840>, <Element supplementary-material at 0x1457a78c0>]}\n",
      "parser.py - line 863 - INFO - Extracted media item with href: 41467_2018_6162_MOESM1_ESM.pdf\n",
      "parser.py - line 864 - INFO - Source url: https://www.ncbi.nlm.nih.gov/pmc/articles/PMC6141466\n",
      "parser.py - line 865 - INFO - Supplementary material title: No Title\n",
      "parser.py - line 866 - INFO - Content type: local-data, ID: MOESM1\n",
      "parser.py - line 867 - INFO - Surrounding text for media: Supplementary  Information\n",
      "parser.py - line 868 - INFO - Description: Supplementary Information\n",
      "parser.py - line 869 - INFO - Download_link: https://pmc.ncbi.nlm.nih.gov/articles/instance/6141466/bin/41467_2018_6162_MOESM1_ESM.pdf\n",
      "parser.py - line 888 - INFO - Found 0 inline-supplementary-material elements.\n",
      "parser.py - line 863 - INFO - Extracted media item with href: 41467_2018_6162_MOESM2_ESM.pdf\n",
      "parser.py - line 864 - INFO - Source url: https://www.ncbi.nlm.nih.gov/pmc/articles/PMC6141466\n",
      "parser.py - line 865 - INFO - Supplementary material title: No Title\n",
      "parser.py - line 866 - INFO - Content type: local-data, ID: MOESM2\n",
      "parser.py - line 867 - INFO - Surrounding text for media: Peer  Review  File\n",
      "parser.py - line 868 - INFO - Description: Peer Review File\n",
      "parser.py - line 869 - INFO - Download_link: https://pmc.ncbi.nlm.nih.gov/articles/instance/6141466/bin/41467_2018_6162_MOESM2_ESM.pdf\n",
      "parser.py - line 888 - INFO - Found 0 inline-supplementary-material elements.\n",
      "parser.py - line 863 - INFO - Extracted media item with href: 41467_2018_6162_MOESM3_ESM.pdf\n",
      "parser.py - line 864 - INFO - Source url: https://www.ncbi.nlm.nih.gov/pmc/articles/PMC6141466\n",
      "parser.py - line 865 - INFO - Supplementary material title: No Title\n",
      "parser.py - line 866 - INFO - Content type: local-data, ID: MOESM3\n",
      "parser.py - line 867 - INFO - Surrounding text for media: Description  of  Additional  Supplementary  Files\n",
      "parser.py - line 868 - INFO - Description: Description of Additional Supplementary Files\n",
      "parser.py - line 869 - INFO - Download_link: https://pmc.ncbi.nlm.nih.gov/articles/instance/6141466/bin/41467_2018_6162_MOESM3_ESM.pdf\n",
      "parser.py - line 888 - INFO - Found 0 inline-supplementary-material elements.\n",
      "parser.py - line 863 - INFO - Extracted media item with href: 41467_2018_6162_MOESM4_ESM.xlsx\n",
      "parser.py - line 864 - INFO - Source url: https://www.ncbi.nlm.nih.gov/pmc/articles/PMC6141466\n",
      "parser.py - line 865 - INFO - Supplementary material title: No Title\n",
      "parser.py - line 866 - INFO - Content type: local-data, ID: MOESM4\n",
      "parser.py - line 867 - INFO - Surrounding text for media: Supplementary  Data  1\n",
      "parser.py - line 868 - INFO - Description: Supplementary Data 1\n",
      "parser.py - line 869 - INFO - Download_link: https://pmc.ncbi.nlm.nih.gov/articles/instance/6141466/bin/41467_2018_6162_MOESM4_ESM.xlsx\n",
      "parser.py - line 888 - INFO - Found 0 inline-supplementary-material elements.\n",
      "parser.py - line 863 - INFO - Extracted media item with href: 41467_2018_6162_MOESM5_ESM.xlsx\n",
      "parser.py - line 864 - INFO - Source url: https://www.ncbi.nlm.nih.gov/pmc/articles/PMC6141466\n",
      "parser.py - line 865 - INFO - Supplementary material title: No Title\n",
      "parser.py - line 866 - INFO - Content type: local-data, ID: MOESM5\n",
      "parser.py - line 867 - INFO - Surrounding text for media: Supplementary  Data  2\n",
      "parser.py - line 868 - INFO - Description: Supplementary Data 2\n",
      "parser.py - line 869 - INFO - Download_link: https://pmc.ncbi.nlm.nih.gov/articles/instance/6141466/bin/41467_2018_6162_MOESM5_ESM.xlsx\n",
      "parser.py - line 888 - INFO - Found 0 inline-supplementary-material elements.\n",
      "parser.py - line 863 - INFO - Extracted media item with href: 41467_2018_6162_MOESM6_ESM.xlsx\n",
      "parser.py - line 864 - INFO - Source url: https://www.ncbi.nlm.nih.gov/pmc/articles/PMC6141466\n",
      "parser.py - line 865 - INFO - Supplementary material title: No Title\n",
      "parser.py - line 866 - INFO - Content type: local-data, ID: MOESM6\n",
      "parser.py - line 867 - INFO - Surrounding text for media: Supplementary  Data  3\n",
      "parser.py - line 868 - INFO - Description: Supplementary Data 3\n",
      "parser.py - line 869 - INFO - Download_link: https://pmc.ncbi.nlm.nih.gov/articles/instance/6141466/bin/41467_2018_6162_MOESM6_ESM.xlsx\n",
      "parser.py - line 888 - INFO - Found 0 inline-supplementary-material elements.\n",
      "parser.py - line 863 - INFO - Extracted media item with href: 41467_2018_6162_MOESM7_ESM.xlsx\n",
      "parser.py - line 864 - INFO - Source url: https://www.ncbi.nlm.nih.gov/pmc/articles/PMC6141466\n",
      "parser.py - line 865 - INFO - Supplementary material title: No Title\n",
      "parser.py - line 866 - INFO - Content type: local-data, ID: MOESM7\n",
      "parser.py - line 867 - INFO - Surrounding text for media: Supplementary  Data  4\n",
      "parser.py - line 868 - INFO - Description: Supplementary Data 4\n",
      "parser.py - line 869 - INFO - Download_link: https://pmc.ncbi.nlm.nih.gov/articles/instance/6141466/bin/41467_2018_6162_MOESM7_ESM.xlsx\n",
      "parser.py - line 888 - INFO - Found 0 inline-supplementary-material elements.\n",
      "parser.py - line 863 - INFO - Extracted media item with href: 41467_2018_6162_MOESM8_ESM.xlsx\n",
      "parser.py - line 864 - INFO - Source url: https://www.ncbi.nlm.nih.gov/pmc/articles/PMC6141466\n",
      "parser.py - line 865 - INFO - Supplementary material title: No Title\n",
      "parser.py - line 866 - INFO - Content type: local-data, ID: MOESM8\n",
      "parser.py - line 867 - INFO - Surrounding text for media: Supplementary  Data  5\n",
      "parser.py - line 868 - INFO - Description: Supplementary Data 5\n",
      "parser.py - line 869 - INFO - Download_link: https://pmc.ncbi.nlm.nih.gov/articles/instance/6141466/bin/41467_2018_6162_MOESM8_ESM.xlsx\n",
      "parser.py - line 888 - INFO - Found 0 inline-supplementary-material elements.\n",
      "parser.py - line 863 - INFO - Extracted media item with href: 41467_2018_6162_MOESM9_ESM.xlsx\n",
      "parser.py - line 864 - INFO - Source url: https://www.ncbi.nlm.nih.gov/pmc/articles/PMC6141466\n",
      "parser.py - line 865 - INFO - Supplementary material title: No Title\n",
      "parser.py - line 866 - INFO - Content type: local-data, ID: MOESM9\n",
      "parser.py - line 867 - INFO - Surrounding text for media: Supplementary  Data  6\n",
      "parser.py - line 868 - INFO - Description: Supplementary Data 6\n",
      "parser.py - line 869 - INFO - Download_link: https://pmc.ncbi.nlm.nih.gov/articles/instance/6141466/bin/41467_2018_6162_MOESM9_ESM.xlsx\n",
      "parser.py - line 888 - INFO - Found 0 inline-supplementary-material elements.\n",
      "parser.py - line 863 - INFO - Extracted media item with href: 41467_2018_6162_MOESM10_ESM.xlsx\n",
      "parser.py - line 864 - INFO - Source url: https://www.ncbi.nlm.nih.gov/pmc/articles/PMC6141466\n",
      "parser.py - line 865 - INFO - Supplementary material title: No Title\n",
      "parser.py - line 866 - INFO - Content type: local-data, ID: MOESM10\n",
      "parser.py - line 867 - INFO - Surrounding text for media: Supplementary  Data  7\n",
      "parser.py - line 868 - INFO - Description: Supplementary Data 7\n",
      "parser.py - line 869 - INFO - Download_link: https://pmc.ncbi.nlm.nih.gov/articles/instance/6141466/bin/41467_2018_6162_MOESM10_ESM.xlsx\n",
      "parser.py - line 888 - INFO - Found 0 inline-supplementary-material elements.\n",
      "parser.py - line 863 - INFO - Extracted media item with href: 41467_2018_6162_MOESM11_ESM.xlsx\n",
      "parser.py - line 864 - INFO - Source url: https://www.ncbi.nlm.nih.gov/pmc/articles/PMC6141466\n",
      "parser.py - line 865 - INFO - Supplementary material title: No Title\n",
      "parser.py - line 866 - INFO - Content type: local-data, ID: MOESM11\n",
      "parser.py - line 867 - INFO - Surrounding text for media: Supplementary  Data  8\n",
      "parser.py - line 868 - INFO - Description: Supplementary Data 8\n",
      "parser.py - line 869 - INFO - Download_link: https://pmc.ncbi.nlm.nih.gov/articles/instance/6141466/bin/41467_2018_6162_MOESM11_ESM.xlsx\n",
      "parser.py - line 888 - INFO - Found 0 inline-supplementary-material elements.\n",
      "parser.py - line 863 - INFO - Extracted media item with href: 41467_2018_6162_MOESM12_ESM.xlsx\n",
      "parser.py - line 864 - INFO - Source url: https://www.ncbi.nlm.nih.gov/pmc/articles/PMC6141466\n",
      "parser.py - line 865 - INFO - Supplementary material title: No Title\n",
      "parser.py - line 866 - INFO - Content type: local-data, ID: MOESM12\n",
      "parser.py - line 867 - INFO - Surrounding text for media: Supplementary  Data  9\n",
      "parser.py - line 868 - INFO - Description: Supplementary Data 9\n",
      "parser.py - line 869 - INFO - Download_link: https://pmc.ncbi.nlm.nih.gov/articles/instance/6141466/bin/41467_2018_6162_MOESM12_ESM.xlsx\n",
      "parser.py - line 888 - INFO - Found 0 inline-supplementary-material elements.\n",
      "parser.py - line 863 - INFO - Extracted media item with href: 41467_2018_6162_MOESM13_ESM.xlsx\n",
      "parser.py - line 864 - INFO - Source url: https://www.ncbi.nlm.nih.gov/pmc/articles/PMC6141466\n",
      "parser.py - line 865 - INFO - Supplementary material title: No Title\n",
      "parser.py - line 866 - INFO - Content type: local-data, ID: MOESM13\n",
      "parser.py - line 867 - INFO - Surrounding text for media: Supplementary  Data  10\n",
      "parser.py - line 868 - INFO - Description: Supplementary Data 10\n",
      "parser.py - line 869 - INFO - Download_link: https://pmc.ncbi.nlm.nih.gov/articles/instance/6141466/bin/41467_2018_6162_MOESM13_ESM.xlsx\n",
      "parser.py - line 888 - INFO - Found 0 inline-supplementary-material elements.\n",
      "parser.py - line 863 - INFO - Extracted media item with href: 41467_2018_6162_MOESM14_ESM.xlsx\n",
      "parser.py - line 864 - INFO - Source url: https://www.ncbi.nlm.nih.gov/pmc/articles/PMC6141466\n",
      "parser.py - line 865 - INFO - Supplementary material title: No Title\n",
      "parser.py - line 866 - INFO - Content type: local-data, ID: MOESM14\n",
      "parser.py - line 867 - INFO - Surrounding text for media: Supplementary  Data  11\n",
      "parser.py - line 868 - INFO - Description: Supplementary Data 11\n",
      "parser.py - line 869 - INFO - Download_link: https://pmc.ncbi.nlm.nih.gov/articles/instance/6141466/bin/41467_2018_6162_MOESM14_ESM.xlsx\n",
      "parser.py - line 888 - INFO - Found 0 inline-supplementary-material elements.\n",
      "parser.py - line 863 - INFO - Extracted media item with href: 41467_2018_6162_MOESM15_ESM.xlsx\n",
      "parser.py - line 864 - INFO - Source url: https://www.ncbi.nlm.nih.gov/pmc/articles/PMC6141466\n",
      "parser.py - line 865 - INFO - Supplementary material title: No Title\n",
      "parser.py - line 866 - INFO - Content type: local-data, ID: MOESM15\n",
      "parser.py - line 867 - INFO - Surrounding text for media: Supplementary  Data  12\n",
      "parser.py - line 868 - INFO - Description: Supplementary Data 12\n",
      "parser.py - line 869 - INFO - Download_link: https://pmc.ncbi.nlm.nih.gov/articles/instance/6141466/bin/41467_2018_6162_MOESM15_ESM.xlsx\n",
      "parser.py - line 888 - INFO - Found 0 inline-supplementary-material elements.\n",
      "parser.py - line 1396 - INFO - Found [<Element sec at 0x1457a7780>, <Element supplementary-material at 0x1457a7100>, <Element supplementary-material at 0x1457a77c0>, <Element supplementary-material at 0x1457a7840>, <Element supplementary-material at 0x1457a7280>, <Element supplementary-material at 0x1457a73c0>, <Element supplementary-material at 0x1467e8400>, <Element supplementary-material at 0x1467e8740>, <Element supplementary-material at 0x1467ebf80>, <Element supplementary-material at 0x1467dab40>, <Element supplementary-material at 0x1467d85c0>, <Element supplementary-material at 0x1467de600>, <Element supplementary-material at 0x1467d89c0>, <Element supplementary-material at 0x1468036c0>, <Element supplementary-material at 0x146801c00>, <Element supplementary-material at 0x146802d00>] supplementary data sections\n",
      "parser.py - line 1401 - INFO - Section with no text: <Element sec at 0x1457a7780>\n",
      "parser.py - line 1401 - INFO - Section with no text: <Element supplementary-material at 0x1457a7100>\n",
      "parser.py - line 1401 - INFO - Section with no text: <Element supplementary-material at 0x1457a77c0>\n",
      "parser.py - line 1401 - INFO - Section with no text: <Element supplementary-material at 0x1457a7840>\n",
      "parser.py - line 1401 - INFO - Section with no text: <Element supplementary-material at 0x1457a7280>\n",
      "parser.py - line 1401 - INFO - Section with no text: <Element supplementary-material at 0x1457a73c0>\n",
      "parser.py - line 1401 - INFO - Section with no text: <Element supplementary-material at 0x1467e8400>\n",
      "parser.py - line 1401 - INFO - Section with no text: <Element supplementary-material at 0x1467e8740>\n",
      "parser.py - line 1401 - INFO - Section with no text: <Element supplementary-material at 0x1467ebf80>\n",
      "parser.py - line 1401 - INFO - Section with no text: <Element supplementary-material at 0x1467dab40>\n",
      "parser.py - line 1401 - INFO - Section with no text: <Element supplementary-material at 0x1467d85c0>\n",
      "parser.py - line 1401 - INFO - Section with no text: <Element supplementary-material at 0x1467de600>\n",
      "parser.py - line 1401 - INFO - Section with no text: <Element supplementary-material at 0x1467d89c0>\n",
      "parser.py - line 1401 - INFO - Section with no text: <Element supplementary-material at 0x1468036c0>\n",
      "parser.py - line 1401 - INFO - Section with no text: <Element supplementary-material at 0x146801c00>\n",
      "parser.py - line 1401 - INFO - Section with no text: <Element supplementary-material at 0x146802d00>\n",
      "parser.py - line 1420 - INFO - Found data availability content: [' Data availability  Data has been deposited in dbGAP with accession #PHS001049 (  https://www.ncbi.nlm.nih.gov/gap/?term=PHS001049  ), and SRA with project accession PRJNA306801 (  https://www.ncbi.nlm.nih.gov/gap/?term=PHS001049  https://www.ncbi.nlm.nih.gov/bioproject/?term=PRJNA306801)  .  https://www.ncbi.nlm.nih.gov/bioproject/?term=PRJNA306801) ']\n",
      "parser.py - line 1048 - INFO - Processing DAS_content: [' Data availability  Data has been deposited in dbGAP with accession #PHS001049 (  https://www.ncbi.nlm.nih.gov/gap/?term=PHS001049  ), and SRA with project accession PRJNA306801 (  https://www.ncbi.nlm.nih.gov/gap/?term=PHS001049  https://www.ncbi.nlm.nih.gov/bioproject/?term=PRJNA306801)  .  https://www.ncbi.nlm.nih.gov/bioproject/?term=PRJNA306801) ']\n",
      "parser.py - line 1060 - INFO - Repos elements: ['bigd.big.ac.cn (BIGD)', 'ega-archive.org (European Genome-Phenome Archive)', 'massive.ucsd.edu (MassIVE)', 'www.ebi.ac.uk (PRIDE)', 'www.iprox.cn (iProX)', 'proteomecentral.proteomexchange.org (ProteomeCentral)', 'www.proteomexchange.org (ProteomeXchange)', 'pdc.cancer.gov (Proteomic Data Commons)', 'gdc.cancer.gov (Genomic Data Commons)', 'cancerimagingarchive.net (The Cancer Imaging Archive)', 'imaging.datacommons.cancer.gov (Imaging Data Commons)', 'repository.jpostdb.org (JPOST)', 'doi.org', 'geo (GEO)', 'dbgap (dbGaP)', 'sra (sra)', 'ArrayExpress (ArrayExpress)']\n",
      "parser.py - line 1099 - INFO - Loading prompt: retrieve_datasets_simple_JSON_gemini\n",
      "prompt_manager.py - line 29 - INFO - Loading prompt: retrieve_datasets_simple_JSON_gemini from user_prompt_dir: None, subdir: \n",
      "parser.py - line 1869 - WARNING - Expected string but got list. Converting list to string.\n",
      "parser.py - line 1108 - INFO - static_prompt: [{'role': 'model', 'parts': [{'text': \"You are a specialized assistant that extracts dataset references from the content of scientific papers. You must output a JSON array of objects, where each object has the following keys: 'dataset_identifier', 'data_repository', and 'dataset_webpage'. Follow the structure of the provided examples exactly.\"}]}, {'role': 'user', 'parts': [{'text': 'Extract dataset references based on the examples below:\\n\\nExample 1:\\nContent: \\'The study used dataset EGAS00001000925, which is available at the European Genome Archive.\\'\\nResponse:\\n[\\n    [\\n        \"dataset_identifier\": \"EGAS00893672193\",\\n        \"data_repository\": \"European Genome Archive\",\\n        \"dataset_webpage\": \"https://ega-archive.org/studies/EGAS00001000925\"\\n    ]\\n]\\n\\nExample 2:\\nContent: \\'Proteomics data was obtained from PRIDE, accession PXD029821.\\'\\nResponse:\\n[\\n    [\\n        \"dataset_identifier\": \"PXD029821\",\\n        \"data_repository\": \"PRIDE\",\\n        \"dataset_webpage\": \"https://www.ebi.ac.uk/pride/archive/projects/PXD029821\"\\n    ]\\n]\\n\\nExample 3:\\nContent: \\'The repository dbGaP hosts the dataset phs001366.v1.p1 at this location.\\'\\nResponse:\\n[\\n    [\\n        \"dataset_identifier\": \"phs001366.v1.p1\",\\n        \"data_repository\": \"dbGaP\",\\n        \"dataset_webpage\": \"https://www.ncbi.nlm.nih.gov/projects/gap/cgi-bin/study.cgi?study_id=phs001366.v1.p1\"\\n    ]\\n]\\n\\nNow process the following content:\\n\\nContent: {content}'}]}]\n",
      "parser.py - line 1869 - WARNING - Expected string but got list. Converting list to string.\n",
      "parser.py - line 1117 - INFO - Prompt messages total length: 1 tokens\n",
      "parser.py - line 1123 - INFO - Prompt ID: gemini-2.0-flash-0-9d33129ed9034b83bdf31e6c346e79646a0a2766c06a1f6ad4d0d323c7da80a6\n",
      "prompt_manager.py - line 25 - INFO - Prompt saved to prompts/prompt_evals/gemini-2.0-flash-0-9d33129ed9034b83bdf31e6c346e79646a0a2766c06a1f6ad4d0d323c7da80a6.json\n",
      "parser.py - line 1869 - WARNING - Expected string but got list. Converting list to string.\n",
      "parser.py - line 1142 - INFO - Requesting datasets from content using model: gemini-2.0-flash, temperature: 0, messages: 1 tokens\n",
      "parser.py - line 1220 - INFO - Found 1 candidates in the response.\n",
      "parser.py - line 1222 - INFO - Gemini response text: [\n",
      "  {\n",
      "    \"dataset_id\": \"PHS001049\",\n",
      "    \"repository_reference\": \"dbGAP\"\n",
      "  },\n",
      "  {\n",
      "    \"dataset_id\": \"PRJNA306801\",\n",
      "    \"repository_reference\": \"SRA\"\n",
      "  }\n",
      "]\n",
      "parser.py - line 1071 - INFO - datasets (<class 'list'>): [{'dataset_id': 'PHS001049', 'repository_reference': 'dbGAP'}, {'dataset_id': 'PRJNA306801', 'repository_reference': 'SRA'}]\n",
      "parser.py - line 1073 - INFO - iter dataset (<class 'dict'>): {'dataset_id': 'PHS001049', 'repository_reference': 'dbGAP'}\n",
      "parser.py - line 1073 - INFO - iter dataset (<class 'dict'>): {'dataset_id': 'PRJNA306801', 'repository_reference': 'SRA'}\n",
      "parser.py - line 1078 - INFO - Final ret additional data: 2 items\n",
      "parser.py - line 1766 - INFO - Fetching metadata for 2 datasets\n",
      "parser.py - line 1774 - INFO - Processing dataset 1 with keys: dict_keys(['dataset_id', 'repository_reference', 'source_section', 'retrieval_pattern'])\n",
      "parser.py - line 1785 - INFO - Raw accession ID: PHS001049\n",
      "parser.py - line 1723 - INFO - Resolving data repository for: dbGAP\n",
      "parser.py - line 1743 - INFO - Found repo_name match for dbGAP\n",
      "parser.py - line 1723 - INFO - Resolving data repository for: dbgap\n",
      "parser.py - line 1738 - INFO - Exact match found for repo: dbgap\n",
      "parser.py - line 1705 - INFO - Resolving accession ID for PHS001049 in dbgap\n",
      "parser.py - line 1710 - WARNING - Identifier PHS001049 does not match pattern for dbgap\n",
      "parser.py - line 1802 - INFO - Processing dataset 1 with repo: dbgap and accession_id: phs001049.v1.p1\n",
      "parser.py - line 1820 - INFO - Dataset page: https://www.ncbi.nlm.nih.gov/projects/gap/cgi-bin/study.cgi?study_id=phs001049.v1.p1\n",
      "parser.py - line 1825 - INFO - Adding access mode for dataset 1: Application to access\n",
      "parser.py - line 1774 - INFO - Processing dataset 2 with keys: dict_keys(['dataset_id', 'repository_reference', 'source_section', 'retrieval_pattern'])\n",
      "parser.py - line 1785 - INFO - Raw accession ID: PRJNA306801\n",
      "parser.py - line 1723 - INFO - Resolving data repository for: SRA\n",
      "parser.py - line 1743 - INFO - Found repo_name match for SRA\n",
      "parser.py - line 1723 - INFO - Resolving data repository for: sra\n",
      "parser.py - line 1738 - INFO - Exact match found for repo: sra\n",
      "parser.py - line 1705 - INFO - Resolving accession ID for PRJNA306801 in sra\n",
      "parser.py - line 1802 - INFO - Processing dataset 2 with repo: sra and accession_id: PRJNA306801\n",
      "parser.py - line 1820 - INFO - Dataset page: https://www.ncbi.nlm.nih.gov/bioproject/?term=PRJNA306801\n",
      "parser.py - line 1825 - INFO - Adding access mode for dataset 2: Complex download\n",
      "parser.py - line 1832 - INFO - Updated datasets len: 2\n",
      "parser.py - line 456 - INFO - Dataset Links type: <class 'pandas.core.frame.DataFrame'> of len 32, with cols: Index(['dataset_id', 'repository_reference', 'source_section',\n",
      "       'retrieval_pattern', 'dataset_webpage', 'access_mode', 'link',\n",
      "       'source_url', 'download_link', 'title', 'content_type', 'id',\n",
      "       'surrounding_text', 'description'],\n",
      "      dtype='object')\n"
     ]
    },
    {
     "name": "stdout",
     "output_type": "stream",
     "text": [
      "Parsed data from https://www.ncbi.nlm.nih.gov/pmc/articles/PMC6141466. Found 32 datasets.\n"
     ]
    },
    {
     "name": "stderr",
     "output_type": "stream",
     "text": [
      "parser.py - line 382 - INFO - Function call: parse_data(api_data(<class 'str'>), PMC, https://www.ncbi.nlm.nih.gov/pmc/articles/pmc11425778, additional_data, full_HTML)\n",
      "parser.py - line 494 - INFO - Chunking the HTML content for the parsing step.\n",
      "parser.py - line 730 - INFO - Function_call: extract_href_from_html_supplementary_material(tree, https://www.ncbi.nlm.nih.gov/pmc/articles/pmc11425778)\n",
      "parser.py - line 790 - INFO - Extracted 14 unique supplementary material links from HTML.\n",
      "parser.py - line 541 - INFO - Function_call: normalize_full_DOM(api_data). Length of raw api data: 71801 tokens\n",
      "parser.py - line 1453 - INFO - Extracting data availability elements from HTML\n",
      "parser.py - line 1464 - INFO - Using selector: section.data-availability-statement\n",
      "parser.py - line 1500 - INFO - Extracted data availability element: {'retrieval_pattern': 'section.data-availability-statement', 'text': 'Proteomics data can be found at the MassIVE database via MSV000092944. \\n', 'html': '<p> Proteomics data can be found at the MassIVE database via MSV000092944. </p> \\n'}\n",
      "parser.py - line 1464 - INFO - Using selector: section.associated-data\n",
      "parser.py - line 1500 - INFO - Extracted data availability element: {'retrieval_pattern': 'section.associated-data', 'text': 'This section collects any data citations, data availability statements, or supplementary materials included in this article. \\nSI \\nNIHMS2020672-supplement-SI.pdf(1.4MB, pdf) \\nNIHMS2020672-supplement-SI.pdf(1.4MB, pdf) \\nNIHMS2020672-supplement-SI.pdf \\nProteomics data can be found at the MassIVE database via MSV000092944. \\n', 'html': '<p class=\"font-secondary\"> <em> This section collects any data citations, data availability statements, or supplementary materials included in this article. </em> </p> \\n<div class=\"caption p\"> <span> SI </span> </div> \\n<div class=\"media p\"> <div class=\"caption\"> <a class=\"usa-link\" href=\"/articles/instance/11425778/bin/NIHMS2020672-supplement-SI.pdf\"> NIHMS2020672-supplement-SI.pdf </a> <sup> (1.4MB, pdf) </sup> </div> </div> \\n<div class=\"caption\"> <a class=\"usa-link\" href=\"/articles/instance/11425778/bin/NIHMS2020672-supplement-SI.pdf\"> NIHMS2020672-supplement-SI.pdf </a> <sup> (1.4MB, pdf) </sup> </div> \\n<a class=\"usa-link\" href=\"/articles/instance/11425778/bin/NIHMS2020672-supplement-SI.pdf\"> NIHMS2020672-supplement-SI.pdf </a> \\n<p> Proteomics data can be found at the MassIVE database via MSV000092944. </p> \\n'}\n",
      "parser.py - line 1464 - INFO - Using selector: h2.pmc_sec_title:-soup-contains('Data Availability')\n",
      "parser.py - line 1500 - INFO - Extracted data availability element: {'retrieval_pattern': \"h2.pmc_sec_title:-soup-contains('Data Availability')\", 'text': 'Proteomics data can be found at the MassIVE database via MSV000092944. \\n', 'html': '<p id=\"P37\"> Proteomics data can be found at the MassIVE database via MSV000092944. </p> \\n'}\n",
      "parser.py - line 1464 - INFO - Using selector: h3.pmc_sec_title:-soup-contains('Data Availability')\n",
      "parser.py - line 1500 - INFO - Extracted data availability element: {'retrieval_pattern': \"h3.pmc_sec_title:-soup-contains('Data Availability')\", 'text': 'Proteomics data can be found at the MassIVE database via MSV000092944. \\n', 'html': '<p> Proteomics data can be found at the MassIVE database via MSV000092944. </p> \\n'}\n",
      "parser.py - line 1464 - INFO - Using selector: h2.pmc_sec_title:-soup-contains('Associated Data')\n",
      "parser.py - line 1500 - INFO - Extracted data availability element: {'retrieval_pattern': \"h2.pmc_sec_title:-soup-contains('Associated Data')\", 'text': 'This section collects any data citations, data availability statements, or supplementary materials included in this article. \\nSI \\nNIHMS2020672-supplement-SI.pdf(1.4MB, pdf) \\nNIHMS2020672-supplement-SI.pdf(1.4MB, pdf) \\nNIHMS2020672-supplement-SI.pdf \\nProteomics data can be found at the MassIVE database via MSV000092944. \\n', 'html': '<p class=\"font-secondary\"> <em> This section collects any data citations, data availability statements, or supplementary materials included in this article. </em> </p> \\n<div class=\"caption p\"> <span> SI </span> </div> \\n<div class=\"media p\"> <div class=\"caption\"> <a class=\"usa-link\" href=\"/articles/instance/11425778/bin/NIHMS2020672-supplement-SI.pdf\"> NIHMS2020672-supplement-SI.pdf </a> <sup> (1.4MB, pdf) </sup> </div> </div> \\n<div class=\"caption\"> <a class=\"usa-link\" href=\"/articles/instance/11425778/bin/NIHMS2020672-supplement-SI.pdf\"> NIHMS2020672-supplement-SI.pdf </a> <sup> (1.4MB, pdf) </sup> </div> \\n<a class=\"usa-link\" href=\"/articles/instance/11425778/bin/NIHMS2020672-supplement-SI.pdf\"> NIHMS2020672-supplement-SI.pdf </a> \\n<p> Proteomics data can be found at the MassIVE database via MSV000092944. </p> \\n'}\n",
      "parser.py - line 1464 - INFO - Using selector: h2.pmc_sec_title:-soup-contains('Footnotes')\n",
      "parser.py - line 1500 - INFO - Extracted data availability element: {'retrieval_pattern': \"h2.pmc_sec_title:-soup-contains('Footnotes')\", 'text': 'Supporting InformationThe Supporting Information is available free of charge athttps://pubs.acs.org/doi/10.1021/acs.jproteome.4c00338.Figure S1, quality control of label-free quantitative proteomics;Figure S2, comparison between the monoculture drug-resistant and drug-sensitive cells;Figure S3, P53 signaling pathway and the highlighted proteins upregulated in drug-resistant cells;Figure S4, workflow of the direct coculture and indirect coculture; andFigure S5, upregulated HIF-1 signaling pathways and TCA cycle in indirect coculture cells (PDF)All identified proteins and upregulated proteins in P53 pathways in monoculture and coculture cells (XLSX)Volcano plot of proteins in monoculture and coculture cells (XLSX)Enriched upregulated KEGG pathways in monoculture and coculture systems (XLSX)The authors declare no competing financial interest.Complete contact information is available at:https://pubs.acs.org/10.1021/acs.jproteome.4c00338 \\nSupporting InformationThe Supporting Information is available free of charge athttps://pubs.acs.org/doi/10.1021/acs.jproteome.4c00338.Figure S1, quality control of label-free quantitative proteomics;Figure S2, comparison between the monoculture drug-resistant and drug-sensitive cells;Figure S3, P53 signaling pathway and the highlighted proteins upregulated in drug-resistant cells;Figure S4, workflow of the direct coculture and indirect coculture; andFigure S5, upregulated HIF-1 signaling pathways and TCA cycle in indirect coculture cells (PDF)All identified proteins and upregulated proteins in P53 pathways in monoculture and coculture cells (XLSX)Volcano plot of proteins in monoculture and coculture cells (XLSX)Enriched upregulated KEGG pathways in monoculture and coculture systems (XLSX) \\nSupporting Information \\nThe Supporting Information is available free of charge athttps://pubs.acs.org/doi/10.1021/acs.jproteome.4c00338. \\nhttps://pubs.acs.org/doi/10.1021/acs.jproteome.4c00338 \\nFigure S1, quality control of label-free quantitative proteomics;Figure S2, comparison between the monoculture drug-resistant and drug-sensitive cells;Figure S3, P53 signaling pathway and the highlighted proteins upregulated in drug-resistant cells;Figure S4, workflow of the direct coculture and indirect coculture; andFigure S5, upregulated HIF-1 signaling pathways and TCA cycle in indirect coculture cells (PDF) \\nFigure S1 \\nFigure S2 \\nFigure S3 \\nFigure S4 \\nFigure S5 \\nPDF \\nAll identified proteins and upregulated proteins in P53 pathways in monoculture and coculture cells (XLSX) \\nXLSX \\nVolcano plot of proteins in monoculture and coculture cells (XLSX) \\nXLSX \\nEnriched upregulated KEGG pathways in monoculture and coculture systems (XLSX) \\nXLSX \\nThe authors declare no competing financial interest. \\nThe authors declare no competing financial interest. \\nComplete contact information is available at:https://pubs.acs.org/10.1021/acs.jproteome.4c00338 \\nComplete contact information is available at:https://pubs.acs.org/10.1021/acs.jproteome.4c00338 \\nhttps://pubs.acs.org/10.1021/acs.jproteome.4c00338 \\n', 'html': '<div class=\"fn-group p font-secondary-light font-sm\"> <div class=\"fn p\" id=\"FN1\"> <p id=\"P39\"> Supporting Information </p> <p id=\"P40\"> The Supporting Information is available free of charge at <a class=\"usa-link usa-link--external\" href=\"https://pubs.acs.org/doi/10.1021/acs.jproteome.4c00338?goto=supporting-info\" rel=\"noopener noreferrer\" target=\"_blank\"> https://pubs.acs.org/doi/10.1021/acs.jproteome.4c00338 </a> . </p> <p id=\"P41\"> <a class=\"usa-link\" href=\"#SD1\"> Figure S1 </a> , quality control of label-free quantitative proteomics; <a class=\"usa-link\" href=\"#SD1\"> Figure S2 </a> , comparison between the monoculture drug-resistant and drug-sensitive cells; <a class=\"usa-link\" href=\"#SD1\"> Figure S3 </a> , P53 signaling pathway and the highlighted proteins upregulated in drug-resistant cells; <a class=\"usa-link\" href=\"#SD1\"> Figure S4 </a> , workflow of the direct coculture and indirect coculture; and <a class=\"usa-link\" href=\"#SD1\"> Figure S5 </a> , upregulated HIF-1 signaling pathways and TCA cycle in indirect coculture cells ( <a class=\"usa-link usa-link--external\" href=\"https://pubs.acs.org/doi/suppl/10.1021/acs.jproteome.4c00338/suppl_file/pr4c00338_si_001.pdf\" rel=\"noopener noreferrer\" target=\"_blank\"> PDF </a> ) </p> <p id=\"P42\"> All identified proteins and upregulated proteins in P53 pathways in monoculture and coculture cells ( <a class=\"usa-link usa-link--external\" href=\"https://pubs.acs.org/doi/suppl/10.1021/acs.jproteome.4c00338/suppl_file/pr4c00338_si_002.xlsx\" rel=\"noopener noreferrer\" target=\"_blank\"> XLSX </a> ) </p> <p id=\"P420\"> Volcano plot of proteins in monoculture and coculture cells ( <a class=\"usa-link usa-link--external\" href=\"https://pubs.acs.org/doi/suppl/10.1021/acs.jproteome.4c00338/suppl_file/pr4c00338_si_003.xlsx\" rel=\"noopener noreferrer\" target=\"_blank\"> XLSX </a> ) </p> <p id=\"P43\"> Enriched upregulated KEGG pathways in monoculture and coculture systems ( <a class=\"usa-link usa-link--external\" href=\"https://pubs.acs.org/doi/suppl/10.1021/acs.jproteome.4c00338/suppl_file/pr4c00338_si_004.xlsx\" rel=\"noopener noreferrer\" target=\"_blank\"> XLSX </a> ) </p> </div> <div class=\"fn p\" id=\"FN2\"> <p id=\"P44\"> The authors declare no competing financial interest. </p> </div> <div class=\"fn p\" id=\"FN3\"> <p id=\"P45\"> Complete contact information is available at: <a class=\"usa-link usa-link--external\" href=\"https://pubs.acs.org/doi/10.1021/acs.jproteome.4c00338?ref=pdf\" rel=\"noopener noreferrer\" target=\"_blank\"> https://pubs.acs.org/10.1021/acs.jproteome.4c00338 </a> </p> </div> </div> \\n<div class=\"fn p\" id=\"FN1\"> <p id=\"P39\"> Supporting Information </p> <p id=\"P40\"> The Supporting Information is available free of charge at <a class=\"usa-link usa-link--external\" href=\"https://pubs.acs.org/doi/10.1021/acs.jproteome.4c00338?goto=supporting-info\" rel=\"noopener noreferrer\" target=\"_blank\"> https://pubs.acs.org/doi/10.1021/acs.jproteome.4c00338 </a> . </p> <p id=\"P41\"> <a class=\"usa-link\" href=\"#SD1\"> Figure S1 </a> , quality control of label-free quantitative proteomics; <a class=\"usa-link\" href=\"#SD1\"> Figure S2 </a> , comparison between the monoculture drug-resistant and drug-sensitive cells; <a class=\"usa-link\" href=\"#SD1\"> Figure S3 </a> , P53 signaling pathway and the highlighted proteins upregulated in drug-resistant cells; <a class=\"usa-link\" href=\"#SD1\"> Figure S4 </a> , workflow of the direct coculture and indirect coculture; and <a class=\"usa-link\" href=\"#SD1\"> Figure S5 </a> , upregulated HIF-1 signaling pathways and TCA cycle in indirect coculture cells ( <a class=\"usa-link usa-link--external\" href=\"https://pubs.acs.org/doi/suppl/10.1021/acs.jproteome.4c00338/suppl_file/pr4c00338_si_001.pdf\" rel=\"noopener noreferrer\" target=\"_blank\"> PDF </a> ) </p> <p id=\"P42\"> All identified proteins and upregulated proteins in P53 pathways in monoculture and coculture cells ( <a class=\"usa-link usa-link--external\" href=\"https://pubs.acs.org/doi/suppl/10.1021/acs.jproteome.4c00338/suppl_file/pr4c00338_si_002.xlsx\" rel=\"noopener noreferrer\" target=\"_blank\"> XLSX </a> ) </p> <p id=\"P420\"> Volcano plot of proteins in monoculture and coculture cells ( <a class=\"usa-link usa-link--external\" href=\"https://pubs.acs.org/doi/suppl/10.1021/acs.jproteome.4c00338/suppl_file/pr4c00338_si_003.xlsx\" rel=\"noopener noreferrer\" target=\"_blank\"> XLSX </a> ) </p> <p id=\"P43\"> Enriched upregulated KEGG pathways in monoculture and coculture systems ( <a class=\"usa-link usa-link--external\" href=\"https://pubs.acs.org/doi/suppl/10.1021/acs.jproteome.4c00338/suppl_file/pr4c00338_si_004.xlsx\" rel=\"noopener noreferrer\" target=\"_blank\"> XLSX </a> ) </p> </div> \\n<p id=\"P39\"> Supporting Information </p> \\n<p id=\"P40\"> The Supporting Information is available free of charge at <a class=\"usa-link usa-link--external\" href=\"https://pubs.acs.org/doi/10.1021/acs.jproteome.4c00338?goto=supporting-info\" rel=\"noopener noreferrer\" target=\"_blank\"> https://pubs.acs.org/doi/10.1021/acs.jproteome.4c00338 </a> . </p> \\n<a class=\"usa-link usa-link--external\" href=\"https://pubs.acs.org/doi/10.1021/acs.jproteome.4c00338?goto=supporting-info\" rel=\"noopener noreferrer\" target=\"_blank\"> https://pubs.acs.org/doi/10.1021/acs.jproteome.4c00338 </a> \\n<p id=\"P41\"> <a class=\"usa-link\" href=\"#SD1\"> Figure S1 </a> , quality control of label-free quantitative proteomics; <a class=\"usa-link\" href=\"#SD1\"> Figure S2 </a> , comparison between the monoculture drug-resistant and drug-sensitive cells; <a class=\"usa-link\" href=\"#SD1\"> Figure S3 </a> , P53 signaling pathway and the highlighted proteins upregulated in drug-resistant cells; <a class=\"usa-link\" href=\"#SD1\"> Figure S4 </a> , workflow of the direct coculture and indirect coculture; and <a class=\"usa-link\" href=\"#SD1\"> Figure S5 </a> , upregulated HIF-1 signaling pathways and TCA cycle in indirect coculture cells ( <a class=\"usa-link usa-link--external\" href=\"https://pubs.acs.org/doi/suppl/10.1021/acs.jproteome.4c00338/suppl_file/pr4c00338_si_001.pdf\" rel=\"noopener noreferrer\" target=\"_blank\"> PDF </a> ) </p> \\n<a class=\"usa-link\" href=\"#SD1\"> Figure S1 </a> \\n<a class=\"usa-link\" href=\"#SD1\"> Figure S2 </a> \\n<a class=\"usa-link\" href=\"#SD1\"> Figure S3 </a> \\n<a class=\"usa-link\" href=\"#SD1\"> Figure S4 </a> \\n<a class=\"usa-link\" href=\"#SD1\"> Figure S5 </a> \\n<a class=\"usa-link usa-link--external\" href=\"https://pubs.acs.org/doi/suppl/10.1021/acs.jproteome.4c00338/suppl_file/pr4c00338_si_001.pdf\" rel=\"noopener noreferrer\" target=\"_blank\"> PDF </a> \\n<p id=\"P42\"> All identified proteins and upregulated proteins in P53 pathways in monoculture and coculture cells ( <a class=\"usa-link usa-link--external\" href=\"https://pubs.acs.org/doi/suppl/10.1021/acs.jproteome.4c00338/suppl_file/pr4c00338_si_002.xlsx\" rel=\"noopener noreferrer\" target=\"_blank\"> XLSX </a> ) </p> \\n<a class=\"usa-link usa-link--external\" href=\"https://pubs.acs.org/doi/suppl/10.1021/acs.jproteome.4c00338/suppl_file/pr4c00338_si_002.xlsx\" rel=\"noopener noreferrer\" target=\"_blank\"> XLSX </a> \\n<p id=\"P420\"> Volcano plot of proteins in monoculture and coculture cells ( <a class=\"usa-link usa-link--external\" href=\"https://pubs.acs.org/doi/suppl/10.1021/acs.jproteome.4c00338/suppl_file/pr4c00338_si_003.xlsx\" rel=\"noopener noreferrer\" target=\"_blank\"> XLSX </a> ) </p> \\n<a class=\"usa-link usa-link--external\" href=\"https://pubs.acs.org/doi/suppl/10.1021/acs.jproteome.4c00338/suppl_file/pr4c00338_si_003.xlsx\" rel=\"noopener noreferrer\" target=\"_blank\"> XLSX </a> \\n<p id=\"P43\"> Enriched upregulated KEGG pathways in monoculture and coculture systems ( <a class=\"usa-link usa-link--external\" href=\"https://pubs.acs.org/doi/suppl/10.1021/acs.jproteome.4c00338/suppl_file/pr4c00338_si_004.xlsx\" rel=\"noopener noreferrer\" target=\"_blank\"> XLSX </a> ) </p> \\n<a class=\"usa-link usa-link--external\" href=\"https://pubs.acs.org/doi/suppl/10.1021/acs.jproteome.4c00338/suppl_file/pr4c00338_si_004.xlsx\" rel=\"noopener noreferrer\" target=\"_blank\"> XLSX </a> \\n<div class=\"fn p\" id=\"FN2\"> <p id=\"P44\"> The authors declare no competing financial interest. </p> </div> \\n<p id=\"P44\"> The authors declare no competing financial interest. </p> \\n<div class=\"fn p\" id=\"FN3\"> <p id=\"P45\"> Complete contact information is available at: <a class=\"usa-link usa-link--external\" href=\"https://pubs.acs.org/doi/10.1021/acs.jproteome.4c00338?ref=pdf\" rel=\"noopener noreferrer\" target=\"_blank\"> https://pubs.acs.org/10.1021/acs.jproteome.4c00338 </a> </p> </div> \\n<p id=\"P45\"> Complete contact information is available at: <a class=\"usa-link usa-link--external\" href=\"https://pubs.acs.org/doi/10.1021/acs.jproteome.4c00338?ref=pdf\" rel=\"noopener noreferrer\" target=\"_blank\"> https://pubs.acs.org/10.1021/acs.jproteome.4c00338 </a> </p> \\n<a class=\"usa-link usa-link--external\" href=\"https://pubs.acs.org/doi/10.1021/acs.jproteome.4c00338?ref=pdf\" rel=\"noopener noreferrer\" target=\"_blank\"> https://pubs.acs.org/10.1021/acs.jproteome.4c00338 </a> \\n'}\n",
      "parser.py - line 1502 - INFO - Found 6 data availability elements from HTML.\n",
      "parser.py - line 1099 - INFO - Loading prompt: retrieve_datasets_simple_JSON_gemini\n",
      "prompt_manager.py - line 29 - INFO - Loading prompt: retrieve_datasets_simple_JSON_gemini from user_prompt_dir: None, subdir: \n",
      "parser.py - line 1869 - WARNING - Expected string but got list. Converting list to string.\n",
      "parser.py - line 1108 - INFO - static_prompt: [{'role': 'model', 'parts': [{'text': \"You are a specialized assistant that extracts dataset references from the content of scientific papers. You must output a JSON array of objects, where each object has the following keys: 'dataset_identifier', 'data_repository', and 'dataset_webpage'. Follow the structure of the provided examples exactly.\"}]}, {'role': 'user', 'parts': [{'text': 'Extract dataset references based on the examples below:\\n\\nExample 1:\\nContent: \\'The study used dataset EGAS00001000925, which is available at the European Genome Archive.\\'\\nResponse:\\n[\\n    [\\n        \"dataset_identifier\": \"EGAS00893672193\",\\n        \"data_repository\": \"European Genome Archive\",\\n        \"dataset_webpage\": \"https://ega-archive.org/studies/EGAS00001000925\"\\n    ]\\n]\\n\\nExample 2:\\nContent: \\'Proteomics data was obtained from PRIDE, accession PXD029821.\\'\\nResponse:\\n[\\n    [\\n        \"dataset_identifier\": \"PXD029821\",\\n        \"data_repository\": \"PRIDE\",\\n        \"dataset_webpage\": \"https://www.ebi.ac.uk/pride/archive/projects/PXD029821\"\\n    ]\\n]\\n\\nExample 3:\\nContent: \\'The repository dbGaP hosts the dataset phs001366.v1.p1 at this location.\\'\\nResponse:\\n[\\n    [\\n        \"dataset_identifier\": \"phs001366.v1.p1\",\\n        \"data_repository\": \"dbGaP\",\\n        \"dataset_webpage\": \"https://www.ncbi.nlm.nih.gov/projects/gap/cgi-bin/study.cgi?study_id=phs001366.v1.p1\"\\n    ]\\n]\\n\\nNow process the following content:\\n\\nContent: {content}'}]}]\n",
      "parser.py - line 1869 - WARNING - Expected string but got list. Converting list to string.\n",
      "parser.py - line 1117 - INFO - Prompt messages total length: 1 tokens\n",
      "parser.py - line 1123 - INFO - Prompt ID: gemini-2.0-flash-0.0-d4b92ed26f2d8bf80d027a45e3e38554d8af43db2f8e687e849b972a4afa5bb5\n",
      "prompt_manager.py - line 25 - INFO - Prompt saved to prompts/prompt_evals/gemini-2.0-flash-0.0-d4b92ed26f2d8bf80d027a45e3e38554d8af43db2f8e687e849b972a4afa5bb5.json\n",
      "parser.py - line 1869 - WARNING - Expected string but got list. Converting list to string.\n",
      "parser.py - line 1142 - INFO - Requesting datasets from content using model: gemini-2.0-flash, temperature: 0.0, messages: 1 tokens\n",
      "parser.py - line 1220 - INFO - Found 1 candidates in the response.\n",
      "parser.py - line 1222 - INFO - Gemini response text: [\n",
      "    {\n",
      "        \"dataset_id\": \"MSV000092944\",\n",
      "        \"repository_reference\": \"MassIVE\"\n",
      "    }\n",
      "]\n",
      "parser.py - line 1766 - INFO - Fetching metadata for 1 datasets\n",
      "parser.py - line 1774 - INFO - Processing dataset 1 with keys: dict_keys(['dataset_id', 'repository_reference'])\n",
      "parser.py - line 1785 - INFO - Raw accession ID: MSV000092944\n",
      "parser.py - line 1723 - INFO - Resolving data repository for: MassIVE\n",
      "parser.py - line 1743 - INFO - Found repo_name match for MassIVE\n",
      "parser.py - line 1723 - INFO - Resolving data repository for: massive.ucsd.edu\n",
      "parser.py - line 1738 - INFO - Exact match found for repo: massive.ucsd.edu\n",
      "parser.py - line 1705 - INFO - Resolving accession ID for MSV000092944 in massive.ucsd.edu\n",
      "parser.py - line 1802 - INFO - Processing dataset 1 with repo: massive.ucsd.edu and accession_id: MSV000092944\n",
      "parser.py - line 1820 - INFO - Dataset page: https://massive.ucsd.edu/ProteoSAFe/dataset.jsp?accession=MSV000092944\n",
      "parser.py - line 1825 - INFO - Adding access mode for dataset 1: Complex download\n",
      "parser.py - line 1832 - INFO - Updated datasets len: 1\n",
      "parser.py - line 511 - INFO - Dataset Links type: <class 'pandas.core.frame.DataFrame'> of len 15, with cols: Index(['dataset_id', 'repository_reference', 'dataset_webpage', 'access_mode',\n",
      "       'link', 'title', 'file_info', 'description', 'source_section',\n",
      "       'section_class', 'download_link', 'file_extension', 'a_attr_href',\n",
      "       'a_attr_class', 'a_attr_data-ga-action', 'a_attr_target', 'a_attr_rel'],\n",
      "      dtype='object')\n"
     ]
    },
    {
     "name": "stdout",
     "output_type": "stream",
     "text": [
      "Parsed data from https://www.ncbi.nlm.nih.gov/pmc/articles/pmc11425778. Found 3 datasets.\n"
     ]
    },
    {
     "name": "stderr",
     "output_type": "stream",
     "text": [
      "parser.py - line 382 - INFO - Function call: parse_data(api_data(<class 'str'>), PMC, https://pmc.ncbi.nlm.nih.gov/articles/PMC7233456/, additional_data, full_HTML)\n",
      "parser.py - line 494 - INFO - Chunking the HTML content for the parsing step.\n",
      "parser.py - line 730 - INFO - Function_call: extract_href_from_html_supplementary_material(tree, https://pmc.ncbi.nlm.nih.gov/articles/PMC7233456/)\n",
      "parser.py - line 790 - INFO - Extracted 61 unique supplementary material links from HTML.\n",
      "parser.py - line 541 - INFO - Function_call: normalize_full_DOM(api_data). Length of raw api data: 197202 tokens\n",
      "parser.py - line 1453 - INFO - Extracting data availability elements from HTML\n",
      "parser.py - line 1464 - INFO - Using selector: section.data-availability-statement\n",
      "parser.py - line 1500 - INFO - Extracted data availability element: {'retrieval_pattern': 'section.data-availability-statement', 'text': 'Processed data tables are available inTable S2. Data used for the manuscript are also available through a Python package called ‘cptac’ (https://pypi.org/project/cptac/, install via pip) to allow programmatic access and LinkedOmics (http://www.linkedomics.org/) (Vasaikar et al., 2018) to allow association and pathway analysis. Raw genomic data is available from the Genomic Data Commons (https://gdc.cancer.gov/) or upon request from dbGaP (https://www.ncbi.nlm.nih.gov/gap/, phs001287) and proteomic data is available via the CPTAC Data Portal (https://cptac-data-portal.georgetown.edu/cptacPublic/). \\nTable S2 \\nhttps://pypi.org/project/cptac/ \\nhttp://www.linkedomics.org/ \\nVasaikar et al., 2018 \\nhttps://gdc.cancer.gov/ \\nhttps://www.ncbi.nlm.nih.gov/gap/ \\nhttps://cptac-data-portal.georgetown.edu/cptacPublic/ \\n', 'html': '<p> Processed data tables are available in <a class=\"usa-link\" href=\"#SD2\"> Table S2 </a> . Data used for the manuscript are also available through a Python package called ‘cptac’ ( <a class=\"usa-link usa-link--external\" href=\"https://pypi.org/project/cptac/\" rel=\"noopener noreferrer\" target=\"_blank\"> https://pypi.org/project/cptac/ </a> , install via pip) to allow programmatic access and LinkedOmics ( <a class=\"usa-link usa-link--external\" href=\"http://www.linkedomics/\" rel=\"noopener noreferrer\" target=\"_blank\"> http://www.linkedomics.org/ </a> ) ( <a aria-describedby=\"R154\" aria-expanded=\"false\" class=\"usa-link\" href=\"#R154\"> Vasaikar et al., 2018 </a> ) to allow association and pathway analysis. Raw genomic data is available from the Genomic Data Commons ( <a class=\"usa-link usa-link--external\" href=\"https://gdc.cancer.gov/\" rel=\"noopener noreferrer\" target=\"_blank\"> https://gdc.cancer.gov/ </a> ) or upon request from dbGaP ( <a class=\"usa-link\" href=\"https://www.ncbi.nlm.nih.gov/gap/\" rel=\"noopener noreferrer\" target=\"_blank\"> https://www.ncbi.nlm.nih.gov/gap/ </a> , phs001287) and proteomic data is available via the CPTAC Data Portal ( <a class=\"usa-link usa-link--external\" href=\"https://cptac-data-portal.georgetown.edu/cptacPublic/\" rel=\"noopener noreferrer\" target=\"_blank\"> https://cptac-data-portal.georgetown.edu/cptacPublic/ </a> ). </p> \\n<a class=\"usa-link\" href=\"#SD2\"> Table S2 </a> \\n<a class=\"usa-link usa-link--external\" href=\"https://pypi.org/project/cptac/\" rel=\"noopener noreferrer\" target=\"_blank\"> https://pypi.org/project/cptac/ </a> \\n<a class=\"usa-link usa-link--external\" href=\"http://www.linkedomics/\" rel=\"noopener noreferrer\" target=\"_blank\"> http://www.linkedomics.org/ </a> \\n<a aria-describedby=\"R154\" aria-expanded=\"false\" class=\"usa-link\" href=\"#R154\"> Vasaikar et al., 2018 </a> \\n<a class=\"usa-link usa-link--external\" href=\"https://gdc.cancer.gov/\" rel=\"noopener noreferrer\" target=\"_blank\"> https://gdc.cancer.gov/ </a> \\n<a class=\"usa-link\" href=\"https://www.ncbi.nlm.nih.gov/gap/\" rel=\"noopener noreferrer\" target=\"_blank\"> https://www.ncbi.nlm.nih.gov/gap/ </a> \\n<a class=\"usa-link usa-link--external\" href=\"https://cptac-data-portal.georgetown.edu/cptacPublic/\" rel=\"noopener noreferrer\" target=\"_blank\"> https://cptac-data-portal.georgetown.edu/cptacPublic/ </a> \\n'}\n",
      "parser.py - line 1464 - INFO - Using selector: section.associated-data\n",
      "parser.py - line 1500 - INFO - Extracted data availability element: {'retrieval_pattern': 'section.associated-data', 'text': 'This section collects any data citations, data availability statements, or supplementary materials included in this article. \\n1 \\nNIHMS1566438-supplement-1.xlsx(191.2KB, xlsx) \\nNIHMS1566438-supplement-1.xlsx(191.2KB, xlsx) \\nNIHMS1566438-supplement-1.xlsx \\n2 \\nNIHMS1566438-supplement-2.xlsx(129.9MB, xlsx) \\nNIHMS1566438-supplement-2.xlsx(129.9MB, xlsx) \\nNIHMS1566438-supplement-2.xlsx \\n3 \\nNIHMS1566438-supplement-3.xlsx(141.2KB, xlsx) \\nNIHMS1566438-supplement-3.xlsx(141.2KB, xlsx) \\nNIHMS1566438-supplement-3.xlsx \\n4 \\nNIHMS1566438-supplement-4.xlsx(44.1KB, xlsx) \\nNIHMS1566438-supplement-4.xlsx(44.1KB, xlsx) \\nNIHMS1566438-supplement-4.xlsx \\n5 \\nNIHMS1566438-supplement-5.xlsx(1.1MB, xlsx) \\nNIHMS1566438-supplement-5.xlsx(1.1MB, xlsx) \\nNIHMS1566438-supplement-5.xlsx \\n6 \\nNIHMS1566438-supplement-6.xlsx(13.4MB, xlsx) \\nNIHMS1566438-supplement-6.xlsx(13.4MB, xlsx) \\nNIHMS1566438-supplement-6.xlsx \\n7 \\nNIHMS1566438-supplement-7.xlsx(125.2KB, xlsx) \\nNIHMS1566438-supplement-7.xlsx(125.2KB, xlsx) \\nNIHMS1566438-supplement-7.xlsx \\n8 \\nNIHMS1566438-supplement-8.pdf(13.8MB, pdf) \\nNIHMS1566438-supplement-8.pdf(13.8MB, pdf) \\nNIHMS1566438-supplement-8.pdf \\nProcessed data tables are available inTable S2. Data used for the manuscript are also available through a Python package called ‘cptac’ (https://pypi.org/project/cptac/, install via pip) to allow programmatic access and LinkedOmics (http://www.linkedomics.org/) (Vasaikar et al., 2018) to allow association and pathway analysis. Raw genomic data is available from the Genomic Data Commons (https://gdc.cancer.gov/) or upon request from dbGaP (https://www.ncbi.nlm.nih.gov/gap/, phs001287) and proteomic data is available via the CPTAC Data Portal (https://cptac-data-portal.georgetown.edu/cptacPublic/). \\nTable S2 \\nhttps://pypi.org/project/cptac/ \\nhttp://www.linkedomics.org/ \\nVasaikar et al., 2018 \\nhttps://gdc.cancer.gov/ \\nhttps://www.ncbi.nlm.nih.gov/gap/ \\nhttps://cptac-data-portal.georgetown.edu/cptacPublic/ \\n', 'html': '<p class=\"font-secondary\"> <em> This section collects any data citations, data availability statements, or supplementary materials included in this article. </em> </p> \\n<div class=\"caption p\"> <span> 1 </span> </div> \\n<div class=\"media p\"> <div class=\"caption\"> <a class=\"usa-link\" href=\"/articles/instance/7233456/bin/NIHMS1566438-supplement-1.xlsx\"> NIHMS1566438-supplement-1.xlsx </a> <sup> (191.2KB, xlsx) </sup> </div> </div> \\n<div class=\"caption\"> <a class=\"usa-link\" href=\"/articles/instance/7233456/bin/NIHMS1566438-supplement-1.xlsx\"> NIHMS1566438-supplement-1.xlsx </a> <sup> (191.2KB, xlsx) </sup> </div> \\n<a class=\"usa-link\" href=\"/articles/instance/7233456/bin/NIHMS1566438-supplement-1.xlsx\"> NIHMS1566438-supplement-1.xlsx </a> \\n<div class=\"caption p\"> <span> 2 </span> </div> \\n<div class=\"media p\"> <div class=\"caption\"> <a class=\"usa-link\" href=\"/articles/instance/7233456/bin/NIHMS1566438-supplement-2.xlsx\"> NIHMS1566438-supplement-2.xlsx </a> <sup> (129.9MB, xlsx) </sup> </div> </div> \\n<div class=\"caption\"> <a class=\"usa-link\" href=\"/articles/instance/7233456/bin/NIHMS1566438-supplement-2.xlsx\"> NIHMS1566438-supplement-2.xlsx </a> <sup> (129.9MB, xlsx) </sup> </div> \\n<a class=\"usa-link\" href=\"/articles/instance/7233456/bin/NIHMS1566438-supplement-2.xlsx\"> NIHMS1566438-supplement-2.xlsx </a> \\n<div class=\"caption p\"> <span> 3 </span> </div> \\n<div class=\"media p\"> <div class=\"caption\"> <a class=\"usa-link\" href=\"/articles/instance/7233456/bin/NIHMS1566438-supplement-3.xlsx\"> NIHMS1566438-supplement-3.xlsx </a> <sup> (141.2KB, xlsx) </sup> </div> </div> \\n<div class=\"caption\"> <a class=\"usa-link\" href=\"/articles/instance/7233456/bin/NIHMS1566438-supplement-3.xlsx\"> NIHMS1566438-supplement-3.xlsx </a> <sup> (141.2KB, xlsx) </sup> </div> \\n<a class=\"usa-link\" href=\"/articles/instance/7233456/bin/NIHMS1566438-supplement-3.xlsx\"> NIHMS1566438-supplement-3.xlsx </a> \\n<div class=\"caption p\"> <span> 4 </span> </div> \\n<div class=\"media p\"> <div class=\"caption\"> <a class=\"usa-link\" href=\"/articles/instance/7233456/bin/NIHMS1566438-supplement-4.xlsx\"> NIHMS1566438-supplement-4.xlsx </a> <sup> (44.1KB, xlsx) </sup> </div> </div> \\n<div class=\"caption\"> <a class=\"usa-link\" href=\"/articles/instance/7233456/bin/NIHMS1566438-supplement-4.xlsx\"> NIHMS1566438-supplement-4.xlsx </a> <sup> (44.1KB, xlsx) </sup> </div> \\n<a class=\"usa-link\" href=\"/articles/instance/7233456/bin/NIHMS1566438-supplement-4.xlsx\"> NIHMS1566438-supplement-4.xlsx </a> \\n<div class=\"caption p\"> <span> 5 </span> </div> \\n<div class=\"media p\"> <div class=\"caption\"> <a class=\"usa-link\" href=\"/articles/instance/7233456/bin/NIHMS1566438-supplement-5.xlsx\"> NIHMS1566438-supplement-5.xlsx </a> <sup> (1.1MB, xlsx) </sup> </div> </div> \\n<div class=\"caption\"> <a class=\"usa-link\" href=\"/articles/instance/7233456/bin/NIHMS1566438-supplement-5.xlsx\"> NIHMS1566438-supplement-5.xlsx </a> <sup> (1.1MB, xlsx) </sup> </div> \\n<a class=\"usa-link\" href=\"/articles/instance/7233456/bin/NIHMS1566438-supplement-5.xlsx\"> NIHMS1566438-supplement-5.xlsx </a> \\n<div class=\"caption p\"> <span> 6 </span> </div> \\n<div class=\"media p\"> <div class=\"caption\"> <a class=\"usa-link\" href=\"/articles/instance/7233456/bin/NIHMS1566438-supplement-6.xlsx\"> NIHMS1566438-supplement-6.xlsx </a> <sup> (13.4MB, xlsx) </sup> </div> </div> \\n<div class=\"caption\"> <a class=\"usa-link\" href=\"/articles/instance/7233456/bin/NIHMS1566438-supplement-6.xlsx\"> NIHMS1566438-supplement-6.xlsx </a> <sup> (13.4MB, xlsx) </sup> </div> \\n<a class=\"usa-link\" href=\"/articles/instance/7233456/bin/NIHMS1566438-supplement-6.xlsx\"> NIHMS1566438-supplement-6.xlsx </a> \\n<div class=\"caption p\"> <span> 7 </span> </div> \\n<div class=\"media p\"> <div class=\"caption\"> <a class=\"usa-link\" href=\"/articles/instance/7233456/bin/NIHMS1566438-supplement-7.xlsx\"> NIHMS1566438-supplement-7.xlsx </a> <sup> (125.2KB, xlsx) </sup> </div> </div> \\n<div class=\"caption\"> <a class=\"usa-link\" href=\"/articles/instance/7233456/bin/NIHMS1566438-supplement-7.xlsx\"> NIHMS1566438-supplement-7.xlsx </a> <sup> (125.2KB, xlsx) </sup> </div> \\n<a class=\"usa-link\" href=\"/articles/instance/7233456/bin/NIHMS1566438-supplement-7.xlsx\"> NIHMS1566438-supplement-7.xlsx </a> \\n<div class=\"caption p\"> <span> 8 </span> </div> \\n<div class=\"media p\"> <div class=\"caption\"> <a class=\"usa-link\" href=\"/articles/instance/7233456/bin/NIHMS1566438-supplement-8.pdf\"> NIHMS1566438-supplement-8.pdf </a> <sup> (13.8MB, pdf) </sup> </div> </div> \\n<div class=\"caption\"> <a class=\"usa-link\" href=\"/articles/instance/7233456/bin/NIHMS1566438-supplement-8.pdf\"> NIHMS1566438-supplement-8.pdf </a> <sup> (13.8MB, pdf) </sup> </div> \\n<a class=\"usa-link\" href=\"/articles/instance/7233456/bin/NIHMS1566438-supplement-8.pdf\"> NIHMS1566438-supplement-8.pdf </a> \\n<p> Processed data tables are available in <a class=\"usa-link\" href=\"#SD2\"> Table S2 </a> . Data used for the manuscript are also available through a Python package called ‘cptac’ ( <a class=\"usa-link usa-link--external\" href=\"https://pypi.org/project/cptac/\" rel=\"noopener noreferrer\" target=\"_blank\"> https://pypi.org/project/cptac/ </a> , install via pip) to allow programmatic access and LinkedOmics ( <a class=\"usa-link usa-link--external\" href=\"http://www.linkedomics/\" rel=\"noopener noreferrer\" target=\"_blank\"> http://www.linkedomics.org/ </a> ) ( <a aria-describedby=\"R154\" aria-expanded=\"false\" class=\"usa-link\" href=\"#R154\"> Vasaikar et al., 2018 </a> ) to allow association and pathway analysis. Raw genomic data is available from the Genomic Data Commons ( <a class=\"usa-link usa-link--external\" href=\"https://gdc.cancer.gov/\" rel=\"noopener noreferrer\" target=\"_blank\"> https://gdc.cancer.gov/ </a> ) or upon request from dbGaP ( <a class=\"usa-link\" href=\"https://www.ncbi.nlm.nih.gov/gap/\" rel=\"noopener noreferrer\" target=\"_blank\"> https://www.ncbi.nlm.nih.gov/gap/ </a> , phs001287) and proteomic data is available via the CPTAC Data Portal ( <a class=\"usa-link usa-link--external\" href=\"https://cptac-data-portal.georgetown.edu/cptacPublic/\" rel=\"noopener noreferrer\" target=\"_blank\"> https://cptac-data-portal.georgetown.edu/cptacPublic/ </a> ). </p> \\n<a class=\"usa-link\" href=\"#SD2\"> Table S2 </a> \\n<a class=\"usa-link usa-link--external\" href=\"https://pypi.org/project/cptac/\" rel=\"noopener noreferrer\" target=\"_blank\"> https://pypi.org/project/cptac/ </a> \\n<a class=\"usa-link usa-link--external\" href=\"http://www.linkedomics/\" rel=\"noopener noreferrer\" target=\"_blank\"> http://www.linkedomics.org/ </a> \\n<a aria-describedby=\"R154\" aria-expanded=\"false\" class=\"usa-link\" href=\"#R154\"> Vasaikar et al., 2018 </a> \\n<a class=\"usa-link usa-link--external\" href=\"https://gdc.cancer.gov/\" rel=\"noopener noreferrer\" target=\"_blank\"> https://gdc.cancer.gov/ </a> \\n<a class=\"usa-link\" href=\"https://www.ncbi.nlm.nih.gov/gap/\" rel=\"noopener noreferrer\" target=\"_blank\"> https://www.ncbi.nlm.nih.gov/gap/ </a> \\n<a class=\"usa-link usa-link--external\" href=\"https://cptac-data-portal.georgetown.edu/cptacPublic/\" rel=\"noopener noreferrer\" target=\"_blank\"> https://cptac-data-portal.georgetown.edu/cptacPublic/ </a> \\n'}\n",
      "parser.py - line 1464 - INFO - Using selector: h2.pmc_sec_title:-soup-contains('Data Availability')\n",
      "parser.py - line 1464 - INFO - Using selector: h3.pmc_sec_title:-soup-contains('Data Availability')\n",
      "parser.py - line 1500 - INFO - Extracted data availability element: {'retrieval_pattern': \"h3.pmc_sec_title:-soup-contains('Data Availability')\", 'text': 'Processed data tables are available inTable S2. Data used for the manuscript are also available through a Python package called ‘cptac’ (https://pypi.org/project/cptac/, install via pip) to allow programmatic access and LinkedOmics (http://www.linkedomics.org/) (Vasaikar et al., 2018) to allow association and pathway analysis. Raw genomic data is available from the Genomic Data Commons (https://gdc.cancer.gov/) or upon request from dbGaP (https://www.ncbi.nlm.nih.gov/gap/, phs001287) and proteomic data is available via the CPTAC Data Portal (https://cptac-data-portal.georgetown.edu/cptacPublic/). \\nTable S2 \\nhttps://pypi.org/project/cptac/ \\nhttp://www.linkedomics.org/ \\nVasaikar et al., 2018 \\nhttps://gdc.cancer.gov/ \\nhttps://www.ncbi.nlm.nih.gov/gap/ \\nhttps://cptac-data-portal.georgetown.edu/cptacPublic/ \\n', 'html': '<p> Processed data tables are available in <a class=\"usa-link\" href=\"#SD2\"> Table S2 </a> . Data used for the manuscript are also available through a Python package called ‘cptac’ ( <a class=\"usa-link usa-link--external\" href=\"https://pypi.org/project/cptac/\" rel=\"noopener noreferrer\" target=\"_blank\"> https://pypi.org/project/cptac/ </a> , install via pip) to allow programmatic access and LinkedOmics ( <a class=\"usa-link usa-link--external\" href=\"http://www.linkedomics/\" rel=\"noopener noreferrer\" target=\"_blank\"> http://www.linkedomics.org/ </a> ) ( <a aria-describedby=\"R154\" aria-expanded=\"false\" class=\"usa-link\" href=\"#R154\"> Vasaikar et al., 2018 </a> ) to allow association and pathway analysis. Raw genomic data is available from the Genomic Data Commons ( <a class=\"usa-link usa-link--external\" href=\"https://gdc.cancer.gov/\" rel=\"noopener noreferrer\" target=\"_blank\"> https://gdc.cancer.gov/ </a> ) or upon request from dbGaP ( <a class=\"usa-link\" href=\"https://www.ncbi.nlm.nih.gov/gap/\" rel=\"noopener noreferrer\" target=\"_blank\"> https://www.ncbi.nlm.nih.gov/gap/ </a> , phs001287) and proteomic data is available via the CPTAC Data Portal ( <a class=\"usa-link usa-link--external\" href=\"https://cptac-data-portal.georgetown.edu/cptacPublic/\" rel=\"noopener noreferrer\" target=\"_blank\"> https://cptac-data-portal.georgetown.edu/cptacPublic/ </a> ). </p> \\n<a class=\"usa-link\" href=\"#SD2\"> Table S2 </a> \\n<a class=\"usa-link usa-link--external\" href=\"https://pypi.org/project/cptac/\" rel=\"noopener noreferrer\" target=\"_blank\"> https://pypi.org/project/cptac/ </a> \\n<a class=\"usa-link usa-link--external\" href=\"http://www.linkedomics/\" rel=\"noopener noreferrer\" target=\"_blank\"> http://www.linkedomics.org/ </a> \\n<a aria-describedby=\"R154\" aria-expanded=\"false\" class=\"usa-link\" href=\"#R154\"> Vasaikar et al., 2018 </a> \\n<a class=\"usa-link usa-link--external\" href=\"https://gdc.cancer.gov/\" rel=\"noopener noreferrer\" target=\"_blank\"> https://gdc.cancer.gov/ </a> \\n<a class=\"usa-link\" href=\"https://www.ncbi.nlm.nih.gov/gap/\" rel=\"noopener noreferrer\" target=\"_blank\"> https://www.ncbi.nlm.nih.gov/gap/ </a> \\n<a class=\"usa-link usa-link--external\" href=\"https://cptac-data-portal.georgetown.edu/cptacPublic/\" rel=\"noopener noreferrer\" target=\"_blank\"> https://cptac-data-portal.georgetown.edu/cptacPublic/ </a> \\n'}\n",
      "parser.py - line 1464 - INFO - Using selector: h2.pmc_sec_title:-soup-contains('Associated Data')\n",
      "parser.py - line 1500 - INFO - Extracted data availability element: {'retrieval_pattern': \"h2.pmc_sec_title:-soup-contains('Associated Data')\", 'text': 'This section collects any data citations, data availability statements, or supplementary materials included in this article. \\n1 \\nNIHMS1566438-supplement-1.xlsx(191.2KB, xlsx) \\nNIHMS1566438-supplement-1.xlsx(191.2KB, xlsx) \\nNIHMS1566438-supplement-1.xlsx \\n2 \\nNIHMS1566438-supplement-2.xlsx(129.9MB, xlsx) \\nNIHMS1566438-supplement-2.xlsx(129.9MB, xlsx) \\nNIHMS1566438-supplement-2.xlsx \\n3 \\nNIHMS1566438-supplement-3.xlsx(141.2KB, xlsx) \\nNIHMS1566438-supplement-3.xlsx(141.2KB, xlsx) \\nNIHMS1566438-supplement-3.xlsx \\n4 \\nNIHMS1566438-supplement-4.xlsx(44.1KB, xlsx) \\nNIHMS1566438-supplement-4.xlsx(44.1KB, xlsx) \\nNIHMS1566438-supplement-4.xlsx \\n5 \\nNIHMS1566438-supplement-5.xlsx(1.1MB, xlsx) \\nNIHMS1566438-supplement-5.xlsx(1.1MB, xlsx) \\nNIHMS1566438-supplement-5.xlsx \\n6 \\nNIHMS1566438-supplement-6.xlsx(13.4MB, xlsx) \\nNIHMS1566438-supplement-6.xlsx(13.4MB, xlsx) \\nNIHMS1566438-supplement-6.xlsx \\n7 \\nNIHMS1566438-supplement-7.xlsx(125.2KB, xlsx) \\nNIHMS1566438-supplement-7.xlsx(125.2KB, xlsx) \\nNIHMS1566438-supplement-7.xlsx \\n8 \\nNIHMS1566438-supplement-8.pdf(13.8MB, pdf) \\nNIHMS1566438-supplement-8.pdf(13.8MB, pdf) \\nNIHMS1566438-supplement-8.pdf \\nProcessed data tables are available inTable S2. Data used for the manuscript are also available through a Python package called ‘cptac’ (https://pypi.org/project/cptac/, install via pip) to allow programmatic access and LinkedOmics (http://www.linkedomics.org/) (Vasaikar et al., 2018) to allow association and pathway analysis. Raw genomic data is available from the Genomic Data Commons (https://gdc.cancer.gov/) or upon request from dbGaP (https://www.ncbi.nlm.nih.gov/gap/, phs001287) and proteomic data is available via the CPTAC Data Portal (https://cptac-data-portal.georgetown.edu/cptacPublic/). \\nTable S2 \\nhttps://pypi.org/project/cptac/ \\nhttp://www.linkedomics.org/ \\nVasaikar et al., 2018 \\nhttps://gdc.cancer.gov/ \\nhttps://www.ncbi.nlm.nih.gov/gap/ \\nhttps://cptac-data-portal.georgetown.edu/cptacPublic/ \\n', 'html': '<p class=\"font-secondary\"> <em> This section collects any data citations, data availability statements, or supplementary materials included in this article. </em> </p> \\n<div class=\"caption p\"> <span> 1 </span> </div> \\n<div class=\"media p\"> <div class=\"caption\"> <a class=\"usa-link\" href=\"/articles/instance/7233456/bin/NIHMS1566438-supplement-1.xlsx\"> NIHMS1566438-supplement-1.xlsx </a> <sup> (191.2KB, xlsx) </sup> </div> </div> \\n<div class=\"caption\"> <a class=\"usa-link\" href=\"/articles/instance/7233456/bin/NIHMS1566438-supplement-1.xlsx\"> NIHMS1566438-supplement-1.xlsx </a> <sup> (191.2KB, xlsx) </sup> </div> \\n<a class=\"usa-link\" href=\"/articles/instance/7233456/bin/NIHMS1566438-supplement-1.xlsx\"> NIHMS1566438-supplement-1.xlsx </a> \\n<div class=\"caption p\"> <span> 2 </span> </div> \\n<div class=\"media p\"> <div class=\"caption\"> <a class=\"usa-link\" href=\"/articles/instance/7233456/bin/NIHMS1566438-supplement-2.xlsx\"> NIHMS1566438-supplement-2.xlsx </a> <sup> (129.9MB, xlsx) </sup> </div> </div> \\n<div class=\"caption\"> <a class=\"usa-link\" href=\"/articles/instance/7233456/bin/NIHMS1566438-supplement-2.xlsx\"> NIHMS1566438-supplement-2.xlsx </a> <sup> (129.9MB, xlsx) </sup> </div> \\n<a class=\"usa-link\" href=\"/articles/instance/7233456/bin/NIHMS1566438-supplement-2.xlsx\"> NIHMS1566438-supplement-2.xlsx </a> \\n<div class=\"caption p\"> <span> 3 </span> </div> \\n<div class=\"media p\"> <div class=\"caption\"> <a class=\"usa-link\" href=\"/articles/instance/7233456/bin/NIHMS1566438-supplement-3.xlsx\"> NIHMS1566438-supplement-3.xlsx </a> <sup> (141.2KB, xlsx) </sup> </div> </div> \\n<div class=\"caption\"> <a class=\"usa-link\" href=\"/articles/instance/7233456/bin/NIHMS1566438-supplement-3.xlsx\"> NIHMS1566438-supplement-3.xlsx </a> <sup> (141.2KB, xlsx) </sup> </div> \\n<a class=\"usa-link\" href=\"/articles/instance/7233456/bin/NIHMS1566438-supplement-3.xlsx\"> NIHMS1566438-supplement-3.xlsx </a> \\n<div class=\"caption p\"> <span> 4 </span> </div> \\n<div class=\"media p\"> <div class=\"caption\"> <a class=\"usa-link\" href=\"/articles/instance/7233456/bin/NIHMS1566438-supplement-4.xlsx\"> NIHMS1566438-supplement-4.xlsx </a> <sup> (44.1KB, xlsx) </sup> </div> </div> \\n<div class=\"caption\"> <a class=\"usa-link\" href=\"/articles/instance/7233456/bin/NIHMS1566438-supplement-4.xlsx\"> NIHMS1566438-supplement-4.xlsx </a> <sup> (44.1KB, xlsx) </sup> </div> \\n<a class=\"usa-link\" href=\"/articles/instance/7233456/bin/NIHMS1566438-supplement-4.xlsx\"> NIHMS1566438-supplement-4.xlsx </a> \\n<div class=\"caption p\"> <span> 5 </span> </div> \\n<div class=\"media p\"> <div class=\"caption\"> <a class=\"usa-link\" href=\"/articles/instance/7233456/bin/NIHMS1566438-supplement-5.xlsx\"> NIHMS1566438-supplement-5.xlsx </a> <sup> (1.1MB, xlsx) </sup> </div> </div> \\n<div class=\"caption\"> <a class=\"usa-link\" href=\"/articles/instance/7233456/bin/NIHMS1566438-supplement-5.xlsx\"> NIHMS1566438-supplement-5.xlsx </a> <sup> (1.1MB, xlsx) </sup> </div> \\n<a class=\"usa-link\" href=\"/articles/instance/7233456/bin/NIHMS1566438-supplement-5.xlsx\"> NIHMS1566438-supplement-5.xlsx </a> \\n<div class=\"caption p\"> <span> 6 </span> </div> \\n<div class=\"media p\"> <div class=\"caption\"> <a class=\"usa-link\" href=\"/articles/instance/7233456/bin/NIHMS1566438-supplement-6.xlsx\"> NIHMS1566438-supplement-6.xlsx </a> <sup> (13.4MB, xlsx) </sup> </div> </div> \\n<div class=\"caption\"> <a class=\"usa-link\" href=\"/articles/instance/7233456/bin/NIHMS1566438-supplement-6.xlsx\"> NIHMS1566438-supplement-6.xlsx </a> <sup> (13.4MB, xlsx) </sup> </div> \\n<a class=\"usa-link\" href=\"/articles/instance/7233456/bin/NIHMS1566438-supplement-6.xlsx\"> NIHMS1566438-supplement-6.xlsx </a> \\n<div class=\"caption p\"> <span> 7 </span> </div> \\n<div class=\"media p\"> <div class=\"caption\"> <a class=\"usa-link\" href=\"/articles/instance/7233456/bin/NIHMS1566438-supplement-7.xlsx\"> NIHMS1566438-supplement-7.xlsx </a> <sup> (125.2KB, xlsx) </sup> </div> </div> \\n<div class=\"caption\"> <a class=\"usa-link\" href=\"/articles/instance/7233456/bin/NIHMS1566438-supplement-7.xlsx\"> NIHMS1566438-supplement-7.xlsx </a> <sup> (125.2KB, xlsx) </sup> </div> \\n<a class=\"usa-link\" href=\"/articles/instance/7233456/bin/NIHMS1566438-supplement-7.xlsx\"> NIHMS1566438-supplement-7.xlsx </a> \\n<div class=\"caption p\"> <span> 8 </span> </div> \\n<div class=\"media p\"> <div class=\"caption\"> <a class=\"usa-link\" href=\"/articles/instance/7233456/bin/NIHMS1566438-supplement-8.pdf\"> NIHMS1566438-supplement-8.pdf </a> <sup> (13.8MB, pdf) </sup> </div> </div> \\n<div class=\"caption\"> <a class=\"usa-link\" href=\"/articles/instance/7233456/bin/NIHMS1566438-supplement-8.pdf\"> NIHMS1566438-supplement-8.pdf </a> <sup> (13.8MB, pdf) </sup> </div> \\n<a class=\"usa-link\" href=\"/articles/instance/7233456/bin/NIHMS1566438-supplement-8.pdf\"> NIHMS1566438-supplement-8.pdf </a> \\n<p> Processed data tables are available in <a class=\"usa-link\" href=\"#SD2\"> Table S2 </a> . Data used for the manuscript are also available through a Python package called ‘cptac’ ( <a class=\"usa-link usa-link--external\" href=\"https://pypi.org/project/cptac/\" rel=\"noopener noreferrer\" target=\"_blank\"> https://pypi.org/project/cptac/ </a> , install via pip) to allow programmatic access and LinkedOmics ( <a class=\"usa-link usa-link--external\" href=\"http://www.linkedomics/\" rel=\"noopener noreferrer\" target=\"_blank\"> http://www.linkedomics.org/ </a> ) ( <a aria-describedby=\"R154\" aria-expanded=\"false\" class=\"usa-link\" href=\"#R154\"> Vasaikar et al., 2018 </a> ) to allow association and pathway analysis. Raw genomic data is available from the Genomic Data Commons ( <a class=\"usa-link usa-link--external\" href=\"https://gdc.cancer.gov/\" rel=\"noopener noreferrer\" target=\"_blank\"> https://gdc.cancer.gov/ </a> ) or upon request from dbGaP ( <a class=\"usa-link\" href=\"https://www.ncbi.nlm.nih.gov/gap/\" rel=\"noopener noreferrer\" target=\"_blank\"> https://www.ncbi.nlm.nih.gov/gap/ </a> , phs001287) and proteomic data is available via the CPTAC Data Portal ( <a class=\"usa-link usa-link--external\" href=\"https://cptac-data-portal.georgetown.edu/cptacPublic/\" rel=\"noopener noreferrer\" target=\"_blank\"> https://cptac-data-portal.georgetown.edu/cptacPublic/ </a> ). </p> \\n<a class=\"usa-link\" href=\"#SD2\"> Table S2 </a> \\n<a class=\"usa-link usa-link--external\" href=\"https://pypi.org/project/cptac/\" rel=\"noopener noreferrer\" target=\"_blank\"> https://pypi.org/project/cptac/ </a> \\n<a class=\"usa-link usa-link--external\" href=\"http://www.linkedomics/\" rel=\"noopener noreferrer\" target=\"_blank\"> http://www.linkedomics.org/ </a> \\n<a aria-describedby=\"R154\" aria-expanded=\"false\" class=\"usa-link\" href=\"#R154\"> Vasaikar et al., 2018 </a> \\n<a class=\"usa-link usa-link--external\" href=\"https://gdc.cancer.gov/\" rel=\"noopener noreferrer\" target=\"_blank\"> https://gdc.cancer.gov/ </a> \\n<a class=\"usa-link\" href=\"https://www.ncbi.nlm.nih.gov/gap/\" rel=\"noopener noreferrer\" target=\"_blank\"> https://www.ncbi.nlm.nih.gov/gap/ </a> \\n<a class=\"usa-link usa-link--external\" href=\"https://cptac-data-portal.georgetown.edu/cptacPublic/\" rel=\"noopener noreferrer\" target=\"_blank\"> https://cptac-data-portal.georgetown.edu/cptacPublic/ </a> \\n'}\n",
      "parser.py - line 1464 - INFO - Using selector: h2.pmc_sec_title:-soup-contains('Footnotes')\n",
      "parser.py - line 1500 - INFO - Extracted data availability element: {'retrieval_pattern': \"h2.pmc_sec_title:-soup-contains('Footnotes')\", 'text': 'SUPPLEMENTAL INFORMATIONSupplemental Information can be found online athttps://doi.org/10.1016/j.cell.2020.01.026.DECLARATION OF INTERESTSThe authors declare no competing interests. \\nSUPPLEMENTAL INFORMATIONSupplemental Information can be found online athttps://doi.org/10.1016/j.cell.2020.01.026. \\nSUPPLEMENTAL INFORMATION \\nSupplemental Information can be found online athttps://doi.org/10.1016/j.cell.2020.01.026. \\nhttps://doi.org/10.1016/j.cell.2020.01.026 \\nDECLARATION OF INTERESTSThe authors declare no competing interests. \\nDECLARATION OF INTERESTS \\nThe authors declare no competing interests. \\n', 'html': '<div class=\"fn-group p font-secondary-light font-sm\"> <div class=\"fn p\" id=\"FN3\"> <p id=\"P129\"> SUPPLEMENTAL INFORMATION </p> <p id=\"P130\"> Supplemental Information can be found online at <a class=\"usa-link usa-link--external\" href=\"https://doi.org/10.1016/j.cell.2020.01.026\" rel=\"noopener noreferrer\" target=\"_blank\"> https://doi.org/10.1016/j.cell.2020.01.026 </a> . </p> </div> <div class=\"fn p\" id=\"FN4\"> <p id=\"P131\"> DECLARATION OF INTERESTS </p> <p id=\"P132\"> The authors declare no competing interests. </p> </div> </div> \\n<div class=\"fn p\" id=\"FN3\"> <p id=\"P129\"> SUPPLEMENTAL INFORMATION </p> <p id=\"P130\"> Supplemental Information can be found online at <a class=\"usa-link usa-link--external\" href=\"https://doi.org/10.1016/j.cell.2020.01.026\" rel=\"noopener noreferrer\" target=\"_blank\"> https://doi.org/10.1016/j.cell.2020.01.026 </a> . </p> </div> \\n<p id=\"P129\"> SUPPLEMENTAL INFORMATION </p> \\n<p id=\"P130\"> Supplemental Information can be found online at <a class=\"usa-link usa-link--external\" href=\"https://doi.org/10.1016/j.cell.2020.01.026\" rel=\"noopener noreferrer\" target=\"_blank\"> https://doi.org/10.1016/j.cell.2020.01.026 </a> . </p> \\n<a class=\"usa-link usa-link--external\" href=\"https://doi.org/10.1016/j.cell.2020.01.026\" rel=\"noopener noreferrer\" target=\"_blank\"> https://doi.org/10.1016/j.cell.2020.01.026 </a> \\n<div class=\"fn p\" id=\"FN4\"> <p id=\"P131\"> DECLARATION OF INTERESTS </p> <p id=\"P132\"> The authors declare no competing interests. </p> </div> \\n<p id=\"P131\"> DECLARATION OF INTERESTS </p> \\n<p id=\"P132\"> The authors declare no competing interests. </p> \\n'}\n",
      "parser.py - line 1502 - INFO - Found 5 data availability elements from HTML.\n",
      "parser.py - line 1099 - INFO - Loading prompt: retrieve_datasets_simple_JSON_gemini\n",
      "prompt_manager.py - line 29 - INFO - Loading prompt: retrieve_datasets_simple_JSON_gemini from user_prompt_dir: None, subdir: \n",
      "parser.py - line 1869 - WARNING - Expected string but got list. Converting list to string.\n",
      "parser.py - line 1108 - INFO - static_prompt: [{'role': 'model', 'parts': [{'text': \"You are a specialized assistant that extracts dataset references from the content of scientific papers. You must output a JSON array of objects, where each object has the following keys: 'dataset_identifier', 'data_repository', and 'dataset_webpage'. Follow the structure of the provided examples exactly.\"}]}, {'role': 'user', 'parts': [{'text': 'Extract dataset references based on the examples below:\\n\\nExample 1:\\nContent: \\'The study used dataset EGAS00001000925, which is available at the European Genome Archive.\\'\\nResponse:\\n[\\n    [\\n        \"dataset_identifier\": \"EGAS00893672193\",\\n        \"data_repository\": \"European Genome Archive\",\\n        \"dataset_webpage\": \"https://ega-archive.org/studies/EGAS00001000925\"\\n    ]\\n]\\n\\nExample 2:\\nContent: \\'Proteomics data was obtained from PRIDE, accession PXD029821.\\'\\nResponse:\\n[\\n    [\\n        \"dataset_identifier\": \"PXD029821\",\\n        \"data_repository\": \"PRIDE\",\\n        \"dataset_webpage\": \"https://www.ebi.ac.uk/pride/archive/projects/PXD029821\"\\n    ]\\n]\\n\\nExample 3:\\nContent: \\'The repository dbGaP hosts the dataset phs001366.v1.p1 at this location.\\'\\nResponse:\\n[\\n    [\\n        \"dataset_identifier\": \"phs001366.v1.p1\",\\n        \"data_repository\": \"dbGaP\",\\n        \"dataset_webpage\": \"https://www.ncbi.nlm.nih.gov/projects/gap/cgi-bin/study.cgi?study_id=phs001366.v1.p1\"\\n    ]\\n]\\n\\nNow process the following content:\\n\\nContent: {content}'}]}]\n",
      "parser.py - line 1869 - WARNING - Expected string but got list. Converting list to string.\n",
      "parser.py - line 1117 - INFO - Prompt messages total length: 1 tokens\n",
      "parser.py - line 1123 - INFO - Prompt ID: gemini-2.0-flash-0.0-0d238fc9bd6a8a849d31e7426fe7c9e92fe37d50e391103a7d5a69b83818a786\n",
      "prompt_manager.py - line 25 - INFO - Prompt saved to prompts/prompt_evals/gemini-2.0-flash-0.0-0d238fc9bd6a8a849d31e7426fe7c9e92fe37d50e391103a7d5a69b83818a786.json\n",
      "parser.py - line 1869 - WARNING - Expected string but got list. Converting list to string.\n",
      "parser.py - line 1142 - INFO - Requesting datasets from content using model: gemini-2.0-flash, temperature: 0.0, messages: 1 tokens\n",
      "parser.py - line 1220 - INFO - Found 1 candidates in the response.\n",
      "parser.py - line 1222 - INFO - Gemini response text: [\n",
      "    {\n",
      "        \"dataset_id\": \"phs001287\",\n",
      "        \"repository_reference\": \"dbGaP\"\n",
      "    },\n",
      "    {\n",
      "        \"dataset_id\": \"cptac\",\n",
      "        \"repository_reference\": \"CPTAC Data Portal\"\n",
      "    },\n",
      "    {\n",
      "        \"dataset_id\": \"GDC\",\n",
      "        \"repository_reference\": \"Genomic Data Commons\"\n",
      "    }\n",
      "]\n",
      "parser.py - line 1766 - INFO - Fetching metadata for 3 datasets\n",
      "parser.py - line 1774 - INFO - Processing dataset 1 with keys: dict_keys(['dataset_id', 'repository_reference'])\n",
      "parser.py - line 1785 - INFO - Raw accession ID: phs001287\n",
      "parser.py - line 1723 - INFO - Resolving data repository for: dbGaP\n",
      "parser.py - line 1743 - INFO - Found repo_name match for dbGaP\n",
      "parser.py - line 1723 - INFO - Resolving data repository for: dbgap\n",
      "parser.py - line 1738 - INFO - Exact match found for repo: dbgap\n",
      "parser.py - line 1705 - INFO - Resolving accession ID for phs001287 in dbgap\n",
      "parser.py - line 1710 - WARNING - Identifier phs001287 does not match pattern for dbgap\n",
      "parser.py - line 1802 - INFO - Processing dataset 1 with repo: dbgap and accession_id: phs001287.v1.p1\n",
      "parser.py - line 1820 - INFO - Dataset page: https://www.ncbi.nlm.nih.gov/projects/gap/cgi-bin/study.cgi?study_id=phs001287.v1.p1\n",
      "parser.py - line 1825 - INFO - Adding access mode for dataset 1: Application to access\n",
      "parser.py - line 1774 - INFO - Processing dataset 2 with keys: dict_keys(['dataset_id', 'repository_reference'])\n",
      "parser.py - line 1785 - INFO - Raw accession ID: cptac\n",
      "parser.py - line 1723 - INFO - Resolving data repository for: CPTAC Data Portal\n",
      "parser.py - line 1723 - INFO - Resolving data repository for: cptac data portal\n",
      "parser.py - line 1705 - INFO - Resolving accession ID for cptac in cptac data portal\n",
      "parser.py - line 1802 - INFO - Processing dataset 2 with repo: cptac data portal and accession_id: cptac\n",
      "parser.py - line 1829 - WARNING - Repository cptac data portal not supported in config. Skipping dataset 2.\n",
      "parser.py - line 1774 - INFO - Processing dataset 3 with keys: dict_keys(['dataset_id', 'repository_reference'])\n",
      "parser.py - line 1785 - INFO - Raw accession ID: GDC\n",
      "parser.py - line 1723 - INFO - Resolving data repository for: Genomic Data Commons\n",
      "parser.py - line 1743 - INFO - Found repo_name match for Genomic Data Commons\n",
      "parser.py - line 1723 - INFO - Resolving data repository for: gdc.cancer.gov\n",
      "parser.py - line 1738 - INFO - Exact match found for repo: gdc.cancer.gov\n",
      "parser.py - line 1705 - INFO - Resolving accession ID for GDC in gdc.cancer.gov\n",
      "parser.py - line 1802 - INFO - Processing dataset 3 with repo: gdc.cancer.gov and accession_id: GDC\n",
      "parser.py - line 1820 - INFO - Dataset page: https://www.ncbi.nlm.nih.gov/projects/gap/cgi-bin/study.cgi?study_id=GDC\n",
      "parser.py - line 1825 - INFO - Adding access mode for dataset 3: ...\n",
      "parser.py - line 1832 - INFO - Updated datasets len: 3\n",
      "parser.py - line 511 - INFO - Dataset Links type: <class 'pandas.core.frame.DataFrame'> of len 64, with cols: Index(['dataset_id', 'repository_reference', 'dataset_webpage', 'access_mode',\n",
      "       'link', 'title', 'file_info', 'description', 'source_section',\n",
      "       'section_class', 'download_link', 'file_extension', 'a_attr_href',\n",
      "       'a_attr_class', 'a_attr_data-ga-action', 'a_attr_target', 'a_attr_rel'],\n",
      "      dtype='object')\n"
     ]
    },
    {
     "name": "stdout",
     "output_type": "stream",
     "text": [
      "Parsed data from https://pmc.ncbi.nlm.nih.gov/articles/PMC7233456/. Found 10 datasets.\n"
     ]
    }
   ],
   "execution_count": 13
  },
  {
   "metadata": {},
   "cell_type": "markdown",
   "source": "### Full-Document-Read",
   "id": "2e5f5716d545a191"
  },
  {
   "metadata": {
    "ExecuteTime": {
     "end_time": "2025-05-27T22:51:42.010049Z",
     "start_time": "2025-05-27T22:51:42.004007Z"
    }
   },
   "cell_type": "code",
   "source": "parser = LLMParser(data_gatherer.config['parser_config_path'], data_gatherer.logger, full_document_read=True)",
   "id": "85277bc7cf47d4b1",
   "outputs": [
    {
     "name": "stderr",
     "output_type": "stream",
     "text": [
      "parser.py - line 132 - INFO - Parser initialized.\n"
     ]
    }
   ],
   "execution_count": 14
  },
  {
   "metadata": {
    "ExecuteTime": {
     "end_time": "2025-05-27T22:51:52.492637Z",
     "start_time": "2025-05-27T22:51:42.011428Z"
    }
   },
   "cell_type": "code",
   "source": [
    "input_url = [API_supported_input, local_fetch_supported_input, API_unsupported_input]\n",
    "input_format = [\"XML\", \"full_HTML\", \"full_HTML\"]\n",
    "input_cont = [raw_data_API, raw_data_local, raw_html]\n",
    "\n",
    "dfs_dict_FDR = {}\n",
    "for i in range(len(input_url)):\n",
    "    append_data = parser.parse_data(input_cont[i], \"PMC\", input_url[i], raw_data_format=input_format[i])\n",
    "    dfs_dict_FDR[input_url[i]] = append_data\n",
    "    print(f\"Parsed data from {input_url[i]}. Found {len(append_data)} datasets.\")\n",
    "    time.sleep(1)  # To print the output in the right order"
   ],
   "id": "e77187b1bdda3ecc",
   "outputs": [
    {
     "name": "stderr",
     "output_type": "stream",
     "text": [
      "parser.py - line 382 - INFO - Function call: parse_data(api_data(<class 'lxml.etree._Element'>), PMC, https://www.ncbi.nlm.nih.gov/pmc/articles/PMC6141466, additional_data, XML)\n",
      "parser.py - line 396 - INFO - Extracted title:'Recurrent WNT pathway alterations are frequent in relapsed small cell lung cancer'\n",
      "parser.py - line 806 - INFO - Function_call: extract_href_from_supplementary_material(api_xml, current_url_address)\n",
      "parser.py - line 817 - INFO - Found 1 supplementary material sections .//sec[@sec-type='supplementary-material']. cont: [<Element sec at 0x146f1d4c0>]\n",
      "parser.py - line 817 - INFO - Found 15 supplementary material sections .//supplementary-material. cont: [<Element supplementary-material at 0x146f1d5c0>, <Element supplementary-material at 0x146f1dc80>, <Element supplementary-material at 0x146f1d240>, <Element supplementary-material at 0x146f1d540>, <Element supplementary-material at 0x146f1d580>, <Element supplementary-material at 0x146f1d440>, <Element supplementary-material at 0x146f1d1c0>, <Element supplementary-material at 0x146f1d340>, <Element supplementary-material at 0x146f1d300>, <Element supplementary-material at 0x146f1d3c0>, <Element supplementary-material at 0x1456bda00>, <Element supplementary-material at 0x146f1cd00>, <Element supplementary-material at 0x146f1ce40>, <Element supplementary-material at 0x146f1d200>, <Element supplementary-material at 0x146f1cb80>]\n",
      "parser.py - line 825 - INFO - Processing section: {'ptr': \".//sec[@sec-type='supplementary-material']\", 'cont': [<Element sec at 0x146f1d4c0>]}\n",
      "parser.py - line 863 - INFO - Extracted media item with href: 41467_2018_6162_MOESM1_ESM.pdf\n",
      "parser.py - line 864 - INFO - Source url: https://www.ncbi.nlm.nih.gov/pmc/articles/PMC6141466\n",
      "parser.py - line 865 - INFO - Supplementary material title: No Title\n",
      "parser.py - line 866 - INFO - Content type: local-data, ID: MOESM1\n",
      "parser.py - line 867 - INFO - Surrounding text for media: Supplementary  Information\n",
      "parser.py - line 868 - INFO - Description: Supplementary Information\n",
      "parser.py - line 869 - INFO - Download_link: https://pmc.ncbi.nlm.nih.gov/articles/instance/6141466/bin/41467_2018_6162_MOESM1_ESM.pdf\n",
      "parser.py - line 863 - INFO - Extracted media item with href: 41467_2018_6162_MOESM2_ESM.pdf\n",
      "parser.py - line 864 - INFO - Source url: https://www.ncbi.nlm.nih.gov/pmc/articles/PMC6141466\n",
      "parser.py - line 865 - INFO - Supplementary material title: No Title\n",
      "parser.py - line 866 - INFO - Content type: local-data, ID: MOESM2\n",
      "parser.py - line 867 - INFO - Surrounding text for media: Peer  Review  File\n",
      "parser.py - line 868 - INFO - Description: Peer Review File\n",
      "parser.py - line 869 - INFO - Download_link: https://pmc.ncbi.nlm.nih.gov/articles/instance/6141466/bin/41467_2018_6162_MOESM2_ESM.pdf\n",
      "parser.py - line 863 - INFO - Extracted media item with href: 41467_2018_6162_MOESM3_ESM.pdf\n",
      "parser.py - line 864 - INFO - Source url: https://www.ncbi.nlm.nih.gov/pmc/articles/PMC6141466\n",
      "parser.py - line 865 - INFO - Supplementary material title: No Title\n",
      "parser.py - line 866 - INFO - Content type: local-data, ID: MOESM3\n",
      "parser.py - line 867 - INFO - Surrounding text for media: Description  of  Additional  Supplementary  Files\n",
      "parser.py - line 868 - INFO - Description: Description of Additional Supplementary Files\n",
      "parser.py - line 869 - INFO - Download_link: https://pmc.ncbi.nlm.nih.gov/articles/instance/6141466/bin/41467_2018_6162_MOESM3_ESM.pdf\n",
      "parser.py - line 863 - INFO - Extracted media item with href: 41467_2018_6162_MOESM4_ESM.xlsx\n",
      "parser.py - line 864 - INFO - Source url: https://www.ncbi.nlm.nih.gov/pmc/articles/PMC6141466\n",
      "parser.py - line 865 - INFO - Supplementary material title: No Title\n",
      "parser.py - line 866 - INFO - Content type: local-data, ID: MOESM4\n",
      "parser.py - line 867 - INFO - Surrounding text for media: Supplementary  Data  1\n",
      "parser.py - line 868 - INFO - Description: Supplementary Data 1\n",
      "parser.py - line 869 - INFO - Download_link: https://pmc.ncbi.nlm.nih.gov/articles/instance/6141466/bin/41467_2018_6162_MOESM4_ESM.xlsx\n",
      "parser.py - line 863 - INFO - Extracted media item with href: 41467_2018_6162_MOESM5_ESM.xlsx\n",
      "parser.py - line 864 - INFO - Source url: https://www.ncbi.nlm.nih.gov/pmc/articles/PMC6141466\n",
      "parser.py - line 865 - INFO - Supplementary material title: No Title\n",
      "parser.py - line 866 - INFO - Content type: local-data, ID: MOESM5\n",
      "parser.py - line 867 - INFO - Surrounding text for media: Supplementary  Data  2\n",
      "parser.py - line 868 - INFO - Description: Supplementary Data 2\n",
      "parser.py - line 869 - INFO - Download_link: https://pmc.ncbi.nlm.nih.gov/articles/instance/6141466/bin/41467_2018_6162_MOESM5_ESM.xlsx\n",
      "parser.py - line 863 - INFO - Extracted media item with href: 41467_2018_6162_MOESM6_ESM.xlsx\n",
      "parser.py - line 864 - INFO - Source url: https://www.ncbi.nlm.nih.gov/pmc/articles/PMC6141466\n",
      "parser.py - line 865 - INFO - Supplementary material title: No Title\n",
      "parser.py - line 866 - INFO - Content type: local-data, ID: MOESM6\n",
      "parser.py - line 867 - INFO - Surrounding text for media: Supplementary  Data  3\n",
      "parser.py - line 868 - INFO - Description: Supplementary Data 3\n",
      "parser.py - line 869 - INFO - Download_link: https://pmc.ncbi.nlm.nih.gov/articles/instance/6141466/bin/41467_2018_6162_MOESM6_ESM.xlsx\n",
      "parser.py - line 863 - INFO - Extracted media item with href: 41467_2018_6162_MOESM7_ESM.xlsx\n",
      "parser.py - line 864 - INFO - Source url: https://www.ncbi.nlm.nih.gov/pmc/articles/PMC6141466\n",
      "parser.py - line 865 - INFO - Supplementary material title: No Title\n",
      "parser.py - line 866 - INFO - Content type: local-data, ID: MOESM7\n",
      "parser.py - line 867 - INFO - Surrounding text for media: Supplementary  Data  4\n",
      "parser.py - line 868 - INFO - Description: Supplementary Data 4\n",
      "parser.py - line 869 - INFO - Download_link: https://pmc.ncbi.nlm.nih.gov/articles/instance/6141466/bin/41467_2018_6162_MOESM7_ESM.xlsx\n",
      "parser.py - line 863 - INFO - Extracted media item with href: 41467_2018_6162_MOESM8_ESM.xlsx\n",
      "parser.py - line 864 - INFO - Source url: https://www.ncbi.nlm.nih.gov/pmc/articles/PMC6141466\n",
      "parser.py - line 865 - INFO - Supplementary material title: No Title\n",
      "parser.py - line 866 - INFO - Content type: local-data, ID: MOESM8\n",
      "parser.py - line 867 - INFO - Surrounding text for media: Supplementary  Data  5\n",
      "parser.py - line 868 - INFO - Description: Supplementary Data 5\n",
      "parser.py - line 869 - INFO - Download_link: https://pmc.ncbi.nlm.nih.gov/articles/instance/6141466/bin/41467_2018_6162_MOESM8_ESM.xlsx\n",
      "parser.py - line 863 - INFO - Extracted media item with href: 41467_2018_6162_MOESM9_ESM.xlsx\n",
      "parser.py - line 864 - INFO - Source url: https://www.ncbi.nlm.nih.gov/pmc/articles/PMC6141466\n",
      "parser.py - line 865 - INFO - Supplementary material title: No Title\n",
      "parser.py - line 866 - INFO - Content type: local-data, ID: MOESM9\n",
      "parser.py - line 867 - INFO - Surrounding text for media: Supplementary  Data  6\n",
      "parser.py - line 868 - INFO - Description: Supplementary Data 6\n",
      "parser.py - line 869 - INFO - Download_link: https://pmc.ncbi.nlm.nih.gov/articles/instance/6141466/bin/41467_2018_6162_MOESM9_ESM.xlsx\n",
      "parser.py - line 863 - INFO - Extracted media item with href: 41467_2018_6162_MOESM10_ESM.xlsx\n",
      "parser.py - line 864 - INFO - Source url: https://www.ncbi.nlm.nih.gov/pmc/articles/PMC6141466\n",
      "parser.py - line 865 - INFO - Supplementary material title: No Title\n",
      "parser.py - line 866 - INFO - Content type: local-data, ID: MOESM10\n",
      "parser.py - line 867 - INFO - Surrounding text for media: Supplementary  Data  7\n",
      "parser.py - line 868 - INFO - Description: Supplementary Data 7\n",
      "parser.py - line 869 - INFO - Download_link: https://pmc.ncbi.nlm.nih.gov/articles/instance/6141466/bin/41467_2018_6162_MOESM10_ESM.xlsx\n",
      "parser.py - line 863 - INFO - Extracted media item with href: 41467_2018_6162_MOESM11_ESM.xlsx\n",
      "parser.py - line 864 - INFO - Source url: https://www.ncbi.nlm.nih.gov/pmc/articles/PMC6141466\n",
      "parser.py - line 865 - INFO - Supplementary material title: No Title\n",
      "parser.py - line 866 - INFO - Content type: local-data, ID: MOESM11\n",
      "parser.py - line 867 - INFO - Surrounding text for media: Supplementary  Data  8\n",
      "parser.py - line 868 - INFO - Description: Supplementary Data 8\n",
      "parser.py - line 869 - INFO - Download_link: https://pmc.ncbi.nlm.nih.gov/articles/instance/6141466/bin/41467_2018_6162_MOESM11_ESM.xlsx\n",
      "parser.py - line 863 - INFO - Extracted media item with href: 41467_2018_6162_MOESM12_ESM.xlsx\n",
      "parser.py - line 864 - INFO - Source url: https://www.ncbi.nlm.nih.gov/pmc/articles/PMC6141466\n",
      "parser.py - line 865 - INFO - Supplementary material title: No Title\n",
      "parser.py - line 866 - INFO - Content type: local-data, ID: MOESM12\n",
      "parser.py - line 867 - INFO - Surrounding text for media: Supplementary  Data  9\n",
      "parser.py - line 868 - INFO - Description: Supplementary Data 9\n",
      "parser.py - line 869 - INFO - Download_link: https://pmc.ncbi.nlm.nih.gov/articles/instance/6141466/bin/41467_2018_6162_MOESM12_ESM.xlsx\n",
      "parser.py - line 863 - INFO - Extracted media item with href: 41467_2018_6162_MOESM13_ESM.xlsx\n",
      "parser.py - line 864 - INFO - Source url: https://www.ncbi.nlm.nih.gov/pmc/articles/PMC6141466\n",
      "parser.py - line 865 - INFO - Supplementary material title: No Title\n",
      "parser.py - line 866 - INFO - Content type: local-data, ID: MOESM13\n",
      "parser.py - line 867 - INFO - Surrounding text for media: Supplementary  Data  10\n",
      "parser.py - line 868 - INFO - Description: Supplementary Data 10\n",
      "parser.py - line 869 - INFO - Download_link: https://pmc.ncbi.nlm.nih.gov/articles/instance/6141466/bin/41467_2018_6162_MOESM13_ESM.xlsx\n",
      "parser.py - line 863 - INFO - Extracted media item with href: 41467_2018_6162_MOESM14_ESM.xlsx\n",
      "parser.py - line 864 - INFO - Source url: https://www.ncbi.nlm.nih.gov/pmc/articles/PMC6141466\n",
      "parser.py - line 865 - INFO - Supplementary material title: No Title\n",
      "parser.py - line 866 - INFO - Content type: local-data, ID: MOESM14\n",
      "parser.py - line 867 - INFO - Surrounding text for media: Supplementary  Data  11\n",
      "parser.py - line 868 - INFO - Description: Supplementary Data 11\n",
      "parser.py - line 869 - INFO - Download_link: https://pmc.ncbi.nlm.nih.gov/articles/instance/6141466/bin/41467_2018_6162_MOESM14_ESM.xlsx\n",
      "parser.py - line 863 - INFO - Extracted media item with href: 41467_2018_6162_MOESM15_ESM.xlsx\n",
      "parser.py - line 864 - INFO - Source url: https://www.ncbi.nlm.nih.gov/pmc/articles/PMC6141466\n",
      "parser.py - line 865 - INFO - Supplementary material title: No Title\n",
      "parser.py - line 866 - INFO - Content type: local-data, ID: MOESM15\n",
      "parser.py - line 867 - INFO - Surrounding text for media: Supplementary  Data  12\n",
      "parser.py - line 868 - INFO - Description: Supplementary Data 12\n",
      "parser.py - line 869 - INFO - Download_link: https://pmc.ncbi.nlm.nih.gov/articles/instance/6141466/bin/41467_2018_6162_MOESM15_ESM.xlsx\n",
      "parser.py - line 888 - INFO - Found 0 inline-supplementary-material elements.\n",
      "parser.py - line 825 - INFO - Processing section: {'ptr': './/supplementary-material', 'cont': [<Element supplementary-material at 0x146f1d5c0>, <Element supplementary-material at 0x146f1dc80>, <Element supplementary-material at 0x146f1d240>, <Element supplementary-material at 0x146f1d540>, <Element supplementary-material at 0x146f1d580>, <Element supplementary-material at 0x146f1d440>, <Element supplementary-material at 0x146f1d1c0>, <Element supplementary-material at 0x146f1d340>, <Element supplementary-material at 0x146f1d300>, <Element supplementary-material at 0x146f1d3c0>, <Element supplementary-material at 0x1456bda00>, <Element supplementary-material at 0x146f1cd00>, <Element supplementary-material at 0x146f1ce40>, <Element supplementary-material at 0x146f1d200>, <Element supplementary-material at 0x146f1cb80>]}\n",
      "parser.py - line 863 - INFO - Extracted media item with href: 41467_2018_6162_MOESM1_ESM.pdf\n",
      "parser.py - line 864 - INFO - Source url: https://www.ncbi.nlm.nih.gov/pmc/articles/PMC6141466\n",
      "parser.py - line 865 - INFO - Supplementary material title: No Title\n",
      "parser.py - line 866 - INFO - Content type: local-data, ID: MOESM1\n",
      "parser.py - line 867 - INFO - Surrounding text for media: Supplementary  Information\n",
      "parser.py - line 868 - INFO - Description: Supplementary Information\n",
      "parser.py - line 869 - INFO - Download_link: https://pmc.ncbi.nlm.nih.gov/articles/instance/6141466/bin/41467_2018_6162_MOESM1_ESM.pdf\n",
      "parser.py - line 888 - INFO - Found 0 inline-supplementary-material elements.\n",
      "parser.py - line 863 - INFO - Extracted media item with href: 41467_2018_6162_MOESM2_ESM.pdf\n",
      "parser.py - line 864 - INFO - Source url: https://www.ncbi.nlm.nih.gov/pmc/articles/PMC6141466\n",
      "parser.py - line 865 - INFO - Supplementary material title: No Title\n",
      "parser.py - line 866 - INFO - Content type: local-data, ID: MOESM2\n",
      "parser.py - line 867 - INFO - Surrounding text for media: Peer  Review  File\n",
      "parser.py - line 868 - INFO - Description: Peer Review File\n",
      "parser.py - line 869 - INFO - Download_link: https://pmc.ncbi.nlm.nih.gov/articles/instance/6141466/bin/41467_2018_6162_MOESM2_ESM.pdf\n",
      "parser.py - line 888 - INFO - Found 0 inline-supplementary-material elements.\n",
      "parser.py - line 863 - INFO - Extracted media item with href: 41467_2018_6162_MOESM3_ESM.pdf\n",
      "parser.py - line 864 - INFO - Source url: https://www.ncbi.nlm.nih.gov/pmc/articles/PMC6141466\n",
      "parser.py - line 865 - INFO - Supplementary material title: No Title\n",
      "parser.py - line 866 - INFO - Content type: local-data, ID: MOESM3\n",
      "parser.py - line 867 - INFO - Surrounding text for media: Description  of  Additional  Supplementary  Files\n",
      "parser.py - line 868 - INFO - Description: Description of Additional Supplementary Files\n",
      "parser.py - line 869 - INFO - Download_link: https://pmc.ncbi.nlm.nih.gov/articles/instance/6141466/bin/41467_2018_6162_MOESM3_ESM.pdf\n",
      "parser.py - line 888 - INFO - Found 0 inline-supplementary-material elements.\n",
      "parser.py - line 863 - INFO - Extracted media item with href: 41467_2018_6162_MOESM4_ESM.xlsx\n",
      "parser.py - line 864 - INFO - Source url: https://www.ncbi.nlm.nih.gov/pmc/articles/PMC6141466\n",
      "parser.py - line 865 - INFO - Supplementary material title: No Title\n",
      "parser.py - line 866 - INFO - Content type: local-data, ID: MOESM4\n",
      "parser.py - line 867 - INFO - Surrounding text for media: Supplementary  Data  1\n",
      "parser.py - line 868 - INFO - Description: Supplementary Data 1\n",
      "parser.py - line 869 - INFO - Download_link: https://pmc.ncbi.nlm.nih.gov/articles/instance/6141466/bin/41467_2018_6162_MOESM4_ESM.xlsx\n",
      "parser.py - line 888 - INFO - Found 0 inline-supplementary-material elements.\n",
      "parser.py - line 863 - INFO - Extracted media item with href: 41467_2018_6162_MOESM5_ESM.xlsx\n",
      "parser.py - line 864 - INFO - Source url: https://www.ncbi.nlm.nih.gov/pmc/articles/PMC6141466\n",
      "parser.py - line 865 - INFO - Supplementary material title: No Title\n",
      "parser.py - line 866 - INFO - Content type: local-data, ID: MOESM5\n",
      "parser.py - line 867 - INFO - Surrounding text for media: Supplementary  Data  2\n",
      "parser.py - line 868 - INFO - Description: Supplementary Data 2\n",
      "parser.py - line 869 - INFO - Download_link: https://pmc.ncbi.nlm.nih.gov/articles/instance/6141466/bin/41467_2018_6162_MOESM5_ESM.xlsx\n",
      "parser.py - line 888 - INFO - Found 0 inline-supplementary-material elements.\n",
      "parser.py - line 863 - INFO - Extracted media item with href: 41467_2018_6162_MOESM6_ESM.xlsx\n",
      "parser.py - line 864 - INFO - Source url: https://www.ncbi.nlm.nih.gov/pmc/articles/PMC6141466\n",
      "parser.py - line 865 - INFO - Supplementary material title: No Title\n",
      "parser.py - line 866 - INFO - Content type: local-data, ID: MOESM6\n",
      "parser.py - line 867 - INFO - Surrounding text for media: Supplementary  Data  3\n",
      "parser.py - line 868 - INFO - Description: Supplementary Data 3\n",
      "parser.py - line 869 - INFO - Download_link: https://pmc.ncbi.nlm.nih.gov/articles/instance/6141466/bin/41467_2018_6162_MOESM6_ESM.xlsx\n",
      "parser.py - line 888 - INFO - Found 0 inline-supplementary-material elements.\n",
      "parser.py - line 863 - INFO - Extracted media item with href: 41467_2018_6162_MOESM7_ESM.xlsx\n",
      "parser.py - line 864 - INFO - Source url: https://www.ncbi.nlm.nih.gov/pmc/articles/PMC6141466\n",
      "parser.py - line 865 - INFO - Supplementary material title: No Title\n",
      "parser.py - line 866 - INFO - Content type: local-data, ID: MOESM7\n",
      "parser.py - line 867 - INFO - Surrounding text for media: Supplementary  Data  4\n",
      "parser.py - line 868 - INFO - Description: Supplementary Data 4\n",
      "parser.py - line 869 - INFO - Download_link: https://pmc.ncbi.nlm.nih.gov/articles/instance/6141466/bin/41467_2018_6162_MOESM7_ESM.xlsx\n",
      "parser.py - line 888 - INFO - Found 0 inline-supplementary-material elements.\n",
      "parser.py - line 863 - INFO - Extracted media item with href: 41467_2018_6162_MOESM8_ESM.xlsx\n",
      "parser.py - line 864 - INFO - Source url: https://www.ncbi.nlm.nih.gov/pmc/articles/PMC6141466\n",
      "parser.py - line 865 - INFO - Supplementary material title: No Title\n",
      "parser.py - line 866 - INFO - Content type: local-data, ID: MOESM8\n",
      "parser.py - line 867 - INFO - Surrounding text for media: Supplementary  Data  5\n",
      "parser.py - line 868 - INFO - Description: Supplementary Data 5\n",
      "parser.py - line 869 - INFO - Download_link: https://pmc.ncbi.nlm.nih.gov/articles/instance/6141466/bin/41467_2018_6162_MOESM8_ESM.xlsx\n",
      "parser.py - line 888 - INFO - Found 0 inline-supplementary-material elements.\n",
      "parser.py - line 863 - INFO - Extracted media item with href: 41467_2018_6162_MOESM9_ESM.xlsx\n",
      "parser.py - line 864 - INFO - Source url: https://www.ncbi.nlm.nih.gov/pmc/articles/PMC6141466\n",
      "parser.py - line 865 - INFO - Supplementary material title: No Title\n",
      "parser.py - line 866 - INFO - Content type: local-data, ID: MOESM9\n",
      "parser.py - line 867 - INFO - Surrounding text for media: Supplementary  Data  6\n",
      "parser.py - line 868 - INFO - Description: Supplementary Data 6\n",
      "parser.py - line 869 - INFO - Download_link: https://pmc.ncbi.nlm.nih.gov/articles/instance/6141466/bin/41467_2018_6162_MOESM9_ESM.xlsx\n",
      "parser.py - line 888 - INFO - Found 0 inline-supplementary-material elements.\n",
      "parser.py - line 863 - INFO - Extracted media item with href: 41467_2018_6162_MOESM10_ESM.xlsx\n",
      "parser.py - line 864 - INFO - Source url: https://www.ncbi.nlm.nih.gov/pmc/articles/PMC6141466\n",
      "parser.py - line 865 - INFO - Supplementary material title: No Title\n",
      "parser.py - line 866 - INFO - Content type: local-data, ID: MOESM10\n",
      "parser.py - line 867 - INFO - Surrounding text for media: Supplementary  Data  7\n",
      "parser.py - line 868 - INFO - Description: Supplementary Data 7\n",
      "parser.py - line 869 - INFO - Download_link: https://pmc.ncbi.nlm.nih.gov/articles/instance/6141466/bin/41467_2018_6162_MOESM10_ESM.xlsx\n",
      "parser.py - line 888 - INFO - Found 0 inline-supplementary-material elements.\n",
      "parser.py - line 863 - INFO - Extracted media item with href: 41467_2018_6162_MOESM11_ESM.xlsx\n",
      "parser.py - line 864 - INFO - Source url: https://www.ncbi.nlm.nih.gov/pmc/articles/PMC6141466\n",
      "parser.py - line 865 - INFO - Supplementary material title: No Title\n",
      "parser.py - line 866 - INFO - Content type: local-data, ID: MOESM11\n",
      "parser.py - line 867 - INFO - Surrounding text for media: Supplementary  Data  8\n",
      "parser.py - line 868 - INFO - Description: Supplementary Data 8\n",
      "parser.py - line 869 - INFO - Download_link: https://pmc.ncbi.nlm.nih.gov/articles/instance/6141466/bin/41467_2018_6162_MOESM11_ESM.xlsx\n",
      "parser.py - line 888 - INFO - Found 0 inline-supplementary-material elements.\n",
      "parser.py - line 863 - INFO - Extracted media item with href: 41467_2018_6162_MOESM12_ESM.xlsx\n",
      "parser.py - line 864 - INFO - Source url: https://www.ncbi.nlm.nih.gov/pmc/articles/PMC6141466\n",
      "parser.py - line 865 - INFO - Supplementary material title: No Title\n",
      "parser.py - line 866 - INFO - Content type: local-data, ID: MOESM12\n",
      "parser.py - line 867 - INFO - Surrounding text for media: Supplementary  Data  9\n",
      "parser.py - line 868 - INFO - Description: Supplementary Data 9\n",
      "parser.py - line 869 - INFO - Download_link: https://pmc.ncbi.nlm.nih.gov/articles/instance/6141466/bin/41467_2018_6162_MOESM12_ESM.xlsx\n",
      "parser.py - line 888 - INFO - Found 0 inline-supplementary-material elements.\n",
      "parser.py - line 863 - INFO - Extracted media item with href: 41467_2018_6162_MOESM13_ESM.xlsx\n",
      "parser.py - line 864 - INFO - Source url: https://www.ncbi.nlm.nih.gov/pmc/articles/PMC6141466\n",
      "parser.py - line 865 - INFO - Supplementary material title: No Title\n",
      "parser.py - line 866 - INFO - Content type: local-data, ID: MOESM13\n",
      "parser.py - line 867 - INFO - Surrounding text for media: Supplementary  Data  10\n",
      "parser.py - line 868 - INFO - Description: Supplementary Data 10\n",
      "parser.py - line 869 - INFO - Download_link: https://pmc.ncbi.nlm.nih.gov/articles/instance/6141466/bin/41467_2018_6162_MOESM13_ESM.xlsx\n",
      "parser.py - line 888 - INFO - Found 0 inline-supplementary-material elements.\n",
      "parser.py - line 863 - INFO - Extracted media item with href: 41467_2018_6162_MOESM14_ESM.xlsx\n",
      "parser.py - line 864 - INFO - Source url: https://www.ncbi.nlm.nih.gov/pmc/articles/PMC6141466\n",
      "parser.py - line 865 - INFO - Supplementary material title: No Title\n",
      "parser.py - line 866 - INFO - Content type: local-data, ID: MOESM14\n",
      "parser.py - line 867 - INFO - Surrounding text for media: Supplementary  Data  11\n",
      "parser.py - line 868 - INFO - Description: Supplementary Data 11\n",
      "parser.py - line 869 - INFO - Download_link: https://pmc.ncbi.nlm.nih.gov/articles/instance/6141466/bin/41467_2018_6162_MOESM14_ESM.xlsx\n",
      "parser.py - line 888 - INFO - Found 0 inline-supplementary-material elements.\n",
      "parser.py - line 863 - INFO - Extracted media item with href: 41467_2018_6162_MOESM15_ESM.xlsx\n",
      "parser.py - line 864 - INFO - Source url: https://www.ncbi.nlm.nih.gov/pmc/articles/PMC6141466\n",
      "parser.py - line 865 - INFO - Supplementary material title: No Title\n",
      "parser.py - line 866 - INFO - Content type: local-data, ID: MOESM15\n",
      "parser.py - line 867 - INFO - Surrounding text for media: Supplementary  Data  12\n",
      "parser.py - line 868 - INFO - Description: Supplementary Data 12\n",
      "parser.py - line 869 - INFO - Download_link: https://pmc.ncbi.nlm.nih.gov/articles/instance/6141466/bin/41467_2018_6162_MOESM15_ESM.xlsx\n",
      "parser.py - line 888 - INFO - Found 0 inline-supplementary-material elements.\n",
      "parser.py - line 1396 - INFO - Found [<Element sec at 0x146eecac0>, <Element supplementary-material at 0x146eef2c0>, <Element supplementary-material at 0x146f0eb80>, <Element supplementary-material at 0x146f0e180>, <Element supplementary-material at 0x146cd3dc0>, <Element supplementary-material at 0x146f1cb80>, <Element supplementary-material at 0x146f1d5c0>, <Element supplementary-material at 0x146f1dc80>, <Element supplementary-material at 0x146f1d240>, <Element supplementary-material at 0x146f1d540>, <Element supplementary-material at 0x146f1d580>, <Element supplementary-material at 0x146f7f3c0>, <Element supplementary-material at 0x146f1d440>, <Element supplementary-material at 0x146f1d1c0>, <Element supplementary-material at 0x146f1d340>, <Element supplementary-material at 0x146f1d300>] supplementary data sections\n",
      "parser.py - line 1401 - INFO - Section with no text: <Element sec at 0x146eecac0>\n",
      "parser.py - line 1401 - INFO - Section with no text: <Element supplementary-material at 0x146eef2c0>\n",
      "parser.py - line 1401 - INFO - Section with no text: <Element supplementary-material at 0x146f0eb80>\n",
      "parser.py - line 1401 - INFO - Section with no text: <Element supplementary-material at 0x146f0e180>\n",
      "parser.py - line 1401 - INFO - Section with no text: <Element supplementary-material at 0x146cd3dc0>\n",
      "parser.py - line 1401 - INFO - Section with no text: <Element supplementary-material at 0x146f1cb80>\n",
      "parser.py - line 1401 - INFO - Section with no text: <Element supplementary-material at 0x146f1d5c0>\n",
      "parser.py - line 1401 - INFO - Section with no text: <Element supplementary-material at 0x146f1dc80>\n",
      "parser.py - line 1401 - INFO - Section with no text: <Element supplementary-material at 0x146f1d240>\n",
      "parser.py - line 1401 - INFO - Section with no text: <Element supplementary-material at 0x146f1d540>\n",
      "parser.py - line 1401 - INFO - Section with no text: <Element supplementary-material at 0x146f1d580>\n",
      "parser.py - line 1401 - INFO - Section with no text: <Element supplementary-material at 0x146f7f3c0>\n",
      "parser.py - line 1401 - INFO - Section with no text: <Element supplementary-material at 0x146f1d440>\n",
      "parser.py - line 1401 - INFO - Section with no text: <Element supplementary-material at 0x146f1d1c0>\n",
      "parser.py - line 1401 - INFO - Section with no text: <Element supplementary-material at 0x146f1d340>\n",
      "parser.py - line 1401 - INFO - Section with no text: <Element supplementary-material at 0x146f1d300>\n",
      "parser.py - line 1420 - INFO - Found data availability content: [' Data availability  Data has been deposited in dbGAP with accession #PHS001049 (  https://www.ncbi.nlm.nih.gov/gap/?term=PHS001049  ), and SRA with project accession PRJNA306801 (  https://www.ncbi.nlm.nih.gov/gap/?term=PHS001049  https://www.ncbi.nlm.nih.gov/bioproject/?term=PRJNA306801)  .  https://www.ncbi.nlm.nih.gov/bioproject/?term=PRJNA306801) ']\n",
      "parser.py - line 1048 - INFO - Processing DAS_content: [' Data availability  Data has been deposited in dbGAP with accession #PHS001049 (  https://www.ncbi.nlm.nih.gov/gap/?term=PHS001049  ), and SRA with project accession PRJNA306801 (  https://www.ncbi.nlm.nih.gov/gap/?term=PHS001049  https://www.ncbi.nlm.nih.gov/bioproject/?term=PRJNA306801)  .  https://www.ncbi.nlm.nih.gov/bioproject/?term=PRJNA306801) ']\n",
      "parser.py - line 1060 - INFO - Repos elements: ['bigd.big.ac.cn (BIGD)', 'ega-archive.org (European Genome-Phenome Archive)', 'massive.ucsd.edu (MassIVE)', 'www.ebi.ac.uk (PRIDE)', 'www.iprox.cn (iProX)', 'proteomecentral.proteomexchange.org (ProteomeCentral)', 'www.proteomexchange.org (ProteomeXchange)', 'pdc.cancer.gov (Proteomic Data Commons)', 'gdc.cancer.gov (Genomic Data Commons)', 'cancerimagingarchive.net (The Cancer Imaging Archive)', 'imaging.datacommons.cancer.gov (Imaging Data Commons)', 'repository.jpostdb.org (JPOST)', 'doi.org', 'geo (GEO)', 'dbgap (dbGaP)', 'sra (sra)', 'ArrayExpress (ArrayExpress)']\n",
      "parser.py - line 1099 - INFO - Loading prompt: retrieve_datasets_simple_JSON_gemini\n",
      "prompt_manager.py - line 29 - INFO - Loading prompt: retrieve_datasets_simple_JSON_gemini from user_prompt_dir: None, subdir: \n",
      "parser.py - line 1869 - WARNING - Expected string but got list. Converting list to string.\n",
      "parser.py - line 1108 - INFO - static_prompt: [{'role': 'model', 'parts': [{'text': \"You are a specialized assistant that extracts dataset references from the content of scientific papers. You must output a JSON array of objects, where each object has the following keys: 'dataset_identifier', 'data_repository', and 'dataset_webpage'. Follow the structure of the provided examples exactly.\"}]}, {'role': 'user', 'parts': [{'text': 'Extract dataset references based on the examples below:\\n\\nExample 1:\\nContent: \\'The study used dataset EGAS00001000925, which is available at the European Genome Archive.\\'\\nResponse:\\n[\\n    [\\n        \"dataset_identifier\": \"EGAS00893672193\",\\n        \"data_repository\": \"European Genome Archive\",\\n        \"dataset_webpage\": \"https://ega-archive.org/studies/EGAS00001000925\"\\n    ]\\n]\\n\\nExample 2:\\nContent: \\'Proteomics data was obtained from PRIDE, accession PXD029821.\\'\\nResponse:\\n[\\n    [\\n        \"dataset_identifier\": \"PXD029821\",\\n        \"data_repository\": \"PRIDE\",\\n        \"dataset_webpage\": \"https://www.ebi.ac.uk/pride/archive/projects/PXD029821\"\\n    ]\\n]\\n\\nExample 3:\\nContent: \\'The repository dbGaP hosts the dataset phs001366.v1.p1 at this location.\\'\\nResponse:\\n[\\n    [\\n        \"dataset_identifier\": \"phs001366.v1.p1\",\\n        \"data_repository\": \"dbGaP\",\\n        \"dataset_webpage\": \"https://www.ncbi.nlm.nih.gov/projects/gap/cgi-bin/study.cgi?study_id=phs001366.v1.p1\"\\n    ]\\n]\\n\\nNow process the following content:\\n\\nContent: {content}'}]}]\n",
      "parser.py - line 1869 - WARNING - Expected string but got list. Converting list to string.\n",
      "parser.py - line 1117 - INFO - Prompt messages total length: 1 tokens\n",
      "parser.py - line 1123 - INFO - Prompt ID: gemini-2.0-flash-0-9d33129ed9034b83bdf31e6c346e79646a0a2766c06a1f6ad4d0d323c7da80a6\n",
      "prompt_manager.py - line 25 - INFO - Prompt saved to prompts/prompt_evals/gemini-2.0-flash-0-9d33129ed9034b83bdf31e6c346e79646a0a2766c06a1f6ad4d0d323c7da80a6.json\n",
      "parser.py - line 1869 - WARNING - Expected string but got list. Converting list to string.\n",
      "parser.py - line 1142 - INFO - Requesting datasets from content using model: gemini-2.0-flash, temperature: 0, messages: 1 tokens\n",
      "parser.py - line 1220 - INFO - Found 1 candidates in the response.\n",
      "parser.py - line 1222 - INFO - Gemini response text: [\n",
      "    {\n",
      "        \"dataset_id\": \"PHS001049\",\n",
      "        \"repository_reference\": \"dbGAP\"\n",
      "    },\n",
      "    {\n",
      "        \"dataset_id\": \"PRJNA306801\",\n",
      "        \"repository_reference\": \"SRA\"\n",
      "    }\n",
      "]\n",
      "parser.py - line 1241 - INFO - Processing dataset: {'dataset_id': 'PHS001049', 'repository_reference': 'dbGAP'}\n",
      "parser.py - line 1256 - INFO - Dataset is a dictionary\n",
      "parser.py - line 1282 - INFO - Extracted dataset: {'dataset_identifier': 'PHS001049', 'data_repository': 'dbGAP'}\n",
      "parser.py - line 1241 - INFO - Processing dataset: {'dataset_id': 'PRJNA306801', 'repository_reference': 'SRA'}\n",
      "parser.py - line 1256 - INFO - Dataset is a dictionary\n",
      "parser.py - line 1282 - INFO - Extracted dataset: {'dataset_identifier': 'PRJNA306801', 'data_repository': 'SRA'}\n",
      "parser.py - line 1071 - INFO - datasets (<class 'list'>): [{'dataset_identifier': 'PHS001049', 'data_repository': 'dbGAP'}, {'dataset_identifier': 'PRJNA306801', 'data_repository': 'SRA'}]\n",
      "parser.py - line 1073 - INFO - iter dataset (<class 'dict'>): {'dataset_identifier': 'PHS001049', 'data_repository': 'dbGAP'}\n",
      "parser.py - line 1073 - INFO - iter dataset (<class 'dict'>): {'dataset_identifier': 'PRJNA306801', 'data_repository': 'SRA'}\n",
      "parser.py - line 1078 - INFO - Final ret additional data: 2 items\n",
      "parser.py - line 1766 - INFO - Fetching metadata for 2 datasets\n",
      "parser.py - line 1774 - INFO - Processing dataset 1 with keys: dict_keys(['dataset_identifier', 'data_repository', 'source_section', 'retrieval_pattern'])\n",
      "parser.py - line 1785 - INFO - Raw accession ID: PHS001049\n",
      "parser.py - line 1723 - INFO - Resolving data repository for: dbGAP\n",
      "parser.py - line 1743 - INFO - Found repo_name match for dbGAP\n",
      "parser.py - line 1723 - INFO - Resolving data repository for: dbgap\n",
      "parser.py - line 1738 - INFO - Exact match found for repo: dbgap\n",
      "parser.py - line 1705 - INFO - Resolving accession ID for PHS001049 in dbgap\n",
      "parser.py - line 1710 - WARNING - Identifier PHS001049 does not match pattern for dbgap\n",
      "parser.py - line 1802 - INFO - Processing dataset 1 with repo: dbgap and accession_id: phs001049.v1.p1\n",
      "parser.py - line 1820 - INFO - Dataset page: https://www.ncbi.nlm.nih.gov/projects/gap/cgi-bin/study.cgi?study_id=phs001049.v1.p1\n",
      "parser.py - line 1825 - INFO - Adding access mode for dataset 1: Application to access\n",
      "parser.py - line 1774 - INFO - Processing dataset 2 with keys: dict_keys(['dataset_identifier', 'data_repository', 'source_section', 'retrieval_pattern'])\n",
      "parser.py - line 1785 - INFO - Raw accession ID: PRJNA306801\n",
      "parser.py - line 1723 - INFO - Resolving data repository for: SRA\n",
      "parser.py - line 1743 - INFO - Found repo_name match for SRA\n",
      "parser.py - line 1723 - INFO - Resolving data repository for: sra\n",
      "parser.py - line 1738 - INFO - Exact match found for repo: sra\n",
      "parser.py - line 1705 - INFO - Resolving accession ID for PRJNA306801 in sra\n",
      "parser.py - line 1802 - INFO - Processing dataset 2 with repo: sra and accession_id: PRJNA306801\n",
      "parser.py - line 1820 - INFO - Dataset page: https://www.ncbi.nlm.nih.gov/bioproject/?term=PRJNA306801\n",
      "parser.py - line 1825 - INFO - Adding access mode for dataset 2: Complex download\n",
      "parser.py - line 1832 - INFO - Updated datasets len: 2\n",
      "parser.py - line 456 - INFO - Dataset Links type: <class 'pandas.core.frame.DataFrame'> of len 32, with cols: Index(['dataset_identifier', 'data_repository', 'source_section',\n",
      "       'retrieval_pattern', 'dataset_webpage', 'access_mode', 'link',\n",
      "       'source_url', 'download_link', 'title', 'content_type', 'id',\n",
      "       'surrounding_text', 'description'],\n",
      "      dtype='object')\n"
     ]
    },
    {
     "name": "stdout",
     "output_type": "stream",
     "text": [
      "Parsed data from https://www.ncbi.nlm.nih.gov/pmc/articles/PMC6141466. Found 17 datasets.\n"
     ]
    },
    {
     "name": "stderr",
     "output_type": "stream",
     "text": [
      "parser.py - line 382 - INFO - Function call: parse_data(api_data(<class 'str'>), PMC, https://www.ncbi.nlm.nih.gov/pmc/articles/pmc11425778, additional_data, full_HTML)\n",
      "parser.py - line 474 - INFO - Extracting links from full HTML content.\n",
      "parser.py - line 730 - INFO - Function_call: extract_href_from_html_supplementary_material(tree, https://www.ncbi.nlm.nih.gov/pmc/articles/pmc11425778)\n",
      "parser.py - line 790 - INFO - Extracted 14 unique supplementary material links from HTML.\n",
      "parser.py - line 541 - INFO - Function_call: normalize_full_DOM(api_data). Length of raw api data: 71801 tokens\n",
      "parser.py - line 1099 - INFO - Loading prompt: retrieve_datasets_simple_JSON_gemini\n",
      "prompt_manager.py - line 29 - INFO - Loading prompt: retrieve_datasets_simple_JSON_gemini from user_prompt_dir: None, subdir: \n",
      "parser.py - line 1869 - WARNING - Expected string but got list. Converting list to string.\n",
      "parser.py - line 1108 - INFO - static_prompt: [{'role': 'model', 'parts': [{'text': \"You are a specialized assistant that extracts dataset references from the content of scientific papers. You must output a JSON array of objects, where each object has the following keys: 'dataset_identifier', 'data_repository', and 'dataset_webpage'. Follow the structure of the provided examples exactly.\"}]}, {'role': 'user', 'parts': [{'text': 'Extract dataset references based on the examples below:\\n\\nExample 1:\\nContent: \\'The study used dataset EGAS00001000925, which is available at the European Genome Archive.\\'\\nResponse:\\n[\\n    [\\n        \"dataset_identifier\": \"EGAS00893672193\",\\n        \"data_repository\": \"European Genome Archive\",\\n        \"dataset_webpage\": \"https://ega-archive.org/studies/EGAS00001000925\"\\n    ]\\n]\\n\\nExample 2:\\nContent: \\'Proteomics data was obtained from PRIDE, accession PXD029821.\\'\\nResponse:\\n[\\n    [\\n        \"dataset_identifier\": \"PXD029821\",\\n        \"data_repository\": \"PRIDE\",\\n        \"dataset_webpage\": \"https://www.ebi.ac.uk/pride/archive/projects/PXD029821\"\\n    ]\\n]\\n\\nExample 3:\\nContent: \\'The repository dbGaP hosts the dataset phs001366.v1.p1 at this location.\\'\\nResponse:\\n[\\n    [\\n        \"dataset_identifier\": \"phs001366.v1.p1\",\\n        \"data_repository\": \"dbGaP\",\\n        \"dataset_webpage\": \"https://www.ncbi.nlm.nih.gov/projects/gap/cgi-bin/study.cgi?study_id=phs001366.v1.p1\"\\n    ]\\n]\\n\\nNow process the following content:\\n\\nContent: {content}'}]}]\n",
      "parser.py - line 1869 - WARNING - Expected string but got list. Converting list to string.\n",
      "parser.py - line 1117 - INFO - Prompt messages total length: 1 tokens\n",
      "parser.py - line 1123 - INFO - Prompt ID: gemini-2.0-flash-0-c63cec3a40bb55d21e35b1db38e2be5966d98dd6920cfbf60801cf5d3e98651b\n",
      "prompt_manager.py - line 25 - INFO - Prompt saved to prompts/prompt_evals/gemini-2.0-flash-0-c63cec3a40bb55d21e35b1db38e2be5966d98dd6920cfbf60801cf5d3e98651b.json\n",
      "parser.py - line 1869 - WARNING - Expected string but got list. Converting list to string.\n",
      "parser.py - line 1142 - INFO - Requesting datasets from content using model: gemini-2.0-flash, temperature: 0, messages: 1 tokens\n",
      "parser.py - line 1220 - INFO - Found 1 candidates in the response.\n",
      "parser.py - line 1222 - INFO - Gemini response text: [\n",
      "    {\n",
      "        \"dataset_id\": \"MSV000092944\",\n",
      "        \"repository_reference\": \"MassIVE database\"\n",
      "    }\n",
      "]\n",
      "parser.py - line 1241 - INFO - Processing dataset: {'dataset_id': 'MSV000092944', 'repository_reference': 'MassIVE database'}\n",
      "parser.py - line 1256 - INFO - Dataset is a dictionary\n",
      "parser.py - line 1282 - INFO - Extracted dataset: {'dataset_identifier': 'MSV000092944', 'data_repository': 'MassIVE database'}\n",
      "parser.py - line 486 - INFO - Augmented dataset links: [{'dataset_identifier': 'MSV000092944', 'data_repository': 'MassIVE database'}]\n",
      "parser.py - line 1766 - INFO - Fetching metadata for 1 datasets\n",
      "parser.py - line 1774 - INFO - Processing dataset 1 with keys: dict_keys(['dataset_identifier', 'data_repository'])\n",
      "parser.py - line 1785 - INFO - Raw accession ID: MSV000092944\n",
      "parser.py - line 1723 - INFO - Resolving data repository for: MassIVE database\n",
      "parser.py - line 1748 - INFO - Found partial match for MassIVE database in MassIVE\n",
      "parser.py - line 1723 - INFO - Resolving data repository for: massive.ucsd.edu\n",
      "parser.py - line 1738 - INFO - Exact match found for repo: massive.ucsd.edu\n",
      "parser.py - line 1705 - INFO - Resolving accession ID for MSV000092944 in massive.ucsd.edu\n",
      "parser.py - line 1802 - INFO - Processing dataset 1 with repo: massive.ucsd.edu and accession_id: MSV000092944\n",
      "parser.py - line 1820 - INFO - Dataset page: https://massive.ucsd.edu/ProteoSAFe/dataset.jsp?accession=MSV000092944\n",
      "parser.py - line 1825 - INFO - Adding access mode for dataset 1: Complex download\n",
      "parser.py - line 1832 - INFO - Updated datasets len: 1\n",
      "parser.py - line 511 - INFO - Dataset Links type: <class 'pandas.core.frame.DataFrame'> of len 15, with cols: Index(['dataset_identifier', 'data_repository', 'dataset_webpage',\n",
      "       'access_mode', 'link', 'title', 'file_info', 'description',\n",
      "       'source_section', 'section_class', 'download_link', 'file_extension',\n",
      "       'a_attr_href', 'a_attr_class', 'a_attr_data-ga-action', 'a_attr_target',\n",
      "       'a_attr_rel'],\n",
      "      dtype='object')\n"
     ]
    },
    {
     "name": "stdout",
     "output_type": "stream",
     "text": [
      "Parsed data from https://www.ncbi.nlm.nih.gov/pmc/articles/pmc11425778. Found 3 datasets.\n"
     ]
    },
    {
     "name": "stderr",
     "output_type": "stream",
     "text": [
      "parser.py - line 382 - INFO - Function call: parse_data(api_data(<class 'str'>), PMC, https://pmc.ncbi.nlm.nih.gov/articles/PMC7233456/, additional_data, full_HTML)\n",
      "parser.py - line 474 - INFO - Extracting links from full HTML content.\n",
      "parser.py - line 730 - INFO - Function_call: extract_href_from_html_supplementary_material(tree, https://pmc.ncbi.nlm.nih.gov/articles/PMC7233456/)\n",
      "parser.py - line 790 - INFO - Extracted 61 unique supplementary material links from HTML.\n",
      "parser.py - line 541 - INFO - Function_call: normalize_full_DOM(api_data). Length of raw api data: 197202 tokens\n",
      "parser.py - line 1099 - INFO - Loading prompt: retrieve_datasets_simple_JSON_gemini\n",
      "prompt_manager.py - line 29 - INFO - Loading prompt: retrieve_datasets_simple_JSON_gemini from user_prompt_dir: None, subdir: \n",
      "parser.py - line 1869 - WARNING - Expected string but got list. Converting list to string.\n",
      "parser.py - line 1108 - INFO - static_prompt: [{'role': 'model', 'parts': [{'text': \"You are a specialized assistant that extracts dataset references from the content of scientific papers. You must output a JSON array of objects, where each object has the following keys: 'dataset_identifier', 'data_repository', and 'dataset_webpage'. Follow the structure of the provided examples exactly.\"}]}, {'role': 'user', 'parts': [{'text': 'Extract dataset references based on the examples below:\\n\\nExample 1:\\nContent: \\'The study used dataset EGAS00001000925, which is available at the European Genome Archive.\\'\\nResponse:\\n[\\n    [\\n        \"dataset_identifier\": \"EGAS00893672193\",\\n        \"data_repository\": \"European Genome Archive\",\\n        \"dataset_webpage\": \"https://ega-archive.org/studies/EGAS00001000925\"\\n    ]\\n]\\n\\nExample 2:\\nContent: \\'Proteomics data was obtained from PRIDE, accession PXD029821.\\'\\nResponse:\\n[\\n    [\\n        \"dataset_identifier\": \"PXD029821\",\\n        \"data_repository\": \"PRIDE\",\\n        \"dataset_webpage\": \"https://www.ebi.ac.uk/pride/archive/projects/PXD029821\"\\n    ]\\n]\\n\\nExample 3:\\nContent: \\'The repository dbGaP hosts the dataset phs001366.v1.p1 at this location.\\'\\nResponse:\\n[\\n    [\\n        \"dataset_identifier\": \"phs001366.v1.p1\",\\n        \"data_repository\": \"dbGaP\",\\n        \"dataset_webpage\": \"https://www.ncbi.nlm.nih.gov/projects/gap/cgi-bin/study.cgi?study_id=phs001366.v1.p1\"\\n    ]\\n]\\n\\nNow process the following content:\\n\\nContent: {content}'}]}]\n",
      "parser.py - line 1869 - WARNING - Expected string but got list. Converting list to string.\n",
      "parser.py - line 1117 - INFO - Prompt messages total length: 1 tokens\n",
      "parser.py - line 1123 - INFO - Prompt ID: gemini-2.0-flash-0-44afc14d10fad6a42fdb73c2b967670e0aaaf976b4807842b64a4159c36fbdeb\n",
      "prompt_manager.py - line 25 - INFO - Prompt saved to prompts/prompt_evals/gemini-2.0-flash-0-44afc14d10fad6a42fdb73c2b967670e0aaaf976b4807842b64a4159c36fbdeb.json\n",
      "parser.py - line 1869 - WARNING - Expected string but got list. Converting list to string.\n",
      "parser.py - line 1142 - INFO - Requesting datasets from content using model: gemini-2.0-flash, temperature: 0, messages: 1 tokens\n",
      "parser.py - line 1220 - INFO - Found 1 candidates in the response.\n",
      "parser.py - line 1222 - INFO - Gemini response text: [\n",
      "    {\n",
      "        \"dataset_id\": \"phs001287\",\n",
      "        \"repository_reference\": \"dbGaP\"\n",
      "    }\n",
      "]\n",
      "parser.py - line 1241 - INFO - Processing dataset: {'dataset_id': 'phs001287', 'repository_reference': 'dbGaP'}\n",
      "parser.py - line 1256 - INFO - Dataset is a dictionary\n",
      "parser.py - line 1282 - INFO - Extracted dataset: {'dataset_identifier': 'phs001287', 'data_repository': 'dbGaP'}\n",
      "parser.py - line 486 - INFO - Augmented dataset links: [{'dataset_identifier': 'phs001287', 'data_repository': 'dbGaP'}]\n",
      "parser.py - line 1766 - INFO - Fetching metadata for 1 datasets\n",
      "parser.py - line 1774 - INFO - Processing dataset 1 with keys: dict_keys(['dataset_identifier', 'data_repository'])\n",
      "parser.py - line 1785 - INFO - Raw accession ID: phs001287\n",
      "parser.py - line 1723 - INFO - Resolving data repository for: dbGaP\n",
      "parser.py - line 1743 - INFO - Found repo_name match for dbGaP\n",
      "parser.py - line 1723 - INFO - Resolving data repository for: dbgap\n",
      "parser.py - line 1738 - INFO - Exact match found for repo: dbgap\n",
      "parser.py - line 1705 - INFO - Resolving accession ID for phs001287 in dbgap\n",
      "parser.py - line 1710 - WARNING - Identifier phs001287 does not match pattern for dbgap\n",
      "parser.py - line 1802 - INFO - Processing dataset 1 with repo: dbgap and accession_id: phs001287.v1.p1\n",
      "parser.py - line 1820 - INFO - Dataset page: https://www.ncbi.nlm.nih.gov/projects/gap/cgi-bin/study.cgi?study_id=phs001287.v1.p1\n",
      "parser.py - line 1825 - INFO - Adding access mode for dataset 1: Application to access\n",
      "parser.py - line 1832 - INFO - Updated datasets len: 1\n",
      "parser.py - line 511 - INFO - Dataset Links type: <class 'pandas.core.frame.DataFrame'> of len 62, with cols: Index(['dataset_identifier', 'data_repository', 'dataset_webpage',\n",
      "       'access_mode', 'link', 'title', 'file_info', 'description',\n",
      "       'source_section', 'section_class', 'download_link', 'file_extension',\n",
      "       'a_attr_href', 'a_attr_class', 'a_attr_data-ga-action', 'a_attr_target',\n",
      "       'a_attr_rel'],\n",
      "      dtype='object')\n"
     ]
    },
    {
     "name": "stdout",
     "output_type": "stream",
     "text": [
      "Parsed data from https://pmc.ncbi.nlm.nih.gov/articles/PMC7233456/. Found 10 datasets.\n"
     ]
    }
   ],
   "execution_count": 15
  },
  {
   "metadata": {},
   "cell_type": "markdown",
   "source": [
    "## Step III: Classify data\n",
    "\n",
    "For now, we are only considering raw data files, i.e. those objects that can be accessed from a repository with an accession code. However, the classifier can be extended to include other types of objects, such as supplementary materials."
   ],
   "id": "686d613afae5e90c"
  },
  {
   "metadata": {
    "ExecuteTime": {
     "end_time": "2025-05-27T22:51:52.516226Z",
     "start_time": "2025-05-27T22:51:52.496289Z"
    }
   },
   "cell_type": "code",
   "source": [
    "print(f\"Fetched from {len(dfs_dict_FDR)} publications.\")\n",
    "raw_data_files = data_gatherer.classifier.get_raw_data_files(dfs_dict_FDR)\n",
    "print(f\"Fetched {len(raw_data_files)} raw data files:\")"
   ],
   "id": "d8eb143abe00f7db",
   "outputs": [
    {
     "name": "stderr",
     "output_type": "stream",
     "text": [
      "classifier.py - line 106 - INFO - Processing DataFrame for URL: https://www.ncbi.nlm.nih.gov/pmc/articles/PMC6141466\n",
      "classifier.py - line 106 - INFO - Processing DataFrame for URL: https://www.ncbi.nlm.nih.gov/pmc/articles/pmc11425778\n",
      "classifier.py - line 106 - INFO - Processing DataFrame for URL: https://pmc.ncbi.nlm.nih.gov/articles/PMC7233456/\n"
     ]
    },
    {
     "name": "stdout",
     "output_type": "stream",
     "text": [
      "Fetched from 3 publications.\n",
      "Fetched 4 raw data files:\n"
     ]
    }
   ],
   "execution_count": 16
  },
  {
   "metadata": {
    "ExecuteTime": {
     "end_time": "2025-05-27T22:51:52.532181Z",
     "start_time": "2025-05-27T22:51:52.519233Z"
    }
   },
   "cell_type": "code",
   "source": "raw_data_files",
   "id": "e18c2df3980ef877",
   "outputs": [
    {
     "data": {
      "text/plain": [
       "                                      publication_url dataset_identifier  \\\n",
       "0   https://www.ncbi.nlm.nih.gov/pmc/articles/PMC6...          PHS001049   \n",
       "1   https://www.ncbi.nlm.nih.gov/pmc/articles/PMC6...        PRJNA306801   \n",
       "17  https://www.ncbi.nlm.nih.gov/pmc/articles/pmc1...       MSV000092944   \n",
       "20  https://pmc.ncbi.nlm.nih.gov/articles/PMC7233456/          phs001287   \n",
       "\n",
       "     data_repository                                    dataset_webpage  \n",
       "0              dbGAP  https://www.ncbi.nlm.nih.gov/projects/gap/cgi-...  \n",
       "1                SRA  https://www.ncbi.nlm.nih.gov/bioproject/?term=...  \n",
       "17  MassIVE database  https://massive.ucsd.edu/ProteoSAFe/dataset.js...  \n",
       "20             dbGaP  https://www.ncbi.nlm.nih.gov/projects/gap/cgi-...  "
      ],
      "text/html": [
       "<div>\n",
       "<style scoped>\n",
       "    .dataframe tbody tr th:only-of-type {\n",
       "        vertical-align: middle;\n",
       "    }\n",
       "\n",
       "    .dataframe tbody tr th {\n",
       "        vertical-align: top;\n",
       "    }\n",
       "\n",
       "    .dataframe thead th {\n",
       "        text-align: right;\n",
       "    }\n",
       "</style>\n",
       "<table border=\"1\" class=\"dataframe\">\n",
       "  <thead>\n",
       "    <tr style=\"text-align: right;\">\n",
       "      <th></th>\n",
       "      <th>publication_url</th>\n",
       "      <th>dataset_identifier</th>\n",
       "      <th>data_repository</th>\n",
       "      <th>dataset_webpage</th>\n",
       "    </tr>\n",
       "  </thead>\n",
       "  <tbody>\n",
       "    <tr>\n",
       "      <th>0</th>\n",
       "      <td>https://www.ncbi.nlm.nih.gov/pmc/articles/PMC6...</td>\n",
       "      <td>PHS001049</td>\n",
       "      <td>dbGAP</td>\n",
       "      <td>https://www.ncbi.nlm.nih.gov/projects/gap/cgi-...</td>\n",
       "    </tr>\n",
       "    <tr>\n",
       "      <th>1</th>\n",
       "      <td>https://www.ncbi.nlm.nih.gov/pmc/articles/PMC6...</td>\n",
       "      <td>PRJNA306801</td>\n",
       "      <td>SRA</td>\n",
       "      <td>https://www.ncbi.nlm.nih.gov/bioproject/?term=...</td>\n",
       "    </tr>\n",
       "    <tr>\n",
       "      <th>17</th>\n",
       "      <td>https://www.ncbi.nlm.nih.gov/pmc/articles/pmc1...</td>\n",
       "      <td>MSV000092944</td>\n",
       "      <td>MassIVE database</td>\n",
       "      <td>https://massive.ucsd.edu/ProteoSAFe/dataset.js...</td>\n",
       "    </tr>\n",
       "    <tr>\n",
       "      <th>20</th>\n",
       "      <td>https://pmc.ncbi.nlm.nih.gov/articles/PMC7233456/</td>\n",
       "      <td>phs001287</td>\n",
       "      <td>dbGaP</td>\n",
       "      <td>https://www.ncbi.nlm.nih.gov/projects/gap/cgi-...</td>\n",
       "    </tr>\n",
       "  </tbody>\n",
       "</table>\n",
       "</div>"
      ]
     },
     "execution_count": 17,
     "metadata": {},
     "output_type": "execute_result"
    }
   ],
   "execution_count": 17
  }
 ],
 "metadata": {
  "kernelspec": {
   "display_name": "Python 3",
   "language": "python",
   "name": "python3"
  },
  "language_info": {
   "codemirror_mode": {
    "name": "ipython",
    "version": 2
   },
   "file_extension": ".py",
   "mimetype": "text/x-python",
   "name": "python",
   "nbconvert_exporter": "python",
   "pygments_lexer": "ipython2",
   "version": "2.7.6"
  }
 },
 "nbformat": 4,
 "nbformat_minor": 5
}
