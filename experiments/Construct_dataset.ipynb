{
 "cells": [
  {
   "cell_type": "code",
   "id": "initial_id",
   "metadata": {
    "collapsed": true,
    "ExecuteTime": {
     "end_time": "2025-05-29T13:41:09.818304Z",
     "start_time": "2025-05-29T13:41:05.556306Z"
    }
   },
   "source": [
    "import pandas as pd\n",
    "from data_gatherer.orchestrator import Orchestrator\n",
    "from experiment_utils import *"
   ],
   "outputs": [],
   "execution_count": 1
  },
  {
   "metadata": {
    "ExecuteTime": {
     "end_time": "2025-05-29T13:41:10.153325Z",
     "start_time": "2025-05-29T13:41:09.820156Z"
    }
   },
   "cell_type": "code",
   "source": "df_citations = pd.read_parquet(\"exp_input/dataset_citation_records_Table.parquet\")",
   "id": "622d6296e7601308",
   "outputs": [],
   "execution_count": 2
  },
  {
   "metadata": {
    "ExecuteTime": {
     "end_time": "2025-05-29T13:41:10.203204Z",
     "start_time": "2025-05-29T13:41:10.155233Z"
    }
   },
   "cell_type": "code",
   "source": "df_fetched = pd.read_parquet('../input/fetched_data.parquet')",
   "id": "bdaaf98027b26fd2",
   "outputs": [],
   "execution_count": 3
  },
  {
   "metadata": {
    "ExecuteTime": {
     "end_time": "2025-05-29T13:41:10.212954Z",
     "start_time": "2025-05-29T13:41:10.205621Z"
    }
   },
   "cell_type": "code",
   "source": "df_fetched.columns",
   "id": "def20da0c7549dec",
   "outputs": [
    {
     "data": {
      "text/plain": [
       "Index(['file_name', 'raw_cont', 'format', 'length', 'path', 'publication'], dtype='object')"
      ]
     },
     "execution_count": 4,
     "metadata": {},
     "output_type": "execute_result"
    }
   ],
   "execution_count": 4
  },
  {
   "metadata": {
    "ExecuteTime": {
     "end_time": "2025-05-29T13:42:11.496406Z",
     "start_time": "2025-05-29T13:42:07.543716Z"
    }
   },
   "cell_type": "code",
   "source": "load_pmc_files_from_html_xml_dir_to_dataframe_fetch_file('../html_xml_samples/','input/fetched_data.parquet')",
   "id": "ffef76c802d42baf",
   "outputs": [],
   "execution_count": 6
  },
  {
   "metadata": {
    "ExecuteTime": {
     "end_time": "2025-05-29T13:42:24.432560Z",
     "start_time": "2025-05-29T13:42:23.313492Z"
    }
   },
   "cell_type": "code",
   "source": "df_fetched = pd.read_parquet('../input/fetched_data.parquet')",
   "id": "723ec52e8b4c5df3",
   "outputs": [],
   "execution_count": 7
  },
  {
   "metadata": {
    "ExecuteTime": {
     "end_time": "2025-05-29T13:43:04.085726Z",
     "start_time": "2025-05-29T13:43:04.071625Z"
    }
   },
   "cell_type": "code",
   "source": "df_fetched.info()",
   "id": "3899a98e63e6e7dc",
   "outputs": [
    {
     "name": "stdout",
     "output_type": "stream",
     "text": [
      "<class 'pandas.core.frame.DataFrame'>\n",
      "RangeIndex: 1314 entries, 0 to 1313\n",
      "Data columns (total 6 columns):\n",
      " #   Column       Non-Null Count  Dtype \n",
      "---  ------       --------------  ----- \n",
      " 0   file_name    1314 non-null   object\n",
      " 1   raw_cont     1314 non-null   object\n",
      " 2   format       1314 non-null   object\n",
      " 3   length       1314 non-null   int64 \n",
      " 4   path         1314 non-null   object\n",
      " 5   publication  1313 non-null   object\n",
      "dtypes: int64(1), object(5)\n",
      "memory usage: 61.7+ KB\n"
     ]
    }
   ],
   "execution_count": 9
  },
  {
   "metadata": {},
   "cell_type": "code",
   "outputs": [],
   "execution_count": null,
   "source": "",
   "id": "70e92c207a2908d4"
  }
 ],
 "metadata": {
  "kernelspec": {
   "display_name": "Python 3",
   "language": "python",
   "name": "python3"
  },
  "language_info": {
   "codemirror_mode": {
    "name": "ipython",
    "version": 2
   },
   "file_extension": ".py",
   "mimetype": "text/x-python",
   "name": "python",
   "nbconvert_exporter": "python",
   "pygments_lexer": "ipython2",
   "version": "2.7.6"
  }
 },
 "nbformat": 4,
 "nbformat_minor": 5
}
