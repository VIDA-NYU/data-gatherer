{
 "cells": [
  {
   "cell_type": "code",
   "id": "initial_id",
   "metadata": {
    "collapsed": true
   },
   "source": [
    "# import from the files in this directory\n",
    "from dotenv import load_dotenv\n",
    "from orchestrator import *\n",
    "import requests\n",
    "import os\n",
    "import json\n",
    "import pandas as pd\n",
    "import re\n",
    "import time\n",
    "from experiment_utils import *"
   ],
   "outputs": [],
   "execution_count": null
  },
  {
   "metadata": {},
   "cell_type": "code",
   "source": [
    "config_path = 'config_experiment.json'  # Config with input file details\n",
    "load_dotenv()\n",
    "orchestrator = Orchestrator(config_path)\n",
    "orchestrator.setup_data_fetcher()\n",
    "ground_truth_Expert_df = False\n",
    "use_past_predictions = False\n",
    "predict = True"
   ],
   "id": "d38134199deb3f48",
   "outputs": [],
   "execution_count": null
  },
  {
   "metadata": {},
   "cell_type": "code",
   "source": "performance = pd.read_csv('exp_output/performance.csv')",
   "id": "c0042f36131c31b",
   "outputs": [],
   "execution_count": null
  },
  {
   "metadata": {},
   "cell_type": "code",
   "source": [
    "if ground_truth_Expert_df:\n",
    "    fetched_data = pd.read_csv(\"exp_ground_truth/ground_truth_Expert_df.csv\")\n",
    "else:   \n",
    "    fetched_data = pd.read_parquet(\"exp_input/fetched_data.parquet\")"
   ],
   "id": "b77c99b6f6d3319",
   "outputs": [],
   "execution_count": null
  },
  {
   "metadata": {},
   "cell_type": "code",
   "source": [
    "if use_past_predictions:\n",
    "    predict_df = pd.read_csv('exp_output/predicted_df.csv')\n",
    "    past_pred = predict_df.copy()\n",
    "    orchestrator.logger.info(f\"Loaded {len(past_pred)} past predictions.\")\n",
    "    orchestrator.logger.info(f\"Past predictions: {past_pred}\")"
   ],
   "id": "cb8c85362e85672c",
   "outputs": [],
   "execution_count": null
  },
  {
   "metadata": {},
   "cell_type": "code",
   "source": [
    "ground_truth = fetched_data[['publication', 'dataset_uid', 'repo_name', 'raw_html']]\n",
    "print(len(ground_truth))\n",
    "ground_truth.head()"
   ],
   "id": "a9b9f6114d5b994",
   "outputs": [],
   "execution_count": null
  },
  {
   "metadata": {},
   "cell_type": "code",
   "source": [
    "if predict:\n",
    "    results = {}\n",
    "    start_time = time.time()\n",
    "    log_every = len(fetched_data) // 200 \n",
    "    total_iters = len(fetched_data)  # Total number of URLs\n",
    "    predict_df = pd.DataFrame()\n",
    "    \n",
    "    try:\n",
    "        for i,row in fetched_data.iterrows():\n",
    "            orchestrator.current_url = row['publication']\n",
    "            if use_past_predictions and orchestrator.current_url in past_pred['source_url'].values and orchestrator.current_url not in redo['publication'].values:\n",
    "                orchestrator.logger.info(f\"URL {i+1} has already been processed. Skipping.\\n\\n\")\n",
    "                continue\n",
    "    \n",
    "            orchestrator.logger.info(f\"Processing URL {i+1}: {orchestrator.current_url}\")\n",
    "            orchestrator.publisher = orchestrator.data_fetcher.url_to_publisher_domain(orchestrator.current_url)\n",
    "            orchestrator.logger.info(f\"Publisher: {orchestrator.publisher}\")\n",
    "            #orchestrator.logger.info(\"Using LLMParser to parse data.\")\n",
    "            orchestrator.parser = LLMParser(orchestrator.XML_config, orchestrator.logger)\n",
    "            raw_data = row['raw_html']\n",
    "            parsed_data = orchestrator.parser.parse_data(raw_data, orchestrator.publisher, orchestrator.current_url, raw_data_format=\"full_HTML\")\n",
    "            parsed_data['source_url'] = orchestrator.current_url\n",
    "            orchestrator.logger.info(f\"Parsed data extraction completed. Elements collected: {len(parsed_data)}\")\n",
    "            results[orchestrator.current_url] = parsed_data\n",
    "            predict_df = pd.concat([predict_df, parsed_data], ignore_index=True)\n",
    "            \n",
    "            if (i + 1) % log_every == 0:\n",
    "                elapsed = time.time() - start_time  # Time elapsed since start\n",
    "                avg_time_per_iter = elapsed / (i + 1)  # Average time per iteration\n",
    "                remaining_iters = total_iters - (i + 1)\n",
    "                estimated_remaining = avg_time_per_iter * remaining_iters  # Estimated time remaining\n",
    "                orchestrator.logger.info(\n",
    "                    f\"\\nProgress: {i+1}/{total_iters} ({(i+1)/total_iters*100:.2f}%) \"\n",
    "                    f\"| Elapsed: {time.strftime('%H:%M:%S', time.gmtime(elapsed))} \"\n",
    "                    f\"| ETA: {time.strftime('%H:%M:%S', time.gmtime(estimated_remaining))}\\n\"\n",
    "                )\n",
    "            \n",
    "            time.sleep(2)\n",
    "    \n",
    "    except Exception as e:\n",
    "        orchestrator.logger.error(f\"Error processing URL {orchestrator.current_url}: {e}\")\n",
    "        orchestrator.logger.error(f\"URL: {orchestrator.current_url}\")\n",
    "        orchestrator.logger.error(f\"Publisher: {orchestrator.publisher}\")\n",
    "        orchestrator.logger.error(f\"Data: {parsed_data}\")\n",
    "        raise e\n",
    "        \n",
    "else:\n",
    "    predict_df = pd.read_csv('exp_output/predicted_df.csv')"
   ],
   "id": "a24f90f096cddf08",
   "outputs": [],
   "execution_count": null
  },
  {
   "metadata": {},
   "cell_type": "code",
   "source": "print(len(past_pred),past_pred.columns)",
   "id": "a10c98b190383afd",
   "outputs": [],
   "execution_count": null
  },
  {
   "metadata": {},
   "cell_type": "code",
   "source": [
    "# Convert the results dictionary values to a single DataFrame\n",
    "df_results = pd.concat(results.values(), ignore_index=True)\n",
    "df_results.head()"
   ],
   "id": "9f85d79725254963",
   "outputs": [],
   "execution_count": null
  },
  {
   "metadata": {},
   "cell_type": "code",
   "source": "len(df_results)",
   "id": "c941b3bb14bb88a0",
   "outputs": [],
   "execution_count": null
  },
  {
   "metadata": {},
   "cell_type": "code",
   "source": [
    "# Concatenate with past_pred DataFrame\n",
    "past_pred = pd.concat([past_pred, df_results], ignore_index=True)"
   ],
   "id": "ee979cf55a0c8831",
   "outputs": [],
   "execution_count": null
  },
  {
   "metadata": {},
   "cell_type": "code",
   "source": "past_pred",
   "id": "4e7795e6d3441a0f",
   "outputs": [],
   "execution_count": null
  },
  {
   "metadata": {},
   "cell_type": "code",
   "source": "past_pred[-2:]",
   "id": "11e8a44431c28f95",
   "outputs": [],
   "execution_count": null
  },
  {
   "metadata": {},
   "cell_type": "code",
   "source": "past_pred.to_csv('exp_output/predicted_df.csv', index=False)",
   "id": "400556c3dafd1548",
   "outputs": [],
   "execution_count": null
  },
  {
   "metadata": {},
   "cell_type": "code",
   "source": "predict_df = past_pred.copy()",
   "id": "8105a7dee274d0f",
   "outputs": [],
   "execution_count": null
  },
  {
   "metadata": {},
   "cell_type": "code",
   "source": [
    "# Ensure dataset_uid is a string and replace NaN with an empty string\n",
    "predict_df['dataset_identifier'] = predict_df['dataset_identifier'].astype(str).replace('nan', '')\n",
    "\n",
    "# Drop rows where dataset_uid is still NaN (if needed)\n",
    "predict_df = predict_df.dropna(subset=['dataset_identifier'])\n",
    "\n",
    "# Trim spaces and ensure no unintended whitespace\n",
    "predict_df['dataset_identifier'] = predict_df['dataset_identifier'].str.strip()\n",
    "\n",
    "# Now, call evaluation\n",
    "performance_metrics = evaluate_performance(predict_df, ground_truth, orchestrator, orchestrator.config['false_positives_file'])\n",
    "print(performance_metrics)"
   ],
   "id": "59719ae4cc196196",
   "outputs": [],
   "execution_count": null
  },
  {
   "metadata": {},
   "cell_type": "code",
   "source": [
    "# **Usage**\n",
    "performance_metrics = evaluate_performance(predict_df, ground_truth, orchestrator, orchestrator.config['false_positives_file'])\n",
    "print(performance_metrics)"
   ],
   "id": "a496fa632815b4a0",
   "outputs": [],
   "execution_count": null
  },
  {
   "metadata": {},
   "cell_type": "code",
   "source": "",
   "id": "2196b9c3da37d238",
   "outputs": [],
   "execution_count": null
  },
  {
   "metadata": {},
   "cell_type": "code",
   "source": "",
   "id": "91f6fd2e7cfaf800",
   "outputs": [],
   "execution_count": null
  }
 ],
 "metadata": {
  "kernelspec": {
   "display_name": "Python 3",
   "language": "python",
   "name": "python3"
  },
  "language_info": {
   "codemirror_mode": {
    "name": "ipython",
    "version": 2
   },
   "file_extension": ".py",
   "mimetype": "text/x-python",
   "name": "python",
   "nbconvert_exporter": "python",
   "pygments_lexer": "ipython2",
   "version": "2.7.6"
  }
 },
 "nbformat": 4,
 "nbformat_minor": 5
}
