{
 "cells": [
  {
   "cell_type": "code",
   "id": "initial_id",
   "metadata": {
    "collapsed": true,
    "ExecuteTime": {
     "end_time": "2025-02-12T19:11:31.743645Z",
     "start_time": "2025-02-12T19:11:25.879996Z"
    }
   },
   "source": [
    "# import from the files in this directory\n",
    "from dotenv import load_dotenv\n",
    "from classifier import *\n",
    "from data_fetcher import *\n",
    "from parser import *\n",
    "from orchestrator import *\n",
    "from logger_setup import *\n",
    "import os\n",
    "import json\n",
    "import pandas as pd\n",
    "import numpy as np\n",
    "import re"
   ],
   "outputs": [],
   "execution_count": 3
  },
  {
   "metadata": {
    "ExecuteTime": {
     "end_time": "2025-02-12T19:11:37.286748Z",
     "start_time": "2025-02-12T19:11:31.745444Z"
    }
   },
   "cell_type": "code",
   "source": [
    "config_path = 'config_experiment.json'  # Config with input file details\n",
    "load_dotenv()\n",
    "orchestrator = Orchestrator(config_path)"
   ],
   "id": "7bd813b0410d9e20",
   "outputs": [
    {
     "name": "stderr",
     "output_type": "stream",
     "text": [
      "orchestrator.py - line 20 - INFO - Data_Gatherer Orchestrator initialized.\n"
     ]
    }
   ],
   "execution_count": 4
  },
  {
   "metadata": {
    "ExecuteTime": {
     "end_time": "2025-02-12T19:11:42.113095Z",
     "start_time": "2025-02-12T19:11:37.302883Z"
    }
   },
   "cell_type": "code",
   "source": "orchestrator.setup_data_fetcher()",
   "id": "6f3a466ae0406180",
   "outputs": [
    {
     "name": "stderr",
     "output_type": "stream",
     "text": [
      "orchestrator.py - line 37 - INFO - Data fetcher setup completed.\n"
     ]
    }
   ],
   "execution_count": 5
  },
  {
   "metadata": {
    "ExecuteTime": {
     "end_time": "2025-02-12T19:11:43.009137Z",
     "start_time": "2025-02-12T19:11:42.124583Z"
    }
   },
   "cell_type": "code",
   "source": [
    "urls = None\n",
    "df = pd.read_csv('exp_input/proteomexchange_search.tsv', sep='\\t')\n",
    "publication_datasets = df[['publication','identifier','repository']]"
   ],
   "id": "d6f38e19ea698724",
   "outputs": [],
   "execution_count": 6
  },
  {
   "metadata": {
    "ExecuteTime": {
     "end_time": "2025-02-12T19:11:43.055024Z",
     "start_time": "2025-02-12T19:11:43.013166Z"
    }
   },
   "cell_type": "code",
   "source": [
    "# get an idea of values in df publication\n",
    "publication_datasets['publication'].value_counts()"
   ],
   "id": "543964711148cd3f",
   "outputs": [
    {
     "data": {
      "text/plain": [
       "publication\n",
       "Dataset with its publication pending                                                                                                                                                                      11719\n",
       "no publication                                                                                                                                                                                             2550\n",
       "<a href=\"http://www.ncbi.nlm.nih.gov/pubmed/35084980\" target=\"_blank\">Melani et al. (2022)</a>                                                                                                               56\n",
       "<a href=\"http://www.ncbi.nlm.nih.gov/pubmed/28267743\" target=\"_blank\">Matsumoto et al. (2017)</a>                                                                                                            28\n",
       "<a href=\"http://www.ncbi.nlm.nih.gov/pubmed/28071820\" target=\"_blank\">Kreutz et al. (2017)</a>                                                                                                               18\n",
       "                                                                                                                                                                                                          ...  \n",
       "<a href=\"https://dx.doi.org/10.3389/FPLS.2023.1285847\" target=\"_blank\">10.3389/FPLS.2023.1285847</a>                                                                                                          1\n",
       "<a href=\"https://dx.doi.org/10.1083/JCB.201902050\" target=\"_blank\">10.1083/JCB.201902050</a>                                                                                                                  1\n",
       "<a href=\"https://dx.doi.org/10.1038/S41598-023-47767-5\" target=\"_blank\">10.1038/S41598-023-47767-5</a>                                                                                                        1\n",
       "<a href=\"https://dx.doi.org/10.15252/embr.202357741\" target=\"_blank\">10.15252/embr.202357741</a>; <a href=\"https://www.ncbi.nlm.nih.gov/pubmed/38009565\" target=\"_blank\">Due Tankmar et al. (2023)</a>        1\n",
       "<a href=\"http://www.ncbi.nlm.nih.gov/pubmed/22874012\">Vaudel et al. (2012)</a>                                                                                                                                1\n",
       "Name: count, Length: 23462, dtype: int64"
      ]
     },
     "execution_count": 7,
     "metadata": {},
     "output_type": "execute_result"
    }
   ],
   "execution_count": 7
  },
  {
   "metadata": {
    "ExecuteTime": {
     "end_time": "2025-02-12T19:11:43.072248Z",
     "start_time": "2025-02-12T19:11:43.057823Z"
    }
   },
   "cell_type": "code",
   "source": [
    "#  clean the `publication` column by filtering out unwanted values like `\"Dataset with its publication pending\"`, `\"no publication\"`, and any HTML tags. \n",
    "# Remove rows with unwanted values\n",
    "filtered_df = publication_datasets[~publication_datasets['publication'].isin([\"Dataset with its publication pending\", \"no publication\"])]"
   ],
   "id": "d76aa070deeaa772",
   "outputs": [],
   "execution_count": 8
  },
  {
   "metadata": {
    "ExecuteTime": {
     "end_time": "2025-02-12T19:11:44.373534Z",
     "start_time": "2025-02-12T19:11:43.077528Z"
    }
   },
   "cell_type": "code",
   "source": [
    "publication_links = []\n",
    "for i, row in filtered_df.iterrows():\n",
    "    pub = str(row['publication'])  # Convert to string to avoid TypeError\n",
    "    if \"href\" in pub:  # Process only if it contains an <a href> tag\n",
    "        match = re.search(r'href=[\\'\"]([^\\'\"]+)[\\'\"]', pub)\n",
    "        if match:\n",
    "            publication_links.append(match.group(1))  # Extract the URL\n",
    "        else:\n",
    "            publication_links.append(None)  # No valid URL found\n",
    "    else:\n",
    "        publication_links.append(None)  # Non-HTML entries get None\n",
    "\n",
    "# Assign the cleaned list as a new column\n",
    "filtered_df['publication_link'] = publication_links\n",
    "# Drop rows where no valid publication link was found (optional)\n",
    "filtered_df.dropna(subset=['publication_link'], inplace=True)\n",
    "# Reset index\n",
    "filtered_df.reset_index(drop=True, inplace=True)"
   ],
   "id": "5e94d21e9f2fc71a",
   "outputs": [
    {
     "name": "stderr",
     "output_type": "stream",
     "text": [
      "/var/folders/br/873byd752sb72sf4n7yfykxw0000gn/T/ipykernel_64406/257080842.py:14: SettingWithCopyWarning: \n",
      "A value is trying to be set on a copy of a slice from a DataFrame.\n",
      "Try using .loc[row_indexer,col_indexer] = value instead\n",
      "\n",
      "See the caveats in the documentation: https://pandas.pydata.org/pandas-docs/stable/user_guide/indexing.html#returning-a-view-versus-a-copy\n",
      "  filtered_df['publication_link'] = publication_links\n",
      "/var/folders/br/873byd752sb72sf4n7yfykxw0000gn/T/ipykernel_64406/257080842.py:16: SettingWithCopyWarning: \n",
      "A value is trying to be set on a copy of a slice from a DataFrame\n",
      "\n",
      "See the caveats in the documentation: https://pandas.pydata.org/pandas-docs/stable/user_guide/indexing.html#returning-a-view-versus-a-copy\n",
      "  filtered_df.dropna(subset=['publication_link'], inplace=True)\n"
     ]
    }
   ],
   "execution_count": 9
  },
  {
   "metadata": {
    "ExecuteTime": {
     "end_time": "2025-02-12T19:11:44.391849Z",
     "start_time": "2025-02-12T19:11:44.375038Z"
    }
   },
   "cell_type": "code",
   "source": "filtered_df",
   "id": "31ba98a7f513ccff",
   "outputs": [
    {
     "data": {
      "text/plain": [
       "                                             publication identifier  \\\n",
       "0      <a href=\"https://dx.doi.org/10.1038/S41467-025...  PXD059466   \n",
       "1      <a href=\"https://dx.doi.org/10.6019/PXD051312\"...  PXD051312   \n",
       "2      <a href=\"https://dx.doi.org/10.17159/SAJS.2025...  PXD054431   \n",
       "3      <a href=\"https://dx.doi.org/10.1101/2024.04.03...  PXD050443   \n",
       "4      <a href=\"https://dx.doi.org/10.1101/2025.02.05...  PXD051704   \n",
       "...                                                  ...        ...   \n",
       "25691  <a href=\"http://www.ncbi.nlm.nih.gov/pubmed/23...  PXD000056   \n",
       "25692  <a href=\"http://www.ncbi.nlm.nih.gov/pubmed/22...  PXD000009   \n",
       "25693  <a href=\"http://www.ncbi.nlm.nih.gov/pubmed/22...  PXD000012   \n",
       "25694  <a href=\"http://www.ncbi.nlm.nih.gov/pubmed/22...  PXD000013   \n",
       "25695  <a href=\"http://www.ncbi.nlm.nih.gov/pubmed/22...  PXD000003   \n",
       "\n",
       "         repository                               publication_link  \n",
       "0             PRIDE  https://dx.doi.org/10.1038/S41467-025-56720-1  \n",
       "1             PRIDE           https://dx.doi.org/10.6019/PXD051312  \n",
       "2             PRIDE    https://dx.doi.org/10.17159/SAJS.2025/18571  \n",
       "3             PRIDE   https://dx.doi.org/10.1101/2024.04.03.587901  \n",
       "4             PRIDE   https://dx.doi.org/10.1101/2025.02.05.636703  \n",
       "...             ...                                            ...  \n",
       "25691         PRIDE    http://www.ncbi.nlm.nih.gov/pubmed/23212214  \n",
       "25692         PRIDE    http://www.ncbi.nlm.nih.gov/pubmed/22994238  \n",
       "25693         PRIDE    http://www.ncbi.nlm.nih.gov/pubmed/22905912  \n",
       "25694         PRIDE    http://www.ncbi.nlm.nih.gov/pubmed/22874012  \n",
       "25695  PeptideAtlas    http://www.ncbi.nlm.nih.gov/pubmed/22786679  \n",
       "\n",
       "[25696 rows x 4 columns]"
      ],
      "text/html": [
       "<div>\n",
       "<style scoped>\n",
       "    .dataframe tbody tr th:only-of-type {\n",
       "        vertical-align: middle;\n",
       "    }\n",
       "\n",
       "    .dataframe tbody tr th {\n",
       "        vertical-align: top;\n",
       "    }\n",
       "\n",
       "    .dataframe thead th {\n",
       "        text-align: right;\n",
       "    }\n",
       "</style>\n",
       "<table border=\"1\" class=\"dataframe\">\n",
       "  <thead>\n",
       "    <tr style=\"text-align: right;\">\n",
       "      <th></th>\n",
       "      <th>publication</th>\n",
       "      <th>identifier</th>\n",
       "      <th>repository</th>\n",
       "      <th>publication_link</th>\n",
       "    </tr>\n",
       "  </thead>\n",
       "  <tbody>\n",
       "    <tr>\n",
       "      <th>0</th>\n",
       "      <td>&lt;a href=\"https://dx.doi.org/10.1038/S41467-025...</td>\n",
       "      <td>PXD059466</td>\n",
       "      <td>PRIDE</td>\n",
       "      <td>https://dx.doi.org/10.1038/S41467-025-56720-1</td>\n",
       "    </tr>\n",
       "    <tr>\n",
       "      <th>1</th>\n",
       "      <td>&lt;a href=\"https://dx.doi.org/10.6019/PXD051312\"...</td>\n",
       "      <td>PXD051312</td>\n",
       "      <td>PRIDE</td>\n",
       "      <td>https://dx.doi.org/10.6019/PXD051312</td>\n",
       "    </tr>\n",
       "    <tr>\n",
       "      <th>2</th>\n",
       "      <td>&lt;a href=\"https://dx.doi.org/10.17159/SAJS.2025...</td>\n",
       "      <td>PXD054431</td>\n",
       "      <td>PRIDE</td>\n",
       "      <td>https://dx.doi.org/10.17159/SAJS.2025/18571</td>\n",
       "    </tr>\n",
       "    <tr>\n",
       "      <th>3</th>\n",
       "      <td>&lt;a href=\"https://dx.doi.org/10.1101/2024.04.03...</td>\n",
       "      <td>PXD050443</td>\n",
       "      <td>PRIDE</td>\n",
       "      <td>https://dx.doi.org/10.1101/2024.04.03.587901</td>\n",
       "    </tr>\n",
       "    <tr>\n",
       "      <th>4</th>\n",
       "      <td>&lt;a href=\"https://dx.doi.org/10.1101/2025.02.05...</td>\n",
       "      <td>PXD051704</td>\n",
       "      <td>PRIDE</td>\n",
       "      <td>https://dx.doi.org/10.1101/2025.02.05.636703</td>\n",
       "    </tr>\n",
       "    <tr>\n",
       "      <th>...</th>\n",
       "      <td>...</td>\n",
       "      <td>...</td>\n",
       "      <td>...</td>\n",
       "      <td>...</td>\n",
       "    </tr>\n",
       "    <tr>\n",
       "      <th>25691</th>\n",
       "      <td>&lt;a href=\"http://www.ncbi.nlm.nih.gov/pubmed/23...</td>\n",
       "      <td>PXD000056</td>\n",
       "      <td>PRIDE</td>\n",
       "      <td>http://www.ncbi.nlm.nih.gov/pubmed/23212214</td>\n",
       "    </tr>\n",
       "    <tr>\n",
       "      <th>25692</th>\n",
       "      <td>&lt;a href=\"http://www.ncbi.nlm.nih.gov/pubmed/22...</td>\n",
       "      <td>PXD000009</td>\n",
       "      <td>PRIDE</td>\n",
       "      <td>http://www.ncbi.nlm.nih.gov/pubmed/22994238</td>\n",
       "    </tr>\n",
       "    <tr>\n",
       "      <th>25693</th>\n",
       "      <td>&lt;a href=\"http://www.ncbi.nlm.nih.gov/pubmed/22...</td>\n",
       "      <td>PXD000012</td>\n",
       "      <td>PRIDE</td>\n",
       "      <td>http://www.ncbi.nlm.nih.gov/pubmed/22905912</td>\n",
       "    </tr>\n",
       "    <tr>\n",
       "      <th>25694</th>\n",
       "      <td>&lt;a href=\"http://www.ncbi.nlm.nih.gov/pubmed/22...</td>\n",
       "      <td>PXD000013</td>\n",
       "      <td>PRIDE</td>\n",
       "      <td>http://www.ncbi.nlm.nih.gov/pubmed/22874012</td>\n",
       "    </tr>\n",
       "    <tr>\n",
       "      <th>25695</th>\n",
       "      <td>&lt;a href=\"http://www.ncbi.nlm.nih.gov/pubmed/22...</td>\n",
       "      <td>PXD000003</td>\n",
       "      <td>PeptideAtlas</td>\n",
       "      <td>http://www.ncbi.nlm.nih.gov/pubmed/22786679</td>\n",
       "    </tr>\n",
       "  </tbody>\n",
       "</table>\n",
       "<p>25696 rows × 4 columns</p>\n",
       "</div>"
      ]
     },
     "execution_count": 10,
     "metadata": {},
     "output_type": "execute_result"
    }
   ],
   "execution_count": 10
  },
  {
   "metadata": {
    "ExecuteTime": {
     "end_time": "2025-02-12T19:12:25.186353Z",
     "start_time": "2025-02-12T19:11:44.394453Z"
    }
   },
   "cell_type": "code",
   "source": [
    "data = []\n",
    "\n",
    "for i,row in filtered_df.iterrows():\n",
    "    \n",
    "    if i == 3:\n",
    "        break\n",
    "    \n",
    "    url = row['publication_link']\n",
    "    orchestrator.logger.info(f\"Processing URL: {url}\")\n",
    "    \n",
    "    orchestrator.current_url = url\n",
    "    orchestrator.publisher = orchestrator.data_fetcher.url_to_publisher_domain(url)\n",
    "    \n",
    "    orchestrator.data_fetcher = orchestrator.data_fetcher.update_DataFetcher_settings(url, orchestrator.full_DOM, orchestrator.logger)\n",
    "    \n",
    "    try:\n",
    "        orchestrator.logger.info(\"Fetching Raw content\")\n",
    "        raw_data = orchestrator.data_fetcher.fetch_data(url)\n",
    "        data.append({\"publication\": url,\"dataset_uid\": row['identifier'], \"repo_name\": row['repository'], \"raw_html\": raw_data})\n",
    "    \n",
    "    except Exception as e:\n",
    "        orchestrator.logger.error(f\"Error processing URL {url}: {e}\", exc_info=True)\n",
    "    \n",
    "df = pd.DataFrame(data)\n",
    "df.set_index(\"publication\",inplace=True)\n",
    "df"
   ],
   "id": "9f261326b0c2b615",
   "outputs": [
    {
     "name": "stderr",
     "output_type": "stream",
     "text": [
      "2617608109.py - line 9 - INFO - Processing URL: https://dx.doi.org/10.1038/S41467-025-56720-1\n",
      "data_fetcher.py - line 29 - INFO - Publisher: doi\n",
      "data_fetcher.py - line 64 - INFO - Non-API URL detected, or API unsupported. Webscraper update\n",
      "2617608109.py - line 17 - INFO - Fetching Raw content\n",
      "2617608109.py - line 9 - INFO - Processing URL: https://dx.doi.org/10.6019/PXD051312\n",
      "data_fetcher.py - line 29 - INFO - Publisher: doi\n",
      "data_fetcher.py - line 64 - INFO - Non-API URL detected, or API unsupported. Webscraper update\n",
      "2617608109.py - line 17 - INFO - Fetching Raw content\n",
      "2617608109.py - line 9 - INFO - Processing URL: https://dx.doi.org/10.17159/SAJS.2025/18571\n",
      "data_fetcher.py - line 29 - INFO - Publisher: doi\n",
      "data_fetcher.py - line 64 - INFO - Non-API URL detected, or API unsupported. Webscraper update\n",
      "2617608109.py - line 17 - INFO - Fetching Raw content\n"
     ]
    },
    {
     "data": {
      "text/plain": [
       "                                              dataset_uid repo_name  \\\n",
       "publication                                                           \n",
       "https://dx.doi.org/10.1038/S41467-025-56720-1   PXD059466     PRIDE   \n",
       "https://dx.doi.org/10.6019/PXD051312            PXD051312     PRIDE   \n",
       "https://dx.doi.org/10.17159/SAJS.2025/18571     PXD054431     PRIDE   \n",
       "\n",
       "                                                                                        raw_html  \n",
       "publication                                                                                       \n",
       "https://dx.doi.org/10.1038/S41467-025-56720-1  <html lang=\"en\" class=\"js\"><head><link rel=\"pr...  \n",
       "https://dx.doi.org/10.6019/PXD051312           <html xmlns=\"http://www.w3.org/1999/xhtml\" lan...  \n",
       "https://dx.doi.org/10.17159/SAJS.2025/18571    <html lang=\"en\" xml:lang=\"en\"><head>\\n\\t<meta ...  "
      ],
      "text/html": [
       "<div>\n",
       "<style scoped>\n",
       "    .dataframe tbody tr th:only-of-type {\n",
       "        vertical-align: middle;\n",
       "    }\n",
       "\n",
       "    .dataframe tbody tr th {\n",
       "        vertical-align: top;\n",
       "    }\n",
       "\n",
       "    .dataframe thead th {\n",
       "        text-align: right;\n",
       "    }\n",
       "</style>\n",
       "<table border=\"1\" class=\"dataframe\">\n",
       "  <thead>\n",
       "    <tr style=\"text-align: right;\">\n",
       "      <th></th>\n",
       "      <th>dataset_uid</th>\n",
       "      <th>repo_name</th>\n",
       "      <th>raw_html</th>\n",
       "    </tr>\n",
       "    <tr>\n",
       "      <th>publication</th>\n",
       "      <th></th>\n",
       "      <th></th>\n",
       "      <th></th>\n",
       "    </tr>\n",
       "  </thead>\n",
       "  <tbody>\n",
       "    <tr>\n",
       "      <th>https://dx.doi.org/10.1038/S41467-025-56720-1</th>\n",
       "      <td>PXD059466</td>\n",
       "      <td>PRIDE</td>\n",
       "      <td>&lt;html lang=\"en\" class=\"js\"&gt;&lt;head&gt;&lt;link rel=\"pr...</td>\n",
       "    </tr>\n",
       "    <tr>\n",
       "      <th>https://dx.doi.org/10.6019/PXD051312</th>\n",
       "      <td>PXD051312</td>\n",
       "      <td>PRIDE</td>\n",
       "      <td>&lt;html xmlns=\"http://www.w3.org/1999/xhtml\" lan...</td>\n",
       "    </tr>\n",
       "    <tr>\n",
       "      <th>https://dx.doi.org/10.17159/SAJS.2025/18571</th>\n",
       "      <td>PXD054431</td>\n",
       "      <td>PRIDE</td>\n",
       "      <td>&lt;html lang=\"en\" xml:lang=\"en\"&gt;&lt;head&gt;\\n\\t&lt;meta ...</td>\n",
       "    </tr>\n",
       "  </tbody>\n",
       "</table>\n",
       "</div>"
      ]
     },
     "execution_count": 11,
     "metadata": {},
     "output_type": "execute_result"
    }
   ],
   "execution_count": 11
  },
  {
   "metadata": {
    "ExecuteTime": {
     "end_time": "2025-02-12T19:12:25.229530Z",
     "start_time": "2025-02-12T19:12:25.188515Z"
    }
   },
   "cell_type": "code",
   "source": "df.to_csv(\"exp_input/PRIDEid_HTML_data.csv\")",
   "id": "b05d92d1f79b77a7",
   "outputs": [],
   "execution_count": 12
  },
  {
   "metadata": {},
   "cell_type": "code",
   "outputs": [],
   "execution_count": null,
   "source": "",
   "id": "1999342b8158ea08"
  }
 ],
 "metadata": {
  "kernelspec": {
   "display_name": "Python 3",
   "language": "python",
   "name": "python3"
  },
  "language_info": {
   "codemirror_mode": {
    "name": "ipython",
    "version": 2
   },
   "file_extension": ".py",
   "mimetype": "text/x-python",
   "name": "python",
   "nbconvert_exporter": "python",
   "pygments_lexer": "ipython2",
   "version": "2.7.6"
  }
 },
 "nbformat": 4,
 "nbformat_minor": 5
}
