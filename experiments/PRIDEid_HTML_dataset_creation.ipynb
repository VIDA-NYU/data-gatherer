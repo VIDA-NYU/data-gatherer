{
 "cells": [
  {
   "cell_type": "code",
   "id": "initial_id",
   "metadata": {
    "collapsed": true,
    "ExecuteTime": {
     "end_time": "2025-03-05T21:07:41.730579Z",
     "start_time": "2025-03-05T21:07:35.487811Z"
    }
   },
   "source": [
    "# import from the files in this directory\n",
    "from dotenv import load_dotenv\n",
    "from classifier import *\n",
    "from data_fetcher import *\n",
    "from parser import *\n",
    "from orchestrator import *\n",
    "from logger_setup import *\n",
    "import os\n",
    "import json\n",
    "import pandas as pd\n",
    "import numpy as np\n",
    "import re\n",
    "import time"
   ],
   "outputs": [],
   "execution_count": 1
  },
  {
   "metadata": {
    "ExecuteTime": {
     "end_time": "2025-03-05T21:07:45.724612Z",
     "start_time": "2025-03-05T21:07:41.732351Z"
    }
   },
   "cell_type": "code",
   "source": [
    "config_path = 'config_experiment.json'  # Config with input file details\n",
    "load_dotenv()\n",
    "orchestrator = Orchestrator(config_path)"
   ],
   "id": "d38134199deb3f48",
   "outputs": [
    {
     "name": "stderr",
     "output_type": "stream",
     "text": [
      "orchestrator.py - line 20 - INFO - Data_Gatherer Orchestrator initialized. Extraction step Model: gemini-2.0-flash-exp\n"
     ]
    }
   ],
   "execution_count": 2
  },
  {
   "metadata": {
    "ExecuteTime": {
     "end_time": "2025-03-05T21:07:46.252559Z",
     "start_time": "2025-03-05T21:07:45.728298Z"
    }
   },
   "cell_type": "code",
   "source": [
    "urls = None\n",
    "df = pd.read_csv('exp_input/proteomexchange_search.tsv', sep='\\t')\n",
    "publication_datasets = df[['publication','identifier','repository']]"
   ],
   "id": "b77c99b6f6d3319",
   "outputs": [],
   "execution_count": 3
  },
  {
   "metadata": {
    "ExecuteTime": {
     "end_time": "2025-03-05T21:07:46.281854Z",
     "start_time": "2025-03-05T21:07:46.255487Z"
    }
   },
   "cell_type": "code",
   "source": [
    "# get an idea of values in df publication\n",
    "publication_datasets['publication'].value_counts()"
   ],
   "id": "5b6d73f5cec35e38",
   "outputs": [
    {
     "data": {
      "text/plain": [
       "publication\n",
       "Dataset with its publication pending                                                                                                                                                                      11719\n",
       "no publication                                                                                                                                                                                             2550\n",
       "<a href=\"http://www.ncbi.nlm.nih.gov/pubmed/35084980\" target=\"_blank\">Melani et al. (2022)</a>                                                                                                               56\n",
       "<a href=\"http://www.ncbi.nlm.nih.gov/pubmed/28267743\" target=\"_blank\">Matsumoto et al. (2017)</a>                                                                                                            28\n",
       "<a href=\"http://www.ncbi.nlm.nih.gov/pubmed/28071820\" target=\"_blank\">Kreutz et al. (2017)</a>                                                                                                               18\n",
       "                                                                                                                                                                                                          ...  \n",
       "<a href=\"https://dx.doi.org/10.3389/FPLS.2023.1285847\" target=\"_blank\">10.3389/FPLS.2023.1285847</a>                                                                                                          1\n",
       "<a href=\"https://dx.doi.org/10.1083/JCB.201902050\" target=\"_blank\">10.1083/JCB.201902050</a>                                                                                                                  1\n",
       "<a href=\"https://dx.doi.org/10.1038/S41598-023-47767-5\" target=\"_blank\">10.1038/S41598-023-47767-5</a>                                                                                                        1\n",
       "<a href=\"https://dx.doi.org/10.15252/embr.202357741\" target=\"_blank\">10.15252/embr.202357741</a>; <a href=\"https://www.ncbi.nlm.nih.gov/pubmed/38009565\" target=\"_blank\">Due Tankmar et al. (2023)</a>        1\n",
       "<a href=\"http://www.ncbi.nlm.nih.gov/pubmed/22874012\">Vaudel et al. (2012)</a>                                                                                                                                1\n",
       "Name: count, Length: 23462, dtype: int64"
      ]
     },
     "execution_count": 4,
     "metadata": {},
     "output_type": "execute_result"
    }
   ],
   "execution_count": 4
  },
  {
   "metadata": {
    "ExecuteTime": {
     "end_time": "2025-03-05T21:07:46.292833Z",
     "start_time": "2025-03-05T21:07:46.283653Z"
    }
   },
   "cell_type": "code",
   "source": [
    "#  clean the `publication` column by filtering out unwanted values like `\"Dataset with its publication pending\"`, `\"no publication\"`, and any HTML tags. \n",
    "# Remove rows with unwanted values\n",
    "filtered_df = publication_datasets[~publication_datasets['publication'].isin([\"Dataset with its publication pending\", \"no publication\"])]"
   ],
   "id": "5ef8385ef9b8416d",
   "outputs": [],
   "execution_count": 5
  },
  {
   "metadata": {
    "ExecuteTime": {
     "end_time": "2025-03-05T21:07:47.681063Z",
     "start_time": "2025-03-05T21:07:46.294762Z"
    }
   },
   "cell_type": "code",
   "source": [
    "# Assuming filtered_df is already defined\n",
    "filtered_df['publication_link'] = None  # Create a new column for the links\n",
    "\n",
    "for i, row in filtered_df.iterrows():\n",
    "    pub = str(row['publication'])  # Ensure string type\n",
    "    if \"href\" in pub:\n",
    "        match = re.findall(r'href=[\\'\"]([^\\'\"]+)[\\'\"]', pub)\n",
    "        if match:\n",
    "            filtered_df.at[i, 'publication_link'] = match  # Assign all the matched URLs\n",
    "        else:\n",
    "            filtered_df.at[i, 'publication_link'] = None\n",
    "    else:\n",
    "        filtered_df.at[i, 'publication_link'] = None\n",
    "\n",
    "# Drop rows with missing links (optional)\n",
    "filtered_df.dropna(subset=['publication_link'], inplace=True)\n",
    "filtered_df.reset_index(drop=True, inplace=True)"
   ],
   "id": "ac053d4c4e0d95e6",
   "outputs": [
    {
     "name": "stderr",
     "output_type": "stream",
     "text": [
      "/var/folders/br/873byd752sb72sf4n7yfykxw0000gn/T/ipykernel_17553/1978044078.py:2: SettingWithCopyWarning: \n",
      "A value is trying to be set on a copy of a slice from a DataFrame.\n",
      "Try using .loc[row_indexer,col_indexer] = value instead\n",
      "\n",
      "See the caveats in the documentation: https://pandas.pydata.org/pandas-docs/stable/user_guide/indexing.html#returning-a-view-versus-a-copy\n",
      "  filtered_df['publication_link'] = None  # Create a new column for the links\n",
      "/var/folders/br/873byd752sb72sf4n7yfykxw0000gn/T/ipykernel_17553/1978044078.py:16: SettingWithCopyWarning: \n",
      "A value is trying to be set on a copy of a slice from a DataFrame\n",
      "\n",
      "See the caveats in the documentation: https://pandas.pydata.org/pandas-docs/stable/user_guide/indexing.html#returning-a-view-versus-a-copy\n",
      "  filtered_df.dropna(subset=['publication_link'], inplace=True)\n"
     ]
    }
   ],
   "execution_count": 6
  },
  {
   "metadata": {
    "ExecuteTime": {
     "end_time": "2025-03-05T21:07:49.724891Z",
     "start_time": "2025-03-05T21:07:48.706967Z"
    }
   },
   "cell_type": "code",
   "source": [
    "m = 0\n",
    "for i,row in filtered_df.iterrows():\n",
    "    id = row['identifier']\n",
    "    m+=len(row['publication_link'])\n",
    "print(m/i+1)\n",
    "print(filtered_df)"
   ],
   "id": "bf9d75490f3125de",
   "outputs": [
    {
     "name": "stdout",
     "output_type": "stream",
     "text": [
      "2.5313095933060907\n",
      "                                             publication identifier  \\\n",
      "0      <a href=\"https://dx.doi.org/10.1038/S41467-025...  PXD059466   \n",
      "1      <a href=\"https://dx.doi.org/10.6019/PXD051312\"...  PXD051312   \n",
      "2      <a href=\"https://dx.doi.org/10.17159/SAJS.2025...  PXD054431   \n",
      "3      <a href=\"https://dx.doi.org/10.1101/2024.04.03...  PXD050443   \n",
      "4      <a href=\"https://dx.doi.org/10.1101/2025.02.05...  PXD051704   \n",
      "...                                                  ...        ...   \n",
      "25691  <a href=\"http://www.ncbi.nlm.nih.gov/pubmed/23...  PXD000056   \n",
      "25692  <a href=\"http://www.ncbi.nlm.nih.gov/pubmed/22...  PXD000009   \n",
      "25693  <a href=\"http://www.ncbi.nlm.nih.gov/pubmed/22...  PXD000012   \n",
      "25694  <a href=\"http://www.ncbi.nlm.nih.gov/pubmed/22...  PXD000013   \n",
      "25695  <a href=\"http://www.ncbi.nlm.nih.gov/pubmed/22...  PXD000003   \n",
      "\n",
      "         repository                                   publication_link  \n",
      "0             PRIDE    [https://dx.doi.org/10.1038/S41467-025-56720-1]  \n",
      "1             PRIDE  [https://dx.doi.org/10.6019/PXD051312, https:/...  \n",
      "2             PRIDE      [https://dx.doi.org/10.17159/SAJS.2025/18571]  \n",
      "3             PRIDE     [https://dx.doi.org/10.1101/2024.04.03.587901]  \n",
      "4             PRIDE     [https://dx.doi.org/10.1101/2025.02.05.636703]  \n",
      "...             ...                                                ...  \n",
      "25691         PRIDE      [http://www.ncbi.nlm.nih.gov/pubmed/23212214]  \n",
      "25692         PRIDE      [http://www.ncbi.nlm.nih.gov/pubmed/22994238]  \n",
      "25693         PRIDE      [http://www.ncbi.nlm.nih.gov/pubmed/22905912]  \n",
      "25694         PRIDE      [http://www.ncbi.nlm.nih.gov/pubmed/22874012]  \n",
      "25695  PeptideAtlas      [http://www.ncbi.nlm.nih.gov/pubmed/22786679]  \n",
      "\n",
      "[25696 rows x 4 columns]\n"
     ]
    }
   ],
   "execution_count": 7
  },
  {
   "metadata": {
    "ExecuteTime": {
     "end_time": "2025-03-05T21:08:01.277806Z",
     "start_time": "2025-03-05T21:07:59.076Z"
    }
   },
   "cell_type": "code",
   "source": [
    "# raw_data_v1.csv \\ PRIDEid_HTML_data.csv is the file containing the old data\n",
    "df_old = pd.read_csv(\"exp_input/raw_data_v1.csv\", index_col=\"publication\")\n",
    "# check the uid of the last value of df_old and find its index in filtered_df\n",
    "dataset_uids = list(df_old['dataset_uid'].values)"
   ],
   "id": "8b0796baf29ce93d",
   "outputs": [],
   "execution_count": 8
  },
  {
   "metadata": {
    "ExecuteTime": {
     "end_time": "2025-03-05T21:08:05.297432Z",
     "start_time": "2025-03-05T21:08:05.254465Z"
    }
   },
   "cell_type": "code",
   "source": "df_old.head()",
   "id": "9ca3153217696ffd",
   "outputs": [
    {
     "data": {
      "text/plain": [
       "                                                                   dataset_uid  \\\n",
       "publication                                                                      \n",
       "https://dx.doi.org/10.1001/JAMANEUROL.2024.4763                      PXD056570   \n",
       "https://dx.doi.org/10.1002/CBIC.202400831                            PXD055649   \n",
       "https://dx.doi.org/10.1002/CBIC.202400882                            PXD060372   \n",
       "https://dx.doi.org/10.1002/PRCA.202300107                            PXD028078   \n",
       "https://dx.doi.org/10.1002/anie.202420149        PXD056865,PXD057925,PXD058045   \n",
       "\n",
       "                                                repo_name  \\\n",
       "publication                                                 \n",
       "https://dx.doi.org/10.1001/JAMANEUROL.2024.4763     PRIDE   \n",
       "https://dx.doi.org/10.1002/CBIC.202400831           PRIDE   \n",
       "https://dx.doi.org/10.1002/CBIC.202400882           PRIDE   \n",
       "https://dx.doi.org/10.1002/PRCA.202300107           PRIDE   \n",
       "https://dx.doi.org/10.1002/anie.202420149           PRIDE   \n",
       "\n",
       "                                                                          doi  \\\n",
       "publication                                                                     \n",
       "https://dx.doi.org/10.1001/JAMANEUROL.2024.4763  10.1001/JAMANEUROL.2024.4763   \n",
       "https://dx.doi.org/10.1002/CBIC.202400831              10.1002/CBIC.202400831   \n",
       "https://dx.doi.org/10.1002/CBIC.202400882              10.1002/CBIC.202400882   \n",
       "https://dx.doi.org/10.1002/PRCA.202300107              10.1002/PRCA.202300107   \n",
       "https://dx.doi.org/10.1002/anie.202420149              10.1002/anie.202420149   \n",
       "\n",
       "                                                                                          raw_html  \\\n",
       "publication                                                                                          \n",
       "https://dx.doi.org/10.1001/JAMANEUROL.2024.4763  <html id=\"doc\" lang=\"en\" class=\"page-article j...   \n",
       "https://dx.doi.org/10.1002/CBIC.202400831        <html lang=\"en\" class=\"pb-page\" data-request-i...   \n",
       "https://dx.doi.org/10.1002/CBIC.202400882        <html lang=\"en\" class=\"pb-page\" data-request-i...   \n",
       "https://dx.doi.org/10.1002/PRCA.202300107        <html lang=\"en\" class=\"pb-page\" data-request-i...   \n",
       "https://dx.doi.org/10.1002/anie.202420149        <html lang=\"en\" class=\"pb-page\" data-request-i...   \n",
       "\n",
       "                                                         publisher  \\\n",
       "publication                                                          \n",
       "https://dx.doi.org/10.1001/JAMANEUROL.2024.4763        jamanetwork   \n",
       "https://dx.doi.org/10.1002/CBIC.202400831        Unknown Publisher   \n",
       "https://dx.doi.org/10.1002/CBIC.202400882        Unknown Publisher   \n",
       "https://dx.doi.org/10.1002/PRCA.202300107                    wiley   \n",
       "https://dx.doi.org/10.1002/anie.202420149                    wiley   \n",
       "\n",
       "                                                                                 smallest_elements  \n",
       "publication                                                                                         \n",
       "https://dx.doi.org/10.1001/JAMANEUROL.2024.4763                                                 na  \n",
       "https://dx.doi.org/10.1002/CBIC.202400831        [('<p>The mass spectrometry proteomics data ha...  \n",
       "https://dx.doi.org/10.1002/CBIC.202400882        [('<p>The data that support the findings of th...  \n",
       "https://dx.doi.org/10.1002/PRCA.202300107        [('<p>Generation of the protein library and SW...  \n",
       "https://dx.doi.org/10.1002/anie.202420149        [('<p>The mass spectrometry proteomics data ha...  "
      ],
      "text/html": [
       "<div>\n",
       "<style scoped>\n",
       "    .dataframe tbody tr th:only-of-type {\n",
       "        vertical-align: middle;\n",
       "    }\n",
       "\n",
       "    .dataframe tbody tr th {\n",
       "        vertical-align: top;\n",
       "    }\n",
       "\n",
       "    .dataframe thead th {\n",
       "        text-align: right;\n",
       "    }\n",
       "</style>\n",
       "<table border=\"1\" class=\"dataframe\">\n",
       "  <thead>\n",
       "    <tr style=\"text-align: right;\">\n",
       "      <th></th>\n",
       "      <th>dataset_uid</th>\n",
       "      <th>repo_name</th>\n",
       "      <th>doi</th>\n",
       "      <th>raw_html</th>\n",
       "      <th>publisher</th>\n",
       "      <th>smallest_elements</th>\n",
       "    </tr>\n",
       "    <tr>\n",
       "      <th>publication</th>\n",
       "      <th></th>\n",
       "      <th></th>\n",
       "      <th></th>\n",
       "      <th></th>\n",
       "      <th></th>\n",
       "      <th></th>\n",
       "    </tr>\n",
       "  </thead>\n",
       "  <tbody>\n",
       "    <tr>\n",
       "      <th>https://dx.doi.org/10.1001/JAMANEUROL.2024.4763</th>\n",
       "      <td>PXD056570</td>\n",
       "      <td>PRIDE</td>\n",
       "      <td>10.1001/JAMANEUROL.2024.4763</td>\n",
       "      <td>&lt;html id=\"doc\" lang=\"en\" class=\"page-article j...</td>\n",
       "      <td>jamanetwork</td>\n",
       "      <td>na</td>\n",
       "    </tr>\n",
       "    <tr>\n",
       "      <th>https://dx.doi.org/10.1002/CBIC.202400831</th>\n",
       "      <td>PXD055649</td>\n",
       "      <td>PRIDE</td>\n",
       "      <td>10.1002/CBIC.202400831</td>\n",
       "      <td>&lt;html lang=\"en\" class=\"pb-page\" data-request-i...</td>\n",
       "      <td>Unknown Publisher</td>\n",
       "      <td>[('&lt;p&gt;The mass spectrometry proteomics data ha...</td>\n",
       "    </tr>\n",
       "    <tr>\n",
       "      <th>https://dx.doi.org/10.1002/CBIC.202400882</th>\n",
       "      <td>PXD060372</td>\n",
       "      <td>PRIDE</td>\n",
       "      <td>10.1002/CBIC.202400882</td>\n",
       "      <td>&lt;html lang=\"en\" class=\"pb-page\" data-request-i...</td>\n",
       "      <td>Unknown Publisher</td>\n",
       "      <td>[('&lt;p&gt;The data that support the findings of th...</td>\n",
       "    </tr>\n",
       "    <tr>\n",
       "      <th>https://dx.doi.org/10.1002/PRCA.202300107</th>\n",
       "      <td>PXD028078</td>\n",
       "      <td>PRIDE</td>\n",
       "      <td>10.1002/PRCA.202300107</td>\n",
       "      <td>&lt;html lang=\"en\" class=\"pb-page\" data-request-i...</td>\n",
       "      <td>wiley</td>\n",
       "      <td>[('&lt;p&gt;Generation of the protein library and SW...</td>\n",
       "    </tr>\n",
       "    <tr>\n",
       "      <th>https://dx.doi.org/10.1002/anie.202420149</th>\n",
       "      <td>PXD056865,PXD057925,PXD058045</td>\n",
       "      <td>PRIDE</td>\n",
       "      <td>10.1002/anie.202420149</td>\n",
       "      <td>&lt;html lang=\"en\" class=\"pb-page\" data-request-i...</td>\n",
       "      <td>wiley</td>\n",
       "      <td>[('&lt;p&gt;The mass spectrometry proteomics data ha...</td>\n",
       "    </tr>\n",
       "  </tbody>\n",
       "</table>\n",
       "</div>"
      ]
     },
     "execution_count": 9,
     "metadata": {},
     "output_type": "execute_result"
    }
   ],
   "execution_count": 9
  },
  {
   "metadata": {
    "ExecuteTime": {
     "end_time": "2025-03-05T21:08:06.733264Z",
     "start_time": "2025-03-05T21:08:06.727735Z"
    }
   },
   "cell_type": "code",
   "source": [
    "all_ids = []\n",
    "for element in [item.split(',') for item in df_old['dataset_uid'].values]:\n",
    "    all_ids.extend(element)"
   ],
   "id": "f3fabf02737f3974",
   "outputs": [],
   "execution_count": 10
  },
  {
   "metadata": {
    "ExecuteTime": {
     "end_time": "2025-03-05T21:08:08.584127Z",
     "start_time": "2025-03-05T21:08:08.579053Z"
    }
   },
   "cell_type": "code",
   "source": [
    "# count distinct values in dataset_uids\n",
    "latest_index = len(set(all_ids))\n",
    "latest_index"
   ],
   "id": "6956c376c8b5b898",
   "outputs": [
    {
     "data": {
      "text/plain": [
       "181"
      ]
     },
     "execution_count": 11,
     "metadata": {},
     "output_type": "execute_result"
    }
   ],
   "execution_count": 11
  },
  {
   "metadata": {
    "ExecuteTime": {
     "end_time": "2025-03-05T21:08:09.682063Z",
     "start_time": "2025-03-05T21:08:09.677610Z"
    }
   },
   "cell_type": "code",
   "source": [
    "def extract_all_elements_with_UID(source_html, uid):\n",
    "    soup = BeautifulSoup(source_html, \"html.parser\")\n",
    "    \n",
    "    matching_elements = []\n",
    "    \n",
    "    for p in soup.find_all([\"table\",\"p\"]):  # Find only <p> elements\n",
    "        text = p.get_text(strip=True)\n",
    "        \n",
    "        if uid in text:  # Check if UID is in the text\n",
    "            matching_elements.append((str(p), len(text)))  # Store element and length\n",
    "\n",
    "    # If multiple matches, return the **smallest** one\n",
    "    if matching_elements:\n",
    "        # smallest_p, _ = min(matching_elements, key=lambda x: x[1])  # Find smallest\n",
    "        return matching_elements  # Pretty-print the raw HTML for debugging # smallest_p\n",
    "    \n",
    "    return None  # No match found"
   ],
   "id": "44e65d9d0b0dd655",
   "outputs": [],
   "execution_count": 12
  },
  {
   "metadata": {
    "ExecuteTime": {
     "end_time": "2025-03-05T21:08:13.081291Z",
     "start_time": "2025-03-05T21:08:13.075877Z"
    }
   },
   "cell_type": "code",
   "source": [
    "def add_example_to_merged_df(row, raw_html):\n",
    "    # handle uid also when comma-separated, then split and extract smallest element\n",
    "    if 'identifier' in row:\n",
    "        uid = row['identifier']\n",
    "    elif 'dataset_uid' in row:\n",
    "        uid = row['dataset_uid']\n",
    "    if ',' in uid:\n",
    "        uids = uid.split(',')\n",
    "        elements = []\n",
    "        for uid in uids:\n",
    "            elm_i = extract_all_elements_with_UID(raw_html, uid)\n",
    "            if elm_i in elements: # no dupes\n",
    "                continue\n",
    "            else:\n",
    "                elements.append(elm_i)\n",
    "        return elements\n",
    "    else:\n",
    "        return extract_all_elements_with_UID(raw_html, uid)\n"
   ],
   "id": "16e85d7ced60e9f0",
   "outputs": [],
   "execution_count": 13
  },
  {
   "metadata": {
    "ExecuteTime": {
     "end_time": "2025-03-05T21:08:40.206906Z",
     "start_time": "2025-03-05T21:08:21.807745Z"
    }
   },
   "cell_type": "code",
   "source": [
    "data = []\n",
    "\n",
    "start = latest_index + 1 \n",
    "\n",
    "iter_max = 1\n",
    "\n",
    "t0 = time.time()\n",
    "\n",
    "for i,row in filtered_df[start:].iterrows():\n",
    "        \n",
    "    id = row['identifier']\n",
    "    \n",
    "    if id in dataset_uids:\n",
    "        continue\n",
    "    \n",
    "    if i == start + iter_max:\n",
    "        break\n",
    "        \n",
    "    if i%100 == 0 and i>0:\n",
    "        orchestrator.logger.info(f\"Progress {i+1}/{len(filtered_df)}. ETA {((time.time()-t0)/(i+1))*(len(filtered_df)-i-1)}\")\n",
    "        \n",
    "    orchestrator.logger.info(f\"Processing URL {i+1}.\\nTime elapsed: {time.time()-t0}\") if i>0 else None\n",
    "    orchestrator.logger.info(f\"{len(row['publication_link'])} links found for dataset {id}\")\n",
    "    \n",
    "    j = 0\n",
    "    for url in row['publication_link']:\n",
    "        j+=1\n",
    "        \n",
    "        driver = orchestrator.setup_data_fetcher()\n",
    "        \n",
    "        orchestrator.logger.info(f\"Processing URL: {url}\")\n",
    "    \n",
    "        orchestrator.data_fetcher = orchestrator.data_fetcher.update_DataFetcher_settings(url, orchestrator.full_DOM, orchestrator.logger)\n",
    "        \n",
    "        try:\n",
    "            #orchestrator.logger.info(\"Fetching Raw content\")\n",
    "            raw_data = orchestrator.data_fetcher.fetch_data(url)\n",
    "            \n",
    "            orchestrator.logger.info(f\"Publication #: {j}, current URL: {orchestrator.data_fetcher.scraper_tool.current_url}\")\n",
    "            orchestrator.publisher = orchestrator.data_fetcher.url_to_publisher_domain(orchestrator.data_fetcher.scraper_tool.current_url)\n",
    "            \n",
    "            if orchestrator.publisher == \"biorxiv\":\n",
    "                fixed_url = orchestrator.data_fetcher.scraper_tool.current_url + \".full\"\n",
    "                raw_data = orchestrator.data_fetcher.fetch_data(fixed_url)\n",
    "\n",
    "            if id in raw_data:\n",
    "                example = add_example_to_merged_df(row, raw_data)\n",
    "                orchestrator.logger.info(f\"Example: {example}\")\n",
    "                \n",
    "                data.append({\"publication\": url, \"publisher\":orchestrator.publisher, \"dataset_uid\": id, \"repo_name\": row['repository'],\n",
    "                             \"raw_html\": raw_data, \"smallest_elements\": example})\n",
    "                orchestrator.logger.info(f\"Data appended for {url}\")\n",
    "                driver.quit()\n",
    "                continue\n",
    "            else:\n",
    "                orchestrator.logger.info(\"id not found in raw data\")\n",
    "                data.append({\"publication\": url, \"publisher\":orchestrator.publisher, \"dataset_uid\": id, \"repo_name\": row['repository'],\n",
    "                             \"raw_html\": raw_data, \"smallest_elements\": 'na'})\n",
    "                driver.quit()\n",
    "                continue\n",
    "        except Exception as e:\n",
    "            orchestrator.logger.error(f\"Error processing URL {url}: {e}\", exc_info=True)"
   ],
   "id": "749a6cf1e6facd65",
   "outputs": [
    {
     "name": "stderr",
     "output_type": "stream",
     "text": [
      "1225212621.py - line 22 - INFO - Processing URL 183.\n",
      "Time elapsed: 0.005068063735961914\n",
      "1225212621.py - line 23 - INFO - 1 links found for dataset PXD045956\n",
      "orchestrator.py - line 45 - INFO - Data fetcher setup completed.\n",
      "1225212621.py - line 31 - INFO - Processing URL: https://dx.doi.org/10.1021/ACS.ANALCHEM.4C02924\n",
      "data_fetcher.py - line 69 - INFO - Non-API URL detected, or API unsupported. Webscraper update\n",
      "1225212621.py - line 39 - INFO - Publication #: 1, current URL: https://pubs.acs.org/doi/10.1021/acs.analchem.4c02924\n",
      "data_fetcher.py - line 34 - INFO - Publisher: acs\n",
      "1225212621.py - line 56 - INFO - id not found in raw data\n"
     ]
    }
   ],
   "execution_count": 14
  },
  {
   "metadata": {
    "ExecuteTime": {
     "end_time": "2025-03-05T21:08:40.248054Z",
     "start_time": "2025-03-05T21:08:40.209087Z"
    }
   },
   "cell_type": "code",
   "source": [
    "df = pd.DataFrame(data)\n",
    "df.set_index(\"publication\",inplace=True)\n",
    "df"
   ],
   "id": "109b1674b84aec54",
   "outputs": [
    {
     "data": {
      "text/plain": [
       "                                                publisher dataset_uid  \\\n",
       "publication                                                             \n",
       "https://dx.doi.org/10.1021/ACS.ANALCHEM.4C02924       acs   PXD045956   \n",
       "\n",
       "                                                repo_name  \\\n",
       "publication                                                 \n",
       "https://dx.doi.org/10.1021/ACS.ANALCHEM.4C02924     PRIDE   \n",
       "\n",
       "                                                                                          raw_html  \\\n",
       "publication                                                                                          \n",
       "https://dx.doi.org/10.1021/ACS.ANALCHEM.4C02924  <html lang=\"en\" class=\"pb-page\" data-request-i...   \n",
       "\n",
       "                                                smallest_elements  \n",
       "publication                                                        \n",
       "https://dx.doi.org/10.1021/ACS.ANALCHEM.4C02924                na  "
      ],
      "text/html": [
       "<div>\n",
       "<style scoped>\n",
       "    .dataframe tbody tr th:only-of-type {\n",
       "        vertical-align: middle;\n",
       "    }\n",
       "\n",
       "    .dataframe tbody tr th {\n",
       "        vertical-align: top;\n",
       "    }\n",
       "\n",
       "    .dataframe thead th {\n",
       "        text-align: right;\n",
       "    }\n",
       "</style>\n",
       "<table border=\"1\" class=\"dataframe\">\n",
       "  <thead>\n",
       "    <tr style=\"text-align: right;\">\n",
       "      <th></th>\n",
       "      <th>publisher</th>\n",
       "      <th>dataset_uid</th>\n",
       "      <th>repo_name</th>\n",
       "      <th>raw_html</th>\n",
       "      <th>smallest_elements</th>\n",
       "    </tr>\n",
       "    <tr>\n",
       "      <th>publication</th>\n",
       "      <th></th>\n",
       "      <th></th>\n",
       "      <th></th>\n",
       "      <th></th>\n",
       "      <th></th>\n",
       "    </tr>\n",
       "  </thead>\n",
       "  <tbody>\n",
       "    <tr>\n",
       "      <th>https://dx.doi.org/10.1021/ACS.ANALCHEM.4C02924</th>\n",
       "      <td>acs</td>\n",
       "      <td>PXD045956</td>\n",
       "      <td>PRIDE</td>\n",
       "      <td>&lt;html lang=\"en\" class=\"pb-page\" data-request-i...</td>\n",
       "      <td>na</td>\n",
       "    </tr>\n",
       "  </tbody>\n",
       "</table>\n",
       "</div>"
      ]
     },
     "execution_count": 15,
     "metadata": {},
     "output_type": "execute_result"
    }
   ],
   "execution_count": 15
  },
  {
   "metadata": {
    "ExecuteTime": {
     "end_time": "2025-03-05T21:08:50.871842Z",
     "start_time": "2025-03-05T21:08:46.741770Z"
    }
   },
   "cell_type": "code",
   "source": [
    "df_old = pd.read_csv(\"exp_input/raw_data_v1.csv\", index_col=\"publication\")\n",
    "print(df_old.shape)\n",
    "# append rows to the existing CSV\n",
    "df_new = pd.concat([df_old,df])\n",
    "df_new.to_csv(\"exp_input/raw_data_v1.csv\")"
   ],
   "id": "66b46bebd3829d70",
   "outputs": [
    {
     "name": "stdout",
     "output_type": "stream",
     "text": [
      "(238, 6)\n"
     ]
    }
   ],
   "execution_count": 16
  },
  {
   "metadata": {
    "ExecuteTime": {
     "end_time": "2025-03-05T21:08:52.682351Z",
     "start_time": "2025-03-05T21:08:52.678095Z"
    }
   },
   "cell_type": "code",
   "source": "df_new.shape",
   "id": "c0b24ab169f53dfe",
   "outputs": [
    {
     "data": {
      "text/plain": [
       "(239, 6)"
      ]
     },
     "execution_count": 17,
     "metadata": {},
     "output_type": "execute_result"
    }
   ],
   "execution_count": 17
  },
  {
   "metadata": {
    "ExecuteTime": {
     "end_time": "2025-03-05T21:08:53.429754Z",
     "start_time": "2025-03-05T21:08:53.422834Z"
    }
   },
   "cell_type": "code",
   "source": [
    "print(len(df_new.index))\n",
    "print(len(df_new.index.unique()))"
   ],
   "id": "2c456519e5c167fd",
   "outputs": [
    {
     "name": "stdout",
     "output_type": "stream",
     "text": [
      "239\n",
      "239\n"
     ]
    }
   ],
   "execution_count": 18
  },
  {
   "metadata": {
    "ExecuteTime": {
     "end_time": "2025-03-05T21:09:56.844821Z",
     "start_time": "2025-03-05T21:09:56.754732Z"
    }
   },
   "cell_type": "code",
   "source": [
    "# starting from publication, make some string substitution and create a new column: doi\n",
    "df_new[\"doi\"] = df_new.index\n",
    "df_new[\"doi\"] = df_new[\"doi\"].apply(orchestrator.data_fetcher.convert_url_to_doi)"
   ],
   "id": "87a4d7dc271cd90a",
   "outputs": [
    {
     "name": "stderr",
     "output_type": "stream",
     "text": [
      "data_fetcher.py - line 256 - INFO - DOI: 10.1001/JAMANEUROL.2024.4763\n",
      "data_fetcher.py - line 256 - INFO - DOI: 10.1002/CBIC.202400831\n",
      "data_fetcher.py - line 256 - INFO - DOI: 10.1002/CBIC.202400882\n",
      "data_fetcher.py - line 256 - INFO - DOI: 10.1002/PRCA.202300107\n",
      "data_fetcher.py - line 256 - INFO - DOI: 10.1002/anie.202420149\n",
      "data_fetcher.py - line 256 - INFO - DOI: 10.1002/cac2.12663\n",
      "data_fetcher.py - line 256 - INFO - DOI: 10.1002/cpt.3409\n",
      "data_fetcher.py - line 256 - INFO - DOI: 10.1002/ctm2.70030\n",
      "data_fetcher.py - line 256 - INFO - DOI: 10.1002/pmic.202400310\n",
      "data_fetcher.py - line 256 - INFO - DOI: 10.1002/prca.202400095\n",
      "data_fetcher.py - line 256 - INFO - DOI: 10.1007/s00395-024-01041-5\n",
      "data_fetcher.py - line 256 - INFO - DOI: 10.1016/J.BBADVA.2025.100140\n",
      "data_fetcher.py - line 256 - INFO - DOI: 10.1016/J.BIORTECH.2024.132023\n",
      "data_fetcher.py - line 256 - INFO - DOI: 10.1016/J.CELREP.2024.114793\n",
      "data_fetcher.py - line 256 - INFO - DOI: 10.1016/J.CELREP.2024.115224\n",
      "data_fetcher.py - line 256 - INFO - DOI: 10.1016/J.CMET.2024.12.008\n",
      "data_fetcher.py - line 256 - INFO - DOI: 10.1016/J.HELIYON.2025.E41801\n",
      "data_fetcher.py - line 256 - INFO - DOI: 10.1016/J.IJBIOMAC.2023.127138\n",
      "data_fetcher.py - line 256 - INFO - DOI: 10.1016/J.IJBIOMAC.2025.140432\n",
      "data_fetcher.py - line 256 - INFO - DOI: 10.1016/J.ISCI.2024.111654\n",
      "data_fetcher.py - line 256 - INFO - DOI: 10.1016/J.ISCI.2025.111873\n",
      "data_fetcher.py - line 256 - INFO - DOI: 10.1016/J.ISCI.2025.111890\n",
      "data_fetcher.py - line 256 - INFO - DOI: 10.1016/J.ISCI.2025.111903\n",
      "data_fetcher.py - line 256 - INFO - DOI: 10.1016/J.JGG.2025.01.007\n",
      "data_fetcher.py - line 256 - INFO - DOI: 10.1016/J.JPROT.2024.105156\n",
      "data_fetcher.py - line 256 - INFO - DOI: 10.1016/J.MOLCEL.2024.07.003\n",
      "data_fetcher.py - line 256 - INFO - DOI: 10.1016/J.MOLCEL.2025.01.001\n",
      "data_fetcher.py - line 256 - INFO - DOI: 10.1016/J.PLAPHY.2024.108444\n",
      "data_fetcher.py - line 256 - INFO - DOI: 10.1016/j.cell.2024.12.028\n",
      "data_fetcher.py - line 256 - INFO - DOI: 10.1016/j.celrep.2024.114977\n",
      "data_fetcher.py - line 256 - INFO - DOI: 10.1016/j.chembiol.2023.04.005\n",
      "data_fetcher.py - line 256 - INFO - DOI: 10.1016/j.envint.2025.109306\n",
      "data_fetcher.py - line 256 - INFO - DOI: 10.1016/j.jare.2025.01.036\n",
      "data_fetcher.py - line 256 - INFO - DOI: 10.1016/j.jbc.2025.108208\n",
      "data_fetcher.py - line 256 - INFO - DOI: 10.1016/j.joca.2024.09.002\n",
      "data_fetcher.py - line 256 - INFO - DOI: 10.1016/j.jsb.2024.108162\n",
      "data_fetcher.py - line 256 - INFO - DOI: 10.1016/j.mcpro.2024.100862\n",
      "data_fetcher.py - line 256 - INFO - DOI: 10.1016/j.mcpro.2024.100900\n",
      "data_fetcher.py - line 256 - INFO - DOI: 10.1016/j.str.2024.12.017\n",
      "data_fetcher.py - line 256 - INFO - DOI: 10.1016/j.toxicon.2024.108072\n",
      "data_fetcher.py - line 256 - INFO - DOI: 10.1021/ACS.JPROTEOME.4C00573\n",
      "data_fetcher.py - line 256 - INFO - DOI: 10.1021/ACS.JPROTEOME.4C00698\n",
      "data_fetcher.py - line 256 - INFO - DOI: 10.1021/ACS.JPROTEOME.4C00778\n",
      "data_fetcher.py - line 256 - INFO - DOI: 10.1021/ACS.JPROTEOME.4C00932\n",
      "data_fetcher.py - line 256 - INFO - DOI: 10.1021/ACSCHEMNEURO.4C00492\n",
      "data_fetcher.py - line 256 - INFO - DOI: 10.1021/acs.biochem.4c00240\n",
      "data_fetcher.py - line 256 - INFO - DOI: 10.1021/acs.jproteome.4c00630\n",
      "data_fetcher.py - line 256 - INFO - DOI: 10.1021/acs.jproteome.9b00601\n",
      "data_fetcher.py - line 256 - INFO - DOI: 10.1021/acs.molpharmaceut.2c00950\n",
      "data_fetcher.py - line 256 - INFO - DOI: 10.1021/acschemneuro.4c00635\n",
      "data_fetcher.py - line 256 - INFO - DOI: 10.1038/S41422-025-01078-8\n",
      "data_fetcher.py - line 256 - INFO - DOI: 10.1038/S41467-025-56210-4\n",
      "data_fetcher.py - line 256 - INFO - DOI: 10.1038/S41467-025-56387-8\n",
      "data_fetcher.py - line 256 - INFO - DOI: 10.1038/S41467-025-56720-1\n",
      "data_fetcher.py - line 256 - INFO - DOI: 10.1038/S41541-025-01069-1\n",
      "data_fetcher.py - line 256 - INFO - DOI: 10.1038/S41551-025-01354-3\n",
      "data_fetcher.py - line 256 - INFO - DOI: 10.1038/S41557-025-01745-8\n",
      "data_fetcher.py - line 256 - INFO - DOI: 10.1038/S41586-024-08493-8\n",
      "data_fetcher.py - line 256 - INFO - DOI: 10.1038/S41598-020-71828-8\n",
      "data_fetcher.py - line 256 - INFO - DOI: 10.1038/S41598-025-85187-9\n",
      "data_fetcher.py - line 256 - INFO - DOI: 10.1038/S41598-025-87122-4\n",
      "data_fetcher.py - line 256 - INFO - DOI: 10.1038/S42003-025-07619-6\n",
      "data_fetcher.py - line 256 - INFO - DOI: 10.1038/s41422-024-01059-3\n",
      "data_fetcher.py - line 256 - INFO - DOI: 10.1038/s41467-024-50015-7\n",
      "data_fetcher.py - line 256 - INFO - DOI: 10.1038/s41467-024-51174-3\n",
      "data_fetcher.py - line 256 - INFO - DOI: 10.1038/s41467-024-51831-7\n",
      "data_fetcher.py - line 256 - INFO - DOI: 10.1038/s41467-024-52075-1\n",
      "data_fetcher.py - line 256 - INFO - DOI: 10.1038/s41467-024-52723-6\n",
      "data_fetcher.py - line 256 - INFO - DOI: 10.1038/s41467-024-52739-y\n",
      "data_fetcher.py - line 256 - INFO - DOI: 10.1038/s41467-024-52901-6\n",
      "data_fetcher.py - line 256 - INFO - DOI: 10.1038/s41467-024-52966-3\n",
      "data_fetcher.py - line 256 - INFO - DOI: 10.1038/s41467-024-53072-0\n",
      "data_fetcher.py - line 256 - INFO - DOI: 10.1038/s41467-024-54407-7\n",
      "data_fetcher.py - line 256 - INFO - DOI: 10.1038/s41467-025-55943-6\n",
      "data_fetcher.py - line 256 - INFO - DOI: 10.1038/s41467-025-56489-3\n",
      "data_fetcher.py - line 256 - INFO - DOI: 10.1038/s41556-024-01414-x\n",
      "data_fetcher.py - line 256 - INFO - DOI: 10.1038/s41556-024-01572-y\n",
      "data_fetcher.py - line 256 - INFO - DOI: 10.1038/s41586-024-07873-4\n",
      "data_fetcher.py - line 256 - INFO - DOI: 10.1038/s41598-024-83742-4\n",
      "data_fetcher.py - line 256 - INFO - DOI: 10.1038/s42003-025-07515-z\n",
      "data_fetcher.py - line 256 - INFO - DOI: 10.1039/D4CC03599B\n",
      "data_fetcher.py - line 256 - INFO - DOI: 10.1073/pnas.2320867121\n",
      "data_fetcher.py - line 256 - INFO - DOI: 10.1083/JCB.202403083\n",
      "data_fetcher.py - line 256 - INFO - DOI: 10.1093/NAR/GKAE761\n",
      "data_fetcher.py - line 256 - INFO - DOI: 10.1093/PLPHYS/KIAE198\n",
      "data_fetcher.py - line 256 - INFO - DOI: 10.1093/jxb/erae518\n",
      "data_fetcher.py - line 256 - INFO - DOI: 10.1096/fba.2022-00063\n",
      "data_fetcher.py - line 256 - INFO - DOI: 10.1098/RSTB.2023.0342\n",
      "data_fetcher.py - line 256 - INFO - DOI: 10.1101/2024.04.03.587901\n",
      "data_fetcher.py - line 256 - INFO - DOI: 10.1101/2024.05.24.592430\n",
      "data_fetcher.py - line 256 - INFO - DOI: 10.1101/2024.06.03.597175\n",
      "data_fetcher.py - line 256 - INFO - DOI: 10.1101/2024.09.07.611787\n",
      "data_fetcher.py - line 256 - INFO - DOI: 10.1101/2024.09.20.614010\n",
      "data_fetcher.py - line 256 - INFO - DOI: 10.1101/2024.09.27.615518\n",
      "data_fetcher.py - line 256 - INFO - DOI: 10.1101/2024.11.07.622507\n",
      "data_fetcher.py - line 256 - INFO - DOI: 10.1101/2025.01.08.631794\n",
      "data_fetcher.py - line 256 - INFO - DOI: 10.1101/2025.02.05.636703\n",
      "data_fetcher.py - line 256 - INFO - DOI: 10.1111/1751-7915.70106\n",
      "data_fetcher.py - line 256 - INFO - DOI: 10.1111/NPH.20393\n",
      "data_fetcher.py - line 256 - INFO - DOI: 10.1111/TPJ.17246\n",
      "data_fetcher.py - line 256 - INFO - DOI: 10.1111/acel.13029\n",
      "data_fetcher.py - line 256 - INFO - DOI: 10.1111/liv.16200\n",
      "data_fetcher.py - line 256 - INFO - DOI: 10.1126/sciadv.ade6958\n",
      "data_fetcher.py - line 256 - INFO - DOI: 10.1128/MSPHERE.00945-24\n",
      "data_fetcher.py - line 256 - INFO - DOI: 10.1128/SPECTRUM.01169-24\n",
      "data_fetcher.py - line 256 - INFO - DOI: 10.1152/ajpendo.00220.2024\n",
      "data_fetcher.py - line 256 - INFO - DOI: 10.1161/circulationaha.121.058615\n",
      "data_fetcher.py - line 256 - INFO - DOI: 10.1161/circulationaha.123.067479\n",
      "data_fetcher.py - line 256 - INFO - DOI: 10.1172/jci183592\n",
      "data_fetcher.py - line 256 - INFO - DOI: 10.1182/BLOOD.2024025406\n",
      "data_fetcher.py - line 256 - INFO - DOI: 10.1182/BLOOD.2024026482\n",
      "data_fetcher.py - line 256 - INFO - DOI: 10.1186/S12014-025-09526-8\n",
      "data_fetcher.py - line 256 - INFO - DOI: 10.1186/S13046-023-02641-0\n",
      "data_fetcher.py - line 256 - INFO - DOI: 10.1186/S13100-024-00339-4\n",
      "data_fetcher.py - line 256 - INFO - DOI: 10.1186/s12964-025-02046-w\n",
      "data_fetcher.py - line 256 - INFO - DOI: 10.1186/s13024-025-00800-9\n",
      "data_fetcher.py - line 256 - INFO - DOI: 10.1371/JOURNAL.PBIO.3003028\n",
      "data_fetcher.py - line 256 - INFO - DOI: 10.15252/EMMM.202419764\n",
      "data_fetcher.py - line 256 - INFO - DOI: 10.17159/SAJS.2025/18571\n",
      "data_fetcher.py - line 256 - INFO - DOI: 10.17504/PROTOCOLS.IO.14EGN9E46L5D/V1\n",
      "data_fetcher.py - line 256 - INFO - DOI: 10.3389/FIMMU.2025.1485817\n",
      "data_fetcher.py - line 256 - INFO - DOI: 10.3389/FIMMU.2025.1504583\n",
      "data_fetcher.py - line 256 - INFO - DOI: 10.3389/FMICB.2025.1483703\n",
      "data_fetcher.py - line 256 - INFO - DOI: 10.3389/FMICB.2025.1495971\n",
      "data_fetcher.py - line 256 - INFO - DOI: 10.3390/PLANTS14030426\n",
      "data_fetcher.py - line 256 - INFO - DOI: 10.3390/proteomes13010003\n",
      "data_fetcher.py - line 256 - INFO - DOI: 10.3390/proteomes6040045\n",
      "data_fetcher.py - line 256 - INFO - DOI: 10.3892/OL_XXXXXXXX\n",
      "data_fetcher.py - line 256 - INFO - DOI: 10.3892/mmr.2024.13395\n",
      "data_fetcher.py - line 256 - INFO - DOI: 10.6019/PXD035882\n",
      "data_fetcher.py - line 256 - INFO - DOI: 10.6019/PXD040019\n",
      "data_fetcher.py - line 256 - INFO - DOI: 10.6019/PXD041392\n",
      "data_fetcher.py - line 256 - INFO - DOI: 10.6019/PXD041397\n",
      "data_fetcher.py - line 256 - INFO - DOI: 10.6019/PXD044825\n",
      "data_fetcher.py - line 256 - INFO - DOI: 10.6019/PXD046943\n",
      "data_fetcher.py - line 256 - INFO - DOI: 10.6019/PXD048496\n",
      "data_fetcher.py - line 256 - INFO - DOI: 10.6019/PXD048561\n",
      "data_fetcher.py - line 256 - INFO - DOI: 10.6019/PXD048566\n",
      "data_fetcher.py - line 256 - INFO - DOI: 10.6019/PXD051312\n",
      "data_fetcher.py - line 256 - INFO - DOI: 10.6019/PXD051587\n",
      "data_fetcher.py - line 256 - INFO - DOI: 10.6019/PXD051771\n",
      "data_fetcher.py - line 256 - INFO - DOI: 10.6019/PXD052061\n",
      "data_fetcher.py - line 256 - INFO - DOI: 10.6019/PXD052301\n",
      "data_fetcher.py - line 256 - INFO - DOI: 10.6019/PXD053100\n",
      "data_fetcher.py - line 256 - INFO - DOI: 10.6019/PXD054049\n",
      "data_fetcher.py - line 256 - INFO - DOI: 10.6019/PXD054301\n",
      "data_fetcher.py - line 256 - INFO - DOI: 10.6019/PXD054970\n",
      "data_fetcher.py - line 256 - INFO - DOI: 10.6019/PXD055895\n",
      "data_fetcher.py - line 256 - INFO - DOI: 10.6019/PXD056057\n",
      "data_fetcher.py - line 256 - INFO - DOI: 10.6019/PXD056853\n",
      "data_fetcher.py - line 256 - INFO - DOI: 10.6019/PXD056857\n",
      "data_fetcher.py - line 256 - INFO - DOI: 10.6019/PXD056866\n",
      "data_fetcher.py - line 256 - INFO - DOI: 10.6019/PXD056903\n",
      "data_fetcher.py - line 256 - INFO - DOI: 10.6019/PXD057018\n",
      "data_fetcher.py - line 256 - INFO - DOI: 10.6019/PXD057861\n",
      "data_fetcher.py - line 256 - INFO - DOI: 10.6019/PXD058955\n",
      "data_fetcher.py - line 256 - INFO - DOI: 10.6019/PXD059430\n",
      "data_fetcher.py - line 256 - INFO - DOI: 10.6019/PXD059738\n",
      "data_fetcher.py - line 256 - INFO - DOI: 10.6019/PXD059785\n",
      "data_fetcher.py - line 256 - INFO - DOI: 10.6019/PXD059791\n",
      "data_fetcher.py - line 256 - INFO - DOI: 10.6019/PXD059817\n",
      "data_fetcher.py - line 256 - INFO - DOI: 10.6019/PXD059868\n",
      "data_fetcher.py - line 256 - INFO - DOI: 10.7554/ELIFE.98523.2\n",
      "data_fetcher.py - line 256 - INFO - DOI: 10.1021/ACS.ANALCHEM.4C02924\n"
     ]
    }
   ],
   "execution_count": 20
  },
  {
   "metadata": {
    "ExecuteTime": {
     "end_time": "2025-03-05T21:10:25.548310Z",
     "start_time": "2025-03-05T21:10:25.523027Z"
    }
   },
   "cell_type": "code",
   "source": [
    "df_merged = (\n",
    "    df_new.reset_index()\n",
    "    .groupby('publication')\n",
    "    .agg({\n",
    "        'dataset_uid': lambda x: ','.join(sorted(set(x))),  # Concatenate unique dataset_uids\n",
    "        'repo_name': lambda x: ','.join(sorted(set(x))),   # Concatenate unique repo_names\n",
    "        'doi': 'first',  # Keep the first raw_html,\n",
    "        'raw_html': 'first',  # Keep the first raw_html,\n",
    "        'publisher' : 'first',\n",
    "        'smallest_elements': 'first'\n",
    "    })\n",
    ")"
   ],
   "id": "27afb2c289dcbf5",
   "outputs": [],
   "execution_count": 21
  },
  {
   "metadata": {
    "ExecuteTime": {
     "end_time": "2025-03-05T21:10:33.948769Z",
     "start_time": "2025-03-05T21:10:33.904946Z"
    }
   },
   "cell_type": "code",
   "source": "df_merged",
   "id": "105c7cdafc44a05b",
   "outputs": [
    {
     "data": {
      "text/plain": [
       "                                                                   dataset_uid  \\\n",
       "publication                                                                      \n",
       "https://dx.doi.org/10.1001/JAMANEUROL.2024.4763                      PXD056570   \n",
       "https://dx.doi.org/10.1002/CBIC.202400831                            PXD055649   \n",
       "https://dx.doi.org/10.1002/CBIC.202400882                            PXD060372   \n",
       "https://dx.doi.org/10.1002/PRCA.202300107                            PXD028078   \n",
       "https://dx.doi.org/10.1002/anie.202420149        PXD056865,PXD057925,PXD058045   \n",
       "...                                                                        ...   \n",
       "https://www.ncbi.nlm.nih.gov/pubmed/39884247                         PXD054970   \n",
       "https://www.ncbi.nlm.nih.gov/pubmed/39900909                         PXD058955   \n",
       "https://www.ncbi.nlm.nih.gov/pubmed/39910101                         PXD060051   \n",
       "https://www.ncbi.nlm.nih.gov/pubmed/39910614                         PXD060193   \n",
       "https://www.ncbi.nlm.nih.gov/pubmed/39912552                         PXD051312   \n",
       "\n",
       "                                                repo_name  \\\n",
       "publication                                                 \n",
       "https://dx.doi.org/10.1001/JAMANEUROL.2024.4763     PRIDE   \n",
       "https://dx.doi.org/10.1002/CBIC.202400831           PRIDE   \n",
       "https://dx.doi.org/10.1002/CBIC.202400882           PRIDE   \n",
       "https://dx.doi.org/10.1002/PRCA.202300107           PRIDE   \n",
       "https://dx.doi.org/10.1002/anie.202420149           PRIDE   \n",
       "...                                                   ...   \n",
       "https://www.ncbi.nlm.nih.gov/pubmed/39884247        PRIDE   \n",
       "https://www.ncbi.nlm.nih.gov/pubmed/39900909        PRIDE   \n",
       "https://www.ncbi.nlm.nih.gov/pubmed/39910101        iProX   \n",
       "https://www.ncbi.nlm.nih.gov/pubmed/39910614        iProX   \n",
       "https://www.ncbi.nlm.nih.gov/pubmed/39912552        PRIDE   \n",
       "\n",
       "                                                                          doi  \\\n",
       "publication                                                                     \n",
       "https://dx.doi.org/10.1001/JAMANEUROL.2024.4763  10.1001/JAMANEUROL.2024.4763   \n",
       "https://dx.doi.org/10.1002/CBIC.202400831              10.1002/CBIC.202400831   \n",
       "https://dx.doi.org/10.1002/CBIC.202400882              10.1002/CBIC.202400882   \n",
       "https://dx.doi.org/10.1002/PRCA.202300107              10.1002/PRCA.202300107   \n",
       "https://dx.doi.org/10.1002/anie.202420149              10.1002/anie.202420149   \n",
       "...                                                                       ...   \n",
       "https://www.ncbi.nlm.nih.gov/pubmed/39884247                             None   \n",
       "https://www.ncbi.nlm.nih.gov/pubmed/39900909                             None   \n",
       "https://www.ncbi.nlm.nih.gov/pubmed/39910101                             None   \n",
       "https://www.ncbi.nlm.nih.gov/pubmed/39910614                             None   \n",
       "https://www.ncbi.nlm.nih.gov/pubmed/39912552                             None   \n",
       "\n",
       "                                                                                          raw_html  \\\n",
       "publication                                                                                          \n",
       "https://dx.doi.org/10.1001/JAMANEUROL.2024.4763  <html id=\"doc\" lang=\"en\" class=\"page-article j...   \n",
       "https://dx.doi.org/10.1002/CBIC.202400831        <html lang=\"en\" class=\"pb-page\" data-request-i...   \n",
       "https://dx.doi.org/10.1002/CBIC.202400882        <html lang=\"en\" class=\"pb-page\" data-request-i...   \n",
       "https://dx.doi.org/10.1002/PRCA.202300107        <html lang=\"en\" class=\"pb-page\" data-request-i...   \n",
       "https://dx.doi.org/10.1002/anie.202420149        <html lang=\"en\" class=\"pb-page\" data-request-i...   \n",
       "...                                                                                            ...   \n",
       "https://www.ncbi.nlm.nih.gov/pubmed/39884247     <html lang=\"en\"><head itemscope=\"\" itemtype=\"h...   \n",
       "https://www.ncbi.nlm.nih.gov/pubmed/39900909     <html lang=\"en\"><head itemscope=\"\" itemtype=\"h...   \n",
       "https://www.ncbi.nlm.nih.gov/pubmed/39910101     <html lang=\"en\"><head itemscope=\"\" itemtype=\"h...   \n",
       "https://www.ncbi.nlm.nih.gov/pubmed/39910614     <html lang=\"en\"><head itemscope=\"\" itemtype=\"h...   \n",
       "https://www.ncbi.nlm.nih.gov/pubmed/39912552     <html lang=\"en\"><head itemscope=\"\" itemtype=\"h...   \n",
       "\n",
       "                                                         publisher  \\\n",
       "publication                                                          \n",
       "https://dx.doi.org/10.1001/JAMANEUROL.2024.4763        jamanetwork   \n",
       "https://dx.doi.org/10.1002/CBIC.202400831        Unknown Publisher   \n",
       "https://dx.doi.org/10.1002/CBIC.202400882        Unknown Publisher   \n",
       "https://dx.doi.org/10.1002/PRCA.202300107                    wiley   \n",
       "https://dx.doi.org/10.1002/anie.202420149                    wiley   \n",
       "...                                                            ...   \n",
       "https://www.ncbi.nlm.nih.gov/pubmed/39884247                pubmed   \n",
       "https://www.ncbi.nlm.nih.gov/pubmed/39900909                pubmed   \n",
       "https://www.ncbi.nlm.nih.gov/pubmed/39910101                pubmed   \n",
       "https://www.ncbi.nlm.nih.gov/pubmed/39910614                pubmed   \n",
       "https://www.ncbi.nlm.nih.gov/pubmed/39912552                pubmed   \n",
       "\n",
       "                                                                                 smallest_elements  \n",
       "publication                                                                                         \n",
       "https://dx.doi.org/10.1001/JAMANEUROL.2024.4763                                                 na  \n",
       "https://dx.doi.org/10.1002/CBIC.202400831        [('<p>The mass spectrometry proteomics data ha...  \n",
       "https://dx.doi.org/10.1002/CBIC.202400882        [('<p>The data that support the findings of th...  \n",
       "https://dx.doi.org/10.1002/PRCA.202300107        [('<p>Generation of the protein library and SW...  \n",
       "https://dx.doi.org/10.1002/anie.202420149        [('<p>The mass spectrometry proteomics data ha...  \n",
       "...                                                                                            ...  \n",
       "https://www.ncbi.nlm.nih.gov/pubmed/39884247                                                    na  \n",
       "https://www.ncbi.nlm.nih.gov/pubmed/39900909                                                    na  \n",
       "https://www.ncbi.nlm.nih.gov/pubmed/39910101                                                    na  \n",
       "https://www.ncbi.nlm.nih.gov/pubmed/39910614                                                    na  \n",
       "https://www.ncbi.nlm.nih.gov/pubmed/39912552                                                    na  \n",
       "\n",
       "[239 rows x 6 columns]"
      ],
      "text/html": [
       "<div>\n",
       "<style scoped>\n",
       "    .dataframe tbody tr th:only-of-type {\n",
       "        vertical-align: middle;\n",
       "    }\n",
       "\n",
       "    .dataframe tbody tr th {\n",
       "        vertical-align: top;\n",
       "    }\n",
       "\n",
       "    .dataframe thead th {\n",
       "        text-align: right;\n",
       "    }\n",
       "</style>\n",
       "<table border=\"1\" class=\"dataframe\">\n",
       "  <thead>\n",
       "    <tr style=\"text-align: right;\">\n",
       "      <th></th>\n",
       "      <th>dataset_uid</th>\n",
       "      <th>repo_name</th>\n",
       "      <th>doi</th>\n",
       "      <th>raw_html</th>\n",
       "      <th>publisher</th>\n",
       "      <th>smallest_elements</th>\n",
       "    </tr>\n",
       "    <tr>\n",
       "      <th>publication</th>\n",
       "      <th></th>\n",
       "      <th></th>\n",
       "      <th></th>\n",
       "      <th></th>\n",
       "      <th></th>\n",
       "      <th></th>\n",
       "    </tr>\n",
       "  </thead>\n",
       "  <tbody>\n",
       "    <tr>\n",
       "      <th>https://dx.doi.org/10.1001/JAMANEUROL.2024.4763</th>\n",
       "      <td>PXD056570</td>\n",
       "      <td>PRIDE</td>\n",
       "      <td>10.1001/JAMANEUROL.2024.4763</td>\n",
       "      <td>&lt;html id=\"doc\" lang=\"en\" class=\"page-article j...</td>\n",
       "      <td>jamanetwork</td>\n",
       "      <td>na</td>\n",
       "    </tr>\n",
       "    <tr>\n",
       "      <th>https://dx.doi.org/10.1002/CBIC.202400831</th>\n",
       "      <td>PXD055649</td>\n",
       "      <td>PRIDE</td>\n",
       "      <td>10.1002/CBIC.202400831</td>\n",
       "      <td>&lt;html lang=\"en\" class=\"pb-page\" data-request-i...</td>\n",
       "      <td>Unknown Publisher</td>\n",
       "      <td>[('&lt;p&gt;The mass spectrometry proteomics data ha...</td>\n",
       "    </tr>\n",
       "    <tr>\n",
       "      <th>https://dx.doi.org/10.1002/CBIC.202400882</th>\n",
       "      <td>PXD060372</td>\n",
       "      <td>PRIDE</td>\n",
       "      <td>10.1002/CBIC.202400882</td>\n",
       "      <td>&lt;html lang=\"en\" class=\"pb-page\" data-request-i...</td>\n",
       "      <td>Unknown Publisher</td>\n",
       "      <td>[('&lt;p&gt;The data that support the findings of th...</td>\n",
       "    </tr>\n",
       "    <tr>\n",
       "      <th>https://dx.doi.org/10.1002/PRCA.202300107</th>\n",
       "      <td>PXD028078</td>\n",
       "      <td>PRIDE</td>\n",
       "      <td>10.1002/PRCA.202300107</td>\n",
       "      <td>&lt;html lang=\"en\" class=\"pb-page\" data-request-i...</td>\n",
       "      <td>wiley</td>\n",
       "      <td>[('&lt;p&gt;Generation of the protein library and SW...</td>\n",
       "    </tr>\n",
       "    <tr>\n",
       "      <th>https://dx.doi.org/10.1002/anie.202420149</th>\n",
       "      <td>PXD056865,PXD057925,PXD058045</td>\n",
       "      <td>PRIDE</td>\n",
       "      <td>10.1002/anie.202420149</td>\n",
       "      <td>&lt;html lang=\"en\" class=\"pb-page\" data-request-i...</td>\n",
       "      <td>wiley</td>\n",
       "      <td>[('&lt;p&gt;The mass spectrometry proteomics data ha...</td>\n",
       "    </tr>\n",
       "    <tr>\n",
       "      <th>...</th>\n",
       "      <td>...</td>\n",
       "      <td>...</td>\n",
       "      <td>...</td>\n",
       "      <td>...</td>\n",
       "      <td>...</td>\n",
       "      <td>...</td>\n",
       "    </tr>\n",
       "    <tr>\n",
       "      <th>https://www.ncbi.nlm.nih.gov/pubmed/39884247</th>\n",
       "      <td>PXD054970</td>\n",
       "      <td>PRIDE</td>\n",
       "      <td>None</td>\n",
       "      <td>&lt;html lang=\"en\"&gt;&lt;head itemscope=\"\" itemtype=\"h...</td>\n",
       "      <td>pubmed</td>\n",
       "      <td>na</td>\n",
       "    </tr>\n",
       "    <tr>\n",
       "      <th>https://www.ncbi.nlm.nih.gov/pubmed/39900909</th>\n",
       "      <td>PXD058955</td>\n",
       "      <td>PRIDE</td>\n",
       "      <td>None</td>\n",
       "      <td>&lt;html lang=\"en\"&gt;&lt;head itemscope=\"\" itemtype=\"h...</td>\n",
       "      <td>pubmed</td>\n",
       "      <td>na</td>\n",
       "    </tr>\n",
       "    <tr>\n",
       "      <th>https://www.ncbi.nlm.nih.gov/pubmed/39910101</th>\n",
       "      <td>PXD060051</td>\n",
       "      <td>iProX</td>\n",
       "      <td>None</td>\n",
       "      <td>&lt;html lang=\"en\"&gt;&lt;head itemscope=\"\" itemtype=\"h...</td>\n",
       "      <td>pubmed</td>\n",
       "      <td>na</td>\n",
       "    </tr>\n",
       "    <tr>\n",
       "      <th>https://www.ncbi.nlm.nih.gov/pubmed/39910614</th>\n",
       "      <td>PXD060193</td>\n",
       "      <td>iProX</td>\n",
       "      <td>None</td>\n",
       "      <td>&lt;html lang=\"en\"&gt;&lt;head itemscope=\"\" itemtype=\"h...</td>\n",
       "      <td>pubmed</td>\n",
       "      <td>na</td>\n",
       "    </tr>\n",
       "    <tr>\n",
       "      <th>https://www.ncbi.nlm.nih.gov/pubmed/39912552</th>\n",
       "      <td>PXD051312</td>\n",
       "      <td>PRIDE</td>\n",
       "      <td>None</td>\n",
       "      <td>&lt;html lang=\"en\"&gt;&lt;head itemscope=\"\" itemtype=\"h...</td>\n",
       "      <td>pubmed</td>\n",
       "      <td>na</td>\n",
       "    </tr>\n",
       "  </tbody>\n",
       "</table>\n",
       "<p>239 rows × 6 columns</p>\n",
       "</div>"
      ]
     },
     "execution_count": 22,
     "metadata": {},
     "output_type": "execute_result"
    }
   ],
   "execution_count": 22
  },
  {
   "metadata": {
    "ExecuteTime": {
     "end_time": "2025-03-05T21:10:43.163983Z",
     "start_time": "2025-03-05T21:10:40.848582Z"
    }
   },
   "cell_type": "code",
   "source": "df_merged.to_csv(\"exp_input/raw_data_v1.csv\")",
   "id": "d76d0ff6397fb4b4",
   "outputs": [],
   "execution_count": 23
  },
  {
   "metadata": {
    "ExecuteTime": {
     "end_time": "2025-03-05T21:10:49.653424Z",
     "start_time": "2025-03-05T21:10:49.642978Z"
    }
   },
   "cell_type": "code",
   "source": [
    "print(len(filtered_df))\n",
    "filtered_df.head()"
   ],
   "id": "34b10f2a8fbe7752",
   "outputs": [
    {
     "name": "stdout",
     "output_type": "stream",
     "text": [
      "25696\n"
     ]
    },
    {
     "data": {
      "text/plain": [
       "                                         publication identifier repository  \\\n",
       "0  <a href=\"https://dx.doi.org/10.1038/S41467-025...  PXD059466      PRIDE   \n",
       "1  <a href=\"https://dx.doi.org/10.6019/PXD051312\"...  PXD051312      PRIDE   \n",
       "2  <a href=\"https://dx.doi.org/10.17159/SAJS.2025...  PXD054431      PRIDE   \n",
       "3  <a href=\"https://dx.doi.org/10.1101/2024.04.03...  PXD050443      PRIDE   \n",
       "4  <a href=\"https://dx.doi.org/10.1101/2025.02.05...  PXD051704      PRIDE   \n",
       "\n",
       "                                    publication_link  \n",
       "0    [https://dx.doi.org/10.1038/S41467-025-56720-1]  \n",
       "1  [https://dx.doi.org/10.6019/PXD051312, https:/...  \n",
       "2      [https://dx.doi.org/10.17159/SAJS.2025/18571]  \n",
       "3     [https://dx.doi.org/10.1101/2024.04.03.587901]  \n",
       "4     [https://dx.doi.org/10.1101/2025.02.05.636703]  "
      ],
      "text/html": [
       "<div>\n",
       "<style scoped>\n",
       "    .dataframe tbody tr th:only-of-type {\n",
       "        vertical-align: middle;\n",
       "    }\n",
       "\n",
       "    .dataframe tbody tr th {\n",
       "        vertical-align: top;\n",
       "    }\n",
       "\n",
       "    .dataframe thead th {\n",
       "        text-align: right;\n",
       "    }\n",
       "</style>\n",
       "<table border=\"1\" class=\"dataframe\">\n",
       "  <thead>\n",
       "    <tr style=\"text-align: right;\">\n",
       "      <th></th>\n",
       "      <th>publication</th>\n",
       "      <th>identifier</th>\n",
       "      <th>repository</th>\n",
       "      <th>publication_link</th>\n",
       "    </tr>\n",
       "  </thead>\n",
       "  <tbody>\n",
       "    <tr>\n",
       "      <th>0</th>\n",
       "      <td>&lt;a href=\"https://dx.doi.org/10.1038/S41467-025...</td>\n",
       "      <td>PXD059466</td>\n",
       "      <td>PRIDE</td>\n",
       "      <td>[https://dx.doi.org/10.1038/S41467-025-56720-1]</td>\n",
       "    </tr>\n",
       "    <tr>\n",
       "      <th>1</th>\n",
       "      <td>&lt;a href=\"https://dx.doi.org/10.6019/PXD051312\"...</td>\n",
       "      <td>PXD051312</td>\n",
       "      <td>PRIDE</td>\n",
       "      <td>[https://dx.doi.org/10.6019/PXD051312, https:/...</td>\n",
       "    </tr>\n",
       "    <tr>\n",
       "      <th>2</th>\n",
       "      <td>&lt;a href=\"https://dx.doi.org/10.17159/SAJS.2025...</td>\n",
       "      <td>PXD054431</td>\n",
       "      <td>PRIDE</td>\n",
       "      <td>[https://dx.doi.org/10.17159/SAJS.2025/18571]</td>\n",
       "    </tr>\n",
       "    <tr>\n",
       "      <th>3</th>\n",
       "      <td>&lt;a href=\"https://dx.doi.org/10.1101/2024.04.03...</td>\n",
       "      <td>PXD050443</td>\n",
       "      <td>PRIDE</td>\n",
       "      <td>[https://dx.doi.org/10.1101/2024.04.03.587901]</td>\n",
       "    </tr>\n",
       "    <tr>\n",
       "      <th>4</th>\n",
       "      <td>&lt;a href=\"https://dx.doi.org/10.1101/2025.02.05...</td>\n",
       "      <td>PXD051704</td>\n",
       "      <td>PRIDE</td>\n",
       "      <td>[https://dx.doi.org/10.1101/2025.02.05.636703]</td>\n",
       "    </tr>\n",
       "  </tbody>\n",
       "</table>\n",
       "</div>"
      ]
     },
     "execution_count": 24,
     "metadata": {},
     "output_type": "execute_result"
    }
   ],
   "execution_count": 24
  },
  {
   "metadata": {
    "ExecuteTime": {
     "end_time": "2025-03-05T21:10:52.276740Z",
     "start_time": "2025-03-05T21:10:50.974742Z"
    }
   },
   "cell_type": "code",
   "source": [
    "cnt = 0\n",
    "#new ids to add to publication with example\n",
    "new_ids = {}\n",
    "for publications,identifier in zip(filtered_df['publication_link'],filtered_df['identifier']):\n",
    "    for pub in publications:\n",
    "        for publication in df_merged.index:\n",
    "            if pub == publication and identifier not in df_merged.loc[publication]['dataset_uid']:\n",
    "                cnt+=1\n",
    "                new_ids[publication] = identifier\n",
    "                print(f\"Publication from proteomexchange_search.tsv: {pub,identifier}\")\n",
    "                print(f\"Publication data in df_merged: \\n{df_merged.loc[publication]}\")\n",
    "                print(\"\\n\")\n",
    "print(cnt)"
   ],
   "id": "4119e5e708ce833",
   "outputs": [
    {
     "name": "stdout",
     "output_type": "stream",
     "text": [
      "0\n"
     ]
    }
   ],
   "execution_count": 25
  },
  {
   "metadata": {
    "ExecuteTime": {
     "end_time": "2025-03-05T21:10:52.908847Z",
     "start_time": "2025-03-05T21:10:52.903241Z"
    }
   },
   "cell_type": "code",
   "source": "new_ids",
   "id": "a497310a08176d75",
   "outputs": [
    {
     "data": {
      "text/plain": [
       "{}"
      ]
     },
     "execution_count": 26,
     "metadata": {},
     "output_type": "execute_result"
    }
   ],
   "execution_count": 26
  },
  {
   "metadata": {
    "ExecuteTime": {
     "end_time": "2025-03-05T21:10:57.140347Z",
     "start_time": "2025-03-05T21:10:57.136591Z"
    }
   },
   "cell_type": "code",
   "source": "df_merged_copy = df_merged.copy()",
   "id": "d096068448880e1",
   "outputs": [],
   "execution_count": 27
  },
  {
   "metadata": {
    "ExecuteTime": {
     "end_time": "2025-03-05T21:11:00.840083Z",
     "start_time": "2025-03-05T21:11:00.832371Z"
    }
   },
   "cell_type": "code",
   "source": [
    "# add new ids to df_merged:\n",
    "# - the ids should be added to the dataset_uid column of the publication \n",
    "# - the raw_html will remain the same\n",
    "# - smallest elements will be extended with the new ids matching elements\n",
    "for new_PXD in new_ids:\n",
    "    print(f\"new_PXD: {new_PXD}\")\n",
    "    print(f\"old_ids: {df_merged_copy.loc[new_PXD]['dataset_uid']} {type(df_merged_copy.loc[new_PXD]['dataset_uid'])}, \\nnew_id: {new_ids[new_PXD]}\")\n",
    "    \n",
    "    df_merged.at[new_PXD,'dataset_uid'] = df_merged_copy.loc[new_PXD]['dataset_uid'] + ',' + new_ids[new_PXD]\n",
    "    print(f\"updated:{df_merged_copy.loc[new_PXD]['dataset_uid'] + ',' + new_ids[new_PXD]}\")\n",
    "    \n",
    "    print(f\"old_smallest_elements: {df_merged_copy.loc[new_PXD]['smallest_elements']}\\n\")\n",
    "    #print(f\"function args{df_merged_copy.loc[new_PXD], 'df_merged_copy.loc[new_PXD][raw_html]'}\")\n",
    "    \n",
    "    if df_merged.loc[new_PXD]['smallest_elements'] == 'na' or df_merged.loc[new_PXD]['smallest_elements'] is None:\n",
    "        df_merged.at[new_PXD,'smallest_elements'] = extract_all_elements_with_UID(df_merged_copy.loc[new_PXD]['raw_html'], new_ids[new_PXD])\n",
    "    elif type(df_merged.loc[new_PXD]['smallest_elements']) == list:\n",
    "        print('extending')\n",
    "        df_merged.at[new_PXD,'smallest_elements'] = df_merged.at[new_PXD,'smallest_elements'].extend(add_example_to_merged_df(df_merged.loc[new_PXD], new_ids[new_PXD]))\n",
    "    else:\n",
    "        print(f\"SOMETHING WENT WRONG\")\n",
    "    \n",
    "    print(f\"df_merged.loc[new_PXD]['dataset_uid']: {df_merged.loc[new_PXD]['dataset_uid']}\")\n",
    "    print(f\"new smallest elements with {new_PXD}: {df_merged.loc[new_PXD]['smallest_elements']}\\n\\n\")"
   ],
   "id": "2c0a5c6b43195b93",
   "outputs": [],
   "execution_count": 28
  },
  {
   "metadata": {
    "ExecuteTime": {
     "end_time": "2025-03-05T21:11:01.439911Z",
     "start_time": "2025-03-05T21:11:01.428247Z"
    }
   },
   "cell_type": "code",
   "source": "df_merged.loc[['https://dx.doi.org/10.1038/s41467-024-51174-3',]]",
   "id": "bdd2dec2b3154c5d",
   "outputs": [
    {
     "data": {
      "text/plain": [
       "                                                                 dataset_uid  \\\n",
       "publication                                                                    \n",
       "https://dx.doi.org/10.1038/s41467-024-51174-3  PXD052529,PXD054049,PXD054202   \n",
       "\n",
       "                                              repo_name  \\\n",
       "publication                                               \n",
       "https://dx.doi.org/10.1038/s41467-024-51174-3     PRIDE   \n",
       "\n",
       "                                                                      doi  \\\n",
       "publication                                                                 \n",
       "https://dx.doi.org/10.1038/s41467-024-51174-3  10.1038/s41467-024-51174-3   \n",
       "\n",
       "                                                                                        raw_html  \\\n",
       "publication                                                                                        \n",
       "https://dx.doi.org/10.1038/s41467-024-51174-3  <html lang=\"en\" class=\"js\"><head><link rel=\"pr...   \n",
       "\n",
       "                                              publisher smallest_elements  \n",
       "publication                                                                \n",
       "https://dx.doi.org/10.1038/s41467-024-51174-3    nature              None  "
      ],
      "text/html": [
       "<div>\n",
       "<style scoped>\n",
       "    .dataframe tbody tr th:only-of-type {\n",
       "        vertical-align: middle;\n",
       "    }\n",
       "\n",
       "    .dataframe tbody tr th {\n",
       "        vertical-align: top;\n",
       "    }\n",
       "\n",
       "    .dataframe thead th {\n",
       "        text-align: right;\n",
       "    }\n",
       "</style>\n",
       "<table border=\"1\" class=\"dataframe\">\n",
       "  <thead>\n",
       "    <tr style=\"text-align: right;\">\n",
       "      <th></th>\n",
       "      <th>dataset_uid</th>\n",
       "      <th>repo_name</th>\n",
       "      <th>doi</th>\n",
       "      <th>raw_html</th>\n",
       "      <th>publisher</th>\n",
       "      <th>smallest_elements</th>\n",
       "    </tr>\n",
       "    <tr>\n",
       "      <th>publication</th>\n",
       "      <th></th>\n",
       "      <th></th>\n",
       "      <th></th>\n",
       "      <th></th>\n",
       "      <th></th>\n",
       "      <th></th>\n",
       "    </tr>\n",
       "  </thead>\n",
       "  <tbody>\n",
       "    <tr>\n",
       "      <th>https://dx.doi.org/10.1038/s41467-024-51174-3</th>\n",
       "      <td>PXD052529,PXD054049,PXD054202</td>\n",
       "      <td>PRIDE</td>\n",
       "      <td>10.1038/s41467-024-51174-3</td>\n",
       "      <td>&lt;html lang=\"en\" class=\"js\"&gt;&lt;head&gt;&lt;link rel=\"pr...</td>\n",
       "      <td>nature</td>\n",
       "      <td>None</td>\n",
       "    </tr>\n",
       "  </tbody>\n",
       "</table>\n",
       "</div>"
      ]
     },
     "execution_count": 29,
     "metadata": {},
     "output_type": "execute_result"
    }
   ],
   "execution_count": 29
  },
  {
   "metadata": {
    "ExecuteTime": {
     "end_time": "2025-03-05T21:11:02.218180Z",
     "start_time": "2025-03-05T21:11:02.211406Z"
    }
   },
   "cell_type": "code",
   "source": "len(df_merged)",
   "id": "92d30e134742cae7",
   "outputs": [
    {
     "data": {
      "text/plain": [
       "239"
      ]
     },
     "execution_count": 30,
     "metadata": {},
     "output_type": "execute_result"
    }
   ],
   "execution_count": 30
  },
  {
   "metadata": {
    "ExecuteTime": {
     "end_time": "2025-03-05T21:11:05.200664Z",
     "start_time": "2025-03-05T21:11:03.058615Z"
    }
   },
   "cell_type": "code",
   "source": "df_merged.to_csv(\"exp_input/PRIDEid_HTML_data.csv\")",
   "id": "f27b18e4809d1f18",
   "outputs": [],
   "execution_count": 31
  },
  {
   "metadata": {
    "ExecuteTime": {
     "end_time": "2025-03-05T21:11:06.134339Z",
     "start_time": "2025-03-05T21:11:06.100903Z"
    }
   },
   "cell_type": "code",
   "source": "df_merged.head()",
   "id": "fa4215a1cdeef8d6",
   "outputs": [
    {
     "data": {
      "text/plain": [
       "                                                                   dataset_uid  \\\n",
       "publication                                                                      \n",
       "https://dx.doi.org/10.1001/JAMANEUROL.2024.4763                      PXD056570   \n",
       "https://dx.doi.org/10.1002/CBIC.202400831                            PXD055649   \n",
       "https://dx.doi.org/10.1002/CBIC.202400882                            PXD060372   \n",
       "https://dx.doi.org/10.1002/PRCA.202300107                            PXD028078   \n",
       "https://dx.doi.org/10.1002/anie.202420149        PXD056865,PXD057925,PXD058045   \n",
       "\n",
       "                                                repo_name  \\\n",
       "publication                                                 \n",
       "https://dx.doi.org/10.1001/JAMANEUROL.2024.4763     PRIDE   \n",
       "https://dx.doi.org/10.1002/CBIC.202400831           PRIDE   \n",
       "https://dx.doi.org/10.1002/CBIC.202400882           PRIDE   \n",
       "https://dx.doi.org/10.1002/PRCA.202300107           PRIDE   \n",
       "https://dx.doi.org/10.1002/anie.202420149           PRIDE   \n",
       "\n",
       "                                                                          doi  \\\n",
       "publication                                                                     \n",
       "https://dx.doi.org/10.1001/JAMANEUROL.2024.4763  10.1001/JAMANEUROL.2024.4763   \n",
       "https://dx.doi.org/10.1002/CBIC.202400831              10.1002/CBIC.202400831   \n",
       "https://dx.doi.org/10.1002/CBIC.202400882              10.1002/CBIC.202400882   \n",
       "https://dx.doi.org/10.1002/PRCA.202300107              10.1002/PRCA.202300107   \n",
       "https://dx.doi.org/10.1002/anie.202420149              10.1002/anie.202420149   \n",
       "\n",
       "                                                                                          raw_html  \\\n",
       "publication                                                                                          \n",
       "https://dx.doi.org/10.1001/JAMANEUROL.2024.4763  <html id=\"doc\" lang=\"en\" class=\"page-article j...   \n",
       "https://dx.doi.org/10.1002/CBIC.202400831        <html lang=\"en\" class=\"pb-page\" data-request-i...   \n",
       "https://dx.doi.org/10.1002/CBIC.202400882        <html lang=\"en\" class=\"pb-page\" data-request-i...   \n",
       "https://dx.doi.org/10.1002/PRCA.202300107        <html lang=\"en\" class=\"pb-page\" data-request-i...   \n",
       "https://dx.doi.org/10.1002/anie.202420149        <html lang=\"en\" class=\"pb-page\" data-request-i...   \n",
       "\n",
       "                                                         publisher  \\\n",
       "publication                                                          \n",
       "https://dx.doi.org/10.1001/JAMANEUROL.2024.4763        jamanetwork   \n",
       "https://dx.doi.org/10.1002/CBIC.202400831        Unknown Publisher   \n",
       "https://dx.doi.org/10.1002/CBIC.202400882        Unknown Publisher   \n",
       "https://dx.doi.org/10.1002/PRCA.202300107                    wiley   \n",
       "https://dx.doi.org/10.1002/anie.202420149                    wiley   \n",
       "\n",
       "                                                                                 smallest_elements  \n",
       "publication                                                                                         \n",
       "https://dx.doi.org/10.1001/JAMANEUROL.2024.4763                                                 na  \n",
       "https://dx.doi.org/10.1002/CBIC.202400831        [('<p>The mass spectrometry proteomics data ha...  \n",
       "https://dx.doi.org/10.1002/CBIC.202400882        [('<p>The data that support the findings of th...  \n",
       "https://dx.doi.org/10.1002/PRCA.202300107        [('<p>Generation of the protein library and SW...  \n",
       "https://dx.doi.org/10.1002/anie.202420149        [('<p>The mass spectrometry proteomics data ha...  "
      ],
      "text/html": [
       "<div>\n",
       "<style scoped>\n",
       "    .dataframe tbody tr th:only-of-type {\n",
       "        vertical-align: middle;\n",
       "    }\n",
       "\n",
       "    .dataframe tbody tr th {\n",
       "        vertical-align: top;\n",
       "    }\n",
       "\n",
       "    .dataframe thead th {\n",
       "        text-align: right;\n",
       "    }\n",
       "</style>\n",
       "<table border=\"1\" class=\"dataframe\">\n",
       "  <thead>\n",
       "    <tr style=\"text-align: right;\">\n",
       "      <th></th>\n",
       "      <th>dataset_uid</th>\n",
       "      <th>repo_name</th>\n",
       "      <th>doi</th>\n",
       "      <th>raw_html</th>\n",
       "      <th>publisher</th>\n",
       "      <th>smallest_elements</th>\n",
       "    </tr>\n",
       "    <tr>\n",
       "      <th>publication</th>\n",
       "      <th></th>\n",
       "      <th></th>\n",
       "      <th></th>\n",
       "      <th></th>\n",
       "      <th></th>\n",
       "      <th></th>\n",
       "    </tr>\n",
       "  </thead>\n",
       "  <tbody>\n",
       "    <tr>\n",
       "      <th>https://dx.doi.org/10.1001/JAMANEUROL.2024.4763</th>\n",
       "      <td>PXD056570</td>\n",
       "      <td>PRIDE</td>\n",
       "      <td>10.1001/JAMANEUROL.2024.4763</td>\n",
       "      <td>&lt;html id=\"doc\" lang=\"en\" class=\"page-article j...</td>\n",
       "      <td>jamanetwork</td>\n",
       "      <td>na</td>\n",
       "    </tr>\n",
       "    <tr>\n",
       "      <th>https://dx.doi.org/10.1002/CBIC.202400831</th>\n",
       "      <td>PXD055649</td>\n",
       "      <td>PRIDE</td>\n",
       "      <td>10.1002/CBIC.202400831</td>\n",
       "      <td>&lt;html lang=\"en\" class=\"pb-page\" data-request-i...</td>\n",
       "      <td>Unknown Publisher</td>\n",
       "      <td>[('&lt;p&gt;The mass spectrometry proteomics data ha...</td>\n",
       "    </tr>\n",
       "    <tr>\n",
       "      <th>https://dx.doi.org/10.1002/CBIC.202400882</th>\n",
       "      <td>PXD060372</td>\n",
       "      <td>PRIDE</td>\n",
       "      <td>10.1002/CBIC.202400882</td>\n",
       "      <td>&lt;html lang=\"en\" class=\"pb-page\" data-request-i...</td>\n",
       "      <td>Unknown Publisher</td>\n",
       "      <td>[('&lt;p&gt;The data that support the findings of th...</td>\n",
       "    </tr>\n",
       "    <tr>\n",
       "      <th>https://dx.doi.org/10.1002/PRCA.202300107</th>\n",
       "      <td>PXD028078</td>\n",
       "      <td>PRIDE</td>\n",
       "      <td>10.1002/PRCA.202300107</td>\n",
       "      <td>&lt;html lang=\"en\" class=\"pb-page\" data-request-i...</td>\n",
       "      <td>wiley</td>\n",
       "      <td>[('&lt;p&gt;Generation of the protein library and SW...</td>\n",
       "    </tr>\n",
       "    <tr>\n",
       "      <th>https://dx.doi.org/10.1002/anie.202420149</th>\n",
       "      <td>PXD056865,PXD057925,PXD058045</td>\n",
       "      <td>PRIDE</td>\n",
       "      <td>10.1002/anie.202420149</td>\n",
       "      <td>&lt;html lang=\"en\" class=\"pb-page\" data-request-i...</td>\n",
       "      <td>wiley</td>\n",
       "      <td>[('&lt;p&gt;The mass spectrometry proteomics data ha...</td>\n",
       "    </tr>\n",
       "  </tbody>\n",
       "</table>\n",
       "</div>"
      ]
     },
     "execution_count": 32,
     "metadata": {},
     "output_type": "execute_result"
    }
   ],
   "execution_count": 32
  },
  {
   "metadata": {
    "ExecuteTime": {
     "end_time": "2025-03-05T21:11:07.504855Z",
     "start_time": "2025-03-05T21:11:07.488216Z"
    }
   },
   "cell_type": "code",
   "source": [
    "for i,row in df_merged.iterrows():\n",
    "    if row['publisher'] == 'Unknown Publisher':\n",
    "        print(i)"
   ],
   "id": "870b34f39959bb35",
   "outputs": [
    {
     "name": "stdout",
     "output_type": "stream",
     "text": [
      "https://dx.doi.org/10.1002/CBIC.202400831\n",
      "https://dx.doi.org/10.1002/CBIC.202400882\n",
      "https://dx.doi.org/10.1002/cpt.3409\n",
      "https://dx.doi.org/10.1002/pmic.202400310\n",
      "https://dx.doi.org/10.1096/fba.2022-00063\n",
      "https://dx.doi.org/10.1111/1751-7915.70106\n"
     ]
    }
   ],
   "execution_count": 33
  },
  {
   "metadata": {},
   "cell_type": "code",
   "outputs": [],
   "execution_count": null,
   "source": "",
   "id": "347f0041007b7bb6"
  }
 ],
 "metadata": {
  "kernelspec": {
   "display_name": "Python 3",
   "language": "python",
   "name": "python3"
  },
  "language_info": {
   "codemirror_mode": {
    "name": "ipython",
    "version": 2
   },
   "file_extension": ".py",
   "mimetype": "text/x-python",
   "name": "python",
   "nbconvert_exporter": "python",
   "pygments_lexer": "ipython2",
   "version": "2.7.6"
  }
 },
 "nbformat": 4,
 "nbformat_minor": 5
}
