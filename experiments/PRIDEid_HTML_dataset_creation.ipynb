{
 "cells": [
  {
   "cell_type": "code",
   "id": "initial_id",
   "metadata": {
    "collapsed": true,
    "ExecuteTime": {
     "end_time": "2025-02-16T03:49:03.992439Z",
     "start_time": "2025-02-16T03:49:00.452158Z"
    }
   },
   "source": [
    "# import from the files in this directory\n",
    "from dotenv import load_dotenv\n",
    "from classifier import *\n",
    "from data_fetcher import *\n",
    "from parser import *\n",
    "from orchestrator import *\n",
    "from logger_setup import *\n",
    "import os\n",
    "import json\n",
    "import pandas as pd\n",
    "import numpy as np\n",
    "import re\n",
    "import time"
   ],
   "outputs": [],
   "execution_count": 1
  },
  {
   "metadata": {
    "ExecuteTime": {
     "end_time": "2025-02-16T03:49:34.434511Z",
     "start_time": "2025-02-16T03:49:09.296550Z"
    }
   },
   "cell_type": "code",
   "source": [
    "config_path = 'config_experiment.json'  # Config with input file details\n",
    "load_dotenv()\n",
    "orchestrator = Orchestrator(config_path)"
   ],
   "id": "d38134199deb3f48",
   "execution_count": 2,
   "outputs": [
    {
     "name": "stderr",
     "output_type": "stream",
     "text": [
      "orchestrator.py - line 20 - INFO - Data_Gatherer Orchestrator initialized. Extraction step Model: gemini-2.0-flash-exp\n"
     ]
    }
   ]
  },
  {
   "metadata": {
    "ExecuteTime": {
     "end_time": "2025-02-16T03:49:37.074096Z",
     "start_time": "2025-02-16T03:49:36.873161Z"
    }
   },
   "cell_type": "code",
   "source": [
    "urls = None\n",
    "df = pd.read_csv('exp_input/proteomexchange_search.tsv', sep='\\t')\n",
    "publication_datasets = df[['publication','identifier','repository']]"
   ],
   "id": "b77c99b6f6d3319",
   "outputs": [],
   "execution_count": 3
  },
  {
   "metadata": {
    "ExecuteTime": {
     "end_time": "2025-02-16T03:49:44.245244Z",
     "start_time": "2025-02-16T03:49:44.215637Z"
    }
   },
   "cell_type": "code",
   "source": [
    "# get an idea of values in df publication\n",
    "publication_datasets['publication'].value_counts()"
   ],
   "id": "5b6d73f5cec35e38",
   "outputs": [
    {
     "data": {
      "text/plain": [
       "publication\n",
       "Dataset with its publication pending                                                                                                                                                                      11719\n",
       "no publication                                                                                                                                                                                             2550\n",
       "<a href=\"http://www.ncbi.nlm.nih.gov/pubmed/35084980\" target=\"_blank\">Melani et al. (2022)</a>                                                                                                               56\n",
       "<a href=\"http://www.ncbi.nlm.nih.gov/pubmed/28267743\" target=\"_blank\">Matsumoto et al. (2017)</a>                                                                                                            28\n",
       "<a href=\"http://www.ncbi.nlm.nih.gov/pubmed/28071820\" target=\"_blank\">Kreutz et al. (2017)</a>                                                                                                               18\n",
       "                                                                                                                                                                                                          ...  \n",
       "<a href=\"https://dx.doi.org/10.3389/FPLS.2023.1285847\" target=\"_blank\">10.3389/FPLS.2023.1285847</a>                                                                                                          1\n",
       "<a href=\"https://dx.doi.org/10.1083/JCB.201902050\" target=\"_blank\">10.1083/JCB.201902050</a>                                                                                                                  1\n",
       "<a href=\"https://dx.doi.org/10.1038/S41598-023-47767-5\" target=\"_blank\">10.1038/S41598-023-47767-5</a>                                                                                                        1\n",
       "<a href=\"https://dx.doi.org/10.15252/embr.202357741\" target=\"_blank\">10.15252/embr.202357741</a>; <a href=\"https://www.ncbi.nlm.nih.gov/pubmed/38009565\" target=\"_blank\">Due Tankmar et al. (2023)</a>        1\n",
       "<a href=\"http://www.ncbi.nlm.nih.gov/pubmed/22874012\">Vaudel et al. (2012)</a>                                                                                                                                1\n",
       "Name: count, Length: 23462, dtype: int64"
      ]
     },
     "execution_count": 4,
     "metadata": {},
     "output_type": "execute_result"
    }
   ],
   "execution_count": 4
  },
  {
   "metadata": {
    "ExecuteTime": {
     "end_time": "2025-02-16T03:49:50.977595Z",
     "start_time": "2025-02-16T03:49:50.959413Z"
    }
   },
   "cell_type": "code",
   "source": [
    "#  clean the `publication` column by filtering out unwanted values like `\"Dataset with its publication pending\"`, `\"no publication\"`, and any HTML tags. \n",
    "# Remove rows with unwanted values\n",
    "filtered_df = publication_datasets[~publication_datasets['publication'].isin([\"Dataset with its publication pending\", \"no publication\"])]\n",
    "filtered_df[381:]"
   ],
   "id": "5ef8385ef9b8416d",
   "outputs": [
    {
     "data": {
      "text/plain": [
       "                                             publication identifier  \\\n",
       "899    <a href=\"https://dx.doi.org/10.1101/2024.09.18...  PXD054415   \n",
       "901    <a href=\"https://www.ncbi.nlm.nih.gov/pubmed/3...  PXD029492   \n",
       "902    <a href=\"https://www.ncbi.nlm.nih.gov/pubmed/3...  PXD054117   \n",
       "906    <a href=\"https://dx.doi.org/10.1186/S12964-024...  PXD051580   \n",
       "907    <a href=\"https://dx.doi.org/10.1038/S42004-024...  PXD055488   \n",
       "...                                                  ...        ...   \n",
       "40130  <a href=\"http://www.ncbi.nlm.nih.gov/pubmed/23...  PXD000056   \n",
       "40131  <a href=\"http://www.ncbi.nlm.nih.gov/pubmed/22...  PXD000009   \n",
       "40133  <a href=\"http://www.ncbi.nlm.nih.gov/pubmed/22...  PXD000012   \n",
       "40134  <a href=\"http://www.ncbi.nlm.nih.gov/pubmed/22...  PXD000013   \n",
       "40136  <a href=\"http://www.ncbi.nlm.nih.gov/pubmed/22...  PXD000003   \n",
       "\n",
       "         repository  \n",
       "899           PRIDE  \n",
       "901           PRIDE  \n",
       "902           PRIDE  \n",
       "906           PRIDE  \n",
       "907           PRIDE  \n",
       "...             ...  \n",
       "40130         PRIDE  \n",
       "40131         PRIDE  \n",
       "40133         PRIDE  \n",
       "40134         PRIDE  \n",
       "40136  PeptideAtlas  \n",
       "\n",
       "[25487 rows x 3 columns]"
      ],
      "text/html": [
       "<div>\n",
       "<style scoped>\n",
       "    .dataframe tbody tr th:only-of-type {\n",
       "        vertical-align: middle;\n",
       "    }\n",
       "\n",
       "    .dataframe tbody tr th {\n",
       "        vertical-align: top;\n",
       "    }\n",
       "\n",
       "    .dataframe thead th {\n",
       "        text-align: right;\n",
       "    }\n",
       "</style>\n",
       "<table border=\"1\" class=\"dataframe\">\n",
       "  <thead>\n",
       "    <tr style=\"text-align: right;\">\n",
       "      <th></th>\n",
       "      <th>publication</th>\n",
       "      <th>identifier</th>\n",
       "      <th>repository</th>\n",
       "    </tr>\n",
       "  </thead>\n",
       "  <tbody>\n",
       "    <tr>\n",
       "      <th>899</th>\n",
       "      <td>&lt;a href=\"https://dx.doi.org/10.1101/2024.09.18...</td>\n",
       "      <td>PXD054415</td>\n",
       "      <td>PRIDE</td>\n",
       "    </tr>\n",
       "    <tr>\n",
       "      <th>901</th>\n",
       "      <td>&lt;a href=\"https://www.ncbi.nlm.nih.gov/pubmed/3...</td>\n",
       "      <td>PXD029492</td>\n",
       "      <td>PRIDE</td>\n",
       "    </tr>\n",
       "    <tr>\n",
       "      <th>902</th>\n",
       "      <td>&lt;a href=\"https://www.ncbi.nlm.nih.gov/pubmed/3...</td>\n",
       "      <td>PXD054117</td>\n",
       "      <td>PRIDE</td>\n",
       "    </tr>\n",
       "    <tr>\n",
       "      <th>906</th>\n",
       "      <td>&lt;a href=\"https://dx.doi.org/10.1186/S12964-024...</td>\n",
       "      <td>PXD051580</td>\n",
       "      <td>PRIDE</td>\n",
       "    </tr>\n",
       "    <tr>\n",
       "      <th>907</th>\n",
       "      <td>&lt;a href=\"https://dx.doi.org/10.1038/S42004-024...</td>\n",
       "      <td>PXD055488</td>\n",
       "      <td>PRIDE</td>\n",
       "    </tr>\n",
       "    <tr>\n",
       "      <th>...</th>\n",
       "      <td>...</td>\n",
       "      <td>...</td>\n",
       "      <td>...</td>\n",
       "    </tr>\n",
       "    <tr>\n",
       "      <th>40130</th>\n",
       "      <td>&lt;a href=\"http://www.ncbi.nlm.nih.gov/pubmed/23...</td>\n",
       "      <td>PXD000056</td>\n",
       "      <td>PRIDE</td>\n",
       "    </tr>\n",
       "    <tr>\n",
       "      <th>40131</th>\n",
       "      <td>&lt;a href=\"http://www.ncbi.nlm.nih.gov/pubmed/22...</td>\n",
       "      <td>PXD000009</td>\n",
       "      <td>PRIDE</td>\n",
       "    </tr>\n",
       "    <tr>\n",
       "      <th>40133</th>\n",
       "      <td>&lt;a href=\"http://www.ncbi.nlm.nih.gov/pubmed/22...</td>\n",
       "      <td>PXD000012</td>\n",
       "      <td>PRIDE</td>\n",
       "    </tr>\n",
       "    <tr>\n",
       "      <th>40134</th>\n",
       "      <td>&lt;a href=\"http://www.ncbi.nlm.nih.gov/pubmed/22...</td>\n",
       "      <td>PXD000013</td>\n",
       "      <td>PRIDE</td>\n",
       "    </tr>\n",
       "    <tr>\n",
       "      <th>40136</th>\n",
       "      <td>&lt;a href=\"http://www.ncbi.nlm.nih.gov/pubmed/22...</td>\n",
       "      <td>PXD000003</td>\n",
       "      <td>PeptideAtlas</td>\n",
       "    </tr>\n",
       "  </tbody>\n",
       "</table>\n",
       "<p>25487 rows × 3 columns</p>\n",
       "</div>"
      ]
     },
     "execution_count": 5,
     "metadata": {},
     "output_type": "execute_result"
    }
   ],
   "execution_count": 5
  },
  {
   "metadata": {
    "ExecuteTime": {
     "end_time": "2025-02-16T03:50:25.313440Z",
     "start_time": "2025-02-16T03:50:24.472815Z"
    }
   },
   "cell_type": "code",
   "source": [
    "# Assuming filtered_df is already defined\n",
    "filtered_df['publication_link'] = None  # Create a new column for the links\n",
    "\n",
    "for i, row in filtered_df.iterrows():\n",
    "    pub = str(row['publication'])  # Ensure string type\n",
    "    if \"href\" in pub:\n",
    "        match = re.findall(r'href=[\\'\"]([^\\'\"]+)[\\'\"]', pub)\n",
    "        if match:\n",
    "            filtered_df.at[i, 'publication_link'] = match  # Assign all the matched URLs\n",
    "        else:\n",
    "            filtered_df.at[i, 'publication_link'] = None\n",
    "    else:\n",
    "        filtered_df.at[i, 'publication_link'] = None\n",
    "\n",
    "# Drop rows with missing links (optional)\n",
    "filtered_df.dropna(subset=['publication_link'], inplace=True)\n",
    "filtered_df.reset_index(drop=True, inplace=True)"
   ],
   "id": "ac053d4c4e0d95e6",
   "outputs": [
    {
     "name": "stderr",
     "output_type": "stream",
     "text": [
      "/var/folders/br/873byd752sb72sf4n7yfykxw0000gn/T/ipykernel_28083/1978044078.py:2: SettingWithCopyWarning: \n",
      "A value is trying to be set on a copy of a slice from a DataFrame.\n",
      "Try using .loc[row_indexer,col_indexer] = value instead\n",
      "\n",
      "See the caveats in the documentation: https://pandas.pydata.org/pandas-docs/stable/user_guide/indexing.html#returning-a-view-versus-a-copy\n",
      "  filtered_df['publication_link'] = None  # Create a new column for the links\n",
      "/var/folders/br/873byd752sb72sf4n7yfykxw0000gn/T/ipykernel_28083/1978044078.py:16: SettingWithCopyWarning: \n",
      "A value is trying to be set on a copy of a slice from a DataFrame\n",
      "\n",
      "See the caveats in the documentation: https://pandas.pydata.org/pandas-docs/stable/user_guide/indexing.html#returning-a-view-versus-a-copy\n",
      "  filtered_df.dropna(subset=['publication_link'], inplace=True)\n"
     ]
    }
   ],
   "execution_count": 6
  },
  {
   "metadata": {
    "ExecuteTime": {
     "end_time": "2025-02-16T03:50:39.899430Z",
     "start_time": "2025-02-16T03:50:39.227288Z"
    }
   },
   "cell_type": "code",
   "source": [
    "m = 0\n",
    "for i,row in filtered_df.iterrows():\n",
    "    id = row['identifier']\n",
    "    m+=len(row['publication_link'])\n",
    "print(m/i+1)\n",
    "print(filtered_df)"
   ],
   "id": "bf9d75490f3125de",
   "outputs": [
    {
     "name": "stdout",
     "output_type": "stream",
     "text": [
      "2.5313095933060907\n",
      "                                             publication identifier  \\\n",
      "0      <a href=\"https://dx.doi.org/10.1038/S41467-025...  PXD059466   \n",
      "1      <a href=\"https://dx.doi.org/10.6019/PXD051312\"...  PXD051312   \n",
      "2      <a href=\"https://dx.doi.org/10.17159/SAJS.2025...  PXD054431   \n",
      "3      <a href=\"https://dx.doi.org/10.1101/2024.04.03...  PXD050443   \n",
      "4      <a href=\"https://dx.doi.org/10.1101/2025.02.05...  PXD051704   \n",
      "...                                                  ...        ...   \n",
      "25691  <a href=\"http://www.ncbi.nlm.nih.gov/pubmed/23...  PXD000056   \n",
      "25692  <a href=\"http://www.ncbi.nlm.nih.gov/pubmed/22...  PXD000009   \n",
      "25693  <a href=\"http://www.ncbi.nlm.nih.gov/pubmed/22...  PXD000012   \n",
      "25694  <a href=\"http://www.ncbi.nlm.nih.gov/pubmed/22...  PXD000013   \n",
      "25695  <a href=\"http://www.ncbi.nlm.nih.gov/pubmed/22...  PXD000003   \n",
      "\n",
      "         repository                                   publication_link  \n",
      "0             PRIDE    [https://dx.doi.org/10.1038/S41467-025-56720-1]  \n",
      "1             PRIDE  [https://dx.doi.org/10.6019/PXD051312, https:/...  \n",
      "2             PRIDE      [https://dx.doi.org/10.17159/SAJS.2025/18571]  \n",
      "3             PRIDE     [https://dx.doi.org/10.1101/2024.04.03.587901]  \n",
      "4             PRIDE     [https://dx.doi.org/10.1101/2025.02.05.636703]  \n",
      "...             ...                                                ...  \n",
      "25691         PRIDE      [http://www.ncbi.nlm.nih.gov/pubmed/23212214]  \n",
      "25692         PRIDE      [http://www.ncbi.nlm.nih.gov/pubmed/22994238]  \n",
      "25693         PRIDE      [http://www.ncbi.nlm.nih.gov/pubmed/22905912]  \n",
      "25694         PRIDE      [http://www.ncbi.nlm.nih.gov/pubmed/22874012]  \n",
      "25695  PeptideAtlas      [http://www.ncbi.nlm.nih.gov/pubmed/22786679]  \n",
      "\n",
      "[25696 rows x 4 columns]\n"
     ]
    }
   ],
   "execution_count": 7
  },
  {
   "metadata": {
    "ExecuteTime": {
     "end_time": "2025-02-16T04:05:00.084527Z",
     "start_time": "2025-02-16T03:51:06.707682Z"
    }
   },
   "cell_type": "code",
   "source": [
    "data = []\n",
    "\n",
    "start = 441\n",
    "\n",
    "iter_max = 50\n",
    "\n",
    "t0 = time.time()\n",
    "\n",
    "for i,row in filtered_df[start:].iterrows():\n",
    "    \n",
    "    driver = orchestrator.setup_data_fetcher()\n",
    "        \n",
    "    id = row['identifier']\n",
    "    \n",
    "    if i == 441 + iter_max:\n",
    "        break\n",
    "        \n",
    "    if i%100 == 0 and i>0:\n",
    "        print(f\"Progress {i+1}/{len(filtered_df)}. ETA {((time.time()-t0)/(i+1))*(len(filtered_df)-i-1)}\")\n",
    "        \n",
    "    print(f\"Processing URL {i+1}.\\nTime elapsed: {time.time()-t0}\") if i>0 else None\n",
    "    print(f\"{len(row['publication_link'])} links found for dataset {id}\")\n",
    "    \n",
    "\n",
    "    for url in row['publication_link']:\n",
    "        orchestrator.logger.info(f\"Processing URL: {url}\")\n",
    "    \n",
    "        orchestrator.current_url = url\n",
    "        orchestrator.publisher = orchestrator.data_fetcher.url_to_publisher_domain(url)\n",
    "        \n",
    "        orchestrator.data_fetcher = orchestrator.data_fetcher.update_DataFetcher_settings(url, orchestrator.full_DOM, orchestrator.logger)\n",
    "        \n",
    "        try:\n",
    "            orchestrator.logger.info(\"Fetching Raw content\")\n",
    "            raw_data = orchestrator.data_fetcher.fetch_data(url)\n",
    "            if id in raw_data:\n",
    "                data.append({\"publication\": url,\"dataset_uid\": row['identifier'], \"repo_name\": row['repository'], \"raw_html\": raw_data})\n",
    "                break\n",
    "            else:\n",
    "                print(\"id not found in raw data\")\n",
    "                continue\n",
    "        except Exception as e:\n",
    "            orchestrator.logger.error(f\"Error processing URL {url}: {e}\", exc_info=True)\n",
    "    \n",
    "    driver.quit()\n",
    "\n",
    "    \n",
    "df = pd.DataFrame(data)\n",
    "df.set_index(\"publication\",inplace=True)\n",
    "df"
   ],
   "id": "749a6cf1e6facd65",
   "outputs": [
    {
     "name": "stderr",
     "output_type": "stream",
     "text": [
      "orchestrator.py - line 45 - INFO - Data fetcher setup completed.\n",
      "2951215865.py - line 26 - INFO - Processing URL: https://www.ncbi.nlm.nih.gov/pubmed/39486496\n",
      "data_fetcher.py - line 65 - INFO - Non-API URL detected, or API unsupported. Webscraper update\n"
     ]
    },
    {
     "name": "stdout",
     "output_type": "stream",
     "text": [
      "Processing URL 389.\n",
      "Time elapsed: 2.1852731704711914\n",
      "3 links found for dataset PXD056511\n"
     ]
    },
    {
     "name": "stderr",
     "output_type": "stream",
     "text": [
      "2951215865.py - line 34 - INFO - Fetching Raw content\n",
      "2951215865.py - line 26 - INFO - Processing URL: https://dx.doi.org/10.6019/PXD056511\n",
      "data_fetcher.py - line 30 - INFO - Publisher: doi\n",
      "data_fetcher.py - line 65 - INFO - Non-API URL detected, or API unsupported. Webscraper update\n"
     ]
    },
    {
     "name": "stdout",
     "output_type": "stream",
     "text": [
      "id not found in raw data\n"
     ]
    },
    {
     "name": "stderr",
     "output_type": "stream",
     "text": [
      "2951215865.py - line 34 - INFO - Fetching Raw content\n",
      "orchestrator.py - line 30 - INFO - Previous driver quit.\n",
      "orchestrator.py - line 45 - INFO - Data fetcher setup completed.\n",
      "2951215865.py - line 26 - INFO - Processing URL: https://www.ncbi.nlm.nih.gov/pubmed/38617292\n",
      "data_fetcher.py - line 65 - INFO - Non-API URL detected, or API unsupported. Webscraper update\n"
     ]
    },
    {
     "name": "stdout",
     "output_type": "stream",
     "text": [
      "Processing URL 390.\n",
      "Time elapsed: 21.39770793914795\n",
      "2 links found for dataset PXD050296\n"
     ]
    },
    {
     "name": "stderr",
     "output_type": "stream",
     "text": [
      "2951215865.py - line 34 - INFO - Fetching Raw content\n",
      "2951215865.py - line 26 - INFO - Processing URL: https://dx.doi.org/10.1101/2024.04.04.588169\n",
      "data_fetcher.py - line 30 - INFO - Publisher: doi\n",
      "data_fetcher.py - line 65 - INFO - Non-API URL detected, or API unsupported. Webscraper update\n"
     ]
    },
    {
     "name": "stdout",
     "output_type": "stream",
     "text": [
      "id not found in raw data\n"
     ]
    },
    {
     "name": "stderr",
     "output_type": "stream",
     "text": [
      "2951215865.py - line 34 - INFO - Fetching Raw content\n"
     ]
    },
    {
     "name": "stdout",
     "output_type": "stream",
     "text": [
      "id not found in raw data\n"
     ]
    },
    {
     "name": "stderr",
     "output_type": "stream",
     "text": [
      "orchestrator.py - line 30 - INFO - Previous driver quit.\n",
      "orchestrator.py - line 45 - INFO - Data fetcher setup completed.\n",
      "2951215865.py - line 26 - INFO - Processing URL: https://dx.doi.org/10.1101/2023.12.07.570621\n",
      "data_fetcher.py - line 30 - INFO - Publisher: doi\n",
      "data_fetcher.py - line 65 - INFO - Non-API URL detected, or API unsupported. Webscraper update\n"
     ]
    },
    {
     "name": "stdout",
     "output_type": "stream",
     "text": [
      "Processing URL 391.\n",
      "Time elapsed: 41.14006805419922\n",
      "1 links found for dataset PXD040649\n"
     ]
    },
    {
     "name": "stderr",
     "output_type": "stream",
     "text": [
      "2951215865.py - line 34 - INFO - Fetching Raw content\n"
     ]
    },
    {
     "name": "stdout",
     "output_type": "stream",
     "text": [
      "id not found in raw data\n"
     ]
    },
    {
     "name": "stderr",
     "output_type": "stream",
     "text": [
      "orchestrator.py - line 30 - INFO - Previous driver quit.\n",
      "orchestrator.py - line 45 - INFO - Data fetcher setup completed.\n",
      "2951215865.py - line 26 - INFO - Processing URL: https://www.ncbi.nlm.nih.gov/pubmed/32883804\n",
      "data_fetcher.py - line 65 - INFO - Non-API URL detected, or API unsupported. Webscraper update\n"
     ]
    },
    {
     "name": "stdout",
     "output_type": "stream",
     "text": [
      "Processing URL 392.\n",
      "Time elapsed: 60.57174015045166\n",
      "2 links found for dataset PXD016592\n"
     ]
    },
    {
     "name": "stderr",
     "output_type": "stream",
     "text": [
      "2951215865.py - line 34 - INFO - Fetching Raw content\n",
      "2951215865.py - line 26 - INFO - Processing URL: https://www.ncbi.nlm.nih.gov/pubmed/35689013\n",
      "data_fetcher.py - line 65 - INFO - Non-API URL detected, or API unsupported. Webscraper update\n"
     ]
    },
    {
     "name": "stdout",
     "output_type": "stream",
     "text": [
      "id not found in raw data\n"
     ]
    },
    {
     "name": "stderr",
     "output_type": "stream",
     "text": [
      "2951215865.py - line 34 - INFO - Fetching Raw content\n"
     ]
    },
    {
     "name": "stdout",
     "output_type": "stream",
     "text": [
      "id not found in raw data\n"
     ]
    },
    {
     "name": "stderr",
     "output_type": "stream",
     "text": [
      "orchestrator.py - line 30 - INFO - Previous driver quit.\n",
      "orchestrator.py - line 45 - INFO - Data fetcher setup completed.\n",
      "2951215865.py - line 26 - INFO - Processing URL: https://www.ncbi.nlm.nih.gov/pubmed/35689013\n",
      "data_fetcher.py - line 65 - INFO - Non-API URL detected, or API unsupported. Webscraper update\n"
     ]
    },
    {
     "name": "stdout",
     "output_type": "stream",
     "text": [
      "Processing URL 393.\n",
      "Time elapsed: 78.63879919052124\n",
      "1 links found for dataset PXD023307\n"
     ]
    },
    {
     "name": "stderr",
     "output_type": "stream",
     "text": [
      "2951215865.py - line 34 - INFO - Fetching Raw content\n"
     ]
    },
    {
     "name": "stdout",
     "output_type": "stream",
     "text": [
      "id not found in raw data\n"
     ]
    },
    {
     "name": "stderr",
     "output_type": "stream",
     "text": [
      "orchestrator.py - line 30 - INFO - Previous driver quit.\n",
      "orchestrator.py - line 45 - INFO - Data fetcher setup completed.\n",
      "2951215865.py - line 26 - INFO - Processing URL: https://www.ncbi.nlm.nih.gov/pubmed/36009432\n",
      "data_fetcher.py - line 65 - INFO - Non-API URL detected, or API unsupported. Webscraper update\n"
     ]
    },
    {
     "name": "stdout",
     "output_type": "stream",
     "text": [
      "Processing URL 394.\n",
      "Time elapsed: 89.4761369228363\n",
      "1 links found for dataset PXD030894\n"
     ]
    },
    {
     "name": "stderr",
     "output_type": "stream",
     "text": [
      "2951215865.py - line 34 - INFO - Fetching Raw content\n"
     ]
    },
    {
     "name": "stdout",
     "output_type": "stream",
     "text": [
      "id not found in raw data\n"
     ]
    },
    {
     "name": "stderr",
     "output_type": "stream",
     "text": [
      "orchestrator.py - line 30 - INFO - Previous driver quit.\n",
      "orchestrator.py - line 45 - INFO - Data fetcher setup completed.\n",
      "2951215865.py - line 26 - INFO - Processing URL: https://dx.doi.org/10.2139/SSRN.4967745\n",
      "data_fetcher.py - line 30 - INFO - Publisher: doi\n",
      "data_fetcher.py - line 65 - INFO - Non-API URL detected, or API unsupported. Webscraper update\n"
     ]
    },
    {
     "name": "stdout",
     "output_type": "stream",
     "text": [
      "Processing URL 395.\n",
      "Time elapsed: 100.35900902748108\n",
      "1 links found for dataset PXD055809\n"
     ]
    },
    {
     "name": "stderr",
     "output_type": "stream",
     "text": [
      "2951215865.py - line 34 - INFO - Fetching Raw content\n"
     ]
    },
    {
     "name": "stdout",
     "output_type": "stream",
     "text": [
      "id not found in raw data\n"
     ]
    },
    {
     "name": "stderr",
     "output_type": "stream",
     "text": [
      "orchestrator.py - line 30 - INFO - Previous driver quit.\n",
      "orchestrator.py - line 45 - INFO - Data fetcher setup completed.\n",
      "2951215865.py - line 26 - INFO - Processing URL: https://www.ncbi.nlm.nih.gov/pubmed/39513657\n",
      "data_fetcher.py - line 65 - INFO - Non-API URL detected, or API unsupported. Webscraper update\n"
     ]
    },
    {
     "name": "stdout",
     "output_type": "stream",
     "text": [
      "Processing URL 396.\n",
      "Time elapsed: 117.53144311904907\n",
      "1 links found for dataset PXD054847\n"
     ]
    },
    {
     "name": "stderr",
     "output_type": "stream",
     "text": [
      "2951215865.py - line 34 - INFO - Fetching Raw content\n"
     ]
    },
    {
     "name": "stdout",
     "output_type": "stream",
     "text": [
      "id not found in raw data\n"
     ]
    },
    {
     "name": "stderr",
     "output_type": "stream",
     "text": [
      "orchestrator.py - line 30 - INFO - Previous driver quit.\n",
      "orchestrator.py - line 45 - INFO - Data fetcher setup completed.\n",
      "2951215865.py - line 26 - INFO - Processing URL: https://www.ncbi.nlm.nih.gov/pubmed/39120973\n",
      "data_fetcher.py - line 65 - INFO - Non-API URL detected, or API unsupported. Webscraper update\n"
     ]
    },
    {
     "name": "stdout",
     "output_type": "stream",
     "text": [
      "Processing URL 397.\n",
      "Time elapsed: 130.03853797912598\n",
      "1 links found for dataset PXD054692\n"
     ]
    },
    {
     "name": "stderr",
     "output_type": "stream",
     "text": [
      "2951215865.py - line 34 - INFO - Fetching Raw content\n"
     ]
    },
    {
     "name": "stdout",
     "output_type": "stream",
     "text": [
      "id not found in raw data\n"
     ]
    },
    {
     "name": "stderr",
     "output_type": "stream",
     "text": [
      "orchestrator.py - line 30 - INFO - Previous driver quit.\n",
      "orchestrator.py - line 45 - INFO - Data fetcher setup completed.\n",
      "2951215865.py - line 26 - INFO - Processing URL: https://www.ncbi.nlm.nih.gov/pubmed/39219796\n",
      "data_fetcher.py - line 65 - INFO - Non-API URL detected, or API unsupported. Webscraper update\n"
     ]
    },
    {
     "name": "stdout",
     "output_type": "stream",
     "text": [
      "Processing URL 398.\n",
      "Time elapsed: 145.6634020805359\n",
      "1 links found for dataset PXD054620\n"
     ]
    },
    {
     "name": "stderr",
     "output_type": "stream",
     "text": [
      "2951215865.py - line 34 - INFO - Fetching Raw content\n"
     ]
    },
    {
     "name": "stdout",
     "output_type": "stream",
     "text": [
      "id not found in raw data\n"
     ]
    },
    {
     "name": "stderr",
     "output_type": "stream",
     "text": [
      "orchestrator.py - line 30 - INFO - Previous driver quit.\n",
      "orchestrator.py - line 45 - INFO - Data fetcher setup completed.\n",
      "2951215865.py - line 26 - INFO - Processing URL: https://www.ncbi.nlm.nih.gov/pubmed/39421202\n",
      "data_fetcher.py - line 65 - INFO - Non-API URL detected, or API unsupported. Webscraper update\n"
     ]
    },
    {
     "name": "stdout",
     "output_type": "stream",
     "text": [
      "Processing URL 399.\n",
      "Time elapsed: 158.55678415298462\n",
      "1 links found for dataset PXD054231\n"
     ]
    },
    {
     "name": "stderr",
     "output_type": "stream",
     "text": [
      "2951215865.py - line 34 - INFO - Fetching Raw content\n"
     ]
    },
    {
     "name": "stdout",
     "output_type": "stream",
     "text": [
      "id not found in raw data\n"
     ]
    },
    {
     "name": "stderr",
     "output_type": "stream",
     "text": [
      "orchestrator.py - line 30 - INFO - Previous driver quit.\n",
      "orchestrator.py - line 45 - INFO - Data fetcher setup completed.\n",
      "2951215865.py - line 26 - INFO - Processing URL: https://dx.doi.org/10.6019/PXD054686\n",
      "data_fetcher.py - line 30 - INFO - Publisher: doi\n",
      "data_fetcher.py - line 65 - INFO - Non-API URL detected, or API unsupported. Webscraper update\n"
     ]
    },
    {
     "name": "stdout",
     "output_type": "stream",
     "text": [
      "Processing URL 400.\n",
      "Time elapsed: 171.16219019889832\n",
      "2 links found for dataset PXD054686\n"
     ]
    },
    {
     "name": "stderr",
     "output_type": "stream",
     "text": [
      "2951215865.py - line 34 - INFO - Fetching Raw content\n",
      "orchestrator.py - line 30 - INFO - Previous driver quit.\n",
      "orchestrator.py - line 45 - INFO - Data fetcher setup completed.\n",
      "2951215865.py - line 26 - INFO - Processing URL: https://dx.doi.org/10.26508/LSA.202403007\n",
      "data_fetcher.py - line 30 - INFO - Publisher: doi\n",
      "data_fetcher.py - line 65 - INFO - Non-API URL detected, or API unsupported. Webscraper update\n"
     ]
    },
    {
     "name": "stdout",
     "output_type": "stream",
     "text": [
      "Progress 401/25696. ETA 11630.73322670418\n",
      "Processing URL 401.\n",
      "Time elapsed: 184.3813979625702\n",
      "1 links found for dataset PXD058295\n"
     ]
    },
    {
     "name": "stderr",
     "output_type": "stream",
     "text": [
      "2951215865.py - line 34 - INFO - Fetching Raw content\n",
      "orchestrator.py - line 30 - INFO - Previous driver quit.\n",
      "orchestrator.py - line 45 - INFO - Data fetcher setup completed.\n",
      "2951215865.py - line 26 - INFO - Processing URL: https://dx.doi.org/10.3389/FMED.2024.1302637\n",
      "data_fetcher.py - line 30 - INFO - Publisher: doi\n",
      "data_fetcher.py - line 65 - INFO - Non-API URL detected, or API unsupported. Webscraper update\n"
     ]
    },
    {
     "name": "stdout",
     "output_type": "stream",
     "text": [
      "Processing URL 402.\n",
      "Time elapsed: 203.41849327087402\n",
      "1 links found for dataset PXD045874\n"
     ]
    },
    {
     "name": "stderr",
     "output_type": "stream",
     "text": [
      "2951215865.py - line 34 - INFO - Fetching Raw content\n",
      "orchestrator.py - line 30 - INFO - Previous driver quit.\n",
      "orchestrator.py - line 45 - INFO - Data fetcher setup completed.\n",
      "2951215865.py - line 26 - INFO - Processing URL: https://dx.doi.org/10.6019/PXD054390\n",
      "data_fetcher.py - line 30 - INFO - Publisher: doi\n",
      "data_fetcher.py - line 65 - INFO - Non-API URL detected, or API unsupported. Webscraper update\n"
     ]
    },
    {
     "name": "stdout",
     "output_type": "stream",
     "text": [
      "Processing URL 403.\n",
      "Time elapsed: 217.17926025390625\n",
      "1 links found for dataset PXD054390\n"
     ]
    },
    {
     "name": "stderr",
     "output_type": "stream",
     "text": [
      "2951215865.py - line 34 - INFO - Fetching Raw content\n",
      "orchestrator.py - line 30 - INFO - Previous driver quit.\n",
      "orchestrator.py - line 45 - INFO - Data fetcher setup completed.\n",
      "2951215865.py - line 26 - INFO - Processing URL: https://www.ncbi.nlm.nih.gov/pubmed/32932765\n",
      "data_fetcher.py - line 65 - INFO - Non-API URL detected, or API unsupported. Webscraper update\n"
     ]
    },
    {
     "name": "stdout",
     "output_type": "stream",
     "text": [
      "Processing URL 404.\n",
      "Time elapsed: 230.3014452457428\n",
      "1 links found for dataset PXD020106\n"
     ]
    },
    {
     "name": "stderr",
     "output_type": "stream",
     "text": [
      "2951215865.py - line 34 - INFO - Fetching Raw content\n"
     ]
    },
    {
     "name": "stdout",
     "output_type": "stream",
     "text": [
      "id not found in raw data\n"
     ]
    },
    {
     "name": "stderr",
     "output_type": "stream",
     "text": [
      "orchestrator.py - line 30 - INFO - Previous driver quit.\n",
      "orchestrator.py - line 45 - INFO - Data fetcher setup completed.\n",
      "2951215865.py - line 26 - INFO - Processing URL: https://dx.doi.org/10.6019/PXD054428\n",
      "data_fetcher.py - line 30 - INFO - Publisher: doi\n",
      "data_fetcher.py - line 65 - INFO - Non-API URL detected, or API unsupported. Webscraper update\n"
     ]
    },
    {
     "name": "stdout",
     "output_type": "stream",
     "text": [
      "Processing URL 405.\n",
      "Time elapsed: 242.8087601661682\n",
      "1 links found for dataset PXD054428\n"
     ]
    },
    {
     "name": "stderr",
     "output_type": "stream",
     "text": [
      "2951215865.py - line 34 - INFO - Fetching Raw content\n",
      "orchestrator.py - line 30 - INFO - Previous driver quit.\n",
      "orchestrator.py - line 45 - INFO - Data fetcher setup completed.\n",
      "2951215865.py - line 26 - INFO - Processing URL: https://dx.doi.org/10.1021/acs.jproteome.4c00653\n",
      "data_fetcher.py - line 30 - INFO - Publisher: doi\n",
      "data_fetcher.py - line 65 - INFO - Non-API URL detected, or API unsupported. Webscraper update\n"
     ]
    },
    {
     "name": "stdout",
     "output_type": "stream",
     "text": [
      "Processing URL 406.\n",
      "Time elapsed: 255.76814723014832\n",
      "2 links found for dataset PXD053293\n"
     ]
    },
    {
     "name": "stderr",
     "output_type": "stream",
     "text": [
      "2951215865.py - line 34 - INFO - Fetching Raw content\n",
      "2951215865.py - line 26 - INFO - Processing URL: https://www.ncbi.nlm.nih.gov/pubmed/39533701\n",
      "data_fetcher.py - line 65 - INFO - Non-API URL detected, or API unsupported. Webscraper update\n"
     ]
    },
    {
     "name": "stdout",
     "output_type": "stream",
     "text": [
      "id not found in raw data\n"
     ]
    },
    {
     "name": "stderr",
     "output_type": "stream",
     "text": [
      "2951215865.py - line 34 - INFO - Fetching Raw content\n"
     ]
    },
    {
     "name": "stdout",
     "output_type": "stream",
     "text": [
      "id not found in raw data\n"
     ]
    },
    {
     "name": "stderr",
     "output_type": "stream",
     "text": [
      "orchestrator.py - line 30 - INFO - Previous driver quit.\n",
      "orchestrator.py - line 45 - INFO - Data fetcher setup completed.\n",
      "2951215865.py - line 26 - INFO - Processing URL: https://www.ncbi.nlm.nih.gov/pubmed/39290339\n",
      "data_fetcher.py - line 65 - INFO - Non-API URL detected, or API unsupported. Webscraper update\n"
     ]
    },
    {
     "name": "stdout",
     "output_type": "stream",
     "text": [
      "Processing URL 407.\n",
      "Time elapsed: 283.93104314804077\n",
      "2 links found for dataset PXD050584\n"
     ]
    },
    {
     "name": "stderr",
     "output_type": "stream",
     "text": [
      "2951215865.py - line 34 - INFO - Fetching Raw content\n",
      "2951215865.py - line 26 - INFO - Processing URL: https://dx.doi.org/10.1016/j.bioactmat.2024.08.037\n",
      "data_fetcher.py - line 30 - INFO - Publisher: doi\n",
      "data_fetcher.py - line 65 - INFO - Non-API URL detected, or API unsupported. Webscraper update\n"
     ]
    },
    {
     "name": "stdout",
     "output_type": "stream",
     "text": [
      "id not found in raw data\n"
     ]
    },
    {
     "name": "stderr",
     "output_type": "stream",
     "text": [
      "2951215865.py - line 34 - INFO - Fetching Raw content\n",
      "orchestrator.py - line 30 - INFO - Previous driver quit.\n",
      "orchestrator.py - line 45 - INFO - Data fetcher setup completed.\n",
      "2951215865.py - line 26 - INFO - Processing URL: https://www.ncbi.nlm.nih.gov/pubmed/38556435\n",
      "data_fetcher.py - line 65 - INFO - Non-API URL detected, or API unsupported. Webscraper update\n"
     ]
    },
    {
     "name": "stdout",
     "output_type": "stream",
     "text": [
      "Processing URL 408.\n",
      "Time elapsed: 310.3474769592285\n",
      "2 links found for dataset PXD042713\n"
     ]
    },
    {
     "name": "stderr",
     "output_type": "stream",
     "text": [
      "2951215865.py - line 34 - INFO - Fetching Raw content\n",
      "2951215865.py - line 26 - INFO - Processing URL: https://dx.doi.org/10.1016/j.jdermsci.2024.03.006\n",
      "data_fetcher.py - line 30 - INFO - Publisher: doi\n",
      "data_fetcher.py - line 65 - INFO - Non-API URL detected, or API unsupported. Webscraper update\n"
     ]
    },
    {
     "name": "stdout",
     "output_type": "stream",
     "text": [
      "id not found in raw data\n"
     ]
    },
    {
     "name": "stderr",
     "output_type": "stream",
     "text": [
      "2951215865.py - line 34 - INFO - Fetching Raw content\n",
      "2951215865.py - line 43 - ERROR - Error processing URL https://dx.doi.org/10.1016/j.jdermsci.2024.03.006: Message: TypeError: document.body is null\n",
      "Stacktrace:\n",
      "@https://www.jdsjournal.com/article/S0923-1811(24)00052-5/abstract:2:7\n",
      "@https://www.jdsjournal.com/article/S0923-1811(24)00052-5/abstract:3:8\n",
      "Traceback (most recent call last):\n",
      "  File \"/var/folders/br/873byd752sb72sf4n7yfykxw0000gn/T/ipykernel_28083/2951215865.py\", line 35, in <module>\n",
      "    raw_data = orchestrator.data_fetcher.fetch_data(url)\n",
      "               ^^^^^^^^^^^^^^^^^^^^^^^^^^^^^^^^^^^^^^^^^\n",
      "  File \"/Users/pietro/Desktop/VIDA-NYU/data-gatherer/data_fetcher.py\", line 94, in fetch_data\n",
      "    self.simulate_user_scroll()\n",
      "  File \"/Users/pietro/Desktop/VIDA-NYU/data-gatherer/data_fetcher.py\", line 122, in simulate_user_scroll\n",
      "    new_height = self.scraper_tool.execute_script(\"return document.body.scrollHeight\")\n",
      "                 ^^^^^^^^^^^^^^^^^^^^^^^^^^^^^^^^^^^^^^^^^^^^^^^^^^^^^^^^^^^^^^^^^^^^^\n",
      "  File \"/Users/pietro/opt/miniconda3/envs/Summer24/lib/python3.11/site-packages/selenium/webdriver/remote/webdriver.py\", line 414, in execute_script\n",
      "    return self.execute(command, {\"script\": script, \"args\": converted_args})[\"value\"]\n",
      "           ^^^^^^^^^^^^^^^^^^^^^^^^^^^^^^^^^^^^^^^^^^^^^^^^^^^^^^^^^^^^^^^^^\n",
      "  File \"/Users/pietro/opt/miniconda3/envs/Summer24/lib/python3.11/site-packages/selenium/webdriver/remote/webdriver.py\", line 354, in execute\n",
      "    self.error_handler.check_response(response)\n",
      "  File \"/Users/pietro/opt/miniconda3/envs/Summer24/lib/python3.11/site-packages/selenium/webdriver/remote/errorhandler.py\", line 229, in check_response\n",
      "    raise exception_class(message, screen, stacktrace)\n",
      "selenium.common.exceptions.JavascriptException: Message: TypeError: document.body is null\n",
      "Stacktrace:\n",
      "@https://www.jdsjournal.com/article/S0923-1811(24)00052-5/abstract:2:7\n",
      "@https://www.jdsjournal.com/article/S0923-1811(24)00052-5/abstract:3:8\n",
      "\n",
      "orchestrator.py - line 30 - INFO - Previous driver quit.\n",
      "orchestrator.py - line 45 - INFO - Data fetcher setup completed.\n",
      "2951215865.py - line 26 - INFO - Processing URL: https://www.ncbi.nlm.nih.gov/pubmed/39547396\n",
      "data_fetcher.py - line 65 - INFO - Non-API URL detected, or API unsupported. Webscraper update\n"
     ]
    },
    {
     "name": "stdout",
     "output_type": "stream",
     "text": [
      "Processing URL 409.\n",
      "Time elapsed: 332.47547698020935\n",
      "1 links found for dataset PXD053895\n"
     ]
    },
    {
     "name": "stderr",
     "output_type": "stream",
     "text": [
      "2951215865.py - line 34 - INFO - Fetching Raw content\n"
     ]
    },
    {
     "name": "stdout",
     "output_type": "stream",
     "text": [
      "id not found in raw data\n"
     ]
    },
    {
     "name": "stderr",
     "output_type": "stream",
     "text": [
      "orchestrator.py - line 30 - INFO - Previous driver quit.\n",
      "orchestrator.py - line 45 - INFO - Data fetcher setup completed.\n",
      "2951215865.py - line 26 - INFO - Processing URL: https://www.ncbi.nlm.nih.gov/pubmed/39368483\n",
      "data_fetcher.py - line 65 - INFO - Non-API URL detected, or API unsupported. Webscraper update\n"
     ]
    },
    {
     "name": "stdout",
     "output_type": "stream",
     "text": [
      "Processing URL 410.\n",
      "Time elapsed: 347.82084012031555\n",
      "1 links found for dataset PXD053631\n"
     ]
    },
    {
     "name": "stderr",
     "output_type": "stream",
     "text": [
      "2951215865.py - line 34 - INFO - Fetching Raw content\n"
     ]
    },
    {
     "name": "stdout",
     "output_type": "stream",
     "text": [
      "id not found in raw data\n"
     ]
    },
    {
     "name": "stderr",
     "output_type": "stream",
     "text": [
      "orchestrator.py - line 30 - INFO - Previous driver quit.\n",
      "orchestrator.py - line 45 - INFO - Data fetcher setup completed.\n",
      "2951215865.py - line 26 - INFO - Processing URL: https://www.ncbi.nlm.nih.gov/pubmed/39600157\n",
      "data_fetcher.py - line 65 - INFO - Non-API URL detected, or API unsupported. Webscraper update\n"
     ]
    },
    {
     "name": "stdout",
     "output_type": "stream",
     "text": [
      "Processing URL 411.\n",
      "Time elapsed: 362.70966815948486\n",
      "1 links found for dataset PXD053626\n"
     ]
    },
    {
     "name": "stderr",
     "output_type": "stream",
     "text": [
      "2951215865.py - line 34 - INFO - Fetching Raw content\n"
     ]
    },
    {
     "name": "stdout",
     "output_type": "stream",
     "text": [
      "id not found in raw data\n"
     ]
    },
    {
     "name": "stderr",
     "output_type": "stream",
     "text": [
      "orchestrator.py - line 30 - INFO - Previous driver quit.\n",
      "orchestrator.py - line 45 - INFO - Data fetcher setup completed.\n",
      "2951215865.py - line 26 - INFO - Processing URL: https://www.ncbi.nlm.nih.gov/pubmed/38627210\n",
      "data_fetcher.py - line 65 - INFO - Non-API URL detected, or API unsupported. Webscraper update\n"
     ]
    },
    {
     "name": "stdout",
     "output_type": "stream",
     "text": [
      "Processing URL 412.\n",
      "Time elapsed: 374.9282422065735\n",
      "2 links found for dataset PXD048538\n"
     ]
    },
    {
     "name": "stderr",
     "output_type": "stream",
     "text": [
      "2951215865.py - line 34 - INFO - Fetching Raw content\n",
      "2951215865.py - line 26 - INFO - Processing URL: https://dx.doi.org/10.1002/1878-0261.13654\n",
      "data_fetcher.py - line 30 - INFO - Publisher: doi\n",
      "data_fetcher.py - line 65 - INFO - Non-API URL detected, or API unsupported. Webscraper update\n"
     ]
    },
    {
     "name": "stdout",
     "output_type": "stream",
     "text": [
      "id not found in raw data\n"
     ]
    },
    {
     "name": "stderr",
     "output_type": "stream",
     "text": [
      "2951215865.py - line 34 - INFO - Fetching Raw content\n",
      "orchestrator.py - line 30 - INFO - Previous driver quit.\n",
      "orchestrator.py - line 45 - INFO - Data fetcher setup completed.\n",
      "2951215865.py - line 26 - INFO - Processing URL: https://dx.doi.org/10.1016/J.MCPRO.2024.100888\n",
      "data_fetcher.py - line 30 - INFO - Publisher: doi\n",
      "data_fetcher.py - line 65 - INFO - Non-API URL detected, or API unsupported. Webscraper update\n"
     ]
    },
    {
     "name": "stdout",
     "output_type": "stream",
     "text": [
      "Processing URL 413.\n",
      "Time elapsed: 400.792160987854\n",
      "1 links found for dataset PXD055123\n"
     ]
    },
    {
     "name": "stderr",
     "output_type": "stream",
     "text": [
      "2951215865.py - line 34 - INFO - Fetching Raw content\n"
     ]
    },
    {
     "name": "stdout",
     "output_type": "stream",
     "text": [
      "id not found in raw data\n"
     ]
    },
    {
     "name": "stderr",
     "output_type": "stream",
     "text": [
      "orchestrator.py - line 30 - INFO - Previous driver quit.\n",
      "orchestrator.py - line 45 - INFO - Data fetcher setup completed.\n",
      "2951215865.py - line 26 - INFO - Processing URL: https://dx.doi.org/10.6019/PXD048514\n",
      "data_fetcher.py - line 30 - INFO - Publisher: doi\n",
      "data_fetcher.py - line 65 - INFO - Non-API URL detected, or API unsupported. Webscraper update\n"
     ]
    },
    {
     "name": "stdout",
     "output_type": "stream",
     "text": [
      "Processing URL 414.\n",
      "Time elapsed: 412.6132411956787\n",
      "2 links found for dataset PXD048514\n"
     ]
    },
    {
     "name": "stderr",
     "output_type": "stream",
     "text": [
      "2951215865.py - line 34 - INFO - Fetching Raw content\n",
      "orchestrator.py - line 30 - INFO - Previous driver quit.\n",
      "orchestrator.py - line 45 - INFO - Data fetcher setup completed.\n",
      "2951215865.py - line 26 - INFO - Processing URL: https://dx.doi.org/10.1084/JEM.20240625\n",
      "data_fetcher.py - line 30 - INFO - Publisher: doi\n",
      "data_fetcher.py - line 65 - INFO - Non-API URL detected, or API unsupported. Webscraper update\n"
     ]
    },
    {
     "name": "stdout",
     "output_type": "stream",
     "text": [
      "Processing URL 415.\n",
      "Time elapsed: 425.1045560836792\n",
      "1 links found for dataset PXD046122\n"
     ]
    },
    {
     "name": "stderr",
     "output_type": "stream",
     "text": [
      "2951215865.py - line 34 - INFO - Fetching Raw content\n"
     ]
    },
    {
     "name": "stdout",
     "output_type": "stream",
     "text": [
      "id not found in raw data\n"
     ]
    },
    {
     "name": "stderr",
     "output_type": "stream",
     "text": [
      "orchestrator.py - line 30 - INFO - Previous driver quit.\n",
      "orchestrator.py - line 45 - INFO - Data fetcher setup completed.\n",
      "2951215865.py - line 26 - INFO - Processing URL: https://dx.doi.org/10.1084/JEM.20240625\n",
      "data_fetcher.py - line 30 - INFO - Publisher: doi\n",
      "data_fetcher.py - line 65 - INFO - Non-API URL detected, or API unsupported. Webscraper update\n"
     ]
    },
    {
     "name": "stdout",
     "output_type": "stream",
     "text": [
      "Processing URL 416.\n",
      "Time elapsed: 443.3894441127777\n",
      "1 links found for dataset PXD046124\n"
     ]
    },
    {
     "name": "stderr",
     "output_type": "stream",
     "text": [
      "2951215865.py - line 34 - INFO - Fetching Raw content\n"
     ]
    },
    {
     "name": "stdout",
     "output_type": "stream",
     "text": [
      "id not found in raw data\n"
     ]
    },
    {
     "name": "stderr",
     "output_type": "stream",
     "text": [
      "orchestrator.py - line 30 - INFO - Previous driver quit.\n",
      "orchestrator.py - line 45 - INFO - Data fetcher setup completed.\n",
      "2951215865.py - line 26 - INFO - Processing URL: https://dx.doi.org/10.1016/J.EBIOM.2024.105508\n",
      "data_fetcher.py - line 30 - INFO - Publisher: doi\n",
      "data_fetcher.py - line 65 - INFO - Non-API URL detected, or API unsupported. Webscraper update\n"
     ]
    },
    {
     "name": "stdout",
     "output_type": "stream",
     "text": [
      "Processing URL 417.\n",
      "Time elapsed: 460.476126909256\n",
      "1 links found for dataset PXD055932\n"
     ]
    },
    {
     "name": "stderr",
     "output_type": "stream",
     "text": [
      "2951215865.py - line 34 - INFO - Fetching Raw content\n",
      "orchestrator.py - line 30 - INFO - Previous driver quit.\n",
      "orchestrator.py - line 45 - INFO - Data fetcher setup completed.\n",
      "2951215865.py - line 26 - INFO - Processing URL: https://dx.doi.org/10.6019/PXD053798\n",
      "data_fetcher.py - line 30 - INFO - Publisher: doi\n",
      "data_fetcher.py - line 65 - INFO - Non-API URL detected, or API unsupported. Webscraper update\n"
     ]
    },
    {
     "name": "stdout",
     "output_type": "stream",
     "text": [
      "Processing URL 418.\n",
      "Time elapsed: 478.46993613243103\n",
      "2 links found for dataset PXD053798\n"
     ]
    },
    {
     "name": "stderr",
     "output_type": "stream",
     "text": [
      "2951215865.py - line 34 - INFO - Fetching Raw content\n",
      "orchestrator.py - line 30 - INFO - Previous driver quit.\n",
      "orchestrator.py - line 45 - INFO - Data fetcher setup completed.\n",
      "2951215865.py - line 26 - INFO - Processing URL: https://www.ncbi.nlm.nih.gov/pubmed/39491529\n",
      "data_fetcher.py - line 65 - INFO - Non-API URL detected, or API unsupported. Webscraper update\n"
     ]
    },
    {
     "name": "stdout",
     "output_type": "stream",
     "text": [
      "Processing URL 419.\n",
      "Time elapsed: 491.2611770629883\n",
      "2 links found for dataset PXD053678\n"
     ]
    },
    {
     "name": "stderr",
     "output_type": "stream",
     "text": [
      "2951215865.py - line 34 - INFO - Fetching Raw content\n",
      "2951215865.py - line 26 - INFO - Processing URL: https://dx.doi.org/10.1002/pmic.202400251\n",
      "data_fetcher.py - line 30 - INFO - Publisher: doi\n",
      "data_fetcher.py - line 65 - INFO - Non-API URL detected, or API unsupported. Webscraper update\n"
     ]
    },
    {
     "name": "stdout",
     "output_type": "stream",
     "text": [
      "id not found in raw data\n"
     ]
    },
    {
     "name": "stderr",
     "output_type": "stream",
     "text": [
      "2951215865.py - line 34 - INFO - Fetching Raw content\n",
      "orchestrator.py - line 30 - INFO - Previous driver quit.\n",
      "orchestrator.py - line 45 - INFO - Data fetcher setup completed.\n",
      "2951215865.py - line 26 - INFO - Processing URL: https://dx.doi.org/10.1016/J.ACA.2024.343550\n",
      "data_fetcher.py - line 30 - INFO - Publisher: doi\n",
      "data_fetcher.py - line 65 - INFO - Non-API URL detected, or API unsupported. Webscraper update\n"
     ]
    },
    {
     "name": "stdout",
     "output_type": "stream",
     "text": [
      "Processing URL 420.\n",
      "Time elapsed: 515.5170531272888\n",
      "2 links found for dataset PXD048982\n"
     ]
    },
    {
     "name": "stderr",
     "output_type": "stream",
     "text": [
      "2951215865.py - line 34 - INFO - Fetching Raw content\n",
      "orchestrator.py - line 30 - INFO - Previous driver quit.\n",
      "orchestrator.py - line 45 - INFO - Data fetcher setup completed.\n",
      "2951215865.py - line 26 - INFO - Processing URL: https://dx.doi.org/10.6019/PXD052289\n",
      "data_fetcher.py - line 30 - INFO - Publisher: doi\n",
      "data_fetcher.py - line 65 - INFO - Non-API URL detected, or API unsupported. Webscraper update\n"
     ]
    },
    {
     "name": "stdout",
     "output_type": "stream",
     "text": [
      "Processing URL 421.\n",
      "Time elapsed: 530.4811911582947\n",
      "2 links found for dataset PXD052289\n"
     ]
    },
    {
     "name": "stderr",
     "output_type": "stream",
     "text": [
      "2951215865.py - line 34 - INFO - Fetching Raw content\n",
      "orchestrator.py - line 30 - INFO - Previous driver quit.\n",
      "orchestrator.py - line 45 - INFO - Data fetcher setup completed.\n",
      "2951215865.py - line 26 - INFO - Processing URL: https://dx.doi.org/10.1038/S41564-024-01901-9\n",
      "data_fetcher.py - line 30 - INFO - Publisher: doi\n",
      "data_fetcher.py - line 65 - INFO - Non-API URL detected, or API unsupported. Webscraper update\n"
     ]
    },
    {
     "name": "stdout",
     "output_type": "stream",
     "text": [
      "Processing URL 422.\n",
      "Time elapsed: 543.7403881549835\n",
      "1 links found for dataset PXD057832\n"
     ]
    },
    {
     "name": "stderr",
     "output_type": "stream",
     "text": [
      "2951215865.py - line 34 - INFO - Fetching Raw content\n",
      "orchestrator.py - line 30 - INFO - Previous driver quit.\n",
      "orchestrator.py - line 45 - INFO - Data fetcher setup completed.\n",
      "2951215865.py - line 26 - INFO - Processing URL: https://dx.doi.org/10.1038/S41564-024-01901-9\n",
      "data_fetcher.py - line 30 - INFO - Publisher: doi\n",
      "data_fetcher.py - line 65 - INFO - Non-API URL detected, or API unsupported. Webscraper update\n"
     ]
    },
    {
     "name": "stdout",
     "output_type": "stream",
     "text": [
      "Processing URL 423.\n",
      "Time elapsed: 557.8687541484833\n",
      "1 links found for dataset PXD057885\n"
     ]
    },
    {
     "name": "stderr",
     "output_type": "stream",
     "text": [
      "2951215865.py - line 34 - INFO - Fetching Raw content\n",
      "orchestrator.py - line 30 - INFO - Previous driver quit.\n",
      "orchestrator.py - line 45 - INFO - Data fetcher setup completed.\n",
      "2951215865.py - line 26 - INFO - Processing URL: https://dx.doi.org/10.1021/JASMS.4C00366\n",
      "data_fetcher.py - line 30 - INFO - Publisher: doi\n",
      "data_fetcher.py - line 65 - INFO - Non-API URL detected, or API unsupported. Webscraper update\n"
     ]
    },
    {
     "name": "stdout",
     "output_type": "stream",
     "text": [
      "Processing URL 424.\n",
      "Time elapsed: 570.970547914505\n",
      "1 links found for dataset PXD053474\n"
     ]
    },
    {
     "name": "stderr",
     "output_type": "stream",
     "text": [
      "2951215865.py - line 34 - INFO - Fetching Raw content\n"
     ]
    },
    {
     "name": "stdout",
     "output_type": "stream",
     "text": [
      "id not found in raw data\n"
     ]
    },
    {
     "name": "stderr",
     "output_type": "stream",
     "text": [
      "orchestrator.py - line 30 - INFO - Previous driver quit.\n",
      "orchestrator.py - line 45 - INFO - Data fetcher setup completed.\n",
      "2951215865.py - line 26 - INFO - Processing URL: https://dx.doi.org/10.1021/ACS.JPROTEOME.4C00525\n",
      "data_fetcher.py - line 30 - INFO - Publisher: doi\n",
      "data_fetcher.py - line 65 - INFO - Non-API URL detected, or API unsupported. Webscraper update\n"
     ]
    },
    {
     "name": "stdout",
     "output_type": "stream",
     "text": [
      "Processing URL 425.\n",
      "Time elapsed: 585.3000240325928\n",
      "1 links found for dataset PXD052776\n"
     ]
    },
    {
     "name": "stderr",
     "output_type": "stream",
     "text": [
      "2951215865.py - line 34 - INFO - Fetching Raw content\n"
     ]
    },
    {
     "name": "stdout",
     "output_type": "stream",
     "text": [
      "id not found in raw data\n"
     ]
    },
    {
     "name": "stderr",
     "output_type": "stream",
     "text": [
      "orchestrator.py - line 30 - INFO - Previous driver quit.\n",
      "orchestrator.py - line 45 - INFO - Data fetcher setup completed.\n",
      "2951215865.py - line 26 - INFO - Processing URL: https://dx.doi.org/10.1016/J.MOLCEL.2024.11.026\n",
      "data_fetcher.py - line 30 - INFO - Publisher: doi\n",
      "data_fetcher.py - line 65 - INFO - Non-API URL detected, or API unsupported. Webscraper update\n"
     ]
    },
    {
     "name": "stdout",
     "output_type": "stream",
     "text": [
      "Processing URL 426.\n",
      "Time elapsed: 602.24649310112\n",
      "1 links found for dataset PXD057694\n"
     ]
    },
    {
     "name": "stderr",
     "output_type": "stream",
     "text": [
      "2951215865.py - line 34 - INFO - Fetching Raw content\n",
      "2951215865.py - line 43 - ERROR - Error processing URL https://dx.doi.org/10.1016/J.MOLCEL.2024.11.026: Message: TypeError: document.body is null\n",
      "Stacktrace:\n",
      "@https://www.cell.com/molecular-cell/abstract/S1097-2765(24)00951-1?_returnURL=https%3A%2F%2Flinkinghub.elsevier.com%2Fretrieve%2Fpii%2FS1097276524009511%3Fshowall%3Dtrue:2:26\n",
      "@https://www.cell.com/molecular-cell/abstract/S1097-2765(24)00951-1?_returnURL=https%3A%2F%2Flinkinghub.elsevier.com%2Fretrieve%2Fpii%2FS1097276524009511%3Fshowall%3Dtrue:3:8\n",
      "Traceback (most recent call last):\n",
      "  File \"/var/folders/br/873byd752sb72sf4n7yfykxw0000gn/T/ipykernel_28083/2951215865.py\", line 35, in <module>\n",
      "    raw_data = orchestrator.data_fetcher.fetch_data(url)\n",
      "               ^^^^^^^^^^^^^^^^^^^^^^^^^^^^^^^^^^^^^^^^^\n",
      "  File \"/Users/pietro/Desktop/VIDA-NYU/data-gatherer/data_fetcher.py\", line 94, in fetch_data\n",
      "    self.simulate_user_scroll()\n",
      "  File \"/Users/pietro/Desktop/VIDA-NYU/data-gatherer/data_fetcher.py\", line 116, in simulate_user_scroll\n",
      "    self.scraper_tool.execute_script(\"window.scrollTo(0, document.body.scrollHeight);\")\n",
      "  File \"/Users/pietro/opt/miniconda3/envs/Summer24/lib/python3.11/site-packages/selenium/webdriver/remote/webdriver.py\", line 414, in execute_script\n",
      "    return self.execute(command, {\"script\": script, \"args\": converted_args})[\"value\"]\n",
      "           ^^^^^^^^^^^^^^^^^^^^^^^^^^^^^^^^^^^^^^^^^^^^^^^^^^^^^^^^^^^^^^^^^\n",
      "  File \"/Users/pietro/opt/miniconda3/envs/Summer24/lib/python3.11/site-packages/selenium/webdriver/remote/webdriver.py\", line 354, in execute\n",
      "    self.error_handler.check_response(response)\n",
      "  File \"/Users/pietro/opt/miniconda3/envs/Summer24/lib/python3.11/site-packages/selenium/webdriver/remote/errorhandler.py\", line 229, in check_response\n",
      "    raise exception_class(message, screen, stacktrace)\n",
      "selenium.common.exceptions.JavascriptException: Message: TypeError: document.body is null\n",
      "Stacktrace:\n",
      "@https://www.cell.com/molecular-cell/abstract/S1097-2765(24)00951-1?_returnURL=https%3A%2F%2Flinkinghub.elsevier.com%2Fretrieve%2Fpii%2FS1097276524009511%3Fshowall%3Dtrue:2:26\n",
      "@https://www.cell.com/molecular-cell/abstract/S1097-2765(24)00951-1?_returnURL=https%3A%2F%2Flinkinghub.elsevier.com%2Fretrieve%2Fpii%2FS1097276524009511%3Fshowall%3Dtrue:3:8\n",
      "\n",
      "orchestrator.py - line 30 - INFO - Previous driver quit.\n",
      "orchestrator.py - line 45 - INFO - Data fetcher setup completed.\n",
      "2951215865.py - line 26 - INFO - Processing URL: https://dx.doi.org/10.6019/PXD047724\n",
      "data_fetcher.py - line 30 - INFO - Publisher: doi\n",
      "data_fetcher.py - line 65 - INFO - Non-API URL detected, or API unsupported. Webscraper update\n"
     ]
    },
    {
     "name": "stdout",
     "output_type": "stream",
     "text": [
      "Processing URL 427.\n",
      "Time elapsed: 614.2634670734406\n",
      "3 links found for dataset PXD047724\n"
     ]
    },
    {
     "name": "stderr",
     "output_type": "stream",
     "text": [
      "2951215865.py - line 34 - INFO - Fetching Raw content\n",
      "orchestrator.py - line 30 - INFO - Previous driver quit.\n",
      "orchestrator.py - line 45 - INFO - Data fetcher setup completed.\n",
      "2951215865.py - line 26 - INFO - Processing URL: https://dx.doi.org/10.1038/S41557-024-01711-W\n",
      "data_fetcher.py - line 30 - INFO - Publisher: doi\n",
      "data_fetcher.py - line 65 - INFO - Non-API URL detected, or API unsupported. Webscraper update\n"
     ]
    },
    {
     "name": "stdout",
     "output_type": "stream",
     "text": [
      "Processing URL 428.\n",
      "Time elapsed: 627.4505279064178\n",
      "1 links found for dataset PXD057262\n"
     ]
    },
    {
     "name": "stderr",
     "output_type": "stream",
     "text": [
      "2951215865.py - line 34 - INFO - Fetching Raw content\n",
      "orchestrator.py - line 30 - INFO - Previous driver quit.\n",
      "orchestrator.py - line 45 - INFO - Data fetcher setup completed.\n",
      "2951215865.py - line 26 - INFO - Processing URL: https://dx.doi.org/10.1042/BCJ20240204\n",
      "data_fetcher.py - line 30 - INFO - Publisher: doi\n",
      "data_fetcher.py - line 65 - INFO - Non-API URL detected, or API unsupported. Webscraper update\n"
     ]
    },
    {
     "name": "stdout",
     "output_type": "stream",
     "text": [
      "Processing URL 429.\n",
      "Time elapsed: 640.4676342010498\n",
      "1 links found for dataset PXD058694\n"
     ]
    },
    {
     "name": "stderr",
     "output_type": "stream",
     "text": [
      "2951215865.py - line 34 - INFO - Fetching Raw content\n",
      "orchestrator.py - line 30 - INFO - Previous driver quit.\n",
      "orchestrator.py - line 45 - INFO - Data fetcher setup completed.\n",
      "2951215865.py - line 26 - INFO - Processing URL: https://www.ncbi.nlm.nih.gov/pubmed/39019927\n",
      "data_fetcher.py - line 65 - INFO - Non-API URL detected, or API unsupported. Webscraper update\n"
     ]
    },
    {
     "name": "stdout",
     "output_type": "stream",
     "text": [
      "Processing URL 430.\n",
      "Time elapsed: 658.2527000904083\n",
      "1 links found for dataset PXD053342\n"
     ]
    },
    {
     "name": "stderr",
     "output_type": "stream",
     "text": [
      "2951215865.py - line 34 - INFO - Fetching Raw content\n"
     ]
    },
    {
     "name": "stdout",
     "output_type": "stream",
     "text": [
      "id not found in raw data\n"
     ]
    },
    {
     "name": "stderr",
     "output_type": "stream",
     "text": [
      "orchestrator.py - line 30 - INFO - Previous driver quit.\n",
      "orchestrator.py - line 45 - INFO - Data fetcher setup completed.\n",
      "2951215865.py - line 26 - INFO - Processing URL: https://www.ncbi.nlm.nih.gov/pubmed/39218923\n",
      "data_fetcher.py - line 65 - INFO - Non-API URL detected, or API unsupported. Webscraper update\n"
     ]
    },
    {
     "name": "stdout",
     "output_type": "stream",
     "text": [
      "Processing URL 431.\n",
      "Time elapsed: 671.4438090324402\n",
      "1 links found for dataset PXD053334\n"
     ]
    },
    {
     "name": "stderr",
     "output_type": "stream",
     "text": [
      "2951215865.py - line 34 - INFO - Fetching Raw content\n"
     ]
    },
    {
     "name": "stdout",
     "output_type": "stream",
     "text": [
      "id not found in raw data\n"
     ]
    },
    {
     "name": "stderr",
     "output_type": "stream",
     "text": [
      "orchestrator.py - line 30 - INFO - Previous driver quit.\n",
      "orchestrator.py - line 45 - INFO - Data fetcher setup completed.\n",
      "2951215865.py - line 26 - INFO - Processing URL: https://www.ncbi.nlm.nih.gov/pubmed/39491647\n",
      "data_fetcher.py - line 65 - INFO - Non-API URL detected, or API unsupported. Webscraper update\n"
     ]
    },
    {
     "name": "stdout",
     "output_type": "stream",
     "text": [
      "Processing URL 432.\n",
      "Time elapsed: 686.3920249938965\n",
      "1 links found for dataset PXD053321\n"
     ]
    },
    {
     "name": "stderr",
     "output_type": "stream",
     "text": [
      "2951215865.py - line 34 - INFO - Fetching Raw content\n"
     ]
    },
    {
     "name": "stdout",
     "output_type": "stream",
     "text": [
      "id not found in raw data\n"
     ]
    },
    {
     "name": "stderr",
     "output_type": "stream",
     "text": [
      "orchestrator.py - line 30 - INFO - Previous driver quit.\n",
      "orchestrator.py - line 45 - INFO - Data fetcher setup completed.\n",
      "2951215865.py - line 26 - INFO - Processing URL: https://www.ncbi.nlm.nih.gov/pubmed/35742945\n",
      "data_fetcher.py - line 65 - INFO - Non-API URL detected, or API unsupported. Webscraper update\n"
     ]
    },
    {
     "name": "stdout",
     "output_type": "stream",
     "text": [
      "Processing URL 433.\n",
      "Time elapsed: 699.1738150119781\n",
      "1 links found for dataset PXD053222\n"
     ]
    },
    {
     "name": "stderr",
     "output_type": "stream",
     "text": [
      "2951215865.py - line 34 - INFO - Fetching Raw content\n"
     ]
    },
    {
     "name": "stdout",
     "output_type": "stream",
     "text": [
      "id not found in raw data\n"
     ]
    },
    {
     "name": "stderr",
     "output_type": "stream",
     "text": [
      "orchestrator.py - line 30 - INFO - Previous driver quit.\n",
      "orchestrator.py - line 45 - INFO - Data fetcher setup completed.\n",
      "2951215865.py - line 26 - INFO - Processing URL: https://www.ncbi.nlm.nih.gov/pubmed/39146936\n",
      "data_fetcher.py - line 65 - INFO - Non-API URL detected, or API unsupported. Webscraper update\n"
     ]
    },
    {
     "name": "stdout",
     "output_type": "stream",
     "text": [
      "Processing URL 434.\n",
      "Time elapsed: 711.5821261405945\n",
      "1 links found for dataset PXD053163\n"
     ]
    },
    {
     "name": "stderr",
     "output_type": "stream",
     "text": [
      "2951215865.py - line 34 - INFO - Fetching Raw content\n"
     ]
    },
    {
     "name": "stdout",
     "output_type": "stream",
     "text": [
      "id not found in raw data\n"
     ]
    },
    {
     "name": "stderr",
     "output_type": "stream",
     "text": [
      "orchestrator.py - line 30 - INFO - Previous driver quit.\n",
      "orchestrator.py - line 45 - INFO - Data fetcher setup completed.\n",
      "2951215865.py - line 26 - INFO - Processing URL: https://www.ncbi.nlm.nih.gov/pubmed/39295558\n",
      "data_fetcher.py - line 65 - INFO - Non-API URL detected, or API unsupported. Webscraper update\n"
     ]
    },
    {
     "name": "stdout",
     "output_type": "stream",
     "text": [
      "Processing URL 435.\n",
      "Time elapsed: 724.224179983139\n",
      "1 links found for dataset PXD053058\n"
     ]
    },
    {
     "name": "stderr",
     "output_type": "stream",
     "text": [
      "2951215865.py - line 34 - INFO - Fetching Raw content\n"
     ]
    },
    {
     "name": "stdout",
     "output_type": "stream",
     "text": [
      "id not found in raw data\n"
     ]
    },
    {
     "name": "stderr",
     "output_type": "stream",
     "text": [
      "orchestrator.py - line 30 - INFO - Previous driver quit.\n",
      "orchestrator.py - line 45 - INFO - Data fetcher setup completed.\n",
      "2951215865.py - line 26 - INFO - Processing URL: https://www.ncbi.nlm.nih.gov/pubmed/39191251\n",
      "data_fetcher.py - line 65 - INFO - Non-API URL detected, or API unsupported. Webscraper update\n"
     ]
    },
    {
     "name": "stdout",
     "output_type": "stream",
     "text": [
      "Processing URL 436.\n",
      "Time elapsed: 736.677766084671\n",
      "1 links found for dataset PXD051352\n"
     ]
    },
    {
     "name": "stderr",
     "output_type": "stream",
     "text": [
      "2951215865.py - line 34 - INFO - Fetching Raw content\n"
     ]
    },
    {
     "name": "stdout",
     "output_type": "stream",
     "text": [
      "id not found in raw data\n"
     ]
    },
    {
     "name": "stderr",
     "output_type": "stream",
     "text": [
      "orchestrator.py - line 30 - INFO - Previous driver quit.\n",
      "orchestrator.py - line 45 - INFO - Data fetcher setup completed.\n",
      "2951215865.py - line 26 - INFO - Processing URL: https://dx.doi.org/10.1038/S41419-024-07267-4\n",
      "data_fetcher.py - line 30 - INFO - Publisher: doi\n",
      "data_fetcher.py - line 65 - INFO - Non-API URL detected, or API unsupported. Webscraper update\n"
     ]
    },
    {
     "name": "stdout",
     "output_type": "stream",
     "text": [
      "Processing URL 437.\n",
      "Time elapsed: 751.2641332149506\n",
      "1 links found for dataset PXD058491\n"
     ]
    },
    {
     "name": "stderr",
     "output_type": "stream",
     "text": [
      "2951215865.py - line 34 - INFO - Fetching Raw content\n",
      "orchestrator.py - line 30 - INFO - Previous driver quit.\n",
      "orchestrator.py - line 45 - INFO - Data fetcher setup completed.\n",
      "2951215865.py - line 26 - INFO - Processing URL: https://dx.doi.org/10.1093/FEMSML/UQAE026\n",
      "data_fetcher.py - line 30 - INFO - Publisher: doi\n",
      "data_fetcher.py - line 65 - INFO - Non-API URL detected, or API unsupported. Webscraper update\n"
     ]
    },
    {
     "name": "stdout",
     "output_type": "stream",
     "text": [
      "Processing URL 438.\n",
      "Time elapsed: 764.3570940494537\n",
      "1 links found for dataset PXD048449\n"
     ]
    },
    {
     "name": "stderr",
     "output_type": "stream",
     "text": [
      "2951215865.py - line 34 - INFO - Fetching Raw content\n",
      "orchestrator.py - line 30 - INFO - Previous driver quit.\n",
      "orchestrator.py - line 45 - INFO - Data fetcher setup completed.\n",
      "2951215865.py - line 26 - INFO - Processing URL: https://www.ncbi.nlm.nih.gov/pubmed/39543366\n",
      "data_fetcher.py - line 65 - INFO - Non-API URL detected, or API unsupported. Webscraper update\n"
     ]
    },
    {
     "name": "stdout",
     "output_type": "stream",
     "text": [
      "Processing URL 439.\n",
      "Time elapsed: 786.0519909858704\n",
      "1 links found for dataset PXD052844\n"
     ]
    },
    {
     "name": "stderr",
     "output_type": "stream",
     "text": [
      "2951215865.py - line 34 - INFO - Fetching Raw content\n"
     ]
    },
    {
     "name": "stdout",
     "output_type": "stream",
     "text": [
      "id not found in raw data\n"
     ]
    },
    {
     "name": "stderr",
     "output_type": "stream",
     "text": [
      "orchestrator.py - line 30 - INFO - Previous driver quit.\n",
      "orchestrator.py - line 45 - INFO - Data fetcher setup completed.\n",
      "2951215865.py - line 26 - INFO - Processing URL: https://dx.doi.org/10.1039/D4MO00147H\n",
      "data_fetcher.py - line 30 - INFO - Publisher: doi\n",
      "data_fetcher.py - line 65 - INFO - Non-API URL detected, or API unsupported. Webscraper update\n"
     ]
    },
    {
     "name": "stdout",
     "output_type": "stream",
     "text": [
      "Processing URL 440.\n",
      "Time elapsed: 801.0054461956024\n",
      "1 links found for dataset PXD055164\n"
     ]
    },
    {
     "name": "stderr",
     "output_type": "stream",
     "text": [
      "2951215865.py - line 34 - INFO - Fetching Raw content\n",
      "orchestrator.py - line 30 - INFO - Previous driver quit.\n",
      "orchestrator.py - line 45 - INFO - Data fetcher setup completed.\n",
      "2951215865.py - line 26 - INFO - Processing URL: https://www.ncbi.nlm.nih.gov/pubmed/38956074\n",
      "data_fetcher.py - line 65 - INFO - Non-API URL detected, or API unsupported. Webscraper update\n"
     ]
    },
    {
     "name": "stdout",
     "output_type": "stream",
     "text": [
      "Processing URL 441.\n",
      "Time elapsed: 820.1276791095734\n",
      "1 links found for dataset PXD052807\n"
     ]
    },
    {
     "name": "stderr",
     "output_type": "stream",
     "text": [
      "2951215865.py - line 34 - INFO - Fetching Raw content\n"
     ]
    },
    {
     "name": "stdout",
     "output_type": "stream",
     "text": [
      "id not found in raw data\n"
     ]
    },
    {
     "name": "stderr",
     "output_type": "stream",
     "text": [
      "orchestrator.py - line 30 - INFO - Previous driver quit.\n"
     ]
    },
    {
     "ename": "KeyboardInterrupt",
     "evalue": "",
     "output_type": "error",
     "traceback": [
      "\u001B[0;31m---------------------------------------------------------------------------\u001B[0m",
      "\u001B[0;31mKeyboardInterrupt\u001B[0m                         Traceback (most recent call last)",
      "Cell \u001B[0;32mIn[8], line 11\u001B[0m\n\u001B[1;32m      7\u001B[0m t0 \u001B[38;5;241m=\u001B[39m time\u001B[38;5;241m.\u001B[39mtime()\n\u001B[1;32m      9\u001B[0m \u001B[38;5;28;01mfor\u001B[39;00m i,row \u001B[38;5;129;01min\u001B[39;00m filtered_df[start:]\u001B[38;5;241m.\u001B[39miterrows():\n\u001B[0;32m---> 11\u001B[0m     driver \u001B[38;5;241m=\u001B[39m orchestrator\u001B[38;5;241m.\u001B[39msetup_data_fetcher()\n\u001B[1;32m     13\u001B[0m     \u001B[38;5;28mid\u001B[39m \u001B[38;5;241m=\u001B[39m row[\u001B[38;5;124m'\u001B[39m\u001B[38;5;124midentifier\u001B[39m\u001B[38;5;124m'\u001B[39m]\n\u001B[1;32m     15\u001B[0m     \u001B[38;5;28;01mif\u001B[39;00m i \u001B[38;5;241m==\u001B[39m iter_max:\n",
      "File \u001B[0;32m~/Desktop/VIDA-NYU/data-gatherer/orchestrator.py:35\u001B[0m, in \u001B[0;36mOrchestrator.setup_data_fetcher\u001B[0;34m(self)\u001B[0m\n\u001B[1;32m     32\u001B[0m         \u001B[38;5;28mself\u001B[39m\u001B[38;5;241m.\u001B[39mlogger\u001B[38;5;241m.\u001B[39mwarning(\u001B[38;5;124mf\u001B[39m\u001B[38;5;124m\"\u001B[39m\u001B[38;5;124mFailed to quit previous driver: \u001B[39m\u001B[38;5;132;01m{\u001B[39;00me\u001B[38;5;132;01m}\u001B[39;00m\u001B[38;5;124m\"\u001B[39m)\n\u001B[1;32m     34\u001B[0m \u001B[38;5;28;01mif\u001B[39;00m \u001B[38;5;28mself\u001B[39m\u001B[38;5;241m.\u001B[39mconfig[\u001B[38;5;124m'\u001B[39m\u001B[38;5;124msearch_method\u001B[39m\u001B[38;5;124m'\u001B[39m] \u001B[38;5;241m==\u001B[39m \u001B[38;5;124m'\u001B[39m\u001B[38;5;124murl_list\u001B[39m\u001B[38;5;124m'\u001B[39m:\n\u001B[0;32m---> 35\u001B[0m     driver \u001B[38;5;241m=\u001B[39m create_driver(\u001B[38;5;28mself\u001B[39m\u001B[38;5;241m.\u001B[39mconfig[\u001B[38;5;124m'\u001B[39m\u001B[38;5;124mDRIVER_PATH\u001B[39m\u001B[38;5;124m'\u001B[39m], \u001B[38;5;28mself\u001B[39m\u001B[38;5;241m.\u001B[39mconfig[\u001B[38;5;124m'\u001B[39m\u001B[38;5;124mBROWSER\u001B[39m\u001B[38;5;124m'\u001B[39m], \u001B[38;5;28mself\u001B[39m\u001B[38;5;241m.\u001B[39mconfig[\u001B[38;5;124m'\u001B[39m\u001B[38;5;124mHEADLESS\u001B[39m\u001B[38;5;124m'\u001B[39m])\n\u001B[1;32m     36\u001B[0m     \u001B[38;5;28mself\u001B[39m\u001B[38;5;241m.\u001B[39mdata_fetcher \u001B[38;5;241m=\u001B[39m WebScraper(driver, \u001B[38;5;28mself\u001B[39m\u001B[38;5;241m.\u001B[39mconfig, \u001B[38;5;28mself\u001B[39m\u001B[38;5;241m.\u001B[39mlogger)\n\u001B[1;32m     38\u001B[0m \u001B[38;5;28;01melif\u001B[39;00m \u001B[38;5;28mself\u001B[39m\u001B[38;5;241m.\u001B[39mconfig[\u001B[38;5;124m'\u001B[39m\u001B[38;5;124msearch_method\u001B[39m\u001B[38;5;124m'\u001B[39m] \u001B[38;5;241m==\u001B[39m \u001B[38;5;124m'\u001B[39m\u001B[38;5;124mgoogle_scholar\u001B[39m\u001B[38;5;124m'\u001B[39m:\n",
      "File \u001B[0;32m~/Desktop/VIDA-NYU/data-gatherer/selenium_setup.py:19\u001B[0m, in \u001B[0;36mcreate_driver\u001B[0;34m(driver_path, browser, headless)\u001B[0m\n\u001B[1;32m     17\u001B[0m         firefox_options\u001B[38;5;241m.\u001B[39madd_argument(\u001B[38;5;124m\"\u001B[39m\u001B[38;5;124m-headless\u001B[39m\u001B[38;5;124m\"\u001B[39m)\n\u001B[1;32m     18\u001B[0m     webdriver_service \u001B[38;5;241m=\u001B[39m FirefoxService(executable_path\u001B[38;5;241m=\u001B[39mdriver_path)\n\u001B[0;32m---> 19\u001B[0m     driver \u001B[38;5;241m=\u001B[39m webdriver\u001B[38;5;241m.\u001B[39mFirefox(service\u001B[38;5;241m=\u001B[39mwebdriver_service, options\u001B[38;5;241m=\u001B[39mfirefox_options)\n\u001B[1;32m     21\u001B[0m \u001B[38;5;28;01melif\u001B[39;00m browser \u001B[38;5;241m==\u001B[39m \u001B[38;5;124m'\u001B[39m\u001B[38;5;124mChrome\u001B[39m\u001B[38;5;124m'\u001B[39m:\n\u001B[1;32m     22\u001B[0m     chrome_options \u001B[38;5;241m=\u001B[39m ChromeOptions ()\n",
      "File \u001B[0;32m~/opt/miniconda3/envs/Summer24/lib/python3.11/site-packages/selenium/webdriver/firefox/webdriver.py:71\u001B[0m, in \u001B[0;36mWebDriver.__init__\u001B[0;34m(self, options, service, keep_alive)\u001B[0m\n\u001B[1;32m     64\u001B[0m executor \u001B[38;5;241m=\u001B[39m FirefoxRemoteConnection(\n\u001B[1;32m     65\u001B[0m     remote_server_addr\u001B[38;5;241m=\u001B[39m\u001B[38;5;28mself\u001B[39m\u001B[38;5;241m.\u001B[39mservice\u001B[38;5;241m.\u001B[39mservice_url,\n\u001B[1;32m     66\u001B[0m     keep_alive\u001B[38;5;241m=\u001B[39mkeep_alive,\n\u001B[1;32m     67\u001B[0m     ignore_proxy\u001B[38;5;241m=\u001B[39moptions\u001B[38;5;241m.\u001B[39m_ignore_local_proxy,\n\u001B[1;32m     68\u001B[0m )\n\u001B[1;32m     70\u001B[0m \u001B[38;5;28;01mtry\u001B[39;00m:\n\u001B[0;32m---> 71\u001B[0m     \u001B[38;5;28msuper\u001B[39m()\u001B[38;5;241m.\u001B[39m\u001B[38;5;21m__init__\u001B[39m(command_executor\u001B[38;5;241m=\u001B[39mexecutor, options\u001B[38;5;241m=\u001B[39moptions)\n\u001B[1;32m     72\u001B[0m \u001B[38;5;28;01mexcept\u001B[39;00m \u001B[38;5;167;01mException\u001B[39;00m:\n\u001B[1;32m     73\u001B[0m     \u001B[38;5;28mself\u001B[39m\u001B[38;5;241m.\u001B[39mquit()\n",
      "File \u001B[0;32m~/opt/miniconda3/envs/Summer24/lib/python3.11/site-packages/selenium/webdriver/remote/webdriver.py:212\u001B[0m, in \u001B[0;36mWebDriver.__init__\u001B[0;34m(self, command_executor, keep_alive, file_detector, options)\u001B[0m\n\u001B[1;32m    210\u001B[0m \u001B[38;5;28mself\u001B[39m\u001B[38;5;241m.\u001B[39m_authenticator_id \u001B[38;5;241m=\u001B[39m \u001B[38;5;28;01mNone\u001B[39;00m\n\u001B[1;32m    211\u001B[0m \u001B[38;5;28mself\u001B[39m\u001B[38;5;241m.\u001B[39mstart_client()\n\u001B[0;32m--> 212\u001B[0m \u001B[38;5;28mself\u001B[39m\u001B[38;5;241m.\u001B[39mstart_session(capabilities)\n\u001B[1;32m    214\u001B[0m \u001B[38;5;28mself\u001B[39m\u001B[38;5;241m.\u001B[39m_websocket_connection \u001B[38;5;241m=\u001B[39m \u001B[38;5;28;01mNone\u001B[39;00m\n\u001B[1;32m    215\u001B[0m \u001B[38;5;28mself\u001B[39m\u001B[38;5;241m.\u001B[39m_script \u001B[38;5;241m=\u001B[39m \u001B[38;5;28;01mNone\u001B[39;00m\n",
      "File \u001B[0;32m~/opt/miniconda3/envs/Summer24/lib/python3.11/site-packages/selenium/webdriver/remote/webdriver.py:299\u001B[0m, in \u001B[0;36mWebDriver.start_session\u001B[0;34m(self, capabilities)\u001B[0m\n\u001B[1;32m    292\u001B[0m \u001B[38;5;250m\u001B[39m\u001B[38;5;124;03m\"\"\"Creates a new session with the desired capabilities.\u001B[39;00m\n\u001B[1;32m    293\u001B[0m \n\u001B[1;32m    294\u001B[0m \u001B[38;5;124;03m:Args:\u001B[39;00m\n\u001B[1;32m    295\u001B[0m \u001B[38;5;124;03m - capabilities - a capabilities dict to start the session with.\u001B[39;00m\n\u001B[1;32m    296\u001B[0m \u001B[38;5;124;03m\"\"\"\u001B[39;00m\n\u001B[1;32m    298\u001B[0m caps \u001B[38;5;241m=\u001B[39m _create_caps(capabilities)\n\u001B[0;32m--> 299\u001B[0m response \u001B[38;5;241m=\u001B[39m \u001B[38;5;28mself\u001B[39m\u001B[38;5;241m.\u001B[39mexecute(Command\u001B[38;5;241m.\u001B[39mNEW_SESSION, caps)[\u001B[38;5;124m\"\u001B[39m\u001B[38;5;124mvalue\u001B[39m\u001B[38;5;124m\"\u001B[39m]\n\u001B[1;32m    300\u001B[0m \u001B[38;5;28mself\u001B[39m\u001B[38;5;241m.\u001B[39msession_id \u001B[38;5;241m=\u001B[39m response\u001B[38;5;241m.\u001B[39mget(\u001B[38;5;124m\"\u001B[39m\u001B[38;5;124msessionId\u001B[39m\u001B[38;5;124m\"\u001B[39m)\n\u001B[1;32m    301\u001B[0m \u001B[38;5;28mself\u001B[39m\u001B[38;5;241m.\u001B[39mcaps \u001B[38;5;241m=\u001B[39m response\u001B[38;5;241m.\u001B[39mget(\u001B[38;5;124m\"\u001B[39m\u001B[38;5;124mcapabilities\u001B[39m\u001B[38;5;124m\"\u001B[39m)\n",
      "File \u001B[0;32m~/opt/miniconda3/envs/Summer24/lib/python3.11/site-packages/selenium/webdriver/remote/webdriver.py:352\u001B[0m, in \u001B[0;36mWebDriver.execute\u001B[0;34m(self, driver_command, params)\u001B[0m\n\u001B[1;32m    349\u001B[0m     \u001B[38;5;28;01melif\u001B[39;00m \u001B[38;5;124m\"\u001B[39m\u001B[38;5;124msessionId\u001B[39m\u001B[38;5;124m\"\u001B[39m \u001B[38;5;129;01mnot\u001B[39;00m \u001B[38;5;129;01min\u001B[39;00m params:\n\u001B[1;32m    350\u001B[0m         params[\u001B[38;5;124m\"\u001B[39m\u001B[38;5;124msessionId\u001B[39m\u001B[38;5;124m\"\u001B[39m] \u001B[38;5;241m=\u001B[39m \u001B[38;5;28mself\u001B[39m\u001B[38;5;241m.\u001B[39msession_id\n\u001B[0;32m--> 352\u001B[0m response \u001B[38;5;241m=\u001B[39m \u001B[38;5;28mself\u001B[39m\u001B[38;5;241m.\u001B[39mcommand_executor\u001B[38;5;241m.\u001B[39mexecute(driver_command, params)\n\u001B[1;32m    353\u001B[0m \u001B[38;5;28;01mif\u001B[39;00m response:\n\u001B[1;32m    354\u001B[0m     \u001B[38;5;28mself\u001B[39m\u001B[38;5;241m.\u001B[39merror_handler\u001B[38;5;241m.\u001B[39mcheck_response(response)\n",
      "File \u001B[0;32m~/opt/miniconda3/envs/Summer24/lib/python3.11/site-packages/selenium/webdriver/remote/remote_connection.py:302\u001B[0m, in \u001B[0;36mRemoteConnection.execute\u001B[0;34m(self, command, params)\u001B[0m\n\u001B[1;32m    300\u001B[0m trimmed \u001B[38;5;241m=\u001B[39m \u001B[38;5;28mself\u001B[39m\u001B[38;5;241m.\u001B[39m_trim_large_entries(params)\n\u001B[1;32m    301\u001B[0m LOGGER\u001B[38;5;241m.\u001B[39mdebug(\u001B[38;5;124m\"\u001B[39m\u001B[38;5;132;01m%s\u001B[39;00m\u001B[38;5;124m \u001B[39m\u001B[38;5;132;01m%s\u001B[39;00m\u001B[38;5;124m \u001B[39m\u001B[38;5;132;01m%s\u001B[39;00m\u001B[38;5;124m\"\u001B[39m, command_info[\u001B[38;5;241m0\u001B[39m], url, \u001B[38;5;28mstr\u001B[39m(trimmed))\n\u001B[0;32m--> 302\u001B[0m \u001B[38;5;28;01mreturn\u001B[39;00m \u001B[38;5;28mself\u001B[39m\u001B[38;5;241m.\u001B[39m_request(command_info[\u001B[38;5;241m0\u001B[39m], url, body\u001B[38;5;241m=\u001B[39mdata)\n",
      "File \u001B[0;32m~/opt/miniconda3/envs/Summer24/lib/python3.11/site-packages/selenium/webdriver/remote/remote_connection.py:322\u001B[0m, in \u001B[0;36mRemoteConnection._request\u001B[0;34m(self, method, url, body)\u001B[0m\n\u001B[1;32m    319\u001B[0m     body \u001B[38;5;241m=\u001B[39m \u001B[38;5;28;01mNone\u001B[39;00m\n\u001B[1;32m    321\u001B[0m \u001B[38;5;28;01mif\u001B[39;00m \u001B[38;5;28mself\u001B[39m\u001B[38;5;241m.\u001B[39mkeep_alive:\n\u001B[0;32m--> 322\u001B[0m     response \u001B[38;5;241m=\u001B[39m \u001B[38;5;28mself\u001B[39m\u001B[38;5;241m.\u001B[39m_conn\u001B[38;5;241m.\u001B[39mrequest(method, url, body\u001B[38;5;241m=\u001B[39mbody, headers\u001B[38;5;241m=\u001B[39mheaders)\n\u001B[1;32m    323\u001B[0m     statuscode \u001B[38;5;241m=\u001B[39m response\u001B[38;5;241m.\u001B[39mstatus\n\u001B[1;32m    324\u001B[0m \u001B[38;5;28;01melse\u001B[39;00m:\n",
      "File \u001B[0;32m~/opt/miniconda3/envs/Summer24/lib/python3.11/site-packages/urllib3/_request_methods.py:144\u001B[0m, in \u001B[0;36mRequestMethods.request\u001B[0;34m(self, method, url, body, fields, headers, json, **urlopen_kw)\u001B[0m\n\u001B[1;32m    136\u001B[0m     \u001B[38;5;28;01mreturn\u001B[39;00m \u001B[38;5;28mself\u001B[39m\u001B[38;5;241m.\u001B[39mrequest_encode_url(\n\u001B[1;32m    137\u001B[0m         method,\n\u001B[1;32m    138\u001B[0m         url,\n\u001B[0;32m   (...)\u001B[0m\n\u001B[1;32m    141\u001B[0m         \u001B[38;5;241m*\u001B[39m\u001B[38;5;241m*\u001B[39murlopen_kw,\n\u001B[1;32m    142\u001B[0m     )\n\u001B[1;32m    143\u001B[0m \u001B[38;5;28;01melse\u001B[39;00m:\n\u001B[0;32m--> 144\u001B[0m     \u001B[38;5;28;01mreturn\u001B[39;00m \u001B[38;5;28mself\u001B[39m\u001B[38;5;241m.\u001B[39mrequest_encode_body(\n\u001B[1;32m    145\u001B[0m         method, url, fields\u001B[38;5;241m=\u001B[39mfields, headers\u001B[38;5;241m=\u001B[39mheaders, \u001B[38;5;241m*\u001B[39m\u001B[38;5;241m*\u001B[39murlopen_kw\n\u001B[1;32m    146\u001B[0m     )\n",
      "File \u001B[0;32m~/opt/miniconda3/envs/Summer24/lib/python3.11/site-packages/urllib3/_request_methods.py:279\u001B[0m, in \u001B[0;36mRequestMethods.request_encode_body\u001B[0;34m(self, method, url, fields, headers, encode_multipart, multipart_boundary, **urlopen_kw)\u001B[0m\n\u001B[1;32m    275\u001B[0m     extra_kw[\u001B[38;5;124m\"\u001B[39m\u001B[38;5;124mheaders\u001B[39m\u001B[38;5;124m\"\u001B[39m]\u001B[38;5;241m.\u001B[39msetdefault(\u001B[38;5;124m\"\u001B[39m\u001B[38;5;124mContent-Type\u001B[39m\u001B[38;5;124m\"\u001B[39m, content_type)\n\u001B[1;32m    277\u001B[0m extra_kw\u001B[38;5;241m.\u001B[39mupdate(urlopen_kw)\n\u001B[0;32m--> 279\u001B[0m \u001B[38;5;28;01mreturn\u001B[39;00m \u001B[38;5;28mself\u001B[39m\u001B[38;5;241m.\u001B[39murlopen(method, url, \u001B[38;5;241m*\u001B[39m\u001B[38;5;241m*\u001B[39mextra_kw)\n",
      "File \u001B[0;32m~/opt/miniconda3/envs/Summer24/lib/python3.11/site-packages/urllib3/poolmanager.py:443\u001B[0m, in \u001B[0;36mPoolManager.urlopen\u001B[0;34m(self, method, url, redirect, **kw)\u001B[0m\n\u001B[1;32m    441\u001B[0m     response \u001B[38;5;241m=\u001B[39m conn\u001B[38;5;241m.\u001B[39murlopen(method, url, \u001B[38;5;241m*\u001B[39m\u001B[38;5;241m*\u001B[39mkw)\n\u001B[1;32m    442\u001B[0m \u001B[38;5;28;01melse\u001B[39;00m:\n\u001B[0;32m--> 443\u001B[0m     response \u001B[38;5;241m=\u001B[39m conn\u001B[38;5;241m.\u001B[39murlopen(method, u\u001B[38;5;241m.\u001B[39mrequest_uri, \u001B[38;5;241m*\u001B[39m\u001B[38;5;241m*\u001B[39mkw)\n\u001B[1;32m    445\u001B[0m redirect_location \u001B[38;5;241m=\u001B[39m redirect \u001B[38;5;129;01mand\u001B[39;00m response\u001B[38;5;241m.\u001B[39mget_redirect_location()\n\u001B[1;32m    446\u001B[0m \u001B[38;5;28;01mif\u001B[39;00m \u001B[38;5;129;01mnot\u001B[39;00m redirect_location:\n",
      "File \u001B[0;32m~/opt/miniconda3/envs/Summer24/lib/python3.11/site-packages/urllib3/connectionpool.py:789\u001B[0m, in \u001B[0;36mHTTPConnectionPool.urlopen\u001B[0;34m(self, method, url, body, headers, retries, redirect, assert_same_host, timeout, pool_timeout, release_conn, chunked, body_pos, preload_content, decode_content, **response_kw)\u001B[0m\n\u001B[1;32m    786\u001B[0m response_conn \u001B[38;5;241m=\u001B[39m conn \u001B[38;5;28;01mif\u001B[39;00m \u001B[38;5;129;01mnot\u001B[39;00m release_conn \u001B[38;5;28;01melse\u001B[39;00m \u001B[38;5;28;01mNone\u001B[39;00m\n\u001B[1;32m    788\u001B[0m \u001B[38;5;66;03m# Make the request on the HTTPConnection object\u001B[39;00m\n\u001B[0;32m--> 789\u001B[0m response \u001B[38;5;241m=\u001B[39m \u001B[38;5;28mself\u001B[39m\u001B[38;5;241m.\u001B[39m_make_request(\n\u001B[1;32m    790\u001B[0m     conn,\n\u001B[1;32m    791\u001B[0m     method,\n\u001B[1;32m    792\u001B[0m     url,\n\u001B[1;32m    793\u001B[0m     timeout\u001B[38;5;241m=\u001B[39mtimeout_obj,\n\u001B[1;32m    794\u001B[0m     body\u001B[38;5;241m=\u001B[39mbody,\n\u001B[1;32m    795\u001B[0m     headers\u001B[38;5;241m=\u001B[39mheaders,\n\u001B[1;32m    796\u001B[0m     chunked\u001B[38;5;241m=\u001B[39mchunked,\n\u001B[1;32m    797\u001B[0m     retries\u001B[38;5;241m=\u001B[39mretries,\n\u001B[1;32m    798\u001B[0m     response_conn\u001B[38;5;241m=\u001B[39mresponse_conn,\n\u001B[1;32m    799\u001B[0m     preload_content\u001B[38;5;241m=\u001B[39mpreload_content,\n\u001B[1;32m    800\u001B[0m     decode_content\u001B[38;5;241m=\u001B[39mdecode_content,\n\u001B[1;32m    801\u001B[0m     \u001B[38;5;241m*\u001B[39m\u001B[38;5;241m*\u001B[39mresponse_kw,\n\u001B[1;32m    802\u001B[0m )\n\u001B[1;32m    804\u001B[0m \u001B[38;5;66;03m# Everything went great!\u001B[39;00m\n\u001B[1;32m    805\u001B[0m clean_exit \u001B[38;5;241m=\u001B[39m \u001B[38;5;28;01mTrue\u001B[39;00m\n",
      "File \u001B[0;32m~/opt/miniconda3/envs/Summer24/lib/python3.11/site-packages/urllib3/connectionpool.py:536\u001B[0m, in \u001B[0;36mHTTPConnectionPool._make_request\u001B[0;34m(self, conn, method, url, body, headers, retries, timeout, chunked, response_conn, preload_content, decode_content, enforce_content_length)\u001B[0m\n\u001B[1;32m    534\u001B[0m \u001B[38;5;66;03m# Receive the response from the server\u001B[39;00m\n\u001B[1;32m    535\u001B[0m \u001B[38;5;28;01mtry\u001B[39;00m:\n\u001B[0;32m--> 536\u001B[0m     response \u001B[38;5;241m=\u001B[39m conn\u001B[38;5;241m.\u001B[39mgetresponse()\n\u001B[1;32m    537\u001B[0m \u001B[38;5;28;01mexcept\u001B[39;00m (BaseSSLError, \u001B[38;5;167;01mOSError\u001B[39;00m) \u001B[38;5;28;01mas\u001B[39;00m e:\n\u001B[1;32m    538\u001B[0m     \u001B[38;5;28mself\u001B[39m\u001B[38;5;241m.\u001B[39m_raise_timeout(err\u001B[38;5;241m=\u001B[39me, url\u001B[38;5;241m=\u001B[39murl, timeout_value\u001B[38;5;241m=\u001B[39mread_timeout)\n",
      "File \u001B[0;32m~/opt/miniconda3/envs/Summer24/lib/python3.11/site-packages/urllib3/connection.py:464\u001B[0m, in \u001B[0;36mHTTPConnection.getresponse\u001B[0;34m(self)\u001B[0m\n\u001B[1;32m    461\u001B[0m \u001B[38;5;28;01mfrom\u001B[39;00m \u001B[38;5;21;01m.\u001B[39;00m\u001B[38;5;21;01mresponse\u001B[39;00m \u001B[38;5;28;01mimport\u001B[39;00m HTTPResponse\n\u001B[1;32m    463\u001B[0m \u001B[38;5;66;03m# Get the response from http.client.HTTPConnection\u001B[39;00m\n\u001B[0;32m--> 464\u001B[0m httplib_response \u001B[38;5;241m=\u001B[39m \u001B[38;5;28msuper\u001B[39m()\u001B[38;5;241m.\u001B[39mgetresponse()\n\u001B[1;32m    466\u001B[0m \u001B[38;5;28;01mtry\u001B[39;00m:\n\u001B[1;32m    467\u001B[0m     assert_header_parsing(httplib_response\u001B[38;5;241m.\u001B[39mmsg)\n",
      "File \u001B[0;32m~/opt/miniconda3/envs/Summer24/lib/python3.11/http/client.py:1395\u001B[0m, in \u001B[0;36mHTTPConnection.getresponse\u001B[0;34m(self)\u001B[0m\n\u001B[1;32m   1393\u001B[0m \u001B[38;5;28;01mtry\u001B[39;00m:\n\u001B[1;32m   1394\u001B[0m     \u001B[38;5;28;01mtry\u001B[39;00m:\n\u001B[0;32m-> 1395\u001B[0m         response\u001B[38;5;241m.\u001B[39mbegin()\n\u001B[1;32m   1396\u001B[0m     \u001B[38;5;28;01mexcept\u001B[39;00m \u001B[38;5;167;01mConnectionError\u001B[39;00m:\n\u001B[1;32m   1397\u001B[0m         \u001B[38;5;28mself\u001B[39m\u001B[38;5;241m.\u001B[39mclose()\n",
      "File \u001B[0;32m~/opt/miniconda3/envs/Summer24/lib/python3.11/http/client.py:325\u001B[0m, in \u001B[0;36mHTTPResponse.begin\u001B[0;34m(self)\u001B[0m\n\u001B[1;32m    323\u001B[0m \u001B[38;5;66;03m# read until we get a non-100 response\u001B[39;00m\n\u001B[1;32m    324\u001B[0m \u001B[38;5;28;01mwhile\u001B[39;00m \u001B[38;5;28;01mTrue\u001B[39;00m:\n\u001B[0;32m--> 325\u001B[0m     version, status, reason \u001B[38;5;241m=\u001B[39m \u001B[38;5;28mself\u001B[39m\u001B[38;5;241m.\u001B[39m_read_status()\n\u001B[1;32m    326\u001B[0m     \u001B[38;5;28;01mif\u001B[39;00m status \u001B[38;5;241m!=\u001B[39m CONTINUE:\n\u001B[1;32m    327\u001B[0m         \u001B[38;5;28;01mbreak\u001B[39;00m\n",
      "File \u001B[0;32m~/opt/miniconda3/envs/Summer24/lib/python3.11/http/client.py:286\u001B[0m, in \u001B[0;36mHTTPResponse._read_status\u001B[0;34m(self)\u001B[0m\n\u001B[1;32m    285\u001B[0m \u001B[38;5;28;01mdef\u001B[39;00m \u001B[38;5;21m_read_status\u001B[39m(\u001B[38;5;28mself\u001B[39m):\n\u001B[0;32m--> 286\u001B[0m     line \u001B[38;5;241m=\u001B[39m \u001B[38;5;28mstr\u001B[39m(\u001B[38;5;28mself\u001B[39m\u001B[38;5;241m.\u001B[39mfp\u001B[38;5;241m.\u001B[39mreadline(_MAXLINE \u001B[38;5;241m+\u001B[39m \u001B[38;5;241m1\u001B[39m), \u001B[38;5;124m\"\u001B[39m\u001B[38;5;124miso-8859-1\u001B[39m\u001B[38;5;124m\"\u001B[39m)\n\u001B[1;32m    287\u001B[0m     \u001B[38;5;28;01mif\u001B[39;00m \u001B[38;5;28mlen\u001B[39m(line) \u001B[38;5;241m>\u001B[39m _MAXLINE:\n\u001B[1;32m    288\u001B[0m         \u001B[38;5;28;01mraise\u001B[39;00m LineTooLong(\u001B[38;5;124m\"\u001B[39m\u001B[38;5;124mstatus line\u001B[39m\u001B[38;5;124m\"\u001B[39m)\n",
      "File \u001B[0;32m~/opt/miniconda3/envs/Summer24/lib/python3.11/socket.py:706\u001B[0m, in \u001B[0;36mSocketIO.readinto\u001B[0;34m(self, b)\u001B[0m\n\u001B[1;32m    704\u001B[0m \u001B[38;5;28;01mwhile\u001B[39;00m \u001B[38;5;28;01mTrue\u001B[39;00m:\n\u001B[1;32m    705\u001B[0m     \u001B[38;5;28;01mtry\u001B[39;00m:\n\u001B[0;32m--> 706\u001B[0m         \u001B[38;5;28;01mreturn\u001B[39;00m \u001B[38;5;28mself\u001B[39m\u001B[38;5;241m.\u001B[39m_sock\u001B[38;5;241m.\u001B[39mrecv_into(b)\n\u001B[1;32m    707\u001B[0m     \u001B[38;5;28;01mexcept\u001B[39;00m timeout:\n\u001B[1;32m    708\u001B[0m         \u001B[38;5;28mself\u001B[39m\u001B[38;5;241m.\u001B[39m_timeout_occurred \u001B[38;5;241m=\u001B[39m \u001B[38;5;28;01mTrue\u001B[39;00m\n",
      "\u001B[0;31mKeyboardInterrupt\u001B[0m: "
     ]
    }
   ],
   "execution_count": 8
  },
  {
   "metadata": {
    "ExecuteTime": {
     "end_time": "2025-02-16T04:05:39.820746Z",
     "start_time": "2025-02-16T04:05:39.701759Z"
    }
   },
   "cell_type": "code",
   "source": [
    "df = pd.DataFrame(data)\n",
    "df.set_index(\"publication\",inplace=True)\n",
    "df"
   ],
   "id": "bec4b1957c80d246",
   "outputs": [
    {
     "data": {
      "text/plain": [
       "                                                   dataset_uid repo_name  \\\n",
       "publication                                                                \n",
       "https://dx.doi.org/10.6019/PXD056511                 PXD056511     PRIDE   \n",
       "https://dx.doi.org/10.6019/PXD054686                 PXD054686     PRIDE   \n",
       "https://dx.doi.org/10.26508/LSA.202403007            PXD058295     PRIDE   \n",
       "https://dx.doi.org/10.3389/FMED.2024.1302637         PXD045874     PRIDE   \n",
       "https://dx.doi.org/10.6019/PXD054390                 PXD054390     PRIDE   \n",
       "https://dx.doi.org/10.6019/PXD054428                 PXD054428     PRIDE   \n",
       "https://dx.doi.org/10.1016/j.bioactmat.2024.08.037   PXD050584     PRIDE   \n",
       "https://dx.doi.org/10.1002/1878-0261.13654           PXD048538     PRIDE   \n",
       "https://dx.doi.org/10.6019/PXD048514                 PXD048514     PRIDE   \n",
       "https://dx.doi.org/10.1016/J.EBIOM.2024.105508       PXD055932     PRIDE   \n",
       "https://dx.doi.org/10.6019/PXD053798                 PXD053798     PRIDE   \n",
       "https://dx.doi.org/10.1002/pmic.202400251            PXD053678     PRIDE   \n",
       "https://dx.doi.org/10.1016/J.ACA.2024.343550         PXD048982     PRIDE   \n",
       "https://dx.doi.org/10.6019/PXD052289                 PXD052289     PRIDE   \n",
       "https://dx.doi.org/10.1038/S41564-024-01901-9        PXD057832     PRIDE   \n",
       "https://dx.doi.org/10.1038/S41564-024-01901-9        PXD057885     PRIDE   \n",
       "https://dx.doi.org/10.6019/PXD047724                 PXD047724     PRIDE   \n",
       "https://dx.doi.org/10.1038/S41557-024-01711-W        PXD057262     PRIDE   \n",
       "https://dx.doi.org/10.1042/BCJ20240204               PXD058694     PRIDE   \n",
       "https://dx.doi.org/10.1038/S41419-024-07267-4        PXD058491     PRIDE   \n",
       "https://dx.doi.org/10.1093/FEMSML/UQAE026            PXD048449     PRIDE   \n",
       "https://dx.doi.org/10.1039/D4MO00147H                PXD055164     PRIDE   \n",
       "\n",
       "                                                                                             raw_html  \n",
       "publication                                                                                            \n",
       "https://dx.doi.org/10.6019/PXD056511                <html xmlns=\"http://www.w3.org/1999/xhtml\" lan...  \n",
       "https://dx.doi.org/10.6019/PXD054686                <html xmlns=\"http://www.w3.org/1999/xhtml\" lan...  \n",
       "https://dx.doi.org/10.26508/LSA.202403007           <html lang=\"en\" dir=\"ltr\" xmlns=\"http://www.w3...  \n",
       "https://dx.doi.org/10.3389/FMED.2024.1302637        <html lang=\"en\" data-n-head=\"%7B%22lang%22:%7B...  \n",
       "https://dx.doi.org/10.6019/PXD054390                <html xmlns=\"http://www.w3.org/1999/xhtml\" lan...  \n",
       "https://dx.doi.org/10.6019/PXD054428                <html xmlns=\"http://www.w3.org/1999/xhtml\" lan...  \n",
       "https://dx.doi.org/10.1016/j.bioactmat.2024.08.037  <html lang=\"en-US\" class=\"toolbar-stuck\"><head...  \n",
       "https://dx.doi.org/10.1002/1878-0261.13654          <html lang=\"en\" class=\"pb-page\" data-request-i...  \n",
       "https://dx.doi.org/10.6019/PXD048514                <html xmlns=\"http://www.w3.org/1999/xhtml\" lan...  \n",
       "https://dx.doi.org/10.1016/J.EBIOM.2024.105508      <html lang=\"en\" class=\"pb-page wf-sourcesanspr...  \n",
       "https://dx.doi.org/10.6019/PXD053798                <html xmlns=\"http://www.w3.org/1999/xhtml\" lan...  \n",
       "https://dx.doi.org/10.1002/pmic.202400251           <html lang=\"en\" class=\"pb-page\" data-request-i...  \n",
       "https://dx.doi.org/10.1016/J.ACA.2024.343550        <html lang=\"en-US\" class=\"Preview toolbar-stuc...  \n",
       "https://dx.doi.org/10.6019/PXD052289                <html xmlns=\"http://www.w3.org/1999/xhtml\" lan...  \n",
       "https://dx.doi.org/10.1038/S41564-024-01901-9       <html lang=\"en\" class=\"js\"><head><link rel=\"pr...  \n",
       "https://dx.doi.org/10.1038/S41564-024-01901-9       <html lang=\"en\" class=\"js\"><head><link rel=\"pr...  \n",
       "https://dx.doi.org/10.6019/PXD047724                <html xmlns=\"http://www.w3.org/1999/xhtml\" lan...  \n",
       "https://dx.doi.org/10.1038/S41557-024-01711-W       <html lang=\"en\" class=\"js\"><head><link rel=\"pr...  \n",
       "https://dx.doi.org/10.1042/BCJ20240204              <html lang=\"en\" class=\"firefox\"><head>\\n    <!...  \n",
       "https://dx.doi.org/10.1038/S41419-024-07267-4       <html lang=\"en\" class=\"js\"><head>\\n    <title>...  \n",
       "https://dx.doi.org/10.1093/FEMSML/UQAE026           <html lang=\"en\" class=\"no-js firefox\"><head><m...  \n",
       "https://dx.doi.org/10.1039/D4MO00147H               <html lang=\"en\"><!--<![endif]--><head id=\"Head...  "
      ],
      "text/html": [
       "<div>\n",
       "<style scoped>\n",
       "    .dataframe tbody tr th:only-of-type {\n",
       "        vertical-align: middle;\n",
       "    }\n",
       "\n",
       "    .dataframe tbody tr th {\n",
       "        vertical-align: top;\n",
       "    }\n",
       "\n",
       "    .dataframe thead th {\n",
       "        text-align: right;\n",
       "    }\n",
       "</style>\n",
       "<table border=\"1\" class=\"dataframe\">\n",
       "  <thead>\n",
       "    <tr style=\"text-align: right;\">\n",
       "      <th></th>\n",
       "      <th>dataset_uid</th>\n",
       "      <th>repo_name</th>\n",
       "      <th>raw_html</th>\n",
       "    </tr>\n",
       "    <tr>\n",
       "      <th>publication</th>\n",
       "      <th></th>\n",
       "      <th></th>\n",
       "      <th></th>\n",
       "    </tr>\n",
       "  </thead>\n",
       "  <tbody>\n",
       "    <tr>\n",
       "      <th>https://dx.doi.org/10.6019/PXD056511</th>\n",
       "      <td>PXD056511</td>\n",
       "      <td>PRIDE</td>\n",
       "      <td>&lt;html xmlns=\"http://www.w3.org/1999/xhtml\" lan...</td>\n",
       "    </tr>\n",
       "    <tr>\n",
       "      <th>https://dx.doi.org/10.6019/PXD054686</th>\n",
       "      <td>PXD054686</td>\n",
       "      <td>PRIDE</td>\n",
       "      <td>&lt;html xmlns=\"http://www.w3.org/1999/xhtml\" lan...</td>\n",
       "    </tr>\n",
       "    <tr>\n",
       "      <th>https://dx.doi.org/10.26508/LSA.202403007</th>\n",
       "      <td>PXD058295</td>\n",
       "      <td>PRIDE</td>\n",
       "      <td>&lt;html lang=\"en\" dir=\"ltr\" xmlns=\"http://www.w3...</td>\n",
       "    </tr>\n",
       "    <tr>\n",
       "      <th>https://dx.doi.org/10.3389/FMED.2024.1302637</th>\n",
       "      <td>PXD045874</td>\n",
       "      <td>PRIDE</td>\n",
       "      <td>&lt;html lang=\"en\" data-n-head=\"%7B%22lang%22:%7B...</td>\n",
       "    </tr>\n",
       "    <tr>\n",
       "      <th>https://dx.doi.org/10.6019/PXD054390</th>\n",
       "      <td>PXD054390</td>\n",
       "      <td>PRIDE</td>\n",
       "      <td>&lt;html xmlns=\"http://www.w3.org/1999/xhtml\" lan...</td>\n",
       "    </tr>\n",
       "    <tr>\n",
       "      <th>https://dx.doi.org/10.6019/PXD054428</th>\n",
       "      <td>PXD054428</td>\n",
       "      <td>PRIDE</td>\n",
       "      <td>&lt;html xmlns=\"http://www.w3.org/1999/xhtml\" lan...</td>\n",
       "    </tr>\n",
       "    <tr>\n",
       "      <th>https://dx.doi.org/10.1016/j.bioactmat.2024.08.037</th>\n",
       "      <td>PXD050584</td>\n",
       "      <td>PRIDE</td>\n",
       "      <td>&lt;html lang=\"en-US\" class=\"toolbar-stuck\"&gt;&lt;head...</td>\n",
       "    </tr>\n",
       "    <tr>\n",
       "      <th>https://dx.doi.org/10.1002/1878-0261.13654</th>\n",
       "      <td>PXD048538</td>\n",
       "      <td>PRIDE</td>\n",
       "      <td>&lt;html lang=\"en\" class=\"pb-page\" data-request-i...</td>\n",
       "    </tr>\n",
       "    <tr>\n",
       "      <th>https://dx.doi.org/10.6019/PXD048514</th>\n",
       "      <td>PXD048514</td>\n",
       "      <td>PRIDE</td>\n",
       "      <td>&lt;html xmlns=\"http://www.w3.org/1999/xhtml\" lan...</td>\n",
       "    </tr>\n",
       "    <tr>\n",
       "      <th>https://dx.doi.org/10.1016/J.EBIOM.2024.105508</th>\n",
       "      <td>PXD055932</td>\n",
       "      <td>PRIDE</td>\n",
       "      <td>&lt;html lang=\"en\" class=\"pb-page wf-sourcesanspr...</td>\n",
       "    </tr>\n",
       "    <tr>\n",
       "      <th>https://dx.doi.org/10.6019/PXD053798</th>\n",
       "      <td>PXD053798</td>\n",
       "      <td>PRIDE</td>\n",
       "      <td>&lt;html xmlns=\"http://www.w3.org/1999/xhtml\" lan...</td>\n",
       "    </tr>\n",
       "    <tr>\n",
       "      <th>https://dx.doi.org/10.1002/pmic.202400251</th>\n",
       "      <td>PXD053678</td>\n",
       "      <td>PRIDE</td>\n",
       "      <td>&lt;html lang=\"en\" class=\"pb-page\" data-request-i...</td>\n",
       "    </tr>\n",
       "    <tr>\n",
       "      <th>https://dx.doi.org/10.1016/J.ACA.2024.343550</th>\n",
       "      <td>PXD048982</td>\n",
       "      <td>PRIDE</td>\n",
       "      <td>&lt;html lang=\"en-US\" class=\"Preview toolbar-stuc...</td>\n",
       "    </tr>\n",
       "    <tr>\n",
       "      <th>https://dx.doi.org/10.6019/PXD052289</th>\n",
       "      <td>PXD052289</td>\n",
       "      <td>PRIDE</td>\n",
       "      <td>&lt;html xmlns=\"http://www.w3.org/1999/xhtml\" lan...</td>\n",
       "    </tr>\n",
       "    <tr>\n",
       "      <th>https://dx.doi.org/10.1038/S41564-024-01901-9</th>\n",
       "      <td>PXD057832</td>\n",
       "      <td>PRIDE</td>\n",
       "      <td>&lt;html lang=\"en\" class=\"js\"&gt;&lt;head&gt;&lt;link rel=\"pr...</td>\n",
       "    </tr>\n",
       "    <tr>\n",
       "      <th>https://dx.doi.org/10.1038/S41564-024-01901-9</th>\n",
       "      <td>PXD057885</td>\n",
       "      <td>PRIDE</td>\n",
       "      <td>&lt;html lang=\"en\" class=\"js\"&gt;&lt;head&gt;&lt;link rel=\"pr...</td>\n",
       "    </tr>\n",
       "    <tr>\n",
       "      <th>https://dx.doi.org/10.6019/PXD047724</th>\n",
       "      <td>PXD047724</td>\n",
       "      <td>PRIDE</td>\n",
       "      <td>&lt;html xmlns=\"http://www.w3.org/1999/xhtml\" lan...</td>\n",
       "    </tr>\n",
       "    <tr>\n",
       "      <th>https://dx.doi.org/10.1038/S41557-024-01711-W</th>\n",
       "      <td>PXD057262</td>\n",
       "      <td>PRIDE</td>\n",
       "      <td>&lt;html lang=\"en\" class=\"js\"&gt;&lt;head&gt;&lt;link rel=\"pr...</td>\n",
       "    </tr>\n",
       "    <tr>\n",
       "      <th>https://dx.doi.org/10.1042/BCJ20240204</th>\n",
       "      <td>PXD058694</td>\n",
       "      <td>PRIDE</td>\n",
       "      <td>&lt;html lang=\"en\" class=\"firefox\"&gt;&lt;head&gt;\\n    &lt;!...</td>\n",
       "    </tr>\n",
       "    <tr>\n",
       "      <th>https://dx.doi.org/10.1038/S41419-024-07267-4</th>\n",
       "      <td>PXD058491</td>\n",
       "      <td>PRIDE</td>\n",
       "      <td>&lt;html lang=\"en\" class=\"js\"&gt;&lt;head&gt;\\n    &lt;title&gt;...</td>\n",
       "    </tr>\n",
       "    <tr>\n",
       "      <th>https://dx.doi.org/10.1093/FEMSML/UQAE026</th>\n",
       "      <td>PXD048449</td>\n",
       "      <td>PRIDE</td>\n",
       "      <td>&lt;html lang=\"en\" class=\"no-js firefox\"&gt;&lt;head&gt;&lt;m...</td>\n",
       "    </tr>\n",
       "    <tr>\n",
       "      <th>https://dx.doi.org/10.1039/D4MO00147H</th>\n",
       "      <td>PXD055164</td>\n",
       "      <td>PRIDE</td>\n",
       "      <td>&lt;html lang=\"en\"&gt;&lt;!--&lt;![endif]--&gt;&lt;head id=\"Head...</td>\n",
       "    </tr>\n",
       "  </tbody>\n",
       "</table>\n",
       "</div>"
      ]
     },
     "execution_count": 9,
     "metadata": {},
     "output_type": "execute_result"
    }
   ],
   "execution_count": 9
  },
  {
   "metadata": {
    "ExecuteTime": {
     "end_time": "2025-02-16T04:06:42.499667Z",
     "start_time": "2025-02-16T04:06:37.505473Z"
    }
   },
   "cell_type": "code",
   "source": [
    "df_old = pd.read_csv(\"exp_input/raw_data.csv\", index_col=\"publication\")\n",
    "print(df_old.shape)\n",
    "# append rows to the existing CSV\n",
    "df_new = pd.concat([df_old,df])\n",
    "df_new.to_csv(\"exp_input/PRIDEid_HTML_data.csv\")"
   ],
   "id": "66b46bebd3829d70",
   "outputs": [
    {
     "name": "stdout",
     "output_type": "stream",
     "text": [
      "(220, 3)\n"
     ]
    }
   ],
   "execution_count": 10
  },
  {
   "metadata": {
    "ExecuteTime": {
     "end_time": "2025-02-16T04:10:58.877219Z",
     "start_time": "2025-02-16T04:10:58.871302Z"
    }
   },
   "cell_type": "code",
   "source": "df_new.shape",
   "id": "c0b24ab169f53dfe",
   "outputs": [
    {
     "data": {
      "text/plain": [
       "(242, 3)"
      ]
     },
     "execution_count": 12,
     "metadata": {},
     "output_type": "execute_result"
    }
   ],
   "execution_count": 12
  },
  {
   "metadata": {
    "ExecuteTime": {
     "end_time": "2025-02-16T04:16:03.859669Z",
     "start_time": "2025-02-16T04:16:03.855153Z"
    }
   },
   "cell_type": "code",
   "source": [
    "print(len(df_new.index))\n",
    "print(len(df_new.index.unique()))"
   ],
   "id": "2c456519e5c167fd",
   "outputs": [
    {
     "name": "stdout",
     "output_type": "stream",
     "text": [
      "242\n",
      "221\n"
     ]
    }
   ],
   "execution_count": 17
  },
  {
   "metadata": {
    "ExecuteTime": {
     "end_time": "2025-02-16T04:16:23.661843Z",
     "start_time": "2025-02-16T04:16:23.640409Z"
    }
   },
   "cell_type": "code",
   "source": [
    "df_merged = (\n",
    "    df_new.reset_index()\n",
    "    .groupby('publication')\n",
    "    .agg({\n",
    "        'dataset_uid': lambda x: ','.join(sorted(set(x))),  # Concatenate unique dataset_uids\n",
    "        'repo_name': lambda x: ','.join(sorted(set(x))),   # Concatenate unique repo_names\n",
    "        'raw_html': 'first'  # Keep the first raw_html\n",
    "    })\n",
    ")"
   ],
   "id": "27afb2c289dcbf5",
   "outputs": [],
   "execution_count": 19
  },
  {
   "metadata": {},
   "cell_type": "code",
   "source": "df_merged.to_csv(\"exp_input/raw_data.csv\")",
   "id": "d76d0ff6397fb4b4",
   "outputs": [],
   "execution_count": null
  },
  {
   "metadata": {
    "ExecuteTime": {
     "end_time": "2025-02-16T04:19:37.334191Z",
     "start_time": "2025-02-16T04:19:37.286608Z"
    }
   },
   "cell_type": "code",
   "source": "df_merged",
   "id": "105c7cdafc44a05b",
   "outputs": [
    {
     "data": {
      "text/plain": [
       "                                                              dataset_uid  \\\n",
       "publication                                                                 \n",
       "https://dx.doi.org/10.1002/1878-0261.13654                      PXD048538   \n",
       "https://dx.doi.org/10.1002/ADHM.202404465                       PXD052728   \n",
       "https://dx.doi.org/10.1002/CBIC.202400831                       PXD055649   \n",
       "https://dx.doi.org/10.1002/PRCA.202300107                       PXD028078   \n",
       "https://dx.doi.org/10.1002/anie.202420149   PXD056865,PXD057925,PXD058045   \n",
       "...                                                                   ...   \n",
       "https://dx.doi.org/10.6019/PXD059932                            PXD059932   \n",
       "https://dx.doi.org/10.7554/ELIFE.86194.2                        PXD054648   \n",
       "https://dx.doi.org/10.7554/ELIFE.86931.2                        PXD037489   \n",
       "https://dx.doi.org/10.7554/ELIFE.98523.2                        PXD045157   \n",
       "https://dx.doi.org/10.7554/elife.78385                          PXD032017   \n",
       "\n",
       "                                           repo_name  \\\n",
       "publication                                            \n",
       "https://dx.doi.org/10.1002/1878-0261.13654     PRIDE   \n",
       "https://dx.doi.org/10.1002/ADHM.202404465      PRIDE   \n",
       "https://dx.doi.org/10.1002/CBIC.202400831      PRIDE   \n",
       "https://dx.doi.org/10.1002/PRCA.202300107      PRIDE   \n",
       "https://dx.doi.org/10.1002/anie.202420149      PRIDE   \n",
       "...                                              ...   \n",
       "https://dx.doi.org/10.6019/PXD059932           PRIDE   \n",
       "https://dx.doi.org/10.7554/ELIFE.86194.2       PRIDE   \n",
       "https://dx.doi.org/10.7554/ELIFE.86931.2       PRIDE   \n",
       "https://dx.doi.org/10.7554/ELIFE.98523.2       PRIDE   \n",
       "https://dx.doi.org/10.7554/elife.78385         PRIDE   \n",
       "\n",
       "                                                                                     raw_html  \n",
       "publication                                                                                    \n",
       "https://dx.doi.org/10.1002/1878-0261.13654  <html lang=\"en\" class=\"pb-page\" data-request-i...  \n",
       "https://dx.doi.org/10.1002/ADHM.202404465   <html lang=\"en\" class=\"pb-page\" data-request-i...  \n",
       "https://dx.doi.org/10.1002/CBIC.202400831   <html lang=\"en\" class=\"pb-page\" data-request-i...  \n",
       "https://dx.doi.org/10.1002/PRCA.202300107   <html lang=\"en\" class=\"pb-page\" data-request-i...  \n",
       "https://dx.doi.org/10.1002/anie.202420149   <html lang=\"en\" class=\"pb-page\" data-request-i...  \n",
       "...                                                                                       ...  \n",
       "https://dx.doi.org/10.6019/PXD059932        <html xmlns=\"http://www.w3.org/1999/xhtml\" lan...  \n",
       "https://dx.doi.org/10.7554/ELIFE.86194.2    <html lang=\"en-US\"><head><meta charset=\"utf-8\"...  \n",
       "https://dx.doi.org/10.7554/ELIFE.86931.2    <html lang=\"en-US\"><head><meta charset=\"utf-8\"...  \n",
       "https://dx.doi.org/10.7554/ELIFE.98523.2    <html lang=\"en-US\"><head><meta charset=\"utf-8\"...  \n",
       "https://dx.doi.org/10.7554/elife.78385      <html lang=\"en\" prefix=\"og: http://ogp.me/ns#\"...  \n",
       "\n",
       "[221 rows x 3 columns]"
      ],
      "text/html": [
       "<div>\n",
       "<style scoped>\n",
       "    .dataframe tbody tr th:only-of-type {\n",
       "        vertical-align: middle;\n",
       "    }\n",
       "\n",
       "    .dataframe tbody tr th {\n",
       "        vertical-align: top;\n",
       "    }\n",
       "\n",
       "    .dataframe thead th {\n",
       "        text-align: right;\n",
       "    }\n",
       "</style>\n",
       "<table border=\"1\" class=\"dataframe\">\n",
       "  <thead>\n",
       "    <tr style=\"text-align: right;\">\n",
       "      <th></th>\n",
       "      <th>dataset_uid</th>\n",
       "      <th>repo_name</th>\n",
       "      <th>raw_html</th>\n",
       "    </tr>\n",
       "    <tr>\n",
       "      <th>publication</th>\n",
       "      <th></th>\n",
       "      <th></th>\n",
       "      <th></th>\n",
       "    </tr>\n",
       "  </thead>\n",
       "  <tbody>\n",
       "    <tr>\n",
       "      <th>https://dx.doi.org/10.1002/1878-0261.13654</th>\n",
       "      <td>PXD048538</td>\n",
       "      <td>PRIDE</td>\n",
       "      <td>&lt;html lang=\"en\" class=\"pb-page\" data-request-i...</td>\n",
       "    </tr>\n",
       "    <tr>\n",
       "      <th>https://dx.doi.org/10.1002/ADHM.202404465</th>\n",
       "      <td>PXD052728</td>\n",
       "      <td>PRIDE</td>\n",
       "      <td>&lt;html lang=\"en\" class=\"pb-page\" data-request-i...</td>\n",
       "    </tr>\n",
       "    <tr>\n",
       "      <th>https://dx.doi.org/10.1002/CBIC.202400831</th>\n",
       "      <td>PXD055649</td>\n",
       "      <td>PRIDE</td>\n",
       "      <td>&lt;html lang=\"en\" class=\"pb-page\" data-request-i...</td>\n",
       "    </tr>\n",
       "    <tr>\n",
       "      <th>https://dx.doi.org/10.1002/PRCA.202300107</th>\n",
       "      <td>PXD028078</td>\n",
       "      <td>PRIDE</td>\n",
       "      <td>&lt;html lang=\"en\" class=\"pb-page\" data-request-i...</td>\n",
       "    </tr>\n",
       "    <tr>\n",
       "      <th>https://dx.doi.org/10.1002/anie.202420149</th>\n",
       "      <td>PXD056865,PXD057925,PXD058045</td>\n",
       "      <td>PRIDE</td>\n",
       "      <td>&lt;html lang=\"en\" class=\"pb-page\" data-request-i...</td>\n",
       "    </tr>\n",
       "    <tr>\n",
       "      <th>...</th>\n",
       "      <td>...</td>\n",
       "      <td>...</td>\n",
       "      <td>...</td>\n",
       "    </tr>\n",
       "    <tr>\n",
       "      <th>https://dx.doi.org/10.6019/PXD059932</th>\n",
       "      <td>PXD059932</td>\n",
       "      <td>PRIDE</td>\n",
       "      <td>&lt;html xmlns=\"http://www.w3.org/1999/xhtml\" lan...</td>\n",
       "    </tr>\n",
       "    <tr>\n",
       "      <th>https://dx.doi.org/10.7554/ELIFE.86194.2</th>\n",
       "      <td>PXD054648</td>\n",
       "      <td>PRIDE</td>\n",
       "      <td>&lt;html lang=\"en-US\"&gt;&lt;head&gt;&lt;meta charset=\"utf-8\"...</td>\n",
       "    </tr>\n",
       "    <tr>\n",
       "      <th>https://dx.doi.org/10.7554/ELIFE.86931.2</th>\n",
       "      <td>PXD037489</td>\n",
       "      <td>PRIDE</td>\n",
       "      <td>&lt;html lang=\"en-US\"&gt;&lt;head&gt;&lt;meta charset=\"utf-8\"...</td>\n",
       "    </tr>\n",
       "    <tr>\n",
       "      <th>https://dx.doi.org/10.7554/ELIFE.98523.2</th>\n",
       "      <td>PXD045157</td>\n",
       "      <td>PRIDE</td>\n",
       "      <td>&lt;html lang=\"en-US\"&gt;&lt;head&gt;&lt;meta charset=\"utf-8\"...</td>\n",
       "    </tr>\n",
       "    <tr>\n",
       "      <th>https://dx.doi.org/10.7554/elife.78385</th>\n",
       "      <td>PXD032017</td>\n",
       "      <td>PRIDE</td>\n",
       "      <td>&lt;html lang=\"en\" prefix=\"og: http://ogp.me/ns#\"...</td>\n",
       "    </tr>\n",
       "  </tbody>\n",
       "</table>\n",
       "<p>221 rows × 3 columns</p>\n",
       "</div>"
      ]
     },
     "execution_count": 24,
     "metadata": {},
     "output_type": "execute_result"
    }
   ],
   "execution_count": 24
  }
 ],
 "metadata": {
  "kernelspec": {
   "display_name": "Python 3",
   "language": "python",
   "name": "python3"
  },
  "language_info": {
   "codemirror_mode": {
    "name": "ipython",
    "version": 2
   },
   "file_extension": ".py",
   "mimetype": "text/x-python",
   "name": "python",
   "nbconvert_exporter": "python",
   "pygments_lexer": "ipython2",
   "version": "2.7.6"
  }
 },
 "nbformat": 4,
 "nbformat_minor": 5
}
