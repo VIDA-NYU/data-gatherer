{
 "cells": [
  {
   "cell_type": "code",
   "id": "initial_id",
   "metadata": {
    "collapsed": true,
    "ExecuteTime": {
     "end_time": "2025-02-25T18:02:35.190060Z",
     "start_time": "2025-02-25T18:02:28.892895Z"
    }
   },
   "source": [
    "# import from the files in this directory\n",
    "from dotenv import load_dotenv\n",
    "from classifier import *\n",
    "from data_fetcher import *\n",
    "from parser import *\n",
    "from orchestrator import *\n",
    "from logger_setup import *\n",
    "import os\n",
    "import json\n",
    "import pandas as pd\n",
    "import numpy as np\n",
    "import re\n",
    "import time"
   ],
   "outputs": [],
   "execution_count": 1
  },
  {
   "metadata": {
    "ExecuteTime": {
     "end_time": "2025-02-25T18:02:41.485349Z",
     "start_time": "2025-02-25T18:02:35.191852Z"
    }
   },
   "cell_type": "code",
   "source": [
    "config_path = 'config_experiment.json'  # Config with input file details\n",
    "load_dotenv()\n",
    "orchestrator = Orchestrator(config_path)"
   ],
   "id": "d38134199deb3f48",
   "outputs": [
    {
     "name": "stderr",
     "output_type": "stream",
     "text": [
      "orchestrator.py - line 20 - INFO - Data_Gatherer Orchestrator initialized. Extraction step Model: gemini-2.0-flash-exp\n"
     ]
    }
   ],
   "execution_count": 2
  },
  {
   "metadata": {
    "ExecuteTime": {
     "end_time": "2025-02-25T18:02:42.382688Z",
     "start_time": "2025-02-25T18:02:41.491276Z"
    }
   },
   "cell_type": "code",
   "source": [
    "urls = None\n",
    "df = pd.read_csv('exp_input/proteomexchange_search.tsv', sep='\\t')\n",
    "publication_datasets = df[['publication','identifier','repository']]"
   ],
   "id": "b77c99b6f6d3319",
   "outputs": [],
   "execution_count": 3
  },
  {
   "metadata": {
    "ExecuteTime": {
     "end_time": "2025-02-25T18:02:42.422129Z",
     "start_time": "2025-02-25T18:02:42.386569Z"
    }
   },
   "cell_type": "code",
   "source": [
    "# get an idea of values in df publication\n",
    "publication_datasets['publication'].value_counts()"
   ],
   "id": "5b6d73f5cec35e38",
   "outputs": [
    {
     "data": {
      "text/plain": [
       "publication\n",
       "Dataset with its publication pending                                                                                                                                                                      11719\n",
       "no publication                                                                                                                                                                                             2550\n",
       "<a href=\"http://www.ncbi.nlm.nih.gov/pubmed/35084980\" target=\"_blank\">Melani et al. (2022)</a>                                                                                                               56\n",
       "<a href=\"http://www.ncbi.nlm.nih.gov/pubmed/28267743\" target=\"_blank\">Matsumoto et al. (2017)</a>                                                                                                            28\n",
       "<a href=\"http://www.ncbi.nlm.nih.gov/pubmed/28071820\" target=\"_blank\">Kreutz et al. (2017)</a>                                                                                                               18\n",
       "                                                                                                                                                                                                          ...  \n",
       "<a href=\"https://dx.doi.org/10.3389/FPLS.2023.1285847\" target=\"_blank\">10.3389/FPLS.2023.1285847</a>                                                                                                          1\n",
       "<a href=\"https://dx.doi.org/10.1083/JCB.201902050\" target=\"_blank\">10.1083/JCB.201902050</a>                                                                                                                  1\n",
       "<a href=\"https://dx.doi.org/10.1038/S41598-023-47767-5\" target=\"_blank\">10.1038/S41598-023-47767-5</a>                                                                                                        1\n",
       "<a href=\"https://dx.doi.org/10.15252/embr.202357741\" target=\"_blank\">10.15252/embr.202357741</a>; <a href=\"https://www.ncbi.nlm.nih.gov/pubmed/38009565\" target=\"_blank\">Due Tankmar et al. (2023)</a>        1\n",
       "<a href=\"http://www.ncbi.nlm.nih.gov/pubmed/22874012\">Vaudel et al. (2012)</a>                                                                                                                                1\n",
       "Name: count, Length: 23462, dtype: int64"
      ]
     },
     "execution_count": 4,
     "metadata": {},
     "output_type": "execute_result"
    }
   ],
   "execution_count": 4
  },
  {
   "metadata": {
    "ExecuteTime": {
     "end_time": "2025-02-25T18:02:42.440953Z",
     "start_time": "2025-02-25T18:02:42.425943Z"
    }
   },
   "cell_type": "code",
   "source": [
    "#  clean the `publication` column by filtering out unwanted values like `\"Dataset with its publication pending\"`, `\"no publication\"`, and any HTML tags. \n",
    "# Remove rows with unwanted values\n",
    "filtered_df = publication_datasets[~publication_datasets['publication'].isin([\"Dataset with its publication pending\", \"no publication\"])]"
   ],
   "id": "5ef8385ef9b8416d",
   "outputs": [],
   "execution_count": 5
  },
  {
   "metadata": {
    "ExecuteTime": {
     "end_time": "2025-02-25T18:02:44.062992Z",
     "start_time": "2025-02-25T18:02:42.444380Z"
    }
   },
   "cell_type": "code",
   "source": [
    "# Assuming filtered_df is already defined\n",
    "filtered_df['publication_link'] = None  # Create a new column for the links\n",
    "\n",
    "for i, row in filtered_df.iterrows():\n",
    "    pub = str(row['publication'])  # Ensure string type\n",
    "    if \"href\" in pub:\n",
    "        match = re.findall(r'href=[\\'\"]([^\\'\"]+)[\\'\"]', pub)\n",
    "        if match:\n",
    "            filtered_df.at[i, 'publication_link'] = match  # Assign all the matched URLs\n",
    "        else:\n",
    "            filtered_df.at[i, 'publication_link'] = None\n",
    "    else:\n",
    "        filtered_df.at[i, 'publication_link'] = None\n",
    "\n",
    "# Drop rows with missing links (optional)\n",
    "filtered_df.dropna(subset=['publication_link'], inplace=True)\n",
    "filtered_df.reset_index(drop=True, inplace=True)"
   ],
   "id": "ac053d4c4e0d95e6",
   "outputs": [
    {
     "name": "stderr",
     "output_type": "stream",
     "text": [
      "/var/folders/br/873byd752sb72sf4n7yfykxw0000gn/T/ipykernel_30907/2099824646.py:2: SettingWithCopyWarning: \n",
      "A value is trying to be set on a copy of a slice from a DataFrame.\n",
      "Try using .loc[row_indexer,col_indexer] = value instead\n",
      "\n",
      "See the caveats in the documentation: https://pandas.pydata.org/pandas-docs/stable/user_guide/indexing.html#returning-a-view-versus-a-copy\n",
      "  filtered_df['publication_link'] = None  # Create a new column for the links\n",
      "/var/folders/br/873byd752sb72sf4n7yfykxw0000gn/T/ipykernel_30907/2099824646.py:16: SettingWithCopyWarning: \n",
      "A value is trying to be set on a copy of a slice from a DataFrame\n",
      "\n",
      "See the caveats in the documentation: https://pandas.pydata.org/pandas-docs/stable/user_guide/indexing.html#returning-a-view-versus-a-copy\n",
      "  filtered_df.dropna(subset=['publication_link'], inplace=True)\n"
     ]
    }
   ],
   "execution_count": 6
  },
  {
   "metadata": {
    "ExecuteTime": {
     "end_time": "2025-02-25T18:02:45.057586Z",
     "start_time": "2025-02-25T18:02:44.064314Z"
    }
   },
   "cell_type": "code",
   "source": [
    "m = 0\n",
    "for i,row in filtered_df.iterrows():\n",
    "    id = row['identifier']\n",
    "    m+=len(row['publication_link'])\n",
    "print(m/i+1)\n",
    "print(filtered_df)"
   ],
   "id": "bf9d75490f3125de",
   "outputs": [
    {
     "name": "stdout",
     "output_type": "stream",
     "text": [
      "2.5313095933060907\n",
      "                                             publication identifier  \\\n",
      "0      <a href=\"https://dx.doi.org/10.1038/S41467-025...  PXD059466   \n",
      "1      <a href=\"https://dx.doi.org/10.6019/PXD051312\"...  PXD051312   \n",
      "2      <a href=\"https://dx.doi.org/10.17159/SAJS.2025...  PXD054431   \n",
      "3      <a href=\"https://dx.doi.org/10.1101/2024.04.03...  PXD050443   \n",
      "4      <a href=\"https://dx.doi.org/10.1101/2025.02.05...  PXD051704   \n",
      "...                                                  ...        ...   \n",
      "25691  <a href=\"http://www.ncbi.nlm.nih.gov/pubmed/23...  PXD000056   \n",
      "25692  <a href=\"http://www.ncbi.nlm.nih.gov/pubmed/22...  PXD000009   \n",
      "25693  <a href=\"http://www.ncbi.nlm.nih.gov/pubmed/22...  PXD000012   \n",
      "25694  <a href=\"http://www.ncbi.nlm.nih.gov/pubmed/22...  PXD000013   \n",
      "25695  <a href=\"http://www.ncbi.nlm.nih.gov/pubmed/22...  PXD000003   \n",
      "\n",
      "         repository                                   publication_link  \n",
      "0             PRIDE    [https://dx.doi.org/10.1038/S41467-025-56720-1]  \n",
      "1             PRIDE  [https://dx.doi.org/10.6019/PXD051312, https:/...  \n",
      "2             PRIDE      [https://dx.doi.org/10.17159/SAJS.2025/18571]  \n",
      "3             PRIDE     [https://dx.doi.org/10.1101/2024.04.03.587901]  \n",
      "4             PRIDE     [https://dx.doi.org/10.1101/2025.02.05.636703]  \n",
      "...             ...                                                ...  \n",
      "25691         PRIDE      [http://www.ncbi.nlm.nih.gov/pubmed/23212214]  \n",
      "25692         PRIDE      [http://www.ncbi.nlm.nih.gov/pubmed/22994238]  \n",
      "25693         PRIDE      [http://www.ncbi.nlm.nih.gov/pubmed/22905912]  \n",
      "25694         PRIDE      [http://www.ncbi.nlm.nih.gov/pubmed/22874012]  \n",
      "25695  PeptideAtlas      [http://www.ncbi.nlm.nih.gov/pubmed/22786679]  \n",
      "\n",
      "[25696 rows x 4 columns]\n"
     ]
    }
   ],
   "execution_count": 7
  },
  {
   "metadata": {
    "ExecuteTime": {
     "end_time": "2025-02-25T18:02:47.022992Z",
     "start_time": "2025-02-25T18:02:45.059343Z"
    }
   },
   "cell_type": "code",
   "source": [
    "# PRIDEid_HTML_data.csv is the file containing the old data\n",
    "df_old = pd.read_csv(\"exp_input/raw_data_v1.csv\", index_col=\"publication\")\n",
    "# check the uid of the last value of df_old and find its index in filtered_df\n",
    "dataset_uids = list(df_old['dataset_uid'].values)"
   ],
   "id": "8b0796baf29ce93d",
   "outputs": [],
   "execution_count": 8
  },
  {
   "metadata": {
    "ExecuteTime": {
     "end_time": "2025-02-25T18:02:47.064806Z",
     "start_time": "2025-02-25T18:02:47.024473Z"
    }
   },
   "cell_type": "code",
   "source": "df_old.head()",
   "id": "9ca3153217696ffd",
   "outputs": [
    {
     "data": {
      "text/plain": [
       "                                                                   dataset_uid  \\\n",
       "publication                                                                      \n",
       "https://dx.doi.org/10.1001/JAMANEUROL.2024.4763                      PXD056570   \n",
       "https://dx.doi.org/10.1002/CBIC.202400831                            PXD055649   \n",
       "https://dx.doi.org/10.1002/CBIC.202400882                            PXD060372   \n",
       "https://dx.doi.org/10.1002/PRCA.202300107                            PXD028078   \n",
       "https://dx.doi.org/10.1002/anie.202420149        PXD056865,PXD057925,PXD058045   \n",
       "\n",
       "                                                repo_name  \\\n",
       "publication                                                 \n",
       "https://dx.doi.org/10.1001/JAMANEUROL.2024.4763     PRIDE   \n",
       "https://dx.doi.org/10.1002/CBIC.202400831           PRIDE   \n",
       "https://dx.doi.org/10.1002/CBIC.202400882           PRIDE   \n",
       "https://dx.doi.org/10.1002/PRCA.202300107           PRIDE   \n",
       "https://dx.doi.org/10.1002/anie.202420149           PRIDE   \n",
       "\n",
       "                                                                                          raw_html  \\\n",
       "publication                                                                                          \n",
       "https://dx.doi.org/10.1001/JAMANEUROL.2024.4763  <html id=\"doc\" lang=\"en\" class=\"page-article j...   \n",
       "https://dx.doi.org/10.1002/CBIC.202400831        <html lang=\"en\" class=\"pb-page\" data-request-i...   \n",
       "https://dx.doi.org/10.1002/CBIC.202400882        <html lang=\"en\" class=\"pb-page\" data-request-i...   \n",
       "https://dx.doi.org/10.1002/PRCA.202300107        <html lang=\"en\" class=\"pb-page\" data-request-i...   \n",
       "https://dx.doi.org/10.1002/anie.202420149        <html lang=\"en\" class=\"pb-page\" data-request-i...   \n",
       "\n",
       "                                                         publisher  \\\n",
       "publication                                                          \n",
       "https://dx.doi.org/10.1001/JAMANEUROL.2024.4763        jamanetwork   \n",
       "https://dx.doi.org/10.1002/CBIC.202400831        Unknown Publisher   \n",
       "https://dx.doi.org/10.1002/CBIC.202400882        Unknown Publisher   \n",
       "https://dx.doi.org/10.1002/PRCA.202300107                    wiley   \n",
       "https://dx.doi.org/10.1002/anie.202420149                    wiley   \n",
       "\n",
       "                                                                                 smallest_elements  \n",
       "publication                                                                                         \n",
       "https://dx.doi.org/10.1001/JAMANEUROL.2024.4763                                                 na  \n",
       "https://dx.doi.org/10.1002/CBIC.202400831        [('<p>The mass spectrometry proteomics data ha...  \n",
       "https://dx.doi.org/10.1002/CBIC.202400882        [('<p>The data that support the findings of th...  \n",
       "https://dx.doi.org/10.1002/PRCA.202300107        [('<p>Generation of the protein library and SW...  \n",
       "https://dx.doi.org/10.1002/anie.202420149        [('<p>The mass spectrometry proteomics data ha...  "
      ],
      "text/html": [
       "<div>\n",
       "<style scoped>\n",
       "    .dataframe tbody tr th:only-of-type {\n",
       "        vertical-align: middle;\n",
       "    }\n",
       "\n",
       "    .dataframe tbody tr th {\n",
       "        vertical-align: top;\n",
       "    }\n",
       "\n",
       "    .dataframe thead th {\n",
       "        text-align: right;\n",
       "    }\n",
       "</style>\n",
       "<table border=\"1\" class=\"dataframe\">\n",
       "  <thead>\n",
       "    <tr style=\"text-align: right;\">\n",
       "      <th></th>\n",
       "      <th>dataset_uid</th>\n",
       "      <th>repo_name</th>\n",
       "      <th>raw_html</th>\n",
       "      <th>publisher</th>\n",
       "      <th>smallest_elements</th>\n",
       "    </tr>\n",
       "    <tr>\n",
       "      <th>publication</th>\n",
       "      <th></th>\n",
       "      <th></th>\n",
       "      <th></th>\n",
       "      <th></th>\n",
       "      <th></th>\n",
       "    </tr>\n",
       "  </thead>\n",
       "  <tbody>\n",
       "    <tr>\n",
       "      <th>https://dx.doi.org/10.1001/JAMANEUROL.2024.4763</th>\n",
       "      <td>PXD056570</td>\n",
       "      <td>PRIDE</td>\n",
       "      <td>&lt;html id=\"doc\" lang=\"en\" class=\"page-article j...</td>\n",
       "      <td>jamanetwork</td>\n",
       "      <td>na</td>\n",
       "    </tr>\n",
       "    <tr>\n",
       "      <th>https://dx.doi.org/10.1002/CBIC.202400831</th>\n",
       "      <td>PXD055649</td>\n",
       "      <td>PRIDE</td>\n",
       "      <td>&lt;html lang=\"en\" class=\"pb-page\" data-request-i...</td>\n",
       "      <td>Unknown Publisher</td>\n",
       "      <td>[('&lt;p&gt;The mass spectrometry proteomics data ha...</td>\n",
       "    </tr>\n",
       "    <tr>\n",
       "      <th>https://dx.doi.org/10.1002/CBIC.202400882</th>\n",
       "      <td>PXD060372</td>\n",
       "      <td>PRIDE</td>\n",
       "      <td>&lt;html lang=\"en\" class=\"pb-page\" data-request-i...</td>\n",
       "      <td>Unknown Publisher</td>\n",
       "      <td>[('&lt;p&gt;The data that support the findings of th...</td>\n",
       "    </tr>\n",
       "    <tr>\n",
       "      <th>https://dx.doi.org/10.1002/PRCA.202300107</th>\n",
       "      <td>PXD028078</td>\n",
       "      <td>PRIDE</td>\n",
       "      <td>&lt;html lang=\"en\" class=\"pb-page\" data-request-i...</td>\n",
       "      <td>wiley</td>\n",
       "      <td>[('&lt;p&gt;Generation of the protein library and SW...</td>\n",
       "    </tr>\n",
       "    <tr>\n",
       "      <th>https://dx.doi.org/10.1002/anie.202420149</th>\n",
       "      <td>PXD056865,PXD057925,PXD058045</td>\n",
       "      <td>PRIDE</td>\n",
       "      <td>&lt;html lang=\"en\" class=\"pb-page\" data-request-i...</td>\n",
       "      <td>wiley</td>\n",
       "      <td>[('&lt;p&gt;The mass spectrometry proteomics data ha...</td>\n",
       "    </tr>\n",
       "  </tbody>\n",
       "</table>\n",
       "</div>"
      ]
     },
     "execution_count": 9,
     "metadata": {},
     "output_type": "execute_result"
    }
   ],
   "execution_count": 9
  },
  {
   "metadata": {
    "ExecuteTime": {
     "end_time": "2025-02-25T18:02:47.070991Z",
     "start_time": "2025-02-25T18:02:47.067721Z"
    }
   },
   "cell_type": "code",
   "source": [
    "all_ids = []\n",
    "for element in [item.split(',') for item in df_old['dataset_uid'].values]:\n",
    "    all_ids.extend(element)"
   ],
   "id": "f3fabf02737f3974",
   "outputs": [],
   "execution_count": 10
  },
  {
   "metadata": {
    "ExecuteTime": {
     "end_time": "2025-02-25T18:02:47.076223Z",
     "start_time": "2025-02-25T18:02:47.072530Z"
    }
   },
   "cell_type": "code",
   "source": [
    "# count distinct values in dataset_uids\n",
    "latest_index = len(set(all_ids))\n",
    "latest_index"
   ],
   "id": "6956c376c8b5b898",
   "outputs": [
    {
     "data": {
      "text/plain": [
       "172"
      ]
     },
     "execution_count": 11,
     "metadata": {},
     "output_type": "execute_result"
    }
   ],
   "execution_count": 11
  },
  {
   "metadata": {
    "ExecuteTime": {
     "end_time": "2025-02-25T19:26:50.829007Z",
     "start_time": "2025-02-25T19:26:50.817959Z"
    }
   },
   "cell_type": "code",
   "source": [
    "def extract_all_elements_with_UID(source_html, uid):\n",
    "    soup = BeautifulSoup(source_html, \"html.parser\")\n",
    "    \n",
    "    matching_elements = []\n",
    "    \n",
    "    for p in soup.find_all([\"table\",\"p\"]):  # Find only <p> elements\n",
    "        text = p.get_text(strip=True)\n",
    "        \n",
    "        if uid in text:  # Check if UID is in the text\n",
    "            matching_elements.append((str(p), len(text)))  # Store element and length\n",
    "\n",
    "    # If multiple matches, return the **smallest** one\n",
    "    if matching_elements:\n",
    "        # smallest_p, _ = min(matching_elements, key=lambda x: x[1])  # Find smallest\n",
    "        return matching_elements  # Pretty-print the raw HTML for debugging # smallest_p\n",
    "    \n",
    "    return None  # No match found"
   ],
   "id": "44e65d9d0b0dd655",
   "outputs": [],
   "execution_count": 66
  },
  {
   "metadata": {
    "ExecuteTime": {
     "end_time": "2025-02-25T19:26:53.914731Z",
     "start_time": "2025-02-25T19:26:53.909393Z"
    }
   },
   "cell_type": "code",
   "source": [
    "def add_example_to_merged_df(row, raw_html):\n",
    "    # handle uid also when comma-separated, then split and extract smallest element\n",
    "    if 'identifier' in row:\n",
    "        uid = row['identifier']\n",
    "    elif 'dataset_uid' in row:\n",
    "        uid = row['dataset_uid']\n",
    "    if ',' in uid:\n",
    "        uids = uid.split(',')\n",
    "        elements = []\n",
    "        for uid in uids:\n",
    "            elm_i = extract_all_elements_with_UID(raw_html, uid)\n",
    "            if elm_i in elements: # no dupes\n",
    "                continue\n",
    "            else:\n",
    "                elements.append(elm_i)\n",
    "        return elements\n",
    "    else:\n",
    "        return extract_all_elements_with_UID(raw_html, uid)\n"
   ],
   "id": "16e85d7ced60e9f0",
   "outputs": [],
   "execution_count": 67
  },
  {
   "metadata": {
    "ExecuteTime": {
     "end_time": "2025-02-25T18:03:36.818433Z",
     "start_time": "2025-02-25T18:03:07.715498Z"
    }
   },
   "cell_type": "code",
   "source": [
    "data = []\n",
    "\n",
    "start = latest_index + 1 \n",
    "\n",
    "iter_max = 1\n",
    "\n",
    "t0 = time.time()\n",
    "\n",
    "for i,row in filtered_df[start:].iterrows():\n",
    "        \n",
    "    id = row['identifier']\n",
    "    \n",
    "    if id in dataset_uids:\n",
    "        continue\n",
    "    \n",
    "    if i == start + iter_max:\n",
    "        break\n",
    "        \n",
    "    if i%100 == 0 and i>0:\n",
    "        orchestrator.logger.info(f\"Progress {i+1}/{len(filtered_df)}. ETA {((time.time()-t0)/(i+1))*(len(filtered_df)-i-1)}\")\n",
    "        \n",
    "    orchestrator.logger.info(f\"Processing URL {i+1}.\\nTime elapsed: {time.time()-t0}\") if i>0 else None\n",
    "    orchestrator.logger.info(f\"{len(row['publication_link'])} links found for dataset {id}\")\n",
    "    \n",
    "    j = 0\n",
    "    for url in row['publication_link']:\n",
    "        j+=1\n",
    "        \n",
    "        driver = orchestrator.setup_data_fetcher()\n",
    "        \n",
    "        orchestrator.logger.info(f\"Processing URL: {url}\")\n",
    "    \n",
    "        orchestrator.data_fetcher = orchestrator.data_fetcher.update_DataFetcher_settings(url, orchestrator.full_DOM, orchestrator.logger)\n",
    "        \n",
    "        try:\n",
    "            #orchestrator.logger.info(\"Fetching Raw content\")\n",
    "            raw_data = orchestrator.data_fetcher.fetch_data(url)\n",
    "            \n",
    "            orchestrator.logger.info(f\"Publication #: {j}, current URL: {orchestrator.data_fetcher.scraper_tool.current_url}\")\n",
    "            orchestrator.publisher = orchestrator.data_fetcher.url_to_publisher_domain(orchestrator.data_fetcher.scraper_tool.current_url)\n",
    "            \n",
    "            if orchestrator.publisher == \"biorxiv\":\n",
    "                fixed_url = orchestrator.data_fetcher.scraper_tool.current_url + \".full\"\n",
    "                raw_data = orchestrator.data_fetcher.fetch_data(fixed_url)\n",
    "\n",
    "            if id in raw_data:\n",
    "                example = add_example_to_merged_df(row, raw_data)\n",
    "                orchestrator.logger.info(f\"Example: {example}\")\n",
    "                \n",
    "                data.append({\"publication\": url, \"publisher\":orchestrator.publisher, \"dataset_uid\": id, \"repo_name\": row['repository'],\n",
    "                             \"raw_html\": raw_data, \"smallest_elements\": example})\n",
    "                orchestrator.logger.info(f\"Data appended for {url}\")\n",
    "                driver.quit()\n",
    "                continue\n",
    "            else:\n",
    "                orchestrator.logger.info(\"id not found in raw data\")\n",
    "                data.append({\"publication\": url, \"publisher\":orchestrator.publisher, \"dataset_uid\": id, \"repo_name\": row['repository'],\n",
    "                             \"raw_html\": raw_data, \"smallest_elements\": 'na'})\n",
    "                driver.quit()\n",
    "                continue\n",
    "        except Exception as e:\n",
    "            orchestrator.logger.error(f\"Error processing URL {url}: {e}\", exc_info=True)"
   ],
   "id": "749a6cf1e6facd65",
   "outputs": [
    {
     "name": "stderr",
     "output_type": "stream",
     "text": [
      "1225212621.py - line 22 - INFO - Processing URL 174.\n",
      "Time elapsed: 0.006849050521850586\n",
      "1225212621.py - line 23 - INFO - 2 links found for dataset PXD052713\n",
      "orchestrator.py - line 45 - INFO - Data fetcher setup completed.\n",
      "1225212621.py - line 31 - INFO - Processing URL: https://www.ncbi.nlm.nih.gov/pubmed/38982062\n",
      "data_fetcher.py - line 69 - INFO - Non-API URL detected, or API unsupported. Webscraper update\n",
      "1225212621.py - line 39 - INFO - Publication #: 1, current URL: https://pubmed.ncbi.nlm.nih.gov/38982062/\n",
      "data_fetcher.py - line 29 - INFO - Publisher: pubmed\n",
      "1225212621.py - line 56 - INFO - id not found in raw data\n",
      "orchestrator.py - line 30 - INFO - Previous driver quit.\n",
      "orchestrator.py - line 45 - INFO - Data fetcher setup completed.\n",
      "1225212621.py - line 31 - INFO - Processing URL: https://dx.doi.org/10.1038/s41467-024-50015-7\n",
      "data_fetcher.py - line 69 - INFO - Non-API URL detected, or API unsupported. Webscraper update\n",
      "1225212621.py - line 39 - INFO - Publication #: 2, current URL: https://www.nature.com/articles/s41467-024-50015-7\n",
      "data_fetcher.py - line 34 - INFO - Publisher: nature\n",
      "1225212621.py - line 56 - INFO - id not found in raw data\n"
     ]
    }
   ],
   "execution_count": 14
  },
  {
   "metadata": {
    "ExecuteTime": {
     "end_time": "2025-02-25T18:03:36.857696Z",
     "start_time": "2025-02-25T18:03:36.820968Z"
    }
   },
   "cell_type": "code",
   "source": [
    "df = pd.DataFrame(data)\n",
    "df.set_index(\"publication\",inplace=True)\n",
    "df"
   ],
   "id": "109b1674b84aec54",
   "outputs": [
    {
     "data": {
      "text/plain": [
       "                                              publisher dataset_uid repo_name  \\\n",
       "publication                                                                     \n",
       "https://www.ncbi.nlm.nih.gov/pubmed/38982062     pubmed   PXD052713     PRIDE   \n",
       "https://dx.doi.org/10.1038/s41467-024-50015-7    nature   PXD052713     PRIDE   \n",
       "\n",
       "                                                                                        raw_html  \\\n",
       "publication                                                                                        \n",
       "https://www.ncbi.nlm.nih.gov/pubmed/38982062   <html lang=\"en\"><head itemscope=\"\" itemtype=\"h...   \n",
       "https://dx.doi.org/10.1038/s41467-024-50015-7  <html lang=\"en\" class=\"js\"><head><link rel=\"pr...   \n",
       "\n",
       "                                              smallest_elements  \n",
       "publication                                                      \n",
       "https://www.ncbi.nlm.nih.gov/pubmed/38982062                 na  \n",
       "https://dx.doi.org/10.1038/s41467-024-50015-7                na  "
      ],
      "text/html": [
       "<div>\n",
       "<style scoped>\n",
       "    .dataframe tbody tr th:only-of-type {\n",
       "        vertical-align: middle;\n",
       "    }\n",
       "\n",
       "    .dataframe tbody tr th {\n",
       "        vertical-align: top;\n",
       "    }\n",
       "\n",
       "    .dataframe thead th {\n",
       "        text-align: right;\n",
       "    }\n",
       "</style>\n",
       "<table border=\"1\" class=\"dataframe\">\n",
       "  <thead>\n",
       "    <tr style=\"text-align: right;\">\n",
       "      <th></th>\n",
       "      <th>publisher</th>\n",
       "      <th>dataset_uid</th>\n",
       "      <th>repo_name</th>\n",
       "      <th>raw_html</th>\n",
       "      <th>smallest_elements</th>\n",
       "    </tr>\n",
       "    <tr>\n",
       "      <th>publication</th>\n",
       "      <th></th>\n",
       "      <th></th>\n",
       "      <th></th>\n",
       "      <th></th>\n",
       "      <th></th>\n",
       "    </tr>\n",
       "  </thead>\n",
       "  <tbody>\n",
       "    <tr>\n",
       "      <th>https://www.ncbi.nlm.nih.gov/pubmed/38982062</th>\n",
       "      <td>pubmed</td>\n",
       "      <td>PXD052713</td>\n",
       "      <td>PRIDE</td>\n",
       "      <td>&lt;html lang=\"en\"&gt;&lt;head itemscope=\"\" itemtype=\"h...</td>\n",
       "      <td>na</td>\n",
       "    </tr>\n",
       "    <tr>\n",
       "      <th>https://dx.doi.org/10.1038/s41467-024-50015-7</th>\n",
       "      <td>nature</td>\n",
       "      <td>PXD052713</td>\n",
       "      <td>PRIDE</td>\n",
       "      <td>&lt;html lang=\"en\" class=\"js\"&gt;&lt;head&gt;&lt;link rel=\"pr...</td>\n",
       "      <td>na</td>\n",
       "    </tr>\n",
       "  </tbody>\n",
       "</table>\n",
       "</div>"
      ]
     },
     "execution_count": 15,
     "metadata": {},
     "output_type": "execute_result"
    }
   ],
   "execution_count": 15
  },
  {
   "metadata": {
    "ExecuteTime": {
     "end_time": "2025-02-25T18:03:56.324911Z",
     "start_time": "2025-02-25T18:03:51.546226Z"
    }
   },
   "cell_type": "code",
   "source": [
    "df_old = pd.read_csv(\"exp_input/raw_data_v1.csv\", index_col=\"publication\")\n",
    "print(df_old.shape)\n",
    "# append rows to the existing CSV\n",
    "df_new = pd.concat([df_old,df])\n",
    "df_new.to_csv(\"exp_input/raw_data_v1.csv\")"
   ],
   "id": "66b46bebd3829d70",
   "outputs": [
    {
     "name": "stdout",
     "output_type": "stream",
     "text": [
      "(232, 5)\n"
     ]
    }
   ],
   "execution_count": 16
  },
  {
   "metadata": {
    "ExecuteTime": {
     "end_time": "2025-02-25T18:03:56.331811Z",
     "start_time": "2025-02-25T18:03:56.326788Z"
    }
   },
   "cell_type": "code",
   "source": "df_new.shape",
   "id": "c0b24ab169f53dfe",
   "outputs": [
    {
     "data": {
      "text/plain": [
       "(234, 5)"
      ]
     },
     "execution_count": 17,
     "metadata": {},
     "output_type": "execute_result"
    }
   ],
   "execution_count": 17
  },
  {
   "metadata": {
    "ExecuteTime": {
     "end_time": "2025-02-25T18:03:56.338420Z",
     "start_time": "2025-02-25T18:03:56.333846Z"
    }
   },
   "cell_type": "code",
   "source": [
    "print(len(df_new.index))\n",
    "print(len(df_new.index.unique()))"
   ],
   "id": "2c456519e5c167fd",
   "outputs": [
    {
     "name": "stdout",
     "output_type": "stream",
     "text": [
      "234\n",
      "234\n"
     ]
    }
   ],
   "execution_count": 18
  },
  {
   "metadata": {
    "ExecuteTime": {
     "end_time": "2025-02-25T18:03:56.367467Z",
     "start_time": "2025-02-25T18:03:56.340318Z"
    }
   },
   "cell_type": "code",
   "source": [
    "df_merged = (\n",
    "    df_new.reset_index()\n",
    "    .groupby('publication')\n",
    "    .agg({\n",
    "        'dataset_uid': lambda x: ','.join(sorted(set(x))),  # Concatenate unique dataset_uids\n",
    "        'repo_name': lambda x: ','.join(sorted(set(x))),   # Concatenate unique repo_names\n",
    "        'raw_html': 'first',  # Keep the first raw_html,\n",
    "        'publisher' : 'first',\n",
    "        'smallest_elements': 'first'\n",
    "    })\n",
    ")"
   ],
   "id": "27afb2c289dcbf5",
   "outputs": [],
   "execution_count": 19
  },
  {
   "metadata": {
    "ExecuteTime": {
     "end_time": "2025-02-25T18:03:56.413722Z",
     "start_time": "2025-02-25T18:03:56.368627Z"
    }
   },
   "cell_type": "code",
   "source": "df_merged",
   "id": "105c7cdafc44a05b",
   "outputs": [
    {
     "data": {
      "text/plain": [
       "                                                                   dataset_uid  \\\n",
       "publication                                                                      \n",
       "https://dx.doi.org/10.1001/JAMANEUROL.2024.4763                      PXD056570   \n",
       "https://dx.doi.org/10.1002/CBIC.202400831                            PXD055649   \n",
       "https://dx.doi.org/10.1002/CBIC.202400882                            PXD060372   \n",
       "https://dx.doi.org/10.1002/PRCA.202300107                            PXD028078   \n",
       "https://dx.doi.org/10.1002/anie.202420149        PXD056865,PXD057925,PXD058045   \n",
       "...                                                                        ...   \n",
       "https://www.ncbi.nlm.nih.gov/pubmed/39884247                         PXD054970   \n",
       "https://www.ncbi.nlm.nih.gov/pubmed/39900909                         PXD058955   \n",
       "https://www.ncbi.nlm.nih.gov/pubmed/39910101                         PXD060051   \n",
       "https://www.ncbi.nlm.nih.gov/pubmed/39910614                         PXD060193   \n",
       "https://www.ncbi.nlm.nih.gov/pubmed/39912552                         PXD051312   \n",
       "\n",
       "                                                repo_name  \\\n",
       "publication                                                 \n",
       "https://dx.doi.org/10.1001/JAMANEUROL.2024.4763     PRIDE   \n",
       "https://dx.doi.org/10.1002/CBIC.202400831           PRIDE   \n",
       "https://dx.doi.org/10.1002/CBIC.202400882           PRIDE   \n",
       "https://dx.doi.org/10.1002/PRCA.202300107           PRIDE   \n",
       "https://dx.doi.org/10.1002/anie.202420149           PRIDE   \n",
       "...                                                   ...   \n",
       "https://www.ncbi.nlm.nih.gov/pubmed/39884247        PRIDE   \n",
       "https://www.ncbi.nlm.nih.gov/pubmed/39900909        PRIDE   \n",
       "https://www.ncbi.nlm.nih.gov/pubmed/39910101        iProX   \n",
       "https://www.ncbi.nlm.nih.gov/pubmed/39910614        iProX   \n",
       "https://www.ncbi.nlm.nih.gov/pubmed/39912552        PRIDE   \n",
       "\n",
       "                                                                                          raw_html  \\\n",
       "publication                                                                                          \n",
       "https://dx.doi.org/10.1001/JAMANEUROL.2024.4763  <html id=\"doc\" lang=\"en\" class=\"page-article j...   \n",
       "https://dx.doi.org/10.1002/CBIC.202400831        <html lang=\"en\" class=\"pb-page\" data-request-i...   \n",
       "https://dx.doi.org/10.1002/CBIC.202400882        <html lang=\"en\" class=\"pb-page\" data-request-i...   \n",
       "https://dx.doi.org/10.1002/PRCA.202300107        <html lang=\"en\" class=\"pb-page\" data-request-i...   \n",
       "https://dx.doi.org/10.1002/anie.202420149        <html lang=\"en\" class=\"pb-page\" data-request-i...   \n",
       "...                                                                                            ...   \n",
       "https://www.ncbi.nlm.nih.gov/pubmed/39884247     <html lang=\"en\"><head itemscope=\"\" itemtype=\"h...   \n",
       "https://www.ncbi.nlm.nih.gov/pubmed/39900909     <html lang=\"en\"><head itemscope=\"\" itemtype=\"h...   \n",
       "https://www.ncbi.nlm.nih.gov/pubmed/39910101     <html lang=\"en\"><head itemscope=\"\" itemtype=\"h...   \n",
       "https://www.ncbi.nlm.nih.gov/pubmed/39910614     <html lang=\"en\"><head itemscope=\"\" itemtype=\"h...   \n",
       "https://www.ncbi.nlm.nih.gov/pubmed/39912552     <html lang=\"en\"><head itemscope=\"\" itemtype=\"h...   \n",
       "\n",
       "                                                         publisher  \\\n",
       "publication                                                          \n",
       "https://dx.doi.org/10.1001/JAMANEUROL.2024.4763        jamanetwork   \n",
       "https://dx.doi.org/10.1002/CBIC.202400831        Unknown Publisher   \n",
       "https://dx.doi.org/10.1002/CBIC.202400882        Unknown Publisher   \n",
       "https://dx.doi.org/10.1002/PRCA.202300107                    wiley   \n",
       "https://dx.doi.org/10.1002/anie.202420149                    wiley   \n",
       "...                                                            ...   \n",
       "https://www.ncbi.nlm.nih.gov/pubmed/39884247                pubmed   \n",
       "https://www.ncbi.nlm.nih.gov/pubmed/39900909                pubmed   \n",
       "https://www.ncbi.nlm.nih.gov/pubmed/39910101                pubmed   \n",
       "https://www.ncbi.nlm.nih.gov/pubmed/39910614                pubmed   \n",
       "https://www.ncbi.nlm.nih.gov/pubmed/39912552                pubmed   \n",
       "\n",
       "                                                                                 smallest_elements  \n",
       "publication                                                                                         \n",
       "https://dx.doi.org/10.1001/JAMANEUROL.2024.4763                                                 na  \n",
       "https://dx.doi.org/10.1002/CBIC.202400831        [('<p>The mass spectrometry proteomics data ha...  \n",
       "https://dx.doi.org/10.1002/CBIC.202400882        [('<p>The data that support the findings of th...  \n",
       "https://dx.doi.org/10.1002/PRCA.202300107        [('<p>Generation of the protein library and SW...  \n",
       "https://dx.doi.org/10.1002/anie.202420149        [('<p>The mass spectrometry proteomics data ha...  \n",
       "...                                                                                            ...  \n",
       "https://www.ncbi.nlm.nih.gov/pubmed/39884247                                                    na  \n",
       "https://www.ncbi.nlm.nih.gov/pubmed/39900909                                                    na  \n",
       "https://www.ncbi.nlm.nih.gov/pubmed/39910101                                                    na  \n",
       "https://www.ncbi.nlm.nih.gov/pubmed/39910614                                                    na  \n",
       "https://www.ncbi.nlm.nih.gov/pubmed/39912552                                                    na  \n",
       "\n",
       "[234 rows x 5 columns]"
      ],
      "text/html": [
       "<div>\n",
       "<style scoped>\n",
       "    .dataframe tbody tr th:only-of-type {\n",
       "        vertical-align: middle;\n",
       "    }\n",
       "\n",
       "    .dataframe tbody tr th {\n",
       "        vertical-align: top;\n",
       "    }\n",
       "\n",
       "    .dataframe thead th {\n",
       "        text-align: right;\n",
       "    }\n",
       "</style>\n",
       "<table border=\"1\" class=\"dataframe\">\n",
       "  <thead>\n",
       "    <tr style=\"text-align: right;\">\n",
       "      <th></th>\n",
       "      <th>dataset_uid</th>\n",
       "      <th>repo_name</th>\n",
       "      <th>raw_html</th>\n",
       "      <th>publisher</th>\n",
       "      <th>smallest_elements</th>\n",
       "    </tr>\n",
       "    <tr>\n",
       "      <th>publication</th>\n",
       "      <th></th>\n",
       "      <th></th>\n",
       "      <th></th>\n",
       "      <th></th>\n",
       "      <th></th>\n",
       "    </tr>\n",
       "  </thead>\n",
       "  <tbody>\n",
       "    <tr>\n",
       "      <th>https://dx.doi.org/10.1001/JAMANEUROL.2024.4763</th>\n",
       "      <td>PXD056570</td>\n",
       "      <td>PRIDE</td>\n",
       "      <td>&lt;html id=\"doc\" lang=\"en\" class=\"page-article j...</td>\n",
       "      <td>jamanetwork</td>\n",
       "      <td>na</td>\n",
       "    </tr>\n",
       "    <tr>\n",
       "      <th>https://dx.doi.org/10.1002/CBIC.202400831</th>\n",
       "      <td>PXD055649</td>\n",
       "      <td>PRIDE</td>\n",
       "      <td>&lt;html lang=\"en\" class=\"pb-page\" data-request-i...</td>\n",
       "      <td>Unknown Publisher</td>\n",
       "      <td>[('&lt;p&gt;The mass spectrometry proteomics data ha...</td>\n",
       "    </tr>\n",
       "    <tr>\n",
       "      <th>https://dx.doi.org/10.1002/CBIC.202400882</th>\n",
       "      <td>PXD060372</td>\n",
       "      <td>PRIDE</td>\n",
       "      <td>&lt;html lang=\"en\" class=\"pb-page\" data-request-i...</td>\n",
       "      <td>Unknown Publisher</td>\n",
       "      <td>[('&lt;p&gt;The data that support the findings of th...</td>\n",
       "    </tr>\n",
       "    <tr>\n",
       "      <th>https://dx.doi.org/10.1002/PRCA.202300107</th>\n",
       "      <td>PXD028078</td>\n",
       "      <td>PRIDE</td>\n",
       "      <td>&lt;html lang=\"en\" class=\"pb-page\" data-request-i...</td>\n",
       "      <td>wiley</td>\n",
       "      <td>[('&lt;p&gt;Generation of the protein library and SW...</td>\n",
       "    </tr>\n",
       "    <tr>\n",
       "      <th>https://dx.doi.org/10.1002/anie.202420149</th>\n",
       "      <td>PXD056865,PXD057925,PXD058045</td>\n",
       "      <td>PRIDE</td>\n",
       "      <td>&lt;html lang=\"en\" class=\"pb-page\" data-request-i...</td>\n",
       "      <td>wiley</td>\n",
       "      <td>[('&lt;p&gt;The mass spectrometry proteomics data ha...</td>\n",
       "    </tr>\n",
       "    <tr>\n",
       "      <th>...</th>\n",
       "      <td>...</td>\n",
       "      <td>...</td>\n",
       "      <td>...</td>\n",
       "      <td>...</td>\n",
       "      <td>...</td>\n",
       "    </tr>\n",
       "    <tr>\n",
       "      <th>https://www.ncbi.nlm.nih.gov/pubmed/39884247</th>\n",
       "      <td>PXD054970</td>\n",
       "      <td>PRIDE</td>\n",
       "      <td>&lt;html lang=\"en\"&gt;&lt;head itemscope=\"\" itemtype=\"h...</td>\n",
       "      <td>pubmed</td>\n",
       "      <td>na</td>\n",
       "    </tr>\n",
       "    <tr>\n",
       "      <th>https://www.ncbi.nlm.nih.gov/pubmed/39900909</th>\n",
       "      <td>PXD058955</td>\n",
       "      <td>PRIDE</td>\n",
       "      <td>&lt;html lang=\"en\"&gt;&lt;head itemscope=\"\" itemtype=\"h...</td>\n",
       "      <td>pubmed</td>\n",
       "      <td>na</td>\n",
       "    </tr>\n",
       "    <tr>\n",
       "      <th>https://www.ncbi.nlm.nih.gov/pubmed/39910101</th>\n",
       "      <td>PXD060051</td>\n",
       "      <td>iProX</td>\n",
       "      <td>&lt;html lang=\"en\"&gt;&lt;head itemscope=\"\" itemtype=\"h...</td>\n",
       "      <td>pubmed</td>\n",
       "      <td>na</td>\n",
       "    </tr>\n",
       "    <tr>\n",
       "      <th>https://www.ncbi.nlm.nih.gov/pubmed/39910614</th>\n",
       "      <td>PXD060193</td>\n",
       "      <td>iProX</td>\n",
       "      <td>&lt;html lang=\"en\"&gt;&lt;head itemscope=\"\" itemtype=\"h...</td>\n",
       "      <td>pubmed</td>\n",
       "      <td>na</td>\n",
       "    </tr>\n",
       "    <tr>\n",
       "      <th>https://www.ncbi.nlm.nih.gov/pubmed/39912552</th>\n",
       "      <td>PXD051312</td>\n",
       "      <td>PRIDE</td>\n",
       "      <td>&lt;html lang=\"en\"&gt;&lt;head itemscope=\"\" itemtype=\"h...</td>\n",
       "      <td>pubmed</td>\n",
       "      <td>na</td>\n",
       "    </tr>\n",
       "  </tbody>\n",
       "</table>\n",
       "<p>234 rows × 5 columns</p>\n",
       "</div>"
      ]
     },
     "execution_count": 20,
     "metadata": {},
     "output_type": "execute_result"
    }
   ],
   "execution_count": 20
  },
  {
   "metadata": {
    "ExecuteTime": {
     "end_time": "2025-02-25T18:03:59.179329Z",
     "start_time": "2025-02-25T18:03:56.414961Z"
    }
   },
   "cell_type": "code",
   "source": "df_merged.to_csv(\"exp_input/raw_data_v1.csv\")",
   "id": "d76d0ff6397fb4b4",
   "outputs": [],
   "execution_count": 21
  },
  {
   "metadata": {
    "ExecuteTime": {
     "end_time": "2025-02-25T18:07:49.146308Z",
     "start_time": "2025-02-25T18:07:49.112088Z"
    }
   },
   "cell_type": "code",
   "source": [
    "print(len(filtered_df))\n",
    "filtered_df.head()"
   ],
   "id": "34b10f2a8fbe7752",
   "outputs": [
    {
     "name": "stdout",
     "output_type": "stream",
     "text": [
      "25696\n"
     ]
    },
    {
     "data": {
      "text/plain": [
       "                                         publication identifier repository  \\\n",
       "0  <a href=\"https://dx.doi.org/10.1038/S41467-025...  PXD059466      PRIDE   \n",
       "1  <a href=\"https://dx.doi.org/10.6019/PXD051312\"...  PXD051312      PRIDE   \n",
       "2  <a href=\"https://dx.doi.org/10.17159/SAJS.2025...  PXD054431      PRIDE   \n",
       "3  <a href=\"https://dx.doi.org/10.1101/2024.04.03...  PXD050443      PRIDE   \n",
       "4  <a href=\"https://dx.doi.org/10.1101/2025.02.05...  PXD051704      PRIDE   \n",
       "\n",
       "                                    publication_link  \n",
       "0    [https://dx.doi.org/10.1038/S41467-025-56720-1]  \n",
       "1  [https://dx.doi.org/10.6019/PXD051312, https:/...  \n",
       "2      [https://dx.doi.org/10.17159/SAJS.2025/18571]  \n",
       "3     [https://dx.doi.org/10.1101/2024.04.03.587901]  \n",
       "4     [https://dx.doi.org/10.1101/2025.02.05.636703]  "
      ],
      "text/html": [
       "<div>\n",
       "<style scoped>\n",
       "    .dataframe tbody tr th:only-of-type {\n",
       "        vertical-align: middle;\n",
       "    }\n",
       "\n",
       "    .dataframe tbody tr th {\n",
       "        vertical-align: top;\n",
       "    }\n",
       "\n",
       "    .dataframe thead th {\n",
       "        text-align: right;\n",
       "    }\n",
       "</style>\n",
       "<table border=\"1\" class=\"dataframe\">\n",
       "  <thead>\n",
       "    <tr style=\"text-align: right;\">\n",
       "      <th></th>\n",
       "      <th>publication</th>\n",
       "      <th>identifier</th>\n",
       "      <th>repository</th>\n",
       "      <th>publication_link</th>\n",
       "    </tr>\n",
       "  </thead>\n",
       "  <tbody>\n",
       "    <tr>\n",
       "      <th>0</th>\n",
       "      <td>&lt;a href=\"https://dx.doi.org/10.1038/S41467-025...</td>\n",
       "      <td>PXD059466</td>\n",
       "      <td>PRIDE</td>\n",
       "      <td>[https://dx.doi.org/10.1038/S41467-025-56720-1]</td>\n",
       "    </tr>\n",
       "    <tr>\n",
       "      <th>1</th>\n",
       "      <td>&lt;a href=\"https://dx.doi.org/10.6019/PXD051312\"...</td>\n",
       "      <td>PXD051312</td>\n",
       "      <td>PRIDE</td>\n",
       "      <td>[https://dx.doi.org/10.6019/PXD051312, https:/...</td>\n",
       "    </tr>\n",
       "    <tr>\n",
       "      <th>2</th>\n",
       "      <td>&lt;a href=\"https://dx.doi.org/10.17159/SAJS.2025...</td>\n",
       "      <td>PXD054431</td>\n",
       "      <td>PRIDE</td>\n",
       "      <td>[https://dx.doi.org/10.17159/SAJS.2025/18571]</td>\n",
       "    </tr>\n",
       "    <tr>\n",
       "      <th>3</th>\n",
       "      <td>&lt;a href=\"https://dx.doi.org/10.1101/2024.04.03...</td>\n",
       "      <td>PXD050443</td>\n",
       "      <td>PRIDE</td>\n",
       "      <td>[https://dx.doi.org/10.1101/2024.04.03.587901]</td>\n",
       "    </tr>\n",
       "    <tr>\n",
       "      <th>4</th>\n",
       "      <td>&lt;a href=\"https://dx.doi.org/10.1101/2025.02.05...</td>\n",
       "      <td>PXD051704</td>\n",
       "      <td>PRIDE</td>\n",
       "      <td>[https://dx.doi.org/10.1101/2025.02.05.636703]</td>\n",
       "    </tr>\n",
       "  </tbody>\n",
       "</table>\n",
       "</div>"
      ]
     },
     "execution_count": 25,
     "metadata": {},
     "output_type": "execute_result"
    }
   ],
   "execution_count": 25
  },
  {
   "metadata": {
    "ExecuteTime": {
     "end_time": "2025-02-25T18:30:52.105217Z",
     "start_time": "2025-02-25T18:30:50.303994Z"
    }
   },
   "cell_type": "code",
   "source": [
    "cnt = 0\n",
    "#new ids to add to publication with example\n",
    "new_ids = {}\n",
    "for publications,identifier in zip(filtered_df['publication_link'],filtered_df['identifier']):\n",
    "    for pub in publications:\n",
    "        for publication in df_merged.index:\n",
    "            if pub == publication and identifier not in df_merged.loc[publication]['dataset_uid']:\n",
    "                cnt+=1\n",
    "                new_ids[publication] = identifier\n",
    "                print(f\"Publication from proteomexchange_search.tsv: {pub,identifier}\")\n",
    "                print(f\"Publication data in df_merged: \\n{df_merged.loc[publication]}\")\n",
    "                print(\"\\n\")\n",
    "print(cnt)"
   ],
   "id": "4119e5e708ce833",
   "outputs": [
    {
     "name": "stdout",
     "output_type": "stream",
     "text": [
      "Publication from proteomexchange_search.tsv: ('https://dx.doi.org/10.1038/s41467-024-51174-3', 'PXD054202')\n",
      "Publication data in df_merged: \n",
      "dataset_uid                                        PXD052529,PXD054049\n",
      "repo_name                                                        PRIDE\n",
      "raw_html             <html lang=\"en\" class=\"js\"><head><link rel=\"pr...\n",
      "publisher                                                       nature\n",
      "smallest_elements                                                   na\n",
      "Name: https://dx.doi.org/10.1038/s41467-024-51174-3, dtype: object\n",
      "\n",
      "\n",
      "Publication from proteomexchange_search.tsv: ('https://www.ncbi.nlm.nih.gov/pubmed/39134528', 'PXD054202')\n",
      "Publication data in df_merged: \n",
      "dataset_uid                                        PXD052529,PXD054049\n",
      "repo_name                                                        PRIDE\n",
      "raw_html             <html lang=\"en\"><head itemscope=\"\" itemtype=\"h...\n",
      "publisher                                                       pubmed\n",
      "smallest_elements                                                   na\n",
      "Name: https://www.ncbi.nlm.nih.gov/pubmed/39134528, dtype: object\n",
      "\n",
      "\n",
      "Publication from proteomexchange_search.tsv: ('https://www.ncbi.nlm.nih.gov/pubmed/38982062', 'PXD052836')\n",
      "Publication data in df_merged: \n",
      "dataset_uid                                                  PXD052713\n",
      "repo_name                                                        PRIDE\n",
      "raw_html             <html lang=\"en\"><head itemscope=\"\" itemtype=\"h...\n",
      "publisher                                                       pubmed\n",
      "smallest_elements                                                   na\n",
      "Name: https://www.ncbi.nlm.nih.gov/pubmed/38982062, dtype: object\n",
      "\n",
      "\n",
      "Publication from proteomexchange_search.tsv: ('https://dx.doi.org/10.1038/s41467-024-50015-7', 'PXD052836')\n",
      "Publication data in df_merged: \n",
      "dataset_uid                                                  PXD052713\n",
      "repo_name                                                        PRIDE\n",
      "raw_html             <html lang=\"en\" class=\"js\"><head><link rel=\"pr...\n",
      "publisher                                                       nature\n",
      "smallest_elements                                                   na\n",
      "Name: https://dx.doi.org/10.1038/s41467-024-50015-7, dtype: object\n",
      "\n",
      "\n",
      "Publication from proteomexchange_search.tsv: ('https://dx.doi.org/10.1021/acs.jproteome.9b00601', 'PXD014746')\n",
      "Publication data in df_merged: \n",
      "dataset_uid                                                  PXD037988\n",
      "repo_name                                                        PRIDE\n",
      "raw_html             <html lang=\"en\" class=\"pb-page\" data-request-i...\n",
      "publisher                                                          acs\n",
      "smallest_elements                                                   na\n",
      "Name: https://dx.doi.org/10.1021/acs.jproteome.9b00601, dtype: object\n",
      "\n",
      "\n",
      "Publication from proteomexchange_search.tsv: ('https://www.ncbi.nlm.nih.gov/pubmed/31994890', 'PXD014746')\n",
      "Publication data in df_merged: \n",
      "dataset_uid                                                  PXD037988\n",
      "repo_name                                                        PRIDE\n",
      "raw_html             <html lang=\"en\"><head itemscope=\"\" itemtype=\"h...\n",
      "publisher                                                       pubmed\n",
      "smallest_elements                                                   na\n",
      "Name: https://www.ncbi.nlm.nih.gov/pubmed/31994890, dtype: object\n",
      "\n",
      "\n",
      "Publication from proteomexchange_search.tsv: ('https://www.ncbi.nlm.nih.gov/pubmed/31489782', 'PXD011741')\n",
      "Publication data in df_merged: \n",
      "dataset_uid                                                  PXD047574\n",
      "repo_name                                                        PRIDE\n",
      "raw_html             <html lang=\"en\"><head itemscope=\"\" itemtype=\"h...\n",
      "publisher                                                       pubmed\n",
      "smallest_elements                                                   na\n",
      "Name: https://www.ncbi.nlm.nih.gov/pubmed/31489782, dtype: object\n",
      "\n",
      "\n",
      "Publication from proteomexchange_search.tsv: ('https://dx.doi.org/10.1111/acel.13029', 'PXD011741')\n",
      "Publication data in df_merged: \n",
      "dataset_uid                                                  PXD047574\n",
      "repo_name                                                        PRIDE\n",
      "raw_html             <html lang=\"en\" class=\"pb-page\" data-request-i...\n",
      "publisher                                                        wiley\n",
      "smallest_elements                                                   na\n",
      "Name: https://dx.doi.org/10.1111/acel.13029, dtype: object\n",
      "\n",
      "\n",
      "8\n"
     ]
    }
   ],
   "execution_count": 35
  },
  {
   "metadata": {
    "ExecuteTime": {
     "end_time": "2025-02-25T18:31:01.231473Z",
     "start_time": "2025-02-25T18:31:01.226276Z"
    }
   },
   "cell_type": "code",
   "source": "new_ids",
   "id": "a497310a08176d75",
   "outputs": [
    {
     "data": {
      "text/plain": [
       "{'https://dx.doi.org/10.1038/s41467-024-51174-3': 'PXD054202',\n",
       " 'https://www.ncbi.nlm.nih.gov/pubmed/39134528': 'PXD054202',\n",
       " 'https://www.ncbi.nlm.nih.gov/pubmed/38982062': 'PXD052836',\n",
       " 'https://dx.doi.org/10.1038/s41467-024-50015-7': 'PXD052836',\n",
       " 'https://dx.doi.org/10.1021/acs.jproteome.9b00601': 'PXD014746',\n",
       " 'https://www.ncbi.nlm.nih.gov/pubmed/31994890': 'PXD014746',\n",
       " 'https://www.ncbi.nlm.nih.gov/pubmed/31489782': 'PXD011741',\n",
       " 'https://dx.doi.org/10.1111/acel.13029': 'PXD011741'}"
      ]
     },
     "execution_count": 36,
     "metadata": {},
     "output_type": "execute_result"
    }
   ],
   "execution_count": 36
  },
  {
   "metadata": {
    "ExecuteTime": {
     "end_time": "2025-02-25T18:35:47.431259Z",
     "start_time": "2025-02-25T18:35:47.415559Z"
    }
   },
   "cell_type": "code",
   "source": "df_merged_copy = df_merged.copy()",
   "id": "d096068448880e1",
   "outputs": [],
   "execution_count": 38
  },
  {
   "metadata": {
    "ExecuteTime": {
     "end_time": "2025-02-25T19:47:50.670444Z",
     "start_time": "2025-02-25T19:47:49.915460Z"
    }
   },
   "cell_type": "code",
   "source": [
    "# add new ids to df_merged:\n",
    "# - the ids should be added to the dataset_uid column of the publication \n",
    "# - the raw_html will remain the same\n",
    "# - smallest elements will be extended with the new ids matching elements\n",
    "for new_PXD in new_ids:\n",
    "    print(f\"new_PXD: {new_PXD}\")\n",
    "    print(f\"old_ids: {df_merged_copy.loc[new_PXD]['dataset_uid']} {type(df_merged_copy.loc[new_PXD]['dataset_uid'])}, \\nnew_id: {new_ids[new_PXD]}\")\n",
    "    \n",
    "    df_merged.at[new_PXD,'dataset_uid'] = df_merged_copy.loc[new_PXD]['dataset_uid'] + ',' + new_ids[new_PXD]\n",
    "    print(f\"updated:{df_merged_copy.loc[new_PXD]['dataset_uid'] + ',' + new_ids[new_PXD]}\")\n",
    "    \n",
    "    print(f\"old_smallest_elements: {df_merged_copy.loc[new_PXD]['smallest_elements']}\\n\")\n",
    "    #print(f\"function args{df_merged_copy.loc[new_PXD], 'df_merged_copy.loc[new_PXD][raw_html]'}\")\n",
    "    \n",
    "    if df_merged.loc[new_PXD]['smallest_elements'] == 'na' or df_merged.loc[new_PXD]['smallest_elements'] is None:\n",
    "        df_merged.at[new_PXD,'smallest_elements'] = extract_all_elements_with_UID(df_merged_copy.loc[new_PXD]['raw_html'], new_ids[new_PXD])\n",
    "    elif type(df_merged.loc[new_PXD]['smallest_elements']) == list:\n",
    "        print('extending')\n",
    "        df_merged.at[new_PXD,'smallest_elements'] = df_merged.at[new_PXD,'smallest_elements'].extend(add_example_to_merged_df(df_merged.loc[new_PXD], new_ids[new_PXD]))\n",
    "    else:\n",
    "        print(f\"SOMETHING WENT WRONG\")\n",
    "    \n",
    "    print(f\"df_merged.loc[new_PXD]['dataset_uid']: {df_merged.loc[new_PXD]['dataset_uid']}\")\n",
    "    print(f\"new smallest elements with {new_PXD}: {df_merged.loc[new_PXD]['smallest_elements']}\\n\\n\")"
   ],
   "id": "2c0a5c6b43195b93",
   "outputs": [
    {
     "name": "stdout",
     "output_type": "stream",
     "text": [
      "new_PXD: https://dx.doi.org/10.1038/s41467-024-51174-3\n",
      "old_ids: PXD052529,PXD054049 <class 'str'>, \n",
      "new_id: PXD054202\n",
      "updated:PXD052529,PXD054049,PXD054202\n",
      "old_smallest_elements: na\n",
      "\n",
      "extending\n",
      "df_merged.loc[new_PXD]['dataset_uid']: PXD052529,PXD054049,PXD054202\n",
      "new smallest elements with https://dx.doi.org/10.1038/s41467-024-51174-3: None\n",
      "\n",
      "\n",
      "new_PXD: https://www.ncbi.nlm.nih.gov/pubmed/39134528\n",
      "old_ids: PXD052529,PXD054049 <class 'str'>, \n",
      "new_id: PXD054202\n",
      "updated:PXD052529,PXD054049,PXD054202\n",
      "old_smallest_elements: na\n",
      "\n",
      "df_merged.loc[new_PXD]['dataset_uid']: PXD052529,PXD054049,PXD054202\n",
      "new smallest elements with https://www.ncbi.nlm.nih.gov/pubmed/39134528: None\n",
      "\n",
      "\n",
      "new_PXD: https://www.ncbi.nlm.nih.gov/pubmed/38982062\n",
      "old_ids: PXD052713 <class 'str'>, \n",
      "new_id: PXD052836\n",
      "updated:PXD052713,PXD052836\n",
      "old_smallest_elements: na\n",
      "\n",
      "df_merged.loc[new_PXD]['dataset_uid']: PXD052713,PXD052836\n",
      "new smallest elements with https://www.ncbi.nlm.nih.gov/pubmed/38982062: None\n",
      "\n",
      "\n",
      "new_PXD: https://dx.doi.org/10.1038/s41467-024-50015-7\n",
      "old_ids: PXD052713 <class 'str'>, \n",
      "new_id: PXD052836\n",
      "updated:PXD052713,PXD052836\n",
      "old_smallest_elements: na\n",
      "\n",
      "extending\n",
      "df_merged.loc[new_PXD]['dataset_uid']: PXD052713,PXD052836\n",
      "new smallest elements with https://dx.doi.org/10.1038/s41467-024-50015-7: None\n",
      "\n",
      "\n",
      "new_PXD: https://dx.doi.org/10.1021/acs.jproteome.9b00601\n",
      "old_ids: PXD037988 <class 'str'>, \n",
      "new_id: PXD014746\n",
      "updated:PXD037988,PXD014746\n",
      "old_smallest_elements: na\n",
      "\n",
      "extending\n",
      "df_merged.loc[new_PXD]['dataset_uid']: PXD037988,PXD014746\n",
      "new smallest elements with https://dx.doi.org/10.1021/acs.jproteome.9b00601: None\n",
      "\n",
      "\n",
      "new_PXD: https://www.ncbi.nlm.nih.gov/pubmed/31994890\n",
      "old_ids: PXD037988 <class 'str'>, \n",
      "new_id: PXD014746\n",
      "updated:PXD037988,PXD014746\n",
      "old_smallest_elements: na\n",
      "\n",
      "df_merged.loc[new_PXD]['dataset_uid']: PXD037988,PXD014746\n",
      "new smallest elements with https://www.ncbi.nlm.nih.gov/pubmed/31994890: None\n",
      "\n",
      "\n",
      "new_PXD: https://www.ncbi.nlm.nih.gov/pubmed/31489782\n",
      "old_ids: PXD047574 <class 'str'>, \n",
      "new_id: PXD011741\n",
      "updated:PXD047574,PXD011741\n",
      "old_smallest_elements: na\n",
      "\n",
      "df_merged.loc[new_PXD]['dataset_uid']: PXD047574,PXD011741\n",
      "new smallest elements with https://www.ncbi.nlm.nih.gov/pubmed/31489782: None\n",
      "\n",
      "\n",
      "new_PXD: https://dx.doi.org/10.1111/acel.13029\n",
      "old_ids: PXD047574 <class 'str'>, \n",
      "new_id: PXD011741\n",
      "updated:PXD047574,PXD011741\n",
      "old_smallest_elements: na\n",
      "\n",
      "extending\n",
      "df_merged.loc[new_PXD]['dataset_uid']: PXD047574,PXD011741\n",
      "new smallest elements with https://dx.doi.org/10.1111/acel.13029: None\n",
      "\n",
      "\n"
     ]
    }
   ],
   "execution_count": 93
  },
  {
   "metadata": {
    "ExecuteTime": {
     "end_time": "2025-02-25T19:47:54.715793Z",
     "start_time": "2025-02-25T19:47:54.702273Z"
    }
   },
   "cell_type": "code",
   "source": "df_merged.loc[['https://dx.doi.org/10.1038/s41467-024-51174-3',]]",
   "id": "bdd2dec2b3154c5d",
   "outputs": [
    {
     "data": {
      "text/plain": [
       "                                                                 dataset_uid  \\\n",
       "publication                                                                    \n",
       "https://dx.doi.org/10.1038/s41467-024-51174-3  PXD052529,PXD054049,PXD054202   \n",
       "\n",
       "                                              repo_name  \\\n",
       "publication                                               \n",
       "https://dx.doi.org/10.1038/s41467-024-51174-3     PRIDE   \n",
       "\n",
       "                                                                                        raw_html  \\\n",
       "publication                                                                                        \n",
       "https://dx.doi.org/10.1038/s41467-024-51174-3  <html lang=\"en\" class=\"js\"><head><link rel=\"pr...   \n",
       "\n",
       "                                              publisher smallest_elements  \n",
       "publication                                                                \n",
       "https://dx.doi.org/10.1038/s41467-024-51174-3    nature              None  "
      ],
      "text/html": [
       "<div>\n",
       "<style scoped>\n",
       "    .dataframe tbody tr th:only-of-type {\n",
       "        vertical-align: middle;\n",
       "    }\n",
       "\n",
       "    .dataframe tbody tr th {\n",
       "        vertical-align: top;\n",
       "    }\n",
       "\n",
       "    .dataframe thead th {\n",
       "        text-align: right;\n",
       "    }\n",
       "</style>\n",
       "<table border=\"1\" class=\"dataframe\">\n",
       "  <thead>\n",
       "    <tr style=\"text-align: right;\">\n",
       "      <th></th>\n",
       "      <th>dataset_uid</th>\n",
       "      <th>repo_name</th>\n",
       "      <th>raw_html</th>\n",
       "      <th>publisher</th>\n",
       "      <th>smallest_elements</th>\n",
       "    </tr>\n",
       "    <tr>\n",
       "      <th>publication</th>\n",
       "      <th></th>\n",
       "      <th></th>\n",
       "      <th></th>\n",
       "      <th></th>\n",
       "      <th></th>\n",
       "    </tr>\n",
       "  </thead>\n",
       "  <tbody>\n",
       "    <tr>\n",
       "      <th>https://dx.doi.org/10.1038/s41467-024-51174-3</th>\n",
       "      <td>PXD052529,PXD054049,PXD054202</td>\n",
       "      <td>PRIDE</td>\n",
       "      <td>&lt;html lang=\"en\" class=\"js\"&gt;&lt;head&gt;&lt;link rel=\"pr...</td>\n",
       "      <td>nature</td>\n",
       "      <td>None</td>\n",
       "    </tr>\n",
       "  </tbody>\n",
       "</table>\n",
       "</div>"
      ]
     },
     "execution_count": 94,
     "metadata": {},
     "output_type": "execute_result"
    }
   ],
   "execution_count": 94
  },
  {
   "metadata": {
    "ExecuteTime": {
     "end_time": "2025-02-25T19:48:22.154792Z",
     "start_time": "2025-02-25T19:48:19.552490Z"
    }
   },
   "cell_type": "code",
   "source": "df_merged.to_csv(\"exp_input/raw_data_v1.csv\")",
   "id": "f27b18e4809d1f18",
   "outputs": [],
   "execution_count": 95
  },
  {
   "metadata": {
    "ExecuteTime": {
     "end_time": "2025-02-25T19:51:10.988134Z",
     "start_time": "2025-02-25T19:51:10.923722Z"
    }
   },
   "cell_type": "code",
   "source": "df_merged.head()",
   "id": "fa4215a1cdeef8d6",
   "outputs": [
    {
     "data": {
      "text/plain": [
       "                                                                   dataset_uid  \\\n",
       "publication                                                                      \n",
       "https://dx.doi.org/10.1001/JAMANEUROL.2024.4763                      PXD056570   \n",
       "https://dx.doi.org/10.1002/CBIC.202400831                            PXD055649   \n",
       "https://dx.doi.org/10.1002/CBIC.202400882                            PXD060372   \n",
       "https://dx.doi.org/10.1002/PRCA.202300107                            PXD028078   \n",
       "https://dx.doi.org/10.1002/anie.202420149        PXD056865,PXD057925,PXD058045   \n",
       "\n",
       "                                                repo_name  \\\n",
       "publication                                                 \n",
       "https://dx.doi.org/10.1001/JAMANEUROL.2024.4763     PRIDE   \n",
       "https://dx.doi.org/10.1002/CBIC.202400831           PRIDE   \n",
       "https://dx.doi.org/10.1002/CBIC.202400882           PRIDE   \n",
       "https://dx.doi.org/10.1002/PRCA.202300107           PRIDE   \n",
       "https://dx.doi.org/10.1002/anie.202420149           PRIDE   \n",
       "\n",
       "                                                                                          raw_html  \\\n",
       "publication                                                                                          \n",
       "https://dx.doi.org/10.1001/JAMANEUROL.2024.4763  <html id=\"doc\" lang=\"en\" class=\"page-article j...   \n",
       "https://dx.doi.org/10.1002/CBIC.202400831        <html lang=\"en\" class=\"pb-page\" data-request-i...   \n",
       "https://dx.doi.org/10.1002/CBIC.202400882        <html lang=\"en\" class=\"pb-page\" data-request-i...   \n",
       "https://dx.doi.org/10.1002/PRCA.202300107        <html lang=\"en\" class=\"pb-page\" data-request-i...   \n",
       "https://dx.doi.org/10.1002/anie.202420149        <html lang=\"en\" class=\"pb-page\" data-request-i...   \n",
       "\n",
       "                                                         publisher  \\\n",
       "publication                                                          \n",
       "https://dx.doi.org/10.1001/JAMANEUROL.2024.4763        jamanetwork   \n",
       "https://dx.doi.org/10.1002/CBIC.202400831        Unknown Publisher   \n",
       "https://dx.doi.org/10.1002/CBIC.202400882        Unknown Publisher   \n",
       "https://dx.doi.org/10.1002/PRCA.202300107                    wiley   \n",
       "https://dx.doi.org/10.1002/anie.202420149                    wiley   \n",
       "\n",
       "                                                                                 smallest_elements  \n",
       "publication                                                                                         \n",
       "https://dx.doi.org/10.1001/JAMANEUROL.2024.4763                                                 na  \n",
       "https://dx.doi.org/10.1002/CBIC.202400831        [('<p>The mass spectrometry proteomics data ha...  \n",
       "https://dx.doi.org/10.1002/CBIC.202400882        [('<p>The data that support the findings of th...  \n",
       "https://dx.doi.org/10.1002/PRCA.202300107        [('<p>Generation of the protein library and SW...  \n",
       "https://dx.doi.org/10.1002/anie.202420149        [('<p>The mass spectrometry proteomics data ha...  "
      ],
      "text/html": [
       "<div>\n",
       "<style scoped>\n",
       "    .dataframe tbody tr th:only-of-type {\n",
       "        vertical-align: middle;\n",
       "    }\n",
       "\n",
       "    .dataframe tbody tr th {\n",
       "        vertical-align: top;\n",
       "    }\n",
       "\n",
       "    .dataframe thead th {\n",
       "        text-align: right;\n",
       "    }\n",
       "</style>\n",
       "<table border=\"1\" class=\"dataframe\">\n",
       "  <thead>\n",
       "    <tr style=\"text-align: right;\">\n",
       "      <th></th>\n",
       "      <th>dataset_uid</th>\n",
       "      <th>repo_name</th>\n",
       "      <th>raw_html</th>\n",
       "      <th>publisher</th>\n",
       "      <th>smallest_elements</th>\n",
       "    </tr>\n",
       "    <tr>\n",
       "      <th>publication</th>\n",
       "      <th></th>\n",
       "      <th></th>\n",
       "      <th></th>\n",
       "      <th></th>\n",
       "      <th></th>\n",
       "    </tr>\n",
       "  </thead>\n",
       "  <tbody>\n",
       "    <tr>\n",
       "      <th>https://dx.doi.org/10.1001/JAMANEUROL.2024.4763</th>\n",
       "      <td>PXD056570</td>\n",
       "      <td>PRIDE</td>\n",
       "      <td>&lt;html id=\"doc\" lang=\"en\" class=\"page-article j...</td>\n",
       "      <td>jamanetwork</td>\n",
       "      <td>na</td>\n",
       "    </tr>\n",
       "    <tr>\n",
       "      <th>https://dx.doi.org/10.1002/CBIC.202400831</th>\n",
       "      <td>PXD055649</td>\n",
       "      <td>PRIDE</td>\n",
       "      <td>&lt;html lang=\"en\" class=\"pb-page\" data-request-i...</td>\n",
       "      <td>Unknown Publisher</td>\n",
       "      <td>[('&lt;p&gt;The mass spectrometry proteomics data ha...</td>\n",
       "    </tr>\n",
       "    <tr>\n",
       "      <th>https://dx.doi.org/10.1002/CBIC.202400882</th>\n",
       "      <td>PXD060372</td>\n",
       "      <td>PRIDE</td>\n",
       "      <td>&lt;html lang=\"en\" class=\"pb-page\" data-request-i...</td>\n",
       "      <td>Unknown Publisher</td>\n",
       "      <td>[('&lt;p&gt;The data that support the findings of th...</td>\n",
       "    </tr>\n",
       "    <tr>\n",
       "      <th>https://dx.doi.org/10.1002/PRCA.202300107</th>\n",
       "      <td>PXD028078</td>\n",
       "      <td>PRIDE</td>\n",
       "      <td>&lt;html lang=\"en\" class=\"pb-page\" data-request-i...</td>\n",
       "      <td>wiley</td>\n",
       "      <td>[('&lt;p&gt;Generation of the protein library and SW...</td>\n",
       "    </tr>\n",
       "    <tr>\n",
       "      <th>https://dx.doi.org/10.1002/anie.202420149</th>\n",
       "      <td>PXD056865,PXD057925,PXD058045</td>\n",
       "      <td>PRIDE</td>\n",
       "      <td>&lt;html lang=\"en\" class=\"pb-page\" data-request-i...</td>\n",
       "      <td>wiley</td>\n",
       "      <td>[('&lt;p&gt;The mass spectrometry proteomics data ha...</td>\n",
       "    </tr>\n",
       "  </tbody>\n",
       "</table>\n",
       "</div>"
      ]
     },
     "execution_count": 96,
     "metadata": {},
     "output_type": "execute_result"
    }
   ],
   "execution_count": 96
  },
  {
   "metadata": {
    "ExecuteTime": {
     "end_time": "2025-02-25T21:22:51.849500Z",
     "start_time": "2025-02-25T21:22:51.828705Z"
    }
   },
   "cell_type": "code",
   "source": [
    "for i,row in df_merged.iterrows():\n",
    "    if row['publisher'] == 'Unknown Publisher':\n",
    "        print(i)"
   ],
   "id": "870b34f39959bb35",
   "outputs": [
    {
     "name": "stdout",
     "output_type": "stream",
     "text": [
      "https://dx.doi.org/10.1002/CBIC.202400831\n",
      "https://dx.doi.org/10.1002/CBIC.202400882\n",
      "https://dx.doi.org/10.1002/cpt.3409\n",
      "https://dx.doi.org/10.1002/pmic.202400310\n",
      "https://dx.doi.org/10.1096/fba.2022-00063\n",
      "https://dx.doi.org/10.1111/1751-7915.70106\n"
     ]
    }
   ],
   "execution_count": 105
  },
  {
   "metadata": {},
   "cell_type": "code",
   "outputs": [],
   "execution_count": null,
   "source": "",
   "id": "c462983eb65f2388"
  }
 ],
 "metadata": {
  "kernelspec": {
   "display_name": "Python 3",
   "language": "python",
   "name": "python3"
  },
  "language_info": {
   "codemirror_mode": {
    "name": "ipython",
    "version": 2
   },
   "file_extension": ".py",
   "mimetype": "text/x-python",
   "name": "python",
   "nbconvert_exporter": "python",
   "pygments_lexer": "ipython2",
   "version": "2.7.6"
  }
 },
 "nbformat": 4,
 "nbformat_minor": 5
}
