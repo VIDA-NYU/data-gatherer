{
 "cells": [
  {
   "cell_type": "code",
   "id": "initial_id",
   "metadata": {
    "collapsed": true,
    "ExecuteTime": {
     "end_time": "2025-03-11T13:45:29.476846Z",
     "start_time": "2025-03-11T13:45:25.559219Z"
    }
   },
   "source": [
    "# import from the files in this directory\n",
    "from dotenv import load_dotenv\n",
    "from orchestrator import *\n",
    "import os\n",
    "import pandas as pd\n",
    "import re\n",
    "import time\n",
    "import json"
   ],
   "outputs": [],
   "execution_count": 1
  },
  {
   "metadata": {
    "ExecuteTime": {
     "end_time": "2025-03-11T13:45:29.479993Z",
     "start_time": "2025-03-11T13:45:29.478143Z"
    }
   },
   "cell_type": "code",
   "source": "#os.remove(\"exp_input/PX_id_HTML.parquet\")",
   "id": "61037ca47d2f13d",
   "outputs": [],
   "execution_count": 2
  },
  {
   "metadata": {
    "ExecuteTime": {
     "end_time": "2025-03-11T13:45:33.518873Z",
     "start_time": "2025-03-11T13:45:29.480912Z"
    }
   },
   "cell_type": "code",
   "source": [
    "load_dotenv()\n",
    "config_path = 'config_experiment.json'\n",
    "orchestrator = Orchestrator(config_path)\n",
    "\n",
    "ground_truth_src = \"exp_input/publication_data_citations_PXD.csv\"\n",
    "output_file = \"exp_input/PX_id_HTML_v4.parquet\"\n",
    "input_file = \"exp_input/PX_id_HTML_v3.parquet\"\n",
    "\n",
    "orchestrator.logger.info(f\"Ground Truth file exists: {os.path.exists(ground_truth_src)}\")\n",
    "orchestrator.logger.info(f\"Input file exists: {os.path.exists(input_file)}\")\n",
    "orchestrator.logger.info(f\"Output file exists: {os.path.exists(output_file)}\")\n"
   ],
   "id": "d38134199deb3f48",
   "outputs": [
    {
     "name": "stderr",
     "output_type": "stream",
     "text": [
      "orchestrator.py - line 21 - INFO - Data_Gatherer Orchestrator initialized. Extraction step Model: gemini-2.0-flash-exp\n",
      "3745124042.py - line 9 - INFO - Ground Truth file exists: True\n",
      "3745124042.py - line 10 - INFO - Input file exists: True\n",
      "3745124042.py - line 11 - INFO - Output file exists: True\n"
     ]
    }
   ],
   "execution_count": 3
  },
  {
   "metadata": {
    "ExecuteTime": {
     "end_time": "2025-03-11T13:45:33.663732Z",
     "start_time": "2025-03-11T13:45:33.524825Z"
    }
   },
   "cell_type": "code",
   "source": [
    "df_ground_truth_src = pd.read_csv(ground_truth_src)\n",
    "all_urls = df_ground_truth_src['publication_link'].values\n",
    "df_ground_truth_src.head()"
   ],
   "id": "be0bb73dae7df71d",
   "outputs": [
    {
     "data": {
      "text/plain": [
       "                           publication_link  \\\n",
       "0       http://dx.doi.org/10.1002/cam4.3825   \n",
       "1  http://dx.doi.org/10.1002/cbic.202000870   \n",
       "2  http://dx.doi.org/10.1002/pmic.202000214   \n",
       "3  http://dx.doi.org/10.1002/pmic.202000240   \n",
       "4  http://dx.doi.org/10.1002/pmic.202100036   \n",
       "\n",
       "                                          identifier  \\\n",
       "0                                          pxd023689   \n",
       "1  pxd023060,pxd023059,pxd023056,pxd023057,pxd023058   \n",
       "2                                          pxd020638   \n",
       "3                                          pxd023907   \n",
       "4                                          pxd022191   \n",
       "\n",
       "                      repository  \\\n",
       "0                          PRIDE   \n",
       "1  PRIDE,PRIDE,PRIDE,PRIDE,PRIDE   \n",
       "2                          PRIDE   \n",
       "3                          PRIDE   \n",
       "4                          PRIDE   \n",
       "\n",
       "                                               title  \\\n",
       "0  Proteomics reveals the function reverse of MPS...   \n",
       "1  Rapid and high coverage profile of human cyste...   \n",
       "2  Combining label-free and label-based accurate ...   \n",
       "3  Fusarium oxysporum f. sp. vasinfectum (UP00003...   \n",
       "4  Spectral library for SARS-COVID proteome and i...   \n",
       "\n",
       "                                            keywords  identifier_count  \n",
       "0  prostate CAFs, prostate cancer cells, secretomics                 1  \n",
       "1  Cysteine, FAIMS, SP3,Cysteine, FAIMS, SP3,Cyst...                 5  \n",
       "2  Beef meat quality, Data-Independent Acquisitio...                 1  \n",
       "3                  cotton, fungi, fusarium oxysporum                 1  \n",
       "4  HLA, ProteomeXchange project tag: Covid-19, SA...                 1  "
      ],
      "text/html": [
       "<div>\n",
       "<style scoped>\n",
       "    .dataframe tbody tr th:only-of-type {\n",
       "        vertical-align: middle;\n",
       "    }\n",
       "\n",
       "    .dataframe tbody tr th {\n",
       "        vertical-align: top;\n",
       "    }\n",
       "\n",
       "    .dataframe thead th {\n",
       "        text-align: right;\n",
       "    }\n",
       "</style>\n",
       "<table border=\"1\" class=\"dataframe\">\n",
       "  <thead>\n",
       "    <tr style=\"text-align: right;\">\n",
       "      <th></th>\n",
       "      <th>publication_link</th>\n",
       "      <th>identifier</th>\n",
       "      <th>repository</th>\n",
       "      <th>title</th>\n",
       "      <th>keywords</th>\n",
       "      <th>identifier_count</th>\n",
       "    </tr>\n",
       "  </thead>\n",
       "  <tbody>\n",
       "    <tr>\n",
       "      <th>0</th>\n",
       "      <td>http://dx.doi.org/10.1002/cam4.3825</td>\n",
       "      <td>pxd023689</td>\n",
       "      <td>PRIDE</td>\n",
       "      <td>Proteomics reveals the function reverse of MPS...</td>\n",
       "      <td>prostate CAFs, prostate cancer cells, secretomics</td>\n",
       "      <td>1</td>\n",
       "    </tr>\n",
       "    <tr>\n",
       "      <th>1</th>\n",
       "      <td>http://dx.doi.org/10.1002/cbic.202000870</td>\n",
       "      <td>pxd023060,pxd023059,pxd023056,pxd023057,pxd023058</td>\n",
       "      <td>PRIDE,PRIDE,PRIDE,PRIDE,PRIDE</td>\n",
       "      <td>Rapid and high coverage profile of human cyste...</td>\n",
       "      <td>Cysteine, FAIMS, SP3,Cysteine, FAIMS, SP3,Cyst...</td>\n",
       "      <td>5</td>\n",
       "    </tr>\n",
       "    <tr>\n",
       "      <th>2</th>\n",
       "      <td>http://dx.doi.org/10.1002/pmic.202000214</td>\n",
       "      <td>pxd020638</td>\n",
       "      <td>PRIDE</td>\n",
       "      <td>Combining label-free and label-based accurate ...</td>\n",
       "      <td>Beef meat quality, Data-Independent Acquisitio...</td>\n",
       "      <td>1</td>\n",
       "    </tr>\n",
       "    <tr>\n",
       "      <th>3</th>\n",
       "      <td>http://dx.doi.org/10.1002/pmic.202000240</td>\n",
       "      <td>pxd023907</td>\n",
       "      <td>PRIDE</td>\n",
       "      <td>Fusarium oxysporum f. sp. vasinfectum (UP00003...</td>\n",
       "      <td>cotton, fungi, fusarium oxysporum</td>\n",
       "      <td>1</td>\n",
       "    </tr>\n",
       "    <tr>\n",
       "      <th>4</th>\n",
       "      <td>http://dx.doi.org/10.1002/pmic.202100036</td>\n",
       "      <td>pxd022191</td>\n",
       "      <td>PRIDE</td>\n",
       "      <td>Spectral library for SARS-COVID proteome and i...</td>\n",
       "      <td>HLA, ProteomeXchange project tag: Covid-19, SA...</td>\n",
       "      <td>1</td>\n",
       "    </tr>\n",
       "  </tbody>\n",
       "</table>\n",
       "</div>"
      ]
     },
     "execution_count": 4,
     "metadata": {},
     "output_type": "execute_result"
    }
   ],
   "execution_count": 4
  },
  {
   "metadata": {
    "ExecuteTime": {
     "end_time": "2025-03-11T13:45:36.598199Z",
     "start_time": "2025-03-11T13:45:33.668621Z"
    }
   },
   "cell_type": "code",
   "source": [
    "# raw_data_v1.csv \\ PRIDEid_HTML_data.csv is the file containing the old data\n",
    "try:\n",
    "    df_old = pd.read_parquet(input_file)\n",
    "    \n",
    "    if \"publication\" in df_old.columns:\n",
    "        df_old.set_index(\"publication\",inplace=True, drop=False) \n",
    "        \n",
    "    orchestrator.logger.info(f\"File found: {df_old.columns}\")\n",
    "    \n",
    "except FileNotFoundError:\n",
    "    df_old = pd.DataFrame(columns=['publication','dataset_uid','repo_name','raw_html','smallest_elements'])\n",
    "\n",
    "    orchestrator.logger.info(\"File not found\")"
   ],
   "id": "8b0796baf29ce93d",
   "outputs": [
    {
     "name": "stderr",
     "output_type": "stream",
     "text": [
      "3871908856.py - line 8 - INFO - File found: Index(['fetch_from', 'dataset_uid', 'repo_name', 'doi', 'raw_html',\n",
      "       'publisher', 'smallest_elements', 'title', 'keywords', 'publication'],\n",
      "      dtype='object')\n"
     ]
    }
   ],
   "execution_count": 5
  },
  {
   "metadata": {
    "ExecuteTime": {
     "end_time": "2025-03-11T13:45:36.605319Z",
     "start_time": "2025-03-11T13:45:36.599339Z"
    }
   },
   "cell_type": "code",
   "source": [
    "# count distinct values in dataset_uids\n",
    "flat_list = [item for sublist in df_old['dataset_uid'].dropna().str.split(',') for item in sublist]\n",
    "n_datasets = len(set(flat_list))\n",
    "print(f\"# of Datasets already added: {n_datasets}\")\n",
    "print(f\"# of Publications already added: {len(df_old)}\")"
   ],
   "id": "9ca3153217696ffd",
   "outputs": [
    {
     "name": "stdout",
     "output_type": "stream",
     "text": [
      "# of Datasets already added: 1505\n",
      "# of Publications already added: 2154\n"
     ]
    }
   ],
   "execution_count": 6
  },
  {
   "metadata": {
    "ExecuteTime": {
     "end_time": "2025-03-11T13:45:36.610348Z",
     "start_time": "2025-03-11T13:45:36.606676Z"
    }
   },
   "cell_type": "code",
   "source": [
    "def extract_all_elements_with_UID(source_html, uid):\n",
    "    orchestrator.logger.info(f\"Extracting elements with UID: {uid}\")\n",
    "    \n",
    "    soup = BeautifulSoup(source_html, \"html.parser\")\n",
    "    \n",
    "    matching_elements = []\n",
    "    \n",
    "    for p in soup.find_all([\"table\",\"p\"]):  # Find only <p> elements\n",
    "        text = p.get_text(strip=True)\n",
    "        \n",
    "        if re.search(uid, text, re.IGNORECASE):  # Check if UID is in the text\n",
    "            matching_elements.append((str(p), len(text)))  # Store element and length\n",
    "\n",
    "    # If multiple matches, return the **smallest** one\n",
    "    if matching_elements:\n",
    "        # smallest_p, _ = min(matching_elements, key=lambda x: x[1])  # Find smallest\n",
    "        return matching_elements  # Pretty-print the raw HTML for debugging # smallest_p\n",
    "    \n",
    "    return [None]  # No match found"
   ],
   "id": "44e65d9d0b0dd655",
   "outputs": [],
   "execution_count": 7
  },
  {
   "metadata": {
    "ExecuteTime": {
     "end_time": "2025-03-11T13:45:36.614956Z",
     "start_time": "2025-03-11T13:45:36.611279Z"
    }
   },
   "cell_type": "code",
   "source": [
    "def add_example_to_merged_df(row, raw_html):\n",
    "    # handle uid also when comma-separated, then split and extract smallest element\n",
    "    if 'identifier' in row:\n",
    "        uid = row['identifier']\n",
    "    elif 'dataset_uid' in row:\n",
    "        uid = row['dataset_uid']\n",
    "    if ',' in uid:\n",
    "        uids = uid.split(',')\n",
    "        elements = []\n",
    "        for uid in uids:\n",
    "            elm_i = extract_all_elements_with_UID(raw_html, uid)\n",
    "            if elm_i in elements: # no dupes\n",
    "                continue\n",
    "            else:\n",
    "                elements.append(elm_i)\n",
    "        return elements\n",
    "    else:\n",
    "        return extract_all_elements_with_UID(raw_html, uid)\n"
   ],
   "id": "16e85d7ced60e9f0",
   "outputs": [],
   "execution_count": 8
  },
  {
   "metadata": {
    "ExecuteTime": {
     "end_time": "2025-03-11T13:47:01.790550Z",
     "start_time": "2025-03-11T13:45:36.616117Z"
    }
   },
   "cell_type": "code",
   "source": [
    "data = []\n",
    "\n",
    "iter_max = 2155\n",
    "\n",
    "t0 = time.time()\n",
    "\n",
    "for i,row in df_ground_truth_src[2154:].iterrows():\n",
    "            \n",
    "    id = row['identifier']\n",
    "    link = row['publication_link']\n",
    "    \n",
    "    if link in df_old['publication']:\n",
    "        orchestrator.logger.info(f\"Skipping publication {url} as it is already in the data\")\n",
    "        continue\n",
    "    \n",
    "    if i >= iter_max:\n",
    "        break\n",
    "        \n",
    "    if i%100 == 0 and i>0:\n",
    "        orchestrator.logger.info(f\"Progress {i+1}/{len(df_ground_truth_src)}. ETA {((time.time()-t0)/(i+1))*(len(df_ground_truth_src)-i-1)}\")\n",
    "                \n",
    "    driver = orchestrator.setup_data_fetcher()\n",
    "    url = row['publication_link'].lower()\n",
    "    orchestrator.logger.info(f\"Processing URL: {url}\")\n",
    "    \n",
    "    adjusted_url_for_fetch = url\n",
    "    \n",
    "    orchestrator.data_fetcher = orchestrator.data_fetcher.update_DataFetcher_settings(url, orchestrator.full_DOM, orchestrator.logger)\n",
    "        \n",
    "    try:\n",
    "        #orchestrator.logger.info(\"Fetching Raw content\")\n",
    "        raw_data = orchestrator.data_fetcher.fetch_data(url)\n",
    "        doi = orchestrator.data_fetcher.convert_url_to_doi(url)\n",
    "            \n",
    "        orchestrator.logger.info(f\"Data fetching from actual URL: {orchestrator.data_fetcher.scraper_tool.current_url}\")\n",
    "        orchestrator.publisher = orchestrator.data_fetcher.url_to_publisher_domain(orchestrator.data_fetcher.scraper_tool.current_url)\n",
    "            \n",
    "        if orchestrator.publisher == \"biorxiv\":\n",
    "            adjusted_url_for_fetch = orchestrator.data_fetcher.scraper_tool.current_url + \".full\"\n",
    "            raw_data = orchestrator.data_fetcher.fetch_data(adjusted_url_for_fetch)\n",
    "                \n",
    "        elif orchestrator.publisher == \"pubmed\":\n",
    "            PMC_ID = orchestrator.data_fetcher.get_PMCID_from_pubmed_html(raw_data)\n",
    "            if PMC_ID is not None:\n",
    "                adjusted_url_for_fetch = orchestrator.data_fetcher.reconstruct_PMC_link(PMC_ID)\n",
    "                raw_data = orchestrator.data_fetcher.fetch_data(adjusted_url_for_fetch)\n",
    "\n",
    "        if re.search(id, raw_data, re.IGNORECASE):\n",
    "            example = add_example_to_merged_df(row, raw_data)\n",
    "            orchestrator.logger.info(f\"Example: {example}\")\n",
    "                \n",
    "            data.append({\"publication\": url, \"fetch_from\" : adjusted_url_for_fetch.lower(), \"doi\": doi, \"publisher\":orchestrator.publisher,\n",
    "                         \"dataset_uid\": id, \"repo_name\": row['repository'], \"raw_html\": raw_data, \"smallest_elements\": example, \"title\" : row['title'],\n",
    "                         \"keywords\" : row['keywords']})\n",
    "            orchestrator.logger.info(f\"Data appended for {url}\")\n",
    "            if orchestrator.config['search_method'] != 'cloudscraper':\n",
    "                driver.quit()     \n",
    "            continue\n",
    "            \n",
    "        else:\n",
    "            orchestrator.logger.info(\"id not found in raw data\")\n",
    "            data.append({\"publication\": url, \"fetch_from\" : adjusted_url_for_fetch.lower(), \"doi\": doi, \"publisher\":orchestrator.publisher,\n",
    "                         \"dataset_uid\": id, \"repo_name\": row['repository'], \"raw_html\": raw_data, \"smallest_elements\": \"n/a\", \"title\" : row['title'],\n",
    "                         \"keywords\" : row['keywords']})   \n",
    "            if orchestrator.config['search_method'] != 'cloudscraper':\n",
    "                driver.quit()\n",
    "            continue\n",
    "                \n",
    "    except Exception as e:\n",
    "        orchestrator.logger.error(f\"Error processing URL {url}: {e}\", exc_info=True)\n",
    "    \n",
    "    # get time in a nice format like hh:mm:ss\n",
    "    time_elapsed = time.strftime('%H:%M:%S', time.gmtime(time.time()-t0))\n",
    "    orchestrator.logger.info(f\"Finished processing URL {i+1}.\\nTime elapsed: {time_elapsed}\")\n",
    "\n",
    "print(f\"Time elapsed for {i-len(df_old)} iterations: {time.strftime('%H:%M:%S', time.gmtime(time.time() - t0))}\")"
   ],
   "id": "749a6cf1e6facd65",
   "outputs": [
    {
     "name": "stderr",
     "output_type": "stream",
     "text": [
      "orchestrator.py - line 50 - INFO - Data fetcher setup completed.\n",
      "2694105563.py - line 24 - INFO - Processing URL: http://www.ncbi.nlm.nih.gov/pubmed/31521194\n",
      "data_fetcher.py - line 71 - INFO - Non-API URL detected, or API unsupported. Webscraper update\n",
      "2694105563.py - line 35 - INFO - Data fetching from actual URL: https://pubmed.ncbi.nlm.nih.gov/31521194/\n",
      "data_fetcher.py - line 31 - INFO - Publisher: pubmed\n",
      "data_fetcher.py - line 208 - INFO - PMCID: PMC6745076\n",
      "385839148.py - line 2 - INFO - Extracting elements with UID: pxd013451\n",
      "2694105563.py - line 50 - INFO - Example: [('<p>The data that support the findings of this paper are available in the published article and its additional files as well as in publically available data repositories. The explorative mass spectrometry proteomics data have been deposited to the ProteomeXchange Consortium via the PRIDE [<a aria-describedby=\"CR126\" aria-expanded=\"false\" class=\"usa-link\" href=\"#CR126\">126</a>] partner repository with the dataset identifier PXD012851 (<a class=\"usa-link usa-link--external\" data-ga-action=\"click_feat_suppl\" href=\"http://proteomecentral.proteomexchange.org/cgi/GetDataset?ID=PXD012851\" rel=\"noopener noreferrer\" target=\"_blank\">http://proteomecentral.proteomexchange.org/cgi/GetDataset?ID=PXD012851</a>). Quantitative data have received the dataset identifier PXD013451 (<a class=\"usa-link usa-link--external\" data-ga-action=\"click_feat_suppl\" href=\"http://proteomecentral.proteomexchange.org/cgi/GetDataset?ID=PXD013451\" rel=\"noopener noreferrer\" target=\"_blank\">http://proteomecentral.proteomexchange.org/cgi/GetDataset?ID=PXD013451</a>) and been made available at Panorama Public [<a aria-describedby=\"CR127\" aria-expanded=\"false\" class=\"usa-link\" href=\"#CR127\">127</a>] (<a class=\"usa-link usa-link--external\" data-ga-action=\"click_feat_suppl\" href=\"https://panoramaweb.org/PRM-MS_EndoLys_ADPD.url\" rel=\"noopener noreferrer\" target=\"_blank\">https://panoramaweb.org/PRM-MS_EndoLys_ADPD.url</a>).</p>', 659), ('<p>The data that support the findings of this paper are available in the published article and its additional files as well as in publically available data repositories. The explorative mass spectrometry proteomics data have been deposited to the ProteomeXchange Consortium via the PRIDE [<a aria-describedby=\"CR126\" aria-expanded=\"false\" class=\"usa-link\" href=\"#CR126\">126</a>] partner repository with the dataset identifier PXD012851 (<a class=\"usa-link usa-link--external\" data-ga-action=\"click_feat_suppl\" href=\"http://proteomecentral.proteomexchange.org/cgi/GetDataset?ID=PXD012851\" rel=\"noopener noreferrer\" target=\"_blank\">http://proteomecentral.proteomexchange.org/cgi/GetDataset?ID=PXD012851</a>). Quantitative data have received the dataset identifier PXD013451 (<a class=\"usa-link usa-link--external\" data-ga-action=\"click_feat_suppl\" href=\"http://proteomecentral.proteomexchange.org/cgi/GetDataset?ID=PXD013451\" rel=\"noopener noreferrer\" target=\"_blank\">http://proteomecentral.proteomexchange.org/cgi/GetDataset?ID=PXD013451</a>) and been made available at Panorama Public [<a aria-describedby=\"CR127\" aria-expanded=\"false\" class=\"usa-link\" href=\"#CR127\">127</a>] (<a class=\"usa-link usa-link--external\" data-ga-action=\"click_feat_suppl\" href=\"https://panoramaweb.org/PRM-MS_EndoLys_ADPD.url\" rel=\"noopener noreferrer\" target=\"_blank\">https://panoramaweb.org/PRM-MS_EndoLys_ADPD.url</a>).</p>', 659)]\n",
      "2694105563.py - line 55 - INFO - Data appended for http://www.ncbi.nlm.nih.gov/pubmed/31521194\n"
     ]
    },
    {
     "name": "stdout",
     "output_type": "stream",
     "text": [
      "Time elapsed for 1 iterations: 00:01:25\n"
     ]
    }
   ],
   "execution_count": 9
  },
  {
   "metadata": {
    "ExecuteTime": {
     "end_time": "2025-03-11T13:47:01.803434Z",
     "start_time": "2025-03-11T13:47:01.793685Z"
    }
   },
   "cell_type": "code",
   "source": [
    "df = pd.DataFrame(data)\n",
    "if 'publication' in df.columns:  \n",
    "    df.set_index(\"publication\",inplace=True, drop=False)\n",
    " \n",
    "if \"smallest_elements\" in df.columns:    \n",
    "    df[\"smallest_elements\"] = df[\"smallest_elements\"].apply(\n",
    "        lambda x: json.dumps(x) if isinstance(x, list) else (x if isinstance(x, str) else json.dumps([]))\n",
    "    )\n",
    "    \n",
    "df.loc['http://www.ncbi.nlm.nih.gov/pubmed/31521194']"
   ],
   "id": "109b1674b84aec54",
   "outputs": [
    {
     "data": {
      "text/plain": [
       "publication                http://www.ncbi.nlm.nih.gov/pubmed/31521194\n",
       "fetch_from           https://www.ncbi.nlm.nih.gov/pmc/articles/pmc6...\n",
       "doi                                                               None\n",
       "publisher                                                       pubmed\n",
       "dataset_uid                                                  pxd013451\n",
       "repo_name                                               PanoramaPublic\n",
       "raw_html             <html lang=\"en\" class=\"\"><head>\\n\\n        <me...\n",
       "smallest_elements    [[\"<p>The data that support the findings of th...\n",
       "title                Endo-Lysosomal Proteins and Ubiquitin CSF Conc...\n",
       "keywords             Alzheimerâ€™s disease, Biomarker, CSF, Parkins...\n",
       "Name: http://www.ncbi.nlm.nih.gov/pubmed/31521194, dtype: object"
      ]
     },
     "execution_count": 10,
     "metadata": {},
     "output_type": "execute_result"
    }
   ],
   "execution_count": 10
  },
  {
   "metadata": {
    "ExecuteTime": {
     "end_time": "2025-03-11T13:47:12.787289Z",
     "start_time": "2025-03-11T13:47:01.804422Z"
    }
   },
   "cell_type": "code",
   "source": [
    "if os.path.exists(input_file):\n",
    "    df_old = pd.read_parquet(input_file)\n",
    "    #orchestrator.logger.info(f\"Old data: {df_old.dtypes}\")\n",
    "    if \"publication\" in df_old.columns:\n",
    "        orchestrator.logger.debug(f\"Old data: {df_old.head()}\")\n",
    "        df_old.set_index(\"publication\",inplace=True, drop=False)\n",
    "    orchestrator.logger.info(df_old.shape)\n",
    "    # append rows to the existing file\n",
    "    #orchestrator.logger.info(f\"Current data: {df.dtypes}\")\n",
    "    df['keywords'] = df['keywords'].astype(str).fillna('')\n",
    "    df_old['keywords'] = df_old['keywords'].astype(str).fillna('')\n",
    "    df_new = pd.concat([df_old,df], ignore_index=True)\n",
    "    df_new.to_parquet(output_file)\n",
    "    orchestrator.logger.debug(f\"Data appended to {output_file}\")\n",
    "else:\n",
    "    df.to_parquet(output_file)\n",
    "    orchestrator.logger.info(f\"Data written to new file {output_file}\")\n",
    "    df_new = df"
   ],
   "id": "66b46bebd3829d70",
   "outputs": [
    {
     "name": "stderr",
     "output_type": "stream",
     "text": [
      "1306007366.py - line 7 - INFO - (2154, 10)\n"
     ]
    }
   ],
   "execution_count": 11
  },
  {
   "metadata": {
    "ExecuteTime": {
     "end_time": "2025-03-11T13:47:12.963151Z",
     "start_time": "2025-03-11T13:47:12.796895Z"
    }
   },
   "cell_type": "code",
   "source": [
    "df_merged = (\n",
    "    df_new.reset_index()\n",
    "    .groupby('fetch_from')\n",
    "    .agg({\n",
    "        'publication': 'first',  # Keep the first publication,\n",
    "        'fetch_from': 'first',  # Keep the first fetch_from,\n",
    "        'dataset_uid': lambda x: ','.join(sorted(set(x))),  # Concatenate unique dataset_uids\n",
    "        'repo_name': lambda x: ','.join(sorted(set(x))),   # Concatenate unique repo_names\n",
    "        'doi': 'first',  # Keep the first doi,\n",
    "        'raw_html': 'first',  # Keep the first raw_html,\n",
    "        'publisher': 'first',\n",
    "        'smallest_elements': lambda x: ' | '.join(filter(None, x)),  # Remove None values and join strings\n",
    "        'title': lambda x: ','.join(sorted(set(str(val) for val in x if pd.notna(val)))),  # Convert all to str\n",
    "        'keywords': lambda x: ','.join(sorted(set(str(val) for val in x if pd.notna(val))))  # Convert all to str\n",
    "    })\n",
    ")"
   ],
   "id": "27afb2c289dcbf5",
   "outputs": [],
   "execution_count": 12
  },
  {
   "metadata": {
    "ExecuteTime": {
     "end_time": "2025-03-11T13:47:18.761327Z",
     "start_time": "2025-03-11T13:47:12.964028Z"
    }
   },
   "cell_type": "code",
   "source": "df_merged.to_parquet(output_file)",
   "id": "d76d0ff6397fb4b4",
   "outputs": [],
   "execution_count": 13
  },
  {
   "metadata": {
    "ExecuteTime": {
     "end_time": "2025-03-11T13:47:18.778705Z",
     "start_time": "2025-03-11T13:47:18.763659Z"
    }
   },
   "cell_type": "code",
   "source": [
    "orchestrator.logger.info(len(df_ground_truth_src))\n",
    "orchestrator.logger.info(f\"Length of final df {len(df_merged)}\")\n",
    "df_ground_truth_src.head()"
   ],
   "id": "34b10f2a8fbe7752",
   "outputs": [
    {
     "name": "stderr",
     "output_type": "stream",
     "text": [
      "2497774158.py - line 1 - INFO - 34879\n",
      "2497774158.py - line 2 - INFO - Length of final df 2054\n"
     ]
    },
    {
     "data": {
      "text/plain": [
       "                           publication_link  \\\n",
       "0       http://dx.doi.org/10.1002/cam4.3825   \n",
       "1  http://dx.doi.org/10.1002/cbic.202000870   \n",
       "2  http://dx.doi.org/10.1002/pmic.202000214   \n",
       "3  http://dx.doi.org/10.1002/pmic.202000240   \n",
       "4  http://dx.doi.org/10.1002/pmic.202100036   \n",
       "\n",
       "                                          identifier  \\\n",
       "0                                          pxd023689   \n",
       "1  pxd023060,pxd023059,pxd023056,pxd023057,pxd023058   \n",
       "2                                          pxd020638   \n",
       "3                                          pxd023907   \n",
       "4                                          pxd022191   \n",
       "\n",
       "                      repository  \\\n",
       "0                          PRIDE   \n",
       "1  PRIDE,PRIDE,PRIDE,PRIDE,PRIDE   \n",
       "2                          PRIDE   \n",
       "3                          PRIDE   \n",
       "4                          PRIDE   \n",
       "\n",
       "                                               title  \\\n",
       "0  Proteomics reveals the function reverse of MPS...   \n",
       "1  Rapid and high coverage profile of human cyste...   \n",
       "2  Combining label-free and label-based accurate ...   \n",
       "3  Fusarium oxysporum f. sp. vasinfectum (UP00003...   \n",
       "4  Spectral library for SARS-COVID proteome and i...   \n",
       "\n",
       "                                            keywords  identifier_count  \n",
       "0  prostate CAFs, prostate cancer cells, secretomics                 1  \n",
       "1  Cysteine, FAIMS, SP3,Cysteine, FAIMS, SP3,Cyst...                 5  \n",
       "2  Beef meat quality, Data-Independent Acquisitio...                 1  \n",
       "3                  cotton, fungi, fusarium oxysporum                 1  \n",
       "4  HLA, ProteomeXchange project tag: Covid-19, SA...                 1  "
      ],
      "text/html": [
       "<div>\n",
       "<style scoped>\n",
       "    .dataframe tbody tr th:only-of-type {\n",
       "        vertical-align: middle;\n",
       "    }\n",
       "\n",
       "    .dataframe tbody tr th {\n",
       "        vertical-align: top;\n",
       "    }\n",
       "\n",
       "    .dataframe thead th {\n",
       "        text-align: right;\n",
       "    }\n",
       "</style>\n",
       "<table border=\"1\" class=\"dataframe\">\n",
       "  <thead>\n",
       "    <tr style=\"text-align: right;\">\n",
       "      <th></th>\n",
       "      <th>publication_link</th>\n",
       "      <th>identifier</th>\n",
       "      <th>repository</th>\n",
       "      <th>title</th>\n",
       "      <th>keywords</th>\n",
       "      <th>identifier_count</th>\n",
       "    </tr>\n",
       "  </thead>\n",
       "  <tbody>\n",
       "    <tr>\n",
       "      <th>0</th>\n",
       "      <td>http://dx.doi.org/10.1002/cam4.3825</td>\n",
       "      <td>pxd023689</td>\n",
       "      <td>PRIDE</td>\n",
       "      <td>Proteomics reveals the function reverse of MPS...</td>\n",
       "      <td>prostate CAFs, prostate cancer cells, secretomics</td>\n",
       "      <td>1</td>\n",
       "    </tr>\n",
       "    <tr>\n",
       "      <th>1</th>\n",
       "      <td>http://dx.doi.org/10.1002/cbic.202000870</td>\n",
       "      <td>pxd023060,pxd023059,pxd023056,pxd023057,pxd023058</td>\n",
       "      <td>PRIDE,PRIDE,PRIDE,PRIDE,PRIDE</td>\n",
       "      <td>Rapid and high coverage profile of human cyste...</td>\n",
       "      <td>Cysteine, FAIMS, SP3,Cysteine, FAIMS, SP3,Cyst...</td>\n",
       "      <td>5</td>\n",
       "    </tr>\n",
       "    <tr>\n",
       "      <th>2</th>\n",
       "      <td>http://dx.doi.org/10.1002/pmic.202000214</td>\n",
       "      <td>pxd020638</td>\n",
       "      <td>PRIDE</td>\n",
       "      <td>Combining label-free and label-based accurate ...</td>\n",
       "      <td>Beef meat quality, Data-Independent Acquisitio...</td>\n",
       "      <td>1</td>\n",
       "    </tr>\n",
       "    <tr>\n",
       "      <th>3</th>\n",
       "      <td>http://dx.doi.org/10.1002/pmic.202000240</td>\n",
       "      <td>pxd023907</td>\n",
       "      <td>PRIDE</td>\n",
       "      <td>Fusarium oxysporum f. sp. vasinfectum (UP00003...</td>\n",
       "      <td>cotton, fungi, fusarium oxysporum</td>\n",
       "      <td>1</td>\n",
       "    </tr>\n",
       "    <tr>\n",
       "      <th>4</th>\n",
       "      <td>http://dx.doi.org/10.1002/pmic.202100036</td>\n",
       "      <td>pxd022191</td>\n",
       "      <td>PRIDE</td>\n",
       "      <td>Spectral library for SARS-COVID proteome and i...</td>\n",
       "      <td>HLA, ProteomeXchange project tag: Covid-19, SA...</td>\n",
       "      <td>1</td>\n",
       "    </tr>\n",
       "  </tbody>\n",
       "</table>\n",
       "</div>"
      ]
     },
     "execution_count": 14,
     "metadata": {},
     "output_type": "execute_result"
    }
   ],
   "execution_count": 14
  },
  {
   "metadata": {
    "ExecuteTime": {
     "end_time": "2025-03-11T13:47:18.794359Z",
     "start_time": "2025-03-11T13:47:18.779630Z"
    }
   },
   "cell_type": "code",
   "source": "df_merged[df_merged['smallest_elements'] == 'n/a'][['publisher']]",
   "id": "67e0a4869458af8",
   "outputs": [
    {
     "data": {
      "text/plain": [
       "                                                     publisher\n",
       "fetch_from                                                    \n",
       "https://dx.doi.org/10.1001/JAMANEUROL.2024.4763    jamanetwork\n",
       "https://dx.doi.org/10.1002/ADVS.202407572        onlinelibrary\n",
       "https://dx.doi.org/10.1002/cpt.3409              onlinelibrary\n",
       "https://dx.doi.org/10.1002/ejp.1909                      wiley\n",
       "https://dx.doi.org/10.1007/S00586-021-06826-Z         springer\n",
       "...                                                        ...\n",
       "https://www.ncbi.nlm.nih.gov/pubmed/39841590            pubmed\n",
       "https://www.ncbi.nlm.nih.gov/pubmed/39855199            pubmed\n",
       "https://www.ncbi.nlm.nih.gov/pubmed/39870302            pubmed\n",
       "https://www.ncbi.nlm.nih.gov/pubmed/39884247            pubmed\n",
       "https://www.ncbi.nlm.nih.gov/pubmed/39912552            pubmed\n",
       "\n",
       "[731 rows x 1 columns]"
      ],
      "text/html": [
       "<div>\n",
       "<style scoped>\n",
       "    .dataframe tbody tr th:only-of-type {\n",
       "        vertical-align: middle;\n",
       "    }\n",
       "\n",
       "    .dataframe tbody tr th {\n",
       "        vertical-align: top;\n",
       "    }\n",
       "\n",
       "    .dataframe thead th {\n",
       "        text-align: right;\n",
       "    }\n",
       "</style>\n",
       "<table border=\"1\" class=\"dataframe\">\n",
       "  <thead>\n",
       "    <tr style=\"text-align: right;\">\n",
       "      <th></th>\n",
       "      <th>publisher</th>\n",
       "    </tr>\n",
       "    <tr>\n",
       "      <th>fetch_from</th>\n",
       "      <th></th>\n",
       "    </tr>\n",
       "  </thead>\n",
       "  <tbody>\n",
       "    <tr>\n",
       "      <th>https://dx.doi.org/10.1001/JAMANEUROL.2024.4763</th>\n",
       "      <td>jamanetwork</td>\n",
       "    </tr>\n",
       "    <tr>\n",
       "      <th>https://dx.doi.org/10.1002/ADVS.202407572</th>\n",
       "      <td>onlinelibrary</td>\n",
       "    </tr>\n",
       "    <tr>\n",
       "      <th>https://dx.doi.org/10.1002/cpt.3409</th>\n",
       "      <td>onlinelibrary</td>\n",
       "    </tr>\n",
       "    <tr>\n",
       "      <th>https://dx.doi.org/10.1002/ejp.1909</th>\n",
       "      <td>wiley</td>\n",
       "    </tr>\n",
       "    <tr>\n",
       "      <th>https://dx.doi.org/10.1007/S00586-021-06826-Z</th>\n",
       "      <td>springer</td>\n",
       "    </tr>\n",
       "    <tr>\n",
       "      <th>...</th>\n",
       "      <td>...</td>\n",
       "    </tr>\n",
       "    <tr>\n",
       "      <th>https://www.ncbi.nlm.nih.gov/pubmed/39841590</th>\n",
       "      <td>pubmed</td>\n",
       "    </tr>\n",
       "    <tr>\n",
       "      <th>https://www.ncbi.nlm.nih.gov/pubmed/39855199</th>\n",
       "      <td>pubmed</td>\n",
       "    </tr>\n",
       "    <tr>\n",
       "      <th>https://www.ncbi.nlm.nih.gov/pubmed/39870302</th>\n",
       "      <td>pubmed</td>\n",
       "    </tr>\n",
       "    <tr>\n",
       "      <th>https://www.ncbi.nlm.nih.gov/pubmed/39884247</th>\n",
       "      <td>pubmed</td>\n",
       "    </tr>\n",
       "    <tr>\n",
       "      <th>https://www.ncbi.nlm.nih.gov/pubmed/39912552</th>\n",
       "      <td>pubmed</td>\n",
       "    </tr>\n",
       "  </tbody>\n",
       "</table>\n",
       "<p>731 rows × 1 columns</p>\n",
       "</div>"
      ]
     },
     "execution_count": 15,
     "metadata": {},
     "output_type": "execute_result"
    }
   ],
   "execution_count": 15
  },
  {
   "metadata": {
    "ExecuteTime": {
     "end_time": "2025-03-11T13:47:24.486016Z",
     "start_time": "2025-03-11T13:47:18.795363Z"
    }
   },
   "cell_type": "code",
   "source": [
    "# df_merged.to_parquet(output_file)\n",
    "# df_merged.head()\n",
    "\n",
    "def safe_convert(x):\n",
    "    if isinstance(x, list):\n",
    "        # Convert list elements to strings, handle None values\n",
    "        return '|'.join(str(item) for item in x if item is not None)\n",
    "    elif x is None:\n",
    "        return ''  # Convert None to an empty string\n",
    "    else:\n",
    "        return str(x)  # Ensure non-list values are strings\n",
    "\n",
    "df_merged['smallest_elements'] = df_merged['smallest_elements'].apply(safe_convert)\n",
    "\n",
    "# Save to Parquet\n",
    "df_merged.to_parquet(output_file)"
   ],
   "id": "f27b18e4809d1f18",
   "outputs": [],
   "execution_count": 16
  },
  {
   "metadata": {
    "ExecuteTime": {
     "end_time": "2025-03-11T13:47:27.022154Z",
     "start_time": "2025-03-11T13:47:24.488089Z"
    }
   },
   "cell_type": "code",
   "source": "df_merged = pd.read_parquet(output_file)",
   "id": "f2089a0ac823a98d",
   "outputs": [],
   "execution_count": 17
  },
  {
   "metadata": {
    "ExecuteTime": {
     "end_time": "2025-03-11T13:47:27.050356Z",
     "start_time": "2025-03-11T13:47:27.023092Z"
    }
   },
   "cell_type": "code",
   "source": [
    "df_merged['fetch_from'] = df_merged['fetch_from'].str.lower()\n",
    "df_merged['dataset_uid'] = df_merged['dataset_uid'].str.lower()\n",
    "df_merged.head()"
   ],
   "id": "4b9139c900ce11e0",
   "outputs": [
    {
     "data": {
      "text/plain": [
       "                                                                                     publication  \\\n",
       "fetch_from                                                                                         \n",
       "https://dx.doi.org/10.1001/JAMANEUROL.2024.4763  https://dx.doi.org/10.1001/JAMANEUROL.2024.4763   \n",
       "https://dx.doi.org/10.1002/1873-3468.15092            https://dx.doi.org/10.1002/1873-3468.15092   \n",
       "https://dx.doi.org/10.1002/1878-0261.13654            https://dx.doi.org/10.1002/1878-0261.13654   \n",
       "https://dx.doi.org/10.1002/1878-0261.13733            https://dx.doi.org/10.1002/1878-0261.13733   \n",
       "https://dx.doi.org/10.1002/ADHM.202404465              https://dx.doi.org/10.1002/ADHM.202404465   \n",
       "\n",
       "                                                                                      fetch_from  \\\n",
       "fetch_from                                                                                         \n",
       "https://dx.doi.org/10.1001/JAMANEUROL.2024.4763  https://dx.doi.org/10.1001/jamaneurol.2024.4763   \n",
       "https://dx.doi.org/10.1002/1873-3468.15092            https://dx.doi.org/10.1002/1873-3468.15092   \n",
       "https://dx.doi.org/10.1002/1878-0261.13654            https://dx.doi.org/10.1002/1878-0261.13654   \n",
       "https://dx.doi.org/10.1002/1878-0261.13733            https://dx.doi.org/10.1002/1878-0261.13733   \n",
       "https://dx.doi.org/10.1002/ADHM.202404465              https://dx.doi.org/10.1002/adhm.202404465   \n",
       "\n",
       "                                                dataset_uid repo_name  \\\n",
       "fetch_from                                                              \n",
       "https://dx.doi.org/10.1001/JAMANEUROL.2024.4763   pxd056570     PRIDE   \n",
       "https://dx.doi.org/10.1002/1873-3468.15092        pxd057199     PRIDE   \n",
       "https://dx.doi.org/10.1002/1878-0261.13654        pxd048538     PRIDE   \n",
       "https://dx.doi.org/10.1002/1878-0261.13733        pxd054727     PRIDE   \n",
       "https://dx.doi.org/10.1002/ADHM.202404465         pxd052728     PRIDE   \n",
       "\n",
       "                                                                          doi  \\\n",
       "fetch_from                                                                      \n",
       "https://dx.doi.org/10.1001/JAMANEUROL.2024.4763  10.1001/jamaneurol.2024.4763   \n",
       "https://dx.doi.org/10.1002/1873-3468.15092            10.1002/1873-3468.15092   \n",
       "https://dx.doi.org/10.1002/1878-0261.13654            10.1002/1878-0261.13654   \n",
       "https://dx.doi.org/10.1002/1878-0261.13733            10.1002/1878-0261.13733   \n",
       "https://dx.doi.org/10.1002/ADHM.202404465              10.1002/adhm.202404465   \n",
       "\n",
       "                                                                                          raw_html  \\\n",
       "fetch_from                                                                                           \n",
       "https://dx.doi.org/10.1001/JAMANEUROL.2024.4763  <html id=\"doc\" lang=\"en\" class=\"page-article j...   \n",
       "https://dx.doi.org/10.1002/1873-3468.15092       <html lang=\"en\" class=\"pb-page\" data-request-i...   \n",
       "https://dx.doi.org/10.1002/1878-0261.13654       <html lang=\"en\" class=\"pb-page\" data-request-i...   \n",
       "https://dx.doi.org/10.1002/1878-0261.13733       <html lang=\"en\" class=\"pb-page\" data-request-i...   \n",
       "https://dx.doi.org/10.1002/ADHM.202404465        <html lang=\"en\" class=\"pb-page\" data-request-i...   \n",
       "\n",
       "                                                     publisher  \\\n",
       "fetch_from                                                       \n",
       "https://dx.doi.org/10.1001/JAMANEUROL.2024.4763    jamanetwork   \n",
       "https://dx.doi.org/10.1002/1873-3468.15092       onlinelibrary   \n",
       "https://dx.doi.org/10.1002/1878-0261.13654       onlinelibrary   \n",
       "https://dx.doi.org/10.1002/1878-0261.13733       onlinelibrary   \n",
       "https://dx.doi.org/10.1002/ADHM.202404465        onlinelibrary   \n",
       "\n",
       "                                                                                 smallest_elements  \\\n",
       "fetch_from                                                                                           \n",
       "https://dx.doi.org/10.1001/JAMANEUROL.2024.4763                                                n/a   \n",
       "https://dx.doi.org/10.1002/1873-3468.15092       [[\"<p>The COPASI files (.cps) for the model an...   \n",
       "https://dx.doi.org/10.1002/1878-0261.13654       [[\"<p>The MS proteomics data are available at ...   \n",
       "https://dx.doi.org/10.1002/1878-0261.13733       [[\"<p>Proteomics data generated during this st...   \n",
       "https://dx.doi.org/10.1002/ADHM.202404465        [[\"<p>The mass spectrometry proteomics data ha...   \n",
       "\n",
       "                                                                                             title  \\\n",
       "fetch_from                                                                                           \n",
       "https://dx.doi.org/10.1001/JAMANEUROL.2024.4763  Characterization of A Novel Mengingoencephalom...   \n",
       "https://dx.doi.org/10.1002/1873-3468.15092       Homeoviscous adaptation to exogenous fatty aci...   \n",
       "https://dx.doi.org/10.1002/1878-0261.13654       LC-MSMS based (phospho)proteomics on gastric c...   \n",
       "https://dx.doi.org/10.1002/1878-0261.13733       E-selectin Affinity Glycoproteomics Reveals Ne...   \n",
       "https://dx.doi.org/10.1002/ADHM.202404465        in vivo-like scaffold-free 3D in vitro Models ...   \n",
       "\n",
       "                                                                                          keywords  \n",
       "fetch_from                                                                                          \n",
       "https://dx.doi.org/10.1001/JAMANEUROL.2024.4763           Mengingoencephalomyelitis Autoantibodies  \n",
       "https://dx.doi.org/10.1002/1873-3468.15092       Escherichia coli, acyl carrier protein, exogen...  \n",
       "https://dx.doi.org/10.1002/1878-0261.13654       gastric cancer, phosphoproteomics, tyrosine ph...  \n",
       "https://dx.doi.org/10.1002/1878-0261.13733       E-selectin, cancer glycoproteome, colorectal c...  \n",
       "https://dx.doi.org/10.1002/ADHM.202404465        Cell sheet engineering, Drug treatment, Dystro...  "
      ],
      "text/html": [
       "<div>\n",
       "<style scoped>\n",
       "    .dataframe tbody tr th:only-of-type {\n",
       "        vertical-align: middle;\n",
       "    }\n",
       "\n",
       "    .dataframe tbody tr th {\n",
       "        vertical-align: top;\n",
       "    }\n",
       "\n",
       "    .dataframe thead th {\n",
       "        text-align: right;\n",
       "    }\n",
       "</style>\n",
       "<table border=\"1\" class=\"dataframe\">\n",
       "  <thead>\n",
       "    <tr style=\"text-align: right;\">\n",
       "      <th></th>\n",
       "      <th>publication</th>\n",
       "      <th>fetch_from</th>\n",
       "      <th>dataset_uid</th>\n",
       "      <th>repo_name</th>\n",
       "      <th>doi</th>\n",
       "      <th>raw_html</th>\n",
       "      <th>publisher</th>\n",
       "      <th>smallest_elements</th>\n",
       "      <th>title</th>\n",
       "      <th>keywords</th>\n",
       "    </tr>\n",
       "    <tr>\n",
       "      <th>fetch_from</th>\n",
       "      <th></th>\n",
       "      <th></th>\n",
       "      <th></th>\n",
       "      <th></th>\n",
       "      <th></th>\n",
       "      <th></th>\n",
       "      <th></th>\n",
       "      <th></th>\n",
       "      <th></th>\n",
       "      <th></th>\n",
       "    </tr>\n",
       "  </thead>\n",
       "  <tbody>\n",
       "    <tr>\n",
       "      <th>https://dx.doi.org/10.1001/JAMANEUROL.2024.4763</th>\n",
       "      <td>https://dx.doi.org/10.1001/JAMANEUROL.2024.4763</td>\n",
       "      <td>https://dx.doi.org/10.1001/jamaneurol.2024.4763</td>\n",
       "      <td>pxd056570</td>\n",
       "      <td>PRIDE</td>\n",
       "      <td>10.1001/jamaneurol.2024.4763</td>\n",
       "      <td>&lt;html id=\"doc\" lang=\"en\" class=\"page-article j...</td>\n",
       "      <td>jamanetwork</td>\n",
       "      <td>n/a</td>\n",
       "      <td>Characterization of A Novel Mengingoencephalom...</td>\n",
       "      <td>Mengingoencephalomyelitis Autoantibodies</td>\n",
       "    </tr>\n",
       "    <tr>\n",
       "      <th>https://dx.doi.org/10.1002/1873-3468.15092</th>\n",
       "      <td>https://dx.doi.org/10.1002/1873-3468.15092</td>\n",
       "      <td>https://dx.doi.org/10.1002/1873-3468.15092</td>\n",
       "      <td>pxd057199</td>\n",
       "      <td>PRIDE</td>\n",
       "      <td>10.1002/1873-3468.15092</td>\n",
       "      <td>&lt;html lang=\"en\" class=\"pb-page\" data-request-i...</td>\n",
       "      <td>onlinelibrary</td>\n",
       "      <td>[[\"&lt;p&gt;The COPASI files (.cps) for the model an...</td>\n",
       "      <td>Homeoviscous adaptation to exogenous fatty aci...</td>\n",
       "      <td>Escherichia coli, acyl carrier protein, exogen...</td>\n",
       "    </tr>\n",
       "    <tr>\n",
       "      <th>https://dx.doi.org/10.1002/1878-0261.13654</th>\n",
       "      <td>https://dx.doi.org/10.1002/1878-0261.13654</td>\n",
       "      <td>https://dx.doi.org/10.1002/1878-0261.13654</td>\n",
       "      <td>pxd048538</td>\n",
       "      <td>PRIDE</td>\n",
       "      <td>10.1002/1878-0261.13654</td>\n",
       "      <td>&lt;html lang=\"en\" class=\"pb-page\" data-request-i...</td>\n",
       "      <td>onlinelibrary</td>\n",
       "      <td>[[\"&lt;p&gt;The MS proteomics data are available at ...</td>\n",
       "      <td>LC-MSMS based (phospho)proteomics on gastric c...</td>\n",
       "      <td>gastric cancer, phosphoproteomics, tyrosine ph...</td>\n",
       "    </tr>\n",
       "    <tr>\n",
       "      <th>https://dx.doi.org/10.1002/1878-0261.13733</th>\n",
       "      <td>https://dx.doi.org/10.1002/1878-0261.13733</td>\n",
       "      <td>https://dx.doi.org/10.1002/1878-0261.13733</td>\n",
       "      <td>pxd054727</td>\n",
       "      <td>PRIDE</td>\n",
       "      <td>10.1002/1878-0261.13733</td>\n",
       "      <td>&lt;html lang=\"en\" class=\"pb-page\" data-request-i...</td>\n",
       "      <td>onlinelibrary</td>\n",
       "      <td>[[\"&lt;p&gt;Proteomics data generated during this st...</td>\n",
       "      <td>E-selectin Affinity Glycoproteomics Reveals Ne...</td>\n",
       "      <td>E-selectin, cancer glycoproteome, colorectal c...</td>\n",
       "    </tr>\n",
       "    <tr>\n",
       "      <th>https://dx.doi.org/10.1002/ADHM.202404465</th>\n",
       "      <td>https://dx.doi.org/10.1002/ADHM.202404465</td>\n",
       "      <td>https://dx.doi.org/10.1002/adhm.202404465</td>\n",
       "      <td>pxd052728</td>\n",
       "      <td>PRIDE</td>\n",
       "      <td>10.1002/adhm.202404465</td>\n",
       "      <td>&lt;html lang=\"en\" class=\"pb-page\" data-request-i...</td>\n",
       "      <td>onlinelibrary</td>\n",
       "      <td>[[\"&lt;p&gt;The mass spectrometry proteomics data ha...</td>\n",
       "      <td>in vivo-like scaffold-free 3D in vitro Models ...</td>\n",
       "      <td>Cell sheet engineering, Drug treatment, Dystro...</td>\n",
       "    </tr>\n",
       "  </tbody>\n",
       "</table>\n",
       "</div>"
      ]
     },
     "execution_count": 18,
     "metadata": {},
     "output_type": "execute_result"
    }
   ],
   "execution_count": 18
  },
  {
   "metadata": {
    "ExecuteTime": {
     "end_time": "2025-03-11T13:47:30.822156Z",
     "start_time": "2025-03-11T13:47:27.051324Z"
    }
   },
   "cell_type": "code",
   "source": [
    "# let's run a quick check\n",
    "ok, not_ok = 0,0 \n",
    "iteration = 0\n",
    "\n",
    "for pub,row in df_merged.iterrows():\n",
    "    iteration+=1\n",
    "    pub = pub.lower()\n",
    "    ids = set(sorted(row['dataset_uid'].split(',')))\n",
    "    orchestrator.logger.debug(f\"Publication URL: {pub}, uids: {ids}\")\n",
    "    \n",
    "    if iteration%(len(df_merged)//20)==0:\n",
    "        orchestrator.logger.debug(f\"Progress {iteration}/{len(df_merged)}\")\n",
    "\n",
    "    if row['publisher'] == 'pubmed':\n",
    "        pub = row['publication']\n",
    "    \n",
    "    if row['publisher'] == 'biorxiv':\n",
    "        pub = row['publication']\n",
    "    \n",
    "    matching_ids = df_ground_truth_src[df_ground_truth_src['publication_link'] == pub]['identifier'].values\n",
    "    orchestrator.logger.debug(f\"Matching row: {matching_ids}\")\n",
    "    \n",
    "    ground_truth = set(','.join(sorted(matching_ids)).split(','))\n",
    "                    \n",
    "    # set comparison\n",
    "    if ground_truth == ids:\n",
    "        ok+=1\n",
    "        \n",
    "    else:\n",
    "        not_ok+=1\n",
    "        orchestrator.logger.info(f\"Publication URL: {pub}\")\n",
    "        orchestrator.logger.info(f\"Value found in source data: {ground_truth}\")\n",
    "        orchestrator.logger.info(f\"Value found in merged data: {ids}\")\n",
    "        #raise ValueError(f\"ERROR: Count mismatch for {pub}\")\n",
    "        \n",
    "        update_value=','.join(ground_truth)\n",
    "        orchestrator.logger.info(f\"matching_ids: {update_value}\")\n",
    "        df_merged.at[pub,'dataset_uid'] = update_value\n",
    "    \n",
    "    \n",
    "orchestrator.logger.info(f\"Check completed. {ok} publications good. {not_ok} errors found.\")"
   ],
   "id": "25f3431d6e5ace1f",
   "outputs": [
    {
     "name": "stderr",
     "output_type": "stream",
     "text": [
      "2304522645.py - line 31 - INFO - Publication URL: https://dx.doi.org/10.1016/j.cub.2023.07.068\n",
      "2304522645.py - line 32 - INFO - Value found in source data: {'pxd038903', 'pxd038907', 'pxd042084'}\n",
      "2304522645.py - line 33 - INFO - Value found in merged data: {'pxd038903', 'pxd042084'}\n",
      "2304522645.py - line 37 - INFO - matching_ids: pxd038903,pxd038907,pxd042084\n",
      "2304522645.py - line 31 - INFO - Publication URL: https://dx.doi.org/10.1016/j.molcel.2024.08.023\n",
      "2304522645.py - line 32 - INFO - Value found in source data: {'pxd054427', 'pxd055155', 'pxd054304', 'pxd054298', 'pxd054300'}\n",
      "2304522645.py - line 33 - INFO - Value found in merged data: {'pxd054427', 'pxd054304', 'pxd055155'}\n",
      "2304522645.py - line 37 - INFO - matching_ids: pxd054427,pxd055155,pxd054304,pxd054298,pxd054300\n",
      "2304522645.py - line 31 - INFO - Publication URL: https://dx.doi.org/10.1016/j.mcpro.2023.100584\n",
      "2304522645.py - line 32 - INFO - Value found in source data: {'pxd036648', 'pxd036593', 'pxd040732'}\n",
      "2304522645.py - line 33 - INFO - Value found in merged data: {'pxd036593', 'pxd040732'}\n",
      "2304522645.py - line 37 - INFO - matching_ids: pxd036648,pxd036593,pxd040732\n",
      "2304522645.py - line 31 - INFO - Publication URL: https://dx.doi.org/10.1038/s41586-021-03781-z\n",
      "2304522645.py - line 32 - INFO - Value found in source data: {'pxd024093', 'pxd024094', 'pxd024095', 'pxd024338', 'pxd024045', 'pxd025128'}\n",
      "2304522645.py - line 33 - INFO - Value found in merged data: {'pxd024095', 'pxd024094', 'pxd025128'}\n",
      "2304522645.py - line 37 - INFO - matching_ids: pxd024093,pxd024094,pxd024095,pxd024338,pxd024045,pxd025128\n",
      "2304522645.py - line 31 - INFO - Publication URL: https://dx.doi.org/10.1038/s41586-024-07141-5\n",
      "2304522645.py - line 32 - INFO - Value found in source data: {'pxd042826', 'pxd041835', 'pxd018966', 'pxd042210', 'pxd042368', 'pxd042224', 'pxd020773', 'pxd041443', 'pxd042390', 'pxd020712', 'pxd042823'}\n",
      "2304522645.py - line 33 - INFO - Value found in merged data: {'pxd042826', 'pxd018966', 'pxd042210', 'pxd042224', 'pxd042823'}\n",
      "2304522645.py - line 37 - INFO - matching_ids: pxd042826,pxd041835,pxd018966,pxd042210,pxd042368,pxd042224,pxd020773,pxd041443,pxd042390,pxd020712,pxd042823\n",
      "2304522645.py - line 31 - INFO - Publication URL: https://www.ncbi.nlm.nih.gov/pubmed/37083226\n",
      "2304522645.py - line 32 - INFO - Value found in source data: {'pxd034071', 'pxd034070', 'pxd034185'}\n",
      "2304522645.py - line 33 - INFO - Value found in merged data: {'pxd034071', 'pxd034185'}\n",
      "2304522645.py - line 37 - INFO - matching_ids: pxd034071,pxd034070,pxd034185\n",
      "2304522645.py - line 31 - INFO - Publication URL: https://www.ncbi.nlm.nih.gov/pubmed/37236440\n",
      "2304522645.py - line 32 - INFO - Value found in source data: {'pxd036648', 'pxd036593', 'pxd040732'}\n",
      "2304522645.py - line 33 - INFO - Value found in merged data: {'pxd036593', 'pxd040732'}\n",
      "2304522645.py - line 37 - INFO - matching_ids: pxd036648,pxd036593,pxd040732\n",
      "2304522645.py - line 31 - INFO - Publication URL: https://www.ncbi.nlm.nih.gov/pubmed/38448585\n",
      "2304522645.py - line 32 - INFO - Value found in source data: {'pxd042826', 'pxd041835', 'pxd018966', 'pxd042210', 'pxd042368', 'pxd042224', 'pxd020773', 'pxd041443', 'pxd042390', 'pxd020712', 'pxd042823'}\n",
      "2304522645.py - line 33 - INFO - Value found in merged data: {'pxd042826', 'pxd018966', 'pxd042210', 'pxd042224', 'pxd042823'}\n",
      "2304522645.py - line 37 - INFO - matching_ids: pxd042826,pxd041835,pxd018966,pxd042210,pxd042368,pxd042224,pxd020773,pxd041443,pxd042390,pxd020712,pxd042823\n",
      "2304522645.py - line 31 - INFO - Publication URL: https://www.ncbi.nlm.nih.gov/pubmed/34321666\n",
      "2304522645.py - line 32 - INFO - Value found in source data: {'pxd024093', 'pxd024094', 'pxd024095', 'pxd024338', 'pxd024045', 'pxd025128'}\n",
      "2304522645.py - line 33 - INFO - Value found in merged data: {'pxd024095', 'pxd024094', 'pxd025128'}\n",
      "2304522645.py - line 37 - INFO - matching_ids: pxd024093,pxd024094,pxd024095,pxd024338,pxd024045,pxd025128\n",
      "2304522645.py - line 31 - INFO - Publication URL: https://www.ncbi.nlm.nih.gov/pubmed/36472367\n",
      "2304522645.py - line 32 - INFO - Value found in source data: {'pxd035170', 'pxd032729', 'pxd034913'}\n",
      "2304522645.py - line 33 - INFO - Value found in merged data: {'pxd035170', 'pxd034913'}\n",
      "2304522645.py - line 37 - INFO - matching_ids: pxd035170,pxd032729,pxd034913\n",
      "2304522645.py - line 41 - INFO - Check completed. 2044 publications good. 10 errors found.\n"
     ]
    }
   ],
   "execution_count": 19
  },
  {
   "metadata": {
    "ExecuteTime": {
     "end_time": "2025-03-11T13:47:37.774230Z",
     "start_time": "2025-03-11T13:47:30.822997Z"
    }
   },
   "cell_type": "code",
   "source": "df_merged.to_parquet(output_file)",
   "id": "49e377d23de3af11",
   "outputs": [],
   "execution_count": 20
  }
 ],
 "metadata": {
  "kernelspec": {
   "display_name": "Python 3",
   "language": "python",
   "name": "python3"
  },
  "language_info": {
   "codemirror_mode": {
    "name": "ipython",
    "version": 2
   },
   "file_extension": ".py",
   "mimetype": "text/x-python",
   "name": "python",
   "nbconvert_exporter": "python",
   "pygments_lexer": "ipython2",
   "version": "2.7.6"
  }
 },
 "nbformat": 4,
 "nbformat_minor": 5
}
